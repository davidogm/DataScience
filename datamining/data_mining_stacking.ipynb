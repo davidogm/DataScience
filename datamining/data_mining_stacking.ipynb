{
  "nbformat": 4,
  "nbformat_minor": 0,
  "metadata": {
    "colab": {
      "provenance": [],
      "toc_visible": true,
      "include_colab_link": true
    },
    "kernelspec": {
      "name": "python3",
      "display_name": "Python 3"
    },
    "language_info": {
      "name": "python"
    }
  },
  "cells": [
    {
      "cell_type": "markdown",
      "metadata": {
        "id": "view-in-github",
        "colab_type": "text"
      },
      "source": [
        "<a href=\"https://colab.research.google.com/github/davidogm/DataScience/blob/main/datamining/data_mining_stacking.ipynb\" target=\"_parent\"><img src=\"https://colab.research.google.com/assets/colab-badge.svg\" alt=\"Open In Colab\"/></a>"
      ]
    },
    {
      "cell_type": "markdown",
      "metadata": {
        "id": "QAlQUSZ6kMeC"
      },
      "source": [
        "# Starting with stacking..."
      ]
    },
    {
      "cell_type": "markdown",
      "metadata": {
        "id": "9qijlKkFmXL4"
      },
      "source": [
        "## Previous steps"
      ]
    },
    {
      "cell_type": "markdown",
      "metadata": {
        "id": "aJ7hJ587vwxN"
      },
      "source": [
        "We import the Python libraries that we will need in this notebook\n"
      ]
    },
    {
      "cell_type": "code",
      "metadata": {
        "id": "yE7arcW2PZ2G"
      },
      "source": [
        "import pandas as pd\n",
        "import numpy as np\n",
        "import seaborn as sns\n",
        "from sklearn.preprocessing import StandardScaler\n",
        "from sklearn.model_selection import train_test_split\n",
        "from sklearn.tree import DecisionTreeClassifier\n",
        "from scipy import stats\n",
        "import random\n",
        "from typing import Optional\n",
        "import matplotlib.pyplot as plt\n",
        "import matplotlib as mpl\n",
        "from sklearn.tree import plot_tree"
      ],
      "execution_count": null,
      "outputs": []
    },
    {
      "cell_type": "markdown",
      "metadata": {
        "id": "RVpVJwYly__A"
      },
      "source": [
        "Auxiliary functions to show samples and boundaries. Extracted from https://geoffruddock.com/adaboost-from-scratch-in-python/"
      ]
    },
    {
      "cell_type": "code",
      "metadata": {
        "id": "8ktYci3LgkrO"
      },
      "source": [
        "def plot_sample_boundaries(X: np.ndarray,\n",
        "                  y: np.ndarray,\n",
        "                  clf=None,\n",
        "                  sample_weights: Optional[np.ndarray] = None,\n",
        "                  annotate: bool = False,\n",
        "                  ax: Optional[mpl.axes.Axes] = None) -> None:\n",
        "    \"\"\" Plot ± samples in 2D, optionally with decision boundary \"\"\"\n",
        "\n",
        "    assert set(y) == {-1, 1}, 'Expecting response labels to be ±1'\n",
        "\n",
        "    if not ax:\n",
        "        fig, ax = plt.subplots(figsize=(5, 5), dpi=100)\n",
        "        fig.set_facecolor('white')\n",
        "\n",
        "    pad = 1\n",
        "    x_min, x_max = X[:, 0].min() - pad, X[:, 0].max() + pad\n",
        "    y_min, y_max = X[:, 1].min() - pad, X[:, 1].max() + pad\n",
        "\n",
        "    if sample_weights is not None:\n",
        "        sizes = np.array(sample_weights) * X.shape[0] * 100\n",
        "    else:\n",
        "        sizes = np.ones(shape=X.shape[0]) * 100\n",
        "\n",
        "    X_pos = X[y == 1]\n",
        "    sizes_pos = sizes[y == 1]\n",
        "    ax.scatter(*X_pos.T, s=sizes_pos, marker='+', color='red')\n",
        "\n",
        "    X_neg = X[y == -1]\n",
        "    sizes_neg = sizes[y == -1]\n",
        "    ax.scatter(*X_neg.T, s=sizes_neg, marker='.', c='blue')\n",
        "\n",
        "    if clf:\n",
        "        plot_step = 0.01\n",
        "        xx, yy = np.meshgrid(np.arange(x_min, x_max, plot_step),\n",
        "                             np.arange(y_min, y_max, plot_step))\n",
        "\n",
        "        Z = clf.predict(np.c_[xx.ravel(), yy.ravel()])\n",
        "        Z = Z.reshape(xx.shape)\n",
        "\n",
        "        # If all predictions are positive class, adjust color map acordingly\n",
        "        if list(np.unique(Z)) == [1]:\n",
        "            fill_colors = ['r']\n",
        "        else:\n",
        "            fill_colors = ['b', 'r']\n",
        "\n",
        "        ax.contourf(xx, yy, Z, colors=fill_colors, alpha=0.2)\n",
        "\n",
        "    if annotate:\n",
        "        for i, (x, y) in enumerate(X):\n",
        "            offset = 0.05\n",
        "            ax.annotate(f'$x_{i + 1}$', (x + offset, y - offset))\n",
        "\n",
        "    ax.set_xlim(x_min+0.5, x_max-0.5)\n",
        "    ax.set_ylim(y_min+0.5, y_max-0.5)\n",
        "    ax.set_xlabel('$x_1$')\n",
        "    ax.set_ylabel('$x_2$')"
      ],
      "execution_count": null,
      "outputs": []
    },
    {
      "cell_type": "markdown",
      "metadata": {
        "id": "8EnBpQFengiJ"
      },
      "source": [
        "First of all, red wines features from the wine quality dataset are loaded  "
      ]
    },
    {
      "cell_type": "code",
      "metadata": {
        "id": "3lmXqL9XnfUO",
        "colab": {
          "base_uri": "https://localhost:8080/",
          "height": 221
        },
        "outputId": "1aded8f6-8602-4cb6-b5ac-dd30df82eba5"
      },
      "source": [
        "dataset_url = 'https://archive.ics.uci.edu/ml/machine-learning-databases/wine-quality/winequality-red.csv'\n",
        "wines_red = pd.read_csv(dataset_url, sep=';')\n",
        "wines_red['type']='red'\n",
        "wines_red.head()"
      ],
      "execution_count": null,
      "outputs": [
        {
          "output_type": "execute_result",
          "data": {
            "text/html": [
              "<div>\n",
              "<style scoped>\n",
              "    .dataframe tbody tr th:only-of-type {\n",
              "        vertical-align: middle;\n",
              "    }\n",
              "\n",
              "    .dataframe tbody tr th {\n",
              "        vertical-align: top;\n",
              "    }\n",
              "\n",
              "    .dataframe thead th {\n",
              "        text-align: right;\n",
              "    }\n",
              "</style>\n",
              "<table border=\"1\" class=\"dataframe\">\n",
              "  <thead>\n",
              "    <tr style=\"text-align: right;\">\n",
              "      <th></th>\n",
              "      <th>fixed acidity</th>\n",
              "      <th>volatile acidity</th>\n",
              "      <th>citric acid</th>\n",
              "      <th>residual sugar</th>\n",
              "      <th>chlorides</th>\n",
              "      <th>free sulfur dioxide</th>\n",
              "      <th>total sulfur dioxide</th>\n",
              "      <th>density</th>\n",
              "      <th>pH</th>\n",
              "      <th>sulphates</th>\n",
              "      <th>alcohol</th>\n",
              "      <th>quality</th>\n",
              "      <th>type</th>\n",
              "    </tr>\n",
              "  </thead>\n",
              "  <tbody>\n",
              "    <tr>\n",
              "      <th>0</th>\n",
              "      <td>7.4</td>\n",
              "      <td>0.70</td>\n",
              "      <td>0.00</td>\n",
              "      <td>1.9</td>\n",
              "      <td>0.076</td>\n",
              "      <td>11.0</td>\n",
              "      <td>34.0</td>\n",
              "      <td>0.9978</td>\n",
              "      <td>3.51</td>\n",
              "      <td>0.56</td>\n",
              "      <td>9.4</td>\n",
              "      <td>5</td>\n",
              "      <td>red</td>\n",
              "    </tr>\n",
              "    <tr>\n",
              "      <th>1</th>\n",
              "      <td>7.8</td>\n",
              "      <td>0.88</td>\n",
              "      <td>0.00</td>\n",
              "      <td>2.6</td>\n",
              "      <td>0.098</td>\n",
              "      <td>25.0</td>\n",
              "      <td>67.0</td>\n",
              "      <td>0.9968</td>\n",
              "      <td>3.20</td>\n",
              "      <td>0.68</td>\n",
              "      <td>9.8</td>\n",
              "      <td>5</td>\n",
              "      <td>red</td>\n",
              "    </tr>\n",
              "    <tr>\n",
              "      <th>2</th>\n",
              "      <td>7.8</td>\n",
              "      <td>0.76</td>\n",
              "      <td>0.04</td>\n",
              "      <td>2.3</td>\n",
              "      <td>0.092</td>\n",
              "      <td>15.0</td>\n",
              "      <td>54.0</td>\n",
              "      <td>0.9970</td>\n",
              "      <td>3.26</td>\n",
              "      <td>0.65</td>\n",
              "      <td>9.8</td>\n",
              "      <td>5</td>\n",
              "      <td>red</td>\n",
              "    </tr>\n",
              "    <tr>\n",
              "      <th>3</th>\n",
              "      <td>11.2</td>\n",
              "      <td>0.28</td>\n",
              "      <td>0.56</td>\n",
              "      <td>1.9</td>\n",
              "      <td>0.075</td>\n",
              "      <td>17.0</td>\n",
              "      <td>60.0</td>\n",
              "      <td>0.9980</td>\n",
              "      <td>3.16</td>\n",
              "      <td>0.58</td>\n",
              "      <td>9.8</td>\n",
              "      <td>6</td>\n",
              "      <td>red</td>\n",
              "    </tr>\n",
              "    <tr>\n",
              "      <th>4</th>\n",
              "      <td>7.4</td>\n",
              "      <td>0.70</td>\n",
              "      <td>0.00</td>\n",
              "      <td>1.9</td>\n",
              "      <td>0.076</td>\n",
              "      <td>11.0</td>\n",
              "      <td>34.0</td>\n",
              "      <td>0.9978</td>\n",
              "      <td>3.51</td>\n",
              "      <td>0.56</td>\n",
              "      <td>9.4</td>\n",
              "      <td>5</td>\n",
              "      <td>red</td>\n",
              "    </tr>\n",
              "  </tbody>\n",
              "</table>\n",
              "</div>"
            ],
            "text/plain": [
              "   fixed acidity  volatile acidity  citric acid  ...  alcohol  quality  type\n",
              "0            7.4              0.70         0.00  ...      9.4        5   red\n",
              "1            7.8              0.88         0.00  ...      9.8        5   red\n",
              "2            7.8              0.76         0.04  ...      9.8        5   red\n",
              "3           11.2              0.28         0.56  ...      9.8        6   red\n",
              "4            7.4              0.70         0.00  ...      9.4        5   red\n",
              "\n",
              "[5 rows x 13 columns]"
            ]
          },
          "metadata": {
            "tags": []
          },
          "execution_count": 39
        }
      ]
    },
    {
      "cell_type": "markdown",
      "metadata": {
        "id": "2FKls7I4n8hG"
      },
      "source": [
        "Now, it's the turn for the white wines..."
      ]
    },
    {
      "cell_type": "code",
      "metadata": {
        "id": "VhQeum4RXbBX",
        "colab": {
          "base_uri": "https://localhost:8080/",
          "height": 221
        },
        "outputId": "fdf941ba-d59b-4814-9635-fecd40940cd6"
      },
      "source": [
        "dataset_url = 'https://archive.ics.uci.edu/ml/machine-learning-databases/wine-quality/winequality-white.csv'\n",
        "wines_white = pd.read_csv(dataset_url, sep=';')\n",
        "wines_white['type']='white'\n",
        "wines_white.head()\n"
      ],
      "execution_count": null,
      "outputs": [
        {
          "output_type": "execute_result",
          "data": {
            "text/html": [
              "<div>\n",
              "<style scoped>\n",
              "    .dataframe tbody tr th:only-of-type {\n",
              "        vertical-align: middle;\n",
              "    }\n",
              "\n",
              "    .dataframe tbody tr th {\n",
              "        vertical-align: top;\n",
              "    }\n",
              "\n",
              "    .dataframe thead th {\n",
              "        text-align: right;\n",
              "    }\n",
              "</style>\n",
              "<table border=\"1\" class=\"dataframe\">\n",
              "  <thead>\n",
              "    <tr style=\"text-align: right;\">\n",
              "      <th></th>\n",
              "      <th>fixed acidity</th>\n",
              "      <th>volatile acidity</th>\n",
              "      <th>citric acid</th>\n",
              "      <th>residual sugar</th>\n",
              "      <th>chlorides</th>\n",
              "      <th>free sulfur dioxide</th>\n",
              "      <th>total sulfur dioxide</th>\n",
              "      <th>density</th>\n",
              "      <th>pH</th>\n",
              "      <th>sulphates</th>\n",
              "      <th>alcohol</th>\n",
              "      <th>quality</th>\n",
              "      <th>type</th>\n",
              "    </tr>\n",
              "  </thead>\n",
              "  <tbody>\n",
              "    <tr>\n",
              "      <th>0</th>\n",
              "      <td>7.0</td>\n",
              "      <td>0.27</td>\n",
              "      <td>0.36</td>\n",
              "      <td>20.7</td>\n",
              "      <td>0.045</td>\n",
              "      <td>45.0</td>\n",
              "      <td>170.0</td>\n",
              "      <td>1.0010</td>\n",
              "      <td>3.00</td>\n",
              "      <td>0.45</td>\n",
              "      <td>8.8</td>\n",
              "      <td>6</td>\n",
              "      <td>white</td>\n",
              "    </tr>\n",
              "    <tr>\n",
              "      <th>1</th>\n",
              "      <td>6.3</td>\n",
              "      <td>0.30</td>\n",
              "      <td>0.34</td>\n",
              "      <td>1.6</td>\n",
              "      <td>0.049</td>\n",
              "      <td>14.0</td>\n",
              "      <td>132.0</td>\n",
              "      <td>0.9940</td>\n",
              "      <td>3.30</td>\n",
              "      <td>0.49</td>\n",
              "      <td>9.5</td>\n",
              "      <td>6</td>\n",
              "      <td>white</td>\n",
              "    </tr>\n",
              "    <tr>\n",
              "      <th>2</th>\n",
              "      <td>8.1</td>\n",
              "      <td>0.28</td>\n",
              "      <td>0.40</td>\n",
              "      <td>6.9</td>\n",
              "      <td>0.050</td>\n",
              "      <td>30.0</td>\n",
              "      <td>97.0</td>\n",
              "      <td>0.9951</td>\n",
              "      <td>3.26</td>\n",
              "      <td>0.44</td>\n",
              "      <td>10.1</td>\n",
              "      <td>6</td>\n",
              "      <td>white</td>\n",
              "    </tr>\n",
              "    <tr>\n",
              "      <th>3</th>\n",
              "      <td>7.2</td>\n",
              "      <td>0.23</td>\n",
              "      <td>0.32</td>\n",
              "      <td>8.5</td>\n",
              "      <td>0.058</td>\n",
              "      <td>47.0</td>\n",
              "      <td>186.0</td>\n",
              "      <td>0.9956</td>\n",
              "      <td>3.19</td>\n",
              "      <td>0.40</td>\n",
              "      <td>9.9</td>\n",
              "      <td>6</td>\n",
              "      <td>white</td>\n",
              "    </tr>\n",
              "    <tr>\n",
              "      <th>4</th>\n",
              "      <td>7.2</td>\n",
              "      <td>0.23</td>\n",
              "      <td>0.32</td>\n",
              "      <td>8.5</td>\n",
              "      <td>0.058</td>\n",
              "      <td>47.0</td>\n",
              "      <td>186.0</td>\n",
              "      <td>0.9956</td>\n",
              "      <td>3.19</td>\n",
              "      <td>0.40</td>\n",
              "      <td>9.9</td>\n",
              "      <td>6</td>\n",
              "      <td>white</td>\n",
              "    </tr>\n",
              "  </tbody>\n",
              "</table>\n",
              "</div>"
            ],
            "text/plain": [
              "   fixed acidity  volatile acidity  citric acid  ...  alcohol  quality   type\n",
              "0            7.0              0.27         0.36  ...      8.8        6  white\n",
              "1            6.3              0.30         0.34  ...      9.5        6  white\n",
              "2            8.1              0.28         0.40  ...     10.1        6  white\n",
              "3            7.2              0.23         0.32  ...      9.9        6  white\n",
              "4            7.2              0.23         0.32  ...      9.9        6  white\n",
              "\n",
              "[5 rows x 13 columns]"
            ]
          },
          "metadata": {
            "tags": []
          },
          "execution_count": 40
        }
      ]
    },
    {
      "cell_type": "markdown",
      "metadata": {
        "id": "U8Ie_KMDXjZ_"
      },
      "source": [
        "Finally, we merge both to create the Wine dataset\n"
      ]
    },
    {
      "cell_type": "code",
      "metadata": {
        "id": "i0CHRbpSXlB1",
        "colab": {
          "base_uri": "https://localhost:8080/"
        },
        "outputId": "486ff760-fe97-48e2-8346-12d4e7a76bfb"
      },
      "source": [
        "wines = pd.concat([wines_red, wines_white],ignore_index=True)\n",
        "wines.head"
      ],
      "execution_count": null,
      "outputs": [
        {
          "output_type": "execute_result",
          "data": {
            "text/plain": [
              "<bound method NDFrame.head of       fixed acidity  volatile acidity  citric acid  ...  alcohol  quality   type\n",
              "0               7.4              0.70         0.00  ...      9.4        5    red\n",
              "1               7.8              0.88         0.00  ...      9.8        5    red\n",
              "2               7.8              0.76         0.04  ...      9.8        5    red\n",
              "3              11.2              0.28         0.56  ...      9.8        6    red\n",
              "4               7.4              0.70         0.00  ...      9.4        5    red\n",
              "...             ...               ...          ...  ...      ...      ...    ...\n",
              "6492            6.2              0.21         0.29  ...     11.2        6  white\n",
              "6493            6.6              0.32         0.36  ...      9.6        5  white\n",
              "6494            6.5              0.24         0.19  ...      9.4        6  white\n",
              "6495            5.5              0.29         0.30  ...     12.8        7  white\n",
              "6496            6.0              0.21         0.38  ...     11.8        6  white\n",
              "\n",
              "[6497 rows x 13 columns]>"
            ]
          },
          "metadata": {
            "tags": []
          },
          "execution_count": 41
        }
      ]
    },
    {
      "cell_type": "markdown",
      "metadata": {
        "id": "SZBgRDXavaPA"
      },
      "source": [
        "## Preparing the dataset"
      ]
    },
    {
      "cell_type": "markdown",
      "metadata": {
        "id": "cBG6iAbDWJSB"
      },
      "source": [
        "We create the *quality_label* based on the quality score according to:\n",
        "\n",
        "*   Low for less or equal to 5\n",
        "*   Medium between 6 and 7\n",
        "*   High for more than 7\n",
        "\n",
        "Moreover, the *quality_binary* label is created to explain visually the bagging method\n",
        "\n"
      ]
    },
    {
      "cell_type": "code",
      "metadata": {
        "id": "CFNmoNiqPsIW",
        "colab": {
          "base_uri": "https://localhost:8080/",
          "height": 238
        },
        "outputId": "fd9a16d1-787e-41ce-bb6b-96d6d098b0bd"
      },
      "source": [
        "wines['quality_label'] = wines.quality.apply(lambda q: 'low' if q <= 5 else 'medium' if q <= 7 else 'high')\n",
        "wines['quality_binary'] = wines.quality.apply(lambda q: -1 if q <= 5 else 1 if q > 7 else 0)\n",
        "wines.head()"
      ],
      "execution_count": null,
      "outputs": [
        {
          "output_type": "execute_result",
          "data": {
            "text/html": [
              "<div>\n",
              "<style scoped>\n",
              "    .dataframe tbody tr th:only-of-type {\n",
              "        vertical-align: middle;\n",
              "    }\n",
              "\n",
              "    .dataframe tbody tr th {\n",
              "        vertical-align: top;\n",
              "    }\n",
              "\n",
              "    .dataframe thead th {\n",
              "        text-align: right;\n",
              "    }\n",
              "</style>\n",
              "<table border=\"1\" class=\"dataframe\">\n",
              "  <thead>\n",
              "    <tr style=\"text-align: right;\">\n",
              "      <th></th>\n",
              "      <th>fixed acidity</th>\n",
              "      <th>volatile acidity</th>\n",
              "      <th>citric acid</th>\n",
              "      <th>residual sugar</th>\n",
              "      <th>chlorides</th>\n",
              "      <th>free sulfur dioxide</th>\n",
              "      <th>total sulfur dioxide</th>\n",
              "      <th>density</th>\n",
              "      <th>pH</th>\n",
              "      <th>sulphates</th>\n",
              "      <th>alcohol</th>\n",
              "      <th>quality</th>\n",
              "      <th>type</th>\n",
              "      <th>quality_label</th>\n",
              "      <th>quality_binary</th>\n",
              "    </tr>\n",
              "  </thead>\n",
              "  <tbody>\n",
              "    <tr>\n",
              "      <th>0</th>\n",
              "      <td>7.4</td>\n",
              "      <td>0.70</td>\n",
              "      <td>0.00</td>\n",
              "      <td>1.9</td>\n",
              "      <td>0.076</td>\n",
              "      <td>11.0</td>\n",
              "      <td>34.0</td>\n",
              "      <td>0.9978</td>\n",
              "      <td>3.51</td>\n",
              "      <td>0.56</td>\n",
              "      <td>9.4</td>\n",
              "      <td>5</td>\n",
              "      <td>red</td>\n",
              "      <td>low</td>\n",
              "      <td>-1</td>\n",
              "    </tr>\n",
              "    <tr>\n",
              "      <th>1</th>\n",
              "      <td>7.8</td>\n",
              "      <td>0.88</td>\n",
              "      <td>0.00</td>\n",
              "      <td>2.6</td>\n",
              "      <td>0.098</td>\n",
              "      <td>25.0</td>\n",
              "      <td>67.0</td>\n",
              "      <td>0.9968</td>\n",
              "      <td>3.20</td>\n",
              "      <td>0.68</td>\n",
              "      <td>9.8</td>\n",
              "      <td>5</td>\n",
              "      <td>red</td>\n",
              "      <td>low</td>\n",
              "      <td>-1</td>\n",
              "    </tr>\n",
              "    <tr>\n",
              "      <th>2</th>\n",
              "      <td>7.8</td>\n",
              "      <td>0.76</td>\n",
              "      <td>0.04</td>\n",
              "      <td>2.3</td>\n",
              "      <td>0.092</td>\n",
              "      <td>15.0</td>\n",
              "      <td>54.0</td>\n",
              "      <td>0.9970</td>\n",
              "      <td>3.26</td>\n",
              "      <td>0.65</td>\n",
              "      <td>9.8</td>\n",
              "      <td>5</td>\n",
              "      <td>red</td>\n",
              "      <td>low</td>\n",
              "      <td>-1</td>\n",
              "    </tr>\n",
              "    <tr>\n",
              "      <th>3</th>\n",
              "      <td>11.2</td>\n",
              "      <td>0.28</td>\n",
              "      <td>0.56</td>\n",
              "      <td>1.9</td>\n",
              "      <td>0.075</td>\n",
              "      <td>17.0</td>\n",
              "      <td>60.0</td>\n",
              "      <td>0.9980</td>\n",
              "      <td>3.16</td>\n",
              "      <td>0.58</td>\n",
              "      <td>9.8</td>\n",
              "      <td>6</td>\n",
              "      <td>red</td>\n",
              "      <td>medium</td>\n",
              "      <td>0</td>\n",
              "    </tr>\n",
              "    <tr>\n",
              "      <th>4</th>\n",
              "      <td>7.4</td>\n",
              "      <td>0.70</td>\n",
              "      <td>0.00</td>\n",
              "      <td>1.9</td>\n",
              "      <td>0.076</td>\n",
              "      <td>11.0</td>\n",
              "      <td>34.0</td>\n",
              "      <td>0.9978</td>\n",
              "      <td>3.51</td>\n",
              "      <td>0.56</td>\n",
              "      <td>9.4</td>\n",
              "      <td>5</td>\n",
              "      <td>red</td>\n",
              "      <td>low</td>\n",
              "      <td>-1</td>\n",
              "    </tr>\n",
              "  </tbody>\n",
              "</table>\n",
              "</div>"
            ],
            "text/plain": [
              "   fixed acidity  volatile acidity  ...  quality_label  quality_binary\n",
              "0            7.4              0.70  ...            low              -1\n",
              "1            7.8              0.88  ...            low              -1\n",
              "2            7.8              0.76  ...            low              -1\n",
              "3           11.2              0.28  ...         medium               0\n",
              "4            7.4              0.70  ...            low              -1\n",
              "\n",
              "[5 rows x 15 columns]"
            ]
          },
          "metadata": {
            "tags": []
          },
          "execution_count": 42
        }
      ]
    },
    {
      "cell_type": "markdown",
      "metadata": {
        "id": "TshcRUKwrQ0G"
      },
      "source": [
        "*Nan* data is deleted and number of samples per quality are shown"
      ]
    },
    {
      "cell_type": "code",
      "metadata": {
        "id": "TPN2Q94dQhEV",
        "colab": {
          "base_uri": "https://localhost:8080/"
        },
        "outputId": "080040ca-13ae-46bc-d891-b91771a4160d"
      },
      "source": [
        "wines.dropna().quality_label.value_counts()"
      ],
      "execution_count": null,
      "outputs": [
        {
          "output_type": "execute_result",
          "data": {
            "text/plain": [
              "medium    3915\n",
              "low       2384\n",
              "high       198\n",
              "Name: quality_label, dtype: int64"
            ]
          },
          "metadata": {
            "tags": []
          },
          "execution_count": 43
        }
      ]
    },
    {
      "cell_type": "markdown",
      "metadata": {
        "id": "2-N3kiNCtJ09"
      },
      "source": [
        "In order to conveniently illustrate the techniques, we will proceed to simplify the dataset. For this purpose, we are only interested in samples with high and low wine quality, eliminating those of medium level. In addition, we keep only the *volatile_acidity* and *alcohol* characteristics to form a two-dimensional input space."
      ]
    },
    {
      "cell_type": "code",
      "metadata": {
        "id": "l8drimixa__8",
        "colab": {
          "base_uri": "https://localhost:8080/",
          "height": 296
        },
        "outputId": "b11cc180-16d6-4ea9-c1b7-ce0ffa55991b"
      },
      "source": [
        "wines_binary = wines.drop(wines[wines.quality_binary == 0].index)\n",
        "sns.scatterplot(data=wines_binary,x=\"volatile acidity\",y=\"alcohol\",hue=wines_binary['quality_label'])"
      ],
      "execution_count": null,
      "outputs": [
        {
          "output_type": "execute_result",
          "data": {
            "text/plain": [
              "<matplotlib.axes._subplots.AxesSubplot at 0x7f605f829bd0>"
            ]
          },
          "metadata": {
            "tags": []
          },
          "execution_count": 44
        },
        {
          "output_type": "display_data",
          "data": {
            "image/png": "[encoded data removed]",
            "text/plain": [
              "<Figure size 432x288 with 1 Axes>"
            ]
          },
          "metadata": {
            "tags": [],
            "needs_background": "light"
          }
        }
      ]
    },
    {
      "cell_type": "markdown",
      "metadata": {
        "id": "kHmgcCxPnQe1"
      },
      "source": [
        "Since there are many more low quality samples, we will balance the dataset by keeping very few samples of both."
      ]
    },
    {
      "cell_type": "code",
      "metadata": {
        "id": "qw3JIK4wnVAS",
        "colab": {
          "base_uri": "https://localhost:8080/",
          "height": 296
        },
        "outputId": "d5f13242-9d12-42e4-e2c8-a7d8f35ef0df"
      },
      "source": [
        "g = wines_binary.groupby('quality_binary')\n",
        "wines_binary_balanced = g.apply(lambda x: x.sample(int(g.size().min()/5),random_state=9).reset_index(drop=True))\n",
        "sns.scatterplot(data=wines_binary_balanced,x=\"volatile acidity\",y=\"alcohol\",hue=wines_binary_balanced['quality_label'])"
      ],
      "execution_count": null,
      "outputs": [
        {
          "output_type": "execute_result",
          "data": {
            "text/plain": [
              "<matplotlib.axes._subplots.AxesSubplot at 0x7f605f8885d0>"
            ]
          },
          "metadata": {
            "tags": []
          },
          "execution_count": 45
        },
        {
          "output_type": "display_data",
          "data": {
            "image/png": "[encoded data removed]",
            "text/plain": [
              "<Figure size 432x288 with 1 Axes>"
            ]
          },
          "metadata": {
            "tags": [],
            "needs_background": "light"
          }
        }
      ]
    },
    {
      "cell_type": "markdown",
      "metadata": {
        "id": "tz5ha5MFwRo5"
      },
      "source": [
        "Finally, we scale the data..."
      ]
    },
    {
      "cell_type": "code",
      "metadata": {
        "id": "giNTmu3DbiKK"
      },
      "source": [
        "X=wines_binary_balanced[[\"volatile acidity\", \"alcohol\"]]\n",
        "y=wines_binary_balanced['quality_binary'].to_numpy()\n",
        "\n",
        "sc = StandardScaler()\n",
        "sc.fit(X)\n",
        "X_scaled = pd.DataFrame(sc.transform(X),columns = X.columns)"
      ],
      "execution_count": null,
      "outputs": []
    },
    {
      "cell_type": "markdown",
      "metadata": {
        "id": "ZxrZCrph1kRz"
      },
      "source": [
        "## Very simple with **scikit-learn**"
      ]
    },
    {
      "cell_type": "code",
      "metadata": {
        "id": "x797dejmoOIo"
      },
      "source": [
        "from sklearn.linear_model import LogisticRegression\n",
        "from sklearn.neighbors import KNeighborsClassifier\n",
        "from sklearn.tree import DecisionTreeClassifier\n",
        "from sklearn.svm import SVC\n",
        "from sklearn.ensemble import StackingClassifier\n",
        "\n",
        "# define the base models\n",
        "base_models = list()\n",
        "base_models.append(('knn', KNeighborsClassifier(n_neighbors=3)))\n",
        "base_models.append(('cart', DecisionTreeClassifier()))\n",
        "base_models.append(('svm', SVC()))\n",
        "base_models.append(('lr', LogisticRegression()))\n",
        "\n",
        "# define meta learner model\n",
        "meta_learner = LogisticRegression()\n",
        "\n",
        "# define the stacking ensemble\n",
        "stacking = StackingClassifier(estimators=base_models, final_estimator=meta_learner, cv=5)\n"
      ],
      "execution_count": null,
      "outputs": []
    },
    {
      "cell_type": "code",
      "metadata": {
        "id": "_aDesZrkowJP",
        "colab": {
          "base_uri": "https://localhost:8080/",
          "height": 475
        },
        "outputId": "ec0b3481-248f-4ad1-cef4-702145663938"
      },
      "source": [
        "clf = stacking.fit(X_scaled.to_numpy(), y)\n",
        "plot_sample_boundaries(X_scaled.to_numpy(), y, clf)\n",
        "\n",
        "train_err = (clf.predict(X_scaled.to_numpy()) != y).mean()\n",
        "print(f'Train error: {train_err:.1%}')"
      ],
      "execution_count": null,
      "outputs": [
        {
          "output_type": "stream",
          "text": [
            "Train error: 2.6%\n"
          ],
          "name": "stdout"
        },
        {
          "output_type": "display_data",
          "data": {
            "image/png": "[encoded data removed]",
            "text/plain": [
              "<Figure size 500x500 with 1 Axes>"
            ]
          },
          "metadata": {
            "tags": []
          }
        }
      ]
    },
    {
      "cell_type": "markdown",
      "metadata": {
        "id": "PwkkRdLLkaWX"
      },
      "source": [
        "# Referencias\n",
        "\n",
        "\n",
        "*   [Machine Learning in Python: Essential Techniques for Predictive Analysis, Michael Bowles](https://www.wiley.com/en-us/Machine+Learning+in+Python%3A+Essential+Techniques+for+Predictive+Analysis-p-9781118961742)\n",
        "*   [Wines dataset](https://www.kaggle.com/mgmarques/wines-type-and-quality-classification-exercises)\n",
        "*   [Functions to show data space and boundaries](https://geoffruddock.com/adaboost-from-scratch-in-python/)"
      ]
    }
  ]
}