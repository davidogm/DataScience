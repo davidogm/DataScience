{
  "nbformat": 4,
  "nbformat_minor": 0,
  "metadata": {
    "colab": {
      "provenance": [],
      "toc_visible": true,
      "include_colab_link": true
    },
    "kernelspec": {
      "name": "python3",
      "display_name": "Python 3"
    },
    "language_info": {
      "name": "python"
    }
  },
  "cells": [
    {
      "cell_type": "markdown",
      "metadata": {
        "id": "view-in-github",
        "colab_type": "text"
      },
      "source": [
        "<a href=\"https://colab.research.google.com/github/davidogm/DataScience/blob/main/datamining/exercices_ensembles.ipynb\" target=\"_parent\"><img src=\"https://colab.research.google.com/assets/colab-badge.svg\" alt=\"Open In Colab\"/></a>"
      ]
    },
    {
      "cell_type": "markdown",
      "metadata": {
        "id": "8hKRMnQMtUSo"
      },
      "source": [
        "**2.** Use other models in the assembly for `Bagging` and  `Adaboost` . Recalculate the plots."
      ]
    },
    {
      "cell_type": "code",
      "metadata": {
        "id": "s73pm3g2tUSr"
      },
      "source": [],
      "execution_count": null,
      "outputs": []
    },
    {
      "cell_type": "markdown",
      "metadata": {
        "id": "EAc7PzE570oU"
      },
      "source": [
        "# Ensemble exercices"
      ]
    },
    {
      "cell_type": "markdown",
      "metadata": {
        "id": "2ClqwY_68D6R"
      },
      "source": [
        "In this notebook we will perform exercises on different ensemble methods that will allow us to reach conclusions about their advantages and disadvantages."
      ]
    },
    {
      "cell_type": "markdown",
      "metadata": {
        "id": "9qijlKkFmXL4"
      },
      "source": [
        "## Previous steps"
      ]
    },
    {
      "cell_type": "markdown",
      "metadata": {
        "id": "aJ7hJ587vwxN"
      },
      "source": [
        "We import the Python libraries that we will need in this notebook\n"
      ]
    },
    {
      "cell_type": "code",
      "metadata": {
        "id": "yE7arcW2PZ2G"
      },
      "source": [
        "import pandas as pd\n",
        "import numpy as np\n",
        "import seaborn as sns\n",
        "from sklearn.preprocessing import StandardScaler\n",
        "from sklearn.model_selection import train_test_split\n",
        "from sklearn.tree import DecisionTreeClassifier\n",
        "from scipy import stats\n",
        "import random\n",
        "from typing import Optional\n",
        "import matplotlib.pyplot as plt\n",
        "import matplotlib as mpl\n",
        "from sklearn.tree import plot_tree\n",
        "import time"
      ],
      "execution_count": null,
      "outputs": []
    },
    {
      "cell_type": "markdown",
      "metadata": {
        "id": "8EnBpQFengiJ"
      },
      "source": [
        "First of all, red wines features from the wine quality dataset are loaded  "
      ]
    },
    {
      "cell_type": "code",
      "metadata": {
        "id": "3lmXqL9XnfUO"
      },
      "source": [
        "dataset_url = 'https://archive.ics.uci.edu/ml/machine-learning-databases/wine-quality/winequality-red.csv'\n",
        "wines_red = pd.read_csv(dataset_url, sep=';')\n",
        "wines_red['type']='red'\n",
        "wines_red.head()"
      ],
      "execution_count": null,
      "outputs": []
    },
    {
      "cell_type": "markdown",
      "metadata": {
        "id": "2FKls7I4n8hG"
      },
      "source": [
        "Now, it's the turn for the white wines..."
      ]
    },
    {
      "cell_type": "code",
      "metadata": {
        "id": "VhQeum4RXbBX"
      },
      "source": [
        "dataset_url = 'https://archive.ics.uci.edu/ml/machine-learning-databases/wine-quality/winequality-white.csv'\n",
        "wines_white = pd.read_csv(dataset_url, sep=';')\n",
        "wines_white['type']='white'\n",
        "wines_white.head()\n"
      ],
      "execution_count": null,
      "outputs": []
    },
    {
      "cell_type": "markdown",
      "metadata": {
        "id": "U8Ie_KMDXjZ_"
      },
      "source": [
        "Finally, we merge both to create the Wine dataset\n"
      ]
    },
    {
      "cell_type": "code",
      "metadata": {
        "id": "i0CHRbpSXlB1"
      },
      "source": [
        "wines = pd.concat([wines_red, wines_white],ignore_index=True)\n",
        "wines.head"
      ],
      "execution_count": null,
      "outputs": []
    },
    {
      "cell_type": "markdown",
      "metadata": {
        "id": "SZBgRDXavaPA"
      },
      "source": [
        "## Preparing the dataset"
      ]
    },
    {
      "cell_type": "markdown",
      "metadata": {
        "id": "cBG6iAbDWJSB"
      },
      "source": [
        "We create the *quality_label* based on the quality score according to:\n",
        "\n",
        "*   Low for less or equal to 5\n",
        "*   Medium between 6 and 7\n",
        "*   High for more than 7"
      ]
    },
    {
      "cell_type": "code",
      "metadata": {
        "id": "CFNmoNiqPsIW"
      },
      "source": [
        "wines['quality_label'] = wines.quality.apply(lambda q: 'low' if q <= 5 else 'medium' if q <= 7 else 'high')\n",
        "wines.head()"
      ],
      "execution_count": null,
      "outputs": []
    },
    {
      "cell_type": "markdown",
      "metadata": {
        "id": "TshcRUKwrQ0G"
      },
      "source": [
        "*Nan* data is deleted and number of samples per quality are shown"
      ]
    },
    {
      "cell_type": "code",
      "metadata": {
        "id": "TPN2Q94dQhEV"
      },
      "source": [
        "wines.dropna().quality_label.value_counts()"
      ],
      "execution_count": null,
      "outputs": []
    },
    {
      "cell_type": "markdown",
      "metadata": {
        "id": "ZXm5yFZfAhOO"
      },
      "source": [
        "Next, categorical data is mapped to numeric data"
      ]
    },
    {
      "cell_type": "code",
      "metadata": {
        "id": "Uek5AWWMC2tU"
      },
      "source": [
        "wines['Type']=df['Type'].map({'red':0,'white':0})\n",
        "wines['quality_label']=df['quality_label'].map({'low':0,'medium':1,'high':2})"
      ],
      "execution_count": null,
      "outputs": []
    },
    {
      "cell_type": "markdown",
      "metadata": {
        "id": "9HhIStdkDSQd"
      },
      "source": [
        "## Exercises"
      ]
    },
    {
      "cell_type": "markdown",
      "metadata": {
        "id": "IziYkvF-DlQj"
      },
      "source": [
        "Using the `BaggingClassifier(...)`,  `RandomForestClassifier(...)` and the `AdaBoostClassifier(...)`  methods from the [ScikiLearn](https://scikit-learn.org/stable/modules/classes.html#module-sklearn.ensemble). Compare the performance and time to analyze the data."
      ]
    },
    {
      "cell_type": "markdown",
      "metadata": {
        "id": "AOMBfWFrJxtu"
      },
      "source": [
        "**1.** Using `DecisionTreeClassifier` with `max_depth=1`, generate (a/several) graph comparing number of models used in the ensemble versus time, accuracy and precision\n",
        "\n"
      ]
    },
    {
      "cell_type": "code",
      "metadata": {
        "id": "wpyKbfUJDi9T"
      },
      "source": [],
      "execution_count": null,
      "outputs": []
    },
    {
      "cell_type": "markdown",
      "metadata": {
        "id": "_xAcXaV7YaFZ"
      },
      "source": [
        "**2.** Repeat the process, of the previous exercise chnaging the depth or the trees (1, 3, 5, 7 and 9)"
      ]
    },
    {
      "cell_type": "code",
      "metadata": {
        "id": "ciARknFftZpE"
      },
      "source": [],
      "execution_count": null,
      "outputs": []
    },
    {
      "cell_type": "markdown",
      "metadata": {
        "id": "tfk0zFvrtZpE"
      },
      "source": [
        "**3.** Use other models in the assembly for `Bagging` and  `Adaboost` and generate a `StackingClassifier()` with the same models to calculate the accuracy and precision using a 10-fold cross validation. Also, take into account the inference time to compare the models"
      ]
    },
    {
      "cell_type": "code",
      "metadata": {
        "id": "gIwMSeozatpG"
      },
      "source": [],
      "execution_count": null,
      "outputs": []
    },
    {
      "cell_type": "markdown",
      "metadata": {
        "id": "ndOSaidBNSdR"
      },
      "source": [
        "**4.** What conclusions can be drawn from the above plots?"
      ]
    },
    {
      "cell_type": "markdown",
      "metadata": {
        "id": "4DfQ-i6tNtc5"
      },
      "source": []
    }
  ]
}