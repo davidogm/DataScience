{
  "nbformat": 4,
  "nbformat_minor": 0,
  "metadata": {
    "colab": {
      "name": "08_ClasificadorImagenes.ipynb",
      "provenance": [],
      "collapsed_sections": [],
      "authorship_tag": "ABX9TyPCzY4oaVN3pZipqe7j31ZK",
      "include_colab_link": true
    },
    "kernelspec": {
      "name": "python3",
      "display_name": "Python 3"
    },
    "language_info": {
      "name": "python"
    }
  },
  "cells": [
    {
      "cell_type": "markdown",
      "metadata": {
        "id": "view-in-github",
        "colab_type": "text"
      },
      "source": [
        "<a href=\"https://colab.research.google.com/github/davidogm/DataScience/blob/main/MCSO/notebooks/08_ClasificadorImagenes.ipynb\" target=\"_parent\"><img src=\"https://colab.research.google.com/assets/colab-badge.svg\" alt=\"Open In Colab\"/></a>"
      ]
    },
    {
      "cell_type": "markdown",
      "metadata": {
        "id": "Ra0r5wX5aPSr"
      },
      "source": [
        "## CNN como clasificador del dataset MNIST"
      ]
    },
    {
      "cell_type": "code",
      "metadata": {
        "id": "f5zPQ8JPaPSu"
      },
      "source": [
        "# importarmos las librerías necesarias\n",
        "\n",
        "import tensorflow as tf\n",
        "import pandas as pd\n",
        "import numpy as np\n",
        "import matplotlib.pyplot as plt\n",
        "%matplotlib inline\n",
        "\n",
        "from tensorflow.keras.models import Sequential\n",
        "from tensorflow.keras.layers import Dense, Flatten, Conv2D, MaxPooling2D\n"
      ],
      "execution_count": null,
      "outputs": []
    },
    {
      "cell_type": "markdown",
      "metadata": {
        "id": "xXH4k3KIaPSv"
      },
      "source": [
        "\n",
        "\n",
        "#### The MNIST dataset\n",
        "\n",
        "Usamos [MNIST dataset](http://yann.lecun.com/exdb/mnist/). \n",
        "\n",
        "It consists of a training set of 60,000 handwritten digits with corresponding labels, and a test set of 10,000 images. The images have been normalised and centred. The dataset is frequently used in machine learning research, and has become a standard benchmark for image classification models. \n",
        "\n",
        "- Y. LeCun, L. Bottou, Y. Bengio, and P. Haffner. \"Gradient-based learning applied to document recognition.\" Proceedings of the IEEE, 86(11):2278-2324, November 1998.\n",
        "\n",
        "Your goal is to construct a neural network that classifies images of handwritten digits into one of 10 classes."
      ]
    },
    {
      "cell_type": "markdown",
      "metadata": {
        "id": "7N6bSe61aPSv"
      },
      "source": [
        "#### Load and preprocess the data"
      ]
    },
    {
      "cell_type": "code",
      "metadata": {
        "id": "SOa33oBQaPSw",
        "colab": {
          "base_uri": "https://localhost:8080/"
        },
        "outputId": "ab2e2371-a663-488a-851a-a3d7aa42ea0e"
      },
      "source": [
        "# Run this cell to load the MNIST data\n",
        "\n",
        "mnist_data = tf.keras.datasets.mnist\n",
        "(train_images, train_labels), (test_images, test_labels) = mnist_data.load_data()"
      ],
      "execution_count": null,
      "outputs": [
        {
          "output_type": "stream",
          "text": [
            "Downloading data from https://storage.googleapis.com/tensorflow/tf-keras-datasets/mnist.npz\n",
            "11493376/11490434 [==============================] - 0s 0us/step\n"
          ],
          "name": "stdout"
        }
      ]
    },
    {
      "cell_type": "markdown",
      "metadata": {
        "id": "-gfqyq1BaPSx"
      },
      "source": [
        "First, preprocess the data by scaling the training and test images so their values lie in the range from 0 to 1."
      ]
    },
    {
      "cell_type": "code",
      "metadata": {
        "id": "Hguab-hYaPSy"
      },
      "source": [
        "\n",
        "def scale_mnist_data(train_images, test_images):\n",
        "\n",
        "    return (train_images/255., test_images/255.)\n",
        "    \n",
        "    "
      ],
      "execution_count": null,
      "outputs": []
    },
    {
      "cell_type": "code",
      "metadata": {
        "id": "7P6pDZtYaPSy"
      },
      "source": [
        "\n",
        "scaled_train_images, scaled_test_images = scale_mnist_data(train_images, test_images)"
      ],
      "execution_count": null,
      "outputs": []
    },
    {
      "cell_type": "code",
      "metadata": {
        "id": "tx45BvH6aPSz"
      },
      "source": [
        "\n",
        "scaled_train_images = scaled_train_images[..., np.newaxis]\n",
        "scaled_test_images = scaled_test_images[..., np.newaxis]"
      ],
      "execution_count": null,
      "outputs": []
    },
    {
      "cell_type": "markdown",
      "metadata": {
        "id": "K2F8gGtlaPSz"
      },
      "source": [
        "#### Build the convolutional neural network model"
      ]
    },
    {
      "cell_type": "markdown",
      "metadata": {
        "id": "d_l9sQz1aPSz"
      },
      "source": [
        "We are now ready to construct a model to fit to the data. Using the Sequential API, build your CNN model according to the following spec:\n",
        "\n",
        "* The model should use the `input_shape` in the function argument to set the input size in the first layer.\n",
        "* A 2D convolutional layer with a 3x3 kernel and 8 filters. Use 'SAME' zero padding and ReLU activation functions. Make sure to provide the `input_shape` keyword argument in this first layer.\n",
        "* A max pooling layer, with a 2x2 window, and default strides.\n",
        "* A flatten layer, which unrolls the input into a one-dimensional tensor.\n",
        "* Two dense hidden layers, each with 64 units and ReLU activation functions.\n",
        "* A dense output layer with 10 units and the softmax activation function.\n",
        "\n",
        "In particular, your neural network should have six layers."
      ]
    },
    {
      "cell_type": "code",
      "metadata": {
        "id": "fBBUhdJNaPS0"
      },
      "source": [
        "\n",
        "def get_model(input_shape):\n",
        "\n",
        "    model = Sequential([\n",
        "        Conv2D(8, (3,3), padding='same', strides=1, activation='relu', input_shape=(28, 28, 1), data_format='channels_last'),\n",
        "        MaxPooling2D((2,2)),\n",
        "        Flatten(),\n",
        "        Dense(64, activation='relu'),\n",
        "        Dense(64, activation='relu'),\n",
        "        Dense(10, activation='softmax')\n",
        "    ])\n",
        "    \n",
        "    return model\n",
        "     \n",
        "    "
      ],
      "execution_count": null,
      "outputs": []
    },
    {
      "cell_type": "code",
      "metadata": {
        "id": "gZo-FK9jaPS1"
      },
      "source": [
        "\n",
        "model = get_model(scaled_train_images[0].shape)"
      ],
      "execution_count": null,
      "outputs": []
    },
    {
      "cell_type": "markdown",
      "metadata": {
        "id": "Hdd8VQa4aPS2"
      },
      "source": [
        "#### Compile the model\n",
        "\n",
        "You should now compile the model using the `compile` method. To do so, you need to specify an optimizer, a loss function and a metric to judge the performance of your model."
      ]
    },
    {
      "cell_type": "code",
      "metadata": {
        "id": "Va5c4jsBaPS2"
      },
      "source": [
        "\n",
        "def compile_model(model):\n",
        "    \n",
        "    model.compile(optimizer='adam',\n",
        "              loss = 'sparse_categorical_crossentropy',\n",
        "              metrics=['accuracy'])\n",
        "    "
      ],
      "execution_count": null,
      "outputs": []
    },
    {
      "cell_type": "code",
      "metadata": {
        "id": "9VV50j0naPS3"
      },
      "source": [
        "# Run your function to compile the model\n",
        "\n",
        "compile_model(model)"
      ],
      "execution_count": null,
      "outputs": []
    },
    {
      "cell_type": "code",
      "metadata": {
        "colab": {
          "base_uri": "https://localhost:8080/"
        },
        "id": "Vr4uMI7WcxtL",
        "outputId": "3411ed09-e8f2-4c4b-8522-2af852667a1c"
      },
      "source": [
        "model.summary()"
      ],
      "execution_count": null,
      "outputs": [
        {
          "output_type": "stream",
          "text": [
            "Model: \"sequential\"\n",
            "_________________________________________________________________\n",
            "Layer (type)                 Output Shape              Param #   \n",
            "=================================================================\n",
            "conv2d (Conv2D)              (None, 28, 28, 8)         80        \n",
            "_________________________________________________________________\n",
            "max_pooling2d (MaxPooling2D) (None, 14, 14, 8)         0         \n",
            "_________________________________________________________________\n",
            "flatten (Flatten)            (None, 1568)              0         \n",
            "_________________________________________________________________\n",
            "dense (Dense)                (None, 64)                100416    \n",
            "_________________________________________________________________\n",
            "dense_1 (Dense)              (None, 64)                4160      \n",
            "_________________________________________________________________\n",
            "dense_2 (Dense)              (None, 10)                650       \n",
            "=================================================================\n",
            "Total params: 105,306\n",
            "Trainable params: 105,306\n",
            "Non-trainable params: 0\n",
            "_________________________________________________________________\n"
          ],
          "name": "stdout"
        }
      ]
    },
    {
      "cell_type": "code",
      "metadata": {
        "colab": {
          "base_uri": "https://localhost:8080/",
          "height": 661
        },
        "id": "r0peuM3NctIs",
        "outputId": "879ef655-1cd5-4cd3-afad-b44d5410634d"
      },
      "source": [
        "from tensorflow import keras\n",
        "keras.utils.plot_model(model, show_shapes=False) "
      ],
      "execution_count": null,
      "outputs": [
        {
          "output_type": "execute_result",
          "data": {
            "image/png": "[encoded data removed]",
            "text/plain": [
              "<IPython.core.display.Image object>"
            ]
          },
          "metadata": {
            "tags": []
          },
          "execution_count": 11
        }
      ]
    },
    {
      "cell_type": "markdown",
      "metadata": {
        "id": "fg65q64kaPS3"
      },
      "source": [
        "#### Fit the model to the training data\n",
        "\n",
        "Now you should train the model on the MNIST dataset, using the model's `fit` method. Set the training to run for 5 epochs, and return the training history to be used for plotting the learning curves."
      ]
    },
    {
      "cell_type": "code",
      "metadata": {
        "colab": {
          "base_uri": "https://localhost:8080/"
        },
        "id": "GB7J9kW5OR7g",
        "outputId": "73a6bfba-24e0-4ea1-acf4-77fbaa8318ae"
      },
      "source": [
        "train_images.shape"
      ],
      "execution_count": null,
      "outputs": [
        {
          "output_type": "execute_result",
          "data": {
            "text/plain": [
              "(60000, 28, 28)"
            ]
          },
          "metadata": {
            "tags": []
          },
          "execution_count": 15
        }
      ]
    },
    {
      "cell_type": "code",
      "metadata": {
        "id": "-5nwlwI3dPwz"
      },
      "source": [
        "def train_model(model, train_data, train_targets, epochs):\n",
        "    \n",
        "    history = model.fit(train_data, train_targets, epochs = epochs, validation_split=0.10, batch_size=64)\n",
        "    \n",
        "    return history"
      ],
      "execution_count": null,
      "outputs": []
    },
    {
      "cell_type": "markdown",
      "metadata": {
        "id": "gBZj_rvggSUV"
      },
      "source": [
        "Este tarda un rato en entrenar, yo ya lo tengo hecho"
      ]
    },
    {
      "cell_type": "code",
      "metadata": {
        "id": "3WfWYbKYaPS4",
        "colab": {
          "base_uri": "https://localhost:8080/"
        },
        "outputId": "d0e11d20-908b-4171-d2fc-696e3a4a7b85"
      },
      "source": [
        "# Run your function to train the model\n",
        "epochs=60\n",
        "history = train_model(model, scaled_train_images, train_labels, epochs)"
      ],
      "execution_count": null,
      "outputs": [
        {
          "output_type": "stream",
          "text": [
            "Epoch 1/60\n",
            "844/844 [==============================] - 19s 21ms/step - loss: 0.5702 - accuracy: 0.8309 - val_loss: 0.1084 - val_accuracy: 0.9708\n",
            "Epoch 2/60\n",
            "844/844 [==============================] - 17s 20ms/step - loss: 0.1067 - accuracy: 0.9686 - val_loss: 0.0771 - val_accuracy: 0.9755\n",
            "Epoch 3/60\n",
            "844/844 [==============================] - 17s 20ms/step - loss: 0.0651 - accuracy: 0.9799 - val_loss: 0.0587 - val_accuracy: 0.9823\n",
            "Epoch 4/60\n",
            "844/844 [==============================] - 17s 20ms/step - loss: 0.0442 - accuracy: 0.9869 - val_loss: 0.0627 - val_accuracy: 0.9818\n",
            "Epoch 5/60\n",
            "844/844 [==============================] - 17s 20ms/step - loss: 0.0336 - accuracy: 0.9896 - val_loss: 0.0569 - val_accuracy: 0.9855\n",
            "Epoch 6/60\n",
            "844/844 [==============================] - 17s 20ms/step - loss: 0.0291 - accuracy: 0.9909 - val_loss: 0.0598 - val_accuracy: 0.9833\n",
            "Epoch 7/60\n",
            "844/844 [==============================] - 17s 20ms/step - loss: 0.0213 - accuracy: 0.9934 - val_loss: 0.0617 - val_accuracy: 0.9843\n",
            "Epoch 8/60\n",
            "844/844 [==============================] - 17s 20ms/step - loss: 0.0178 - accuracy: 0.9946 - val_loss: 0.0580 - val_accuracy: 0.9857\n",
            "Epoch 9/60\n",
            "844/844 [==============================] - 17s 20ms/step - loss: 0.0139 - accuracy: 0.9956 - val_loss: 0.0689 - val_accuracy: 0.9838\n",
            "Epoch 10/60\n",
            "844/844 [==============================] - 17s 20ms/step - loss: 0.0120 - accuracy: 0.9960 - val_loss: 0.0706 - val_accuracy: 0.9845\n",
            "Epoch 11/60\n",
            "844/844 [==============================] - 17s 20ms/step - loss: 0.0104 - accuracy: 0.9963 - val_loss: 0.0564 - val_accuracy: 0.9872\n",
            "Epoch 12/60\n",
            "844/844 [==============================] - 17s 20ms/step - loss: 0.0082 - accuracy: 0.9974 - val_loss: 0.0685 - val_accuracy: 0.9838\n",
            "Epoch 13/60\n",
            "844/844 [==============================] - 17s 20ms/step - loss: 0.0079 - accuracy: 0.9973 - val_loss: 0.0786 - val_accuracy: 0.9858\n",
            "Epoch 14/60\n",
            "844/844 [==============================] - 17s 20ms/step - loss: 0.0060 - accuracy: 0.9980 - val_loss: 0.0813 - val_accuracy: 0.9858\n",
            "Epoch 15/60\n",
            "844/844 [==============================] - 17s 20ms/step - loss: 0.0078 - accuracy: 0.9974 - val_loss: 0.0784 - val_accuracy: 0.9860\n",
            "Epoch 16/60\n",
            "844/844 [==============================] - 17s 20ms/step - loss: 0.0081 - accuracy: 0.9974 - val_loss: 0.0820 - val_accuracy: 0.9870\n",
            "Epoch 17/60\n",
            "844/844 [==============================] - 19s 23ms/step - loss: 0.0048 - accuracy: 0.9986 - val_loss: 0.0760 - val_accuracy: 0.9853\n",
            "Epoch 18/60\n",
            "844/844 [==============================] - 17s 20ms/step - loss: 0.0026 - accuracy: 0.9992 - val_loss: 0.0824 - val_accuracy: 0.9872\n",
            "Epoch 19/60\n",
            "844/844 [==============================] - 17s 20ms/step - loss: 0.0056 - accuracy: 0.9982 - val_loss: 0.0713 - val_accuracy: 0.9878\n",
            "Epoch 20/60\n",
            "844/844 [==============================] - 17s 20ms/step - loss: 0.0046 - accuracy: 0.9983 - val_loss: 0.0729 - val_accuracy: 0.9878\n",
            "Epoch 21/60\n",
            "844/844 [==============================] - 17s 20ms/step - loss: 0.0015 - accuracy: 0.9996 - val_loss: 0.0936 - val_accuracy: 0.9867\n",
            "Epoch 22/60\n",
            "844/844 [==============================] - 17s 20ms/step - loss: 0.0031 - accuracy: 0.9990 - val_loss: 0.0734 - val_accuracy: 0.9883\n",
            "Epoch 23/60\n",
            "844/844 [==============================] - 17s 20ms/step - loss: 0.0041 - accuracy: 0.9987 - val_loss: 0.0812 - val_accuracy: 0.9877\n",
            "Epoch 24/60\n",
            "844/844 [==============================] - 17s 20ms/step - loss: 0.0036 - accuracy: 0.9987 - val_loss: 0.0824 - val_accuracy: 0.9858\n",
            "Epoch 25/60\n",
            "844/844 [==============================] - 17s 20ms/step - loss: 0.0045 - accuracy: 0.9986 - val_loss: 0.0863 - val_accuracy: 0.9883\n",
            "Epoch 26/60\n",
            "844/844 [==============================] - 17s 20ms/step - loss: 0.0047 - accuracy: 0.9986 - val_loss: 0.0804 - val_accuracy: 0.9885\n",
            "Epoch 27/60\n",
            "844/844 [==============================] - 17s 20ms/step - loss: 0.0023 - accuracy: 0.9994 - val_loss: 0.0761 - val_accuracy: 0.9882\n",
            "Epoch 28/60\n",
            "844/844 [==============================] - 17s 20ms/step - loss: 0.0039 - accuracy: 0.9987 - val_loss: 0.0795 - val_accuracy: 0.9883\n",
            "Epoch 29/60\n",
            "844/844 [==============================] - 17s 20ms/step - loss: 0.0026 - accuracy: 0.9991 - val_loss: 0.0898 - val_accuracy: 0.9855\n",
            "Epoch 30/60\n",
            "844/844 [==============================] - 17s 20ms/step - loss: 0.0051 - accuracy: 0.9983 - val_loss: 0.0851 - val_accuracy: 0.9883\n",
            "Epoch 31/60\n",
            "844/844 [==============================] - 17s 20ms/step - loss: 0.0024 - accuracy: 0.9990 - val_loss: 0.0848 - val_accuracy: 0.9888\n",
            "Epoch 32/60\n",
            "844/844 [==============================] - 17s 20ms/step - loss: 0.0021 - accuracy: 0.9993 - val_loss: 0.0919 - val_accuracy: 0.9880\n",
            "Epoch 33/60\n",
            "844/844 [==============================] - 17s 20ms/step - loss: 0.0028 - accuracy: 0.9991 - val_loss: 0.1056 - val_accuracy: 0.9872\n",
            "Epoch 34/60\n",
            "844/844 [==============================] - 17s 20ms/step - loss: 0.0038 - accuracy: 0.9987 - val_loss: 0.0936 - val_accuracy: 0.9867\n",
            "Epoch 35/60\n",
            "844/844 [==============================] - 17s 20ms/step - loss: 0.0024 - accuracy: 0.9992 - val_loss: 0.0828 - val_accuracy: 0.9883\n",
            "Epoch 36/60\n",
            "844/844 [==============================] - 18s 21ms/step - loss: 3.5606e-04 - accuracy: 0.9999 - val_loss: 0.0942 - val_accuracy: 0.9885\n",
            "Epoch 37/60\n",
            "844/844 [==============================] - 18s 21ms/step - loss: 0.0033 - accuracy: 0.9989 - val_loss: 0.0978 - val_accuracy: 0.9880\n",
            "Epoch 38/60\n",
            "844/844 [==============================] - 18s 21ms/step - loss: 0.0020 - accuracy: 0.9994 - val_loss: 0.1030 - val_accuracy: 0.9872\n",
            "Epoch 39/60\n",
            "844/844 [==============================] - 18s 21ms/step - loss: 0.0019 - accuracy: 0.9995 - val_loss: 0.0910 - val_accuracy: 0.9860\n",
            "Epoch 40/60\n",
            "844/844 [==============================] - 18s 21ms/step - loss: 0.0033 - accuracy: 0.9989 - val_loss: 0.0987 - val_accuracy: 0.9878\n",
            "Epoch 41/60\n",
            "844/844 [==============================] - 18s 21ms/step - loss: 0.0011 - accuracy: 0.9995 - val_loss: 0.1034 - val_accuracy: 0.9867\n",
            "Epoch 42/60\n",
            "844/844 [==============================] - 18s 21ms/step - loss: 9.7269e-04 - accuracy: 0.9996 - val_loss: 0.1237 - val_accuracy: 0.9857\n",
            "Epoch 43/60\n",
            "844/844 [==============================] - 18s 21ms/step - loss: 0.0042 - accuracy: 0.9985 - val_loss: 0.1111 - val_accuracy: 0.9860\n",
            "Epoch 44/60\n",
            "844/844 [==============================] - 18s 21ms/step - loss: 8.1532e-04 - accuracy: 0.9998 - val_loss: 0.1115 - val_accuracy: 0.9863\n",
            "Epoch 45/60\n",
            "844/844 [==============================] - 17s 21ms/step - loss: 0.0020 - accuracy: 0.9995 - val_loss: 0.0950 - val_accuracy: 0.9892\n",
            "Epoch 46/60\n",
            "844/844 [==============================] - 17s 21ms/step - loss: 0.0015 - accuracy: 0.9995 - val_loss: 0.1082 - val_accuracy: 0.9873\n",
            "Epoch 47/60\n",
            "844/844 [==============================] - 17s 21ms/step - loss: 0.0023 - accuracy: 0.9993 - val_loss: 0.1000 - val_accuracy: 0.9885\n",
            "Epoch 48/60\n",
            "844/844 [==============================] - 18s 21ms/step - loss: 0.0017 - accuracy: 0.9995 - val_loss: 0.1067 - val_accuracy: 0.9882\n",
            "Epoch 49/60\n",
            "844/844 [==============================] - 18s 21ms/step - loss: 0.0015 - accuracy: 0.9995 - val_loss: 0.1196 - val_accuracy: 0.9873\n",
            "Epoch 50/60\n",
            "844/844 [==============================] - 18s 21ms/step - loss: 0.0032 - accuracy: 0.9988 - val_loss: 0.1106 - val_accuracy: 0.9880\n",
            "Epoch 51/60\n",
            "844/844 [==============================] - 18s 21ms/step - loss: 0.0034 - accuracy: 0.9989 - val_loss: 0.1170 - val_accuracy: 0.9888\n",
            "Epoch 52/60\n",
            "844/844 [==============================] - 19s 23ms/step - loss: 0.0011 - accuracy: 0.9996 - val_loss: 0.1025 - val_accuracy: 0.9892\n",
            "Epoch 53/60\n",
            "844/844 [==============================] - 18s 21ms/step - loss: 0.0020 - accuracy: 0.9993 - val_loss: 0.1071 - val_accuracy: 0.9878\n",
            "Epoch 54/60\n",
            "844/844 [==============================] - 17s 21ms/step - loss: 9.5960e-04 - accuracy: 0.9999 - val_loss: 0.1047 - val_accuracy: 0.9892\n",
            "Epoch 55/60\n",
            "844/844 [==============================] - 17s 21ms/step - loss: 2.7186e-04 - accuracy: 1.0000 - val_loss: 0.0970 - val_accuracy: 0.9875\n",
            "Epoch 56/60\n",
            "844/844 [==============================] - 18s 21ms/step - loss: 0.0046 - accuracy: 0.9983 - val_loss: 0.1104 - val_accuracy: 0.9875\n",
            "Epoch 57/60\n",
            "844/844 [==============================] - 18s 21ms/step - loss: 0.0019 - accuracy: 0.9992 - val_loss: 0.0981 - val_accuracy: 0.9885\n",
            "Epoch 58/60\n",
            "844/844 [==============================] - 18s 21ms/step - loss: 2.4140e-04 - accuracy: 1.0000 - val_loss: 0.1073 - val_accuracy: 0.9888\n",
            "Epoch 59/60\n",
            "844/844 [==============================] - 18s 21ms/step - loss: 0.0014 - accuracy: 0.9995 - val_loss: 0.1240 - val_accuracy: 0.9863\n",
            "Epoch 60/60\n",
            "844/844 [==============================] - 18s 21ms/step - loss: 0.0034 - accuracy: 0.9989 - val_loss: 0.1072 - val_accuracy: 0.9885\n"
          ],
          "name": "stdout"
        }
      ]
    },
    {
      "cell_type": "markdown",
      "metadata": {
        "id": "FzbdYu7raPS4"
      },
      "source": [
        "#### Plot the learning curves\n",
        "\n",
        "We will now plot two graphs:\n",
        "* Epoch vs accuracy\n",
        "* Epoch vs loss\n",
        "\n",
        "We will load the model history into a pandas `DataFrame` and use the `plot` method to output the required graphs."
      ]
    },
    {
      "cell_type": "code",
      "metadata": {
        "id": "wF4U2cnAaPS5"
      },
      "source": [
        "# Run this cell to load the model history into a pandas DataFrame\n",
        "\n",
        "frame = pd.DataFrame(history.history)"
      ],
      "execution_count": null,
      "outputs": []
    },
    {
      "cell_type": "code",
      "metadata": {
        "id": "a7-PAdU4aPS5",
        "colab": {
          "base_uri": "https://localhost:8080/",
          "height": 312
        },
        "outputId": "fdc9516b-0cba-40cf-d4da-0a5117dcf1d7"
      },
      "source": [
        "# Run this cell to make the Accuracy vs Epochs plot\n",
        "\n",
        "acc_plot = frame.plot(y=\"accuracy\", title=\"Accuracy vs Epochs\", legend=False)\n",
        "acc_plot.set(xlabel=\"Epochs\", ylabel=\"Accuracy\")"
      ],
      "execution_count": null,
      "outputs": [
        {
          "output_type": "execute_result",
          "data": {
            "text/plain": [
              "[Text(0, 0.5, 'Accuracy'), Text(0.5, 0, 'Epochs')]"
            ]
          },
          "metadata": {
            "tags": []
          },
          "execution_count": 21
        },
        {
          "output_type": "display_data",
          "data": {
            "image/png": "[encoded data removed]",
            "text/plain": [
              "<Figure size 432x288 with 1 Axes>"
            ]
          },
          "metadata": {
            "tags": [],
            "needs_background": "light"
          }
        }
      ]
    },
    {
      "cell_type": "code",
      "metadata": {
        "id": "cmkGHyhraPS5",
        "colab": {
          "base_uri": "https://localhost:8080/",
          "height": 312
        },
        "outputId": "bfaad294-3269-458d-c017-7bb4c861b546"
      },
      "source": [
        "# Run this cell to make the Loss vs Epochs plot\n",
        "\n",
        "acc_plot = frame.plot(y=\"loss\", title = \"Loss vs Epochs\",legend=False)\n",
        "acc_plot.set(xlabel=\"Epochs\", ylabel=\"Loss\")"
      ],
      "execution_count": null,
      "outputs": [
        {
          "output_type": "execute_result",
          "data": {
            "text/plain": [
              "[Text(0, 0.5, 'Loss'), Text(0.5, 0, 'Epochs')]"
            ]
          },
          "metadata": {
            "tags": []
          },
          "execution_count": 22
        },
        {
          "output_type": "display_data",
          "data": {
            "image/png": "[encoded data removed]",
            "text/plain": [
              "<Figure size 432x288 with 1 Axes>"
            ]
          },
          "metadata": {
            "tags": [],
            "needs_background": "light"
          }
        }
      ]
    },
    {
      "cell_type": "markdown",
      "metadata": {
        "id": "Wm9RyNJbaPS6"
      },
      "source": [
        "#### Evaluate the model\n",
        "\n",
        "Finally, you should evaluate the performance of your model on the test set, by calling the model's `evaluate` method."
      ]
    },
    {
      "cell_type": "code",
      "metadata": {
        "id": "GVeh2Y-XaPS6"
      },
      "source": [
        "\n",
        "def evaluate_model(model, scaled_test_images, test_labels):\n",
        "    \n",
        "    test_loss, test_accuracy = model.evaluate(scaled_test_images, test_labels)\n",
        "    \n",
        "    return (test_loss, test_accuracy)    \n",
        "    "
      ],
      "execution_count": null,
      "outputs": []
    },
    {
      "cell_type": "code",
      "metadata": {
        "id": "8-mXvlg5aPS6",
        "colab": {
          "base_uri": "https://localhost:8080/"
        },
        "outputId": "c31528de-ac05-4169-8d97-c56d353c8c95"
      },
      "source": [
        "# Run your function to evaluate the model\n",
        "\n",
        "test_loss, test_accuracy = evaluate_model(model, scaled_test_images, test_labels)\n",
        "print(f\"Test loss: {test_loss}\")\n",
        "print(f\"Test accuracy: {test_accuracy}\")"
      ],
      "execution_count": null,
      "outputs": [
        {
          "output_type": "stream",
          "text": [
            "313/313 [==============================] - 2s 6ms/step - loss: 0.1148 - accuracy: 0.9861\n",
            "Test loss: 0.11477674543857574\n",
            "Test accuracy: 0.9861000180244446\n"
          ],
          "name": "stdout"
        }
      ]
    },
    {
      "cell_type": "markdown",
      "metadata": {
        "id": "GyHdTk1RaPS7"
      },
      "source": [
        "#### Model predictions\n",
        "\n",
        "Let's see some model predictions! We will randomly select four images from the test data, and display the image and label for each. \n",
        "\n",
        "For each test image, model's prediction (the label with maximum probability) is shown, together with a plot showing the model's categorical distribution.\n",
        "\n",
        "Prueba de forma aleatoria"
      ]
    },
    {
      "cell_type": "code",
      "metadata": {
        "id": "8Cq838CraPS8",
        "colab": {
          "base_uri": "https://localhost:8080/",
          "height": 716
        },
        "outputId": "a6f7f5ce-ccd0-4f17-f3e6-8b28a54bd274"
      },
      "source": [
        "# Run this cell to get model predictions on randomly selected test images\n",
        "\n",
        "num_test_images = scaled_test_images.shape[0]\n",
        "\n",
        "random_inx = np.random.choice(num_test_images, 4)\n",
        "random_test_images = scaled_test_images[random_inx, ...]\n",
        "random_test_labels = test_labels[random_inx, ...]\n",
        "\n",
        "predictions = model.predict(random_test_images)\n",
        "\n",
        "fig, axes = plt.subplots(4, 2, figsize=(16, 12))\n",
        "fig.subplots_adjust(hspace=0.4, wspace=-0.2)\n",
        "\n",
        "for i, (prediction, image, label) in enumerate(zip(predictions, random_test_images, random_test_labels)):\n",
        "    axes[i, 0].imshow(np.squeeze(image))\n",
        "    axes[i, 0].get_xaxis().set_visible(False)\n",
        "    axes[i, 0].get_yaxis().set_visible(False)\n",
        "    axes[i, 0].text(10., -1.5, f'Digit {label}')\n",
        "    axes[i, 1].bar(np.arange(len(prediction)), prediction)\n",
        "    axes[i, 1].set_xticks(np.arange(len(prediction)))\n",
        "    axes[i, 1].set_title(f\"Categorical distribution. Model prediction: {np.argmax(prediction)}\")\n",
        "    \n",
        "plt.show()"
      ],
      "execution_count": null,
      "outputs": [
        {
          "output_type": "display_data",
          "data": {
            "image/png": "[encoded data removed]",
            "text/plain": [
              "<Figure size 1152x864 with 8 Axes>"
            ]
          },
          "metadata": {
            "tags": [],
            "needs_background": "light"
          }
        }
      ]
    },
    {
      "cell_type": "markdown",
      "metadata": {
        "id": "HkkpCPATaPS9"
      },
      "source": [
        "A continuación se verá validation and regularisation in our model training, and introduce Keras callbacks."
      ]
    }
  ]
}