{
  "nbformat": 4,
  "nbformat_minor": 0,
  "metadata": {
    "colab": {
      "name": "10_A Primer on Deep Learning in Genomics - Public.ipynb",
      "provenance": [],
      "collapsed_sections": [],
      "include_colab_link": true
    },
    "kernelspec": {
      "name": "python3",
      "display_name": "Python 3"
    },
    "accelerator": "GPU"
  },
  "cells": [
    {
      "cell_type": "markdown",
      "metadata": {
        "id": "view-in-github",
        "colab_type": "text"
      },
      "source": [
        "<a href=\"https://colab.research.google.com/github/davidogm/DataScience/blob/main/MCSO/notebooks/10_A_Primer_on_Deep_Learning_in_Genomics_Public.ipynb\" target=\"_parent\"><img src=\"https://colab.research.google.com/assets/colab-badge.svg\" alt=\"Open In Colab\"/></a>"
      ]
    },
    {
      "cell_type": "markdown",
      "metadata": {
        "id": "R46-rwd4hNMn"
      },
      "source": [
        "# Deep Learning in Genomics Primer (*Tutorial*)"
      ]
    },
    {
      "cell_type": "markdown",
      "metadata": {
        "id": "eiiwjw4yhX0P"
      },
      "source": [
        "This tutorial is a supplement to the manuscript, **A Primer on Deep Learning in Genomics** (*Nature Genetics, 2018*) by James Zou, Mikael Huss, Abubakar Abid, Pejman Mohammadi, Ali Torkamani & Amalio Telentil. [Read the accompanying paper here](https://www.nature.com/articles/s41588-018-0295-5).\n",
        "\n",
        "If you have any questions or feedback regarding this tutorial, please contact Abubakar Abid <<a12d@stanford.edu>> or James Zou <<jamesz@stanford.edu>>."
      ]
    },
    {
      "cell_type": "markdown",
      "metadata": {
        "id": "qVh9frJDgVQ-"
      },
      "source": [
        "## Outline "
      ]
    },
    {
      "cell_type": "markdown",
      "metadata": {
        "id": "_5D80hwMhnaf"
      },
      "source": [
        "* **How to Use This Tutorial**\n",
        "* **0. Background** \n",
        "* **1. Curate the Data**\n",
        "* **2. Select the Architecture and Train**\n",
        "* **3. Evaluate**\n",
        "* **4. Interpret**"
      ]
    },
    {
      "cell_type": "markdown",
      "metadata": {
        "id": "TZcUh5qzgtBY"
      },
      "source": [
        "## How to Use This Tutorial "
      ]
    },
    {
      "cell_type": "markdown",
      "metadata": {
        "id": "nXiQhNqah2R-"
      },
      "source": [
        "This tutorial utilizes a Colab notebook , which is an interactive computational enviroment that combines live code, visualizations, and explanatory text. To run this notebook, you may first need to make a copy by choosing **File > Save a Copy in Drive** from the menu bar (may take a few moments to save).\n",
        "\n",
        "The notebook is organized into a series of cells. You can modify the Python command and execute each cell as you would a Jupyter notebook. To run all of the cells at once, choose **Runtime > Run all** from the menu bar."
      ]
    },
    {
      "cell_type": "markdown",
      "metadata": {
        "id": "fb-0kBFAts0-"
      },
      "source": [
        "## 0. Background"
      ]
    },
    {
      "cell_type": "markdown",
      "metadata": {
        "id": "QABdxctitugX"
      },
      "source": [
        "In this tutorial, we will show how to use deep learning to approach an important problem in functional genomics: **the discovery of transcription-factor binding sites in DNA**.\n",
        "\n",
        "As we go through this notebook, we will  design a neural network that can discover binding motifs in DNA based on the results of an assay that determines whether a longer DNA sequence binds to the protein or not. Here, the longer DNA sequences are our *independent variables* (or *predictors*), while the positive or negative response of the assay is the *dependent variable* (or *response*).\n",
        "\n",
        "We will use simulated data that consists of DNA sequences of length 50 bases (chosen to be artificially short so that the data is easy to play around with), and is labeled with 0 or 1 depending on the result of the assay. Our goal is to build a classifier that can predict whether a particular sequence will bind to the protein and discover the short motif that is the binding site in the sequences that are bound to the protein.\n",
        "\n",
        "(Spoiler alert: the true regulatory motif is *`CGACCGAACTCC`*. Of course, the neural network doesn't know this.)\n"
      ]
    },
    {
      "cell_type": "markdown",
      "metadata": {
        "id": "aK7wr8n8gzQ_"
      },
      "source": [
        "## 1. Curate the Data"
      ]
    },
    {
      "cell_type": "markdown",
      "metadata": {
        "id": "5T-FgQrNq1vS"
      },
      "source": [
        "![alt text](https://github.com/abidlabs/deep-learning-genomics-primer/blob/master/Screenshot%20from%202018-08-01%2020-31-01.png?raw=true)"
      ]
    },
    {
      "cell_type": "markdown",
      "metadata": {
        "id": "QRMSFdUSubgX"
      },
      "source": [
        "In order to train the neural network, we must load and preprocess the data, which consists of DNA sequences and their corresponding labels.By processing this data, the network will learn to distinguish sequences that bind to the transcription factor from those that do not. We will split the data into three different sub-datasets:\n",
        "\n",
        "(1) Training dataset: a dataset used to fit the parameters of a model or to define the weights of connections between neurons of a neural network.\n",
        "\n",
        "(2) Validation dataset: a second dataset used to minimize overfitting. The weights of the network are not adjusted with this data set. After each training cycle, if the accuracy over the training data set increases, but the accuracy over the validation data set stays the same or decreases, then there is overfitting on the neural network.\n",
        "\n",
        "(3) Testing dataset: is a third dataset not included in the training nor validation data sets. After all the training and validation cycles are complete, this dataset is used only for testing the final solution in order to measure the actual predictive power of the neural network on new examples.\n",
        "\n",
        "-----------\n",
        "\n",
        "We start by loading the simulated data from an external repository."
      ]
    },
    {
      "cell_type": "code",
      "metadata": {
        "id": "B_F7VoAMhLiX"
      },
      "source": [
        "import numpy as np\n",
        "import pandas as pd\n",
        "import matplotlib.pyplot as plt\n",
        "import requests\n",
        "\n",
        "SEQUENCES_URL = 'https://raw.githubusercontent.com/abidlabs/deep-learning-genomics-primer/master/sequences.txt'\n",
        "\n",
        "sequences = requests.get(SEQUENCES_URL).text.split('\\n')\n",
        "sequences = list(filter(None, sequences))  # This removes empty sequences.\n",
        "\n",
        "# Let's print the first few sequences.\n",
        "#pd.DataFrame(sequences, index=np.arange(1, len(sequences)+1), \n",
        "#             columns=['Sequences']).head()\n",
        "\n",
        "seq=pd.DataFrame(sequences, index=np.arange(1, len(sequences)+1), \n",
        "             columns=['Sequences'])"
      ],
      "execution_count": 1,
      "outputs": []
    },
    {
      "cell_type": "code",
      "source": [
        "seq.shape"
      ],
      "metadata": {
        "colab": {
          "base_uri": "https://localhost:8080/"
        },
        "id": "4YSjPpXtCzia",
        "outputId": "eae2888f-b9c7-432c-dffc-3d7b156fa9f0"
      },
      "execution_count": 2,
      "outputs": [
        {
          "output_type": "execute_result",
          "data": {
            "text/plain": [
              "(2000, 1)"
            ]
          },
          "metadata": {},
          "execution_count": 2
        }
      ]
    },
    {
      "cell_type": "code",
      "source": [
        "seq.head(3)"
      ],
      "metadata": {
        "colab": {
          "base_uri": "https://localhost:8080/",
          "height": 143
        },
        "id": "DcMrobJrDlvm",
        "outputId": "21fb9ff0-c852-479d-8bfa-623e0ee88a6b"
      },
      "execution_count": 3,
      "outputs": [
        {
          "output_type": "execute_result",
          "data": {
            "text/plain": [
              "                                           Sequences\n",
              "1  CCGAGGGCTATGGTTTGGAAGTTAGAACCCTGGGGCTTCTCGCGGA...\n",
              "2  GAGTTTATATGGCGCGAGCCTAGTGGTTTTTGTACTTGTTTGTCGC...\n",
              "3  GATCAGTAGGGAAACAAACAGAGGGCCCAGCCACATCTAGCAGGTA..."
            ],
            "text/html": [
              "\n",
              "  <div id=\"df-1f03ce8b-910c-4fe5-a4ad-3815ae202be7\">\n",
              "    <div class=\"colab-df-container\">\n",
              "      <div>\n",
              "<style scoped>\n",
              "    .dataframe tbody tr th:only-of-type {\n",
              "        vertical-align: middle;\n",
              "    }\n",
              "\n",
              "    .dataframe tbody tr th {\n",
              "        vertical-align: top;\n",
              "    }\n",
              "\n",
              "    .dataframe thead th {\n",
              "        text-align: right;\n",
              "    }\n",
              "</style>\n",
              "<table border=\"1\" class=\"dataframe\">\n",
              "  <thead>\n",
              "    <tr style=\"text-align: right;\">\n",
              "      <th></th>\n",
              "      <th>Sequences</th>\n",
              "    </tr>\n",
              "  </thead>\n",
              "  <tbody>\n",
              "    <tr>\n",
              "      <th>1</th>\n",
              "      <td>CCGAGGGCTATGGTTTGGAAGTTAGAACCCTGGGGCTTCTCGCGGA...</td>\n",
              "    </tr>\n",
              "    <tr>\n",
              "      <th>2</th>\n",
              "      <td>GAGTTTATATGGCGCGAGCCTAGTGGTTTTTGTACTTGTTTGTCGC...</td>\n",
              "    </tr>\n",
              "    <tr>\n",
              "      <th>3</th>\n",
              "      <td>GATCAGTAGGGAAACAAACAGAGGGCCCAGCCACATCTAGCAGGTA...</td>\n",
              "    </tr>\n",
              "  </tbody>\n",
              "</table>\n",
              "</div>\n",
              "      <button class=\"colab-df-convert\" onclick=\"convertToInteractive('df-1f03ce8b-910c-4fe5-a4ad-3815ae202be7')\"\n",
              "              title=\"Convert this dataframe to an interactive table.\"\n",
              "              style=\"display:none;\">\n",
              "        \n",
              "  <svg xmlns=\"http://www.w3.org/2000/svg\" height=\"24px\"viewBox=\"0 0 24 24\"\n",
              "       width=\"24px\">\n",
              "    <path d=\"M0 0h24v24H0V0z\" fill=\"none\"/>\n",
              "    <path d=\"M18.56 5.44l.94 2.06.94-2.06 2.06-.94-2.06-.94-.94-2.06-.94 2.06-2.06.94zm-11 1L8.5 8.5l.94-2.06 2.06-.94-2.06-.94L8.5 2.5l-.94 2.06-2.06.94zm10 10l.94 2.06.94-2.06 2.06-.94-2.06-.94-.94-2.06-.94 2.06-2.06.94z\"/><path d=\"M17.41 7.96l-1.37-1.37c-.4-.4-.92-.59-1.43-.59-.52 0-1.04.2-1.43.59L10.3 9.45l-7.72 7.72c-.78.78-.78 2.05 0 2.83L4 21.41c.39.39.9.59 1.41.59.51 0 1.02-.2 1.41-.59l7.78-7.78 2.81-2.81c.8-.78.8-2.07 0-2.86zM5.41 20L4 18.59l7.72-7.72 1.47 1.35L5.41 20z\"/>\n",
              "  </svg>\n",
              "      </button>\n",
              "      \n",
              "  <style>\n",
              "    .colab-df-container {\n",
              "      display:flex;\n",
              "      flex-wrap:wrap;\n",
              "      gap: 12px;\n",
              "    }\n",
              "\n",
              "    .colab-df-convert {\n",
              "      background-color: #E8F0FE;\n",
              "      border: none;\n",
              "      border-radius: 50%;\n",
              "      cursor: pointer;\n",
              "      display: none;\n",
              "      fill: #1967D2;\n",
              "      height: 32px;\n",
              "      padding: 0 0 0 0;\n",
              "      width: 32px;\n",
              "    }\n",
              "\n",
              "    .colab-df-convert:hover {\n",
              "      background-color: #E2EBFA;\n",
              "      box-shadow: 0px 1px 2px rgba(60, 64, 67, 0.3), 0px 1px 3px 1px rgba(60, 64, 67, 0.15);\n",
              "      fill: #174EA6;\n",
              "    }\n",
              "\n",
              "    [theme=dark] .colab-df-convert {\n",
              "      background-color: #3B4455;\n",
              "      fill: #D2E3FC;\n",
              "    }\n",
              "\n",
              "    [theme=dark] .colab-df-convert:hover {\n",
              "      background-color: #434B5C;\n",
              "      box-shadow: 0px 1px 3px 1px rgba(0, 0, 0, 0.15);\n",
              "      filter: drop-shadow(0px 1px 2px rgba(0, 0, 0, 0.3));\n",
              "      fill: #FFFFFF;\n",
              "    }\n",
              "  </style>\n",
              "\n",
              "      <script>\n",
              "        const buttonEl =\n",
              "          document.querySelector('#df-1f03ce8b-910c-4fe5-a4ad-3815ae202be7 button.colab-df-convert');\n",
              "        buttonEl.style.display =\n",
              "          google.colab.kernel.accessAllowed ? 'block' : 'none';\n",
              "\n",
              "        async function convertToInteractive(key) {\n",
              "          const element = document.querySelector('#df-1f03ce8b-910c-4fe5-a4ad-3815ae202be7');\n",
              "          const dataTable =\n",
              "            await google.colab.kernel.invokeFunction('convertToInteractive',\n",
              "                                                     [key], {});\n",
              "          if (!dataTable) return;\n",
              "\n",
              "          const docLinkHtml = 'Like what you see? Visit the ' +\n",
              "            '<a target=\"_blank\" href=https://colab.research.google.com/notebooks/data_table.ipynb>data table notebook</a>'\n",
              "            + ' to learn more about interactive tables.';\n",
              "          element.innerHTML = '';\n",
              "          dataTable['output_type'] = 'display_data';\n",
              "          await google.colab.output.renderOutput(dataTable, element);\n",
              "          const docLink = document.createElement('div');\n",
              "          docLink.innerHTML = docLinkHtml;\n",
              "          element.appendChild(docLink);\n",
              "        }\n",
              "      </script>\n",
              "    </div>\n",
              "  </div>\n",
              "  "
            ]
          },
          "metadata": {},
          "execution_count": 3
        }
      ]
    },
    {
      "cell_type": "code",
      "source": [
        "seq"
      ],
      "metadata": {
        "id": "HdefS_3W4aAt"
      },
      "execution_count": null,
      "outputs": []
    },
    {
      "cell_type": "markdown",
      "metadata": {
        "id": "bzsbNHqWiFek"
      },
      "source": [
        "The next  step is to organize the data into a format that can be passed into a deep learning algorithm. Most deep learning algorithms accept data in the form of vectors or matrices (or more generally, tensors). \n",
        "\n",
        "To get each DNA sequence in the form of a matrix, we use _one-hot encoding_, which encodes every base in a sequence in the form of a 4-dimensional vector, with a separate dimension for each base. We place a \"1\" in the dimension corresponding to the base found in the DNA sequence, and \"0\"s in all other slots. We then concatenate these 4-dimensional vectors together along the bases in the sequence to form a matrix. \n",
        "\n",
        "In the cell below, we one-hot encode the simulated DNA sequences, and show an example of what the one-hot encoded sequence looks like:"
      ]
    },
    {
      "cell_type": "markdown",
      "source": [
        "1) Datos a formato par ael deep learning\n",
        "2) one-hot encodig\n",
        "3) secuencias de ADN simuladas con un ejemplo"
      ],
      "metadata": {
        "id": "jb5z0EZI3V-4"
      }
    },
    {
      "cell_type": "code",
      "metadata": {
        "id": "IPJD6PuDnaS6",
        "colab": {
          "base_uri": "https://localhost:8080/"
        },
        "outputId": "1848e22d-e404-4335-c9a0-f767be3d7b32"
      },
      "source": [
        "from sklearn.preprocessing import LabelEncoder, OneHotEncoder\n",
        "\n",
        "# The LabelEncoder encodes a sequence of bases as a sequence of integers.\n",
        "integer_encoder = LabelEncoder()  \n",
        "# The OneHotEncoder converts an array of integers to a sparse matrix where \n",
        "# each row corresponds to one possible value of each feature.\n",
        "one_hot_encoder = OneHotEncoder(categories='auto')   \n",
        "input_features = []\n",
        "\n",
        "for sequence in sequences:\n",
        "  integer_encoded = integer_encoder.fit_transform(list(sequence))\n",
        "  integer_encoded = np.array(integer_encoded).reshape(-1, 1)\n",
        "  one_hot_encoded = one_hot_encoder.fit_transform(integer_encoded)\n",
        "  input_features.append(one_hot_encoded.toarray())\n",
        "\n",
        "np.set_printoptions(threshold=40)\n",
        "input_features = np.stack(input_features)\n",
        "print(\"Example sequence\\n-----------------------\")\n",
        "print('DNA Sequence #1:\\n',sequences[0][:10],'...',sequences[0][-10:])\n",
        "print('One hot encoding of Sequence #1:\\n',input_features[0].T)"
      ],
      "execution_count": 4,
      "outputs": [
        {
          "output_type": "stream",
          "name": "stdout",
          "text": [
            "Example sequence\n",
            "-----------------------\n",
            "DNA Sequence #1:\n",
            " CCGAGGGCTA ... CGCGGACACC\n",
            "One hot encoding of Sequence #1:\n",
            " [[0. 0. 0. ... 1. 0. 0.]\n",
            " [1. 1. 0. ... 0. 1. 1.]\n",
            " [0. 0. 1. ... 0. 0. 0.]\n",
            " [0. 0. 0. ... 0. 0. 0.]]\n"
          ]
        }
      ]
    },
    {
      "cell_type": "code",
      "source": [
        "seq.head(3)"
      ],
      "metadata": {
        "colab": {
          "base_uri": "https://localhost:8080/",
          "height": 143
        },
        "id": "T4oT1zHt5tai",
        "outputId": "7ffcf434-c12f-43fc-9e1f-76b75f01f267"
      },
      "execution_count": 9,
      "outputs": [
        {
          "output_type": "execute_result",
          "data": {
            "text/plain": [
              "                                           Sequences\n",
              "1  CCGAGGGCTATGGTTTGGAAGTTAGAACCCTGGGGCTTCTCGCGGA...\n",
              "2  GAGTTTATATGGCGCGAGCCTAGTGGTTTTTGTACTTGTTTGTCGC...\n",
              "3  GATCAGTAGGGAAACAAACAGAGGGCCCAGCCACATCTAGCAGGTA..."
            ],
            "text/html": [
              "\n",
              "  <div id=\"df-cd6de1be-ae3f-45d4-b70a-65ba8601d49d\">\n",
              "    <div class=\"colab-df-container\">\n",
              "      <div>\n",
              "<style scoped>\n",
              "    .dataframe tbody tr th:only-of-type {\n",
              "        vertical-align: middle;\n",
              "    }\n",
              "\n",
              "    .dataframe tbody tr th {\n",
              "        vertical-align: top;\n",
              "    }\n",
              "\n",
              "    .dataframe thead th {\n",
              "        text-align: right;\n",
              "    }\n",
              "</style>\n",
              "<table border=\"1\" class=\"dataframe\">\n",
              "  <thead>\n",
              "    <tr style=\"text-align: right;\">\n",
              "      <th></th>\n",
              "      <th>Sequences</th>\n",
              "    </tr>\n",
              "  </thead>\n",
              "  <tbody>\n",
              "    <tr>\n",
              "      <th>1</th>\n",
              "      <td>CCGAGGGCTATGGTTTGGAAGTTAGAACCCTGGGGCTTCTCGCGGA...</td>\n",
              "    </tr>\n",
              "    <tr>\n",
              "      <th>2</th>\n",
              "      <td>GAGTTTATATGGCGCGAGCCTAGTGGTTTTTGTACTTGTTTGTCGC...</td>\n",
              "    </tr>\n",
              "    <tr>\n",
              "      <th>3</th>\n",
              "      <td>GATCAGTAGGGAAACAAACAGAGGGCCCAGCCACATCTAGCAGGTA...</td>\n",
              "    </tr>\n",
              "  </tbody>\n",
              "</table>\n",
              "</div>\n",
              "      <button class=\"colab-df-convert\" onclick=\"convertToInteractive('df-cd6de1be-ae3f-45d4-b70a-65ba8601d49d')\"\n",
              "              title=\"Convert this dataframe to an interactive table.\"\n",
              "              style=\"display:none;\">\n",
              "        \n",
              "  <svg xmlns=\"http://www.w3.org/2000/svg\" height=\"24px\"viewBox=\"0 0 24 24\"\n",
              "       width=\"24px\">\n",
              "    <path d=\"M0 0h24v24H0V0z\" fill=\"none\"/>\n",
              "    <path d=\"M18.56 5.44l.94 2.06.94-2.06 2.06-.94-2.06-.94-.94-2.06-.94 2.06-2.06.94zm-11 1L8.5 8.5l.94-2.06 2.06-.94-2.06-.94L8.5 2.5l-.94 2.06-2.06.94zm10 10l.94 2.06.94-2.06 2.06-.94-2.06-.94-.94-2.06-.94 2.06-2.06.94z\"/><path d=\"M17.41 7.96l-1.37-1.37c-.4-.4-.92-.59-1.43-.59-.52 0-1.04.2-1.43.59L10.3 9.45l-7.72 7.72c-.78.78-.78 2.05 0 2.83L4 21.41c.39.39.9.59 1.41.59.51 0 1.02-.2 1.41-.59l7.78-7.78 2.81-2.81c.8-.78.8-2.07 0-2.86zM5.41 20L4 18.59l7.72-7.72 1.47 1.35L5.41 20z\"/>\n",
              "  </svg>\n",
              "      </button>\n",
              "      \n",
              "  <style>\n",
              "    .colab-df-container {\n",
              "      display:flex;\n",
              "      flex-wrap:wrap;\n",
              "      gap: 12px;\n",
              "    }\n",
              "\n",
              "    .colab-df-convert {\n",
              "      background-color: #E8F0FE;\n",
              "      border: none;\n",
              "      border-radius: 50%;\n",
              "      cursor: pointer;\n",
              "      display: none;\n",
              "      fill: #1967D2;\n",
              "      height: 32px;\n",
              "      padding: 0 0 0 0;\n",
              "      width: 32px;\n",
              "    }\n",
              "\n",
              "    .colab-df-convert:hover {\n",
              "      background-color: #E2EBFA;\n",
              "      box-shadow: 0px 1px 2px rgba(60, 64, 67, 0.3), 0px 1px 3px 1px rgba(60, 64, 67, 0.15);\n",
              "      fill: #174EA6;\n",
              "    }\n",
              "\n",
              "    [theme=dark] .colab-df-convert {\n",
              "      background-color: #3B4455;\n",
              "      fill: #D2E3FC;\n",
              "    }\n",
              "\n",
              "    [theme=dark] .colab-df-convert:hover {\n",
              "      background-color: #434B5C;\n",
              "      box-shadow: 0px 1px 3px 1px rgba(0, 0, 0, 0.15);\n",
              "      filter: drop-shadow(0px 1px 2px rgba(0, 0, 0, 0.3));\n",
              "      fill: #FFFFFF;\n",
              "    }\n",
              "  </style>\n",
              "\n",
              "      <script>\n",
              "        const buttonEl =\n",
              "          document.querySelector('#df-cd6de1be-ae3f-45d4-b70a-65ba8601d49d button.colab-df-convert');\n",
              "        buttonEl.style.display =\n",
              "          google.colab.kernel.accessAllowed ? 'block' : 'none';\n",
              "\n",
              "        async function convertToInteractive(key) {\n",
              "          const element = document.querySelector('#df-cd6de1be-ae3f-45d4-b70a-65ba8601d49d');\n",
              "          const dataTable =\n",
              "            await google.colab.kernel.invokeFunction('convertToInteractive',\n",
              "                                                     [key], {});\n",
              "          if (!dataTable) return;\n",
              "\n",
              "          const docLinkHtml = 'Like what you see? Visit the ' +\n",
              "            '<a target=\"_blank\" href=https://colab.research.google.com/notebooks/data_table.ipynb>data table notebook</a>'\n",
              "            + ' to learn more about interactive tables.';\n",
              "          element.innerHTML = '';\n",
              "          dataTable['output_type'] = 'display_data';\n",
              "          await google.colab.output.renderOutput(dataTable, element);\n",
              "          const docLink = document.createElement('div');\n",
              "          docLink.innerHTML = docLinkHtml;\n",
              "          element.appendChild(docLink);\n",
              "        }\n",
              "      </script>\n",
              "    </div>\n",
              "  </div>\n",
              "  "
            ]
          },
          "metadata": {},
          "execution_count": 9
        }
      ]
    },
    {
      "cell_type": "code",
      "source": [
        "input_features.shape"
      ],
      "metadata": {
        "colab": {
          "base_uri": "https://localhost:8080/"
        },
        "id": "sy0hUYSi4P1e",
        "outputId": "a65df750-031f-4cbe-9e03-e786df648407"
      },
      "execution_count": 6,
      "outputs": [
        {
          "output_type": "execute_result",
          "data": {
            "text/plain": [
              "(2000, 50, 4)"
            ]
          },
          "metadata": {},
          "execution_count": 6
        }
      ]
    },
    {
      "cell_type": "code",
      "source": [
        "one_hot_encoded.shape"
      ],
      "metadata": {
        "colab": {
          "base_uri": "https://localhost:8080/"
        },
        "id": "p46iXzlq4Aea",
        "outputId": "d5d9ef06-b203-4076-d4d7-bd86bbb27765"
      },
      "execution_count": 5,
      "outputs": [
        {
          "output_type": "execute_result",
          "data": {
            "text/plain": [
              "(50, 4)"
            ]
          },
          "metadata": {},
          "execution_count": 5
        }
      ]
    },
    {
      "cell_type": "markdown",
      "metadata": {
        "id": "AbBmrEVGrahN"
      },
      "source": [
        "Similarly, we can go ahead and load the labels (_response variables_). In this case, the labels are structured as follows: a \"1\" indicates that a protein bound to the sequence, while a \"0\" indicates that the protein did not. While we could use the labels as a vector, it is often easier to similarly one-hot encode the labels, as we did the features. We carry out that here:"
      ]
    },
    {
      "cell_type": "code",
      "metadata": {
        "id": "IA9FJeQkr1Ze",
        "colab": {
          "base_uri": "https://localhost:8080/"
        },
        "outputId": "4e428b66-2f0d-4575-9298-12d213920bce"
      },
      "source": [
        "LABELS_URL = 'https://raw.githubusercontent.com/abidlabs/deep-learning-genomics-primer/master/labels.txt'\n",
        "\n",
        "labels = requests.get(LABELS_URL).text.split('\\n')\n",
        "labels = list(filter(None, labels))  # removes empty sequences\n",
        "\n",
        "one_hot_encoder = OneHotEncoder(categories='auto')\n",
        "labels = np.array(labels).reshape(-1, 1)\n",
        "input_labels = one_hot_encoder.fit_transform(labels).toarray()\n",
        "\n",
        "print('Labels:\\n',labels.T)\n",
        "print('One-hot encoded labels:\\n',input_labels.T)"
      ],
      "execution_count": 10,
      "outputs": [
        {
          "output_type": "stream",
          "name": "stdout",
          "text": [
            "Labels:\n",
            " [['0' '0' '0' ... '0' '1' '1']]\n",
            "One-hot encoded labels:\n",
            " [[1. 1. 1. ... 1. 0. 0.]\n",
            " [0. 0. 0. ... 0. 1. 1.]]\n"
          ]
        }
      ]
    },
    {
      "cell_type": "markdown",
      "metadata": {
        "id": "MTokFzDZvQR-"
      },
      "source": [
        "We also go ahead and split the data into training and test sets. The purpose of the test set is to ensure that we can observe the performance of the model on new data, not seen previously during training. At a later step, we will further partition the training set into a training and validation set."
      ]
    },
    {
      "cell_type": "code",
      "metadata": {
        "id": "P_7LKgvc3Lnn"
      },
      "source": [
        "from sklearn.model_selection import train_test_split\n",
        "\n",
        "train_features, test_features, train_labels, test_labels = train_test_split(\n",
        "    input_features, input_labels, test_size=0.25, random_state=42)"
      ],
      "execution_count": 11,
      "outputs": []
    },
    {
      "cell_type": "markdown",
      "metadata": {
        "id": "7LQp2ZFrg6dm"
      },
      "source": [
        "## 2. Select the Architecture and Train"
      ]
    },
    {
      "cell_type": "markdown",
      "metadata": {
        "id": "xBT6Q3j-sjhh"
      },
      "source": [
        "![alt text](https://github.com/abidlabs/deep-learning-genomics-primer/blob/master/Screenshot%20from%202018-08-01%2020-31-49.png?raw=true)"
      ]
    },
    {
      "cell_type": "markdown",
      "metadata": {
        "id": "krHJgtK_rzif"
      },
      "source": [
        "Next, we choose a neural network architecture to train the model. In this tutorial, we choose a simple 1D convolutional neural network (CNN), which is commonly used in deep learning for functional genomics applications.\n",
        "\n",
        "A CNN learns to recognize patterns that are generally invariant across space, by trying to match the input sequence to a number of learnable \"filters\" of a fixed size. In our dataset, the filters will be motifs within the DNA sequences. The CNN may then learn to combine these filters to recognize a larger structure (e.g. the presence or absence of a transcription factor binding site). \n",
        "\n",
        "We will use the deep learning library `Keras`. As of 2017, `Keras` has been integrated into `TensorFlow`,  which makes it very easy to construct neural networks. We only need to specify the kinds of layers we would like to include in our network, and the dimensionality of each layer. The CNN we generate in this example consists of the following layers:\n",
        "\n",
        "- _Conv1D_: We define our convolutional layer to have 32 filters of size 12 bases.\n",
        "\n",
        "- _MaxPooling1D_: After the convolution, we use a pooling layer to down-sample the output of the each of the 32 convolutional filters. Though not always required, this is a typical form of non-linear down-sampling used in CNNs.\n",
        "\n",
        "- _Flatten_: This layer flattens the output of the max pooling layer, combining the results of the convolution and pooling layers across all 32 filters. \n",
        "\n",
        "- _Dense_: The first Dense tensor creates a layer (dense_1) that compresses the representation of the flattened layer, resulting in smaller layer with 16 tensors, and the second Dense function converges the tensors into the output layer (dense_2) that consists of the two possible response values (0 or 1).\n",
        "\n",
        "We can see the details of the architecture of the neural network we have created by running `model.summary()`, which prints the dimensionality and number of parameters for each layer in our network. "
      ]
    },
    {
      "cell_type": "code",
      "metadata": {
        "id": "dU3imaIns80_",
        "colab": {
          "base_uri": "https://localhost:8080/"
        },
        "outputId": "ec935699-54b4-4bb5-e30c-01ef1f7433e9"
      },
      "source": [
        "from tensorflow.keras.layers import Conv1D, Dense, MaxPooling1D, Flatten\n",
        "from tensorflow.keras.models import Sequential\n",
        "\n",
        "model = Sequential()\n",
        "model.add(Conv1D(filters=32, kernel_size=12, \n",
        "                 input_shape=(train_features.shape[1], 4)))\n",
        "model.add(MaxPooling1D(pool_size=4))\n",
        "model.add(Flatten())\n",
        "model.add(Dense(16, activation='relu'))\n",
        "model.add(Dense(2, activation='softmax'))\n",
        "\n",
        "model.compile(loss='binary_crossentropy', optimizer='adam', \n",
        "              metrics=['binary_accuracy'])\n",
        "model.summary()"
      ],
      "execution_count": 12,
      "outputs": [
        {
          "output_type": "stream",
          "name": "stdout",
          "text": [
            "Model: \"sequential\"\n",
            "_________________________________________________________________\n",
            " Layer (type)                Output Shape              Param #   \n",
            "=================================================================\n",
            " conv1d (Conv1D)             (None, 39, 32)            1568      \n",
            "                                                                 \n",
            " max_pooling1d (MaxPooling1D  (None, 9, 32)            0         \n",
            " )                                                               \n",
            "                                                                 \n",
            " flatten (Flatten)           (None, 288)               0         \n",
            "                                                                 \n",
            " dense (Dense)               (None, 16)                4624      \n",
            "                                                                 \n",
            " dense_1 (Dense)             (None, 2)                 34        \n",
            "                                                                 \n",
            "=================================================================\n",
            "Total params: 6,226\n",
            "Trainable params: 6,226\n",
            "Non-trainable params: 0\n",
            "_________________________________________________________________\n"
          ]
        }
      ]
    },
    {
      "cell_type": "markdown",
      "metadata": {
        "id": "qSOUwoG_vHRA"
      },
      "source": [
        "Now, we are ready to go ahead and train the neural network. We will further divide the training set into a training and validation set. We will train only on the reduced training set, but plot the loss curve on both the training and validation sets. Once the loss for the validation set stops improving or gets worse throughout the learning cycles, it is time to stop training because the model has already converged and may be just overfitting."
      ]
    },
    {
      "cell_type": "code",
      "metadata": {
        "id": "LSOmHIM83hXO",
        "colab": {
          "base_uri": "https://localhost:8080/",
          "height": 295
        },
        "outputId": "15af9eec-d24d-4cc3-9c8f-c0cce62cc3f9"
      },
      "source": [
        "history = model.fit(train_features, train_labels, \n",
        "                    epochs=50, verbose=0, validation_split=0.25)\n",
        "\n",
        "plt.figure()\n",
        "plt.plot(history.history['loss'])\n",
        "plt.plot(history.history['val_loss'])\n",
        "plt.title('model loss')\n",
        "plt.ylabel('loss')\n",
        "plt.xlabel('epoch')\n",
        "plt.legend(['train', 'validation'])\n",
        "plt.show()"
      ],
      "execution_count": 13,
      "outputs": [
        {
          "output_type": "display_data",
          "data": {
            "text/plain": [
              "<Figure size 432x288 with 1 Axes>"
            ],
            "image/png": "[encoded data removed]"
          },
          "metadata": {
            "needs_background": "light"
          }
        }
      ]
    },
    {
      "cell_type": "markdown",
      "metadata": {
        "id": "P5eKDmX8ODBE"
      },
      "source": [
        "Similarly, we can plot the accuracy of our neural network on the binary classification task. The metric used in this example is the _binary accuracy_, which calculates the proportion of predictions that match labels or response variables. Other metrics may be used in different tasks -- for example, the _mean squared error_ is typically used to measure the accuracy for continuous response variables (e.g. polygenic risk scores, total serum cholesterol level, height, weight and systolic blood pressure)."
      ]
    },
    {
      "cell_type": "code",
      "metadata": {
        "id": "J2Jdpa1i8zqM",
        "colab": {
          "base_uri": "https://localhost:8080/",
          "height": 295
        },
        "outputId": "39b4bd74-ea48-47b7-f025-db02cfc03291"
      },
      "source": [
        "plt.figure()\n",
        "plt.plot(history.history['binary_accuracy'])\n",
        "plt.plot(history.history['val_binary_accuracy'])\n",
        "plt.title('model accuracy')\n",
        "plt.ylabel('accuracy')\n",
        "plt.xlabel('epoch')\n",
        "plt.legend(['train', 'validation'])\n",
        "plt.show()"
      ],
      "execution_count": 14,
      "outputs": [
        {
          "output_type": "display_data",
          "data": {
            "text/plain": [
              "<Figure size 432x288 with 1 Axes>"
            ],
            "image/png": "[encoded data removed]"
          },
          "metadata": {
            "needs_background": "light"
          }
        }
      ]
    },
    {
      "cell_type": "markdown",
      "metadata": {
        "id": "6Xy7VhhZg-hN"
      },
      "source": [
        "## 3. Evaluate"
      ]
    },
    {
      "cell_type": "markdown",
      "metadata": {
        "id": "btf7FyMVsnFA"
      },
      "source": [
        "![alt text](https://github.com/abidlabs/deep-learning-genomics-primer/blob/master/Screenshot%20from%202018-08-01%2020-32-12.png?raw=true)"
      ]
    },
    {
      "cell_type": "markdown",
      "metadata": {
        "id": "eQ_xYCvfvFlE"
      },
      "source": [
        "The best way to evaluate whether the network has learned to classify sequences is to evaluate its performance on a fresh test set consisting of data that it has not observed at all during training. Here, we evaluate the model on the test set and plot the results as a confusion matrix. Nearly every test sequence should be correctly classified."
      ]
    },
    {
      "cell_type": "code",
      "metadata": {
        "id": "J1bvxV9J-EMT",
        "colab": {
          "base_uri": "https://localhost:8080/",
          "height": 347
        },
        "outputId": "8165b43c-a823-47ee-8886-96bc1c0ac84d"
      },
      "source": [
        "from sklearn.metrics import confusion_matrix\n",
        "import itertools\n",
        "\n",
        "predicted_labels = model.predict(np.stack(test_features))\n",
        "cm = confusion_matrix(np.argmax(test_labels, axis=1), \n",
        "                      np.argmax(predicted_labels, axis=1))\n",
        "print('Confusion matrix:\\n',cm)\n",
        "\n",
        "cm = cm.astype('float') / cm.sum(axis = 1)[:, np.newaxis]\n",
        "\n",
        "plt.imshow(cm, cmap=plt.cm.Blues)\n",
        "plt.title('Normalized confusion matrix')\n",
        "plt.colorbar()\n",
        "plt.xlabel('True label')\n",
        "plt.ylabel('Predicted label')\n",
        "plt.xticks([0, 1]); plt.yticks([0, 1])\n",
        "plt.grid('off')\n",
        "for i, j in itertools.product(range(cm.shape[0]), range(cm.shape[1])):\n",
        "    plt.text(j, i, format(cm[i, j], '.2f'),\n",
        "             horizontalalignment='center',\n",
        "             color='white' if cm[i, j] > 0.5 else 'black')"
      ],
      "execution_count": 15,
      "outputs": [
        {
          "output_type": "stream",
          "name": "stdout",
          "text": [
            "Confusion matrix:\n",
            " [[252   7]\n",
            " [  3 238]]\n"
          ]
        },
        {
          "output_type": "display_data",
          "data": {
            "text/plain": [
              "<Figure size 432x288 with 2 Axes>"
            ],
            "image/png": "[encoded data removed]"
          },
          "metadata": {
            "needs_background": "light"
          }
        }
      ]
    },
    {
      "cell_type": "markdown",
      "metadata": {
        "id": "UBdJQC1Ug__3"
      },
      "source": [
        "## 4. Interpret"
      ]
    },
    {
      "cell_type": "markdown",
      "metadata": {
        "id": "6qmKi1ResqHo"
      },
      "source": [
        "![alt text](https://github.com/abidlabs/deep-learning-genomics-primer/blob/master/Screenshot%20from%202018-08-01%2020-32-31.png?raw=true)"
      ]
    },
    {
      "cell_type": "markdown",
      "metadata": {
        "id": "UpAwoK9SwAbb"
      },
      "source": [
        "Your results so far should allow you to conclude that the neural network is quite effective in learning to distinguish sequences that bind the protein from sequences that do not. But can we understand _why_ the neural network classifies a training point in the way that it does? To do so, we can compute a simple _saliency map_, which is the gradient of the model's prediction with respect to each individual nucleotide. \n",
        "\n",
        "In other words, the saliency maps shows how the output response value changes with respect to a small changes in input nucleotide sequence. All the positive values in the gradients tell us that a small change to that nucleotide will change the output value. Hence, visualizing these gradients for a given input sequence, should provide some clues about what nucleotides form the binding motive that we are trying to identify."
      ]
    },
    {
      "cell_type": "code",
      "metadata": {
        "id": "WNT_Au-dAP8a"
      },
      "source": [
        "import tensorflow.keras.backend as K\n",
        "\n",
        "def compute_salient_bases(model, x):\n",
        "  input_tensors = [model.input]\n",
        "  gradients = model.optimizer.get_gradients(model.output[0][1], model.input)\n",
        "  compute_gradients = K.function(inputs = input_tensors, outputs = gradients)\n",
        "  \n",
        "  x_value = np.expand_dims(x, axis=0)\n",
        "  gradients = compute_gradients([x_value])[0][0]\n",
        "  sal = np.clip(np.sum(np.multiply(gradients,x), axis=1),a_min=0, a_max=None)\n",
        "  return sal"
      ],
      "execution_count": 16,
      "outputs": []
    },
    {
      "cell_type": "code",
      "metadata": {
        "id": "uObq5iC4BG1g"
      },
      "source": [
        "sequence_index = 1999  # You can change this to compute the gradient for a different example. But if so, change the coloring below as well.\n",
        "sal = compute_salient_bases(model, input_features[sequence_index])\n",
        "\n",
        "plt.figure(figsize=[16,5])\n",
        "barlist = plt.bar(np.arange(len(sal)), sal)\n",
        "[barlist[i].set_color('C1') for i in range(5,17)]  # Change the coloring here if you change the sequence index.\n",
        "plt.xlabel('Bases')\n",
        "plt.ylabel('Magnitude of saliency values')\n",
        "plt.xticks(np.arange(len(sal)), list(sequences[sequence_index]));\n",
        "plt.title('Saliency map for bases in one of the positive sequences'\n",
        "          ' (green indicates the actual bases in motif)');"
      ],
      "execution_count": null,
      "outputs": []
    },
    {
      "cell_type": "markdown",
      "source": [
        "![image.png](data:image/png;base64,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)"
      ],
      "metadata": {
        "id": "HB1Pdcb27EUm"
      }
    },
    {
      "cell_type": "markdown",
      "metadata": {
        "id": "voPIrz9TPtIH"
      },
      "source": [
        "The results above should show high saliency values for the bases _CGACCGAACTCC_ appearing in the DNA sequence. If you recall from the top of the document, this is exactly the motif that we embedded in the positive sequences! The raw saliency values may be non-zero for other bases as well -- the gradient-based saliency map method is not perfect, and there other more complex interpretation methods that are used in practice to obtain better results.  \n",
        "\n",
        "Furthermore, we may explore other architectures for our neural network to see if we can improve performance on the validation dataset. For example, we could choose different _hyper-parameters_, which are variables that define the network structure (e.g. the number of dense or convolutional layers, the dimensionality of each layer, etc.) and variables that determine how the network is trained (e.g. the number of epochs, the learning rate, etc.). Testing different hyper-parameter values or performing a hyper-parameter search grid are good practices that may help the deep learning procedure to obtain a clearer signal for classifying sequences and identifying the binding motif."
      ]
    },
    {
      "cell_type": "markdown",
      "metadata": {
        "id": "1lGpn-5IZ3VN"
      },
      "source": [
        "## Acknowledgements "
      ]
    },
    {
      "cell_type": "markdown",
      "metadata": {
        "id": "BVFi5aDBZ7M8"
      },
      "source": [
        "Thanks to Julia di lulio and Raquel Dias for helpful comments and suggestions in preparing this notebook."
      ]
    },
    {
      "cell_type": "markdown",
      "metadata": {
        "id": "vY3uDUtcLwXe"
      },
      "source": [
        "# GitHub Repository"
      ]
    },
    {
      "cell_type": "markdown",
      "metadata": {
        "id": "U8soCi3qLzmc"
      },
      "source": [
        "If you found this tutorial helpful, kindly star the [associated GitHub repo](https://github.com/abidlabs/deep-learning-genomics-primer/blob/master/A_Primer_on_Deep_Learning_in_Genomics_Public.ipynb) so that it is more visible to others as well!"
      ]
    }
  ]
}