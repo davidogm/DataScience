{
  "cells": [
    {
      "cell_type": "markdown",
      "metadata": {
        "id": "view-in-github",
        "colab_type": "text"
      },
      "source": [
        "<a href=\"https://colab.research.google.com/github/davidogm/DataScience/blob/main/ITBD/trabajos/Ajedrez.ipynb\" target=\"_parent\"><img src=\"https://colab.research.google.com/assets/colab-badge.svg\" alt=\"Open In Colab\"/></a>"
      ]
    },
    {
      "cell_type": "markdown",
      "metadata": {
        "id": "9419oQJ4vNAs"
      },
      "source": [
        "# Introducción\n",
        "\n",
        "En este caso teórico-práctico se va a analizar el dataset [Chess Game Dataset (Lichess)](https://www.kaggle.com/datasnaek/chess).\n",
        "\n",
        "Primero se expondrán los datos que aporten un mayor valor para el entendimiento de éstos.\n",
        "\n",
        "A continuación, se realizarán las preguntas pertinentes para la correcta comprensión de dichos datos. Se centrará en los datos que se considere tienen unas correlaciones de mayor peso."
      ]
    },
    {
      "cell_type": "markdown",
      "metadata": {
        "id": "8Bvfo-6MNBC0"
      },
      "source": [
        "# Análisis de datos"
      ]
    },
    {
      "cell_type": "code",
      "execution_count": null,
      "metadata": {
        "colab": {
          "base_uri": "https://localhost:8080/",
          "height": 1000
        },
        "id": "hqHpu1AGwgwK",
        "outputId": "9355e66e-cb57-4226-f879-0de7b6944042"
      },
      "outputs": [
        {
          "data": {
            "text/html": [
              "<div>\n",
              "<style scoped>\n",
              "    .dataframe tbody tr th:only-of-type {\n",
              "        vertical-align: middle;\n",
              "    }\n",
              "\n",
              "    .dataframe tbody tr th {\n",
              "        vertical-align: top;\n",
              "    }\n",
              "\n",
              "    .dataframe thead th {\n",
              "        text-align: right;\n",
              "    }\n",
              "</style>\n",
              "<table border=\"1\" class=\"dataframe\">\n",
              "  <thead>\n",
              "    <tr style=\"text-align: right;\">\n",
              "      <th></th>\n",
              "      <th>id</th>\n",
              "      <th>rated</th>\n",
              "      <th>created_at</th>\n",
              "      <th>last_move_at</th>\n",
              "      <th>turns</th>\n",
              "      <th>victory_status</th>\n",
              "      <th>winner</th>\n",
              "      <th>increment_code</th>\n",
              "      <th>white_id</th>\n",
              "      <th>white_rating</th>\n",
              "      <th>black_id</th>\n",
              "      <th>black_rating</th>\n",
              "      <th>moves</th>\n",
              "      <th>opening_eco</th>\n",
              "      <th>opening_name</th>\n",
              "      <th>opening_ply</th>\n",
              "    </tr>\n",
              "  </thead>\n",
              "  <tbody>\n",
              "    <tr>\n",
              "      <th>0</th>\n",
              "      <td>TZJHLljE</td>\n",
              "      <td>False</td>\n",
              "      <td>1.504210e+12</td>\n",
              "      <td>1.504210e+12</td>\n",
              "      <td>13</td>\n",
              "      <td>outoftime</td>\n",
              "      <td>white</td>\n",
              "      <td>15+2</td>\n",
              "      <td>bourgris</td>\n",
              "      <td>1500</td>\n",
              "      <td>a-00</td>\n",
              "      <td>1191</td>\n",
              "      <td>d4 d5 c4 c6 cxd5 e6 dxe6 fxe6 Nf3 Bb4+ Nc3 Ba5...</td>\n",
              "      <td>D10</td>\n",
              "      <td>Slav Defense: Exchange Variation</td>\n",
              "      <td>5.0</td>\n",
              "    </tr>\n",
              "    <tr>\n",
              "      <th>1</th>\n",
              "      <td>l1NXvwaE</td>\n",
              "      <td>True</td>\n",
              "      <td>1.504130e+12</td>\n",
              "      <td>1.504130e+12</td>\n",
              "      <td>16</td>\n",
              "      <td>resign</td>\n",
              "      <td>black</td>\n",
              "      <td>5+10</td>\n",
              "      <td>a-00</td>\n",
              "      <td>1322</td>\n",
              "      <td>skinnerua</td>\n",
              "      <td>1261</td>\n",
              "      <td>d4 Nc6 e4 e5 f4 f6 dxe5 fxe5 fxe5 Nxe5 Qd4 Nc6...</td>\n",
              "      <td>B00</td>\n",
              "      <td>Nimzowitsch Defense: Kennedy Variation</td>\n",
              "      <td>4.0</td>\n",
              "    </tr>\n",
              "    <tr>\n",
              "      <th>2</th>\n",
              "      <td>mIICvQHh</td>\n",
              "      <td>True</td>\n",
              "      <td>1.504130e+12</td>\n",
              "      <td>1.504130e+12</td>\n",
              "      <td>61</td>\n",
              "      <td>mate</td>\n",
              "      <td>white</td>\n",
              "      <td>5+10</td>\n",
              "      <td>ischia</td>\n",
              "      <td>1496</td>\n",
              "      <td>a-00</td>\n",
              "      <td>1500</td>\n",
              "      <td>e4 e5 d3 d6 Be3 c6 Be2 b5 Nd2 a5 a4 c5 axb5 Nc...</td>\n",
              "      <td>C20</td>\n",
              "      <td>King's Pawn Game: Leonardis Variation</td>\n",
              "      <td>3.0</td>\n",
              "    </tr>\n",
              "    <tr>\n",
              "      <th>3</th>\n",
              "      <td>kWKvrqYL</td>\n",
              "      <td>True</td>\n",
              "      <td>1.504110e+12</td>\n",
              "      <td>1.504110e+12</td>\n",
              "      <td>61</td>\n",
              "      <td>mate</td>\n",
              "      <td>white</td>\n",
              "      <td>20+0</td>\n",
              "      <td>daniamurashov</td>\n",
              "      <td>1439</td>\n",
              "      <td>adivanov2009</td>\n",
              "      <td>1454</td>\n",
              "      <td>d4 d5 Nf3 Bf5 Nc3 Nf6 Bf4 Ng4 e3 Nc6 Be2 Qd7 O...</td>\n",
              "      <td>D02</td>\n",
              "      <td>Queen's Pawn Game: Zukertort Variation</td>\n",
              "      <td>3.0</td>\n",
              "    </tr>\n",
              "    <tr>\n",
              "      <th>4</th>\n",
              "      <td>9tXo1AUZ</td>\n",
              "      <td>True</td>\n",
              "      <td>1.504030e+12</td>\n",
              "      <td>1.504030e+12</td>\n",
              "      <td>95</td>\n",
              "      <td>mate</td>\n",
              "      <td>white</td>\n",
              "      <td>30+3</td>\n",
              "      <td>nik221107</td>\n",
              "      <td>1523</td>\n",
              "      <td>adivanov2009</td>\n",
              "      <td>1469</td>\n",
              "      <td>e4 e5 Nf3 d6 d4 Nc6 d5 Nb4 a3 Na6 Nc3 Be7 b4 N...</td>\n",
              "      <td>C41</td>\n",
              "      <td>Philidor Defense</td>\n",
              "      <td>5.0</td>\n",
              "    </tr>\n",
              "  </tbody>\n",
              "</table>\n",
              "</div>"
            ],
            "text/plain": [
              "         id  rated  ...                            opening_name  opening_ply\n",
              "0  TZJHLljE  False  ...        Slav Defense: Exchange Variation          5.0\n",
              "1  l1NXvwaE   True  ...  Nimzowitsch Defense: Kennedy Variation          4.0\n",
              "2  mIICvQHh   True  ...   King's Pawn Game: Leonardis Variation          3.0\n",
              "3  kWKvrqYL   True  ...  Queen's Pawn Game: Zukertort Variation          3.0\n",
              "4  9tXo1AUZ   True  ...                        Philidor Defense          5.0\n",
              "\n",
              "[5 rows x 16 columns]"
            ]
          },
          "execution_count": 4,
          "metadata": {
            "tags": []
          },
          "output_type": "execute_result"
        }
      ],
      "source": [
        "import numpy as np\n",
        "import pandas as pd\n",
        "import matplotlib.pyplot as plt\n",
        "\n",
        "#Cargamos los datos en Pandas\n",
        "games = pd.read_csv(\"data/games.csv\")\n",
        "#Mostramos .head() para ver los datos\n",
        "games.head()"
      ]
    },
    {
      "cell_type": "markdown",
      "metadata": {
        "id": "6tr97Sd8zTgR"
      },
      "source": [
        "1.¿Cuál es el porcentaje de victorias de los jugadores con blancas?\n"
      ]
    },
    {
      "cell_type": "code",
      "execution_count": null,
      "metadata": {
        "colab": {
          "base_uri": "https://localhost:8080/"
        },
        "id": "rNqHV9uBky6A",
        "outputId": "c7129a7a-a6e1-4075-da47-b251c797eb95"
      },
      "outputs": [
        {
          "name": "stdout",
          "output_type": "stream",
          "text": [
            "Ganan las blancas el 50.05780346820809\n"
          ]
        }
      ],
      "source": [
        "white_winners = games.loc[games['winner'] == \"white\"]\n",
        "percent_white = (white_winners.shape[0] / games.shape[0]) * 100\n",
        "print(f\"Ganan las blancas el {percent_white}\")"
      ]
    },
    {
      "cell_type": "markdown",
      "metadata": {
        "id": "FTJLqj5gkzdz"
      },
      "source": [
        "2.¿Cuál es el porcentaje de tablas?"
      ]
    },
    {
      "cell_type": "code",
      "execution_count": null,
      "metadata": {
        "colab": {
          "base_uri": "https://localhost:8080/"
        },
        "id": "cE3ASamXlRKP",
        "outputId": "ef6e1a07-be70-446f-bd39-427ffea5741f"
      },
      "outputs": [
        {
          "name": "stdout",
          "output_type": "stream",
          "text": [
            "Empate el 4.2952423299244105\n"
          ]
        }
      ],
      "source": [
        "draw = games.loc[games['winner'] == \"draw\"]\n",
        "percent_draw = (draw.shape[0] / games.shape[0]) * 100\n",
        "print(f\"Empate el {percent_draw}\")"
      ]
    },
    {
      "cell_type": "markdown",
      "metadata": {
        "id": "taSehb45lRnH"
      },
      "source": [
        "3.¿Cuál es el porcentaje de victorias de los jugadores con negras?\n",
        "\n",
        "\n",
        "\n",
        "\n"
      ]
    },
    {
      "cell_type": "code",
      "execution_count": null,
      "metadata": {
        "colab": {
          "base_uri": "https://localhost:8080/"
        },
        "id": "SYFtomA2lSbj",
        "outputId": "16c56744-06c8-448c-9e1f-5a092edd0109"
      },
      "outputs": [
        {
          "name": "stdout",
          "output_type": "stream",
          "text": [
            "Ganan las negras el 45.646954201867494\n"
          ]
        }
      ],
      "source": [
        "black_winners = games.loc[games['winner'] == \"black\"]\n",
        "percent_black = (black_winners.shape[0] / games.shape[0]) * 100\n",
        "print(f\"Ganan las negras el {percent_black}\")"
      ]
    },
    {
      "cell_type": "markdown",
      "metadata": {
        "id": "eafssAZplSys"
      },
      "source": [
        "4.¿Cuál es el ratio de los diferentes resultados cuando los jugadores se diferencián en menos de 100 puntos de ELO?\n",
        "\n",
        "\n"
      ]
    },
    {
      "cell_type": "code",
      "execution_count": null,
      "metadata": {
        "id": "oXV1v6aWli0f"
      },
      "outputs": [],
      "source": [
        "#Añadimos un campo que indica la diferencia de ELO entre los jugadores\n",
        "games['diff_elo'] = abs(games['white_rating'] - games['black_rating'])\n",
        "games.head()\n",
        "\n",
        "def calculate_win_rates(games, mode, max=0, min=0, equal=0, round_to=2):\n",
        "  #Obtenemos el subconjunto de datos\n",
        "  if (mode==\"smaller\"):\n",
        "    diff_elo = games.loc[games['diff_elo'] < max]\n",
        "  elif (mode==\"greater\"):\n",
        "    diff_elo = games.loc[games['diff_elo'] > min]\n",
        "  elif (mode==\"between\"):\n",
        "    diff_elo = games.loc[(games['diff_elo'] >= min) & (games['diff_elo'] <= max)]\n",
        "  else:\n",
        "    raise Exception(\"Mode not implemented\")\n",
        "  #Obtenemos los subsets\n",
        "  white_subset = diff_elo.loc[diff_elo['winner'] == \"white\"]\n",
        "  draw_subset = diff_elo.loc[diff_elo['winner'] == \"draw\"]\n",
        "  black_subset = diff_elo.loc[diff_elo['winner'] == \"black\"]\n",
        "  #Calculamos las estadísticas\n",
        "  white_percent = (white_subset.shape[0] / diff_elo.shape[0]) * 100\n",
        "  draw_percent = (draw_subset.shape[0] / diff_elo.shape[0]) * 100\n",
        "  black_percent = (black_subset.shape[0] / diff_elo.shape[0]) * 100\n",
        "  #Redondeamos los decimales\n",
        "  white_percent = round(white_percent, round_to)\n",
        "  draw_percent = round(draw_percent, round_to)\n",
        "  black_percent = round(black_percent, round_to)\n",
        "  return white_percent, draw_percent, black_percent\n",
        "\n",
        "white_percent_100, draw_percent_100, black_percent_100 = calculate_win_rates(games, \"smaller\", max=100)\n"
      ]
    },
    {
      "cell_type": "markdown",
      "metadata": {
        "id": "Z7bkNJAblknT"
      },
      "source": [
        "4.a. ¿Cuál es la relación de victorias con blancas?\n",
        "\n",
        "\n"
      ]
    },
    {
      "cell_type": "code",
      "execution_count": null,
      "metadata": {
        "colab": {
          "base_uri": "https://localhost:8080/"
        },
        "id": "b_khCLKfllFb",
        "outputId": "372748e6-d8d5-4206-df96-05f4a6763e0a"
      },
      "outputs": [
        {
          "name": "stdout",
          "output_type": "stream",
          "text": [
            "Ganan las blancas el 49.32 con una diferencia de menos de 100 de ELO\n"
          ]
        }
      ],
      "source": [
        "print(f\"Ganan las blancas el {white_percent_100} con una diferencia de menos de 100 de ELO\")"
      ]
    },
    {
      "cell_type": "markdown",
      "metadata": {
        "id": "9I1ctjx_llrr"
      },
      "source": [
        "4.b. ¿Cuál es la relación de tablas?"
      ]
    },
    {
      "cell_type": "code",
      "execution_count": null,
      "metadata": {
        "colab": {
          "base_uri": "https://localhost:8080/"
        },
        "id": "tUDtjZiEln9c",
        "outputId": "54364da8-0054-4fb5-c0c8-abc70d11cb63"
      },
      "outputs": [
        {
          "name": "stdout",
          "output_type": "stream",
          "text": [
            "Las tablas 4.96 con una diferencia de menos de 100 de ELO\n"
          ]
        }
      ],
      "source": [
        "print(f\"Las tablas {draw_percent_100} con una diferencia de menos de 100 de ELO\")"
      ]
    },
    {
      "cell_type": "markdown",
      "metadata": {
        "id": "w5A-bf_Xlohv"
      },
      "source": [
        "4.c. ¿Sigue la misma relación de victorias con negras?"
      ]
    },
    {
      "cell_type": "code",
      "execution_count": null,
      "metadata": {
        "colab": {
          "base_uri": "https://localhost:8080/"
        },
        "id": "Dga96Jnml7an",
        "outputId": "a87e1e59-10d6-4b01-9ccc-e0fba9e031a4"
      },
      "outputs": [
        {
          "name": "stdout",
          "output_type": "stream",
          "text": [
            "Ganan las negras el 45.72 con una diferencia de menos de 100 de ELO\n"
          ]
        }
      ],
      "source": [
        "print(f\"Ganan las negras el {black_percent_100} con una diferencia de menos de 100 de ELO\")"
      ]
    },
    {
      "cell_type": "markdown",
      "metadata": {
        "id": "rDjxOyzzl7-h"
      },
      "source": [
        "5.¿Cuál es el ratio de los diferentes resultados cuando los jugadores se diferencián entre 100 y 300 puntos de ELO?\n",
        "\n",
        "\n"
      ]
    },
    {
      "cell_type": "code",
      "execution_count": null,
      "metadata": {
        "id": "W6BzAvxOl84e"
      },
      "outputs": [],
      "source": [
        "white_percent_100_300, draw_percent_100_300, black_percent_100_300 = calculate_win_rates(games, \"between\", max=300, min=100)"
      ]
    },
    {
      "cell_type": "markdown",
      "metadata": {
        "id": "EpVXRZh-l9J3"
      },
      "source": [
        "5.a. ¿Cuál es la relación de victorias con blancas?"
      ]
    },
    {
      "cell_type": "code",
      "execution_count": null,
      "metadata": {
        "colab": {
          "base_uri": "https://localhost:8080/"
        },
        "id": "2Hok1_E9l9ha",
        "outputId": "041e4e3a-ffee-4a1b-9dc1-1f814230dada"
      },
      "outputs": [
        {
          "name": "stdout",
          "output_type": "stream",
          "text": [
            "Ganan las blancas el 50.11 con una diferencia de menos de entre 100 y 300 puntos de ELO\n"
          ]
        }
      ],
      "source": [
        "print(f\"Ganan las blancas el {white_percent_100_300} con una diferencia de menos de entre 100 y 300 puntos de ELO\")"
      ]
    },
    {
      "cell_type": "markdown",
      "metadata": {
        "id": "_EReeDjcl-Cs"
      },
      "source": [
        "5.b. ¿Cuál es la relación de tablas?"
      ]
    },
    {
      "cell_type": "code",
      "execution_count": null,
      "metadata": {
        "colab": {
          "base_uri": "https://localhost:8080/"
        },
        "id": "LSAhNLJ6l-aj",
        "outputId": "86f0ee36-0c79-42ac-b9a3-b755d990ec65"
      },
      "outputs": [
        {
          "name": "stdout",
          "output_type": "stream",
          "text": [
            "Las tablas 4.28 con una diferencia de menos de entre 100 y 300 puntos de ELO\n"
          ]
        }
      ],
      "source": [
        "print(f\"Las tablas {draw_percent_100_300} con una diferencia de menos de entre 100 y 300 puntos de ELO\")"
      ]
    },
    {
      "cell_type": "markdown",
      "metadata": {
        "id": "c7KFBU5pl-re"
      },
      "source": [
        "5.c. ¿Sigue la misma relación de victorias con negras?"
      ]
    },
    {
      "cell_type": "code",
      "execution_count": null,
      "metadata": {
        "colab": {
          "base_uri": "https://localhost:8080/"
        },
        "id": "4CWtqB1Ml_Ex",
        "outputId": "a0eb18cc-54ec-4779-e05b-64b854fe001f"
      },
      "outputs": [
        {
          "name": "stdout",
          "output_type": "stream",
          "text": [
            "Ganan las negras el 45.61 con una diferencia de entre 100 y 300 puntos de ELO\n"
          ]
        }
      ],
      "source": [
        "print(f\"Ganan las negras el {black_percent_100_300} con una diferencia de entre 100 y 300 puntos de ELO\")"
      ]
    },
    {
      "cell_type": "markdown",
      "metadata": {
        "id": "AY_jp49ml_dZ"
      },
      "source": [
        "6.¿Cuál es el ratio de los diferentes resultados cuando los jugadores se diferencián entre 100 y 300 puntos de ELO?"
      ]
    },
    {
      "cell_type": "code",
      "execution_count": null,
      "metadata": {
        "id": "w8AWkDLWmbIb"
      },
      "outputs": [],
      "source": [
        "white_percent_300, draw_percent_300, black_percent_300 = calculate_win_rates(games, \"greater\", min=300)"
      ]
    },
    {
      "cell_type": "markdown",
      "metadata": {
        "id": "KMzeU7Vcmb11"
      },
      "source": [
        "6.a. ¿Cuál es la relación de victorias con blancas?"
      ]
    },
    {
      "cell_type": "code",
      "execution_count": null,
      "metadata": {
        "colab": {
          "base_uri": "https://localhost:8080/"
        },
        "id": "BBHa25M0mcQa",
        "outputId": "18cd1e72-a65e-44c9-d65c-dce70322754c"
      },
      "outputs": [
        {
          "name": "stdout",
          "output_type": "stream",
          "text": [
            "Ganan las blancas el 51.64 con una diferencia de más de 300 puntos de ELO\n"
          ]
        }
      ],
      "source": [
        "print(f\"Ganan las blancas el {white_percent_300} con una diferencia de más de 300 puntos de ELO\")"
      ]
    },
    {
      "cell_type": "markdown",
      "metadata": {
        "id": "YeFlvNdxmcrx"
      },
      "source": [
        "6.b. ¿Cuál es la relación de tablas?"
      ]
    },
    {
      "cell_type": "code",
      "execution_count": null,
      "metadata": {
        "colab": {
          "base_uri": "https://localhost:8080/"
        },
        "id": "qsNq2wp5mdN4",
        "outputId": "5f4d2877-2220-4e73-ab8d-c0250a8f87de"
      },
      "outputs": [
        {
          "name": "stdout",
          "output_type": "stream",
          "text": [
            "Las tablas 2.81 con una diferencia de menos de más de 300 puntos de ELO\n"
          ]
        }
      ],
      "source": [
        "print(f\"Las tablas {draw_percent_300} con una diferencia de menos de más de 300 puntos de ELO\")"
      ]
    },
    {
      "cell_type": "markdown",
      "metadata": {
        "id": "tAnKJMnKmfAa"
      },
      "source": [
        "6.c. ¿Sigue la misma relación de victorias con negras?"
      ]
    },
    {
      "cell_type": "code",
      "execution_count": null,
      "metadata": {
        "colab": {
          "base_uri": "https://localhost:8080/"
        },
        "id": "lTN3KQszmd4R",
        "outputId": "2fd793a1-f88a-4761-b59d-82c898ed9264"
      },
      "outputs": [
        {
          "name": "stdout",
          "output_type": "stream",
          "text": [
            "Ganan las negras el 45.55 con una diferencia de más de 300 puntos de ELO\n"
          ]
        }
      ],
      "source": [
        "print(f\"Ganan las negras el {black_percent_300} con una diferencia de más de 300 puntos de ELO\")"
      ]
    },
    {
      "cell_type": "markdown",
      "metadata": {
        "id": "4k0RmH7DmjAq"
      },
      "source": [
        "7.Dibujar la gráfica en MatplotLib de la diferencia por ELO\n",
        "\n"
      ]
    },
    {
      "cell_type": "code",
      "execution_count": null,
      "metadata": {
        "colab": {
          "base_uri": "https://localhost:8080/",
          "height": 297
        },
        "id": "cpn487nImkBa",
        "outputId": "e88bace5-8872-4475-fc49-8e371c3a5101"
      },
      "outputs": [
        {
          "data": {
            "image/png": "[encoded data removed]",
            "text/plain": [
              "<Figure size 432x288 with 1 Axes>"
            ]
          },
          "metadata": {
            "needs_background": "light",
            "tags": []
          },
          "output_type": "display_data"
        }
      ],
      "source": [
        "labels = [\"Menos de 100\", \"Entre 100 y 300\", \"Más de 300\"]\n",
        "white_rates = [white_percent_100, white_percent_100_300, white_percent_300]\n",
        "draw_rates = [draw_percent_100, draw_percent_100_300, draw_percent_300]\n",
        "black_rates = [black_percent_100, black_percent_100_300, black_percent_300]\n",
        "\n",
        "width = 0.25  # Establecemos el ancho de las barras\n",
        "x1 = np.arange(len(labels))\n",
        "x2 = [x + width for x in x1]\n",
        "x3 = [x + width for x in x2]\n",
        "\n",
        "fig, ax = plt.subplots()\n",
        "rects1 = ax.bar(x1, white_rates, width, label='Blancas')\n",
        "rects2 = ax.bar(x2, draw_rates, width, label='Tablas')\n",
        "rects3 = ax.bar(x3, black_rates, width, label='Negras')\n",
        "\n",
        "# Añadimos datos extra de la gráfica\n",
        "ax.set_ylabel('Ratio de victoria')\n",
        "ax.set_title('Ratios de victoria, empate y derrota por ELO')\n",
        "ax.set_xticks(x2)\n",
        "ax.set_xticklabels(labels)\n",
        "ax.legend( bbox_to_anchor=(1.05, 1), loc='upper left')\n",
        "\n",
        "def autolabel(rects):\n",
        "    \"\"\"Añadidos una etiqueta a cada uno de las barras, mostrando su valor.\"\"\"\n",
        "    for rect in rects:\n",
        "        height = rect.get_height()\n",
        "        ax.annotate('{}'.format(height),\n",
        "                    xy=(rect.get_x() + rect.get_width() / 2, height),\n",
        "                    xytext=(0, 3),\n",
        "                    textcoords=\"offset points\",\n",
        "                    ha='center', va='bottom')\n",
        "\n",
        "autolabel(rects1)\n",
        "autolabel(rects2)\n",
        "autolabel(rects3)\n",
        "\n",
        "fig.tight_layout()\n",
        "plt.show()"
      ]
    },
    {
      "cell_type": "markdown",
      "metadata": {
        "id": "P8x512jqmkY7"
      },
      "source": [
        "8.¿Influye el ser una partida con o sin ranking en el número de jugadas de una partida?"
      ]
    },
    {
      "cell_type": "code",
      "execution_count": null,
      "metadata": {
        "colab": {
          "base_uri": "https://localhost:8080/"
        },
        "id": "y8BPFCTbmk8F",
        "outputId": "ddad8826-e131-4482-db59-b1dba8f3985a"
      },
      "outputs": [
        {
          "name": "stdout",
          "output_type": "stream",
          "text": [
            "La media de jugadas cuando las partidas son válidas para ELO es 62.0.\n",
            "La media de jugadas cuando las partidas no son válidas para ELO es 54.0.\n"
          ]
        }
      ],
      "source": [
        "turnos = games['turns']\n",
        "turnos.groupby(games['rated']).mean()\n",
        "\n",
        "turnos_rankeadas = games[games['rated']==True]\n",
        "tr=round(turnos_rankeadas['turns'].mean(),0)\n",
        "print(f\"La media de jugadas cuando las partidas son válidas para ELO es {tr}.\")\n",
        "\n",
        "turnos_no_rankeadas = games[games['rated']==False]\n",
        "tnr=round(turnos_no_rankeadas['turns'].mean(),0)\n",
        "print(f\"La media de jugadas cuando las partidas no son válidas para ELO es {tnr}.\")"
      ]
    },
    {
      "cell_type": "markdown",
      "metadata": {
        "id": "4x6GQmqonXj_"
      },
      "source": [
        "8.b. Dibujar la gráfica"
      ]
    },
    {
      "cell_type": "code",
      "execution_count": null,
      "metadata": {
        "colab": {
          "base_uri": "https://localhost:8080/",
          "height": 297
        },
        "id": "C46a5BmLnbSy",
        "outputId": "5908f6bb-adee-416f-ee92-d5650bd61108"
      },
      "outputs": [
        {
          "data": {
            "image/png": "[encoded data removed]",
            "text/plain": [
              "<Figure size 432x288 with 1 Axes>"
            ]
          },
          "metadata": {
            "needs_background": "light",
            "tags": []
          },
          "output_type": "display_data"
        }
      ],
      "source": [
        "labels = ['Media de turnos (rankeadas)', 'Media de turnos (no rankeadas)']\n",
        "turnos_labels = [tr, tnr]\n",
        "\n",
        "x = np.arange(len(labels))\n",
        "width = 0.35  # El ancho de las barras\n",
        "\n",
        "fig, ax = plt.subplots()\n",
        "rects = ax.bar(x, turnos_labels, width, label='Turnos')\n",
        "\n",
        "# Añadimos datos extra a la gráfica.\n",
        "ax.set_ylabel('Turnos')\n",
        "ax.set_title('Turnos agrupados por tipo de partida')\n",
        "ax.set_xticks(x)\n",
        "ax.set_xticklabels(labels)\n",
        "ax.legend()\n",
        "\n",
        "\n",
        "def autolabel(rects):\n",
        "    for rect in rects:\n",
        "        height = rect.get_height()\n",
        "        ax.annotate('{}'.format(height),\n",
        "                    xy=(rect.get_x() + rect.get_width() / 2, height),\n",
        "                    xytext=(0, 3),\n",
        "                    textcoords=\"offset points\",\n",
        "                    ha='center', va='bottom')\n",
        "\n",
        "\n",
        "autolabel(rects)\n",
        "\n",
        "fig.tight_layout()\n",
        "\n",
        "plt.show()"
      ]
    },
    {
      "cell_type": "markdown",
      "metadata": {
        "id": "DyPjZSwNnzRg"
      },
      "source": [
        "9.¿Cual es la apertuda más jugada?"
      ]
    },
    {
      "cell_type": "code",
      "execution_count": null,
      "metadata": {
        "colab": {
          "base_uri": "https://localhost:8080/",
          "height": 297
        },
        "id": "gZiKMdkoEOGh",
        "outputId": "a0eddf41-9da9-403f-e909-7ad915996c8a"
      },
      "outputs": [
        {
          "data": {
            "image/png": "[encoded data removed]",
            "text/plain": [
              "<Figure size 432x288 with 1 Axes>"
            ]
          },
          "metadata": {
            "needs_background": "light",
            "tags": []
          },
          "output_type": "display_data"
        }
      ],
      "source": [
        "count_openings = games.groupby(['opening_eco']).size().reset_index(name='counts')\n",
        "openings_ordered = count_openings.sort_values('counts', ascending=False)\n",
        "\n",
        "n1=openings_ordered.iloc[0]\n",
        "n2=openings_ordered.iloc[1]\n",
        "n3=openings_ordered.iloc[2]\n",
        "\n",
        "labels = [n1['opening_eco'], n2['opening_eco'], n3['opening_eco']]\n",
        "turnos_labels = [n1['counts'], n2['counts'], n3['counts']]\n",
        "\n",
        "x = np.arange(len(labels))\n",
        "width = 0.35  # Establecemos el ancho de las barras\n",
        "\n",
        "fig, ax = plt.subplots()\n",
        "rects = ax.bar(x, turnos_labels, width, label='Veces realizadas')\n",
        "\n",
        "ax.set_ylabel('turnos')\n",
        "ax.set_title('Aperturas más jugadas')\n",
        "ax.set_xticks(x)\n",
        "ax.set_xticklabels(labels)\n",
        "ax.legend()\n",
        "\n",
        "autolabel(rects)\n",
        "\n",
        "fig.tight_layout()\n",
        "\n",
        "plt.show()"
      ]
    },
    {
      "cell_type": "markdown",
      "metadata": {
        "id": "8pft5klroUGt"
      },
      "source": [
        "10.¿Como acaba la partida en ranking y sin ranking?\n"
      ]
    },
    {
      "cell_type": "markdown",
      "metadata": {
        "id": "qZ72Z-rNok0W"
      },
      "source": [
        "10.a ¿Cuál es el resultado más común?"
      ]
    },
    {
      "cell_type": "code",
      "execution_count": null,
      "metadata": {
        "colab": {
          "base_uri": "https://localhost:8080/"
        },
        "id": "rHrNtqdxUbeP",
        "outputId": "bf87ab14-44af-48b3-bab3-2ae7bcedd7b2"
      },
      "outputs": [
        {
          "name": "stdout",
          "output_type": "stream",
          "text": [
            "La razón por la que se finaliza más frecuentemente una partida en 'rated' es 'resign' con 8969 casos\n",
            "La razón por la que se finaliza más frecuentemente una partida en 'unrated' es 'resign' con 2178 casos\n"
          ]
        }
      ],
      "source": [
        "#Obtenemos el número de veces que ocurre cada combinación\n",
        "ends_grouped = games.groupby(['rated', 'victory_status']).size().reset_index(name='counts')\n",
        "#Separamos el DataFrame entre los que son de partidas con ranking\n",
        "ends_rated = ends_grouped.loc[ends_grouped['rated'] == True]\n",
        "ends_unrated = ends_grouped.loc[ends_grouped['rated'] == False]\n",
        "#Ordenamos por \"counts\" y obtenemos los dos más\n",
        "more_common_rated = ends_rated.sort_values('counts', ascending=False).iloc[0]\n",
        "more_common_unrated = ends_unrated.sort_values('counts', ascending=False).iloc[0]\n",
        "print(f\"La razón por la que se finaliza más frecuentemente una partida en 'rated' es '{more_common_rated['victory_status']}' \" + \\\n",
        "  f\"con {more_common_rated['counts']} casos\")\n",
        "print(f\"La razón por la que se finaliza más frecuentemente una partida en 'unrated' es '{more_common_unrated['victory_status']}' \" + \\\n",
        "  f\"con {more_common_unrated['counts']} casos\")"
      ]
    },
    {
      "cell_type": "markdown",
      "metadata": {
        "id": "EWOY5evLoWYy"
      },
      "source": [
        "10.b. ¿Que porcentaje representa \"resign\"?"
      ]
    },
    {
      "cell_type": "code",
      "execution_count": null,
      "metadata": {
        "colab": {
          "base_uri": "https://localhost:8080/"
        },
        "id": "IqTyj5qLUbAc",
        "outputId": "e30ffda5-3fd5-4e9a-ff1a-0c89f1fff1c9"
      },
      "outputs": [
        {
          "name": "stdout",
          "output_type": "stream",
          "text": [
            "El número de partidas acabadas por 'resign' en partidas con raking es del 55.52%\n",
            "El número de partidas acabadas por 'resign' en partidas sin raking es del 55.8%\n"
          ]
        }
      ],
      "source": [
        "total_rated = games.loc[games[\"rated\"]==True]\n",
        "total_unrated = games.loc[games[\"rated\"]==False]\n",
        "total_resign_rated = round((more_common_rated['counts'] / total_rated.shape[0]) * 100, 2)\n",
        "total_resign_unrated = round((more_common_unrated['counts'] / total_unrated.shape[0]) * 100, 2)\n",
        "\n",
        "print(f\"El número de partidas acabadas por 'resign' en partidas con raking es del {total_resign_rated}%\" )\n",
        "print(f\"El número de partidas acabadas por 'resign' en partidas sin raking es del {total_resign_unrated}%\" )"
      ]
    },
    {
      "cell_type": "markdown",
      "metadata": {
        "id": "jf81Lk5QBEye"
      },
      "source": [
        "# Mapa de calor\n",
        "\n",
        "Análisis de las casillas que más se utilizan en las partidas\n",
        "\n"
      ]
    },
    {
      "cell_type": "code",
      "execution_count": null,
      "metadata": {
        "colab": {
          "base_uri": "https://localhost:8080/",
          "height": 206
        },
        "id": "UC4Dp1872C0w",
        "outputId": "cc363c85-d3b9-4641-cedf-44dd1703a9b0"
      },
      "outputs": [
        {
          "data": {
            "text/html": [
              "<div>\n",
              "<style scoped>\n",
              "    .dataframe tbody tr th:only-of-type {\n",
              "        vertical-align: middle;\n",
              "    }\n",
              "\n",
              "    .dataframe tbody tr th {\n",
              "        vertical-align: top;\n",
              "    }\n",
              "\n",
              "    .dataframe thead th {\n",
              "        text-align: right;\n",
              "    }\n",
              "</style>\n",
              "<table border=\"1\" class=\"dataframe\">\n",
              "  <thead>\n",
              "    <tr style=\"text-align: right;\">\n",
              "      <th></th>\n",
              "      <th>moves</th>\n",
              "    </tr>\n",
              "  </thead>\n",
              "  <tbody>\n",
              "    <tr>\n",
              "      <th>0</th>\n",
              "      <td>d4 d5 c4 c6 cxd5 e6 dxe6 fxe6 Nf3 Bb4+ Nc3 Ba5...</td>\n",
              "    </tr>\n",
              "    <tr>\n",
              "      <th>1</th>\n",
              "      <td>d4 Nc6 e4 e5 f4 f6 dxe5 fxe5 fxe5 Nxe5 Qd4 Nc6...</td>\n",
              "    </tr>\n",
              "    <tr>\n",
              "      <th>2</th>\n",
              "      <td>e4 e5 d3 d6 Be3 c6 Be2 b5 Nd2 a5 a4 c5 axb5 Nc...</td>\n",
              "    </tr>\n",
              "    <tr>\n",
              "      <th>3</th>\n",
              "      <td>d4 d5 Nf3 Bf5 Nc3 Nf6 Bf4 Ng4 e3 Nc6 Be2 Qd7 O...</td>\n",
              "    </tr>\n",
              "    <tr>\n",
              "      <th>4</th>\n",
              "      <td>e4 e5 Nf3 d6 d4 Nc6 d5 Nb4 a3 Na6 Nc3 Be7 b4 N...</td>\n",
              "    </tr>\n",
              "  </tbody>\n",
              "</table>\n",
              "</div>"
            ],
            "text/plain": [
              "                                               moves\n",
              "0  d4 d5 c4 c6 cxd5 e6 dxe6 fxe6 Nf3 Bb4+ Nc3 Ba5...\n",
              "1  d4 Nc6 e4 e5 f4 f6 dxe5 fxe5 fxe5 Nxe5 Qd4 Nc6...\n",
              "2  e4 e5 d3 d6 Be3 c6 Be2 b5 Nd2 a5 a4 c5 axb5 Nc...\n",
              "3  d4 d5 Nf3 Bf5 Nc3 Nf6 Bf4 Ng4 e3 Nc6 Be2 Qd7 O...\n",
              "4  e4 e5 Nf3 d6 d4 Nc6 d5 Nb4 a3 Na6 Nc3 Be7 b4 N..."
            ]
          },
          "execution_count": 30,
          "metadata": {
            "tags": []
          },
          "output_type": "execute_result"
        }
      ],
      "source": [
        "#MAPA DE CALOR DE LAS CASILLAS MÁS USADAS\n",
        "import re\n",
        "\n",
        "#obtenemos las jugadas\n",
        "chess = pd.read_csv(\"data/games.csv\")\n",
        "chess_moves = chess[['moves']].copy()\n",
        "chess_moves.head()"
      ]
    },
    {
      "cell_type": "code",
      "execution_count": null,
      "metadata": {
        "colab": {
          "base_uri": "https://localhost:8080/",
          "height": 206
        },
        "id": "ROX5SaMf_3R9",
        "outputId": "77e663db-8299-4bc6-bbe9-73e9dbdd0f65"
      },
      "outputs": [
        {
          "data": {
            "text/html": [
              "<div>\n",
              "<style scoped>\n",
              "    .dataframe tbody tr th:only-of-type {\n",
              "        vertical-align: middle;\n",
              "    }\n",
              "\n",
              "    .dataframe tbody tr th {\n",
              "        vertical-align: top;\n",
              "    }\n",
              "\n",
              "    .dataframe thead th {\n",
              "        text-align: right;\n",
              "    }\n",
              "</style>\n",
              "<table border=\"1\" class=\"dataframe\">\n",
              "  <thead>\n",
              "    <tr style=\"text-align: right;\">\n",
              "      <th></th>\n",
              "      <th>moves</th>\n",
              "      <th>each_move</th>\n",
              "    </tr>\n",
              "  </thead>\n",
              "  <tbody>\n",
              "    <tr>\n",
              "      <th>0</th>\n",
              "      <td>d4 d5 c4 c6 cxd5 e6 dxe6 fxe6 Nf3 Bb4+ Nc3 Ba5...</td>\n",
              "      <td>[d4, d5, c4, c6, cxd5, e6, dxe6, fxe6, Nf3, Bb...</td>\n",
              "    </tr>\n",
              "    <tr>\n",
              "      <th>1</th>\n",
              "      <td>d4 Nc6 e4 e5 f4 f6 dxe5 fxe5 fxe5 Nxe5 Qd4 Nc6...</td>\n",
              "      <td>[d4, Nc6, e4, e5, f4, f6, dxe5, fxe5, fxe5, Nx...</td>\n",
              "    </tr>\n",
              "    <tr>\n",
              "      <th>2</th>\n",
              "      <td>e4 e5 d3 d6 Be3 c6 Be2 b5 Nd2 a5 a4 c5 axb5 Nc...</td>\n",
              "      <td>[e4, e5, d3, d6, Be3, c6, Be2, b5, Nd2, a5, a4...</td>\n",
              "    </tr>\n",
              "    <tr>\n",
              "      <th>3</th>\n",
              "      <td>d4 d5 Nf3 Bf5 Nc3 Nf6 Bf4 Ng4 e3 Nc6 Be2 Qd7 O...</td>\n",
              "      <td>[d4, d5, Nf3, Bf5, Nc3, Nf6, Bf4, Ng4, e3, Nc6...</td>\n",
              "    </tr>\n",
              "    <tr>\n",
              "      <th>4</th>\n",
              "      <td>e4 e5 Nf3 d6 d4 Nc6 d5 Nb4 a3 Na6 Nc3 Be7 b4 N...</td>\n",
              "      <td>[e4, e5, Nf3, d6, d4, Nc6, d5, Nb4, a3, Na6, N...</td>\n",
              "    </tr>\n",
              "  </tbody>\n",
              "</table>\n",
              "</div>"
            ],
            "text/plain": [
              "                                               moves                                          each_move\n",
              "0  d4 d5 c4 c6 cxd5 e6 dxe6 fxe6 Nf3 Bb4+ Nc3 Ba5...  [d4, d5, c4, c6, cxd5, e6, dxe6, fxe6, Nf3, Bb...\n",
              "1  d4 Nc6 e4 e5 f4 f6 dxe5 fxe5 fxe5 Nxe5 Qd4 Nc6...  [d4, Nc6, e4, e5, f4, f6, dxe5, fxe5, fxe5, Nx...\n",
              "2  e4 e5 d3 d6 Be3 c6 Be2 b5 Nd2 a5 a4 c5 axb5 Nc...  [e4, e5, d3, d6, Be3, c6, Be2, b5, Nd2, a5, a4...\n",
              "3  d4 d5 Nf3 Bf5 Nc3 Nf6 Bf4 Ng4 e3 Nc6 Be2 Qd7 O...  [d4, d5, Nf3, Bf5, Nc3, Nf6, Bf4, Ng4, e3, Nc6...\n",
              "4  e4 e5 Nf3 d6 d4 Nc6 d5 Nb4 a3 Na6 Nc3 Be7 b4 N...  [e4, e5, Nf3, d6, d4, Nc6, d5, Nb4, a3, Na6, N..."
            ]
          },
          "execution_count": 31,
          "metadata": {
            "tags": []
          },
          "output_type": "execute_result"
        }
      ],
      "source": [
        "#Añadimos las jugadas separadas por comas\n",
        "def each_move(chess_moves):\n",
        "    each = (chess_moves['moves']).split(' ')\n",
        "\n",
        "    return each\n",
        "chess_moves['each_move'] = chess_moves.apply(each_move, axis=1)\n",
        "\n",
        "chess_moves.head()"
      ]
    },
    {
      "cell_type": "code",
      "execution_count": null,
      "metadata": {
        "colab": {
          "base_uri": "https://localhost:8080/",
          "height": 206
        },
        "id": "w_X5LY4T_aEN",
        "outputId": "4b6eb749-633f-412f-d992-94b32d0e66dc"
      },
      "outputs": [
        {
          "data": {
            "text/html": [
              "<div>\n",
              "<style scoped>\n",
              "    .dataframe tbody tr th:only-of-type {\n",
              "        vertical-align: middle;\n",
              "    }\n",
              "\n",
              "    .dataframe tbody tr th {\n",
              "        vertical-align: top;\n",
              "    }\n",
              "\n",
              "    .dataframe thead th {\n",
              "        text-align: right;\n",
              "    }\n",
              "</style>\n",
              "<table border=\"1\" class=\"dataframe\">\n",
              "  <thead>\n",
              "    <tr style=\"text-align: right;\">\n",
              "      <th></th>\n",
              "      <th>moves</th>\n",
              "      <th>each_move</th>\n",
              "      <th>square</th>\n",
              "    </tr>\n",
              "  </thead>\n",
              "  <tbody>\n",
              "    <tr>\n",
              "      <th>0</th>\n",
              "      <td>d4 d5 c4 c6 cxd5 e6 dxe6 fxe6 Nf3 Bb4+ Nc3 Ba5...</td>\n",
              "      <td>[d4, d5, c4, c6, cxd5, e6, dxe6, fxe6, Nf3, Bb...</td>\n",
              "      <td>[d4, d5, c4, c6, d5, e6, e6, e6, f3, b4, c3, a...</td>\n",
              "    </tr>\n",
              "    <tr>\n",
              "      <th>1</th>\n",
              "      <td>d4 Nc6 e4 e5 f4 f6 dxe5 fxe5 fxe5 Nxe5 Qd4 Nc6...</td>\n",
              "      <td>[d4, Nc6, e4, e5, f4, f6, dxe5, fxe5, fxe5, Nx...</td>\n",
              "      <td>[d4, c6, e4, e5, f4, f6, e5, e5, e5, e5, d4, c...</td>\n",
              "    </tr>\n",
              "    <tr>\n",
              "      <th>2</th>\n",
              "      <td>e4 e5 d3 d6 Be3 c6 Be2 b5 Nd2 a5 a4 c5 axb5 Nc...</td>\n",
              "      <td>[e4, e5, d3, d6, Be3, c6, Be2, b5, Nd2, a5, a4...</td>\n",
              "      <td>[e4, e5, d3, d6, e3, c6, e2, b5, d2, a5, a4, c...</td>\n",
              "    </tr>\n",
              "    <tr>\n",
              "      <th>3</th>\n",
              "      <td>d4 d5 Nf3 Bf5 Nc3 Nf6 Bf4 Ng4 e3 Nc6 Be2 Qd7 O...</td>\n",
              "      <td>[d4, d5, Nf3, Bf5, Nc3, Nf6, Bf4, Ng4, e3, Nc6...</td>\n",
              "      <td>[d4, d5, f3, f5, c3, f6, f4, g4, e3, c6, e2, d...</td>\n",
              "    </tr>\n",
              "    <tr>\n",
              "      <th>4</th>\n",
              "      <td>e4 e5 Nf3 d6 d4 Nc6 d5 Nb4 a3 Na6 Nc3 Be7 b4 N...</td>\n",
              "      <td>[e4, e5, Nf3, d6, d4, Nc6, d5, Nb4, a3, Na6, N...</td>\n",
              "      <td>[e4, e5, f3, d6, d4, c6, d5, b4, a3, a6, c3, e...</td>\n",
              "    </tr>\n",
              "  </tbody>\n",
              "</table>\n",
              "</div>"
            ],
            "text/plain": [
              "                                               moves  ...                                             square\n",
              "0  d4 d5 c4 c6 cxd5 e6 dxe6 fxe6 Nf3 Bb4+ Nc3 Ba5...  ...  [d4, d5, c4, c6, d5, e6, e6, e6, f3, b4, c3, a...\n",
              "1  d4 Nc6 e4 e5 f4 f6 dxe5 fxe5 fxe5 Nxe5 Qd4 Nc6...  ...  [d4, c6, e4, e5, f4, f6, e5, e5, e5, e5, d4, c...\n",
              "2  e4 e5 d3 d6 Be3 c6 Be2 b5 Nd2 a5 a4 c5 axb5 Nc...  ...  [e4, e5, d3, d6, e3, c6, e2, b5, d2, a5, a4, c...\n",
              "3  d4 d5 Nf3 Bf5 Nc3 Nf6 Bf4 Ng4 e3 Nc6 Be2 Qd7 O...  ...  [d4, d5, f3, f5, c3, f6, f4, g4, e3, c6, e2, d...\n",
              "4  e4 e5 Nf3 d6 d4 Nc6 d5 Nb4 a3 Na6 Nc3 Be7 b4 N...  ...  [e4, e5, f3, d6, d4, c6, d5, b4, a3, a6, c3, e...\n",
              "\n",
              "[5 rows x 3 columns]"
            ]
          },
          "execution_count": 32,
          "metadata": {
            "tags": []
          },
          "output_type": "execute_result"
        }
      ],
      "source": [
        "#Ahora añadimos la columna donde obtenemos para cada jugada la casilla a la que vamos\n",
        "def square(chess_moves):\n",
        "    squares = []\n",
        "    for m in chess_moves['each_move']:\n",
        "        if m == 'O-O' or m == 'O-O+':\n",
        "            if chess_moves['each_move'].index(m)%2 == 0:\n",
        "                squares.append('g1')\n",
        "                squares.append('f1')\n",
        "            elif chess_moves['each_move'].index(m)%2 == 1:\n",
        "                squares.append('g8')\n",
        "                squares.append('f8')\n",
        "        elif m == 'O-O-O' or m =='O-O-O+':\n",
        "            if chess_moves['each_move'].index(m)%2 == 0:\n",
        "                squares.append('c1')\n",
        "                squares.append('d1')\n",
        "            elif chess_moves['each_move'].index(m)%2 == 1:\n",
        "                squares.append('c8')\n",
        "                squares.append('d8')\n",
        "        else:\n",
        "            if '=' in m:\n",
        "                squares.append(m.split('=')[0][-2:])\n",
        "            elif m[-1] == '+' or m[-1] =='#':\n",
        "                squares.append(m[-3:-1])\n",
        "            else:\n",
        "                squares.append(m[-2:])\n",
        "\n",
        "    return squares\n",
        "chess_moves['square'] = chess_moves.apply(square, axis=1)\n",
        "\n",
        "chess_moves.head()"
      ]
    },
    {
      "cell_type": "code",
      "execution_count": null,
      "metadata": {
        "id": "H-M2MK3jAant"
      },
      "outputs": [],
      "source": [
        "# Creamos un diccionario y guardamos las frecuencias\n",
        "sq_count = {}\n",
        "for s in chess_moves['square']:\n",
        "    for i in s:\n",
        "        sq_count[i] = sq_count.get(i, 0) + 1\n",
        "# Normalizamos valores\n",
        "def normalize(d, target=1.0):\n",
        "   raw = sum(d.values())\n",
        "   factor = target/raw\n",
        "   return {key:round(value*factor*100,2) for key,value in d.items()}\n",
        "sq_norm = normalize(sq_count)\n"
      ]
    },
    {
      "cell_type": "code",
      "execution_count": null,
      "metadata": {
        "id": "b-vTOO4UAmPA"
      },
      "outputs": [],
      "source": [
        "# Convertimos el diccionario en una lista\n",
        "letter = ['a','b','c','d','e','f','g','h']\n",
        "eight = []\n",
        "for k in letter:\n",
        "    eight.append(sq_norm[k+'8'])\n",
        "\n",
        "sev = []\n",
        "for k in letter:\n",
        "    sev.append(sq_norm[k+'7'])\n",
        "\n",
        "six = []\n",
        "for k in letter:\n",
        "    six.append(sq_norm[k+'6'])\n",
        "\n",
        "fiv = []\n",
        "for k in letter:\n",
        "    fiv.append(sq_norm[k+'5'])\n",
        "\n",
        "four = []\n",
        "for k in letter:\n",
        "    four.append(sq_norm[k+'4'])\n",
        "\n",
        "thr = []\n",
        "for k in letter:\n",
        "    thr.append(sq_norm[k+'3'])\n",
        "\n",
        "two = []\n",
        "for k in letter:\n",
        "    two.append(sq_norm[k+'2'])\n",
        "\n",
        "one = []\n",
        "for k in letter:\n",
        "    one.append(sq_norm[k+'1'])\n",
        "\n"
      ]
    },
    {
      "cell_type": "code",
      "execution_count": null,
      "metadata": {
        "colab": {
          "base_uri": "https://localhost:8080/",
          "height": 297
        },
        "id": "TogI4Vl5Aye3",
        "outputId": "11623481-b070-4825-9d87-c2991e88a3df"
      },
      "outputs": [
        {
          "data": {
            "image/png": "[encoded data removed]",
            "text/plain": [
              "<Figure size 432x288 with 1 Axes>"
            ]
          },
          "metadata": {
            "needs_background": "light",
            "tags": []
          },
          "output_type": "display_data"
        }
      ],
      "source": [
        "# Dibujamos el tablero\n",
        "number = [\"8\",\"7\", \"6\", \"5\", \"4\",\n",
        "              \"3\", \"2\", \"1\"]\n",
        "alphabet = [\"a\", \"b\", \"c\",\n",
        "           \"d\", \"e\", \"f\", \"g\",\"h\"]\n",
        "board = np.array([eight,sev,six,fiv,four,thr,two,one])\n",
        "\n",
        "\n",
        "fig, ax = plt.subplots()\n",
        "im = ax.imshow(board)\n",
        "\n",
        "ax.set_xticks(np.arange(len(alphabet)))\n",
        "ax.set_yticks(np.arange(len(number)))\n",
        "ax.set_xticklabels(alphabet)\n",
        "ax.set_yticklabels(number)\n",
        "\n",
        "# Rotamos las etiquetas.\n",
        "plt.setp(ax.get_xticklabels(), rotation=45, ha=\"right\",\n",
        "         rotation_mode=\"anchor\")\n",
        "# Iteramos sobre los datos y los etiquetamos.\n",
        "for i in range(len(number)):\n",
        "    for j in range(len(alphabet)):\n",
        "        text = ax.text(j, i, board[i, j],\n",
        "                       ha=\"center\", va=\"center\", color=\"w\")\n",
        "\n",
        "ax.set_title(\"Frecuencia de ocupación de cada casilla (normalizada)\")\n",
        "fig.tight_layout()\n",
        "plt.show()"
      ]
    },
    {
      "cell_type": "markdown",
      "metadata": {
        "id": "eufq29l6tqnT"
      },
      "source": [
        "# Líneas futuras\n",
        "\n",
        "*    Sería interesante investigar acerca de la duración de las partidas\n",
        "*    Un historico de los usuarios para ver evoluciones de éstos\n",
        "*    Profundizar en las diferencias entre partidas con y sin ranking"
      ]
    }
  ],
  "metadata": {
    "colab": {
      "provenance": [],
      "toc_visible": true,
      "include_colab_link": true
    },
    "kernelspec": {
      "display_name": "Python 3",
      "language": "python",
      "name": "python3"
    },
    "language_info": {
      "codemirror_mode": {
        "name": "ipython",
        "version": 3
      },
      "file_extension": ".py",
      "mimetype": "text/x-python",
      "name": "python",
      "nbconvert_exporter": "python",
      "pygments_lexer": "ipython3",
      "version": "3.8.3"
    }
  },
  "nbformat": 4,
  "nbformat_minor": 0
}