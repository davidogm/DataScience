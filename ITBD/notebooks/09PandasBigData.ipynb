{
  "nbformat": 4,
  "nbformat_minor": 0,
  "metadata": {
    "colab": {
      "provenance": [],
      "mount_file_id": "1RLwr5DSOppSQHECFouOUAS11ewgF8UHj",
      "authorship_tag": "ABX9TyP6nN/C6vJg1DdPLqjlEmil",
      "include_colab_link": true
    },
    "kernelspec": {
      "name": "python3",
      "display_name": "Python 3"
    }
  },
  "cells": [
    {
      "cell_type": "markdown",
      "metadata": {
        "id": "view-in-github",
        "colab_type": "text"
      },
      "source": [
        "<a href=\"https://colab.research.google.com/github/davidogm/DataScience/blob/main/ITBD/notebooks/09PandasBigData.ipynb\" target=\"_parent\"><img src=\"https://colab.research.google.com/assets/colab-badge.svg\" alt=\"Open In Colab\"/></a>"
      ]
    },
    {
      "cell_type": "markdown",
      "metadata": {
        "id": "cGeqw4WpCBA5"
      },
      "source": [
        "**Ejemplos big data**\n",
        "\n",
        "usando chunksize"
      ]
    },
    {
      "cell_type": "code",
      "metadata": {
        "id": "kxRLsIexy0d-"
      },
      "source": [
        "import pandas as pd       "
      ],
      "execution_count": null,
      "outputs": []
    },
    {
      "cell_type": "code",
      "metadata": {
        "id": "me7u752oDfIg",
        "colab": {
          "resources": {
            "http://localhost:8080/nbextensions/google.colab/files.js": {
              "data": "Ly8gQ29weXJpZ2h0IDIwMTcgR29vZ2xlIExMQwovLwovLyBMaWNlbnNlZCB1bmRlciB0aGUgQXBhY2hlIExpY2Vuc2UsIFZlcnNpb24gMi4wICh0aGUgIkxpY2Vuc2UiKTsKLy8geW91IG1heSBub3QgdXNlIHRoaXMgZmlsZSBleGNlcHQgaW4gY29tcGxpYW5jZSB3aXRoIHRoZSBMaWNlbnNlLgovLyBZb3UgbWF5IG9idGFpbiBhIGNvcHkgb2YgdGhlIExpY2Vuc2UgYXQKLy8KLy8gICAgICBodHRwOi8vd3d3LmFwYWNoZS5vcmcvbGljZW5zZXMvTElDRU5TRS0yLjAKLy8KLy8gVW5sZXNzIHJlcXVpcmVkIGJ5IGFwcGxpY2FibGUgbGF3IG9yIGFncmVlZCB0byBpbiB3cml0aW5nLCBzb2Z0d2FyZQovLyBkaXN0cmlidXRlZCB1bmRlciB0aGUgTGljZW5zZSBpcyBkaXN0cmlidXRlZCBvbiBhbiAiQVMgSVMiIEJBU0lTLAovLyBXSVRIT1VUIFdBUlJBTlRJRVMgT1IgQ09ORElUSU9OUyBPRiBBTlkgS0lORCwgZWl0aGVyIGV4cHJlc3Mgb3IgaW1wbGllZC4KLy8gU2VlIHRoZSBMaWNlbnNlIGZvciB0aGUgc3BlY2lmaWMgbGFuZ3VhZ2UgZ292ZXJuaW5nIHBlcm1pc3Npb25zIGFuZAovLyBsaW1pdGF0aW9ucyB1bmRlciB0aGUgTGljZW5zZS4KCi8qKgogKiBAZmlsZW92ZXJ2aWV3IEhlbHBlcnMgZm9yIGdvb2dsZS5jb2xhYiBQeXRob24gbW9kdWxlLgogKi8KKGZ1bmN0aW9uKHNjb3BlKSB7CmZ1bmN0aW9uIHNwYW4odGV4dCwgc3R5bGVBdHRyaWJ1dGVzID0ge30pIHsKICBjb25zdCBlbGVtZW50ID0gZG9jdW1lbnQuY3JlYXRlRWxlbWVudCgnc3BhbicpOwogIGVsZW1lbnQudGV4dENvbnRlbnQgPSB0ZXh0OwogIGZvciAoY29uc3Qga2V5IG9mIE9iamVjdC5rZXlzKHN0eWxlQXR0cmlidXRlcykpIHsKICAgIGVsZW1lbnQuc3R5bGVba2V5XSA9IHN0eWxlQXR0cmlidXRlc1trZXldOwogIH0KICByZXR1cm4gZWxlbWVudDsKfQoKLy8gTWF4IG51bWJlciBvZiBieXRlcyB3aGljaCB3aWxsIGJlIHVwbG9hZGVkIGF0IGEgdGltZS4KY29uc3QgTUFYX1BBWUxPQURfU0laRSA9IDEwMCAqIDEwMjQ7CgpmdW5jdGlvbiBfdXBsb2FkRmlsZXMoaW5wdXRJZCwgb3V0cHV0SWQpIHsKICBjb25zdCBzdGVwcyA9IHVwbG9hZEZpbGVzU3RlcChpbnB1dElkLCBvdXRwdXRJZCk7CiAgY29uc3Qgb3V0cHV0RWxlbWVudCA9IGRvY3VtZW50LmdldEVsZW1lbnRCeUlkKG91dHB1dElkKTsKICAvLyBDYWNoZSBzdGVwcyBvbiB0aGUgb3V0cHV0RWxlbWVudCB0byBtYWtlIGl0IGF2YWlsYWJsZSBmb3IgdGhlIG5leHQgY2FsbAogIC8vIHRvIHVwbG9hZEZpbGVzQ29udGludWUgZnJvbSBQeXRob24uCiAgb3V0cHV0RWxlbWVudC5zdGVwcyA9IHN0ZXBzOwoKICByZXR1cm4gX3VwbG9hZEZpbGVzQ29udGludWUob3V0cHV0SWQpOwp9CgovLyBUaGlzIGlzIHJvdWdobHkgYW4gYXN5bmMgZ2VuZXJhdG9yIChub3Qgc3VwcG9ydGVkIGluIHRoZSBicm93c2VyIHlldCksCi8vIHdoZXJlIHRoZXJlIGFyZSBtdWx0aXBsZSBhc3luY2hyb25vdXMgc3RlcHMgYW5kIHRoZSBQeXRob24gc2lkZSBpcyBnb2luZwovLyB0byBwb2xsIGZvciBjb21wbGV0aW9uIG9mIGVhY2ggc3RlcC4KLy8gVGhpcyB1c2VzIGEgUHJvbWlzZSB0byBibG9jayB0aGUgcHl0aG9uIHNpZGUgb24gY29tcGxldGlvbiBvZiBlYWNoIHN0ZXAsCi8vIHRoZW4gcGFzc2VzIHRoZSByZXN1bHQgb2YgdGhlIHByZXZpb3VzIHN0ZXAgYXMgdGhlIGlucHV0IHRvIHRoZSBuZXh0IHN0ZXAuCmZ1bmN0aW9uIF91cGxvYWRGaWxlc0NvbnRpbnVlKG91dHB1dElkKSB7CiAgY29uc3Qgb3V0cHV0RWxlbWVudCA9IGRvY3VtZW50LmdldEVsZW1lbnRCeUlkKG91dHB1dElkKTsKICBjb25zdCBzdGVwcyA9IG91dHB1dEVsZW1lbnQuc3RlcHM7CgogIGNvbnN0IG5leHQgPSBzdGVwcy5uZXh0KG91dHB1dEVsZW1lbnQubGFzdFByb21pc2VWYWx1ZSk7CiAgcmV0dXJuIFByb21pc2UucmVzb2x2ZShuZXh0LnZhbHVlLnByb21pc2UpLnRoZW4oKHZhbHVlKSA9PiB7CiAgICAvLyBDYWNoZSB0aGUgbGFzdCBwcm9taXNlIHZhbHVlIHRvIG1ha2UgaXQgYXZhaWxhYmxlIHRvIHRoZSBuZXh0CiAgICAvLyBzdGVwIG9mIHRoZSBnZW5lcmF0b3IuCiAgICBvdXRwdXRFbGVtZW50Lmxhc3RQcm9taXNlVmFsdWUgPSB2YWx1ZTsKICAgIHJldHVybiBuZXh0LnZhbHVlLnJlc3BvbnNlOwogIH0pOwp9CgovKioKICogR2VuZXJhdG9yIGZ1bmN0aW9uIHdoaWNoIGlzIGNhbGxlZCBiZXR3ZWVuIGVhY2ggYXN5bmMgc3RlcCBvZiB0aGUgdXBsb2FkCiAqIHByb2Nlc3MuCiAqIEBwYXJhbSB7c3RyaW5nfSBpbnB1dElkIEVsZW1lbnQgSUQgb2YgdGhlIGlucHV0IGZpbGUgcGlja2VyIGVsZW1lbnQuCiAqIEBwYXJhbSB7c3RyaW5nfSBvdXRwdXRJZCBFbGVtZW50IElEIG9mIHRoZSBvdXRwdXQgZGlzcGxheS4KICogQHJldHVybiB7IUl0ZXJhYmxlPCFPYmplY3Q+fSBJdGVyYWJsZSBvZiBuZXh0IHN0ZXBzLgogKi8KZnVuY3Rpb24qIHVwbG9hZEZpbGVzU3RlcChpbnB1dElkLCBvdXRwdXRJZCkgewogIGNvbnN0IGlucHV0RWxlbWVudCA9IGRvY3VtZW50LmdldEVsZW1lbnRCeUlkKGlucHV0SWQpOwogIGlucHV0RWxlbWVudC5kaXNhYmxlZCA9IGZhbHNlOwoKICBjb25zdCBvdXRwdXRFbGVtZW50ID0gZG9jdW1lbnQuZ2V0RWxlbWVudEJ5SWQob3V0cHV0SWQpOwogIG91dHB1dEVsZW1lbnQuaW5uZXJIVE1MID0gJyc7CgogIGNvbnN0IHBpY2tlZFByb21pc2UgPSBuZXcgUHJvbWlzZSgocmVzb2x2ZSkgPT4gewogICAgaW5wdXRFbGVtZW50LmFkZEV2ZW50TGlzdGVuZXIoJ2NoYW5nZScsIChlKSA9PiB7CiAgICAgIHJlc29sdmUoZS50YXJnZXQuZmlsZXMpOwogICAgfSk7CiAgfSk7CgogIGNvbnN0IGNhbmNlbCA9IGRvY3VtZW50LmNyZWF0ZUVsZW1lbnQoJ2J1dHRvbicpOwogIGlucHV0RWxlbWVudC5wYXJlbnRFbGVtZW50LmFwcGVuZENoaWxkKGNhbmNlbCk7CiAgY2FuY2VsLnRleHRDb250ZW50ID0gJ0NhbmNlbCB1cGxvYWQnOwogIGNvbnN0IGNhbmNlbFByb21pc2UgPSBuZXcgUHJvbWlzZSgocmVzb2x2ZSkgPT4gewogICAgY2FuY2VsLm9uY2xpY2sgPSAoKSA9PiB7CiAgICAgIHJlc29sdmUobnVsbCk7CiAgICB9OwogIH0pOwoKICAvLyBXYWl0IGZvciB0aGUgdXNlciB0byBwaWNrIHRoZSBmaWxlcy4KICBjb25zdCBmaWxlcyA9IHlpZWxkIHsKICAgIHByb21pc2U6IFByb21pc2UucmFjZShbcGlja2VkUHJvbWlzZSwgY2FuY2VsUHJvbWlzZV0pLAogICAgcmVzcG9uc2U6IHsKICAgICAgYWN0aW9uOiAnc3RhcnRpbmcnLAogICAgfQogIH07CgogIGNhbmNlbC5yZW1vdmUoKTsKCiAgLy8gRGlzYWJsZSB0aGUgaW5wdXQgZWxlbWVudCBzaW5jZSBmdXJ0aGVyIHBpY2tzIGFyZSBub3QgYWxsb3dlZC4KICBpbnB1dEVsZW1lbnQuZGlzYWJsZWQgPSB0cnVlOwoKICBpZiAoIWZpbGVzKSB7CiAgICByZXR1cm4gewogICAgICByZXNwb25zZTogewogICAgICAgIGFjdGlvbjogJ2NvbXBsZXRlJywKICAgICAgfQogICAgfTsKICB9CgogIGZvciAoY29uc3QgZmlsZSBvZiBmaWxlcykgewogICAgY29uc3QgbGkgPSBkb2N1bWVudC5jcmVhdGVFbGVtZW50KCdsaScpOwogICAgbGkuYXBwZW5kKHNwYW4oZmlsZS5uYW1lLCB7Zm9udFdlaWdodDogJ2JvbGQnfSkpOwogICAgbGkuYXBwZW5kKHNwYW4oCiAgICAgICAgYCgke2ZpbGUudHlwZSB8fCAnbi9hJ30pIC0gJHtmaWxlLnNpemV9IGJ5dGVzLCBgICsKICAgICAgICBgbGFzdCBtb2RpZmllZDogJHsKICAgICAgICAgICAgZmlsZS5sYXN0TW9kaWZpZWREYXRlID8gZmlsZS5sYXN0TW9kaWZpZWREYXRlLnRvTG9jYWxlRGF0ZVN0cmluZygpIDoKICAgICAgICAgICAgICAgICAgICAgICAgICAgICAgICAgICAgJ24vYSd9IC0gYCkpOwogICAgY29uc3QgcGVyY2VudCA9IHNwYW4oJzAlIGRvbmUnKTsKICAgIGxpLmFwcGVuZENoaWxkKHBlcmNlbnQpOwoKICAgIG91dHB1dEVsZW1lbnQuYXBwZW5kQ2hpbGQobGkpOwoKICAgIGNvbnN0IGZpbGVEYXRhUHJvbWlzZSA9IG5ldyBQcm9taXNlKChyZXNvbHZlKSA9PiB7CiAgICAgIGNvbnN0IHJlYWRlciA9IG5ldyBGaWxlUmVhZGVyKCk7CiAgICAgIHJlYWRlci5vbmxvYWQgPSAoZSkgPT4gewogICAgICAgIHJlc29sdmUoZS50YXJnZXQucmVzdWx0KTsKICAgICAgfTsKICAgICAgcmVhZGVyLnJlYWRBc0FycmF5QnVmZmVyKGZpbGUpOwogICAgfSk7CiAgICAvLyBXYWl0IGZvciB0aGUgZGF0YSB0byBiZSByZWFkeS4KICAgIGxldCBmaWxlRGF0YSA9IHlpZWxkIHsKICAgICAgcHJvbWlzZTogZmlsZURhdGFQcm9taXNlLAogICAgICByZXNwb25zZTogewogICAgICAgIGFjdGlvbjogJ2NvbnRpbnVlJywKICAgICAgfQogICAgfTsKCiAgICAvLyBVc2UgYSBjaHVua2VkIHNlbmRpbmcgdG8gYXZvaWQgbWVzc2FnZSBzaXplIGxpbWl0cy4gU2VlIGIvNjIxMTU2NjAuCiAgICBsZXQgcG9zaXRpb24gPSAwOwogICAgd2hpbGUgKHBvc2l0aW9uIDwgZmlsZURhdGEuYnl0ZUxlbmd0aCkgewogICAgICBjb25zdCBsZW5ndGggPSBNYXRoLm1pbihmaWxlRGF0YS5ieXRlTGVuZ3RoIC0gcG9zaXRpb24sIE1BWF9QQVlMT0FEX1NJWkUpOwogICAgICBjb25zdCBjaHVuayA9IG5ldyBVaW50OEFycmF5KGZpbGVEYXRhLCBwb3NpdGlvbiwgbGVuZ3RoKTsKICAgICAgcG9zaXRpb24gKz0gbGVuZ3RoOwoKICAgICAgY29uc3QgYmFzZTY0ID0gYnRvYShTdHJpbmcuZnJvbUNoYXJDb2RlLmFwcGx5KG51bGwsIGNodW5rKSk7CiAgICAgIHlpZWxkIHsKICAgICAgICByZXNwb25zZTogewogICAgICAgICAgYWN0aW9uOiAnYXBwZW5kJywKICAgICAgICAgIGZpbGU6IGZpbGUubmFtZSwKICAgICAgICAgIGRhdGE6IGJhc2U2NCwKICAgICAgICB9LAogICAgICB9OwogICAgICBwZXJjZW50LnRleHRDb250ZW50ID0KICAgICAgICAgIGAke01hdGgucm91bmQoKHBvc2l0aW9uIC8gZmlsZURhdGEuYnl0ZUxlbmd0aCkgKiAxMDApfSUgZG9uZWA7CiAgICB9CiAgfQoKICAvLyBBbGwgZG9uZS4KICB5aWVsZCB7CiAgICByZXNwb25zZTogewogICAgICBhY3Rpb246ICdjb21wbGV0ZScsCiAgICB9CiAgfTsKfQoKc2NvcGUuZ29vZ2xlID0gc2NvcGUuZ29vZ2xlIHx8IHt9OwpzY29wZS5nb29nbGUuY29sYWIgPSBzY29wZS5nb29nbGUuY29sYWIgfHwge307CnNjb3BlLmdvb2dsZS5jb2xhYi5fZmlsZXMgPSB7CiAgX3VwbG9hZEZpbGVzLAogIF91cGxvYWRGaWxlc0NvbnRpbnVlLAp9Owp9KShzZWxmKTsK",
              "ok": true,
              "headers": [
                [
                  "content-type",
                  "application/javascript"
                ]
              ],
              "status": 200,
              "status_text": ""
            }
          },
          "base_uri": "https://localhost:8080/",
          "height": 109
        },
        "outputId": "d82bafa1-e726-4ff3-cb7c-bbdc6fa9443d"
      },
      "source": [
        "from google.colab import files\n",
        "files.upload() "
      ],
      "execution_count": null,
      "outputs": [
        {
          "output_type": "display_data",
          "data": {
            "text/html": [
              "\n",
              "     <input type=\"file\" id=\"files-a14590df-e4b2-430f-8cff-28ea6dd807b4\" name=\"files[]\" multiple disabled\n",
              "        style=\"border:none\" />\n",
              "     <output id=\"result-a14590df-e4b2-430f-8cff-28ea6dd807b4\">\n",
              "      Upload widget is only available when the cell has been executed in the\n",
              "      current browser session. Please rerun this cell to enable.\n",
              "      </output>\n",
              "      <script src=\"/nbextensions/google.colab/files.js\"></script> "
            ],
            "text/plain": [
              "<IPython.core.display.HTML object>"
            ]
          },
          "metadata": {
            "tags": []
          }
        },
        {
          "output_type": "stream",
          "text": [
            "Saving gapminder.csv to gapminder.csv\n"
          ],
          "name": "stdout"
        },
        {
          "output_type": "execute_result",
          "data": {
            "text/plain": [
              "{'gapminder.csv': b'country,year,pop,continent,lifeExp,gdpPercap\\r\\nAfghanistan,1952,8425333,Asia,28.801,779.4453145\\r\\nAfghanistan,1957,9240934,Asia,30.332,820.8530296\\r\\nAfghanistan,1962,10267083,Asia,31.997,853.10071\\r\\nAfghanistan,1967,11537966,Asia,34.02,836.1971382\\r\\nAfghanistan,1972,13079460,Asia,36.088,739.9811058\\r\\nAfghanistan,1977,14880372,Asia,38.438,786.11336\\r\\nAfghanistan,1982,12881816,Asia,39.854,978.0114388\\r\\nAfghanistan,1987,13867957,Asia,40.822,852.3959448\\r\\nAfghanistan,1992,16317921,Asia,41.674,649.3413952\\r\\nAfghanistan,1997,22227415,Asia,41.763,635.341351\\r\\nAfghanistan,2002,25268405,Asia,42.129,726.7340548\\r\\nAfghanistan,2007,31889923,Asia,43.828,974.5803384\\r\\nAlbania,1952,1282697,Europe,55.23,1601.056136\\r\\nAlbania,1957,1476505,Europe,59.28,1942.284244\\r\\nAlbania,1962,1728137,Europe,64.82,2312.888958\\r\\nAlbania,1967,1984060,Europe,66.22,2760.196931\\r\\nAlbania,1972,2263554,Europe,67.69,3313.422188\\r\\nAlbania,1977,2509048,Europe,68.93,3533.00391\\r\\nAlbania,1982,2780097,Europe,70.42,3630.880722\\r\\nAlbania,1987,3075321,Europe,72,3738.932735\\r\\nAlbania,1992,3326498,Europe,71.581,2497.437901\\r\\nAlbania,1997,3428038,Europe,72.95,3193.054604\\r\\nAlbania,2002,3508512,Europe,75.651,4604.211737\\r\\nAlbania,2007,3600523,Europe,76.423,5937.029526\\r\\nAlgeria,1952,9279525,Africa,43.077,2449.008185\\r\\nAlgeria,1957,10270856,Africa,45.685,3013.976023\\r\\nAlgeria,1962,11000948,Africa,48.303,2550.81688\\r\\nAlgeria,1967,12760499,Africa,51.407,3246.991771\\r\\nAlgeria,1972,14760787,Africa,54.518,4182.663766\\r\\nAlgeria,1977,17152804,Africa,58.014,4910.416756\\r\\nAlgeria,1982,20033753,Africa,61.368,5745.160213\\r\\nAlgeria,1987,23254956,Africa,65.799,5681.358539\\r\\nAlgeria,1992,26298373,Africa,67.744,5023.216647\\r\\nAlgeria,1997,29072015,Africa,69.152,4797.295051\\r\\nAlgeria,2002,31287142,Africa,70.994,5288.040382\\r\\nAlgeria,2007,33333216,Africa,72.301,6223.367465\\r\\nAngola,1952,4232095,Africa,30.015,3520.610273\\r\\nAngola,1957,4561361,Africa,31.999,3827.940465\\r\\nAngola,1962,4826015,Africa,34,4269.276742\\r\\nAngola,1967,5247469,Africa,35.985,5522.776375\\r\\nAngola,1972,5894858,Africa,37.928,5473.288005\\r\\nAngola,1977,6162675,Africa,39.483,3008.647355\\r\\nAngola,1982,7016384,Africa,39.942,2756.953672\\r\\nAngola,1987,7874230,Africa,39.906,2430.208311\\r\\nAngola,1992,8735988,Africa,40.647,2627.845685\\r\\nAngola,1997,9875024,Africa,40.963,2277.140884\\r\\nAngola,2002,10866106,Africa,41.003,2773.287312\\r\\nAngola,2007,12420476,Africa,42.731,4797.231267\\r\\nArgentina,1952,17876956,Americas,62.485,5911.315053\\r\\nArgentina,1957,19610538,Americas,64.399,6856.856212\\r\\nArgentina,1962,21283783,Americas,65.142,7133.166023\\r\\nArgentina,1967,22934225,Americas,65.634,8052.953021\\r\\nArgentina,1972,24779799,Americas,67.065,9443.038526\\r\\nArgentina,1977,26983828,Americas,68.481,10079.02674\\r\\nArgentina,1982,29341374,Americas,69.942,8997.897412\\r\\nArgentina,1987,31620918,Americas,70.774,9139.671389\\r\\nArgentina,1992,33958947,Americas,71.868,9308.41871\\r\\nArgentina,1997,36203463,Americas,73.275,10967.28195\\r\\nArgentina,2002,38331121,Americas,74.34,8797.640716\\r\\nArgentina,2007,40301927,Americas,75.32,12779.37964\\r\\nAustralia,1952,8691212,Oceania,69.12,10039.59564\\r\\nAustralia,1957,9712569,Oceania,70.33,10949.64959\\r\\nAustralia,1962,10794968,Oceania,70.93,12217.22686\\r\\nAustralia,1967,11872264,Oceania,71.1,14526.12465\\r\\nAustralia,1972,13177000,Oceania,71.93,16788.62948\\r\\nAustralia,1977,14074100,Oceania,73.49,18334.19751\\r\\nAustralia,1982,15184200,Oceania,74.74,19477.00928\\r\\nAustralia,1987,16257249,Oceania,76.32,21888.88903\\r\\nAustralia,1992,17481977,Oceania,77.56,23424.76683\\r\\nAustralia,1997,18565243,Oceania,78.83,26997.93657\\r\\nAustralia,2002,19546792,Oceania,80.37,30687.75473\\r\\nAustralia,2007,20434176,Oceania,81.235,34435.36744\\r\\nAustria,1952,6927772,Europe,66.8,6137.076492\\r\\nAustria,1957,6965860,Europe,67.48,8842.59803\\r\\nAustria,1962,7129864,Europe,69.54,10750.72111\\r\\nAustria,1967,7376998,Europe,70.14,12834.6024\\r\\nAustria,1972,7544201,Europe,70.63,16661.6256\\r\\nAustria,1977,7568430,Europe,72.17,19749.4223\\r\\nAustria,1982,7574613,Europe,73.18,21597.08362\\r\\nAustria,1987,7578903,Europe,74.94,23687.82607\\r\\nAustria,1992,7914969,Europe,76.04,27042.01868\\r\\nAustria,1997,8069876,Europe,77.51,29095.92066\\r\\nAustria,2002,8148312,Europe,78.98,32417.60769\\r\\nAustria,2007,8199783,Europe,79.829,36126.4927\\r\\nBahrain,1952,120447,Asia,50.939,9867.084765\\r\\nBahrain,1957,138655,Asia,53.832,11635.79945\\r\\nBahrain,1962,171863,Asia,56.923,12753.27514\\r\\nBahrain,1967,202182,Asia,59.923,14804.6727\\r\\nBahrain,1972,230800,Asia,63.3,18268.65839\\r\\nBahrain,1977,297410,Asia,65.593,19340.10196\\r\\nBahrain,1982,377967,Asia,69.052,19211.14731\\r\\nBahrain,1987,454612,Asia,70.75,18524.02406\\r\\nBahrain,1992,529491,Asia,72.601,19035.57917\\r\\nBahrain,1997,598561,Asia,73.925,20292.01679\\r\\nBahrain,2002,656397,Asia,74.795,23403.55927\\r\\nBahrain,2007,708573,Asia,75.635,29796.04834\\r\\nBangladesh,1952,46886859,Asia,37.484,684.2441716\\r\\nBangladesh,1957,51365468,Asia,39.348,661.6374577\\r\\nBangladesh,1962,56839289,Asia,41.216,686.3415538\\r\\nBangladesh,1967,62821884,Asia,43.453,721.1860862\\r\\nBangladesh,1972,70759295,Asia,45.252,630.2336265\\r\\nBangladesh,1977,80428306,Asia,46.923,659.8772322\\r\\nBangladesh,1982,93074406,Asia,50.009,676.9818656\\r\\nBangladesh,1987,103764241,Asia,52.819,751.9794035\\r\\nBangladesh,1992,113704579,Asia,56.018,837.8101643\\r\\nBangladesh,1997,123315288,Asia,59.412,972.7700352\\r\\nBangladesh,2002,135656790,Asia,62.013,1136.39043\\r\\nBangladesh,2007,150448339,Asia,64.062,1391.253792\\r\\nBelgium,1952,8730405,Europe,68,8343.105127\\r\\nBelgium,1957,8989111,Europe,69.24,9714.960623\\r\\nBelgium,1962,9218400,Europe,70.25,10991.20676\\r\\nBelgium,1967,9556500,Europe,70.94,13149.04119\\r\\nBelgium,1972,9709100,Europe,71.44,16672.14356\\r\\nBelgium,1977,9821800,Europe,72.8,19117.97448\\r\\nBelgium,1982,9856303,Europe,73.93,20979.84589\\r\\nBelgium,1987,9870200,Europe,75.35,22525.56308\\r\\nBelgium,1992,10045622,Europe,76.46,25575.57069\\r\\nBelgium,1997,10199787,Europe,77.53,27561.19663\\r\\nBelgium,2002,10311970,Europe,78.32,30485.88375\\r\\nBelgium,2007,10392226,Europe,79.441,33692.60508\\r\\nBenin,1952,1738315,Africa,38.223,1062.7522\\r\\nBenin,1957,1925173,Africa,40.358,959.6010805\\r\\nBenin,1962,2151895,Africa,42.618,949.4990641\\r\\nBenin,1967,2427334,Africa,44.885,1035.831411\\r\\nBenin,1972,2761407,Africa,47.014,1085.796879\\r\\nBenin,1977,3168267,Africa,49.19,1029.161251\\r\\nBenin,1982,3641603,Africa,50.904,1277.897616\\r\\nBenin,1987,4243788,Africa,52.337,1225.85601\\r\\nBenin,1992,4981671,Africa,53.919,1191.207681\\r\\nBenin,1997,6066080,Africa,54.777,1232.975292\\r\\nBenin,2002,7026113,Africa,54.406,1372.877931\\r\\nBenin,2007,8078314,Africa,56.728,1441.284873\\r\\nBolivia,1952,2883315,Americas,40.414,2677.326347\\r\\nBolivia,1957,3211738,Americas,41.89,2127.686326\\r\\nBolivia,1962,3593918,Americas,43.428,2180.972546\\r\\nBolivia,1967,4040665,Americas,45.032,2586.886053\\r\\nBolivia,1972,4565872,Americas,46.714,2980.331339\\r\\nBolivia,1977,5079716,Americas,50.023,3548.097832\\r\\nBolivia,1982,5642224,Americas,53.859,3156.510452\\r\\nBolivia,1987,6156369,Americas,57.251,2753.69149\\r\\nBolivia,1992,6893451,Americas,59.957,2961.699694\\r\\nBolivia,1997,7693188,Americas,62.05,3326.143191\\r\\nBolivia,2002,8445134,Americas,63.883,3413.26269\\r\\nBolivia,2007,9119152,Americas,65.554,3822.137084\\r\\nBosnia and Herzegovina,1952,2791000,Europe,53.82,973.5331948\\r\\nBosnia and Herzegovina,1957,3076000,Europe,58.45,1353.989176\\r\\nBosnia and Herzegovina,1962,3349000,Europe,61.93,1709.683679\\r\\nBosnia and Herzegovina,1967,3585000,Europe,64.79,2172.352423\\r\\nBosnia and Herzegovina,1972,3819000,Europe,67.45,2860.16975\\r\\nBosnia and Herzegovina,1977,4086000,Europe,69.86,3528.481305\\r\\nBosnia and Herzegovina,1982,4172693,Europe,70.69,4126.613157\\r\\nBosnia and Herzegovina,1987,4338977,Europe,71.14,4314.114757\\r\\nBosnia and Herzegovina,1992,4256013,Europe,72.178,2546.781445\\r\\nBosnia and Herzegovina,1997,3607000,Europe,73.244,4766.355904\\r\\nBosnia and Herzegovina,2002,4165416,Europe,74.09,6018.975239\\r\\nBosnia and Herzegovina,2007,4552198,Europe,74.852,7446.298803\\r\\nBotswana,1952,442308,Africa,47.622,851.2411407\\r\\nBotswana,1957,474639,Africa,49.618,918.2325349\\r\\nBotswana,1962,512764,Africa,51.52,983.6539764\\r\\nBotswana,1967,553541,Africa,53.298,1214.709294\\r\\nBotswana,1972,619351,Africa,56.024,2263.611114\\r\\nBotswana,1977,781472,Africa,59.319,3214.857818\\r\\nBotswana,1982,970347,Africa,61.484,4551.14215\\r\\nBotswana,1987,1151184,Africa,63.622,6205.88385\\r\\nBotswana,1992,1342614,Africa,62.745,7954.111645\\r\\nBotswana,1997,1536536,Africa,52.556,8647.142313\\r\\nBotswana,2002,1630347,Africa,46.634,11003.60508\\r\\nBotswana,2007,1639131,Africa,50.728,12569.85177\\r\\nBrazil,1952,56602560,Americas,50.917,2108.944355\\r\\nBrazil,1957,65551171,Americas,53.285,2487.365989\\r\\nBrazil,1962,76039390,Americas,55.665,3336.585802\\r\\nBrazil,1967,88049823,Americas,57.632,3429.864357\\r\\nBrazil,1972,100840058,Americas,59.504,4985.711467\\r\\nBrazil,1977,114313951,Americas,61.489,6660.118654\\r\\nBrazil,1982,128962939,Americas,63.336,7030.835878\\r\\nBrazil,1987,142938076,Americas,65.205,7807.095818\\r\\nBrazil,1992,155975974,Americas,67.057,6950.283021\\r\\nBrazil,1997,168546719,Americas,69.388,7957.980824\\r\\nBrazil,2002,179914212,Americas,71.006,8131.212843\\r\\nBrazil,2007,190010647,Americas,72.39,9065.800825\\r\\nBulgaria,1952,7274900,Europe,59.6,2444.286648\\r\\nBulgaria,1957,7651254,Europe,66.61,3008.670727\\r\\nBulgaria,1962,8012946,Europe,69.51,4254.337839\\r\\nBulgaria,1967,8310226,Europe,70.42,5577.0028\\r\\nBulgaria,1972,8576200,Europe,70.9,6597.494398\\r\\nBulgaria,1977,8797022,Europe,70.81,7612.240438\\r\\nBulgaria,1982,8892098,Europe,71.08,8224.191647\\r\\nBulgaria,1987,8971958,Europe,71.34,8239.854824\\r\\nBulgaria,1992,8658506,Europe,71.19,6302.623438\\r\\nBulgaria,1997,8066057,Europe,70.32,5970.38876\\r\\nBulgaria,2002,7661799,Europe,72.14,7696.777725\\r\\nBulgaria,2007,7322858,Europe,73.005,10680.79282\\r\\nBurkina Faso,1952,4469979,Africa,31.975,543.2552413\\r\\nBurkina Faso,1957,4713416,Africa,34.906,617.1834648\\r\\nBurkina Faso,1962,4919632,Africa,37.814,722.5120206\\r\\nBurkina Faso,1967,5127935,Africa,40.697,794.8265597\\r\\nBurkina Faso,1972,5433886,Africa,43.591,854.7359763\\r\\nBurkina Faso,1977,5889574,Africa,46.137,743.3870368\\r\\nBurkina Faso,1982,6634596,Africa,48.122,807.1985855\\r\\nBurkina Faso,1987,7586551,Africa,49.557,912.0631417\\r\\nBurkina Faso,1992,8878303,Africa,50.26,931.7527731\\r\\nBurkina Faso,1997,10352843,Africa,50.324,946.2949618\\r\\nBurkina Faso,2002,12251209,Africa,50.65,1037.645221\\r\\nBurkina Faso,2007,14326203,Africa,52.295,1217.032994\\r\\nBurundi,1952,2445618,Africa,39.031,339.2964587\\r\\nBurundi,1957,2667518,Africa,40.533,379.5646281\\r\\nBurundi,1962,2961915,Africa,42.045,355.2032273\\r\\nBurundi,1967,3330989,Africa,43.548,412.9775136\\r\\nBurundi,1972,3529983,Africa,44.057,464.0995039\\r\\nBurundi,1977,3834415,Africa,45.91,556.1032651\\r\\nBurundi,1982,4580410,Africa,47.471,559.603231\\r\\nBurundi,1987,5126023,Africa,48.211,621.8188189\\r\\nBurundi,1992,5809236,Africa,44.736,631.6998778\\r\\nBurundi,1997,6121610,Africa,45.326,463.1151478\\r\\nBurundi,2002,7021078,Africa,47.36,446.4035126\\r\\nBurundi,2007,8390505,Africa,49.58,430.0706916\\r\\nCambodia,1952,4693836,Asia,39.417,368.4692856\\r\\nCambodia,1957,5322536,Asia,41.366,434.0383364\\r\\nCambodia,1962,6083619,Asia,43.415,496.9136476\\r\\nCambodia,1967,6960067,Asia,45.415,523.4323142\\r\\nCambodia,1972,7450606,Asia,40.317,421.6240257\\r\\nCambodia,1977,6978607,Asia,31.22,524.9721832\\r\\nCambodia,1982,7272485,Asia,50.957,624.4754784\\r\\nCambodia,1987,8371791,Asia,53.914,683.8955732\\r\\nCambodia,1992,10150094,Asia,55.803,682.3031755\\r\\nCambodia,1997,11782962,Asia,56.534,734.28517\\r\\nCambodia,2002,12926707,Asia,56.752,896.2260153\\r\\nCambodia,2007,14131858,Asia,59.723,1713.778686\\r\\nCameroon,1952,5009067,Africa,38.523,1172.667655\\r\\nCameroon,1957,5359923,Africa,40.428,1313.048099\\r\\nCameroon,1962,5793633,Africa,42.643,1399.607441\\r\\nCameroon,1967,6335506,Africa,44.799,1508.453148\\r\\nCameroon,1972,7021028,Africa,47.049,1684.146528\\r\\nCameroon,1977,7959865,Africa,49.355,1783.432873\\r\\nCameroon,1982,9250831,Africa,52.961,2367.983282\\r\\nCameroon,1987,10780667,Africa,54.985,2602.664206\\r\\nCameroon,1992,12467171,Africa,54.314,1793.163278\\r\\nCameroon,1997,14195809,Africa,52.199,1694.337469\\r\\nCameroon,2002,15929988,Africa,49.856,1934.011449\\r\\nCameroon,2007,17696293,Africa,50.43,2042.09524\\r\\nCanada,1952,14785584,Americas,68.75,11367.16112\\r\\nCanada,1957,17010154,Americas,69.96,12489.95006\\r\\nCanada,1962,18985849,Americas,71.3,13462.48555\\r\\nCanada,1967,20819767,Americas,72.13,16076.58803\\r\\nCanada,1972,22284500,Americas,72.88,18970.57086\\r\\nCanada,1977,23796400,Americas,74.21,22090.88306\\r\\nCanada,1982,25201900,Americas,75.76,22898.79214\\r\\nCanada,1987,26549700,Americas,76.86,26626.51503\\r\\nCanada,1992,28523502,Americas,77.95,26342.88426\\r\\nCanada,1997,30305843,Americas,78.61,28954.92589\\r\\nCanada,2002,31902268,Americas,79.77,33328.96507\\r\\nCanada,2007,33390141,Americas,80.653,36319.23501\\r\\nCentral African Republic,1952,1291695,Africa,35.463,1071.310713\\r\\nCentral African Republic,1957,1392284,Africa,37.464,1190.844328\\r\\nCentral African Republic,1962,1523478,Africa,39.475,1193.068753\\r\\nCentral African Republic,1967,1733638,Africa,41.478,1136.056615\\r\\nCentral African Republic,1972,1927260,Africa,43.457,1070.013275\\r\\nCentral African Republic,1977,2167533,Africa,46.775,1109.374338\\r\\nCentral African Republic,1982,2476971,Africa,48.295,956.7529907\\r\\nCentral African Republic,1987,2840009,Africa,50.485,844.8763504\\r\\nCentral African Republic,1992,3265124,Africa,49.396,747.9055252\\r\\nCentral African Republic,1997,3696513,Africa,46.066,740.5063317\\r\\nCentral African Republic,2002,4048013,Africa,43.308,738.6906068\\r\\nCentral African Republic,2007,4369038,Africa,44.741,706.016537\\r\\nChad,1952,2682462,Africa,38.092,1178.665927\\r\\nChad,1957,2894855,Africa,39.881,1308.495577\\r\\nChad,1962,3150417,Africa,41.716,1389.817618\\r\\nChad,1967,3495967,Africa,43.601,1196.810565\\r\\nChad,1972,3899068,Africa,45.569,1104.103987\\r\\nChad,1977,4388260,Africa,47.383,1133.98495\\r\\nChad,1982,4875118,Africa,49.517,797.9081006\\r\\nChad,1987,5498955,Africa,51.051,952.386129\\r\\nChad,1992,6429417,Africa,51.724,1058.0643\\r\\nChad,1997,7562011,Africa,51.573,1004.961353\\r\\nChad,2002,8835739,Africa,50.525,1156.18186\\r\\nChad,2007,10238807,Africa,50.651,1704.063724\\r\\nChile,1952,6377619,Americas,54.745,3939.978789\\r\\nChile,1957,7048426,Americas,56.074,4315.622723\\r\\nChile,1962,7961258,Americas,57.924,4519.094331\\r\\nChile,1967,8858908,Americas,60.523,5106.654313\\r\\nChile,1972,9717524,Americas,63.441,5494.024437\\r\\nChile,1977,10599793,Americas,67.052,4756.763836\\r\\nChile,1982,11487112,Americas,70.565,5095.665738\\r\\nChile,1987,12463354,Americas,72.492,5547.063754\\r\\nChile,1992,13572994,Americas,74.126,7596.125964\\r\\nChile,1997,14599929,Americas,75.816,10118.05318\\r\\nChile,2002,15497046,Americas,77.86,10778.78385\\r\\nChile,2007,16284741,Americas,78.553,13171.63885\\r\\nChina,1952,556263527.999989,Asia,44,400.448610699994\\r\\nChina,1957,637408000,Asia,50.54896,575.9870009\\r\\nChina,1962,665770000,Asia,44.50136,487.6740183\\r\\nChina,1967,754550000,Asia,58.38112,612.7056934\\r\\nChina,1972,862030000,Asia,63.11888,676.9000921\\r\\nChina,1977,943455000,Asia,63.96736,741.2374699\\r\\nChina,1982,1000281000,Asia,65.525,962.4213805\\r\\nChina,1987,1084035000,Asia,67.274,1378.904018\\r\\nChina,1992,1164970000,Asia,68.69,1655.784158\\r\\nChina,1997,1230075000,Asia,70.426,2289.234136\\r\\nChina,2002,1280400000,Asia,72.028,3119.280896\\r\\nChina,2007,1318683096,Asia,72.961,4959.114854\\r\\nColombia,1952,12350771,Americas,50.643,2144.115096\\r\\nColombia,1957,14485993,Americas,55.118,2323.805581\\r\\nColombia,1962,17009885,Americas,57.863,2492.351109\\r\\nColombia,1967,19764027,Americas,59.963,2678.729839\\r\\nColombia,1972,22542890,Americas,61.623,3264.660041\\r\\nColombia,1977,25094412,Americas,63.837,3815.80787\\r\\nColombia,1982,27764644,Americas,66.653,4397.575659\\r\\nColombia,1987,30964245,Americas,67.768,4903.2191\\r\\nColombia,1992,34202721,Americas,68.421,5444.648617\\r\\nColombia,1997,37657830,Americas,70.313,6117.361746\\r\\nColombia,2002,41008227,Americas,71.682,5755.259962\\r\\nColombia,2007,44227550,Americas,72.889,7006.580419\\r\\nComoros,1952,153936,Africa,40.715,1102.990936\\r\\nComoros,1957,170928,Africa,42.46,1211.148548\\r\\nComoros,1962,191689,Africa,44.467,1406.648278\\r\\nComoros,1967,217378,Africa,46.472,1876.029643\\r\\nComoros,1972,250027,Africa,48.944,1937.577675\\r\\nComoros,1977,304739,Africa,50.939,1172.603047\\r\\nComoros,1982,348643,Africa,52.933,1267.100083\\r\\nComoros,1987,395114,Africa,54.926,1315.980812\\r\\nComoros,1992,454429,Africa,57.939,1246.90737\\r\\nComoros,1997,527982,Africa,60.66,1173.618235\\r\\nComoros,2002,614382,Africa,62.974,1075.811558\\r\\nComoros,2007,710960,Africa,65.152,986.1478792\\r\\nCongo Dem. Rep.,1952,14100005,Africa,39.143,780.5423257\\r\\nCongo Dem. Rep.,1957,15577932,Africa,40.652,905.8602303\\r\\nCongo Dem. Rep.,1962,17486434,Africa,42.122,896.3146335\\r\\nCongo Dem. Rep.,1967,19941073,Africa,44.056,861.5932424\\r\\nCongo Dem. Rep.,1972,23007669,Africa,45.989,904.8960685\\r\\nCongo Dem. Rep.,1977,26480870,Africa,47.804,795.757282\\r\\nCongo Dem. Rep.,1982,30646495,Africa,47.784,673.7478181\\r\\nCongo Dem. Rep.,1987,35481645,Africa,47.412,672.774812\\r\\nCongo Dem. Rep.,1992,41672143,Africa,45.548,457.7191807\\r\\nCongo Dem. Rep.,1997,47798986,Africa,42.587,312.188423\\r\\nCongo Dem. Rep.,2002,55379852,Africa,44.966,241.1658765\\r\\nCongo Dem. Rep.,2007,64606759,Africa,46.462,277.5518587\\r\\nCongo Rep.,1952,854885,Africa,42.111,2125.621418\\r\\nCongo Rep.,1957,940458,Africa,45.053,2315.056572\\r\\nCongo Rep.,1962,1047924,Africa,48.435,2464.783157\\r\\nCongo Rep.,1967,1179760,Africa,52.04,2677.939642\\r\\nCongo Rep.,1972,1340458,Africa,54.907,3213.152683\\r\\nCongo Rep.,1977,1536769,Africa,55.625,3259.178978\\r\\nCongo Rep.,1982,1774735,Africa,56.695,4879.507522\\r\\nCongo Rep.,1987,2064095,Africa,57.47,4201.194937\\r\\nCongo Rep.,1992,2409073,Africa,56.433,4016.239529\\r\\nCongo Rep.,1997,2800947,Africa,52.962,3484.164376\\r\\nCongo Rep.,2002,3328795,Africa,52.97,3484.06197\\r\\nCongo Rep.,2007,3800610,Africa,55.322,3632.557798\\r\\nCosta Rica,1952,926317,Americas,57.206,2627.009471\\r\\nCosta Rica,1957,1112300,Americas,60.026,2990.010802\\r\\nCosta Rica,1962,1345187,Americas,62.842,3460.937025\\r\\nCosta Rica,1967,1588717,Americas,65.424,4161.727834\\r\\nCosta Rica,1972,1834796,Americas,67.849,5118.146939\\r\\nCosta Rica,1977,2108457,Americas,70.75,5926.876967\\r\\nCosta Rica,1982,2424367,Americas,73.45,5262.734751\\r\\nCosta Rica,1987,2799811,Americas,74.752,5629.915318\\r\\nCosta Rica,1992,3173216,Americas,75.713,6160.416317\\r\\nCosta Rica,1997,3518107,Americas,77.26,6677.045314\\r\\nCosta Rica,2002,3834934,Americas,78.123,7723.447195\\r\\nCosta Rica,2007,4133884,Americas,78.782,9645.06142\\r\\n\"Cote d\\'Ivoire\",1952,2977019,Africa,40.477,1388.594732\\r\\n\"Cote d\\'Ivoire\",1957,3300000,Africa,42.469,1500.895925\\r\\n\"Cote d\\'Ivoire\",1962,3832408,Africa,44.93,1728.869428\\r\\n\"Cote d\\'Ivoire\",1967,4744870,Africa,47.35,2052.050473\\r\\n\"Cote d\\'Ivoire\",1972,6071696,Africa,49.801,2378.201111\\r\\n\"Cote d\\'Ivoire\",1977,7459574,Africa,52.374,2517.736547\\r\\n\"Cote d\\'Ivoire\",1982,9025951,Africa,53.983,2602.710169\\r\\n\"Cote d\\'Ivoire\",1987,10761098,Africa,54.655,2156.956069\\r\\n\"Cote d\\'Ivoire\",1992,12772596,Africa,52.044,1648.073791\\r\\n\"Cote d\\'Ivoire\",1997,14625967,Africa,47.991,1786.265407\\r\\n\"Cote d\\'Ivoire\",2002,16252726,Africa,46.832,1648.800823\\r\\n\"Cote d\\'Ivoire\",2007,18013409,Africa,48.328,1544.750112\\r\\nCroatia,1952,3882229,Europe,61.21,3119.23652\\r\\nCroatia,1957,3991242,Europe,64.77,4338.231617\\r\\nCroatia,1962,4076557,Europe,67.13,5477.890018\\r\\nCroatia,1967,4174366,Europe,68.5,6960.297861\\r\\nCroatia,1972,4225310,Europe,69.61,9164.090127\\r\\nCroatia,1977,4318673,Europe,70.64,11305.38517\\r\\nCroatia,1982,4413368,Europe,70.46,13221.82184\\r\\nCroatia,1987,4484310,Europe,71.52,13822.58394\\r\\nCroatia,1992,4494013,Europe,72.527,8447.794873\\r\\nCroatia,1997,4444595,Europe,73.68,9875.604515\\r\\nCroatia,2002,4481020,Europe,74.876,11628.38895\\r\\nCroatia,2007,4493312,Europe,75.748,14619.22272\\r\\nCuba,1952,6007797,Americas,59.421,5586.53878\\r\\nCuba,1957,6640752,Americas,62.325,6092.174359\\r\\nCuba,1962,7254373,Americas,65.246,5180.75591\\r\\nCuba,1967,8139332,Americas,68.29,5690.268015\\r\\nCuba,1972,8831348,Americas,70.723,5305.445256\\r\\nCuba,1977,9537988,Americas,72.649,6380.494966\\r\\nCuba,1982,9789224,Americas,73.717,7316.918107\\r\\nCuba,1987,10239839,Americas,74.174,7532.924763\\r\\nCuba,1992,10723260,Americas,74.414,5592.843963\\r\\nCuba,1997,10983007,Americas,76.151,5431.990415\\r\\nCuba,2002,11226999,Americas,77.158,6340.646683\\r\\nCuba,2007,11416987,Americas,78.273,8948.102923\\r\\nCzech Republic,1952,9125183,Europe,66.87,6876.14025\\r\\nCzech Republic,1957,9513758,Europe,69.03,8256.343918\\r\\nCzech Republic,1962,9620282,Europe,69.9,10136.86713\\r\\nCzech Republic,1967,9835109,Europe,70.38,11399.44489\\r\\nCzech Republic,1972,9862158,Europe,70.29,13108.4536\\r\\nCzech Republic,1977,10161915,Europe,70.71,14800.16062\\r\\nCzech Republic,1982,10303704,Europe,70.96,15377.22855\\r\\nCzech Republic,1987,10311597,Europe,71.58,16310.4434\\r\\nCzech Republic,1992,10315702,Europe,72.4,14297.02122\\r\\nCzech Republic,1997,10300707,Europe,74.01,16048.51424\\r\\nCzech Republic,2002,10256295,Europe,75.51,17596.21022\\r\\nCzech Republic,2007,10228744,Europe,76.486,22833.30851\\r\\nDenmark,1952,4334000,Europe,70.78,9692.385245\\r\\nDenmark,1957,4487831,Europe,71.81,11099.65935\\r\\nDenmark,1962,4646899,Europe,72.35,13583.31351\\r\\nDenmark,1967,4838800,Europe,72.96,15937.21123\\r\\nDenmark,1972,4991596,Europe,73.47,18866.20721\\r\\nDenmark,1977,5088419,Europe,74.69,20422.9015\\r\\nDenmark,1982,5117810,Europe,74.63,21688.04048\\r\\nDenmark,1987,5127024,Europe,74.8,25116.17581\\r\\nDenmark,1992,5171393,Europe,75.33,26406.73985\\r\\nDenmark,1997,5283663,Europe,76.11,29804.34567\\r\\nDenmark,2002,5374693,Europe,77.18,32166.50006\\r\\nDenmark,2007,5468120,Europe,78.332,35278.41874\\r\\nDjibouti,1952,63149,Africa,34.812,2669.529475\\r\\nDjibouti,1957,71851,Africa,37.328,2864.969076\\r\\nDjibouti,1962,89898,Africa,39.693,3020.989263\\r\\nDjibouti,1967,127617,Africa,42.074,3020.050513\\r\\nDjibouti,1972,178848,Africa,44.366,3694.212352\\r\\nDjibouti,1977,228694,Africa,46.519,3081.761022\\r\\nDjibouti,1982,305991,Africa,48.812,2879.468067\\r\\nDjibouti,1987,311025,Africa,50.04,2880.102568\\r\\nDjibouti,1992,384156,Africa,51.604,2377.156192\\r\\nDjibouti,1997,417908,Africa,53.157,1895.016984\\r\\nDjibouti,2002,447416,Africa,53.373,1908.260867\\r\\nDjibouti,2007,496374,Africa,54.791,2082.481567\\r\\nDominican Republic,1952,2491346,Americas,45.928,1397.717137\\r\\nDominican Republic,1957,2923186,Americas,49.828,1544.402995\\r\\nDominican Republic,1962,3453434,Americas,53.459,1662.137359\\r\\nDominican Republic,1967,4049146,Americas,56.751,1653.723003\\r\\nDominican Republic,1972,4671329,Americas,59.631,2189.874499\\r\\nDominican Republic,1977,5302800,Americas,61.788,2681.9889\\r\\nDominican Republic,1982,5968349,Americas,63.727,2861.092386\\r\\nDominican Republic,1987,6655297,Americas,66.046,2899.842175\\r\\nDominican Republic,1992,7351181,Americas,68.457,3044.214214\\r\\nDominican Republic,1997,7992357,Americas,69.957,3614.101285\\r\\nDominican Republic,2002,8650322,Americas,70.847,4563.808154\\r\\nDominican Republic,2007,9319622,Americas,72.235,6025.374752\\r\\nEcuador,1952,3548753,Americas,48.357,3522.110717\\r\\nEcuador,1957,4058385,Americas,51.356,3780.546651\\r\\nEcuador,1962,4681707,Americas,54.64,4086.114078\\r\\nEcuador,1967,5432424,Americas,56.678,4579.074215\\r\\nEcuador,1972,6298651,Americas,58.796,5280.99471\\r\\nEcuador,1977,7278866,Americas,61.31,6679.62326\\r\\nEcuador,1982,8365850,Americas,64.342,7213.791267\\r\\nEcuador,1987,9545158,Americas,67.231,6481.776993\\r\\nEcuador,1992,10748394,Americas,69.613,7103.702595\\r\\nEcuador,1997,11911819,Americas,72.312,7429.455877\\r\\nEcuador,2002,12921234,Americas,74.173,5773.044512\\r\\nEcuador,2007,13755680,Americas,74.994,6873.262326\\r\\nEgypt,1952,22223309,Africa,41.893,1418.822445\\r\\nEgypt,1957,25009741,Africa,44.444,1458.915272\\r\\nEgypt,1962,28173309,Africa,46.992,1693.335853\\r\\nEgypt,1967,31681188,Africa,49.293,1814.880728\\r\\nEgypt,1972,34807417,Africa,51.137,2024.008147\\r\\nEgypt,1977,38783863,Africa,53.319,2785.493582\\r\\nEgypt,1982,45681811,Africa,56.006,3503.729636\\r\\nEgypt,1987,52799062,Africa,59.797,3885.46071\\r\\nEgypt,1992,59402198,Africa,63.674,3794.755195\\r\\nEgypt,1997,66134291,Africa,67.217,4173.181797\\r\\nEgypt,2002,73312559,Africa,69.806,4754.604414\\r\\nEgypt,2007,80264543,Africa,71.338,5581.180998\\r\\nEl Salvador,1952,2042865,Americas,45.262,3048.3029\\r\\nEl Salvador,1957,2355805,Americas,48.57,3421.523218\\r\\nEl Salvador,1962,2747687,Americas,52.307,3776.803627\\r\\nEl Salvador,1967,3232927,Americas,55.855,4358.595393\\r\\nEl Salvador,1972,3790903,Americas,58.207,4520.246008\\r\\nEl Salvador,1977,4282586,Americas,56.696,5138.922374\\r\\nEl Salvador,1982,4474873,Americas,56.604,4098.344175\\r\\nEl Salvador,1987,4842194,Americas,63.154,4140.442097\\r\\nEl Salvador,1992,5274649,Americas,66.798,4444.2317\\r\\nEl Salvador,1997,5783439,Americas,69.535,5154.825496\\r\\nEl Salvador,2002,6353681,Americas,70.734,5351.568666\\r\\nEl Salvador,2007,6939688,Americas,71.878,5728.353514\\r\\nEquatorial Guinea,1952,216964,Africa,34.482,375.6431231\\r\\nEquatorial Guinea,1957,232922,Africa,35.983,426.0964081\\r\\nEquatorial Guinea,1962,249220,Africa,37.485,582.8419714\\r\\nEquatorial Guinea,1967,259864,Africa,38.987,915.5960025\\r\\nEquatorial Guinea,1972,277603,Africa,40.516,672.4122571\\r\\nEquatorial Guinea,1977,192675,Africa,42.024,958.5668124\\r\\nEquatorial Guinea,1982,285483,Africa,43.662,927.8253427\\r\\nEquatorial Guinea,1987,341244,Africa,45.664,966.8968149\\r\\nEquatorial Guinea,1992,387838,Africa,47.545,1132.055034\\r\\nEquatorial Guinea,1997,439971,Africa,48.245,2814.480755\\r\\nEquatorial Guinea,2002,495627,Africa,49.348,7703.4959\\r\\nEquatorial Guinea,2007,551201,Africa,51.579,12154.08975\\r\\nEritrea,1952,1438760,Africa,35.928,328.9405571\\r\\nEritrea,1957,1542611,Africa,38.047,344.1618859\\r\\nEritrea,1962,1666618,Africa,40.158,380.9958433\\r\\nEritrea,1967,1820319,Africa,42.189,468.7949699\\r\\nEritrea,1972,2260187,Africa,44.142,514.3242082\\r\\nEritrea,1977,2512642,Africa,44.535,505.7538077\\r\\nEritrea,1982,2637297,Africa,43.89,524.8758493\\r\\nEritrea,1987,2915959,Africa,46.453,521.1341333\\r\\nEritrea,1992,3668440,Africa,49.991,582.8585102\\r\\nEritrea,1997,4058319,Africa,53.378,913.47079\\r\\nEritrea,2002,4414865,Africa,55.24,765.3500015\\r\\nEritrea,2007,4906585,Africa,58.04,641.3695236\\r\\nEthiopia,1952,20860941,Africa,34.078,362.1462796\\r\\nEthiopia,1957,22815614,Africa,36.667,378.9041632\\r\\nEthiopia,1962,25145372,Africa,40.059,419.4564161\\r\\nEthiopia,1967,27860297,Africa,42.115,516.1186438\\r\\nEthiopia,1972,30770372,Africa,43.515,566.2439442\\r\\nEthiopia,1977,34617799,Africa,44.51,556.8083834\\r\\nEthiopia,1982,38111756,Africa,44.916,577.8607471\\r\\nEthiopia,1987,42999530,Africa,46.684,573.7413142\\r\\nEthiopia,1992,52088559,Africa,48.091,421.3534653\\r\\nEthiopia,1997,59861301,Africa,49.402,515.8894013\\r\\nEthiopia,2002,67946797,Africa,50.725,530.0535319\\r\\nEthiopia,2007,76511887,Africa,52.947,690.8055759\\r\\nFinland,1952,4090500,Europe,66.55,6424.519071\\r\\nFinland,1957,4324000,Europe,67.49,7545.415386\\r\\nFinland,1962,4491443,Europe,68.75,9371.842561\\r\\nFinland,1967,4605744,Europe,69.83,10921.63626\\r\\nFinland,1972,4639657,Europe,70.87,14358.8759\\r\\nFinland,1977,4738902,Europe,72.52,15605.42283\\r\\nFinland,1982,4826933,Europe,74.55,18533.15761\\r\\nFinland,1987,4931729,Europe,74.83,21141.01223\\r\\nFinland,1992,5041039,Europe,75.7,20647.16499\\r\\nFinland,1997,5134406,Europe,77.13,23723.9502\\r\\nFinland,2002,5193039,Europe,78.37,28204.59057\\r\\nFinland,2007,5238460,Europe,79.313,33207.0844\\r\\nFrance,1952,42459667,Europe,67.41,7029.809327\\r\\nFrance,1957,44310863,Europe,68.93,8662.834898\\r\\nFrance,1962,47124000,Europe,70.51,10560.48553\\r\\nFrance,1967,49569000,Europe,71.55,12999.91766\\r\\nFrance,1972,51732000,Europe,72.38,16107.19171\\r\\nFrance,1977,53165019,Europe,73.83,18292.63514\\r\\nFrance,1982,54433565,Europe,74.89,20293.89746\\r\\nFrance,1987,55630100,Europe,76.34,22066.44214\\r\\nFrance,1992,57374179,Europe,77.46,24703.79615\\r\\nFrance,1997,58623428,Europe,78.64,25889.78487\\r\\nFrance,2002,59925035,Europe,79.59,28926.03234\\r\\nFrance,2007,61083916,Europe,80.657,30470.0167\\r\\nGabon,1952,420702,Africa,37.003,4293.476475\\r\\nGabon,1957,434904,Africa,38.999,4976.198099\\r\\nGabon,1962,455661,Africa,40.489,6631.459222\\r\\nGabon,1967,489004,Africa,44.598,8358.761987\\r\\nGabon,1972,537977,Africa,48.69,11401.94841\\r\\nGabon,1977,706367,Africa,52.79,21745.57328\\r\\nGabon,1982,753874,Africa,56.564,15113.36194\\r\\nGabon,1987,880397,Africa,60.19,11864.40844\\r\\nGabon,1992,985739,Africa,61.366,13522.15752\\r\\nGabon,1997,1126189,Africa,60.461,14722.84188\\r\\nGabon,2002,1299304,Africa,56.761,12521.71392\\r\\nGabon,2007,1454867,Africa,56.735,13206.48452\\r\\nGambia,1952,284320,Africa,30,485.2306591\\r\\nGambia,1957,323150,Africa,32.065,520.9267111\\r\\nGambia,1962,374020,Africa,33.896,599.650276\\r\\nGambia,1967,439593,Africa,35.857,734.7829124\\r\\nGambia,1972,517101,Africa,38.308,756.0868363\\r\\nGambia,1977,608274,Africa,41.842,884.7552507\\r\\nGambia,1982,715523,Africa,45.58,835.8096108\\r\\nGambia,1987,848406,Africa,49.265,611.6588611\\r\\nGambia,1992,1025384,Africa,52.644,665.6244126\\r\\nGambia,1997,1235767,Africa,55.861,653.7301704\\r\\nGambia,2002,1457766,Africa,58.041,660.5855997\\r\\nGambia,2007,1688359,Africa,59.448,752.7497265\\r\\nGermany,1952,69145952,Europe,67.5,7144.114393\\r\\nGermany,1957,71019069,Europe,69.1,10187.82665\\r\\nGermany,1962,73739117,Europe,70.3,12902.46291\\r\\nGermany,1967,76368453,Europe,70.8,14745.62561\\r\\nGermany,1972,78717088,Europe,71,18016.18027\\r\\nGermany,1977,78160773,Europe,72.5,20512.92123\\r\\nGermany,1982,78335266,Europe,73.8,22031.53274\\r\\nGermany,1987,77718298,Europe,74.847,24639.18566\\r\\nGermany,1992,80597764,Europe,76.07,26505.30317\\r\\nGermany,1997,82011073,Europe,77.34,27788.88416\\r\\nGermany,2002,82350671,Europe,78.67,30035.80198\\r\\nGermany,2007,82400996,Europe,79.406,32170.37442\\r\\nGhana,1952,5581001,Africa,43.149,911.2989371\\r\\nGhana,1957,6391288,Africa,44.779,1043.561537\\r\\nGhana,1962,7355248,Africa,46.452,1190.041118\\r\\nGhana,1967,8490213,Africa,48.072,1125.69716\\r\\nGhana,1972,9354120,Africa,49.875,1178.223708\\r\\nGhana,1977,10538093,Africa,51.756,993.2239571\\r\\nGhana,1982,11400338,Africa,53.744,876.032569\\r\\nGhana,1987,14168101,Africa,55.729,847.0061135\\r\\nGhana,1992,16278738,Africa,57.501,925.060154\\r\\nGhana,1997,18418288,Africa,58.556,1005.245812\\r\\nGhana,2002,20550751,Africa,58.453,1111.984578\\r\\nGhana,2007,22873338,Africa,60.022,1327.60891\\r\\nGreece,1952,7733250,Europe,65.86,3530.690067\\r\\nGreece,1957,8096218,Europe,67.86,4916.299889\\r\\nGreece,1962,8448233,Europe,69.51,6017.190733\\r\\nGreece,1967,8716441,Europe,71,8513.097016\\r\\nGreece,1972,8888628,Europe,72.34,12724.82957\\r\\nGreece,1977,9308479,Europe,73.68,14195.52428\\r\\nGreece,1982,9786480,Europe,75.24,15268.42089\\r\\nGreece,1987,9974490,Europe,76.67,16120.52839\\r\\nGreece,1992,10325429,Europe,77.03,17541.49634\\r\\nGreece,1997,10502372,Europe,77.869,18747.69814\\r\\nGreece,2002,10603863,Europe,78.256,22514.2548\\r\\nGreece,2007,10706290,Europe,79.483,27538.41188\\r\\nGuatemala,1952,3146381,Americas,42.023,2428.237769\\r\\nGuatemala,1957,3640876,Americas,44.142,2617.155967\\r\\nGuatemala,1962,4208858,Americas,46.954,2750.364446\\r\\nGuatemala,1967,4690773,Americas,50.016,3242.531147\\r\\nGuatemala,1972,5149581,Americas,53.738,4031.408271\\r\\nGuatemala,1977,5703430,Americas,56.029,4879.992748\\r\\nGuatemala,1982,6395630,Americas,58.137,4820.49479\\r\\nGuatemala,1987,7326406,Americas,60.782,4246.485974\\r\\nGuatemala,1992,8486949,Americas,63.373,4439.45084\\r\\nGuatemala,1997,9803875,Americas,66.322,4684.313807\\r\\nGuatemala,2002,11178650,Americas,68.978,4858.347495\\r\\nGuatemala,2007,12572928,Americas,70.259,5186.050003\\r\\nGuinea,1952,2664249,Africa,33.609,510.1964923\\r\\nGuinea,1957,2876726,Africa,34.558,576.2670245\\r\\nGuinea,1962,3140003,Africa,35.753,686.3736739\\r\\nGuinea,1967,3451418,Africa,37.197,708.7595409\\r\\nGuinea,1972,3811387,Africa,38.842,741.6662307\\r\\nGuinea,1977,4227026,Africa,40.762,874.6858643\\r\\nGuinea,1982,4710497,Africa,42.891,857.2503577\\r\\nGuinea,1987,5650262,Africa,45.552,805.5724718\\r\\nGuinea,1992,6990574,Africa,48.576,794.3484384\\r\\nGuinea,1997,8048834,Africa,51.455,869.4497668\\r\\nGuinea,2002,8807818,Africa,53.676,945.5835837\\r\\nGuinea,2007,9947814,Africa,56.007,942.6542111\\r\\nGuinea-Bissau,1952,580653,Africa,32.5,299.850319\\r\\nGuinea-Bissau,1957,601095,Africa,33.489,431.7904566\\r\\nGuinea-Bissau,1962,627820,Africa,34.488,522.0343725\\r\\nGuinea-Bissau,1967,601287,Africa,35.492,715.5806402\\r\\nGuinea-Bissau,1972,625361,Africa,36.486,820.2245876\\r\\nGuinea-Bissau,1977,745228,Africa,37.465,764.7259628\\r\\nGuinea-Bissau,1982,825987,Africa,39.327,838.1239671\\r\\nGuinea-Bissau,1987,927524,Africa,41.245,736.4153921\\r\\nGuinea-Bissau,1992,1050938,Africa,43.266,745.5398706\\r\\nGuinea-Bissau,1997,1193708,Africa,44.873,796.6644681\\r\\nGuinea-Bissau,2002,1332459,Africa,45.504,575.7047176\\r\\nGuinea-Bissau,2007,1472041,Africa,46.388,579.231743\\r\\nHaiti,1952,3201488,Americas,37.579,1840.366939\\r\\nHaiti,1957,3507701,Americas,40.696,1726.887882\\r\\nHaiti,1962,3880130,Americas,43.59,1796.589032\\r\\nHaiti,1967,4318137,Americas,46.243,1452.057666\\r\\nHaiti,1972,4698301,Americas,48.042,1654.456946\\r\\nHaiti,1977,4908554,Americas,49.923,1874.298931\\r\\nHaiti,1982,5198399,Americas,51.461,2011.159549\\r\\nHaiti,1987,5756203,Americas,53.636,1823.015995\\r\\nHaiti,1992,6326682,Americas,55.089,1456.309517\\r\\nHaiti,1997,6913545,Americas,56.671,1341.726931\\r\\nHaiti,2002,7607651,Americas,58.137,1270.364932\\r\\nHaiti,2007,8502814,Americas,60.916,1201.637154\\r\\nHonduras,1952,1517453,Americas,41.912,2194.926204\\r\\nHonduras,1957,1770390,Americas,44.665,2220.487682\\r\\nHonduras,1962,2090162,Americas,48.041,2291.156835\\r\\nHonduras,1967,2500689,Americas,50.924,2538.269358\\r\\nHonduras,1972,2965146,Americas,53.884,2529.842345\\r\\nHonduras,1977,3055235,Americas,57.402,3203.208066\\r\\nHonduras,1982,3669448,Americas,60.909,3121.760794\\r\\nHonduras,1987,4372203,Americas,64.492,3023.096699\\r\\nHonduras,1992,5077347,Americas,66.399,3081.694603\\r\\nHonduras,1997,5867957,Americas,67.659,3160.454906\\r\\nHonduras,2002,6677328,Americas,68.565,3099.72866\\r\\nHonduras,2007,7483763,Americas,70.198,3548.330846\\r\\nHong Kong China,1952,2125900,Asia,60.96,3054.421209\\r\\nHong Kong China,1957,2736300,Asia,64.75,3629.076457\\r\\nHong Kong China,1962,3305200,Asia,67.65,4692.648272\\r\\nHong Kong China,1967,3722800,Asia,70,6197.962814\\r\\nHong Kong China,1972,4115700,Asia,72,8315.928145\\r\\nHong Kong China,1977,4583700,Asia,73.6,11186.14125\\r\\nHong Kong China,1982,5264500,Asia,75.45,14560.53051\\r\\nHong Kong China,1987,5584510,Asia,76.2,20038.47269\\r\\nHong Kong China,1992,5829696,Asia,77.601,24757.60301\\r\\nHong Kong China,1997,6495918,Asia,80,28377.63219\\r\\nHong Kong China,2002,6762476,Asia,81.495,30209.01516\\r\\nHong Kong China,2007,6980412,Asia,82.208,39724.97867\\r\\nHungary,1952,9504000,Europe,64.03,5263.673816\\r\\nHungary,1957,9839000,Europe,66.41,6040.180011\\r\\nHungary,1962,10063000,Europe,67.96,7550.359877\\r\\nHungary,1967,10223422,Europe,69.5,9326.64467\\r\\nHungary,1972,10394091,Europe,69.76,10168.65611\\r\\nHungary,1977,10637171,Europe,69.95,11674.83737\\r\\nHungary,1982,10705535,Europe,69.39,12545.99066\\r\\nHungary,1987,10612740,Europe,69.58,12986.47998\\r\\nHungary,1992,10348684,Europe,69.17,10535.62855\\r\\nHungary,1997,10244684,Europe,71.04,11712.7768\\r\\nHungary,2002,10083313,Europe,72.59,14843.93556\\r\\nHungary,2007,9956108,Europe,73.338,18008.94444\\r\\nIceland,1952,147962,Europe,72.49,7267.688428\\r\\nIceland,1957,165110,Europe,73.47,9244.001412\\r\\nIceland,1962,182053,Europe,73.68,10350.15906\\r\\nIceland,1967,198676,Europe,73.73,13319.89568\\r\\nIceland,1972,209275,Europe,74.46,15798.06362\\r\\nIceland,1977,221823,Europe,76.11,19654.96247\\r\\nIceland,1982,233997,Europe,76.99,23269.6075\\r\\nIceland,1987,244676,Europe,77.23,26923.20628\\r\\nIceland,1992,259012,Europe,78.77,25144.39201\\r\\nIceland,1997,271192,Europe,78.95,28061.09966\\r\\nIceland,2002,288030,Europe,80.5,31163.20196\\r\\nIceland,2007,301931,Europe,81.757,36180.78919\\r\\nIndia,1952,3.72e+08,Asia,37.373,546.5657493\\r\\nIndia,1957,4.09e+08,Asia,40.249,590.061996\\r\\nIndia,1962,4.54e+08,Asia,43.605,658.3471509\\r\\nIndia,1967,5.06e+08,Asia,47.193,700.7706107\\r\\nIndia,1972,5.67e+08,Asia,50.651,724.032527\\r\\nIndia,1977,6.34e+08,Asia,54.208,813.337323\\r\\nIndia,1982,7.08e+08,Asia,56.596,855.7235377\\r\\nIndia,1987,7.88e+08,Asia,58.553,976.5126756\\r\\nIndia,1992,8.72e+08,Asia,60.223,1164.406809\\r\\nIndia,1997,9.59e+08,Asia,61.765,1458.817442\\r\\nIndia,2002,1034172547,Asia,62.879,1746.769454\\r\\nIndia,2007,1110396331,Asia,64.698,2452.210407\\r\\nIndonesia,1952,82052000,Asia,37.468,749.6816546\\r\\nIndonesia,1957,90124000,Asia,39.918,858.9002707\\r\\nIndonesia,1962,99028000,Asia,42.518,849.2897701\\r\\nIndonesia,1967,109343000,Asia,45.964,762.4317721\\r\\nIndonesia,1972,121282000,Asia,49.203,1111.107907\\r\\nIndonesia,1977,136725000,Asia,52.702,1382.702056\\r\\nIndonesia,1982,153343000,Asia,56.159,1516.872988\\r\\nIndonesia,1987,169276000,Asia,60.137,1748.356961\\r\\nIndonesia,1992,184816000,Asia,62.681,2383.140898\\r\\nIndonesia,1997,199278000,Asia,66.041,3119.335603\\r\\nIndonesia,2002,211060000,Asia,68.588,2873.91287\\r\\nIndonesia,2007,223547000,Asia,70.65,3540.651564\\r\\nIran,1952,17272000,Asia,44.869,3035.326002\\r\\nIran,1957,19792000,Asia,47.181,3290.257643\\r\\nIran,1962,22874000,Asia,49.325,4187.329802\\r\\nIran,1967,26538000,Asia,52.469,5906.731805\\r\\nIran,1972,30614000,Asia,55.234,9613.818607\\r\\nIran,1977,35480679,Asia,57.702,11888.59508\\r\\nIran,1982,43072751,Asia,59.62,7608.334602\\r\\nIran,1987,51889696,Asia,63.04,6642.881371\\r\\nIran,1992,60397973,Asia,65.742,7235.653188\\r\\nIran,1997,63327987,Asia,68.042,8263.590301\\r\\nIran,2002,66907826,Asia,69.451,9240.761975\\r\\nIran,2007,69453570,Asia,70.964,11605.71449\\r\\nIraq,1952,5441766,Asia,45.32,4129.766056\\r\\nIraq,1957,6248643,Asia,48.437,6229.333562\\r\\nIraq,1962,7240260,Asia,51.457,8341.737815\\r\\nIraq,1967,8519282,Asia,54.459,8931.459811\\r\\nIraq,1972,10061506,Asia,56.95,9576.037596\\r\\nIraq,1977,11882916,Asia,60.413,14688.23507\\r\\nIraq,1982,14173318,Asia,62.038,14517.90711\\r\\nIraq,1987,16543189,Asia,65.044,11643.57268\\r\\nIraq,1992,17861905,Asia,59.461,3745.640687\\r\\nIraq,1997,20775703,Asia,58.811,3076.239795\\r\\nIraq,2002,24001816,Asia,57.046,4390.717312\\r\\nIraq,2007,27499638,Asia,59.545,4471.061906\\r\\nIreland,1952,2952156,Europe,66.91,5210.280328\\r\\nIreland,1957,2878220,Europe,68.9,5599.077872\\r\\nIreland,1962,2830000,Europe,70.29,6631.597314\\r\\nIreland,1967,2900100,Europe,71.08,7655.568963\\r\\nIreland,1972,3024400,Europe,71.28,9530.772896\\r\\nIreland,1977,3271900,Europe,72.03,11150.98113\\r\\nIreland,1982,3480000,Europe,73.1,12618.32141\\r\\nIreland,1987,3539900,Europe,74.36,13872.86652\\r\\nIreland,1992,3557761,Europe,75.467,17558.81555\\r\\nIreland,1997,3667233,Europe,76.122,24521.94713\\r\\nIreland,2002,3879155,Europe,77.783,34077.04939\\r\\nIreland,2007,4109086,Europe,78.885,40675.99635\\r\\nIsrael,1952,1620914,Asia,65.39,4086.522128\\r\\nIsrael,1957,1944401,Asia,67.84,5385.278451\\r\\nIsrael,1962,2310904,Asia,69.39,7105.630706\\r\\nIsrael,1967,2693585,Asia,70.75,8393.741404\\r\\nIsrael,1972,3095893,Asia,71.63,12786.93223\\r\\nIsrael,1977,3495918,Asia,73.06,13306.61921\\r\\nIsrael,1982,3858421,Asia,74.45,15367.0292\\r\\nIsrael,1987,4203148,Asia,75.6,17122.47986\\r\\nIsrael,1992,4936550,Asia,76.93,18051.52254\\r\\nIsrael,1997,5531387,Asia,78.269,20896.60924\\r\\nIsrael,2002,6029529,Asia,79.696,21905.59514\\r\\nIsrael,2007,6426679,Asia,80.745,25523.2771\\r\\nItaly,1952,47666000,Europe,65.94,4931.404155\\r\\nItaly,1957,49182000,Europe,67.81,6248.656232\\r\\nItaly,1962,50843200,Europe,69.24,8243.58234\\r\\nItaly,1967,52667100,Europe,71.06,10022.40131\\r\\nItaly,1972,54365564,Europe,72.19,12269.27378\\r\\nItaly,1977,56059245,Europe,73.48,14255.98475\\r\\nItaly,1982,56535636,Europe,74.98,16537.4835\\r\\nItaly,1987,56729703,Europe,76.42,19207.23482\\r\\nItaly,1992,56840847,Europe,77.44,22013.64486\\r\\nItaly,1997,57479469,Europe,78.82,24675.02446\\r\\nItaly,2002,57926999,Europe,80.24,27968.09817\\r\\nItaly,2007,58147733,Europe,80.546,28569.7197\\r\\nJamaica,1952,1426095,Americas,58.53,2898.530881\\r\\nJamaica,1957,1535090,Americas,62.61,4756.525781\\r\\nJamaica,1962,1665128,Americas,65.61,5246.107524\\r\\nJamaica,1967,1861096,Americas,67.51,6124.703451\\r\\nJamaica,1972,1997616,Americas,69,7433.889293\\r\\nJamaica,1977,2156814,Americas,70.11,6650.195573\\r\\nJamaica,1982,2298309,Americas,71.21,6068.05135\\r\\nJamaica,1987,2326606,Americas,71.77,6351.237495\\r\\nJamaica,1992,2378618,Americas,71.766,7404.923685\\r\\nJamaica,1997,2531311,Americas,72.262,7121.924704\\r\\nJamaica,2002,2664659,Americas,72.047,6994.774861\\r\\nJamaica,2007,2780132,Americas,72.567,7320.880262\\r\\nJapan,1952,86459025,Asia,63.03,3216.956347\\r\\nJapan,1957,91563009,Asia,65.5,4317.694365\\r\\nJapan,1962,95831757,Asia,68.73,6576.649461\\r\\nJapan,1967,100825279,Asia,71.43,9847.788607\\r\\nJapan,1972,107188273,Asia,73.42,14778.78636\\r\\nJapan,1977,113872473,Asia,75.38,16610.37701\\r\\nJapan,1982,118454974,Asia,77.11,19384.10571\\r\\nJapan,1987,122091325,Asia,78.67,22375.94189\\r\\nJapan,1992,124329269,Asia,79.36,26824.89511\\r\\nJapan,1997,125956499,Asia,80.69,28816.58499\\r\\nJapan,2002,127065841,Asia,82,28604.5919\\r\\nJapan,2007,127467972,Asia,82.603,31656.06806\\r\\nJordan,1952,607914,Asia,43.158,1546.907807\\r\\nJordan,1957,746559,Asia,45.669,1886.080591\\r\\nJordan,1962,933559,Asia,48.126,2348.009158\\r\\nJordan,1967,1255058,Asia,51.629,2741.796252\\r\\nJordan,1972,1613551,Asia,56.528,2110.856309\\r\\nJordan,1977,1937652,Asia,61.134,2852.351568\\r\\nJordan,1982,2347031,Asia,63.739,4161.415959\\r\\nJordan,1987,2820042,Asia,65.869,4448.679912\\r\\nJordan,1992,3867409,Asia,68.015,3431.593647\\r\\nJordan,1997,4526235,Asia,69.772,3645.379572\\r\\nJordan,2002,5307470,Asia,71.263,3844.917194\\r\\nJordan,2007,6053193,Asia,72.535,4519.461171\\r\\nKenya,1952,6464046,Africa,42.27,853.540919\\r\\nKenya,1957,7454779,Africa,44.686,944.4383152\\r\\nKenya,1962,8678557,Africa,47.949,896.9663732\\r\\nKenya,1967,10191512,Africa,50.654,1056.736457\\r\\nKenya,1972,12044785,Africa,53.559,1222.359968\\r\\nKenya,1977,14500404,Africa,56.155,1267.613204\\r\\nKenya,1982,17661452,Africa,58.766,1348.225791\\r\\nKenya,1987,21198082,Africa,59.339,1361.936856\\r\\nKenya,1992,25020539,Africa,59.285,1341.921721\\r\\nKenya,1997,28263827,Africa,54.407,1360.485021\\r\\nKenya,2002,31386842,Africa,50.992,1287.514732\\r\\nKenya,2007,35610177,Africa,54.11,1463.249282\\r\\nKorea Dem. Rep.,1952,8865488,Asia,50.056,1088.277758\\r\\nKorea Dem. Rep.,1957,9411381,Asia,54.081,1571.134655\\r\\nKorea Dem. Rep.,1962,10917494,Asia,56.656,1621.693598\\r\\nKorea Dem. Rep.,1967,12617009,Asia,59.942,2143.540609\\r\\nKorea Dem. Rep.,1972,14781241,Asia,63.983,3701.621503\\r\\nKorea Dem. Rep.,1977,16325320,Asia,67.159,4106.301249\\r\\nKorea Dem. Rep.,1982,17647518,Asia,69.1,4106.525293\\r\\nKorea Dem. Rep.,1987,19067554,Asia,70.647,4106.492315\\r\\nKorea Dem. Rep.,1992,20711375,Asia,69.978,3726.063507\\r\\nKorea Dem. Rep.,1997,21585105,Asia,67.727,1690.756814\\r\\nKorea Dem. Rep.,2002,22215365,Asia,66.662,1646.758151\\r\\nKorea Dem. Rep.,2007,23301725,Asia,67.297,1593.06548\\r\\nKorea Rep.,1952,20947571,Asia,47.453,1030.592226\\r\\nKorea Rep.,1957,22611552,Asia,52.681,1487.593537\\r\\nKorea Rep.,1962,26420307,Asia,55.292,1536.344387\\r\\nKorea Rep.,1967,30131000,Asia,57.716,2029.228142\\r\\nKorea Rep.,1972,33505000,Asia,62.612,3030.87665\\r\\nKorea Rep.,1977,36436000,Asia,64.766,4657.22102\\r\\nKorea Rep.,1982,39326000,Asia,67.123,5622.942464\\r\\nKorea Rep.,1987,41622000,Asia,69.81,8533.088805\\r\\nKorea Rep.,1992,43805450,Asia,72.244,12104.27872\\r\\nKorea Rep.,1997,46173816,Asia,74.647,15993.52796\\r\\nKorea Rep.,2002,47969150,Asia,77.045,19233.98818\\r\\nKorea Rep.,2007,49044790,Asia,78.623,23348.13973\\r\\nKuwait,1952,160000,Asia,55.565,108382.3529\\r\\nKuwait,1957,212846,Asia,58.033,113523.1329\\r\\nKuwait,1962,358266,Asia,60.47,95458.11176\\r\\nKuwait,1967,575003,Asia,64.624,80894.88326\\r\\nKuwait,1972,841934,Asia,67.712,109347.867\\r\\nKuwait,1977,1140357,Asia,69.343,59265.47714\\r\\nKuwait,1982,1497494,Asia,71.309,31354.03573\\r\\nKuwait,1987,1891487,Asia,74.174,28118.42998\\r\\nKuwait,1992,1418095,Asia,75.19,34932.91959\\r\\nKuwait,1997,1765345,Asia,76.156,40300.61996\\r\\nKuwait,2002,2111561,Asia,76.904,35110.10566\\r\\nKuwait,2007,2505559,Asia,77.588,47306.98978\\r\\nLebanon,1952,1439529,Asia,55.928,4834.804067\\r\\nLebanon,1957,1647412,Asia,59.489,6089.786934\\r\\nLebanon,1962,1886848,Asia,62.094,5714.560611\\r\\nLebanon,1967,2186894,Asia,63.87,6006.983042\\r\\nLebanon,1972,2680018,Asia,65.421,7486.384341\\r\\nLebanon,1977,3115787,Asia,66.099,8659.696836\\r\\nLebanon,1982,3086876,Asia,66.983,7640.519521\\r\\nLebanon,1987,3089353,Asia,67.926,5377.091329\\r\\nLebanon,1992,3219994,Asia,69.292,6890.806854\\r\\nLebanon,1997,3430388,Asia,70.265,8754.96385\\r\\nLebanon,2002,3677780,Asia,71.028,9313.93883\\r\\nLebanon,2007,3921278,Asia,71.993,10461.05868\\r\\nLesotho,1952,748747,Africa,42.138,298.8462121\\r\\nLesotho,1957,813338,Africa,45.047,335.9971151\\r\\nLesotho,1962,893143,Africa,47.747,411.8006266\\r\\nLesotho,1967,996380,Africa,48.492,498.6390265\\r\\nLesotho,1972,1116779,Africa,49.767,496.5815922\\r\\nLesotho,1977,1251524,Africa,52.208,745.3695408\\r\\nLesotho,1982,1411807,Africa,55.078,797.2631074\\r\\nLesotho,1987,1599200,Africa,57.18,773.9932141\\r\\nLesotho,1992,1803195,Africa,59.685,977.4862725\\r\\nLesotho,1997,1982823,Africa,55.558,1186.147994\\r\\nLesotho,2002,2046772,Africa,44.593,1275.184575\\r\\nLesotho,2007,2012649,Africa,42.592,1569.331442\\r\\nLiberia,1952,863308,Africa,38.48,575.5729961\\r\\nLiberia,1957,975950,Africa,39.486,620.9699901\\r\\nLiberia,1962,1112796,Africa,40.502,634.1951625\\r\\nLiberia,1967,1279406,Africa,41.536,713.6036483\\r\\nLiberia,1972,1482628,Africa,42.614,803.0054535\\r\\nLiberia,1977,1703617,Africa,43.764,640.3224383\\r\\nLiberia,1982,1956875,Africa,44.852,572.1995694\\r\\nLiberia,1987,2269414,Africa,46.027,506.1138573\\r\\nLiberia,1992,1912974,Africa,40.802,636.6229191\\r\\nLiberia,1997,2200725,Africa,42.221,609.1739508\\r\\nLiberia,2002,2814651,Africa,43.753,531.4823679\\r\\nLiberia,2007,3193942,Africa,45.678,414.5073415\\r\\nLibya,1952,1019729,Africa,42.723,2387.54806\\r\\nLibya,1957,1201578,Africa,45.289,3448.284395\\r\\nLibya,1962,1441863,Africa,47.808,6757.030816\\r\\nLibya,1967,1759224,Africa,50.227,18772.75169\\r\\nLibya,1972,2183877,Africa,52.773,21011.49721\\r\\nLibya,1977,2721783,Africa,57.442,21951.21176\\r\\nLibya,1982,3344074,Africa,62.155,17364.27538\\r\\nLibya,1987,3799845,Africa,66.234,11770.5898\\r\\nLibya,1992,4364501,Africa,68.755,9640.138501\\r\\nLibya,1997,4759670,Africa,71.555,9467.446056\\r\\nLibya,2002,5368585,Africa,72.737,9534.677467\\r\\nLibya,2007,6036914,Africa,73.952,12057.49928\\r\\nMadagascar,1952,4762912,Africa,36.681,1443.011715\\r\\nMadagascar,1957,5181679,Africa,38.865,1589.20275\\r\\nMadagascar,1962,5703324,Africa,40.848,1643.38711\\r\\nMadagascar,1967,6334556,Africa,42.881,1634.047282\\r\\nMadagascar,1972,7082430,Africa,44.851,1748.562982\\r\\nMadagascar,1977,8007166,Africa,46.881,1544.228586\\r\\nMadagascar,1982,9171477,Africa,48.969,1302.878658\\r\\nMadagascar,1987,10568642,Africa,49.35,1155.441948\\r\\nMadagascar,1992,12210395,Africa,52.214,1040.67619\\r\\nMadagascar,1997,14165114,Africa,54.978,986.2958956\\r\\nMadagascar,2002,16473477,Africa,57.286,894.6370822\\r\\nMadagascar,2007,19167654,Africa,59.443,1044.770126\\r\\nMalawi,1952,2917802,Africa,36.256,369.1650802\\r\\nMalawi,1957,3221238,Africa,37.207,416.3698064\\r\\nMalawi,1962,3628608,Africa,38.41,427.9010856\\r\\nMalawi,1967,4147252,Africa,39.487,495.5147806\\r\\nMalawi,1972,4730997,Africa,41.766,584.6219709\\r\\nMalawi,1977,5637246,Africa,43.767,663.2236766\\r\\nMalawi,1982,6502825,Africa,45.642,632.8039209\\r\\nMalawi,1987,7824747,Africa,47.457,635.5173634\\r\\nMalawi,1992,10014249,Africa,49.42,563.2000145\\r\\nMalawi,1997,10419991,Africa,47.495,692.2758103\\r\\nMalawi,2002,11824495,Africa,45.009,665.4231186\\r\\nMalawi,2007,13327079,Africa,48.303,759.3499101\\r\\nMalaysia,1952,6748378,Asia,48.463,1831.132894\\r\\nMalaysia,1957,7739235,Asia,52.102,1810.066992\\r\\nMalaysia,1962,8906385,Asia,55.737,2036.884944\\r\\nMalaysia,1967,10154878,Asia,59.371,2277.742396\\r\\nMalaysia,1972,11441462,Asia,63.01,2849.09478\\r\\nMalaysia,1977,12845381,Asia,65.256,3827.921571\\r\\nMalaysia,1982,14441916,Asia,68,4920.355951\\r\\nMalaysia,1987,16331785,Asia,69.5,5249.802653\\r\\nMalaysia,1992,18319502,Asia,70.693,7277.912802\\r\\nMalaysia,1997,20476091,Asia,71.938,10132.90964\\r\\nMalaysia,2002,22662365,Asia,73.044,10206.97794\\r\\nMalaysia,2007,24821286,Asia,74.241,12451.6558\\r\\nMali,1952,3838168,Africa,33.685,452.3369807\\r\\nMali,1957,4241884,Africa,35.307,490.3821867\\r\\nMali,1962,4690372,Africa,36.936,496.1743428\\r\\nMali,1967,5212416,Africa,38.487,545.0098873\\r\\nMali,1972,5828158,Africa,39.977,581.3688761\\r\\nMali,1977,6491649,Africa,41.714,686.3952693\\r\\nMali,1982,6998256,Africa,43.916,618.0140641\\r\\nMali,1987,7634008,Africa,46.364,684.1715576\\r\\nMali,1992,8416215,Africa,48.388,739.014375\\r\\nMali,1997,9384984,Africa,49.903,790.2579846\\r\\nMali,2002,10580176,Africa,51.818,951.4097518\\r\\nMali,2007,12031795,Africa,54.467,1042.581557\\r\\nMauritania,1952,1022556,Africa,40.543,743.1159097\\r\\nMauritania,1957,1076852,Africa,42.338,846.1202613\\r\\nMauritania,1962,1146757,Africa,44.248,1055.896036\\r\\nMauritania,1967,1230542,Africa,46.289,1421.145193\\r\\nMauritania,1972,1332786,Africa,48.437,1586.851781\\r\\nMauritania,1977,1456688,Africa,50.852,1497.492223\\r\\nMauritania,1982,1622136,Africa,53.599,1481.150189\\r\\nMauritania,1987,1841240,Africa,56.145,1421.603576\\r\\nMauritania,1992,2119465,Africa,58.333,1361.369784\\r\\nMauritania,1997,2444741,Africa,60.43,1483.136136\\r\\nMauritania,2002,2828858,Africa,62.247,1579.019543\\r\\nMauritania,2007,3270065,Africa,64.164,1803.151496\\r\\nMauritius,1952,516556,Africa,50.986,1967.955707\\r\\nMauritius,1957,609816,Africa,58.089,2034.037981\\r\\nMauritius,1962,701016,Africa,60.246,2529.067487\\r\\nMauritius,1967,789309,Africa,61.557,2475.387562\\r\\nMauritius,1972,851334,Africa,62.944,2575.484158\\r\\nMauritius,1977,913025,Africa,64.93,3710.982963\\r\\nMauritius,1982,992040,Africa,66.711,3688.037739\\r\\nMauritius,1987,1042663,Africa,68.74,4783.586903\\r\\nMauritius,1992,1096202,Africa,69.745,6058.253846\\r\\nMauritius,1997,1149818,Africa,70.736,7425.705295\\r\\nMauritius,2002,1200206,Africa,71.954,9021.815894\\r\\nMauritius,2007,1250882,Africa,72.801,10956.99112\\r\\nMexico,1952,30144317,Americas,50.789,3478.125529\\r\\nMexico,1957,35015548,Americas,55.19,4131.546641\\r\\nMexico,1962,41121485,Americas,58.299,4581.609385\\r\\nMexico,1967,47995559,Americas,60.11,5754.733883\\r\\nMexico,1972,55984294,Americas,62.361,6809.40669\\r\\nMexico,1977,63759976,Americas,65.032,7674.929108\\r\\nMexico,1982,71640904,Americas,67.405,9611.147541\\r\\nMexico,1987,80122492,Americas,69.498,8688.156003\\r\\nMexico,1992,88111030,Americas,71.455,9472.384295\\r\\nMexico,1997,95895146,Americas,73.67,9767.29753\\r\\nMexico,2002,102479927,Americas,74.902,10742.44053\\r\\nMexico,2007,108700891,Americas,76.195,11977.57496\\r\\nMongolia,1952,800663,Asia,42.244,786.5668575\\r\\nMongolia,1957,882134,Asia,45.248,912.6626085\\r\\nMongolia,1962,1010280,Asia,48.251,1056.353958\\r\\nMongolia,1967,1149500,Asia,51.253,1226.04113\\r\\nMongolia,1972,1320500,Asia,53.754,1421.741975\\r\\nMongolia,1977,1528000,Asia,55.491,1647.511665\\r\\nMongolia,1982,1756032,Asia,57.489,2000.603139\\r\\nMongolia,1987,2015133,Asia,60.222,2338.008304\\r\\nMongolia,1992,2312802,Asia,61.271,1785.402016\\r\\nMongolia,1997,2494803,Asia,63.625,1902.2521\\r\\nMongolia,2002,2674234,Asia,65.033,2140.739323\\r\\nMongolia,2007,2874127,Asia,66.803,3095.772271\\r\\nMontenegro,1952,413834,Europe,59.164,2647.585601\\r\\nMontenegro,1957,442829,Europe,61.448,3682.259903\\r\\nMontenegro,1962,474528,Europe,63.728,4649.593785\\r\\nMontenegro,1967,501035,Europe,67.178,5907.850937\\r\\nMontenegro,1972,527678,Europe,70.636,7778.414017\\r\\nMontenegro,1977,560073,Europe,73.066,9595.929905\\r\\nMontenegro,1982,562548,Europe,74.101,11222.58762\\r\\nMontenegro,1987,569473,Europe,74.865,11732.51017\\r\\nMontenegro,1992,621621,Europe,75.435,7003.339037\\r\\nMontenegro,1997,692651,Europe,75.445,6465.613349\\r\\nMontenegro,2002,720230,Europe,73.981,6557.194282\\r\\nMontenegro,2007,684736,Europe,74.543,9253.896111\\r\\nMorocco,1952,9939217,Africa,42.873,1688.20357\\r\\nMorocco,1957,11406350,Africa,45.423,1642.002314\\r\\nMorocco,1962,13056604,Africa,47.924,1566.353493\\r\\nMorocco,1967,14770296,Africa,50.335,1711.04477\\r\\nMorocco,1972,16660670,Africa,52.862,1930.194975\\r\\nMorocco,1977,18396941,Africa,55.73,2370.619976\\r\\nMorocco,1982,20198730,Africa,59.65,2702.620356\\r\\nMorocco,1987,22987397,Africa,62.677,2755.046991\\r\\nMorocco,1992,25798239,Africa,65.393,2948.047252\\r\\nMorocco,1997,28529501,Africa,67.66,2982.101858\\r\\nMorocco,2002,31167783,Africa,69.615,3258.495584\\r\\nMorocco,2007,33757175,Africa,71.164,3820.17523\\r\\nMozambique,1952,6446316,Africa,31.286,468.5260381\\r\\nMozambique,1957,7038035,Africa,33.779,495.5868333\\r\\nMozambique,1962,7788944,Africa,36.161,556.6863539\\r\\nMozambique,1967,8680909,Africa,38.113,566.6691539\\r\\nMozambique,1972,9809596,Africa,40.328,724.9178037\\r\\nMozambique,1977,11127868,Africa,42.495,502.3197334\\r\\nMozambique,1982,12587223,Africa,42.795,462.2114149\\r\\nMozambique,1987,12891952,Africa,42.861,389.8761846\\r\\nMozambique,1992,13160731,Africa,44.284,410.8968239\\r\\nMozambique,1997,16603334,Africa,46.344,472.3460771\\r\\nMozambique,2002,18473780,Africa,44.026,633.6179466\\r\\nMozambique,2007,19951656,Africa,42.082,823.6856205\\r\\nMyanmar,1952,20092996,Asia,36.319,331\\r\\nMyanmar,1957,21731844,Asia,41.905,350\\r\\nMyanmar,1962,23634436,Asia,45.108,388\\r\\nMyanmar,1967,25870271,Asia,49.379,349\\r\\nMyanmar,1972,28466390,Asia,53.07,357\\r\\nMyanmar,1977,31528087,Asia,56.059,371\\r\\nMyanmar,1982,34680442,Asia,58.056,424\\r\\nMyanmar,1987,38028578,Asia,58.339,385\\r\\nMyanmar,1992,40546538,Asia,59.32,347\\r\\nMyanmar,1997,43247867,Asia,60.328,415\\r\\nMyanmar,2002,45598081,Asia,59.908,611\\r\\nMyanmar,2007,47761980,Asia,62.069,944\\r\\nNamibia,1952,485831,Africa,41.725,2423.780443\\r\\nNamibia,1957,548080,Africa,45.226,2621.448058\\r\\nNamibia,1962,621392,Africa,48.386,3173.215595\\r\\nNamibia,1967,706640,Africa,51.159,3793.694753\\r\\nNamibia,1972,821782,Africa,53.867,3746.080948\\r\\nNamibia,1977,977026,Africa,56.437,3876.485958\\r\\nNamibia,1982,1099010,Africa,58.968,4191.100511\\r\\nNamibia,1987,1278184,Africa,60.835,3693.731337\\r\\nNamibia,1992,1554253,Africa,61.999,3804.537999\\r\\nNamibia,1997,1774766,Africa,58.909,3899.52426\\r\\nNamibia,2002,1972153,Africa,51.479,4072.324751\\r\\nNamibia,2007,2055080,Africa,52.906,4811.060429\\r\\nNepal,1952,9182536,Asia,36.157,545.8657229\\r\\nNepal,1957,9682338,Asia,37.686,597.9363558\\r\\nNepal,1962,10332057,Asia,39.393,652.3968593\\r\\nNepal,1967,11261690,Asia,41.472,676.4422254\\r\\nNepal,1972,12412593,Asia,43.971,674.7881296\\r\\nNepal,1977,13933198,Asia,46.748,694.1124398\\r\\nNepal,1982,15796314,Asia,49.594,718.3730947\\r\\nNepal,1987,17917180,Asia,52.537,775.6324501\\r\\nNepal,1992,20326209,Asia,55.727,897.7403604\\r\\nNepal,1997,23001113,Asia,59.426,1010.892138\\r\\nNepal,2002,25873917,Asia,61.34,1057.206311\\r\\nNepal,2007,28901790,Asia,63.785,1091.359778\\r\\nNetherlands,1952,10381988,Europe,72.13,8941.571858\\r\\nNetherlands,1957,11026383,Europe,72.99,11276.19344\\r\\nNetherlands,1962,11805689,Europe,73.23,12790.84956\\r\\nNetherlands,1967,12596822,Europe,73.82,15363.25136\\r\\nNetherlands,1972,13329874,Europe,73.75,18794.74567\\r\\nNetherlands,1977,13852989,Europe,75.24,21209.0592\\r\\nNetherlands,1982,14310401,Europe,76.05,21399.46046\\r\\nNetherlands,1987,14665278,Europe,76.83,23651.32361\\r\\nNetherlands,1992,15174244,Europe,77.42,26790.94961\\r\\nNetherlands,1997,15604464,Europe,78.03,30246.13063\\r\\nNetherlands,2002,16122830,Europe,78.53,33724.75778\\r\\nNetherlands,2007,16570613,Europe,79.762,36797.93332\\r\\nNew Zealand,1952,1994794,Oceania,69.39,10556.57566\\r\\nNew Zealand,1957,2229407,Oceania,70.26,12247.39532\\r\\nNew Zealand,1962,2488550,Oceania,71.24,13175.678\\r\\nNew Zealand,1967,2728150,Oceania,71.52,14463.91893\\r\\nNew Zealand,1972,2929100,Oceania,71.89,16046.03728\\r\\nNew Zealand,1977,3164900,Oceania,72.22,16233.7177\\r\\nNew Zealand,1982,3210650,Oceania,73.84,17632.4104\\r\\nNew Zealand,1987,3317166,Oceania,74.32,19007.19129\\r\\nNew Zealand,1992,3437674,Oceania,76.33,18363.32494\\r\\nNew Zealand,1997,3676187,Oceania,77.55,21050.41377\\r\\nNew Zealand,2002,3908037,Oceania,79.11,23189.80135\\r\\nNew Zealand,2007,4115771,Oceania,80.204,25185.00911\\r\\nNicaragua,1952,1165790,Americas,42.314,3112.363948\\r\\nNicaragua,1957,1358828,Americas,45.432,3457.415947\\r\\nNicaragua,1962,1590597,Americas,48.632,3634.364406\\r\\nNicaragua,1967,1865490,Americas,51.884,4643.393534\\r\\nNicaragua,1972,2182908,Americas,55.151,4688.593267\\r\\nNicaragua,1977,2554598,Americas,57.47,5486.371089\\r\\nNicaragua,1982,2979423,Americas,59.298,3470.338156\\r\\nNicaragua,1987,3344353,Americas,62.008,2955.984375\\r\\nNicaragua,1992,4017939,Americas,65.843,2170.151724\\r\\nNicaragua,1997,4609572,Americas,68.426,2253.023004\\r\\nNicaragua,2002,5146848,Americas,70.836,2474.548819\\r\\nNicaragua,2007,5675356,Americas,72.899,2749.320965\\r\\nNiger,1952,3379468,Africa,37.444,761.879376\\r\\nNiger,1957,3692184,Africa,38.598,835.5234025\\r\\nNiger,1962,4076008,Africa,39.487,997.7661127\\r\\nNiger,1967,4534062,Africa,40.118,1054.384891\\r\\nNiger,1972,5060262,Africa,40.546,954.2092363\\r\\nNiger,1977,5682086,Africa,41.291,808.8970728\\r\\nNiger,1982,6437188,Africa,42.598,909.7221354\\r\\nNiger,1987,7332638,Africa,44.555,668.3000228\\r\\nNiger,1992,8392818,Africa,47.391,581.182725\\r\\nNiger,1997,9666252,Africa,51.313,580.3052092\\r\\nNiger,2002,11140655,Africa,54.496,601.0745012\\r\\nNiger,2007,12894865,Africa,56.867,619.6768924\\r\\nNigeria,1952,33119096,Africa,36.324,1077.281856\\r\\nNigeria,1957,37173340,Africa,37.802,1100.592563\\r\\nNigeria,1962,41871351,Africa,39.36,1150.927478\\r\\nNigeria,1967,47287752,Africa,41.04,1014.514104\\r\\nNigeria,1972,53740085,Africa,42.821,1698.388838\\r\\nNigeria,1977,62209173,Africa,44.514,1981.951806\\r\\nNigeria,1982,73039376,Africa,45.826,1576.97375\\r\\nNigeria,1987,81551520,Africa,46.886,1385.029563\\r\\nNigeria,1992,93364244,Africa,47.472,1619.848217\\r\\nNigeria,1997,106207839,Africa,47.464,1624.941275\\r\\nNigeria,2002,119901274,Africa,46.608,1615.286395\\r\\nNigeria,2007,135031164,Africa,46.859,2013.977305\\r\\nNorway,1952,3327728,Europe,72.67,10095.42172\\r\\nNorway,1957,3491938,Europe,73.44,11653.97304\\r\\nNorway,1962,3638919,Europe,73.47,13450.40151\\r\\nNorway,1967,3786019,Europe,74.08,16361.87647\\r\\nNorway,1972,3933004,Europe,74.34,18965.05551\\r\\nNorway,1977,4043205,Europe,75.37,23311.34939\\r\\nNorway,1982,4114787,Europe,75.97,26298.63531\\r\\nNorway,1987,4186147,Europe,75.89,31540.9748\\r\\nNorway,1992,4286357,Europe,77.32,33965.66115\\r\\nNorway,1997,4405672,Europe,78.32,41283.16433\\r\\nNorway,2002,4535591,Europe,79.05,44683.97525\\r\\nNorway,2007,4627926,Europe,80.196,49357.19017\\r\\nOman,1952,507833,Asia,37.578,1828.230307\\r\\nOman,1957,561977,Asia,40.08,2242.746551\\r\\nOman,1962,628164,Asia,43.165,2924.638113\\r\\nOman,1967,714775,Asia,46.988,4720.942687\\r\\nOman,1972,829050,Asia,52.143,10618.03855\\r\\nOman,1977,1004533,Asia,57.367,11848.34392\\r\\nOman,1982,1301048,Asia,62.728,12954.79101\\r\\nOman,1987,1593882,Asia,67.734,18115.22313\\r\\nOman,1992,1915208,Asia,71.197,18616.70691\\r\\nOman,1997,2283635,Asia,72.499,19702.05581\\r\\nOman,2002,2713462,Asia,74.193,19774.83687\\r\\nOman,2007,3204897,Asia,75.64,22316.19287\\r\\nPakistan,1952,41346560,Asia,43.436,684.5971438\\r\\nPakistan,1957,46679944,Asia,45.557,747.0835292\\r\\nPakistan,1962,53100671,Asia,47.67,803.3427418\\r\\nPakistan,1967,60641899,Asia,49.8,942.4082588\\r\\nPakistan,1972,69325921,Asia,51.929,1049.938981\\r\\nPakistan,1977,78152686,Asia,54.043,1175.921193\\r\\nPakistan,1982,91462088,Asia,56.158,1443.429832\\r\\nPakistan,1987,105186881,Asia,58.245,1704.686583\\r\\nPakistan,1992,120065004,Asia,60.838,1971.829464\\r\\nPakistan,1997,135564834,Asia,61.818,2049.350521\\r\\nPakistan,2002,153403524,Asia,63.61,2092.712441\\r\\nPakistan,2007,169270617,Asia,65.483,2605.94758\\r\\nPanama,1952,940080,Americas,55.191,2480.380334\\r\\nPanama,1957,1063506,Americas,59.201,2961.800905\\r\\nPanama,1962,1215725,Americas,61.817,3536.540301\\r\\nPanama,1967,1405486,Americas,64.071,4421.009084\\r\\nPanama,1972,1616384,Americas,66.216,5364.249663\\r\\nPanama,1977,1839782,Americas,68.681,5351.912144\\r\\nPanama,1982,2036305,Americas,70.472,7009.601598\\r\\nPanama,1987,2253639,Americas,71.523,7034.779161\\r\\nPanama,1992,2484997,Americas,72.462,6618.74305\\r\\nPanama,1997,2734531,Americas,73.738,7113.692252\\r\\nPanama,2002,2990875,Americas,74.712,7356.031934\\r\\nPanama,2007,3242173,Americas,75.537,9809.185636\\r\\nParaguay,1952,1555876,Americas,62.649,1952.308701\\r\\nParaguay,1957,1770902,Americas,63.196,2046.154706\\r\\nParaguay,1962,2009813,Americas,64.361,2148.027146\\r\\nParaguay,1967,2287985,Americas,64.951,2299.376311\\r\\nParaguay,1972,2614104,Americas,65.815,2523.337977\\r\\nParaguay,1977,2984494,Americas,66.353,3248.373311\\r\\nParaguay,1982,3366439,Americas,66.874,4258.503604\\r\\nParaguay,1987,3886512,Americas,67.378,3998.875695\\r\\nParaguay,1992,4483945,Americas,68.225,4196.411078\\r\\nParaguay,1997,5154123,Americas,69.4,4247.400261\\r\\nParaguay,2002,5884491,Americas,70.755,3783.674243\\r\\nParaguay,2007,6667147,Americas,71.752,4172.838464\\r\\nPeru,1952,8025700,Americas,43.902,3758.523437\\r\\nPeru,1957,9146100,Americas,46.263,4245.256698\\r\\nPeru,1962,10516500,Americas,49.096,4957.037982\\r\\nPeru,1967,12132200,Americas,51.445,5788.09333\\r\\nPeru,1972,13954700,Americas,55.448,5937.827283\\r\\nPeru,1977,15990099,Americas,58.447,6281.290855\\r\\nPeru,1982,18125129,Americas,61.406,6434.501797\\r\\nPeru,1987,20195924,Americas,64.134,6360.943444\\r\\nPeru,1992,22430449,Americas,66.458,4446.380924\\r\\nPeru,1997,24748122,Americas,68.386,5838.347657\\r\\nPeru,2002,26769436,Americas,69.906,5909.020073\\r\\nPeru,2007,28674757,Americas,71.421,7408.905561\\r\\nPhilippines,1952,22438691,Asia,47.752,1272.880995\\r\\nPhilippines,1957,26072194,Asia,51.334,1547.944844\\r\\nPhilippines,1962,30325264,Asia,54.757,1649.552153\\r\\nPhilippines,1967,35356600,Asia,56.393,1814.12743\\r\\nPhilippines,1972,40850141,Asia,58.065,1989.37407\\r\\nPhilippines,1977,46850962,Asia,60.06,2373.204287\\r\\nPhilippines,1982,53456774,Asia,62.082,2603.273765\\r\\nPhilippines,1987,60017788,Asia,64.151,2189.634995\\r\\nPhilippines,1992,67185766,Asia,66.458,2279.324017\\r\\nPhilippines,1997,75012988,Asia,68.564,2536.534925\\r\\nPhilippines,2002,82995088,Asia,70.303,2650.921068\\r\\nPhilippines,2007,91077287,Asia,71.688,3190.481016\\r\\nPoland,1952,25730551,Europe,61.31,4029.329699\\r\\nPoland,1957,28235346,Europe,65.77,4734.253019\\r\\nPoland,1962,30329617,Europe,67.64,5338.752143\\r\\nPoland,1967,31785378,Europe,69.61,6557.152776\\r\\nPoland,1972,33039545,Europe,70.85,8006.506993\\r\\nPoland,1977,34621254,Europe,70.67,9508.141454\\r\\nPoland,1982,36227381,Europe,71.32,8451.531004\\r\\nPoland,1987,37740710,Europe,70.98,9082.351172\\r\\nPoland,1992,38370697,Europe,70.99,7738.881247\\r\\nPoland,1997,38654957,Europe,72.75,10159.58368\\r\\nPoland,2002,38625976,Europe,74.67,12002.23908\\r\\nPoland,2007,38518241,Europe,75.563,15389.92468\\r\\nPortugal,1952,8526050,Europe,59.82,3068.319867\\r\\nPortugal,1957,8817650,Europe,61.51,3774.571743\\r\\nPortugal,1962,9019800,Europe,64.39,4727.954889\\r\\nPortugal,1967,9103000,Europe,66.6,6361.517993\\r\\nPortugal,1972,8970450,Europe,69.26,9022.247417\\r\\nPortugal,1977,9662600,Europe,70.41,10172.48572\\r\\nPortugal,1982,9859650,Europe,72.77,11753.84291\\r\\nPortugal,1987,9915289,Europe,74.06,13039.30876\\r\\nPortugal,1992,9927680,Europe,74.86,16207.26663\\r\\nPortugal,1997,10156415,Europe,75.97,17641.03156\\r\\nPortugal,2002,10433867,Europe,77.29,19970.90787\\r\\nPortugal,2007,10642836,Europe,78.098,20509.64777\\r\\nPuerto Rico,1952,2227000,Americas,64.28,3081.959785\\r\\nPuerto Rico,1957,2260000,Americas,68.54,3907.156189\\r\\nPuerto Rico,1962,2448046,Americas,69.62,5108.34463\\r\\nPuerto Rico,1967,2648961,Americas,71.1,6929.277714\\r\\nPuerto Rico,1972,2847132,Americas,72.16,9123.041742\\r\\nPuerto Rico,1977,3080828,Americas,73.44,9770.524921\\r\\nPuerto Rico,1982,3279001,Americas,73.75,10330.98915\\r\\nPuerto Rico,1987,3444468,Americas,74.63,12281.34191\\r\\nPuerto Rico,1992,3585176,Americas,73.911,14641.58711\\r\\nPuerto Rico,1997,3759430,Americas,74.917,16999.4333\\r\\nPuerto Rico,2002,3859606,Americas,77.778,18855.60618\\r\\nPuerto Rico,2007,3942491,Americas,78.746,19328.70901\\r\\nReunion,1952,257700,Africa,52.724,2718.885295\\r\\nReunion,1957,308700,Africa,55.09,2769.451844\\r\\nReunion,1962,358900,Africa,57.666,3173.72334\\r\\nReunion,1967,414024,Africa,60.542,4021.175739\\r\\nReunion,1972,461633,Africa,64.274,5047.658563\\r\\nReunion,1977,492095,Africa,67.064,4319.804067\\r\\nReunion,1982,517810,Africa,69.885,5267.219353\\r\\nReunion,1987,562035,Africa,71.913,5303.377488\\r\\nReunion,1992,622191,Africa,73.615,6101.255823\\r\\nReunion,1997,684810,Africa,74.772,6071.941411\\r\\nReunion,2002,743981,Africa,75.744,6316.1652\\r\\nReunion,2007,798094,Africa,76.442,7670.122558\\r\\nRomania,1952,16630000,Europe,61.05,3144.613186\\r\\nRomania,1957,17829327,Europe,64.1,3943.370225\\r\\nRomania,1962,18680721,Europe,66.8,4734.997586\\r\\nRomania,1967,19284814,Europe,66.8,6470.866545\\r\\nRomania,1972,20662648,Europe,69.21,8011.414402\\r\\nRomania,1977,21658597,Europe,69.46,9356.39724\\r\\nRomania,1982,22356726,Europe,69.66,9605.314053\\r\\nRomania,1987,22686371,Europe,69.53,9696.273295\\r\\nRomania,1992,22797027,Europe,69.36,6598.409903\\r\\nRomania,1997,22562458,Europe,69.72,7346.547557\\r\\nRomania,2002,22404337,Europe,71.322,7885.360081\\r\\nRomania,2007,22276056,Europe,72.476,10808.47561\\r\\nRwanda,1952,2534927,Africa,40,493.3238752\\r\\nRwanda,1957,2822082,Africa,41.5,540.2893983\\r\\nRwanda,1962,3051242,Africa,43,597.4730727\\r\\nRwanda,1967,3451079,Africa,44.1,510.9637142\\r\\nRwanda,1972,3992121,Africa,44.6,590.5806638\\r\\nRwanda,1977,4657072,Africa,45,670.0806011\\r\\nRwanda,1982,5507565,Africa,46.218,881.5706467\\r\\nRwanda,1987,6349365,Africa,44.02,847.991217\\r\\nRwanda,1992,7290203,Africa,23.599,737.0685949\\r\\nRwanda,1997,7212583,Africa,36.087,589.9445051\\r\\nRwanda,2002,7852401,Africa,43.413,785.6537648\\r\\nRwanda,2007,8860588,Africa,46.242,863.0884639\\r\\nSao Tome and Principe,1952,60011,Africa,46.471,879.5835855\\r\\nSao Tome and Principe,1957,61325,Africa,48.945,860.7369026\\r\\nSao Tome and Principe,1962,65345,Africa,51.893,1071.551119\\r\\nSao Tome and Principe,1967,70787,Africa,54.425,1384.840593\\r\\nSao Tome and Principe,1972,76595,Africa,56.48,1532.985254\\r\\nSao Tome and Principe,1977,86796,Africa,58.55,1737.561657\\r\\nSao Tome and Principe,1982,98593,Africa,60.351,1890.218117\\r\\nSao Tome and Principe,1987,110812,Africa,61.728,1516.525457\\r\\nSao Tome and Principe,1992,125911,Africa,62.742,1428.777814\\r\\nSao Tome and Principe,1997,145608,Africa,63.306,1339.076036\\r\\nSao Tome and Principe,2002,170372,Africa,64.337,1353.09239\\r\\nSao Tome and Principe,2007,199579,Africa,65.528,1598.435089\\r\\nSaudi Arabia,1952,4005677,Asia,39.875,6459.554823\\r\\nSaudi Arabia,1957,4419650,Asia,42.868,8157.591248\\r\\nSaudi Arabia,1962,4943029,Asia,45.914,11626.41975\\r\\nSaudi Arabia,1967,5618198,Asia,49.901,16903.04886\\r\\nSaudi Arabia,1972,6472756,Asia,53.886,24837.42865\\r\\nSaudi Arabia,1977,8128505,Asia,58.69,34167.7626\\r\\nSaudi Arabia,1982,11254672,Asia,63.012,33693.17525\\r\\nSaudi Arabia,1987,14619745,Asia,66.295,21198.26136\\r\\nSaudi Arabia,1992,16945857,Asia,68.768,24841.61777\\r\\nSaudi Arabia,1997,21229759,Asia,70.533,20586.69019\\r\\nSaudi Arabia,2002,24501530,Asia,71.626,19014.54118\\r\\nSaudi Arabia,2007,27601038,Asia,72.777,21654.83194\\r\\nSenegal,1952,2755589,Africa,37.278,1450.356983\\r\\nSenegal,1957,3054547,Africa,39.329,1567.653006\\r\\nSenegal,1962,3430243,Africa,41.454,1654.988723\\r\\nSenegal,1967,3965841,Africa,43.563,1612.404632\\r\\nSenegal,1972,4588696,Africa,45.815,1597.712056\\r\\nSenegal,1977,5260855,Africa,48.879,1561.769116\\r\\nSenegal,1982,6147783,Africa,52.379,1518.479984\\r\\nSenegal,1987,7171347,Africa,55.769,1441.72072\\r\\nSenegal,1992,8307920,Africa,58.196,1367.899369\\r\\nSenegal,1997,9535314,Africa,60.187,1392.368347\\r\\nSenegal,2002,10870037,Africa,61.6,1519.635262\\r\\nSenegal,2007,12267493,Africa,63.062,1712.472136\\r\\nSerbia,1952,6860147,Europe,57.996,3581.459448\\r\\nSerbia,1957,7271135,Europe,61.685,4981.090891\\r\\nSerbia,1962,7616060,Europe,64.531,6289.629157\\r\\nSerbia,1967,7971222,Europe,66.914,7991.707066\\r\\nSerbia,1972,8313288,Europe,68.7,10522.06749\\r\\nSerbia,1977,8686367,Europe,70.3,12980.66956\\r\\nSerbia,1982,9032824,Europe,70.162,15181.0927\\r\\nSerbia,1987,9230783,Europe,71.218,15870.87851\\r\\nSerbia,1992,9826397,Europe,71.659,9325.068238\\r\\nSerbia,1997,10336594,Europe,72.232,7914.320304\\r\\nSerbia,2002,10111559,Europe,73.213,7236.075251\\r\\nSerbia,2007,10150265,Europe,74.002,9786.534714\\r\\nSierra Leone,1952,2143249,Africa,30.331,879.7877358\\r\\nSierra Leone,1957,2295678,Africa,31.57,1004.484437\\r\\nSierra Leone,1962,2467895,Africa,32.767,1116.639877\\r\\nSierra Leone,1967,2662190,Africa,34.113,1206.043465\\r\\nSierra Leone,1972,2879013,Africa,35.4,1353.759762\\r\\nSierra Leone,1977,3140897,Africa,36.788,1348.285159\\r\\nSierra Leone,1982,3464522,Africa,38.445,1465.010784\\r\\nSierra Leone,1987,3868905,Africa,40.006,1294.447788\\r\\nSierra Leone,1992,4260884,Africa,38.333,1068.696278\\r\\nSierra Leone,1997,4578212,Africa,39.897,574.6481576\\r\\nSierra Leone,2002,5359092,Africa,41.012,699.489713\\r\\nSierra Leone,2007,6144562,Africa,42.568,862.5407561\\r\\nSingapore,1952,1127000,Asia,60.396,2315.138227\\r\\nSingapore,1957,1445929,Asia,63.179,2843.104409\\r\\nSingapore,1962,1750200,Asia,65.798,3674.735572\\r\\nSingapore,1967,1977600,Asia,67.946,4977.41854\\r\\nSingapore,1972,2152400,Asia,69.521,8597.756202\\r\\nSingapore,1977,2325300,Asia,70.795,11210.08948\\r\\nSingapore,1982,2651869,Asia,71.76,15169.16112\\r\\nSingapore,1987,2794552,Asia,73.56,18861.53081\\r\\nSingapore,1992,3235865,Asia,75.788,24769.8912\\r\\nSingapore,1997,3802309,Asia,77.158,33519.4766\\r\\nSingapore,2002,4197776,Asia,78.77,36023.1054\\r\\nSingapore,2007,4553009,Asia,79.972,47143.17964\\r\\nSlovak Republic,1952,3558137,Europe,64.36,5074.659104\\r\\nSlovak Republic,1957,3844277,Europe,67.45,6093.26298\\r\\nSlovak Republic,1962,4237384,Europe,70.33,7481.107598\\r\\nSlovak Republic,1967,4442238,Europe,70.98,8412.902397\\r\\nSlovak Republic,1972,4593433,Europe,70.35,9674.167626\\r\\nSlovak Republic,1977,4827803,Europe,70.45,10922.66404\\r\\nSlovak Republic,1982,5048043,Europe,70.8,11348.54585\\r\\nSlovak Republic,1987,5199318,Europe,71.08,12037.26758\\r\\nSlovak Republic,1992,5302888,Europe,71.38,9498.467723\\r\\nSlovak Republic,1997,5383010,Europe,72.71,12126.23065\\r\\nSlovak Republic,2002,5410052,Europe,73.8,13638.77837\\r\\nSlovak Republic,2007,5447502,Europe,74.663,18678.31435\\r\\nSlovenia,1952,1489518,Europe,65.57,4215.041741\\r\\nSlovenia,1957,1533070,Europe,67.85,5862.276629\\r\\nSlovenia,1962,1582962,Europe,69.15,7402.303395\\r\\nSlovenia,1967,1646912,Europe,69.18,9405.489397\\r\\nSlovenia,1972,1694510,Europe,69.82,12383.4862\\r\\nSlovenia,1977,1746919,Europe,70.97,15277.03017\\r\\nSlovenia,1982,1861252,Europe,71.063,17866.72175\\r\\nSlovenia,1987,1945870,Europe,72.25,18678.53492\\r\\nSlovenia,1992,1999210,Europe,73.64,14214.71681\\r\\nSlovenia,1997,2011612,Europe,75.13,17161.10735\\r\\nSlovenia,2002,2011497,Europe,76.66,20660.01936\\r\\nSlovenia,2007,2009245,Europe,77.926,25768.25759\\r\\nSomalia,1952,2526994,Africa,32.978,1135.749842\\r\\nSomalia,1957,2780415,Africa,34.977,1258.147413\\r\\nSomalia,1962,3080153,Africa,36.981,1369.488336\\r\\nSomalia,1967,3428839,Africa,38.977,1284.73318\\r\\nSomalia,1972,3840161,Africa,40.973,1254.576127\\r\\nSomalia,1977,4353666,Africa,41.974,1450.992513\\r\\nSomalia,1982,5828892,Africa,42.955,1176.807031\\r\\nSomalia,1987,6921858,Africa,44.501,1093.244963\\r\\nSomalia,1992,6099799,Africa,39.658,926.9602964\\r\\nSomalia,1997,6633514,Africa,43.795,930.5964284\\r\\nSomalia,2002,7753310,Africa,45.936,882.0818218\\r\\nSomalia,2007,9118773,Africa,48.159,926.1410683\\r\\nSouth Africa,1952,14264935,Africa,45.009,4725.295531\\r\\nSouth Africa,1957,16151549,Africa,47.985,5487.104219\\r\\nSouth Africa,1962,18356657,Africa,49.951,5768.729717\\r\\nSouth Africa,1967,20997321,Africa,51.927,7114.477971\\r\\nSouth Africa,1972,23935810,Africa,53.696,7765.962636\\r\\nSouth Africa,1977,27129932,Africa,55.527,8028.651439\\r\\nSouth Africa,1982,31140029,Africa,58.161,8568.266228\\r\\nSouth Africa,1987,35933379,Africa,60.834,7825.823398\\r\\nSouth Africa,1992,39964159,Africa,61.888,7225.069258\\r\\nSouth Africa,1997,42835005,Africa,60.236,7479.188244\\r\\nSouth Africa,2002,44433622,Africa,53.365,7710.946444\\r\\nSouth Africa,2007,43997828,Africa,49.339,9269.657808\\r\\nSpain,1952,28549870,Europe,64.94,3834.034742\\r\\nSpain,1957,29841614,Europe,66.66,4564.80241\\r\\nSpain,1962,31158061,Europe,69.69,5693.843879\\r\\nSpain,1967,32850275,Europe,71.44,7993.512294\\r\\nSpain,1972,34513161,Europe,73.06,10638.75131\\r\\nSpain,1977,36439000,Europe,74.39,13236.92117\\r\\nSpain,1982,37983310,Europe,76.3,13926.16997\\r\\nSpain,1987,38880702,Europe,76.9,15764.98313\\r\\nSpain,1992,39549438,Europe,77.57,18603.06452\\r\\nSpain,1997,39855442,Europe,78.77,20445.29896\\r\\nSpain,2002,40152517,Europe,79.78,24835.47166\\r\\nSpain,2007,40448191,Europe,80.941,28821.0637\\r\\nSri Lanka,1952,7982342,Asia,57.593,1083.53203\\r\\nSri Lanka,1957,9128546,Asia,61.456,1072.546602\\r\\nSri Lanka,1962,10421936,Asia,62.192,1074.47196\\r\\nSri Lanka,1967,11737396,Asia,64.266,1135.514326\\r\\nSri Lanka,1972,13016733,Asia,65.042,1213.39553\\r\\nSri Lanka,1977,14116836,Asia,65.949,1348.775651\\r\\nSri Lanka,1982,15410151,Asia,68.757,1648.079789\\r\\nSri Lanka,1987,16495304,Asia,69.011,1876.766827\\r\\nSri Lanka,1992,17587060,Asia,70.379,2153.739222\\r\\nSri Lanka,1997,18698655,Asia,70.457,2664.477257\\r\\nSri Lanka,2002,19576783,Asia,70.815,3015.378833\\r\\nSri Lanka,2007,20378239,Asia,72.396,3970.095407\\r\\nSudan,1952,8504667,Africa,38.635,1615.991129\\r\\nSudan,1957,9753392,Africa,39.624,1770.337074\\r\\nSudan,1962,11183227,Africa,40.87,1959.593767\\r\\nSudan,1967,12716129,Africa,42.858,1687.997641\\r\\nSudan,1972,14597019,Africa,45.083,1659.652775\\r\\nSudan,1977,17104986,Africa,47.8,2202.988423\\r\\nSudan,1982,20367053,Africa,50.338,1895.544073\\r\\nSudan,1987,24725960,Africa,51.744,1507.819159\\r\\nSudan,1992,28227588,Africa,53.556,1492.197043\\r\\nSudan,1997,32160729,Africa,55.373,1632.210764\\r\\nSudan,2002,37090298,Africa,56.369,1993.398314\\r\\nSudan,2007,42292929,Africa,58.556,2602.394995\\r\\nSwaziland,1952,290243,Africa,41.407,1148.376626\\r\\nSwaziland,1957,326741,Africa,43.424,1244.708364\\r\\nSwaziland,1962,370006,Africa,44.992,1856.182125\\r\\nSwaziland,1967,420690,Africa,46.633,2613.101665\\r\\nSwaziland,1972,480105,Africa,49.552,3364.836625\\r\\nSwaziland,1977,551425,Africa,52.537,3781.410618\\r\\nSwaziland,1982,649901,Africa,55.561,3895.384018\\r\\nSwaziland,1987,779348,Africa,57.678,3984.839812\\r\\nSwaziland,1992,962344,Africa,58.474,3553.0224\\r\\nSwaziland,1997,1054486,Africa,54.289,3876.76846\\r\\nSwaziland,2002,1130269,Africa,43.869,4128.116943\\r\\nSwaziland,2007,1133066,Africa,39.613,4513.480643\\r\\nSweden,1952,7124673,Europe,71.86,8527.844662\\r\\nSweden,1957,7363802,Europe,72.49,9911.878226\\r\\nSweden,1962,7561588,Europe,73.37,12329.44192\\r\\nSweden,1967,7867931,Europe,74.16,15258.29697\\r\\nSweden,1972,8122293,Europe,74.72,17832.02464\\r\\nSweden,1977,8251648,Europe,75.44,18855.72521\\r\\nSweden,1982,8325260,Europe,76.42,20667.38125\\r\\nSweden,1987,8421403,Europe,77.19,23586.92927\\r\\nSweden,1992,8718867,Europe,78.16,23880.01683\\r\\nSweden,1997,8897619,Europe,79.39,25266.59499\\r\\nSweden,2002,8954175,Europe,80.04,29341.63093\\r\\nSweden,2007,9031088,Europe,80.884,33859.74835\\r\\nSwitzerland,1952,4815000,Europe,69.62,14734.23275\\r\\nSwitzerland,1957,5126000,Europe,70.56,17909.48973\\r\\nSwitzerland,1962,5666000,Europe,71.32,20431.0927\\r\\nSwitzerland,1967,6063000,Europe,72.77,22966.14432\\r\\nSwitzerland,1972,6401400,Europe,73.78,27195.11304\\r\\nSwitzerland,1977,6316424,Europe,75.39,26982.29052\\r\\nSwitzerland,1982,6468126,Europe,76.21,28397.71512\\r\\nSwitzerland,1987,6649942,Europe,77.41,30281.70459\\r\\nSwitzerland,1992,6995447,Europe,78.03,31871.5303\\r\\nSwitzerland,1997,7193761,Europe,79.37,32135.32301\\r\\nSwitzerland,2002,7361757,Europe,80.62,34480.95771\\r\\nSwitzerland,2007,7554661,Europe,81.701,37506.41907\\r\\nSyria,1952,3661549,Asia,45.883,1643.485354\\r\\nSyria,1957,4149908,Asia,48.284,2117.234893\\r\\nSyria,1962,4834621,Asia,50.305,2193.037133\\r\\nSyria,1967,5680812,Asia,53.655,1881.923632\\r\\nSyria,1972,6701172,Asia,57.296,2571.423014\\r\\nSyria,1977,7932503,Asia,61.195,3195.484582\\r\\nSyria,1982,9410494,Asia,64.59,3761.837715\\r\\nSyria,1987,11242847,Asia,66.974,3116.774285\\r\\nSyria,1992,13219062,Asia,69.249,3340.542768\\r\\nSyria,1997,15081016,Asia,71.527,4014.238972\\r\\nSyria,2002,17155814,Asia,73.053,4090.925331\\r\\nSyria,2007,19314747,Asia,74.143,4184.548089\\r\\nTaiwan,1952,8550362,Asia,58.5,1206.947913\\r\\nTaiwan,1957,10164215,Asia,62.4,1507.86129\\r\\nTaiwan,1962,11918938,Asia,65.2,1822.879028\\r\\nTaiwan,1967,13648692,Asia,67.5,2643.858681\\r\\nTaiwan,1972,15226039,Asia,69.39,4062.523897\\r\\nTaiwan,1977,16785196,Asia,70.59,5596.519826\\r\\nTaiwan,1982,18501390,Asia,72.16,7426.354774\\r\\nTaiwan,1987,19757799,Asia,73.4,11054.56175\\r\\nTaiwan,1992,20686918,Asia,74.26,15215.6579\\r\\nTaiwan,1997,21628605,Asia,75.25,20206.82098\\r\\nTaiwan,2002,22454239,Asia,76.99,23235.42329\\r\\nTaiwan,2007,23174294,Asia,78.4,28718.27684\\r\\nTanzania,1952,8322925,Africa,41.215,716.6500721\\r\\nTanzania,1957,9452826,Africa,42.974,698.5356073\\r\\nTanzania,1962,10863958,Africa,44.246,722.0038073\\r\\nTanzania,1967,12607312,Africa,45.757,848.2186575\\r\\nTanzania,1972,14706593,Africa,47.62,915.9850592\\r\\nTanzania,1977,17129565,Africa,49.919,962.4922932\\r\\nTanzania,1982,19844382,Africa,50.608,874.2426069\\r\\nTanzania,1987,23040630,Africa,51.535,831.8220794\\r\\nTanzania,1992,26605473,Africa,50.44,825.682454\\r\\nTanzania,1997,30686889,Africa,48.466,789.1862231\\r\\nTanzania,2002,34593779,Africa,49.651,899.0742111\\r\\nTanzania,2007,38139640,Africa,52.517,1107.482182\\r\\nThailand,1952,21289402,Asia,50.848,757.7974177\\r\\nThailand,1957,25041917,Asia,53.63,793.5774148\\r\\nThailand,1962,29263397,Asia,56.061,1002.199172\\r\\nThailand,1967,34024249,Asia,58.285,1295.46066\\r\\nThailand,1972,39276153,Asia,60.405,1524.358936\\r\\nThailand,1977,44148285,Asia,62.494,1961.224635\\r\\nThailand,1982,48827160,Asia,64.597,2393.219781\\r\\nThailand,1987,52910342,Asia,66.084,2982.653773\\r\\nThailand,1992,56667095,Asia,67.298,4616.896545\\r\\nThailand,1997,60216677,Asia,67.521,5852.625497\\r\\nThailand,2002,62806748,Asia,68.564,5913.187529\\r\\nThailand,2007,65068149,Asia,70.616,7458.396327\\r\\nTogo,1952,1219113,Africa,38.596,859.8086567\\r\\nTogo,1957,1357445,Africa,41.208,925.9083202\\r\\nTogo,1962,1528098,Africa,43.922,1067.53481\\r\\nTogo,1967,1735550,Africa,46.769,1477.59676\\r\\nTogo,1972,2056351,Africa,49.759,1649.660188\\r\\nTogo,1977,2308582,Africa,52.887,1532.776998\\r\\nTogo,1982,2644765,Africa,55.471,1344.577953\\r\\nTogo,1987,3154264,Africa,56.941,1202.201361\\r\\nTogo,1992,3747553,Africa,58.061,1034.298904\\r\\nTogo,1997,4320890,Africa,58.39,982.2869243\\r\\nTogo,2002,4977378,Africa,57.561,886.2205765\\r\\nTogo,2007,5701579,Africa,58.42,882.9699438\\r\\nTrinidad and Tobago,1952,662850,Americas,59.1,3023.271928\\r\\nTrinidad and Tobago,1957,764900,Americas,61.8,4100.3934\\r\\nTrinidad and Tobago,1962,887498,Americas,64.9,4997.523971\\r\\nTrinidad and Tobago,1967,960155,Americas,65.4,5621.368472\\r\\nTrinidad and Tobago,1972,975199,Americas,65.9,6619.551419\\r\\nTrinidad and Tobago,1977,1039009,Americas,68.3,7899.554209\\r\\nTrinidad and Tobago,1982,1116479,Americas,68.832,9119.528607\\r\\nTrinidad and Tobago,1987,1191336,Americas,69.582,7388.597823\\r\\nTrinidad and Tobago,1992,1183669,Americas,69.862,7370.990932\\r\\nTrinidad and Tobago,1997,1138101,Americas,69.465,8792.573126\\r\\nTrinidad and Tobago,2002,1101832,Americas,68.976,11460.60023\\r\\nTrinidad and Tobago,2007,1056608,Americas,69.819,18008.50924\\r\\nTunisia,1952,3647735,Africa,44.6,1468.475631\\r\\nTunisia,1957,3950849,Africa,47.1,1395.232468\\r\\nTunisia,1962,4286552,Africa,49.579,1660.30321\\r\\nTunisia,1967,4786986,Africa,52.053,1932.360167\\r\\nTunisia,1972,5303507,Africa,55.602,2753.285994\\r\\nTunisia,1977,6005061,Africa,59.837,3120.876811\\r\\nTunisia,1982,6734098,Africa,64.048,3560.233174\\r\\nTunisia,1987,7724976,Africa,66.894,3810.419296\\r\\nTunisia,1992,8523077,Africa,70.001,4332.720164\\r\\nTunisia,1997,9231669,Africa,71.973,4876.798614\\r\\nTunisia,2002,9770575,Africa,73.042,5722.895655\\r\\nTunisia,2007,10276158,Africa,73.923,7092.923025\\r\\nTurkey,1952,22235677,Europe,43.585,1969.10098\\r\\nTurkey,1957,25670939,Europe,48.079,2218.754257\\r\\nTurkey,1962,29788695,Europe,52.098,2322.869908\\r\\nTurkey,1967,33411317,Europe,54.336,2826.356387\\r\\nTurkey,1972,37492953,Europe,57.005,3450.69638\\r\\nTurkey,1977,42404033,Europe,59.507,4269.122326\\r\\nTurkey,1982,47328791,Europe,61.036,4241.356344\\r\\nTurkey,1987,52881328,Europe,63.108,5089.043686\\r\\nTurkey,1992,58179144,Europe,66.146,5678.348271\\r\\nTurkey,1997,63047647,Europe,68.835,6601.429915\\r\\nTurkey,2002,67308928,Europe,70.845,6508.085718\\r\\nTurkey,2007,71158647,Europe,71.777,8458.276384\\r\\nUganda,1952,5824797,Africa,39.978,734.753484\\r\\nUganda,1957,6675501,Africa,42.571,774.3710692\\r\\nUganda,1962,7688797,Africa,45.344,767.2717398\\r\\nUganda,1967,8900294,Africa,48.051,908.9185217\\r\\nUganda,1972,10190285,Africa,51.016,950.735869\\r\\nUganda,1977,11457758,Africa,50.35,843.7331372\\r\\nUganda,1982,12939400,Africa,49.849,682.2662268\\r\\nUganda,1987,15283050,Africa,51.509,617.7244065\\r\\nUganda,1992,18252190,Africa,48.825,644.1707969\\r\\nUganda,1997,21210254,Africa,44.578,816.559081\\r\\nUganda,2002,24739869,Africa,47.813,927.7210018\\r\\nUganda,2007,29170398,Africa,51.542,1056.380121\\r\\nUnited Kingdom,1952,50430000,Europe,69.18,9979.508487\\r\\nUnited Kingdom,1957,51430000,Europe,70.42,11283.17795\\r\\nUnited Kingdom,1962,53292000,Europe,70.76,12477.17707\\r\\nUnited Kingdom,1967,54959000,Europe,71.36,14142.85089\\r\\nUnited Kingdom,1972,56079000,Europe,72.01,15895.11641\\r\\nUnited Kingdom,1977,56179000,Europe,72.76,17428.74846\\r\\nUnited Kingdom,1982,56339704,Europe,74.04,18232.42452\\r\\nUnited Kingdom,1987,56981620,Europe,75.007,21664.78767\\r\\nUnited Kingdom,1992,57866349,Europe,76.42,22705.09254\\r\\nUnited Kingdom,1997,58808266,Europe,77.218,26074.53136\\r\\nUnited Kingdom,2002,59912431,Europe,78.471,29478.99919\\r\\nUnited Kingdom,2007,60776238,Europe,79.425,33203.26128\\r\\nUnited States,1952,157553000,Americas,68.44,13990.48208\\r\\nUnited States,1957,171984000,Americas,69.49,14847.12712\\r\\nUnited States,1962,186538000,Americas,70.21,16173.14586\\r\\nUnited States,1967,198712000,Americas,70.76,19530.36557\\r\\nUnited States,1972,209896000,Americas,71.34,21806.03594\\r\\nUnited States,1977,220239000,Americas,73.38,24072.63213\\r\\nUnited States,1982,232187835,Americas,74.65,25009.55914\\r\\nUnited States,1987,242803533,Americas,75.02,29884.35041\\r\\nUnited States,1992,256894189,Americas,76.09,32003.93224\\r\\nUnited States,1997,272911760,Americas,76.81,35767.43303\\r\\nUnited States,2002,287675526,Americas,77.31,39097.09955\\r\\nUnited States,2007,301139947,Americas,78.242,42951.65309\\r\\nUruguay,1952,2252965,Americas,66.071,5716.766744\\r\\nUruguay,1957,2424959,Americas,67.044,6150.772969\\r\\nUruguay,1962,2598466,Americas,68.253,5603.357717\\r\\nUruguay,1967,2748579,Americas,68.468,5444.61962\\r\\nUruguay,1972,2829526,Americas,68.673,5703.408898\\r\\nUruguay,1977,2873520,Americas,69.481,6504.339663\\r\\nUruguay,1982,2953997,Americas,70.805,6920.223051\\r\\nUruguay,1987,3045153,Americas,71.918,7452.398969\\r\\nUruguay,1992,3149262,Americas,72.752,8137.004775\\r\\nUruguay,1997,3262838,Americas,74.223,9230.240708\\r\\nUruguay,2002,3363085,Americas,75.307,7727.002004\\r\\nUruguay,2007,3447496,Americas,76.384,10611.46299\\r\\nVenezuela,1952,5439568,Americas,55.088,7689.799761\\r\\nVenezuela,1957,6702668,Americas,57.907,9802.466526\\r\\nVenezuela,1962,8143375,Americas,60.77,8422.974165\\r\\nVenezuela,1967,9709552,Americas,63.479,9541.474188\\r\\nVenezuela,1972,11515649,Americas,65.712,10505.25966\\r\\nVenezuela,1977,13503563,Americas,67.456,13143.95095\\r\\nVenezuela,1982,15620766,Americas,68.557,11152.41011\\r\\nVenezuela,1987,17910182,Americas,70.19,9883.584648\\r\\nVenezuela,1992,20265563,Americas,71.15,10733.92631\\r\\nVenezuela,1997,22374398,Americas,72.146,10165.49518\\r\\nVenezuela,2002,24287670,Americas,72.766,8605.047831\\r\\nVenezuela,2007,26084662,Americas,73.747,11415.80569\\r\\nVietnam,1952,26246839,Asia,40.412,605.0664917\\r\\nVietnam,1957,28998543,Asia,42.887,676.2854478\\r\\nVietnam,1962,33796140,Asia,45.363,772.0491602\\r\\nVietnam,1967,39463910,Asia,47.838,637.1232887\\r\\nVietnam,1972,44655014,Asia,50.254,699.5016441\\r\\nVietnam,1977,50533506,Asia,55.764,713.5371196\\r\\nVietnam,1982,56142181,Asia,58.816,707.2357863\\r\\nVietnam,1987,62826491,Asia,62.82,820.7994449\\r\\nVietnam,1992,69940728,Asia,67.662,989.0231487\\r\\nVietnam,1997,76048996,Asia,70.672,1385.896769\\r\\nVietnam,2002,80908147,Asia,73.017,1764.456677\\r\\nVietnam,2007,85262356,Asia,74.249,2441.576404\\r\\nWest Bank and Gaza,1952,1030585,Asia,43.16,1515.592329\\r\\nWest Bank and Gaza,1957,1070439,Asia,45.671,1827.067742\\r\\nWest Bank and Gaza,1962,1133134,Asia,48.127,2198.956312\\r\\nWest Bank and Gaza,1967,1142636,Asia,51.631,2649.715007\\r\\nWest Bank and Gaza,1972,1089572,Asia,56.532,3133.409277\\r\\nWest Bank and Gaza,1977,1261091,Asia,60.765,3682.831494\\r\\nWest Bank and Gaza,1982,1425876,Asia,64.406,4336.032082\\r\\nWest Bank and Gaza,1987,1691210,Asia,67.046,5107.197384\\r\\nWest Bank and Gaza,1992,2104779,Asia,69.718,6017.654756\\r\\nWest Bank and Gaza,1997,2826046,Asia,71.096,7110.667619\\r\\nWest Bank and Gaza,2002,3389578,Asia,72.37,4515.487575\\r\\nWest Bank and Gaza,2007,4018332,Asia,73.422,3025.349798\\r\\nYemen Rep.,1952,4963829,Asia,32.548,781.7175761\\r\\nYemen Rep.,1957,5498090,Asia,33.97,804.8304547\\r\\nYemen Rep.,1962,6120081,Asia,35.18,825.6232006\\r\\nYemen Rep.,1967,6740785,Asia,36.984,862.4421463\\r\\nYemen Rep.,1972,7407075,Asia,39.848,1265.047031\\r\\nYemen Rep.,1977,8403990,Asia,44.175,1829.765177\\r\\nYemen Rep.,1982,9657618,Asia,49.113,1977.55701\\r\\nYemen Rep.,1987,11219340,Asia,52.922,1971.741538\\r\\nYemen Rep.,1992,13367997,Asia,55.599,1879.496673\\r\\nYemen Rep.,1997,15826497,Asia,58.02,2117.484526\\r\\nYemen Rep.,2002,18701257,Asia,60.308,2234.820827\\r\\nYemen Rep.,2007,22211743,Asia,62.698,2280.769906\\r\\nZambia,1952,2672000,Africa,42.038,1147.388831\\r\\nZambia,1957,3016000,Africa,44.077,1311.956766\\r\\nZambia,1962,3421000,Africa,46.023,1452.725766\\r\\nZambia,1967,3900000,Africa,47.768,1777.077318\\r\\nZambia,1972,4506497,Africa,50.107,1773.498265\\r\\nZambia,1977,5216550,Africa,51.386,1588.688299\\r\\nZambia,1982,6100407,Africa,51.821,1408.678565\\r\\nZambia,1987,7272406,Africa,50.821,1213.315116\\r\\nZambia,1992,8381163,Africa,46.1,1210.884633\\r\\nZambia,1997,9417789,Africa,40.238,1071.353818\\r\\nZambia,2002,10595811,Africa,39.193,1071.613938\\r\\nZambia,2007,11746035,Africa,42.384,1271.211593\\r\\nZimbabwe,1952,3080907,Africa,48.451,406.8841148\\r\\nZimbabwe,1957,3646340,Africa,50.469,518.7642681\\r\\nZimbabwe,1962,4277736,Africa,52.358,527.2721818\\r\\nZimbabwe,1967,4995432,Africa,53.995,569.7950712\\r\\nZimbabwe,1972,5861135,Africa,55.635,799.3621758\\r\\nZimbabwe,1977,6642107,Africa,57.674,685.5876821\\r\\nZimbabwe,1982,7636524,Africa,60.363,788.8550411\\r\\nZimbabwe,1987,9216418,Africa,62.351,706.1573059\\r\\nZimbabwe,1992,10704340,Africa,60.377,693.4207856\\r\\nZimbabwe,1997,11404948,Africa,46.809,792.4499603\\r\\nZimbabwe,2002,11926563,Africa,39.989,672.0386227\\r\\nZimbabwe,2007,12311143,Africa,43.487,469.7092981'}"
            ]
          },
          "metadata": {
            "tags": []
          },
          "execution_count": 6
        }
      ]
    },
    {
      "cell_type": "markdown",
      "metadata": {
        "id": "ZSK0Sj4mDv6R"
      },
      "source": [
        "\n",
        "**How to analyze a big file in smaller chunks with pandas chunksize?**\n",
        "\n",
        "Let us see an example of loading a big csv file in smaller chunks. We will use the gapminder data as an example with chunk size 1000. Here the chunk size 500 means, we will be reading 500 lines at a time.\n"
      ]
    },
    {
      "cell_type": "code",
      "metadata": {
        "id": "jodiu2sKCNHb"
      },
      "source": [
        "# link to gapminder data as csv file\n",
        "# from software carpentry website\n",
        "#csv_url='http://bit.ly/2cLzoxH''\n",
        "\n",
        "#df = pd.read_csv('gapminder.csv')\n",
        "\n",
        "\n",
        "# use chunk size 500\n",
        "c_size = 500"
      ],
      "execution_count": null,
      "outputs": []
    },
    {
      "cell_type": "markdown",
      "metadata": {
        "id": "xIKMj53XEBen"
      },
      "source": [
        "Let us use pd.read_csv to read the csv file in chunks of 500 lines with chunksize=500 option. The code below prints the shape of the each smaller chunk data frame. Note that the first three chunks are of size 500 lines. Pandas is clever enough to know that the last chunk is smaller than 500 and load only the remaining line in the data frame, in this case 204 lines.\n",
        "\n"
      ]
    },
    {
      "cell_type": "code",
      "metadata": {
        "id": "uRO5-MM0EE5f",
        "colab": {
          "base_uri": "https://localhost:8080/"
        },
        "outputId": "0308d746-0cc4-4637-a956-67a2be360993"
      },
      "source": [
        "# load the big file in smaller chunks\n",
        "for gm_chunk in pd.read_csv(\"gapminder.csv\",chunksize=c_size):\n",
        "    print(gm_chunk.shape)"
      ],
      "execution_count": null,
      "outputs": [
        {
          "output_type": "stream",
          "name": "stdout",
          "text": [
            "(500, 6)\n",
            "(500, 6)\n",
            "(500, 6)\n",
            "(204, 6)\n"
          ]
        }
      ]
    },
    {
      "cell_type": "markdown",
      "metadata": {
        "id": "62H1eYOeFo7e"
      },
      "source": []
    },
    {
      "cell_type": "code",
      "metadata": {
        "id": "U8WO6Jm9FoWE"
      },
      "source": [
        "from collections import defaultdict\n",
        "# default value of int is 0 with defaultdict\n",
        "continent_dict = defaultdict(int) \n"
      ],
      "execution_count": null,
      "outputs": []
    },
    {
      "cell_type": "code",
      "metadata": {
        "id": "7J4-ZeRkIs9u",
        "colab": {
          "base_uri": "https://localhost:8080/"
        },
        "outputId": "4af52ce0-a903-46f7-e778-90524d6cd390"
      },
      "source": [
        "continent_dict"
      ],
      "execution_count": null,
      "outputs": [
        {
          "output_type": "execute_result",
          "data": {
            "text/plain": [
              "defaultdict(int, {})"
            ]
          },
          "metadata": {},
          "execution_count": 8
        }
      ]
    },
    {
      "cell_type": "markdown",
      "metadata": {
        "id": "Sc2lj-twE8b2"
      },
      "source": [
        "\n",
        "\n",
        "Let us load the big CSV file with chunnksize=500 and count the number of continent entries in each smaller chunk using the defaultdict.\n",
        "\n"
      ]
    },
    {
      "cell_type": "code",
      "metadata": {
        "id": "HnWx-ZoSFPZ2",
        "colab": {
          "base_uri": "https://localhost:8080/"
        },
        "outputId": "08a36ff7-e8ab-45f7-e4ca-b40ca118231f"
      },
      "source": [
        "for gm_chunk in pd.read_csv(\"gapminder.csv\",chunksize=500):\n",
        "    for c in gm_chunk['continent']:\n",
        "        continent_dict[c] += 1\n",
        "\n",
        "print(continent_dict)\n"
      ],
      "execution_count": null,
      "outputs": [
        {
          "output_type": "stream",
          "name": "stdout",
          "text": [
            "defaultdict(<class 'int'>, {'Asia': 396, 'Europe': 360, 'Africa': 624, 'Americas': 300, 'Oceania': 24})\n"
          ]
        }
      ]
    },
    {
      "cell_type": "markdown",
      "metadata": {
        "id": "g5x1F-4ozE7t"
      },
      "source": [
        "Hemos visto como se puede ir separando por continentes,\n",
        "En este caso el csv es pequeño pero se puede usar uno mayor"
      ]
    },
    {
      "cell_type": "markdown",
      "metadata": {
        "id": "NM0-YjwKzTY8"
      },
      "source": [
        "---------\n",
        "Veamos ahora otro ejemplo sencillo\n",
        "---------\n"
      ]
    },
    {
      "cell_type": "code",
      "metadata": {
        "id": "2amUj-XOMYml",
        "colab": {
          "base_uri": "https://localhost:8080/"
        },
        "outputId": "1bf58e94-4400-40a7-816d-8ff5222ade68"
      },
      "source": [
        "\n",
        "from collections import defaultdict\n",
        "food_list = 'spam spam spam spam spam spam eggs spam'.split()\n",
        "food_count = defaultdict(int) # default value of int is 0\n",
        "for food in food_list:\n",
        "     food_count[food] += 1 # increment element's value by 1\n",
        "\n",
        "print(food_count)"
      ],
      "execution_count": null,
      "outputs": [
        {
          "output_type": "stream",
          "name": "stdout",
          "text": [
            "defaultdict(<class 'int'>, {'spam': 7, 'eggs': 1})\n"
          ]
        }
      ]
    },
    {
      "cell_type": "markdown",
      "metadata": {
        "id": "m2437RPh-QEU"
      },
      "source": [
        "## Ahora vamos a hacer una prueba de verdad con un big data\n",
        "\n",
        "---\n",
        "\n"
      ]
    },
    {
      "cell_type": "markdown",
      "metadata": {
        "id": "IYmb0fLeD3jO"
      },
      "source": [
        "Así se puede hacer pero tarda mucho, mejor montar el drive"
      ]
    },
    {
      "cell_type": "code",
      "metadata": {
        "id": "00QLcumLjAJ2",
        "colab": {
          "resources": {
            "http://localhost:8080/nbextensions/google.colab/files.js": {
              "data": "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",
              "ok": true,
              "headers": [
                [
                  "content-type",
                  "application/javascript"
                ]
              ],
              "status": 200,
              "status_text": ""
            }
          },
          "base_uri": "https://localhost:8080/",
          "height": 73
        },
        "outputId": "46cc3838-f2d6-4563-a944-03f1ffb6663c"
      },
      "source": [
        "from google.colab import files\n",
        "files.upload() "
      ],
      "execution_count": null,
      "outputs": [
        {
          "output_type": "display_data",
          "data": {
            "text/html": [
              "\n",
              "     <input type=\"file\" id=\"files-882b9839-8546-4c3f-a5b0-d4b009d4425f\" name=\"files[]\" multiple disabled\n",
              "        style=\"border:none\" />\n",
              "     <output id=\"result-882b9839-8546-4c3f-a5b0-d4b009d4425f\">\n",
              "      Upload widget is only available when the cell has been executed in the\n",
              "      current browser session. Please rerun this cell to enable.\n",
              "      </output>\n",
              "      <script src=\"/nbextensions/google.colab/files.js\"></script> "
            ],
            "text/plain": [
              "<IPython.core.display.HTML object>"
            ]
          },
          "metadata": {
            "tags": []
          }
        },
        {
          "output_type": "stream",
          "text": [
            "Saving ratings.csv to ratings.csv\n"
          ],
          "name": "stdout"
        }
      ]
    },
    {
      "cell_type": "markdown",
      "metadata": {
        "id": "mmUgZRY-jDIX"
      },
      "source": [
        "esta parte de cargar el fichero es la más larga cuando son ficheros muy pesados, eso en jupyter va más rápido el resto es igual"
      ]
    },
    {
      "cell_type": "code",
      "metadata": {
        "id": "fEVxDHGf1Zqr"
      },
      "source": [
        "import pandas as pd       ## Es la referencia más conocida\n",
        "\n",
        "import matplotlib.pyplot as plt"
      ],
      "execution_count": null,
      "outputs": []
    },
    {
      "cell_type": "markdown",
      "metadata": {
        "id": "bp0qA-kY-eAC"
      },
      "source": [
        "Let’s take a peek at the ratings.csv file, tamaño grande\n"
      ]
    },
    {
      "cell_type": "code",
      "metadata": {
        "id": "XESzIHJy-WD4",
        "colab": {
          "base_uri": "https://localhost:8080/"
        },
        "outputId": "37e53662-fe5e-444a-a6f4-f655135298de"
      },
      "source": [
        "path='/content/drive/MyDrive/uni/Docencia/Colab Notebooks/DataScience/ITBD/data/ratings.csv'\n",
        "ratings_df = pd.read_csv(path)\n",
        "print(ratings_df.shape)"
      ],
      "execution_count": null,
      "outputs": [
        {
          "output_type": "stream",
          "name": "stdout",
          "text": [
            "(22884377, 4)\n"
          ]
        }
      ]
    },
    {
      "cell_type": "code",
      "metadata": {
        "id": "rMJo3MuQhxZt",
        "colab": {
          "base_uri": "https://localhost:8080/",
          "height": 204
        },
        "outputId": "93fd43d5-a89c-4f3d-f1be-6b62f1def8f3"
      },
      "source": [
        "ratings_df.head()"
      ],
      "execution_count": null,
      "outputs": [
        {
          "output_type": "execute_result",
          "data": {
            "text/html": [
              "<div>\n",
              "<style scoped>\n",
              "    .dataframe tbody tr th:only-of-type {\n",
              "        vertical-align: middle;\n",
              "    }\n",
              "\n",
              "    .dataframe tbody tr th {\n",
              "        vertical-align: top;\n",
              "    }\n",
              "\n",
              "    .dataframe thead th {\n",
              "        text-align: right;\n",
              "    }\n",
              "</style>\n",
              "<table border=\"1\" class=\"dataframe\">\n",
              "  <thead>\n",
              "    <tr style=\"text-align: right;\">\n",
              "      <th></th>\n",
              "      <th>userId</th>\n",
              "      <th>movieId</th>\n",
              "      <th>rating</th>\n",
              "      <th>timestamp</th>\n",
              "    </tr>\n",
              "  </thead>\n",
              "  <tbody>\n",
              "    <tr>\n",
              "      <th>0</th>\n",
              "      <td>1</td>\n",
              "      <td>169</td>\n",
              "      <td>2.5</td>\n",
              "      <td>1204927694</td>\n",
              "    </tr>\n",
              "    <tr>\n",
              "      <th>1</th>\n",
              "      <td>1</td>\n",
              "      <td>2471</td>\n",
              "      <td>3.0</td>\n",
              "      <td>1204927438</td>\n",
              "    </tr>\n",
              "    <tr>\n",
              "      <th>2</th>\n",
              "      <td>1</td>\n",
              "      <td>48516</td>\n",
              "      <td>5.0</td>\n",
              "      <td>1204927435</td>\n",
              "    </tr>\n",
              "    <tr>\n",
              "      <th>3</th>\n",
              "      <td>2</td>\n",
              "      <td>2571</td>\n",
              "      <td>3.5</td>\n",
              "      <td>1436165433</td>\n",
              "    </tr>\n",
              "    <tr>\n",
              "      <th>4</th>\n",
              "      <td>2</td>\n",
              "      <td>109487</td>\n",
              "      <td>4.0</td>\n",
              "      <td>1436165496</td>\n",
              "    </tr>\n",
              "  </tbody>\n",
              "</table>\n",
              "</div>"
            ],
            "text/plain": [
              "   userId  movieId  rating   timestamp\n",
              "0       1      169     2.5  1204927694\n",
              "1       1     2471     3.0  1204927438\n",
              "2       1    48516     5.0  1204927435\n",
              "3       2     2571     3.5  1436165433\n",
              "4       2   109487     4.0  1436165496"
            ]
          },
          "metadata": {},
          "execution_count": 3
        }
      ]
    },
    {
      "cell_type": "code",
      "metadata": {
        "id": "WWtKkDYdh9aQ",
        "colab": {
          "base_uri": "https://localhost:8080/"
        },
        "outputId": "1885825b-b55c-4bdd-d8b1-03f697d42857"
      },
      "source": [
        "# Since we’re interested in the ratings, let’s get the different rating keys on the scale, from 0.5 to 5.0\n",
        "\n",
        "# Let's get a list of the rating scale or keys, es como hacer group by para tener todos los diferentes elementos\n",
        "rate_keys = list(ratings_df['rating'].unique())\n",
        "# let's sort the ratings keys from highest to lowest.\n",
        "rate_keys = sorted(rate_keys, reverse=True) \n",
        " \n",
        "print(rate_keys)"
      ],
      "execution_count": null,
      "outputs": [
        {
          "output_type": "stream",
          "name": "stdout",
          "text": [
            "[5.0, 4.5, 4.0, 3.5, 3.0, 2.5, 2.0, 1.5, 1.0, 0.5]\n"
          ]
        }
      ]
    },
    {
      "cell_type": "markdown",
      "metadata": {
        "id": "Hq3O-mLPiBaa"
      },
      "source": [
        "We now know our rating scale. Next, is to find a way to get the number of ratings for each key on the scale. Yet due to the memory size, we should read the data set in chunks and perform vectorized operations on each chunk. Avoiding loops except necessary.\n",
        "\n",
        "Our first goal is to count the number of movie ratings per rating key. \n",
        "Out of the 22 million-plus ratings, how many ratings does each key hold? Answering this question \n",
        "automatically answers our first question:-\n",
        "\n",
        "let’s create a dictionary whose keys are the unique rating keys using a simple for loop. \n",
        "Then we assign each key to value zero.\n",
        "\n",
        "Es muy interesante porque es un ejemplo muy genérico de inicializar rangos\n",
        "\n"
      ]
    },
    {
      "cell_type": "code",
      "metadata": {
        "id": "rlxHvXuviTXP",
        "colab": {
          "base_uri": "https://localhost:8080/"
        },
        "outputId": "25fea235-e390-4a80-dfe7-bcbd8b97487d"
      },
      "source": [
        "ratings_dict = {}\n",
        "for i in rate_keys: ratings_dict[i] = 0\n",
        "ratings_dict"
      ],
      "execution_count": null,
      "outputs": [
        {
          "output_type": "execute_result",
          "data": {
            "text/plain": [
              "{0.5: 0,\n",
              " 1.0: 0,\n",
              " 1.5: 0,\n",
              " 2.0: 0,\n",
              " 2.5: 0,\n",
              " 3.0: 0,\n",
              " 3.5: 0,\n",
              " 4.0: 0,\n",
              " 4.5: 0,\n",
              " 5.0: 0}"
            ]
          },
          "metadata": {},
          "execution_count": 5
        }
      ]
    },
    {
      "cell_type": "markdown",
      "metadata": {
        "id": "_N4iqDnIiYWH"
      },
      "source": [
        "Next, we use the python enumerate() function, pass the pd.read_csv() function as its first argument, then within the read_csv() function,\n",
        "we specify chunksize = 1000000, to read chunks of one million rows of data at a time.\n",
        "\n",
        "We start the enumerate() function index at 1, passing start=1 as its second argument. \n",
        "So that we can compute the average number of bytes processed for each chunk using the index. \n",
        "Then we use a simple for loop on the rating keys and extract the number of ratings per key, \n",
        "for each chunk and sum these up for each key in the ratings_dict\n",
        "\n",
        "The final ratings_dict will contain each rating key as keys and total ratings per key as values."
      ]
    },
    {
      "cell_type": "code",
      "metadata": {
        "colab": {
          "base_uri": "https://localhost:8080/"
        },
        "id": "gLwySUpkFHbR",
        "outputId": "e07cfa1b-7b80-44ed-c02e-af30aa1792a0"
      },
      "source": [
        "!ls"
      ],
      "execution_count": null,
      "outputs": [
        {
          "output_type": "stream",
          "name": "stdout",
          "text": [
            "drive  gapminder.csv  sample_data\n"
          ]
        }
      ]
    },
    {
      "cell_type": "code",
      "metadata": {
        "id": "oBidzDCxid1P",
        "colab": {
          "base_uri": "https://localhost:8080/"
        },
        "outputId": "f3c6901d-b0d5-4295-8476-e857bee2a772"
      },
      "source": [
        "# Initialise a variable to compute average bytes per chunk\n",
        "ave_bytes = 0\n",
        "\n",
        "# then we initialise our loop counter\n",
        "count = 0\n",
        "\n",
        "# This enumerate function selects repeated chunks of 1,000,000 rows of data \n",
        "for index, chunk in enumerate(pd.read_csv(path, chunksize= 1000000),start=1):\n",
        "    # We add total memory per chunk to ave_bytes\n",
        "    ave_bytes += chunk.memory_usage().sum()\n",
        "    \n",
        "    # This inner loop iterates through the rate keys only.Then it does \n",
        "    # vectorised selections on the dataframe to select count of each rate key.\n",
        "    for i in rate_keys:\n",
        "        count = len(chunk[chunk['rating'] == i])\n",
        "        ratings_dict[i] += count\n",
        "        \n",
        "print(\"Total number of chunks:\",index)\n",
        "ave_bytes = ave_bytes / index\n",
        "print(\"Average bytes per loop:\",ave_bytes)\n",
        "print(ratings_dict)"
      ],
      "execution_count": null,
      "outputs": [
        {
          "output_type": "stream",
          "name": "stdout",
          "text": [
            "Total number of chunks: 23\n",
            "Average bytes per loop: 31839265.04347826\n",
            "{5.0: 3358218, 4.5: 1813922, 4.0: 6265623, 3.5: 2592375, 3.0: 4783899, 2.5: 1044176, 2.0: 1603254, 1.5: 337605, 1.0: 769654, 0.5: 315651}\n"
          ]
        }
      ]
    },
    {
      "cell_type": "code",
      "metadata": {
        "id": "8bFyonkKjx5k",
        "colab": {
          "base_uri": "https://localhost:8080/"
        },
        "outputId": "cb0a917e-d9bb-4954-cec6-1613f3fcdc6a"
      },
      "source": [
        "        count = len(chunk[chunk['rating'] == i])\n",
        "        count\n"
      ],
      "execution_count": null,
      "outputs": [
        {
          "output_type": "execute_result",
          "data": {
            "text/plain": [
              "12320"
            ]
          },
          "metadata": {},
          "execution_count": 7
        }
      ]
    },
    {
      "cell_type": "code",
      "metadata": {
        "id": "T7RPr1oJijnY",
        "colab": {
          "base_uri": "https://localhost:8080/"
        },
        "outputId": "f3b2e908-3316-4c00-e60d-4b70a02ed309"
      },
      "source": [
        "# We use the operator module to easily get the max and min values\n",
        "import operator\n",
        "max(ratings_dict.items(), key=operator.itemgetter(1))\n",
        "\n",
        "# We can see that the rating key with the highest rating value is 4.0 with a value of 6,265,623 movie ratings."
      ],
      "execution_count": null,
      "outputs": [
        {
          "output_type": "execute_result",
          "data": {
            "text/plain": [
              "(4.0, 6265623)"
            ]
          },
          "metadata": {},
          "execution_count": 8
        }
      ]
    },
    {
      "cell_type": "markdown",
      "metadata": {
        "id": "RUTeCNTrioBW"
      },
      "source": [
        "Let’s visualize the plot of rating keys and values from max to min.\n",
        "\n",
        "Let’s create a data frame (ratings_dict_df) from the ratings_dict by simply casting each value to a list and passing the ratings_dict to the pandas DataFrame() function. Then we sort the data frame by Count descending."
      ]
    },
    {
      "cell_type": "code",
      "metadata": {
        "id": "A7Gn7IiQim6q",
        "colab": {
          "base_uri": "https://localhost:8080/"
        },
        "outputId": "911a6581-bcef-4ad4-b21d-064fadf9b13a"
      },
      "source": [
        "# First let's change each integer value in the dictionary to a list. \n",
        "# Because each column in a Dataframe should be a list or series, not numbers.\n",
        "\n",
        "# esto son conveniencias para lo que viene después con el dataframe\n",
        "\n",
        "empty_list = []\n",
        "for i,j in ratings_dict.items():\n",
        "    empty_list.append(j)\n",
        "    ratings_dict[i] = empty_list\n",
        "    empty_list = []\n",
        "print(ratings_dict)"
      ],
      "execution_count": null,
      "outputs": [
        {
          "output_type": "stream",
          "name": "stdout",
          "text": [
            "{5.0: [3358218], 4.5: [1813922], 4.0: [6265623], 3.5: [2592375], 3.0: [4783899], 2.5: [1044176], 2.0: [1603254], 1.5: [337605], 1.0: [769654], 0.5: [315651]}\n"
          ]
        }
      ]
    },
    {
      "cell_type": "code",
      "metadata": {
        "id": "7lAGDtouiwzK",
        "colab": {
          "base_uri": "https://localhost:8080/",
          "height": 359
        },
        "outputId": "a8042b27-6e0f-468b-8b05-e7c092566b46"
      },
      "source": [
        "# para visualizar lo mejor es usar las librerías de pandas y numpy que se integran bien con maptplot\n",
        "# Now we can create our DataFrame with a named index and column\n",
        "ratings_dict_df = pd.DataFrame(ratings_dict).T  # Let's tranpose it from row to column vector\n",
        "ratings_dict_df = ratings_dict_df.reset_index()  # Let's reset the index from the rating keys back to default\n",
        "ratings_dict_df.columns=['Rating_Keys','Count']\n",
        "ratings_dict_df"
      ],
      "execution_count": null,
      "outputs": [
        {
          "output_type": "execute_result",
          "data": {
            "text/html": [
              "<div>\n",
              "<style scoped>\n",
              "    .dataframe tbody tr th:only-of-type {\n",
              "        vertical-align: middle;\n",
              "    }\n",
              "\n",
              "    .dataframe tbody tr th {\n",
              "        vertical-align: top;\n",
              "    }\n",
              "\n",
              "    .dataframe thead th {\n",
              "        text-align: right;\n",
              "    }\n",
              "</style>\n",
              "<table border=\"1\" class=\"dataframe\">\n",
              "  <thead>\n",
              "    <tr style=\"text-align: right;\">\n",
              "      <th></th>\n",
              "      <th>Rating_Keys</th>\n",
              "      <th>Count</th>\n",
              "    </tr>\n",
              "  </thead>\n",
              "  <tbody>\n",
              "    <tr>\n",
              "      <th>0</th>\n",
              "      <td>5.0</td>\n",
              "      <td>3358218</td>\n",
              "    </tr>\n",
              "    <tr>\n",
              "      <th>1</th>\n",
              "      <td>4.5</td>\n",
              "      <td>1813922</td>\n",
              "    </tr>\n",
              "    <tr>\n",
              "      <th>2</th>\n",
              "      <td>4.0</td>\n",
              "      <td>6265623</td>\n",
              "    </tr>\n",
              "    <tr>\n",
              "      <th>3</th>\n",
              "      <td>3.5</td>\n",
              "      <td>2592375</td>\n",
              "    </tr>\n",
              "    <tr>\n",
              "      <th>4</th>\n",
              "      <td>3.0</td>\n",
              "      <td>4783899</td>\n",
              "    </tr>\n",
              "    <tr>\n",
              "      <th>5</th>\n",
              "      <td>2.5</td>\n",
              "      <td>1044176</td>\n",
              "    </tr>\n",
              "    <tr>\n",
              "      <th>6</th>\n",
              "      <td>2.0</td>\n",
              "      <td>1603254</td>\n",
              "    </tr>\n",
              "    <tr>\n",
              "      <th>7</th>\n",
              "      <td>1.5</td>\n",
              "      <td>337605</td>\n",
              "    </tr>\n",
              "    <tr>\n",
              "      <th>8</th>\n",
              "      <td>1.0</td>\n",
              "      <td>769654</td>\n",
              "    </tr>\n",
              "    <tr>\n",
              "      <th>9</th>\n",
              "      <td>0.5</td>\n",
              "      <td>315651</td>\n",
              "    </tr>\n",
              "  </tbody>\n",
              "</table>\n",
              "</div>"
            ],
            "text/plain": [
              "   Rating_Keys    Count\n",
              "0          5.0  3358218\n",
              "1          4.5  1813922\n",
              "2          4.0  6265623\n",
              "3          3.5  2592375\n",
              "4          3.0  4783899\n",
              "5          2.5  1044176\n",
              "6          2.0  1603254\n",
              "7          1.5   337605\n",
              "8          1.0   769654\n",
              "9          0.5   315651"
            ]
          },
          "metadata": {},
          "execution_count": 10
        }
      ]
    },
    {
      "cell_type": "code",
      "metadata": {
        "id": "lLM7ssYvizeC",
        "colab": {
          "base_uri": "https://localhost:8080/",
          "height": 416
        },
        "outputId": "ce694f19-8d80-49c2-a936-e4234ed6a788"
      },
      "source": [
        "import matplotlib.pyplot as plt\n",
        "\n",
        "ratings_dict_df.plot(kind='bar', x = 'Rating_Keys' , y = 'Count', figsize = (8,6), colormap = 'Spectral')\n",
        "y_ticks_custom = ['6,000,000', '5,000,000','4,000,000','3,000,000','2,000,000','1,000,000']\n",
        "plt.yticks([6000000,5000000,4000000,3000000,2000000,1000000], y_ticks_custom)\n",
        "plt.title('Movie Rating Keys-Count', color='gold', fontsize=16)\n",
        "plt.ylabel('Count', color='gold', fontsize = 14)\n",
        "plt.xlabel('Rating_keys', color='gold', fontsize = 14)\n",
        "plt.xticks(color = 'red')\n",
        "plt.yticks(color = 'r')\n",
        "plt.show()"
      ],
      "execution_count": null,
      "outputs": [
        {
          "output_type": "display_data",
          "data": {
            "image/png": "[encoded data removed]",
            "text/plain": [
              "<Figure size 576x432 with 1 Axes>"
            ]
          },
          "metadata": {
            "needs_background": "light"
          }
        }
      ]
    },
    {
      "cell_type": "code",
      "metadata": {
        "id": "9QvKikkxi2dv",
        "colab": {
          "base_uri": "https://localhost:8080/",
          "height": 359
        },
        "outputId": "9ceedaf7-2c5c-4571-fd2c-932b42e8c2fd"
      },
      "source": [
        "# si el gráfico anterior lo quiero en orden tendré primero que ordenarlo\n",
        "\n",
        "ratings_dict_df = ratings_dict_df.sort_values('Count',ascending=False)\n",
        "ratings_dict_df"
      ],
      "execution_count": null,
      "outputs": [
        {
          "output_type": "execute_result",
          "data": {
            "text/html": [
              "<div>\n",
              "<style scoped>\n",
              "    .dataframe tbody tr th:only-of-type {\n",
              "        vertical-align: middle;\n",
              "    }\n",
              "\n",
              "    .dataframe tbody tr th {\n",
              "        vertical-align: top;\n",
              "    }\n",
              "\n",
              "    .dataframe thead th {\n",
              "        text-align: right;\n",
              "    }\n",
              "</style>\n",
              "<table border=\"1\" class=\"dataframe\">\n",
              "  <thead>\n",
              "    <tr style=\"text-align: right;\">\n",
              "      <th></th>\n",
              "      <th>Rating_Keys</th>\n",
              "      <th>Count</th>\n",
              "    </tr>\n",
              "  </thead>\n",
              "  <tbody>\n",
              "    <tr>\n",
              "      <th>2</th>\n",
              "      <td>4.0</td>\n",
              "      <td>6265623</td>\n",
              "    </tr>\n",
              "    <tr>\n",
              "      <th>4</th>\n",
              "      <td>3.0</td>\n",
              "      <td>4783899</td>\n",
              "    </tr>\n",
              "    <tr>\n",
              "      <th>0</th>\n",
              "      <td>5.0</td>\n",
              "      <td>3358218</td>\n",
              "    </tr>\n",
              "    <tr>\n",
              "      <th>3</th>\n",
              "      <td>3.5</td>\n",
              "      <td>2592375</td>\n",
              "    </tr>\n",
              "    <tr>\n",
              "      <th>1</th>\n",
              "      <td>4.5</td>\n",
              "      <td>1813922</td>\n",
              "    </tr>\n",
              "    <tr>\n",
              "      <th>6</th>\n",
              "      <td>2.0</td>\n",
              "      <td>1603254</td>\n",
              "    </tr>\n",
              "    <tr>\n",
              "      <th>5</th>\n",
              "      <td>2.5</td>\n",
              "      <td>1044176</td>\n",
              "    </tr>\n",
              "    <tr>\n",
              "      <th>8</th>\n",
              "      <td>1.0</td>\n",
              "      <td>769654</td>\n",
              "    </tr>\n",
              "    <tr>\n",
              "      <th>7</th>\n",
              "      <td>1.5</td>\n",
              "      <td>337605</td>\n",
              "    </tr>\n",
              "    <tr>\n",
              "      <th>9</th>\n",
              "      <td>0.5</td>\n",
              "      <td>315651</td>\n",
              "    </tr>\n",
              "  </tbody>\n",
              "</table>\n",
              "</div>"
            ],
            "text/plain": [
              "   Rating_Keys    Count\n",
              "2          4.0  6265623\n",
              "4          3.0  4783899\n",
              "0          5.0  3358218\n",
              "3          3.5  2592375\n",
              "1          4.5  1813922\n",
              "6          2.0  1603254\n",
              "5          2.5  1044176\n",
              "8          1.0   769654\n",
              "7          1.5   337605\n",
              "9          0.5   315651"
            ]
          },
          "metadata": {},
          "execution_count": 12
        }
      ]
    },
    {
      "cell_type": "code",
      "metadata": {
        "id": "pi-R5oG5B79T"
      },
      "source": [
        "# load pandas \n",
        "import pandas as pd"
      ],
      "execution_count": null,
      "outputs": []
    },
    {
      "cell_type": "markdown",
      "metadata": {
        "id": "lPhMe9P5DcbL"
      },
      "source": [
        "subir el fichero de datos"
      ]
    }
  ]
}