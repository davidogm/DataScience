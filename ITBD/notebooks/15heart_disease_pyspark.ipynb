{
  "nbformat": 4,
  "nbformat_minor": 0,
  "metadata": {
    "kernelspec": {
      "language": "python",
      "display_name": "Python 3",
      "name": "python3"
    },
    "language_info": {
      "name": "python",
      "version": "3.7.10",
      "mimetype": "text/x-python",
      "codemirror_mode": {
        "name": "ipython",
        "version": 3
      },
      "pygments_lexer": "ipython3",
      "nbconvert_exporter": "python",
      "file_extension": ".py"
    },
    "colab": {
      "provenance": [],
      "collapsed_sections": [],
      "include_colab_link": true
    }
  },
  "cells": [
    {
      "cell_type": "markdown",
      "metadata": {
        "id": "view-in-github",
        "colab_type": "text"
      },
      "source": [
        "<a href=\"https://colab.research.google.com/github/davidogm/DataScience/blob/main/ITBD/notebooks/15heart_disease_pyspark.ipynb\" target=\"_parent\"><img src=\"https://colab.research.google.com/assets/colab-badge.svg\" alt=\"Open In Colab\"/></a>"
      ]
    },
    {
      "cell_type": "code",
      "metadata": {
        "_uuid": "8f2839f25d086af736a60e9eeb907d3b93b6e0e5",
        "_cell_guid": "b1076dfc-b9ad-4769-8c92-a6c4dae69d19",
        "execution": {
          "iopub.status.busy": "2021-10-08T23:45:47.456568Z",
          "iopub.execute_input": "2021-10-08T23:45:47.456956Z",
          "iopub.status.idle": "2021-10-08T23:45:47.471899Z",
          "shell.execute_reply.started": "2021-10-08T23:45:47.456922Z",
          "shell.execute_reply": "2021-10-08T23:45:47.470828Z"
        },
        "trusted": true,
        "id": "qhz67XOxPOHM"
      },
      "source": [
        "# This Python 3 environment comes with many helpful analytics libraries installed\n",
        "# It is defined by the kaggle/python Docker image: https://github.com/kaggle/docker-python\n",
        "# For example, here's several helpful packages to load\n",
        "\n",
        "import numpy as np # linear algebra\n",
        "import pandas as pd # data processing, CSV file I/O (e.g. pd.read_csv)\n",
        "\n",
        "# Input data files are available in the read-only \"../input/\" directory\n",
        "# For example, running this (by clicking run or pressing Shift+Enter) will list all files under the input directory\n",
        "\n",
        "import os\n",
        "for dirname, _, filenames in os.walk('/kaggle/input'):\n",
        "    for filename in filenames:\n",
        "        print(os.path.join(dirname, filename))\n",
        "\n",
        "# You can write up to 20GB to the current directory (/kaggle/working/) that gets preserved as output when you create a version using \"Save & Run All\" \n",
        "# You can also write temporary files to /kaggle/temp/, but they won't be saved outside of the current session"
      ],
      "execution_count": null,
      "outputs": []
    },
    {
      "cell_type": "code",
      "metadata": {
        "execution": {
          "iopub.status.busy": "2021-10-08T23:45:47.473934Z",
          "iopub.execute_input": "2021-10-08T23:45:47.474205Z",
          "iopub.status.idle": "2021-10-08T23:45:47.482105Z",
          "shell.execute_reply.started": "2021-10-08T23:45:47.474175Z",
          "shell.execute_reply": "2021-10-08T23:45:47.480852Z"
        },
        "trusted": true,
        "id": "PLRTYfE4POHW"
      },
      "source": [
        "import pandas as pd\n",
        "import numpy as np\n",
        "import matplotlib.pyplot as plt\n",
        "import seaborn as sns\n"
      ],
      "execution_count": null,
      "outputs": []
    },
    {
      "cell_type": "markdown",
      "metadata": {
        "id": "9qIQNWK-POHX"
      },
      "source": [
        "# 1. Import Data"
      ]
    },
    {
      "cell_type": "code",
      "metadata": {
        "execution": {
          "iopub.status.busy": "2021-10-08T23:45:47.483607Z",
          "iopub.execute_input": "2021-10-08T23:45:47.483862Z",
          "iopub.status.idle": "2021-10-08T23:45:56.227928Z",
          "shell.execute_reply.started": "2021-10-08T23:45:47.483834Z",
          "shell.execute_reply": "2021-10-08T23:45:56.226987Z"
        },
        "trusted": true,
        "colab": {
          "base_uri": "https://localhost:8080/"
        },
        "id": "X9QH8Ft9POHa",
        "outputId": "b6d3a45e-5786-4560-bf55-cc39384658db"
      },
      "source": [
        "!pip install pyspark"
      ],
      "execution_count": null,
      "outputs": [
        {
          "output_type": "stream",
          "name": "stdout",
          "text": [
            "Collecting pyspark\n",
            "  Downloading pyspark-3.2.0.tar.gz (281.3 MB)\n",
            "\u001b[K     |████████████████████████████████| 281.3 MB 40 kB/s \n",
            "\u001b[?25hCollecting py4j==0.10.9.2\n",
            "  Downloading py4j-0.10.9.2-py2.py3-none-any.whl (198 kB)\n",
            "\u001b[K     |████████████████████████████████| 198 kB 63.4 MB/s \n",
            "\u001b[?25hBuilding wheels for collected packages: pyspark\n",
            "  Building wheel for pyspark (setup.py) ... \u001b[?25l\u001b[?25hdone\n",
            "  Created wheel for pyspark: filename=pyspark-3.2.0-py2.py3-none-any.whl size=281805912 sha256=b093073220b86542e629e6c76ee60e08f27558fd344f5210b7be9f7f6ff8f725\n",
            "  Stored in directory: /root/.cache/pip/wheels/0b/de/d2/9be5d59d7331c6c2a7c1b6d1a4f463ce107332b1ecd4e80718\n",
            "Successfully built pyspark\n",
            "Installing collected packages: py4j, pyspark\n",
            "Successfully installed py4j-0.10.9.2 pyspark-3.2.0\n"
          ]
        }
      ]
    },
    {
      "cell_type": "code",
      "metadata": {
        "execution": {
          "iopub.status.busy": "2021-10-08T23:45:56.229673Z",
          "iopub.execute_input": "2021-10-08T23:45:56.230212Z",
          "iopub.status.idle": "2021-10-08T23:45:56.234993Z",
          "shell.execute_reply.started": "2021-10-08T23:45:56.230178Z",
          "shell.execute_reply": "2021-10-08T23:45:56.234411Z"
        },
        "trusted": true,
        "id": "YkcKvE6XPOHb"
      },
      "source": [
        "from pyspark.sql import SparkSession\n",
        "spark = SparkSession.builder.getOrCreate()"
      ],
      "execution_count": null,
      "outputs": []
    },
    {
      "cell_type": "code",
      "metadata": {
        "execution": {
          "iopub.status.busy": "2021-10-08T23:45:56.237062Z",
          "iopub.execute_input": "2021-10-08T23:45:56.237378Z",
          "iopub.status.idle": "2021-10-08T23:45:56.410208Z",
          "shell.execute_reply.started": "2021-10-08T23:45:56.237345Z",
          "shell.execute_reply": "2021-10-08T23:45:56.409208Z"
        },
        "trusted": true,
        "id": "ACrbmWIXPOHc"
      },
      "source": [
        "#Load data into spark \n",
        "#data = spark.read.csv('/kaggle/input/heart-disease-uci/heart.csv', header = True)\n",
        "\n",
        "#data = spark.read.csv('https://archive.ics.uci.edu/ml/datasets/Heart+Disease/heart.csv', header = True)\n",
        "\n",
        "data = spark.read.csv('heart.csv', header = True)"
      ],
      "execution_count": null,
      "outputs": []
    },
    {
      "cell_type": "code",
      "metadata": {
        "execution": {
          "iopub.status.busy": "2021-10-08T23:45:56.411432Z",
          "iopub.execute_input": "2021-10-08T23:45:56.411773Z",
          "iopub.status.idle": "2021-10-08T23:45:56.448916Z",
          "shell.execute_reply.started": "2021-10-08T23:45:56.411724Z",
          "shell.execute_reply": "2021-10-08T23:45:56.448341Z"
        },
        "trusted": true,
        "colab": {
          "base_uri": "https://localhost:8080/",
          "height": 204
        },
        "id": "k88cC8xqPOHe",
        "outputId": "d2f57f6b-4ae9-4f21-acee-3c907506d497"
      },
      "source": [
        "df = pd.read_csv('heart.csv')\n",
        "\n",
        "#df = pd.read_csv('/kaggle/input/heart-disease-uci/heart.csv')\n",
        "\n",
        "df.head()"
      ],
      "execution_count": null,
      "outputs": [
        {
          "output_type": "execute_result",
          "data": {
            "text/html": [
              "<div>\n",
              "<style scoped>\n",
              "    .dataframe tbody tr th:only-of-type {\n",
              "        vertical-align: middle;\n",
              "    }\n",
              "\n",
              "    .dataframe tbody tr th {\n",
              "        vertical-align: top;\n",
              "    }\n",
              "\n",
              "    .dataframe thead th {\n",
              "        text-align: right;\n",
              "    }\n",
              "</style>\n",
              "<table border=\"1\" class=\"dataframe\">\n",
              "  <thead>\n",
              "    <tr style=\"text-align: right;\">\n",
              "      <th></th>\n",
              "      <th>age</th>\n",
              "      <th>sex</th>\n",
              "      <th>cp</th>\n",
              "      <th>trestbps</th>\n",
              "      <th>chol</th>\n",
              "      <th>fbs</th>\n",
              "      <th>restecg</th>\n",
              "      <th>thalach</th>\n",
              "      <th>exang</th>\n",
              "      <th>oldpeak</th>\n",
              "      <th>slope</th>\n",
              "      <th>ca</th>\n",
              "      <th>thal</th>\n",
              "      <th>target</th>\n",
              "    </tr>\n",
              "  </thead>\n",
              "  <tbody>\n",
              "    <tr>\n",
              "      <th>0</th>\n",
              "      <td>63</td>\n",
              "      <td>1</td>\n",
              "      <td>3</td>\n",
              "      <td>145</td>\n",
              "      <td>233</td>\n",
              "      <td>1</td>\n",
              "      <td>0</td>\n",
              "      <td>150</td>\n",
              "      <td>0</td>\n",
              "      <td>2.3</td>\n",
              "      <td>0</td>\n",
              "      <td>0</td>\n",
              "      <td>1</td>\n",
              "      <td>1</td>\n",
              "    </tr>\n",
              "    <tr>\n",
              "      <th>1</th>\n",
              "      <td>37</td>\n",
              "      <td>1</td>\n",
              "      <td>2</td>\n",
              "      <td>130</td>\n",
              "      <td>250</td>\n",
              "      <td>0</td>\n",
              "      <td>1</td>\n",
              "      <td>187</td>\n",
              "      <td>0</td>\n",
              "      <td>3.5</td>\n",
              "      <td>0</td>\n",
              "      <td>0</td>\n",
              "      <td>2</td>\n",
              "      <td>1</td>\n",
              "    </tr>\n",
              "    <tr>\n",
              "      <th>2</th>\n",
              "      <td>41</td>\n",
              "      <td>0</td>\n",
              "      <td>1</td>\n",
              "      <td>130</td>\n",
              "      <td>204</td>\n",
              "      <td>0</td>\n",
              "      <td>0</td>\n",
              "      <td>172</td>\n",
              "      <td>0</td>\n",
              "      <td>1.4</td>\n",
              "      <td>2</td>\n",
              "      <td>0</td>\n",
              "      <td>2</td>\n",
              "      <td>1</td>\n",
              "    </tr>\n",
              "    <tr>\n",
              "      <th>3</th>\n",
              "      <td>56</td>\n",
              "      <td>1</td>\n",
              "      <td>1</td>\n",
              "      <td>120</td>\n",
              "      <td>236</td>\n",
              "      <td>0</td>\n",
              "      <td>1</td>\n",
              "      <td>178</td>\n",
              "      <td>0</td>\n",
              "      <td>0.8</td>\n",
              "      <td>2</td>\n",
              "      <td>0</td>\n",
              "      <td>2</td>\n",
              "      <td>1</td>\n",
              "    </tr>\n",
              "    <tr>\n",
              "      <th>4</th>\n",
              "      <td>57</td>\n",
              "      <td>0</td>\n",
              "      <td>0</td>\n",
              "      <td>120</td>\n",
              "      <td>354</td>\n",
              "      <td>0</td>\n",
              "      <td>1</td>\n",
              "      <td>163</td>\n",
              "      <td>1</td>\n",
              "      <td>0.6</td>\n",
              "      <td>2</td>\n",
              "      <td>0</td>\n",
              "      <td>2</td>\n",
              "      <td>1</td>\n",
              "    </tr>\n",
              "  </tbody>\n",
              "</table>\n",
              "</div>"
            ],
            "text/plain": [
              "   age  sex  cp  trestbps  chol  fbs  ...  exang  oldpeak  slope  ca  thal  target\n",
              "0   63    1   3       145   233    1  ...      0      2.3      0   0     1       1\n",
              "1   37    1   2       130   250    0  ...      0      3.5      0   0     2       1\n",
              "2   41    0   1       130   204    0  ...      0      1.4      2   0     2       1\n",
              "3   56    1   1       120   236    0  ...      0      0.8      2   0     2       1\n",
              "4   57    0   0       120   354    0  ...      1      0.6      2   0     2       1\n",
              "\n",
              "[5 rows x 14 columns]"
            ]
          },
          "metadata": {},
          "execution_count": 9
        }
      ]
    },
    {
      "cell_type": "markdown",
      "metadata": {
        "id": "mBY1BL-VPOHf"
      },
      "source": [
        "# 2. Preprocessing"
      ]
    },
    {
      "cell_type": "code",
      "metadata": {
        "execution": {
          "iopub.status.busy": "2021-10-08T23:45:56.449865Z",
          "iopub.execute_input": "2021-10-08T23:45:56.450504Z",
          "iopub.status.idle": "2021-10-08T23:45:56.487495Z",
          "shell.execute_reply.started": "2021-10-08T23:45:56.450470Z",
          "shell.execute_reply": "2021-10-08T23:45:56.486400Z"
        },
        "trusted": true,
        "colab": {
          "base_uri": "https://localhost:8080/"
        },
        "id": "T40UmKL3POHh",
        "outputId": "9443ddb5-e8d8-473c-e84f-044741691cdc"
      },
      "source": [
        "df.info()"
      ],
      "execution_count": null,
      "outputs": [
        {
          "output_type": "stream",
          "name": "stdout",
          "text": [
            "<class 'pandas.core.frame.DataFrame'>\n",
            "RangeIndex: 303 entries, 0 to 302\n",
            "Data columns (total 14 columns):\n",
            " #   Column    Non-Null Count  Dtype  \n",
            "---  ------    --------------  -----  \n",
            " 0   age       303 non-null    int64  \n",
            " 1   sex       303 non-null    int64  \n",
            " 2   cp        303 non-null    int64  \n",
            " 3   trestbps  303 non-null    int64  \n",
            " 4   chol      303 non-null    int64  \n",
            " 5   fbs       303 non-null    int64  \n",
            " 6   restecg   303 non-null    int64  \n",
            " 7   thalach   303 non-null    int64  \n",
            " 8   exang     303 non-null    int64  \n",
            " 9   oldpeak   303 non-null    float64\n",
            " 10  slope     303 non-null    int64  \n",
            " 11  ca        303 non-null    int64  \n",
            " 12  thal      303 non-null    int64  \n",
            " 13  target    303 non-null    int64  \n",
            "dtypes: float64(1), int64(13)\n",
            "memory usage: 33.3 KB\n"
          ]
        }
      ]
    },
    {
      "cell_type": "code",
      "metadata": {
        "execution": {
          "iopub.status.busy": "2021-10-08T23:45:56.489187Z",
          "iopub.execute_input": "2021-10-08T23:45:56.489611Z",
          "iopub.status.idle": "2021-10-08T23:45:56.524380Z",
          "shell.execute_reply.started": "2021-10-08T23:45:56.489568Z",
          "shell.execute_reply": "2021-10-08T23:45:56.523443Z"
        },
        "trusted": true,
        "colab": {
          "base_uri": "https://localhost:8080/"
        },
        "id": "D8JAkJkDPOHj",
        "outputId": "966485aa-a6e5-4b11-e429-d74ae1215ee4"
      },
      "source": [
        "#Columns in data\n",
        "data.printSchema()"
      ],
      "execution_count": null,
      "outputs": [
        {
          "output_type": "stream",
          "name": "stdout",
          "text": [
            "root\n",
            " |-- age: string (nullable = true)\n",
            " |-- sex: string (nullable = true)\n",
            " |-- cp: string (nullable = true)\n",
            " |-- trestbps: string (nullable = true)\n",
            " |-- chol: string (nullable = true)\n",
            " |-- fbs: string (nullable = true)\n",
            " |-- restecg: string (nullable = true)\n",
            " |-- thalach: string (nullable = true)\n",
            " |-- exang: string (nullable = true)\n",
            " |-- oldpeak: string (nullable = true)\n",
            " |-- slope: string (nullable = true)\n",
            " |-- ca: string (nullable = true)\n",
            " |-- thal: string (nullable = true)\n",
            " |-- target: string (nullable = true)\n",
            "\n"
          ]
        }
      ]
    },
    {
      "cell_type": "code",
      "metadata": {
        "execution": {
          "iopub.status.busy": "2021-10-08T23:45:56.525438Z",
          "iopub.execute_input": "2021-10-08T23:45:56.525655Z",
          "iopub.status.idle": "2021-10-08T23:45:56.617115Z",
          "shell.execute_reply.started": "2021-10-08T23:45:56.525629Z",
          "shell.execute_reply": "2021-10-08T23:45:56.616202Z"
        },
        "trusted": true,
        "id": "eA2U87_9POHl"
      },
      "source": [
        "from pyspark.sql.types import *\n",
        "\n",
        "# Write a custom function to convert the data type of DataFrame columns\n",
        "def convertColumn(df, names, newType):\n",
        "  for name in names: \n",
        "     df = df.withColumn(name, df[name].cast(newType))\n",
        "  return df \n",
        "int_columns = ['age','sex','cp', 'trestbps','chol','fbs','restecg','thalach','exang','slope','ca','thal','target']\n",
        "float_column = ['oldpeak']\n",
        "data = convertColumn(data, int_columns, IntegerType())\n",
        "data = convertColumn(data, float_column, FloatType())"
      ],
      "execution_count": null,
      "outputs": []
    },
    {
      "cell_type": "code",
      "metadata": {
        "execution": {
          "iopub.status.busy": "2021-10-08T23:45:56.618203Z",
          "iopub.execute_input": "2021-10-08T23:45:56.618395Z",
          "iopub.status.idle": "2021-10-08T23:45:56.639216Z",
          "shell.execute_reply.started": "2021-10-08T23:45:56.618371Z",
          "shell.execute_reply": "2021-10-08T23:45:56.638221Z"
        },
        "trusted": true,
        "colab": {
          "base_uri": "https://localhost:8080/"
        },
        "id": "CbUWmnvJPOHm",
        "outputId": "5d8288f2-0484-40bf-9863-4865da97bedf"
      },
      "source": [
        "data.persist()"
      ],
      "execution_count": null,
      "outputs": [
        {
          "output_type": "execute_result",
          "data": {
            "text/plain": [
              "DataFrame[age: int, sex: int, cp: int, trestbps: int, chol: int, fbs: int, restecg: int, thalach: int, exang: int, oldpeak: float, slope: int, ca: int, thal: int, target: int]"
            ]
          },
          "metadata": {},
          "execution_count": 13
        }
      ]
    },
    {
      "cell_type": "code",
      "metadata": {
        "colab": {
          "base_uri": "https://localhost:8080/"
        },
        "id": "xenxNpTGRVOq",
        "outputId": "374de918-8776-44dc-e9c0-f592fd367053"
      },
      "source": [
        "print(type(data))"
      ],
      "execution_count": null,
      "outputs": [
        {
          "output_type": "stream",
          "name": "stdout",
          "text": [
            "<class 'pyspark.sql.dataframe.DataFrame'>\n"
          ]
        }
      ]
    },
    {
      "cell_type": "markdown",
      "metadata": {
        "id": "TXC7z8ctRWQC"
      },
      "source": [
        "Esto es interesante y nos indica cómo se utiliza el tipo de Spark, estilo .head"
      ]
    },
    {
      "cell_type": "code",
      "metadata": {
        "execution": {
          "iopub.status.busy": "2021-10-08T23:45:56.640859Z",
          "iopub.execute_input": "2021-10-08T23:45:56.641179Z",
          "iopub.status.idle": "2021-10-08T23:45:56.695347Z",
          "shell.execute_reply.started": "2021-10-08T23:45:56.641140Z",
          "shell.execute_reply": "2021-10-08T23:45:56.694597Z"
        },
        "trusted": true,
        "colab": {
          "base_uri": "https://localhost:8080/"
        },
        "id": "l3R77QVqPOHn",
        "outputId": "66cab154-2787-4874-8847-2de269b46226"
      },
      "source": [
        "#Take one sample\n",
        "data.take(1)"
      ],
      "execution_count": null,
      "outputs": [
        {
          "output_type": "execute_result",
          "data": {
            "text/plain": [
              "[Row(age=63, sex=1, cp=3, trestbps=145, chol=233, fbs=1, restecg=0, thalach=150, exang=0, oldpeak=2.299999952316284, slope=0, ca=0, thal=1, target=1)]"
            ]
          },
          "metadata": {},
          "execution_count": 14
        }
      ]
    },
    {
      "cell_type": "markdown",
      "metadata": {
        "id": "ubqwhKmGR4HV"
      },
      "source": [
        "Aunque como es dataframe de tipo spark también podemos utilizar head"
      ]
    },
    {
      "cell_type": "code",
      "metadata": {
        "colab": {
          "base_uri": "https://localhost:8080/"
        },
        "id": "6MZs7b4PRx6s",
        "outputId": "81b82d1d-34a2-4f14-9733-2af0d693157d"
      },
      "source": [
        "data.head(3)"
      ],
      "execution_count": null,
      "outputs": [
        {
          "output_type": "execute_result",
          "data": {
            "text/plain": [
              "[Row(age=63, sex=1, cp=3, trestbps=145, chol=233, fbs=1, restecg=0, thalach=150, exang=0, oldpeak=2.299999952316284, slope=0, ca=0, thal=1, target=1),\n",
              " Row(age=37, sex=1, cp=2, trestbps=130, chol=250, fbs=0, restecg=1, thalach=187, exang=0, oldpeak=3.5, slope=0, ca=0, thal=2, target=1),\n",
              " Row(age=41, sex=0, cp=1, trestbps=130, chol=204, fbs=0, restecg=0, thalach=172, exang=0, oldpeak=1.399999976158142, slope=2, ca=0, thal=2, target=1)]"
            ]
          },
          "metadata": {},
          "execution_count": 18
        }
      ]
    },
    {
      "cell_type": "code",
      "metadata": {
        "id": "K89w2BVIR-0v"
      },
      "source": [],
      "execution_count": null,
      "outputs": []
    },
    {
      "cell_type": "code",
      "metadata": {
        "execution": {
          "iopub.status.busy": "2021-10-08T23:45:56.696854Z",
          "iopub.execute_input": "2021-10-08T23:45:56.697386Z",
          "iopub.status.idle": "2021-10-08T23:45:57.450782Z",
          "shell.execute_reply.started": "2021-10-08T23:45:56.697347Z",
          "shell.execute_reply": "2021-10-08T23:45:57.450190Z"
        },
        "trusted": true,
        "colab": {
          "base_uri": "https://localhost:8080/"
        },
        "id": "C9k9QIiSPOHo",
        "outputId": "f1aa6d86-6ea1-404c-f888-7189e41b3efc"
      },
      "source": [
        "data.describe().show() # It is hard to see"
      ],
      "execution_count": null,
      "outputs": [
        {
          "output_type": "stream",
          "name": "stdout",
          "text": [
            "+-------+------------------+-------------------+------------------+------------------+------------------+-------------------+-----------------+------------------+-------------------+------------------+------------------+------------------+------------------+------------------+\n",
            "|summary|               age|                sex|                cp|          trestbps|              chol|                fbs|          restecg|           thalach|              exang|           oldpeak|             slope|                ca|              thal|            target|\n",
            "+-------+------------------+-------------------+------------------+------------------+------------------+-------------------+-----------------+------------------+-------------------+------------------+------------------+------------------+------------------+------------------+\n",
            "|  count|               303|                303|               303|               303|               303|                303|              303|               303|                303|               303|               303|               303|               303|               303|\n",
            "|   mean|54.366336633663366| 0.6831683168316832| 0.966996699669967|131.62376237623764|246.26402640264027| 0.1485148514851485|0.528052805280528|149.64686468646866|0.32673267326732675|1.0396039587977302|1.3993399339933994|0.7293729372937293|2.3135313531353137|0.5445544554455446|\n",
            "| stddev|  9.08210098983786|0.46601082333962385|1.0320524894832983|  17.5381428135171| 51.83075098793005|0.35619787492797644|0.525859596359298| 22.90516111491409|0.46979446452231655|1.1610750102689427|0.6162261453459622|1.0226063649693276|0.6122765072781408|0.4988347841643915|\n",
            "|    min|                29|                  0|                 0|                94|               126|                  0|                0|                71|                  0|               0.0|                 0|                 0|                 0|                 0|\n",
            "|    max|                77|                  1|                 3|               200|               564|                  1|                2|               202|                  1|               6.2|                 2|                 4|                 3|                 1|\n",
            "+-------+------------------+-------------------+------------------+------------------+------------------+-------------------+-----------------+------------------+-------------------+------------------+------------------+------------------+------------------+------------------+\n",
            "\n"
          ]
        }
      ]
    },
    {
      "cell_type": "code",
      "metadata": {
        "execution": {
          "iopub.status.busy": "2021-10-08T23:45:57.451637Z",
          "iopub.execute_input": "2021-10-08T23:45:57.451859Z",
          "iopub.status.idle": "2021-10-08T23:45:57.572669Z",
          "shell.execute_reply.started": "2021-10-08T23:45:57.451833Z",
          "shell.execute_reply": "2021-10-08T23:45:57.571870Z"
        },
        "trusted": true,
        "colab": {
          "base_uri": "https://localhost:8080/"
        },
        "id": "ne73AYE8POHp",
        "outputId": "44848c20-8601-4f01-91cb-0f63e20cee72"
      },
      "source": [
        "data.describe('target').show()"
      ],
      "execution_count": null,
      "outputs": [
        {
          "output_type": "stream",
          "name": "stdout",
          "text": [
            "+-------+------------------+\n",
            "|summary|            target|\n",
            "+-------+------------------+\n",
            "|  count|               303|\n",
            "|   mean|0.5445544554455446|\n",
            "| stddev|0.4988347841643915|\n",
            "|    min|                 0|\n",
            "|    max|                 1|\n",
            "+-------+------------------+\n",
            "\n"
          ]
        }
      ]
    },
    {
      "cell_type": "code",
      "metadata": {
        "execution": {
          "iopub.status.busy": "2021-10-08T23:45:57.576685Z",
          "iopub.execute_input": "2021-10-08T23:45:57.576964Z",
          "iopub.status.idle": "2021-10-08T23:45:57.723335Z",
          "shell.execute_reply.started": "2021-10-08T23:45:57.576928Z",
          "shell.execute_reply": "2021-10-08T23:45:57.722441Z"
        },
        "trusted": true,
        "colab": {
          "base_uri": "https://localhost:8080/"
        },
        "id": "BYkQh6NiPOHq",
        "outputId": "bfe2422b-8981-42f4-cf1e-e80e297cf7e6"
      },
      "source": [
        "data.describe('age').show()"
      ],
      "execution_count": null,
      "outputs": [
        {
          "output_type": "stream",
          "name": "stdout",
          "text": [
            "+-------+------------------+\n",
            "|summary|               age|\n",
            "+-------+------------------+\n",
            "|  count|               303|\n",
            "|   mean|54.366336633663366|\n",
            "| stddev|  9.08210098983786|\n",
            "|    min|                29|\n",
            "|    max|                77|\n",
            "+-------+------------------+\n",
            "\n"
          ]
        }
      ]
    },
    {
      "cell_type": "code",
      "metadata": {
        "execution": {
          "iopub.status.busy": "2021-10-08T23:45:57.726731Z",
          "iopub.execute_input": "2021-10-08T23:45:57.726968Z",
          "iopub.status.idle": "2021-10-08T23:45:57.803172Z",
          "shell.execute_reply.started": "2021-10-08T23:45:57.726939Z",
          "shell.execute_reply": "2021-10-08T23:45:57.802223Z"
        },
        "trusted": true,
        "colab": {
          "base_uri": "https://localhost:8080/"
        },
        "id": "KyFtjPLLPOHr",
        "outputId": "fb935a35-e303-4e8e-8187-c692c8a1a93d"
      },
      "source": [
        "#Count number of samples, la dimensión, como el shape\n",
        "data.count()"
      ],
      "execution_count": null,
      "outputs": [
        {
          "output_type": "execute_result",
          "data": {
            "text/plain": [
              "303"
            ]
          },
          "metadata": {},
          "execution_count": 21
        }
      ]
    },
    {
      "cell_type": "code",
      "metadata": {
        "execution": {
          "iopub.status.busy": "2021-10-08T23:45:57.804579Z",
          "iopub.execute_input": "2021-10-08T23:45:57.804895Z",
          "iopub.status.idle": "2021-10-08T23:45:57.939168Z",
          "shell.execute_reply.started": "2021-10-08T23:45:57.804855Z",
          "shell.execute_reply": "2021-10-08T23:45:57.938185Z"
        },
        "trusted": true,
        "colab": {
          "base_uri": "https://localhost:8080/",
          "height": 419
        },
        "id": "agojx5fJPOHr",
        "outputId": "e28a6214-2939-4981-b774-023d74196efc"
      },
      "source": [
        "#Change spark to pandas dataframe\n",
        "pd_data =data.toPandas()\n",
        "pd_data"
      ],
      "execution_count": null,
      "outputs": [
        {
          "output_type": "execute_result",
          "data": {
            "text/html": [
              "<div>\n",
              "<style scoped>\n",
              "    .dataframe tbody tr th:only-of-type {\n",
              "        vertical-align: middle;\n",
              "    }\n",
              "\n",
              "    .dataframe tbody tr th {\n",
              "        vertical-align: top;\n",
              "    }\n",
              "\n",
              "    .dataframe thead th {\n",
              "        text-align: right;\n",
              "    }\n",
              "</style>\n",
              "<table border=\"1\" class=\"dataframe\">\n",
              "  <thead>\n",
              "    <tr style=\"text-align: right;\">\n",
              "      <th></th>\n",
              "      <th>age</th>\n",
              "      <th>sex</th>\n",
              "      <th>cp</th>\n",
              "      <th>trestbps</th>\n",
              "      <th>chol</th>\n",
              "      <th>fbs</th>\n",
              "      <th>restecg</th>\n",
              "      <th>thalach</th>\n",
              "      <th>exang</th>\n",
              "      <th>oldpeak</th>\n",
              "      <th>slope</th>\n",
              "      <th>ca</th>\n",
              "      <th>thal</th>\n",
              "      <th>target</th>\n",
              "    </tr>\n",
              "  </thead>\n",
              "  <tbody>\n",
              "    <tr>\n",
              "      <th>0</th>\n",
              "      <td>63</td>\n",
              "      <td>1</td>\n",
              "      <td>3</td>\n",
              "      <td>145</td>\n",
              "      <td>233</td>\n",
              "      <td>1</td>\n",
              "      <td>0</td>\n",
              "      <td>150</td>\n",
              "      <td>0</td>\n",
              "      <td>2.3</td>\n",
              "      <td>0</td>\n",
              "      <td>0</td>\n",
              "      <td>1</td>\n",
              "      <td>1</td>\n",
              "    </tr>\n",
              "    <tr>\n",
              "      <th>1</th>\n",
              "      <td>37</td>\n",
              "      <td>1</td>\n",
              "      <td>2</td>\n",
              "      <td>130</td>\n",
              "      <td>250</td>\n",
              "      <td>0</td>\n",
              "      <td>1</td>\n",
              "      <td>187</td>\n",
              "      <td>0</td>\n",
              "      <td>3.5</td>\n",
              "      <td>0</td>\n",
              "      <td>0</td>\n",
              "      <td>2</td>\n",
              "      <td>1</td>\n",
              "    </tr>\n",
              "    <tr>\n",
              "      <th>2</th>\n",
              "      <td>41</td>\n",
              "      <td>0</td>\n",
              "      <td>1</td>\n",
              "      <td>130</td>\n",
              "      <td>204</td>\n",
              "      <td>0</td>\n",
              "      <td>0</td>\n",
              "      <td>172</td>\n",
              "      <td>0</td>\n",
              "      <td>1.4</td>\n",
              "      <td>2</td>\n",
              "      <td>0</td>\n",
              "      <td>2</td>\n",
              "      <td>1</td>\n",
              "    </tr>\n",
              "    <tr>\n",
              "      <th>3</th>\n",
              "      <td>56</td>\n",
              "      <td>1</td>\n",
              "      <td>1</td>\n",
              "      <td>120</td>\n",
              "      <td>236</td>\n",
              "      <td>0</td>\n",
              "      <td>1</td>\n",
              "      <td>178</td>\n",
              "      <td>0</td>\n",
              "      <td>0.8</td>\n",
              "      <td>2</td>\n",
              "      <td>0</td>\n",
              "      <td>2</td>\n",
              "      <td>1</td>\n",
              "    </tr>\n",
              "    <tr>\n",
              "      <th>4</th>\n",
              "      <td>57</td>\n",
              "      <td>0</td>\n",
              "      <td>0</td>\n",
              "      <td>120</td>\n",
              "      <td>354</td>\n",
              "      <td>0</td>\n",
              "      <td>1</td>\n",
              "      <td>163</td>\n",
              "      <td>1</td>\n",
              "      <td>0.6</td>\n",
              "      <td>2</td>\n",
              "      <td>0</td>\n",
              "      <td>2</td>\n",
              "      <td>1</td>\n",
              "    </tr>\n",
              "    <tr>\n",
              "      <th>...</th>\n",
              "      <td>...</td>\n",
              "      <td>...</td>\n",
              "      <td>...</td>\n",
              "      <td>...</td>\n",
              "      <td>...</td>\n",
              "      <td>...</td>\n",
              "      <td>...</td>\n",
              "      <td>...</td>\n",
              "      <td>...</td>\n",
              "      <td>...</td>\n",
              "      <td>...</td>\n",
              "      <td>...</td>\n",
              "      <td>...</td>\n",
              "      <td>...</td>\n",
              "    </tr>\n",
              "    <tr>\n",
              "      <th>298</th>\n",
              "      <td>57</td>\n",
              "      <td>0</td>\n",
              "      <td>0</td>\n",
              "      <td>140</td>\n",
              "      <td>241</td>\n",
              "      <td>0</td>\n",
              "      <td>1</td>\n",
              "      <td>123</td>\n",
              "      <td>1</td>\n",
              "      <td>0.2</td>\n",
              "      <td>1</td>\n",
              "      <td>0</td>\n",
              "      <td>3</td>\n",
              "      <td>0</td>\n",
              "    </tr>\n",
              "    <tr>\n",
              "      <th>299</th>\n",
              "      <td>45</td>\n",
              "      <td>1</td>\n",
              "      <td>3</td>\n",
              "      <td>110</td>\n",
              "      <td>264</td>\n",
              "      <td>0</td>\n",
              "      <td>1</td>\n",
              "      <td>132</td>\n",
              "      <td>0</td>\n",
              "      <td>1.2</td>\n",
              "      <td>1</td>\n",
              "      <td>0</td>\n",
              "      <td>3</td>\n",
              "      <td>0</td>\n",
              "    </tr>\n",
              "    <tr>\n",
              "      <th>300</th>\n",
              "      <td>68</td>\n",
              "      <td>1</td>\n",
              "      <td>0</td>\n",
              "      <td>144</td>\n",
              "      <td>193</td>\n",
              "      <td>1</td>\n",
              "      <td>1</td>\n",
              "      <td>141</td>\n",
              "      <td>0</td>\n",
              "      <td>3.4</td>\n",
              "      <td>1</td>\n",
              "      <td>2</td>\n",
              "      <td>3</td>\n",
              "      <td>0</td>\n",
              "    </tr>\n",
              "    <tr>\n",
              "      <th>301</th>\n",
              "      <td>57</td>\n",
              "      <td>1</td>\n",
              "      <td>0</td>\n",
              "      <td>130</td>\n",
              "      <td>131</td>\n",
              "      <td>0</td>\n",
              "      <td>1</td>\n",
              "      <td>115</td>\n",
              "      <td>1</td>\n",
              "      <td>1.2</td>\n",
              "      <td>1</td>\n",
              "      <td>1</td>\n",
              "      <td>3</td>\n",
              "      <td>0</td>\n",
              "    </tr>\n",
              "    <tr>\n",
              "      <th>302</th>\n",
              "      <td>57</td>\n",
              "      <td>0</td>\n",
              "      <td>1</td>\n",
              "      <td>130</td>\n",
              "      <td>236</td>\n",
              "      <td>0</td>\n",
              "      <td>0</td>\n",
              "      <td>174</td>\n",
              "      <td>0</td>\n",
              "      <td>0.0</td>\n",
              "      <td>1</td>\n",
              "      <td>1</td>\n",
              "      <td>2</td>\n",
              "      <td>0</td>\n",
              "    </tr>\n",
              "  </tbody>\n",
              "</table>\n",
              "<p>303 rows × 14 columns</p>\n",
              "</div>"
            ],
            "text/plain": [
              "     age  sex  cp  trestbps  chol  fbs  ...  exang  oldpeak  slope  ca  thal  target\n",
              "0     63    1   3       145   233    1  ...      0      2.3      0   0     1       1\n",
              "1     37    1   2       130   250    0  ...      0      3.5      0   0     2       1\n",
              "2     41    0   1       130   204    0  ...      0      1.4      2   0     2       1\n",
              "3     56    1   1       120   236    0  ...      0      0.8      2   0     2       1\n",
              "4     57    0   0       120   354    0  ...      1      0.6      2   0     2       1\n",
              "..   ...  ...  ..       ...   ...  ...  ...    ...      ...    ...  ..   ...     ...\n",
              "298   57    0   0       140   241    0  ...      1      0.2      1   0     3       0\n",
              "299   45    1   3       110   264    0  ...      0      1.2      1   0     3       0\n",
              "300   68    1   0       144   193    1  ...      0      3.4      1   2     3       0\n",
              "301   57    1   0       130   131    0  ...      1      1.2      1   1     3       0\n",
              "302   57    0   1       130   236    0  ...      0      0.0      1   1     2       0\n",
              "\n",
              "[303 rows x 14 columns]"
            ]
          },
          "metadata": {},
          "execution_count": 22
        }
      ]
    },
    {
      "cell_type": "code",
      "metadata": {
        "execution": {
          "iopub.status.busy": "2021-10-08T23:45:57.949420Z",
          "iopub.execute_input": "2021-10-08T23:45:57.949981Z",
          "iopub.status.idle": "2021-10-08T23:45:57.971989Z",
          "shell.execute_reply.started": "2021-10-08T23:45:57.949937Z",
          "shell.execute_reply": "2021-10-08T23:45:57.971131Z"
        },
        "trusted": true,
        "colab": {
          "base_uri": "https://localhost:8080/"
        },
        "id": "l8pV9x9lPOHs",
        "outputId": "f72f5cbe-2998-4fc1-f670-f53b4fdd2dc6"
      },
      "source": [
        "pd_data.info()"
      ],
      "execution_count": null,
      "outputs": [
        {
          "output_type": "stream",
          "name": "stdout",
          "text": [
            "<class 'pandas.core.frame.DataFrame'>\n",
            "RangeIndex: 303 entries, 0 to 302\n",
            "Data columns (total 14 columns):\n",
            " #   Column    Non-Null Count  Dtype  \n",
            "---  ------    --------------  -----  \n",
            " 0   age       303 non-null    int32  \n",
            " 1   sex       303 non-null    int32  \n",
            " 2   cp        303 non-null    int32  \n",
            " 3   trestbps  303 non-null    int32  \n",
            " 4   chol      303 non-null    int32  \n",
            " 5   fbs       303 non-null    int32  \n",
            " 6   restecg   303 non-null    int32  \n",
            " 7   thalach   303 non-null    int32  \n",
            " 8   exang     303 non-null    int32  \n",
            " 9   oldpeak   303 non-null    float32\n",
            " 10  slope     303 non-null    int32  \n",
            " 11  ca        303 non-null    int32  \n",
            " 12  thal      303 non-null    int32  \n",
            " 13  target    303 non-null    int32  \n",
            "dtypes: float32(1), int32(13)\n",
            "memory usage: 16.7 KB\n"
          ]
        }
      ]
    },
    {
      "cell_type": "code",
      "metadata": {
        "execution": {
          "iopub.status.busy": "2021-10-08T23:45:57.973531Z",
          "iopub.execute_input": "2021-10-08T23:45:57.973990Z",
          "iopub.status.idle": "2021-10-08T23:45:58.389027Z",
          "shell.execute_reply.started": "2021-10-08T23:45:57.973950Z",
          "shell.execute_reply": "2021-10-08T23:45:58.388155Z"
        },
        "trusted": true,
        "colab": {
          "base_uri": "https://localhost:8080/"
        },
        "id": "UCTIxI9fPOHt",
        "outputId": "5ca28ad5-1855-49b9-baab-d506104cd489"
      },
      "source": [
        "#One-hot encoding maps a categorical feature, represented as a label index, to a binary vector with at most a single one-value indicating the presence of a specific feature value from among the set of all feature values.\n",
        "# es interesante su uso, y práctico para los algoritmos machine learning, está algo más alejado de las intenciones del curso...\n",
        "\n",
        "from pyspark.ml.feature import OneHotEncoder\n",
        "encoder = OneHotEncoder(inputCols=['sex','cp','fbs','restecg','exang','slope','ca','thal'],\n",
        "                           outputCols =['sexVec','cpVec','fbsVec','restecgVec','exangVec','slopeVec','caVec','thalVec'])\n",
        "encoded =  encoder.fit(data).transform(data)\n",
        "data_encoded = encoded.drop('sex','cp','fbs','restecg','exang','slope','ca','thal')\n",
        "data_encoded.show()"
      ],
      "execution_count": null,
      "outputs": [
        {
          "output_type": "stream",
          "name": "stdout",
          "text": [
            "+---+--------+----+-------+-------+------+-------------+-------------+-------------+-------------+-------------+-------------+-------------+-------------+\n",
            "|age|trestbps|chol|thalach|oldpeak|target|       sexVec|        cpVec|       fbsVec|   restecgVec|     exangVec|     slopeVec|        caVec|      thalVec|\n",
            "+---+--------+----+-------+-------+------+-------------+-------------+-------------+-------------+-------------+-------------+-------------+-------------+\n",
            "| 63|     145| 233|    150|    2.3|     1|    (1,[],[])|    (3,[],[])|    (1,[],[])|(2,[0],[1.0])|(1,[0],[1.0])|(2,[0],[1.0])|(4,[0],[1.0])|(3,[1],[1.0])|\n",
            "| 37|     130| 250|    187|    3.5|     1|    (1,[],[])|(3,[2],[1.0])|(1,[0],[1.0])|(2,[1],[1.0])|(1,[0],[1.0])|(2,[0],[1.0])|(4,[0],[1.0])|(3,[2],[1.0])|\n",
            "| 41|     130| 204|    172|    1.4|     1|(1,[0],[1.0])|(3,[1],[1.0])|(1,[0],[1.0])|(2,[0],[1.0])|(1,[0],[1.0])|    (2,[],[])|(4,[0],[1.0])|(3,[2],[1.0])|\n",
            "| 56|     120| 236|    178|    0.8|     1|    (1,[],[])|(3,[1],[1.0])|(1,[0],[1.0])|(2,[1],[1.0])|(1,[0],[1.0])|    (2,[],[])|(4,[0],[1.0])|(3,[2],[1.0])|\n",
            "| 57|     120| 354|    163|    0.6|     1|(1,[0],[1.0])|(3,[0],[1.0])|(1,[0],[1.0])|(2,[1],[1.0])|    (1,[],[])|    (2,[],[])|(4,[0],[1.0])|(3,[2],[1.0])|\n",
            "| 57|     140| 192|    148|    0.4|     1|    (1,[],[])|(3,[0],[1.0])|(1,[0],[1.0])|(2,[1],[1.0])|(1,[0],[1.0])|(2,[1],[1.0])|(4,[0],[1.0])|(3,[1],[1.0])|\n",
            "| 56|     140| 294|    153|    1.3|     1|(1,[0],[1.0])|(3,[1],[1.0])|(1,[0],[1.0])|(2,[0],[1.0])|(1,[0],[1.0])|(2,[1],[1.0])|(4,[0],[1.0])|(3,[2],[1.0])|\n",
            "| 44|     120| 263|    173|    0.0|     1|    (1,[],[])|(3,[1],[1.0])|(1,[0],[1.0])|(2,[1],[1.0])|(1,[0],[1.0])|    (2,[],[])|(4,[0],[1.0])|    (3,[],[])|\n",
            "| 52|     172| 199|    162|    0.5|     1|    (1,[],[])|(3,[2],[1.0])|    (1,[],[])|(2,[1],[1.0])|(1,[0],[1.0])|    (2,[],[])|(4,[0],[1.0])|    (3,[],[])|\n",
            "| 57|     150| 168|    174|    1.6|     1|    (1,[],[])|(3,[2],[1.0])|(1,[0],[1.0])|(2,[1],[1.0])|(1,[0],[1.0])|    (2,[],[])|(4,[0],[1.0])|(3,[2],[1.0])|\n",
            "| 54|     140| 239|    160|    1.2|     1|    (1,[],[])|(3,[0],[1.0])|(1,[0],[1.0])|(2,[1],[1.0])|(1,[0],[1.0])|    (2,[],[])|(4,[0],[1.0])|(3,[2],[1.0])|\n",
            "| 48|     130| 275|    139|    0.2|     1|(1,[0],[1.0])|(3,[2],[1.0])|(1,[0],[1.0])|(2,[1],[1.0])|(1,[0],[1.0])|    (2,[],[])|(4,[0],[1.0])|(3,[2],[1.0])|\n",
            "| 49|     130| 266|    171|    0.6|     1|    (1,[],[])|(3,[1],[1.0])|(1,[0],[1.0])|(2,[1],[1.0])|(1,[0],[1.0])|    (2,[],[])|(4,[0],[1.0])|(3,[2],[1.0])|\n",
            "| 64|     110| 211|    144|    1.8|     1|    (1,[],[])|    (3,[],[])|(1,[0],[1.0])|(2,[0],[1.0])|    (1,[],[])|(2,[1],[1.0])|(4,[0],[1.0])|(3,[2],[1.0])|\n",
            "| 58|     150| 283|    162|    1.0|     1|(1,[0],[1.0])|    (3,[],[])|    (1,[],[])|(2,[0],[1.0])|(1,[0],[1.0])|    (2,[],[])|(4,[0],[1.0])|(3,[2],[1.0])|\n",
            "| 50|     120| 219|    158|    1.6|     1|(1,[0],[1.0])|(3,[2],[1.0])|(1,[0],[1.0])|(2,[1],[1.0])|(1,[0],[1.0])|(2,[1],[1.0])|(4,[0],[1.0])|(3,[2],[1.0])|\n",
            "| 58|     120| 340|    172|    0.0|     1|(1,[0],[1.0])|(3,[2],[1.0])|(1,[0],[1.0])|(2,[1],[1.0])|(1,[0],[1.0])|    (2,[],[])|(4,[0],[1.0])|(3,[2],[1.0])|\n",
            "| 66|     150| 226|    114|    2.6|     1|(1,[0],[1.0])|    (3,[],[])|(1,[0],[1.0])|(2,[1],[1.0])|(1,[0],[1.0])|(2,[0],[1.0])|(4,[0],[1.0])|(3,[2],[1.0])|\n",
            "| 43|     150| 247|    171|    1.5|     1|    (1,[],[])|(3,[0],[1.0])|(1,[0],[1.0])|(2,[1],[1.0])|(1,[0],[1.0])|    (2,[],[])|(4,[0],[1.0])|(3,[2],[1.0])|\n",
            "| 69|     140| 239|    151|    1.8|     1|(1,[0],[1.0])|    (3,[],[])|(1,[0],[1.0])|(2,[1],[1.0])|(1,[0],[1.0])|    (2,[],[])|(4,[2],[1.0])|(3,[2],[1.0])|\n",
            "+---+--------+----+-------+-------+------+-------------+-------------+-------------+-------------+-------------+-------------+-------------+-------------+\n",
            "only showing top 20 rows\n",
            "\n"
          ]
        }
      ]
    },
    {
      "cell_type": "markdown",
      "metadata": {
        "id": "OJdyVla7POHu"
      },
      "source": [
        "# 3. PCA"
      ]
    },
    {
      "cell_type": "code",
      "metadata": {
        "execution": {
          "iopub.status.busy": "2021-10-08T23:45:58.390236Z",
          "iopub.execute_input": "2021-10-08T23:45:58.390534Z",
          "iopub.status.idle": "2021-10-08T23:45:58.632573Z",
          "shell.execute_reply.started": "2021-10-08T23:45:58.390494Z",
          "shell.execute_reply": "2021-10-08T23:45:58.631914Z"
        },
        "trusted": true,
        "colab": {
          "base_uri": "https://localhost:8080/"
        },
        "id": "wKACfhxbPOHv",
        "outputId": "f96a4112-2ab6-4f9f-db64-a7e53c89b412"
      },
      "source": [
        "from pyspark.ml.feature import VectorAssembler\n",
        "assembler = VectorAssembler(inputCols =['age','trestbps','chol','thalach','oldpeak','sexVec','cpVec','fbsVec','restecgVec','exangVec','slopeVec','caVec','thalVec'],\n",
        "                           outputCol=\"features\")\n",
        "assembled= assembler.transform(data_encoded)\n",
        "\n",
        "data_asb =assembled.select(\"features\",\"target\")\n",
        "data_asb.show()\n"
      ],
      "execution_count": null,
      "outputs": [
        {
          "output_type": "stream",
          "name": "stdout",
          "text": [
            "+--------------------+------+\n",
            "|            features|target|\n",
            "+--------------------+------+\n",
            "|(22,[0,1,2,3,4,10...|     1|\n",
            "|(22,[0,1,2,3,4,8,...|     1|\n",
            "|(22,[0,1,2,3,4,5,...|     1|\n",
            "|(22,[0,1,2,3,4,7,...|     1|\n",
            "|(22,[0,1,2,3,4,5,...|     1|\n",
            "|(22,[0,1,2,3,4,6,...|     1|\n",
            "|(22,[0,1,2,3,4,5,...|     1|\n",
            "|(22,[0,1,2,3,7,9,...|     1|\n",
            "|(22,[0,1,2,3,4,8,...|     1|\n",
            "|(22,[0,1,2,3,4,8,...|     1|\n",
            "|(22,[0,1,2,3,4,6,...|     1|\n",
            "|(22,[0,1,2,3,4,5,...|     1|\n",
            "|(22,[0,1,2,3,4,7,...|     1|\n",
            "|(22,[0,1,2,3,4,9,...|     1|\n",
            "|(22,[0,1,2,3,4,5,...|     1|\n",
            "|(22,[0,1,2,3,4,5,...|     1|\n",
            "|(22,[0,1,2,3,5,8,...|     1|\n",
            "|(22,[0,1,2,3,4,5,...|     1|\n",
            "|(22,[0,1,2,3,4,6,...|     1|\n",
            "|(22,[0,1,2,3,4,5,...|     1|\n",
            "+--------------------+------+\n",
            "only showing top 20 rows\n",
            "\n"
          ]
        }
      ]
    },
    {
      "cell_type": "code",
      "metadata": {
        "execution": {
          "iopub.status.busy": "2021-10-08T23:45:58.633639Z",
          "iopub.execute_input": "2021-10-08T23:45:58.633935Z",
          "iopub.status.idle": "2021-10-08T23:45:59.198595Z",
          "shell.execute_reply.started": "2021-10-08T23:45:58.633894Z",
          "shell.execute_reply": "2021-10-08T23:45:59.197778Z"
        },
        "trusted": true,
        "colab": {
          "base_uri": "https://localhost:8080/"
        },
        "id": "yNBTOgYKPOHw",
        "outputId": "ae777c07-d198-461d-e79d-6cd93d6f30e9"
      },
      "source": [
        "from pyspark.ml.feature import PCA\n",
        "\n",
        "pca = PCA(k=13, inputCol=\"features\", outputCol=\"pcaFeatures\")\n",
        "model = pca.fit(data_asb).transform(data_asb)\n",
        "\n",
        "data_pca = model.select(\"pcaFeatures\",\"target\")\n",
        "data_pca.head()"
      ],
      "execution_count": null,
      "outputs": [
        {
          "output_type": "execute_result",
          "data": {
            "text/plain": [
              "Row(pcaFeatures=DenseVector([-240.8323, 124.5393, 157.8559, 57.8458, -3.0528, 0.4427, -0.4674, 1.0292, 1.0155, -0.7207, -0.2413, -1.1992, 1.0616]), target=1)"
            ]
          },
          "metadata": {},
          "execution_count": 26
        }
      ]
    },
    {
      "cell_type": "markdown",
      "metadata": {
        "id": "wjf05h0bTiaE"
      },
      "source": [
        "Igualmente esta parte queda algo fuera de esta asignatura pero con el pyspark se podrá utilizar más adelante"
      ]
    },
    {
      "cell_type": "markdown",
      "metadata": {
        "id": "mn-Al1X9POHx"
      },
      "source": [
        "# 4. Modelos para la predicción - Machine learning"
      ]
    },
    {
      "cell_type": "markdown",
      "metadata": {
        "id": "lW3Zwsv5T0o3"
      },
      "source": [
        "Referencias en la guía de Spark"
      ]
    },
    {
      "cell_type": "markdown",
      "metadata": {
        "id": "jcZHMutXTweG"
      },
      "source": [
        "![image.png](data:image/png;base64,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)"
      ]
    },
    {
      "cell_type": "code",
      "metadata": {
        "execution": {
          "iopub.status.busy": "2021-10-08T23:45:59.200438Z",
          "iopub.execute_input": "2021-10-08T23:45:59.201027Z",
          "iopub.status.idle": "2021-10-08T23:45:59.214755Z",
          "shell.execute_reply.started": "2021-10-08T23:45:59.200983Z",
          "shell.execute_reply": "2021-10-08T23:45:59.213890Z"
        },
        "trusted": true,
        "id": "coYXonV-POHy"
      },
      "source": [
        "train_data, test_data = data_pca.randomSplit([.7,.3],seed=1234)"
      ],
      "execution_count": null,
      "outputs": []
    },
    {
      "cell_type": "markdown",
      "metadata": {
        "id": "-RlZQ_oSPOHz"
      },
      "source": [
        "# Logistic Regression "
      ]
    },
    {
      "cell_type": "code",
      "metadata": {
        "execution": {
          "iopub.status.busy": "2021-10-08T23:45:59.216048Z",
          "iopub.execute_input": "2021-10-08T23:45:59.216290Z",
          "iopub.status.idle": "2021-10-08T23:46:00.008741Z",
          "shell.execute_reply.started": "2021-10-08T23:45:59.216265Z",
          "shell.execute_reply": "2021-10-08T23:46:00.007859Z"
        },
        "trusted": true,
        "colab": {
          "base_uri": "https://localhost:8080/"
        },
        "id": "HHHyx9oDPOHz",
        "outputId": "d8ab32ee-c18d-4c51-9f9e-ce88b98174dc"
      },
      "source": [
        "from pyspark.ml.classification import LogisticRegression\n",
        "from pyspark.ml.evaluation import MulticlassClassificationEvaluator\n",
        "\n",
        "# Initialize\n",
        "lr = LogisticRegression(labelCol=\"target\", featuresCol=\"pcaFeatures\", maxIter=10, regParam=0.3, elasticNetParam=0.8,family=\"binomial\")\n",
        "# Fit the data to the model\n",
        "lr_model = lr.fit(train_data)\n",
        "lr_predictions = lr_model.transform(test_data)\n",
        "# Calculate accuracy\n",
        "evaluator = MulticlassClassificationEvaluator(labelCol='target',predictionCol='prediction', metricName='accuracy')\n",
        "lr_accuracy = evaluator.evaluate(lr_predictions)\n",
        "print('Test Accuracy = ', lr_accuracy)"
      ],
      "execution_count": null,
      "outputs": [
        {
          "output_type": "stream",
          "name": "stdout",
          "text": [
            "Test Accuracy =  0.5454545454545454\n"
          ]
        }
      ]
    },
    {
      "cell_type": "markdown",
      "metadata": {
        "id": "dYtl3SPIPOH0"
      },
      "source": [
        "# Decision Tree"
      ]
    },
    {
      "cell_type": "code",
      "metadata": {
        "execution": {
          "iopub.status.busy": "2021-10-08T23:46:00.009824Z",
          "iopub.execute_input": "2021-10-08T23:46:00.010057Z",
          "iopub.status.idle": "2021-10-08T23:46:01.333337Z",
          "shell.execute_reply.started": "2021-10-08T23:46:00.010029Z",
          "shell.execute_reply": "2021-10-08T23:46:01.332254Z"
        },
        "trusted": true,
        "colab": {
          "base_uri": "https://localhost:8080/"
        },
        "id": "JFQDje-_POH0",
        "outputId": "4ce6990d-e5f4-4277-f9ed-91731260f479"
      },
      "source": [
        "from pyspark.ml.classification import DecisionTreeClassifier\n",
        "# Initialize\n",
        "dt = DecisionTreeClassifier(labelCol=\"target\", featuresCol=\"pcaFeatures\")\n",
        "# Fit the data to the model\n",
        "dt_model = dt.fit(train_data)\n",
        "dt_predictions = dt_model.transform(test_data)\n",
        "# Calculate accuracy\n",
        "evaluator = MulticlassClassificationEvaluator(labelCol='target',predictionCol='prediction', metricName='accuracy')\n",
        "dt_accuracy = evaluator.evaluate(dt_predictions)\n",
        "print('Test Accuracy = ', dt_accuracy)"
      ],
      "execution_count": null,
      "outputs": [
        {
          "output_type": "stream",
          "name": "stdout",
          "text": [
            "Test Accuracy =  0.8181818181818182\n"
          ]
        }
      ]
    },
    {
      "cell_type": "markdown",
      "metadata": {
        "id": "yf4qJWlOPOH1"
      },
      "source": [
        "# Random Forest"
      ]
    },
    {
      "cell_type": "code",
      "metadata": {
        "execution": {
          "iopub.status.busy": "2021-10-08T23:46:01.335035Z",
          "iopub.execute_input": "2021-10-08T23:46:01.335343Z",
          "iopub.status.idle": "2021-10-08T23:46:02.771520Z",
          "shell.execute_reply.started": "2021-10-08T23:46:01.335307Z",
          "shell.execute_reply": "2021-10-08T23:46:02.770637Z"
        },
        "trusted": true,
        "id": "G7gjzbNePOH1",
        "outputId": "c5c74e4f-a8f1-44af-fd81-f19ae4d307f6"
      },
      "source": [
        "from pyspark.ml.classification import RandomForestClassifier\n",
        "# Initialize\n",
        "rf = RandomForestClassifier(labelCol=\"target\", featuresCol=\"pcaFeatures\")\n",
        "# Fit the data to the model\n",
        "rf_model = rf.fit(train_data)\n",
        "rf_predictions = rf_model.transform(test_data)\n",
        "# Calculate accuracy\n",
        "evaluator = MulticlassClassificationEvaluator(labelCol='target',predictionCol='prediction', metricName='accuracy')\n",
        "rf_accuracy = evaluator.evaluate(rf_predictions)\n",
        "print('Test Accuracy = ', rf_accuracy)"
      ],
      "execution_count": null,
      "outputs": [
        {
          "name": "stdout",
          "text": "Test Accuracy =  0.8181818181818182\n",
          "output_type": "stream"
        }
      ]
    },
    {
      "cell_type": "markdown",
      "metadata": {
        "id": "H4Y2ypOzPOH2"
      },
      "source": [
        "# Gradient-boosted tree classifier"
      ]
    },
    {
      "cell_type": "code",
      "metadata": {
        "execution": {
          "iopub.status.busy": "2021-10-08T23:46:02.772666Z",
          "iopub.execute_input": "2021-10-08T23:46:02.772989Z",
          "iopub.status.idle": "2021-10-08T23:46:10.162865Z",
          "shell.execute_reply.started": "2021-10-08T23:46:02.772946Z",
          "shell.execute_reply": "2021-10-08T23:46:10.162013Z"
        },
        "trusted": true,
        "id": "Tv6fHG2aPOH2",
        "outputId": "9b746fd9-03d0-4a45-eb72-b2e2e225d49e"
      },
      "source": [
        "from pyspark.ml.classification import GBTClassifier\n",
        "# Initialize\n",
        "gbt = GBTClassifier(labelCol=\"target\", featuresCol=\"pcaFeatures\")\n",
        "# Fit the data to the model\n",
        "gbt_model = gbt.fit(train_data)\n",
        "gbt_predictions = gbt_model.transform(test_data)\n",
        "# Calculate accuracy\n",
        "evaluator = MulticlassClassificationEvaluator(labelCol='target',predictionCol='prediction', metricName='accuracy')\n",
        "gbt_accuracy = evaluator.evaluate(gbt_predictions)\n",
        "print('Test Accuracy = ', gbt_accuracy)"
      ],
      "execution_count": null,
      "outputs": [
        {
          "name": "stdout",
          "text": "Test Accuracy =  0.797979797979798\n",
          "output_type": "stream"
        }
      ]
    },
    {
      "cell_type": "markdown",
      "metadata": {
        "id": "2w9W0GgMPOH3"
      },
      "source": [
        "# Multilayer perceptron classifier"
      ]
    },
    {
      "cell_type": "code",
      "metadata": {
        "execution": {
          "iopub.status.busy": "2021-10-08T23:46:42.948358Z",
          "iopub.execute_input": "2021-10-08T23:46:42.948683Z",
          "iopub.status.idle": "2021-10-08T23:46:43.781635Z",
          "shell.execute_reply.started": "2021-10-08T23:46:42.948650Z",
          "shell.execute_reply": "2021-10-08T23:46:43.780758Z"
        },
        "trusted": true,
        "id": "1nJigZkOPOH3",
        "outputId": "78dab37c-462c-481d-e03d-2ba14a3cfaa3"
      },
      "source": [
        "from pyspark.ml.classification import MultilayerPerceptronClassifier\n",
        "# Initialize\n",
        "mpc = MultilayerPerceptronClassifier(labelCol=\"target\", featuresCol=\"pcaFeatures\", seed=1234, layers=[13,5,4,2])\n",
        "# Fit the data to the model\n",
        "mpc_model = mpc.fit(train_data)\n",
        "mpc_predictions = mpc_model.transform(test_data)\n",
        "# Calculate accuracy\n",
        "evaluator = MulticlassClassificationEvaluator(labelCol='target',predictionCol='prediction', metricName='accuracy')\n",
        "mpc_accuracy = evaluator.evaluate(mpc_predictions)\n",
        "print('Test Accuracy = ', mpc_accuracy)"
      ],
      "execution_count": null,
      "outputs": [
        {
          "name": "stdout",
          "text": "Test Accuracy =  0.5454545454545454\n",
          "output_type": "stream"
        }
      ]
    },
    {
      "cell_type": "markdown",
      "metadata": {
        "id": "lQm4ZfGtPOH4"
      },
      "source": [
        "# Naive Bayes"
      ]
    },
    {
      "cell_type": "code",
      "metadata": {
        "execution": {
          "iopub.status.busy": "2021-10-08T23:56:59.468268Z",
          "iopub.execute_input": "2021-10-08T23:56:59.468559Z",
          "iopub.status.idle": "2021-10-08T23:57:01.070921Z",
          "shell.execute_reply.started": "2021-10-08T23:56:59.468531Z",
          "shell.execute_reply": "2021-10-08T23:57:01.068672Z"
        },
        "trusted": true,
        "id": "H3Tf1TB6POH4",
        "outputId": "c2a4d4d8-dfe6-4758-83ca-124378d9fdf1"
      },
      "source": [
        "from pyspark.ml.classification import NaiveBayes\n",
        "# Initialize\n",
        "nb = NaiveBayes(labelCol=\"target\", featuresCol=\"pcaFeatures\",smoothing=1.0, modelType=\"gaussian\")\n",
        "# Fit the data to the model\n",
        "nb_model = nb.fit(train_data)\n",
        "nb_predictions = nb_model.transform(test_data)\n",
        "# Calculate accuracy\n",
        "evaluator = MulticlassClassificationEvaluator(labelCol='target',predictionCol='prediction', metricName='accuracy')\n",
        "nb_accuracy = evaluator.evaluate(nb_predictions)\n",
        "print('Test Accuracy = ', nb_accuracy)"
      ],
      "execution_count": null,
      "outputs": [
        {
          "name": "stderr",
          "text": "                                                                                \r",
          "output_type": "stream"
        },
        {
          "name": "stdout",
          "text": "Test Accuracy =  0.8484848484848485\n",
          "output_type": "stream"
        }
      ]
    }
  ]
}