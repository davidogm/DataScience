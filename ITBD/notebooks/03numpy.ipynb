{
  "nbformat": 4,
  "nbformat_minor": 0,
  "metadata": {
    "colab": {
      "provenance": [],
      "authorship_tag": "ABX9TyMPzqDog2BViFRqMzTujaw2",
      "include_colab_link": true
    },
    "kernelspec": {
      "name": "python3",
      "display_name": "Python 3"
    }
  },
  "cells": [
    {
      "cell_type": "markdown",
      "metadata": {
        "id": "view-in-github",
        "colab_type": "text"
      },
      "source": [
        "<a href=\"https://colab.research.google.com/github/davidogm/DataScience/blob/main/ITBD/notebooks/03numpy.ipynb\" target=\"_parent\"><img src=\"https://colab.research.google.com/assets/colab-badge.svg\" alt=\"Open In Colab\"/></a>"
      ]
    },
    {
      "cell_type": "markdown",
      "metadata": {
        "id": "L-K6oUUpCszc"
      },
      "source": [
        "**Numpy esencial**\n",
        "\n",
        "Hay que tener en cuenta que NumPy es una biblioteca para el lenguaje de programación Python que da soporte para crear vectores y matrices grandes multidimensionales, junto con una gran colección de funciones matemáticas de alto nivel para operar con ellas."
      ]
    },
    {
      "cell_type": "markdown",
      "metadata": {
        "id": "PimLIXEkF7bK"
      },
      "source": [
        "The fundamental package for scientific computing with Python\n",
        "\n",
        "https://numpy.org/"
      ]
    },
    {
      "cell_type": "markdown",
      "metadata": {
        "id": "T3cDnap7Cu8G"
      },
      "source": [
        "La convención para importar NumPy siempre es esta:\n",
        "\n"
      ]
    },
    {
      "cell_type": "code",
      "metadata": {
        "id": "z8BMmA6PC1vJ"
      },
      "source": [
        "import numpy as np"
      ],
      "execution_count": null,
      "outputs": []
    },
    {
      "cell_type": "code",
      "metadata": {
        "id": "lb5b2qw9Db-i",
        "colab": {
          "base_uri": "https://localhost:8080/"
        },
        "outputId": "25133271-d0f8-4a54-ea17-5f0f7dfdf54d"
      },
      "source": [
        "#Y de esta manera accedemos a la función norm, que calcula la norma (o módulo) de un array:\n",
        "\n",
        "np.linalg.norm\n",
        "\n",
        "# cuando lo ejecutamos vemos que ya está disponible\n"
      ],
      "execution_count": null,
      "outputs": [
        {
          "output_type": "execute_result",
          "data": {
            "text/plain": [
              "<function numpy.linalg.norm>"
            ]
          },
          "metadata": {},
          "execution_count": 2
        }
      ]
    },
    {
      "cell_type": "markdown",
      "metadata": {
        "id": "9uPXTIDlEgQY"
      },
      "source": [
        "hay tantas funciones que además de usar el . podemos utilizar:"
      ]
    },
    {
      "cell_type": "code",
      "metadata": {
        "id": "jiwjmfy3EJgL",
        "colab": {
          "base_uri": "https://localhost:8080/"
        },
        "outputId": "b3002c00-6c7b-4392-b42a-9c865d10e9fb"
      },
      "source": [
        "np.lookfor(\"solve\")"
      ],
      "execution_count": null,
      "outputs": [
        {
          "output_type": "stream",
          "name": "stdout",
          "text": [
            "Search results for 'solve'\n",
            "--------------------------\n",
            "numpy.linalg.solve\n",
            "    Solve a linear matrix equation, or system of linear scalar equations.\n",
            "numpy.linalg.lstsq\n",
            "    Return the least-squares solution to a linear matrix equation.\n",
            "numpy.linalg.tensorsolve\n",
            "    Solve the tensor equation ``a x = b`` for x.\n",
            "numpy.nditer.close\n",
            "    close()\n",
            "numpy.linalg._umath_linalg.solve\n",
            "    solve the system a x = b, on the last two dimensions, broadcast to the rest.\n",
            "numpy.linalg._umath_linalg.solve1\n",
            "    solve the system a x = b, for b being a vector, broadcast in the outer dimensions.\n",
            "numpy.distutils.misc_util.njoin\n",
            "    Join two or more pathname components +\n",
            "numpy.distutils.misc_util.minrelpath\n",
            "    Resolve `..` and '.' from path.\n",
            "numpy.distutils.system_info.UmfpackNotFoundError\n",
            "    UMFPACK sparse solver (https://www.cise.ufl.edu/research/sparse/umfpack/)\n",
            "numpy.shares_memory\n",
            "    Determine if two arrays share memory.\n",
            "numpy.linalg.eig\n",
            "    Compute the eigenvalues and right eigenvectors of a square array.\n",
            "numpy.linalg.eigh\n",
            "    Return the eigenvalues and eigenvectors of a complex Hermitian\n",
            "numpy.linalg.pinv\n",
            "    Compute the (Moore-Penrose) pseudo-inverse of a matrix.\n",
            "numpy.linalg.cholesky\n",
            "    Cholesky decomposition.\n",
            "numpy.linalg.tensorinv\n",
            "    Compute the 'inverse' of an N-dimensional array.\n",
            "numpy.chararray.setflags\n",
            "    Set array flags WRITEABLE, ALIGNED, (WRITEBACKIFCOPY and UPDATEIFCOPY),\n",
            "numpy.linalg.LinAlgError\n",
            "    Generic Python-exception-derived object raised by linalg functions.\n",
            "numpy.core._internal.recursive\n",
            "    A decorator class for recursive nested functions.\n",
            "numpy.polynomial.Hermite._fit\n",
            "    Least squares fit of Hermite series to data.\n",
            "numpy.polynomial.HermiteE._fit\n",
            "    Least squares fit of Hermite series to data.\n",
            "numpy.polynomial.Laguerre._fit\n",
            "    Least squares fit of Laguerre series to data.\n",
            "numpy.polynomial.Legendre._fit\n",
            "    Least squares fit of Legendre series to data.\n",
            "numpy.polynomial.Chebyshev._fit\n",
            "    Least squares fit of Chebyshev series to data.\n",
            "numpy.polynomial.Polynomial._fit\n",
            "    Least-squares fit of a polynomial to data.\n",
            "numpy.core._multiarray_umath.shares_memory\n",
            "    Determine if two arrays share memory."
          ]
        }
      ]
    },
    {
      "cell_type": "code",
      "metadata": {
        "id": "wbREwaneEQJZ"
      },
      "source": [
        "?np\n",
        "# ayuda en línea"
      ],
      "execution_count": null,
      "outputs": []
    },
    {
      "cell_type": "code",
      "metadata": {
        "id": "fylnPFdxFXDh",
        "colab": {
          "base_uri": "https://localhost:8080/"
        },
        "outputId": "01564837-1809-4465-9af1-e1aee6c52769"
      },
      "source": [
        "np.e"
      ],
      "execution_count": null,
      "outputs": [
        {
          "output_type": "execute_result",
          "data": {
            "text/plain": [
              "2.718281828459045"
            ]
          },
          "metadata": {},
          "execution_count": 5
        }
      ]
    },
    {
      "cell_type": "code",
      "metadata": {
        "id": "jvN0GFRvFXUB",
        "colab": {
          "base_uri": "https://localhost:8080/"
        },
        "outputId": "f57586dd-d27b-4b06-a5e5-04e9c5e3c0af"
      },
      "source": [
        "np.pi"
      ],
      "execution_count": null,
      "outputs": [
        {
          "output_type": "execute_result",
          "data": {
            "text/plain": [
              "3.141592653589793"
            ]
          },
          "metadata": {},
          "execution_count": 6
        }
      ]
    },
    {
      "cell_type": "code",
      "metadata": {
        "id": "DXzvTmlSFV-5",
        "colab": {
          "base_uri": "https://localhost:8080/"
        },
        "outputId": "36e18a30-e4a9-4995-e664-16fea8051ed3"
      },
      "source": [
        "np.log(2)"
      ],
      "execution_count": null,
      "outputs": [
        {
          "output_type": "execute_result",
          "data": {
            "text/plain": [
              "0.6931471805599453"
            ]
          },
          "metadata": {},
          "execution_count": 7
        }
      ]
    },
    {
      "cell_type": "markdown",
      "metadata": {
        "id": "k9MfalgsFfNS"
      },
      "source": [
        "seguramente os preguntaréis que para qué tanta función matemática\n",
        "\n",
        "hay que conocer este paquete siempre que se trabaja en python aunque no pensemos en lenguaje científico\n"
      ]
    },
    {
      "cell_type": "markdown",
      "metadata": {
        "id": "E6QN1EcHGXUq"
      },
      "source": [
        "Un array de NumPy es una colección de N elementos, como una secuencia de Python (por ejemplo, una lista). Para crear un array, la forma más directa es pasarle una secuencia a la función np.array.\n",
        "\n"
      ]
    },
    {
      "cell_type": "code",
      "metadata": {
        "id": "Fp5WkE-zFc_B",
        "colab": {
          "base_uri": "https://localhost:8080/"
        },
        "outputId": "9a8a3db6-432c-490c-9ca0-c6a92cdc14fb"
      },
      "source": [
        "np.array([1, 2, 3])"
      ],
      "execution_count": null,
      "outputs": [
        {
          "output_type": "execute_result",
          "data": {
            "text/plain": [
              "array([1, 2, 3])"
            ]
          },
          "metadata": {},
          "execution_count": 8
        }
      ]
    },
    {
      "cell_type": "markdown",
      "metadata": {
        "id": "6Mcz8a1fGrNz"
      },
      "source": [
        "Es importante tener en cuenta que los arrays de NumPy son homogéneos, es decir, decir sus elementos son del mismo tipo. Podemos ver que si creamos un array con con objetos de tipos diferentes, se convertirán todos al tipo con más información. \n",
        "Para conocer al tipo del array, podemos usar el atributo dtype.\n",
        "\n"
      ]
    },
    {
      "cell_type": "code",
      "metadata": {
        "id": "JupHofZ-GQtq",
        "colab": {
          "base_uri": "https://localhost:8080/"
        },
        "outputId": "a63463c6-fbc3-4f0c-def5-060650613004"
      },
      "source": [
        "a = np.array([1, 2, 3.0])\n",
        "print(a.dtype)"
      ],
      "execution_count": null,
      "outputs": [
        {
          "output_type": "stream",
          "name": "stdout",
          "text": [
            "float64\n"
          ]
        }
      ]
    },
    {
      "cell_type": "code",
      "metadata": {
        "id": "wcTxiPc_GQeL",
        "colab": {
          "base_uri": "https://localhost:8080/"
        },
        "outputId": "531a908c-5130-41aa-cb76-465e497d78a2"
      },
      "source": [
        "# podemos forzar el tipo del array\n",
        "np.array([1, 2, 3], dtype=float)"
      ],
      "execution_count": null,
      "outputs": [
        {
          "output_type": "execute_result",
          "data": {
            "text/plain": [
              "array([1., 2., 3.])"
            ]
          },
          "metadata": {},
          "execution_count": 10
        }
      ]
    },
    {
      "cell_type": "code",
      "metadata": {
        "id": "6iGKEUwGHK68",
        "colab": {
          "base_uri": "https://localhost:8080/"
        },
        "outputId": "d8527655-9a8e-4441-d8b6-ac2864574067"
      },
      "source": [
        "# convertir el array a a entero\n",
        "a.astype(int)"
      ],
      "execution_count": null,
      "outputs": [
        {
          "output_type": "execute_result",
          "data": {
            "text/plain": [
              "array([1, 2, 3])"
            ]
          },
          "metadata": {},
          "execution_count": 11
        }
      ]
    },
    {
      "cell_type": "markdown",
      "metadata": {
        "id": "adBtXV4eH-yh"
      },
      "source": [
        "**Razones de eficiencia**"
      ]
    },
    {
      "cell_type": "code",
      "metadata": {
        "id": "suiEB1IkIT8A"
      },
      "source": [
        "N, M = 100, 100\n",
        "a = np.empty(10000).reshape(N, M)\n",
        "b = np.random.rand(10000).reshape(N, M)\n",
        "c = np.random.rand(10000).reshape(N, M)"
      ],
      "execution_count": null,
      "outputs": []
    },
    {
      "cell_type": "code",
      "metadata": {
        "id": "xNCB0brgIUXK",
        "colab": {
          "base_uri": "https://localhost:8080/"
        },
        "outputId": "c3710706-7752-457a-eb23-f7955d7c46f1"
      },
      "source": [
        "%%timeit\n",
        "for i in range(N):\n",
        "    for j in range(M):\n",
        "        a[i, j] = b[i, j] + c[i, j]\n"
      ],
      "execution_count": null,
      "outputs": [
        {
          "output_type": "stream",
          "name": "stdout",
          "text": [
            "100 loops, best of 5: 6.88 ms per loop\n"
          ]
        }
      ]
    },
    {
      "cell_type": "code",
      "metadata": {
        "id": "7Y5RVYpwIUNa",
        "colab": {
          "base_uri": "https://localhost:8080/"
        },
        "outputId": "8cf20686-9c56-405c-b403-3d093821dab5"
      },
      "source": [
        "%%timeit\n",
        "a = b + c"
      ],
      "execution_count": null,
      "outputs": [
        {
          "output_type": "stream",
          "name": "stdout",
          "text": [
            "The slowest run took 86.18 times longer than the fastest. This could mean that an intermediate result is being cached.\n",
            "100000 loops, best of 5: 5.02 µs per loop\n"
          ]
        }
      ]
    },
    {
      "cell_type": "markdown",
      "metadata": {
        "id": "r9Q-nt8CLOsr"
      },
      "source": [
        "¡1000 veces más rápido! Se hace fundamental vectorizar las operaciones y aprovechar al máximo la velocidad de NumPy.\n",
        "\n"
      ]
    },
    {
      "cell_type": "markdown",
      "metadata": {
        "id": "eWXeJel9LVnJ"
      },
      "source": [
        "Indexación de arrays"
      ]
    },
    {
      "cell_type": "code",
      "metadata": {
        "id": "_ovk0gRgLWvx",
        "colab": {
          "base_uri": "https://localhost:8080/"
        },
        "outputId": "c47eb0f8-ed76-4bc4-9ace-881ccbb2550f"
      },
      "source": [
        "a = np.array([\n",
        "    [1, 2, 3],\n",
        "    [4, 5, 6]\n",
        "])\n",
        "a"
      ],
      "execution_count": null,
      "outputs": [
        {
          "output_type": "execute_result",
          "data": {
            "text/plain": [
              "array([[1, 2, 3],\n",
              "       [4, 5, 6]])"
            ]
          },
          "metadata": {},
          "execution_count": 18
        }
      ]
    },
    {
      "cell_type": "code",
      "metadata": {
        "id": "L9Tps5KdLemb",
        "colab": {
          "base_uri": "https://localhost:8080/"
        },
        "outputId": "95a6758f-1f14-4351-f61b-2cc88a266bb5"
      },
      "source": [
        "a[1,0]"
      ],
      "execution_count": null,
      "outputs": [
        {
          "output_type": "execute_result",
          "data": {
            "text/plain": [
              "4"
            ]
          },
          "metadata": {
            "tags": []
          },
          "execution_count": 48
        }
      ]
    },
    {
      "cell_type": "code",
      "metadata": {
        "id": "-AtwjCZmLebc",
        "colab": {
          "base_uri": "https://localhost:8080/"
        },
        "outputId": "836bae6a-a3c0-4ed6-baca-d69c72fc6736"
      },
      "source": [
        "# secciones del array o subrangos\n",
        "# empieza en 0 los índices y además es exclusivo, eso suele liar\n",
        "# filas, columnas\n",
        "a[:,::2]\n",
        "\n",
        "# : es para abreviar, desde el principio hasta el final para\n",
        "# indexar una matriz por columnas\n",
        "# esta es una herramienta potente que al principio puede \n",
        "# parecer difícil de entender"
      ],
      "execution_count": null,
      "outputs": [
        {
          "output_type": "execute_result",
          "data": {
            "text/plain": [
              "array([[1, 3],\n",
              "       [4, 6]])"
            ]
          },
          "metadata": {},
          "execution_count": 19
        }
      ]
    },
    {
      "cell_type": "code",
      "metadata": {
        "id": "KWuHepuILwcm",
        "colab": {
          "base_uri": "https://localhost:8080/"
        },
        "outputId": "4d2c96d0-b969-4662-84c7-6df4fe0212b6"
      },
      "source": [
        "# equivalente pero sin omisión, el 2 indica los pares\n",
        "a[0:3:2,0:3:]\n"
      ],
      "execution_count": null,
      "outputs": [
        {
          "output_type": "execute_result",
          "data": {
            "text/plain": [
              "array([[1, 2, 3]])"
            ]
          },
          "metadata": {},
          "execution_count": 20
        }
      ]
    },
    {
      "cell_type": "code",
      "metadata": {
        "id": "JSM-cZOdLwVa"
      },
      "source": [],
      "execution_count": null,
      "outputs": []
    },
    {
      "cell_type": "markdown",
      "metadata": {
        "id": "S7X4GMzjFVLz"
      },
      "source": [
        "\n",
        "funciones para crear arrays\n",
        "\n"
      ]
    },
    {
      "cell_type": "code",
      "metadata": {
        "id": "yZBE-qne45ub",
        "colab": {
          "base_uri": "https://localhost:8080/"
        },
        "outputId": "d0ae8c72-7581-4eed-d064-1900f8c1ced4"
      },
      "source": [
        "import numpy as np\n",
        "\n",
        "#utilizamos para inicializar\n",
        "a = np.zeros(3)\n",
        "# arrays of float, por defecto\n",
        "a"
      ],
      "execution_count": null,
      "outputs": [
        {
          "output_type": "execute_result",
          "data": {
            "text/plain": [
              "array([0., 0., 0.])"
            ]
          },
          "metadata": {},
          "execution_count": 21
        }
      ]
    },
    {
      "cell_type": "code",
      "metadata": {
        "id": "MHfj0DHtOoo0",
        "colab": {
          "base_uri": "https://localhost:8080/"
        },
        "outputId": "2495716c-c990-481e-ecfc-e1b5f9261f78"
      },
      "source": [
        "np.zeros((3,4))\n",
        "# ojo, dos paréntesis si queremos dos dimensiones"
      ],
      "execution_count": null,
      "outputs": [
        {
          "output_type": "execute_result",
          "data": {
            "text/plain": [
              "array([[0., 0., 0., 0.],\n",
              "       [0., 0., 0., 0.],\n",
              "       [0., 0., 0., 0.]])"
            ]
          },
          "metadata": {},
          "execution_count": 22
        }
      ]
    },
    {
      "cell_type": "code",
      "metadata": {
        "id": "Y2ndMzggO85t",
        "colab": {
          "base_uri": "https://localhost:8080/"
        },
        "outputId": "6e7c2f1a-44e4-4308-c358-e22505981af5"
      },
      "source": [
        "#matriz identidad\n",
        "\n",
        "np.identity(5)\n",
        "\n",
        "#si la quiero de enteros\n",
        "i=np.identity(5).astype(int)\n",
        "\n",
        "i\n"
      ],
      "execution_count": null,
      "outputs": [
        {
          "output_type": "execute_result",
          "data": {
            "text/plain": [
              "array([[1, 0, 0, 0, 0],\n",
              "       [0, 1, 0, 0, 0],\n",
              "       [0, 0, 1, 0, 0],\n",
              "       [0, 0, 0, 1, 0],\n",
              "       [0, 0, 0, 0, 1]])"
            ]
          },
          "metadata": {},
          "execution_count": 23
        }
      ]
    },
    {
      "cell_type": "code",
      "metadata": {
        "id": "bDGooMmxPMST",
        "colab": {
          "base_uri": "https://localhost:8080/"
        },
        "outputId": "fed1a2cf-e620-4072-f466-c4fbfbf09f4b"
      },
      "source": [
        "i.shape"
      ],
      "execution_count": null,
      "outputs": [
        {
          "output_type": "execute_result",
          "data": {
            "text/plain": [
              "(5, 5)"
            ]
          },
          "metadata": {},
          "execution_count": 24
        }
      ]
    },
    {
      "cell_type": "code",
      "metadata": {
        "id": "qjIDAUea5LM5",
        "colab": {
          "base_uri": "https://localhost:8080/"
        },
        "outputId": "6de880ce-b1c0-41bb-a7c0-90c85bd19b6b"
      },
      "source": [
        "# creamos un array\n",
        "z = np.linspace(1, 10, 5)\n",
        "\n",
        "# lo visualizamos\n",
        "print(z)\n",
        "\n",
        "# vemos su tipo\n",
        "#type(z[1])\n",
        "\n",
        "# y accedemos a los elementos\n",
        "z[2]"
      ],
      "execution_count": null,
      "outputs": [
        {
          "output_type": "stream",
          "name": "stdout",
          "text": [
            "[ 1.    3.25  5.5   7.75 10.  ]\n"
          ]
        },
        {
          "output_type": "execute_result",
          "data": {
            "text/plain": [
              "5.5"
            ]
          },
          "metadata": {},
          "execution_count": 26
        }
      ]
    },
    {
      "cell_type": "markdown",
      "metadata": {
        "id": "21KciHgt9oRc"
      },
      "source": [
        ". salen las funciones\n",
        "? sale información"
      ]
    },
    {
      "cell_type": "code",
      "metadata": {
        "id": "N6QnsZzp-wNj"
      },
      "source": [
        "?z.shape"
      ],
      "execution_count": null,
      "outputs": []
    },
    {
      "cell_type": "code",
      "metadata": {
        "id": "pGsnj4TS53xy",
        "colab": {
          "base_uri": "https://localhost:8080/"
        },
        "outputId": "0ad6f141-c252-490c-8606-78a3a8b56d37"
      },
      "source": [
        "np.random.seed(0)\n",
        "# probar los argumentos poniendo ayudas y también viendo valores inclusivos y exclusivos\n",
        "z1 = np.random.randint(3, 6, size=5)\n",
        "z1\n"
      ],
      "execution_count": null,
      "outputs": [
        {
          "output_type": "execute_result",
          "data": {
            "text/plain": [
              "array([3, 4, 3, 4, 4])"
            ]
          },
          "metadata": {},
          "execution_count": 28
        }
      ]
    },
    {
      "cell_type": "code",
      "metadata": {
        "id": "AGRt1RgU_qY7",
        "colab": {
          "base_uri": "https://localhost:8080/"
        },
        "outputId": "8a4e0e0e-c843-49fc-a533-540259e65443"
      },
      "source": [
        "z1[0:4]"
      ],
      "execution_count": null,
      "outputs": [
        {
          "output_type": "execute_result",
          "data": {
            "text/plain": [
              "array([3, 4, 3, 4])"
            ]
          },
          "metadata": {},
          "execution_count": 29
        }
      ]
    },
    {
      "cell_type": "code",
      "metadata": {
        "id": "oeL9hBSH_2ob",
        "colab": {
          "base_uri": "https://localhost:8080/"
        },
        "outputId": "ae2f3658-e21b-4087-8dac-e59ae703c650"
      },
      "source": [
        "z1[-1]"
      ],
      "execution_count": null,
      "outputs": [
        {
          "output_type": "execute_result",
          "data": {
            "text/plain": [
              "4"
            ]
          },
          "metadata": {},
          "execution_count": 30
        }
      ]
    }
  ]
}