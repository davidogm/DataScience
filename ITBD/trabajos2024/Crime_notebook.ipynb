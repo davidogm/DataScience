{
  "cells": [
    {
      "cell_type": "markdown",
      "metadata": {
        "id": "view-in-github",
        "colab_type": "text"
      },
      "source": [
        "<a href=\"https://colab.research.google.com/github/davidogm/DataScience/blob/main/ITBD/trabajos2024/Crime_notebook.ipynb\" target=\"_parent\"><img src=\"https://colab.research.google.com/assets/colab-badge.svg\" alt=\"Open In Colab\"/></a>"
      ]
    },
    {
      "cell_type": "markdown",
      "metadata": {
        "id": "MhkEzu00Y9KF"
      },
      "source": [
        "# Elección del Dataset\n",
        "\n",
        "El dataset elegido para esta práctica ha sido el de *[Crime Data Analysis](!https://www.kaggle.com/datasets/candacegostinski/crime-data-analysis?select=Crime_Data_from_2020_to_Present.csv)* de Kaggle, ya que este cuenta con casi un millón de registros (desde 2020 hasta Abril de 2024) y 28 columnas con una gran diversidad de campos distintos.\n",
        "\n",
        "---"
      ]
    },
    {
      "cell_type": "markdown",
      "metadata": {
        "id": "rrhKsvCxY9KG"
      },
      "source": [
        "# 📦 Paquetes Necesarios\n",
        "\n",
        "Para realizar la actividad se usarán diversos paquetes que facilitarán el manejo de los datos y el desarrollo del proyecto.\n",
        "\n",
        "## 1. 📁 **virtualenv**\n",
        "\n",
        "El paquete `virtualenv` permite crear un entorno dentro de nuestro proyecto de forma aislada, permitiendo usar otras versiones de Python y paquetes sin afectar el entorno global.\n",
        "\n",
        "### Instalación:\n",
        "\n",
        "```bash\n",
        "pip install virtualenv\n",
        "```\n",
        "\n",
        "### Activación:\n",
        "- Windows:\n",
        "```bash\n",
        "virtualenv env\n",
        "env\\Scripts\\activate\n",
        "```\n",
        "\n",
        "- Linux:\n",
        "```bash\n",
        "virtualenv env\n",
        "source env/bin/activate\n",
        "```\n",
        "\n",
        "## 2. 🐼 Pandas\n",
        "\n",
        "## 3. 🔍 Kaggle API\n",
        "Esta API permite descargar datasets de Kaggle de forma sencilla, ya sea mediante CLI o desde código en Python. Para evitar configuraciones adicionales con tokens y accesos a la API, la descarga se realizará mediante CLI.\n",
        "\n",
        "```bash\n",
        "kaggle datasets download -d candacegostinski/crime-data-analysis --unzip\n",
        "```\n",
        "\n",
        "## 4. 🔥 PySpark\n",
        "\n",
        "## 5. 📊 Matplotlib\n",
        "\n",
        "## 6. 📈 Seaborn\n",
        "\n",
        "## 7. 📍 Plotly\n",
        "`Plotly` permite crear gráficos interactivos. Para su correcto funcionamiento en notebooks, es necesario instalar nbformat.\n",
        "\n",
        "## 8. 🔧 re\n",
        "\n",
        "## 9. 🕒 time\n",
        "\n",
        "## 10. ➗ numpy\n",
        "\n",
        "---\n",
        "\n",
        "# Carga del dataset\n",
        "\n",
        "Para realizar una análisis más exhaustivo durante la practica, el dataset será cargado de diversas formas con el fin de analizar también los tiempos de carga:\n",
        "\n",
        "1. Pandas\n",
        "\n",
        "    1.1 De forma local\n",
        "\n",
        "    1.2. Kaggle API\n",
        "\n",
        "    1.3. Google Drive\n",
        "    \n",
        "3. PySpark\n",
        "4. Dask\n"
      ]
    },
    {
      "cell_type": "markdown",
      "metadata": {
        "id": "AB86euF7Y9KH"
      },
      "source": [
        "### Imports"
      ]
    },
    {
      "cell_type": "code",
      "execution_count": null,
      "metadata": {
        "colab": {
          "base_uri": "https://localhost:8080/"
        },
        "id": "ogJiyF8SY9KH",
        "outputId": "cd889eea-88c5-41df-d8fc-6d7bf8ae557d"
      },
      "outputs": [
        {
          "output_type": "stream",
          "name": "stderr",
          "text": [
            "/usr/local/lib/python3.10/dist-packages/dask/dataframe/__init__.py:42: FutureWarning: \n",
            "Dask dataframe query planning is disabled because dask-expr is not installed.\n",
            "\n",
            "You can install it with `pip install dask[dataframe]` or `conda install dask`.\n",
            "This will raise in a future version.\n",
            "\n",
            "  warnings.warn(msg, FutureWarning)\n"
          ]
        },
        {
          "output_type": "stream",
          "name": "stdout",
          "text": [
            "Mounted at /content/drive\n"
          ]
        }
      ],
      "source": [
        "import time\n",
        "import pandas as pd\n",
        "import dask.dataframe as dd\n",
        "import re\n",
        "import os\n",
        "import matplotlib.pyplot as plt\n",
        "import numpy as np\n",
        "import seaborn as sns\n",
        "from datetime import datetime\n",
        "import matplotlib.patches as mpatches\n",
        "import matplotlib.cm as cm\n",
        "import plotly.express as px\n",
        "import plotly.graph_objects as go\n",
        "from plotly.subplots import make_subplots\n",
        "from datetime import datetime\n",
        "from matplotlib import cm\n",
        "import folium\n",
        "from folium.plugins import HeatMap\n",
        "import geopandas as gpd\n",
        "\n",
        "from google.colab import drive\n",
        "drive.mount('/content/drive')\n",
        "\n",
        "df_path = '/content/drive/MyDrive/ITBD/Crime_Data_from_2020_to_Present.csv'\n",
        "geojson_path = '/content/drive/MyDrive/ITBD/los-angeles.geojson'"
      ]
    },
    {
      "cell_type": "markdown",
      "metadata": {
        "id": "eh7FC_wnY9KI"
      },
      "source": [
        "## **1. Pandas**"
      ]
    },
    {
      "cell_type": "code",
      "execution_count": null,
      "metadata": {
        "colab": {
          "base_uri": "https://localhost:8080/"
        },
        "id": "Klq_Ll2BY9KI",
        "outputId": "87ffab2d-b783-4f38-c1be-3a2bf6e104f6"
      },
      "outputs": [
        {
          "output_type": "stream",
          "name": "stdout",
          "text": [
            "CPU times: user 5.65 s, sys: 1.1 s, total: 6.75 s\n",
            "Wall time: 9.34 s\n"
          ]
        }
      ],
      "source": [
        "%%time\n",
        "## De forma local\n",
        "\n",
        "start_time_to_load_from_pandas = time.time()\n",
        "df_pd_local = pd.read_csv(df_path)\n",
        "end_time_to_load_from_pandas = time.time()"
      ]
    },
    {
      "cell_type": "code",
      "execution_count": null,
      "metadata": {
        "colab": {
          "base_uri": "https://localhost:8080/"
        },
        "id": "zGfrXVQ-Y9KI",
        "outputId": "4810bd64-d715-472e-9522-077087e80073"
      },
      "outputs": [
        {
          "output_type": "stream",
          "name": "stdout",
          "text": [
            "CPU times: user 5.16 s, sys: 879 ms, total: 6.04 s\n",
            "Wall time: 6.49 s\n"
          ]
        }
      ],
      "source": [
        "%%time\n",
        "## Usando la API de Kaggle\n",
        "\n",
        "start_time_to_load_from_kaggle = time.time()\n",
        "# kaggle datasets download -d candacegostinski/crime-data-analysis --unzip\n",
        "df_pd_kaggle = pd.read_csv(df_path)\n",
        "end_time_to_load_from_kaggle = time.time()"
      ]
    },
    {
      "cell_type": "markdown",
      "metadata": {
        "id": "-YtQMGBOY9KI"
      },
      "source": [
        "## **2. PySpark**"
      ]
    },
    {
      "cell_type": "code",
      "execution_count": null,
      "metadata": {
        "colab": {
          "base_uri": "https://localhost:8080/"
        },
        "id": "VdoDPYDrY9KJ",
        "outputId": "a2db9b2b-0d5c-41e7-c878-871fcad340be"
      },
      "outputs": [
        {
          "output_type": "stream",
          "name": "stdout",
          "text": [
            "CPU times: user 4 µs, sys: 1e+03 ns, total: 5 µs\n",
            "Wall time: 7.87 µs\n"
          ]
        }
      ],
      "source": [
        "%%time\n",
        "\n",
        "# start_time_to_load_from_pyspark = time.time()\n",
        "# data = spark.read.csv('Crime_Data_from_2020_to_Present.csv', header = True)\n",
        "# end_time_to_load_from_pyspark = time.time()"
      ]
    },
    {
      "cell_type": "markdown",
      "metadata": {
        "id": "OxDi2aldY9KJ"
      },
      "source": [
        "## **3. Dask**"
      ]
    },
    {
      "cell_type": "code",
      "execution_count": null,
      "metadata": {
        "colab": {
          "base_uri": "https://localhost:8080/"
        },
        "id": "5qA6uv9bY9KJ",
        "outputId": "468f7c98-cda7-4895-b866-3b6607fb36d4"
      },
      "outputs": [
        {
          "output_type": "stream",
          "name": "stdout",
          "text": [
            "CPU times: user 63.7 ms, sys: 155 ms, total: 219 ms\n",
            "Wall time: 352 ms\n"
          ]
        }
      ],
      "source": [
        "%%time\n",
        "\n",
        "start_time_to_load_from_dask = time.time()\n",
        "df_dask = dd.read_csv(df_path, sample=25000000)\n",
        "end_time_to_load_from_dask = time.time()"
      ]
    },
    {
      "cell_type": "code",
      "execution_count": null,
      "metadata": {
        "id": "un3Osq7IY9KJ"
      },
      "outputs": [],
      "source": [
        "total_time_from_pandas = end_time_to_load_from_pandas - start_time_to_load_from_pandas\n",
        "total_time_from_kaggle = end_time_to_load_from_kaggle - start_time_to_load_from_kaggle\n",
        "# total_time_from_spark = end_time_to_load_from_spark - start_time_time_load_from_dask\n",
        "total_time_from_dask = end_time_to_load_from_dask - start_time_to_load_from_dask"
      ]
    },
    {
      "cell_type": "code",
      "execution_count": null,
      "metadata": {
        "colab": {
          "base_uri": "https://localhost:8080/"
        },
        "id": "g597B7g2Y9KJ",
        "outputId": "2fd0aca9-2a9c-4eb2-d6da-a9d66e9d1e4a"
      },
      "outputs": [
        {
          "output_type": "stream",
          "name": "stdout",
          "text": [
            "  Library      Time\n",
            "0  Pandas  9.340553\n",
            "1  Kaggle  6.487647\n",
            "2    Dask  0.351701\n"
          ]
        }
      ],
      "source": [
        "time_list = [\n",
        "    {'Library': 'Pandas', 'Time': total_time_from_pandas},\n",
        "    {'Library': 'Kaggle','Time': total_time_from_kaggle},\n",
        "    {'Library': 'Dask', 'Time': total_time_from_dask}\n",
        "]\n",
        "\n",
        "df = pd.DataFrame(columns=['Library', 'Time'], data=time_list)\n",
        "print(df)"
      ]
    },
    {
      "cell_type": "markdown",
      "metadata": {
        "id": "EjNY6akUY9KK"
      },
      "source": [
        "---\n",
        "\n",
        "# Descripción de los datos\n",
        "\n",
        "Para simplificar nombres de variables vamos a crear una nueva llamda *df*."
      ]
    },
    {
      "cell_type": "code",
      "execution_count": null,
      "metadata": {
        "id": "Q0Nq-no1Y9KK"
      },
      "outputs": [],
      "source": [
        "df = pd.read_csv(df_path)"
      ]
    },
    {
      "cell_type": "code",
      "execution_count": null,
      "metadata": {
        "colab": {
          "base_uri": "https://localhost:8080/",
          "height": 141
        },
        "id": "uodQnkMPY9KK",
        "outputId": "54ec3f4c-b3d0-4f83-8fb2-b73ccfb3632c"
      },
      "outputs": [
        {
          "output_type": "execute_result",
          "data": {
            "text/plain": [
              "       DR_NO               Date Rptd                DATE OCC  TIME OCC  AREA  \\\n",
              "0  190326475  03/01/2020 12:00:00 AM  03/01/2020 12:00:00 AM      2130     7   \n",
              "1  200106753  02/09/2020 12:00:00 AM  02/08/2020 12:00:00 AM      1800     1   \n",
              "\n",
              "  AREA NAME  Rpt Dist No  Part 1-2  Crm Cd            Crm Cd Desc  ... Status  \\\n",
              "0  Wilshire          784         1     510       VEHICLE - STOLEN  ...     AA   \n",
              "1   Central          182         1     330  BURGLARY FROM VEHICLE  ...     IC   \n",
              "\n",
              "    Status Desc Crm Cd 1 Crm Cd 2  Crm Cd 3 Crm Cd 4  \\\n",
              "0  Adult Arrest    510.0    998.0       NaN      NaN   \n",
              "1   Invest Cont    330.0    998.0       NaN      NaN   \n",
              "\n",
              "                                  LOCATION Cross Street      LAT       LON  \n",
              "0  1900 S  LONGWOOD                     AV          NaN  34.0375 -118.3506  \n",
              "1  1000 S  FLOWER                       ST          NaN  34.0444 -118.2628  \n",
              "\n",
              "[2 rows x 28 columns]"
            ],
            "text/html": [
              "\n",
              "  <div id=\"df-625e8761-9807-458e-bba1-fafce6923edb\" class=\"colab-df-container\">\n",
              "    <div>\n",
              "<style scoped>\n",
              "    .dataframe tbody tr th:only-of-type {\n",
              "        vertical-align: middle;\n",
              "    }\n",
              "\n",
              "    .dataframe tbody tr th {\n",
              "        vertical-align: top;\n",
              "    }\n",
              "\n",
              "    .dataframe thead th {\n",
              "        text-align: right;\n",
              "    }\n",
              "</style>\n",
              "<table border=\"1\" class=\"dataframe\">\n",
              "  <thead>\n",
              "    <tr style=\"text-align: right;\">\n",
              "      <th></th>\n",
              "      <th>DR_NO</th>\n",
              "      <th>Date Rptd</th>\n",
              "      <th>DATE OCC</th>\n",
              "      <th>TIME OCC</th>\n",
              "      <th>AREA</th>\n",
              "      <th>AREA NAME</th>\n",
              "      <th>Rpt Dist No</th>\n",
              "      <th>Part 1-2</th>\n",
              "      <th>Crm Cd</th>\n",
              "      <th>Crm Cd Desc</th>\n",
              "      <th>...</th>\n",
              "      <th>Status</th>\n",
              "      <th>Status Desc</th>\n",
              "      <th>Crm Cd 1</th>\n",
              "      <th>Crm Cd 2</th>\n",
              "      <th>Crm Cd 3</th>\n",
              "      <th>Crm Cd 4</th>\n",
              "      <th>LOCATION</th>\n",
              "      <th>Cross Street</th>\n",
              "      <th>LAT</th>\n",
              "      <th>LON</th>\n",
              "    </tr>\n",
              "  </thead>\n",
              "  <tbody>\n",
              "    <tr>\n",
              "      <th>0</th>\n",
              "      <td>190326475</td>\n",
              "      <td>03/01/2020 12:00:00 AM</td>\n",
              "      <td>03/01/2020 12:00:00 AM</td>\n",
              "      <td>2130</td>\n",
              "      <td>7</td>\n",
              "      <td>Wilshire</td>\n",
              "      <td>784</td>\n",
              "      <td>1</td>\n",
              "      <td>510</td>\n",
              "      <td>VEHICLE - STOLEN</td>\n",
              "      <td>...</td>\n",
              "      <td>AA</td>\n",
              "      <td>Adult Arrest</td>\n",
              "      <td>510.0</td>\n",
              "      <td>998.0</td>\n",
              "      <td>NaN</td>\n",
              "      <td>NaN</td>\n",
              "      <td>1900 S  LONGWOOD                     AV</td>\n",
              "      <td>NaN</td>\n",
              "      <td>34.0375</td>\n",
              "      <td>-118.3506</td>\n",
              "    </tr>\n",
              "    <tr>\n",
              "      <th>1</th>\n",
              "      <td>200106753</td>\n",
              "      <td>02/09/2020 12:00:00 AM</td>\n",
              "      <td>02/08/2020 12:00:00 AM</td>\n",
              "      <td>1800</td>\n",
              "      <td>1</td>\n",
              "      <td>Central</td>\n",
              "      <td>182</td>\n",
              "      <td>1</td>\n",
              "      <td>330</td>\n",
              "      <td>BURGLARY FROM VEHICLE</td>\n",
              "      <td>...</td>\n",
              "      <td>IC</td>\n",
              "      <td>Invest Cont</td>\n",
              "      <td>330.0</td>\n",
              "      <td>998.0</td>\n",
              "      <td>NaN</td>\n",
              "      <td>NaN</td>\n",
              "      <td>1000 S  FLOWER                       ST</td>\n",
              "      <td>NaN</td>\n",
              "      <td>34.0444</td>\n",
              "      <td>-118.2628</td>\n",
              "    </tr>\n",
              "  </tbody>\n",
              "</table>\n",
              "<p>2 rows × 28 columns</p>\n",
              "</div>\n",
              "    <div class=\"colab-df-buttons\">\n",
              "\n",
              "  <div class=\"colab-df-container\">\n",
              "    <button class=\"colab-df-convert\" onclick=\"convertToInteractive('df-625e8761-9807-458e-bba1-fafce6923edb')\"\n",
              "            title=\"Convert this dataframe to an interactive table.\"\n",
              "            style=\"display:none;\">\n",
              "\n",
              "  <svg xmlns=\"http://www.w3.org/2000/svg\" height=\"24px\" viewBox=\"0 -960 960 960\">\n",
              "    <path d=\"M120-120v-720h720v720H120Zm60-500h600v-160H180v160Zm220 220h160v-160H400v160Zm0 220h160v-160H400v160ZM180-400h160v-160H180v160Zm440 0h160v-160H620v160ZM180-180h160v-160H180v160Zm440 0h160v-160H620v160Z\"/>\n",
              "  </svg>\n",
              "    </button>\n",
              "\n",
              "  <style>\n",
              "    .colab-df-container {\n",
              "      display:flex;\n",
              "      gap: 12px;\n",
              "    }\n",
              "\n",
              "    .colab-df-convert {\n",
              "      background-color: #E8F0FE;\n",
              "      border: none;\n",
              "      border-radius: 50%;\n",
              "      cursor: pointer;\n",
              "      display: none;\n",
              "      fill: #1967D2;\n",
              "      height: 32px;\n",
              "      padding: 0 0 0 0;\n",
              "      width: 32px;\n",
              "    }\n",
              "\n",
              "    .colab-df-convert:hover {\n",
              "      background-color: #E2EBFA;\n",
              "      box-shadow: 0px 1px 2px rgba(60, 64, 67, 0.3), 0px 1px 3px 1px rgba(60, 64, 67, 0.15);\n",
              "      fill: #174EA6;\n",
              "    }\n",
              "\n",
              "    .colab-df-buttons div {\n",
              "      margin-bottom: 4px;\n",
              "    }\n",
              "\n",
              "    [theme=dark] .colab-df-convert {\n",
              "      background-color: #3B4455;\n",
              "      fill: #D2E3FC;\n",
              "    }\n",
              "\n",
              "    [theme=dark] .colab-df-convert:hover {\n",
              "      background-color: #434B5C;\n",
              "      box-shadow: 0px 1px 3px 1px rgba(0, 0, 0, 0.15);\n",
              "      filter: drop-shadow(0px 1px 2px rgba(0, 0, 0, 0.3));\n",
              "      fill: #FFFFFF;\n",
              "    }\n",
              "  </style>\n",
              "\n",
              "    <script>\n",
              "      const buttonEl =\n",
              "        document.querySelector('#df-625e8761-9807-458e-bba1-fafce6923edb button.colab-df-convert');\n",
              "      buttonEl.style.display =\n",
              "        google.colab.kernel.accessAllowed ? 'block' : 'none';\n",
              "\n",
              "      async function convertToInteractive(key) {\n",
              "        const element = document.querySelector('#df-625e8761-9807-458e-bba1-fafce6923edb');\n",
              "        const dataTable =\n",
              "          await google.colab.kernel.invokeFunction('convertToInteractive',\n",
              "                                                    [key], {});\n",
              "        if (!dataTable) return;\n",
              "\n",
              "        const docLinkHtml = 'Like what you see? Visit the ' +\n",
              "          '<a target=\"_blank\" href=https://colab.research.google.com/notebooks/data_table.ipynb>data table notebook</a>'\n",
              "          + ' to learn more about interactive tables.';\n",
              "        element.innerHTML = '';\n",
              "        dataTable['output_type'] = 'display_data';\n",
              "        await google.colab.output.renderOutput(dataTable, element);\n",
              "        const docLink = document.createElement('div');\n",
              "        docLink.innerHTML = docLinkHtml;\n",
              "        element.appendChild(docLink);\n",
              "      }\n",
              "    </script>\n",
              "  </div>\n",
              "\n",
              "\n",
              "<div id=\"df-f54e7e9d-d181-4196-8292-26dc0ef76bcd\">\n",
              "  <button class=\"colab-df-quickchart\" onclick=\"quickchart('df-f54e7e9d-d181-4196-8292-26dc0ef76bcd')\"\n",
              "            title=\"Suggest charts\"\n",
              "            style=\"display:none;\">\n",
              "\n",
              "<svg xmlns=\"http://www.w3.org/2000/svg\" height=\"24px\"viewBox=\"0 0 24 24\"\n",
              "     width=\"24px\">\n",
              "    <g>\n",
              "        <path d=\"M19 3H5c-1.1 0-2 .9-2 2v14c0 1.1.9 2 2 2h14c1.1 0 2-.9 2-2V5c0-1.1-.9-2-2-2zM9 17H7v-7h2v7zm4 0h-2V7h2v10zm4 0h-2v-4h2v4z\"/>\n",
              "    </g>\n",
              "</svg>\n",
              "  </button>\n",
              "\n",
              "<style>\n",
              "  .colab-df-quickchart {\n",
              "      --bg-color: #E8F0FE;\n",
              "      --fill-color: #1967D2;\n",
              "      --hover-bg-color: #E2EBFA;\n",
              "      --hover-fill-color: #174EA6;\n",
              "      --disabled-fill-color: #AAA;\n",
              "      --disabled-bg-color: #DDD;\n",
              "  }\n",
              "\n",
              "  [theme=dark] .colab-df-quickchart {\n",
              "      --bg-color: #3B4455;\n",
              "      --fill-color: #D2E3FC;\n",
              "      --hover-bg-color: #434B5C;\n",
              "      --hover-fill-color: #FFFFFF;\n",
              "      --disabled-bg-color: #3B4455;\n",
              "      --disabled-fill-color: #666;\n",
              "  }\n",
              "\n",
              "  .colab-df-quickchart {\n",
              "    background-color: var(--bg-color);\n",
              "    border: none;\n",
              "    border-radius: 50%;\n",
              "    cursor: pointer;\n",
              "    display: none;\n",
              "    fill: var(--fill-color);\n",
              "    height: 32px;\n",
              "    padding: 0;\n",
              "    width: 32px;\n",
              "  }\n",
              "\n",
              "  .colab-df-quickchart:hover {\n",
              "    background-color: var(--hover-bg-color);\n",
              "    box-shadow: 0 1px 2px rgba(60, 64, 67, 0.3), 0 1px 3px 1px rgba(60, 64, 67, 0.15);\n",
              "    fill: var(--button-hover-fill-color);\n",
              "  }\n",
              "\n",
              "  .colab-df-quickchart-complete:disabled,\n",
              "  .colab-df-quickchart-complete:disabled:hover {\n",
              "    background-color: var(--disabled-bg-color);\n",
              "    fill: var(--disabled-fill-color);\n",
              "    box-shadow: none;\n",
              "  }\n",
              "\n",
              "  .colab-df-spinner {\n",
              "    border: 2px solid var(--fill-color);\n",
              "    border-color: transparent;\n",
              "    border-bottom-color: var(--fill-color);\n",
              "    animation:\n",
              "      spin 1s steps(1) infinite;\n",
              "  }\n",
              "\n",
              "  @keyframes spin {\n",
              "    0% {\n",
              "      border-color: transparent;\n",
              "      border-bottom-color: var(--fill-color);\n",
              "      border-left-color: var(--fill-color);\n",
              "    }\n",
              "    20% {\n",
              "      border-color: transparent;\n",
              "      border-left-color: var(--fill-color);\n",
              "      border-top-color: var(--fill-color);\n",
              "    }\n",
              "    30% {\n",
              "      border-color: transparent;\n",
              "      border-left-color: var(--fill-color);\n",
              "      border-top-color: var(--fill-color);\n",
              "      border-right-color: var(--fill-color);\n",
              "    }\n",
              "    40% {\n",
              "      border-color: transparent;\n",
              "      border-right-color: var(--fill-color);\n",
              "      border-top-color: var(--fill-color);\n",
              "    }\n",
              "    60% {\n",
              "      border-color: transparent;\n",
              "      border-right-color: var(--fill-color);\n",
              "    }\n",
              "    80% {\n",
              "      border-color: transparent;\n",
              "      border-right-color: var(--fill-color);\n",
              "      border-bottom-color: var(--fill-color);\n",
              "    }\n",
              "    90% {\n",
              "      border-color: transparent;\n",
              "      border-bottom-color: var(--fill-color);\n",
              "    }\n",
              "  }\n",
              "</style>\n",
              "\n",
              "  <script>\n",
              "    async function quickchart(key) {\n",
              "      const quickchartButtonEl =\n",
              "        document.querySelector('#' + key + ' button');\n",
              "      quickchartButtonEl.disabled = true;  // To prevent multiple clicks.\n",
              "      quickchartButtonEl.classList.add('colab-df-spinner');\n",
              "      try {\n",
              "        const charts = await google.colab.kernel.invokeFunction(\n",
              "            'suggestCharts', [key], {});\n",
              "      } catch (error) {\n",
              "        console.error('Error during call to suggestCharts:', error);\n",
              "      }\n",
              "      quickchartButtonEl.classList.remove('colab-df-spinner');\n",
              "      quickchartButtonEl.classList.add('colab-df-quickchart-complete');\n",
              "    }\n",
              "    (() => {\n",
              "      let quickchartButtonEl =\n",
              "        document.querySelector('#df-f54e7e9d-d181-4196-8292-26dc0ef76bcd button');\n",
              "      quickchartButtonEl.style.display =\n",
              "        google.colab.kernel.accessAllowed ? 'block' : 'none';\n",
              "    })();\n",
              "  </script>\n",
              "</div>\n",
              "\n",
              "    </div>\n",
              "  </div>\n"
            ],
            "application/vnd.google.colaboratory.intrinsic+json": {
              "type": "dataframe",
              "variable_name": "df"
            }
          },
          "metadata": {},
          "execution_count": 9
        }
      ],
      "source": [
        "df.head(2)"
      ]
    },
    {
      "cell_type": "markdown",
      "metadata": {
        "id": "ySKrtcVJY9KK"
      },
      "source": [
        "## Columnas del dataframe"
      ]
    },
    {
      "cell_type": "code",
      "execution_count": null,
      "metadata": {
        "colab": {
          "base_uri": "https://localhost:8080/"
        },
        "id": "jezmmZc4Y9KK",
        "outputId": "18dc3edd-567f-43ba-a3a7-1f3c3f5da269"
      },
      "outputs": [
        {
          "output_type": "stream",
          "name": "stdout",
          "text": [
            "Index(['DR_NO', 'Date Rptd', 'DATE OCC', 'TIME OCC', 'AREA', 'AREA NAME',\n",
            "       'Rpt Dist No', 'Part 1-2', 'Crm Cd', 'Crm Cd Desc', 'Mocodes',\n",
            "       'Vict Age', 'Vict Sex', 'Vict Descent', 'Premis Cd', 'Premis Desc',\n",
            "       'Weapon Used Cd', 'Weapon Desc', 'Status', 'Status Desc', 'Crm Cd 1',\n",
            "       'Crm Cd 2', 'Crm Cd 3', 'Crm Cd 4', 'LOCATION', 'Cross Street', 'LAT',\n",
            "       'LON'],\n",
            "      dtype='object')\n"
          ]
        }
      ],
      "source": [
        "df_cols = df.columns\n",
        "print(df_cols)"
      ]
    },
    {
      "cell_type": "markdown",
      "metadata": {
        "id": "uvYjhkyKY9KL"
      },
      "source": [
        "## Tamaño del dataframe"
      ]
    },
    {
      "cell_type": "code",
      "execution_count": null,
      "metadata": {
        "colab": {
          "base_uri": "https://localhost:8080/"
        },
        "id": "jdccuWrLY9KL",
        "outputId": "6fdfe28a-bff5-43e2-93d6-d3c8656fae7a"
      },
      "outputs": [
        {
          "output_type": "stream",
          "name": "stdout",
          "text": [
            "955339\n"
          ]
        }
      ],
      "source": [
        "df_size = len(df)\n",
        "print(df_size)"
      ]
    },
    {
      "cell_type": "markdown",
      "metadata": {
        "id": "dHkpp3ALY9KL"
      },
      "source": [
        "## Descripción general de dataframe"
      ]
    },
    {
      "cell_type": "code",
      "execution_count": null,
      "metadata": {
        "colab": {
          "base_uri": "https://localhost:8080/"
        },
        "id": "1URdJ9iFY9KL",
        "outputId": "888d39b7-d148-4bc6-ac9e-f4fde5698e90"
      },
      "outputs": [
        {
          "output_type": "stream",
          "name": "stdout",
          "text": [
            "El fichero csv pesa: 243690902 B ~ 232.4 MB\n"
          ]
        }
      ],
      "source": [
        "df_memory_size = os.path.getsize(df_path)\n",
        "print(f'El fichero csv pesa: {df_memory_size} B ~ {round(df_memory_size / (1024 * 1024), 2)} MB')"
      ]
    },
    {
      "cell_type": "code",
      "execution_count": null,
      "metadata": {
        "colab": {
          "base_uri": "https://localhost:8080/"
        },
        "id": "BmtvR8NRY9KL",
        "outputId": "ffbc3d9a-e29d-434a-9a06-52ec55cca97b"
      },
      "outputs": [
        {
          "output_type": "stream",
          "name": "stdout",
          "text": [
            "Rows: 955339 | Columns: 28\n"
          ]
        }
      ],
      "source": [
        "shape = df.shape\n",
        "print(f'Rows: {shape[0]} | Columns: {shape[1]}')"
      ]
    },
    {
      "cell_type": "code",
      "execution_count": null,
      "metadata": {
        "colab": {
          "base_uri": "https://localhost:8080/",
          "height": 300
        },
        "id": "3CpCS0bYY9KL",
        "outputId": "2b209cbb-83e1-4f1d-c23f-948329affc0d"
      },
      "outputs": [
        {
          "output_type": "execute_result",
          "data": {
            "text/plain": [
              "              DR_NO       TIME OCC           AREA    Rpt Dist No  \\\n",
              "count  9.553390e+05  955339.000000  955339.000000  955339.000000   \n",
              "mean   2.191355e+08    1338.453032      10.718033    1118.243545   \n",
              "std    1.261589e+07     652.186527       6.100431     610.098189   \n",
              "min    8.170000e+02       1.000000       1.000000     101.000000   \n",
              "25%    2.105125e+08     900.000000       6.000000     621.000000   \n",
              "50%    2.207106e+08    1420.000000      11.000000    1142.000000   \n",
              "75%    2.307171e+08    1900.000000      16.000000    1618.000000   \n",
              "max    2.499187e+08    2359.000000      21.000000    2199.000000   \n",
              "\n",
              "            Part 1-2         Crm Cd       Vict Age      Premis Cd  \\\n",
              "count  955339.000000  955339.000000  955339.000000  955327.000000   \n",
              "mean        1.407805     500.667710      29.383110     306.255200   \n",
              "std         0.491427     206.867837      21.909695     217.844195   \n",
              "min         1.000000     110.000000      -4.000000     101.000000   \n",
              "25%         1.000000     331.000000       0.000000     101.000000   \n",
              "50%         1.000000     442.000000      30.000000     203.000000   \n",
              "75%         2.000000     626.000000      45.000000     501.000000   \n",
              "max         2.000000     956.000000     120.000000     976.000000   \n",
              "\n",
              "       Weapon Used Cd       Crm Cd 1      Crm Cd 2     Crm Cd 3   Crm Cd 4  \\\n",
              "count   325019.000000  955328.000000  68466.000000  2294.000000   64.00000   \n",
              "mean       363.741547     500.415756    958.107265   984.102005  991.21875   \n",
              "std        123.606085     206.661318    110.316767    51.662269   27.06985   \n",
              "min        101.000000     110.000000    210.000000   310.000000  821.00000   \n",
              "25%        311.000000     331.000000    998.000000   998.000000  998.00000   \n",
              "50%        400.000000     442.000000    998.000000   998.000000  998.00000   \n",
              "75%        400.000000     626.000000    998.000000   998.000000  998.00000   \n",
              "max        516.000000     956.000000    999.000000   999.000000  999.00000   \n",
              "\n",
              "                 LAT            LON  \n",
              "count  955339.000000  955339.000000  \n",
              "mean       33.993372    -118.074280  \n",
              "std         1.660523       5.755746  \n",
              "min         0.000000    -118.667600  \n",
              "25%        34.014500    -118.430700  \n",
              "50%        34.059000    -118.322500  \n",
              "75%        34.164900    -118.274000  \n",
              "max        34.334300       0.000000  "
            ],
            "text/html": [
              "\n",
              "  <div id=\"df-e40799fd-22ae-4b92-a765-1454b84ea2a9\" class=\"colab-df-container\">\n",
              "    <div>\n",
              "<style scoped>\n",
              "    .dataframe tbody tr th:only-of-type {\n",
              "        vertical-align: middle;\n",
              "    }\n",
              "\n",
              "    .dataframe tbody tr th {\n",
              "        vertical-align: top;\n",
              "    }\n",
              "\n",
              "    .dataframe thead th {\n",
              "        text-align: right;\n",
              "    }\n",
              "</style>\n",
              "<table border=\"1\" class=\"dataframe\">\n",
              "  <thead>\n",
              "    <tr style=\"text-align: right;\">\n",
              "      <th></th>\n",
              "      <th>DR_NO</th>\n",
              "      <th>TIME OCC</th>\n",
              "      <th>AREA</th>\n",
              "      <th>Rpt Dist No</th>\n",
              "      <th>Part 1-2</th>\n",
              "      <th>Crm Cd</th>\n",
              "      <th>Vict Age</th>\n",
              "      <th>Premis Cd</th>\n",
              "      <th>Weapon Used Cd</th>\n",
              "      <th>Crm Cd 1</th>\n",
              "      <th>Crm Cd 2</th>\n",
              "      <th>Crm Cd 3</th>\n",
              "      <th>Crm Cd 4</th>\n",
              "      <th>LAT</th>\n",
              "      <th>LON</th>\n",
              "    </tr>\n",
              "  </thead>\n",
              "  <tbody>\n",
              "    <tr>\n",
              "      <th>count</th>\n",
              "      <td>9.553390e+05</td>\n",
              "      <td>955339.000000</td>\n",
              "      <td>955339.000000</td>\n",
              "      <td>955339.000000</td>\n",
              "      <td>955339.000000</td>\n",
              "      <td>955339.000000</td>\n",
              "      <td>955339.000000</td>\n",
              "      <td>955327.000000</td>\n",
              "      <td>325019.000000</td>\n",
              "      <td>955328.000000</td>\n",
              "      <td>68466.000000</td>\n",
              "      <td>2294.000000</td>\n",
              "      <td>64.00000</td>\n",
              "      <td>955339.000000</td>\n",
              "      <td>955339.000000</td>\n",
              "    </tr>\n",
              "    <tr>\n",
              "      <th>mean</th>\n",
              "      <td>2.191355e+08</td>\n",
              "      <td>1338.453032</td>\n",
              "      <td>10.718033</td>\n",
              "      <td>1118.243545</td>\n",
              "      <td>1.407805</td>\n",
              "      <td>500.667710</td>\n",
              "      <td>29.383110</td>\n",
              "      <td>306.255200</td>\n",
              "      <td>363.741547</td>\n",
              "      <td>500.415756</td>\n",
              "      <td>958.107265</td>\n",
              "      <td>984.102005</td>\n",
              "      <td>991.21875</td>\n",
              "      <td>33.993372</td>\n",
              "      <td>-118.074280</td>\n",
              "    </tr>\n",
              "    <tr>\n",
              "      <th>std</th>\n",
              "      <td>1.261589e+07</td>\n",
              "      <td>652.186527</td>\n",
              "      <td>6.100431</td>\n",
              "      <td>610.098189</td>\n",
              "      <td>0.491427</td>\n",
              "      <td>206.867837</td>\n",
              "      <td>21.909695</td>\n",
              "      <td>217.844195</td>\n",
              "      <td>123.606085</td>\n",
              "      <td>206.661318</td>\n",
              "      <td>110.316767</td>\n",
              "      <td>51.662269</td>\n",
              "      <td>27.06985</td>\n",
              "      <td>1.660523</td>\n",
              "      <td>5.755746</td>\n",
              "    </tr>\n",
              "    <tr>\n",
              "      <th>min</th>\n",
              "      <td>8.170000e+02</td>\n",
              "      <td>1.000000</td>\n",
              "      <td>1.000000</td>\n",
              "      <td>101.000000</td>\n",
              "      <td>1.000000</td>\n",
              "      <td>110.000000</td>\n",
              "      <td>-4.000000</td>\n",
              "      <td>101.000000</td>\n",
              "      <td>101.000000</td>\n",
              "      <td>110.000000</td>\n",
              "      <td>210.000000</td>\n",
              "      <td>310.000000</td>\n",
              "      <td>821.00000</td>\n",
              "      <td>0.000000</td>\n",
              "      <td>-118.667600</td>\n",
              "    </tr>\n",
              "    <tr>\n",
              "      <th>25%</th>\n",
              "      <td>2.105125e+08</td>\n",
              "      <td>900.000000</td>\n",
              "      <td>6.000000</td>\n",
              "      <td>621.000000</td>\n",
              "      <td>1.000000</td>\n",
              "      <td>331.000000</td>\n",
              "      <td>0.000000</td>\n",
              "      <td>101.000000</td>\n",
              "      <td>311.000000</td>\n",
              "      <td>331.000000</td>\n",
              "      <td>998.000000</td>\n",
              "      <td>998.000000</td>\n",
              "      <td>998.00000</td>\n",
              "      <td>34.014500</td>\n",
              "      <td>-118.430700</td>\n",
              "    </tr>\n",
              "    <tr>\n",
              "      <th>50%</th>\n",
              "      <td>2.207106e+08</td>\n",
              "      <td>1420.000000</td>\n",
              "      <td>11.000000</td>\n",
              "      <td>1142.000000</td>\n",
              "      <td>1.000000</td>\n",
              "      <td>442.000000</td>\n",
              "      <td>30.000000</td>\n",
              "      <td>203.000000</td>\n",
              "      <td>400.000000</td>\n",
              "      <td>442.000000</td>\n",
              "      <td>998.000000</td>\n",
              "      <td>998.000000</td>\n",
              "      <td>998.00000</td>\n",
              "      <td>34.059000</td>\n",
              "      <td>-118.322500</td>\n",
              "    </tr>\n",
              "    <tr>\n",
              "      <th>75%</th>\n",
              "      <td>2.307171e+08</td>\n",
              "      <td>1900.000000</td>\n",
              "      <td>16.000000</td>\n",
              "      <td>1618.000000</td>\n",
              "      <td>2.000000</td>\n",
              "      <td>626.000000</td>\n",
              "      <td>45.000000</td>\n",
              "      <td>501.000000</td>\n",
              "      <td>400.000000</td>\n",
              "      <td>626.000000</td>\n",
              "      <td>998.000000</td>\n",
              "      <td>998.000000</td>\n",
              "      <td>998.00000</td>\n",
              "      <td>34.164900</td>\n",
              "      <td>-118.274000</td>\n",
              "    </tr>\n",
              "    <tr>\n",
              "      <th>max</th>\n",
              "      <td>2.499187e+08</td>\n",
              "      <td>2359.000000</td>\n",
              "      <td>21.000000</td>\n",
              "      <td>2199.000000</td>\n",
              "      <td>2.000000</td>\n",
              "      <td>956.000000</td>\n",
              "      <td>120.000000</td>\n",
              "      <td>976.000000</td>\n",
              "      <td>516.000000</td>\n",
              "      <td>956.000000</td>\n",
              "      <td>999.000000</td>\n",
              "      <td>999.000000</td>\n",
              "      <td>999.00000</td>\n",
              "      <td>34.334300</td>\n",
              "      <td>0.000000</td>\n",
              "    </tr>\n",
              "  </tbody>\n",
              "</table>\n",
              "</div>\n",
              "    <div class=\"colab-df-buttons\">\n",
              "\n",
              "  <div class=\"colab-df-container\">\n",
              "    <button class=\"colab-df-convert\" onclick=\"convertToInteractive('df-e40799fd-22ae-4b92-a765-1454b84ea2a9')\"\n",
              "            title=\"Convert this dataframe to an interactive table.\"\n",
              "            style=\"display:none;\">\n",
              "\n",
              "  <svg xmlns=\"http://www.w3.org/2000/svg\" height=\"24px\" viewBox=\"0 -960 960 960\">\n",
              "    <path d=\"M120-120v-720h720v720H120Zm60-500h600v-160H180v160Zm220 220h160v-160H400v160Zm0 220h160v-160H400v160ZM180-400h160v-160H180v160Zm440 0h160v-160H620v160ZM180-180h160v-160H180v160Zm440 0h160v-160H620v160Z\"/>\n",
              "  </svg>\n",
              "    </button>\n",
              "\n",
              "  <style>\n",
              "    .colab-df-container {\n",
              "      display:flex;\n",
              "      gap: 12px;\n",
              "    }\n",
              "\n",
              "    .colab-df-convert {\n",
              "      background-color: #E8F0FE;\n",
              "      border: none;\n",
              "      border-radius: 50%;\n",
              "      cursor: pointer;\n",
              "      display: none;\n",
              "      fill: #1967D2;\n",
              "      height: 32px;\n",
              "      padding: 0 0 0 0;\n",
              "      width: 32px;\n",
              "    }\n",
              "\n",
              "    .colab-df-convert:hover {\n",
              "      background-color: #E2EBFA;\n",
              "      box-shadow: 0px 1px 2px rgba(60, 64, 67, 0.3), 0px 1px 3px 1px rgba(60, 64, 67, 0.15);\n",
              "      fill: #174EA6;\n",
              "    }\n",
              "\n",
              "    .colab-df-buttons div {\n",
              "      margin-bottom: 4px;\n",
              "    }\n",
              "\n",
              "    [theme=dark] .colab-df-convert {\n",
              "      background-color: #3B4455;\n",
              "      fill: #D2E3FC;\n",
              "    }\n",
              "\n",
              "    [theme=dark] .colab-df-convert:hover {\n",
              "      background-color: #434B5C;\n",
              "      box-shadow: 0px 1px 3px 1px rgba(0, 0, 0, 0.15);\n",
              "      filter: drop-shadow(0px 1px 2px rgba(0, 0, 0, 0.3));\n",
              "      fill: #FFFFFF;\n",
              "    }\n",
              "  </style>\n",
              "\n",
              "    <script>\n",
              "      const buttonEl =\n",
              "        document.querySelector('#df-e40799fd-22ae-4b92-a765-1454b84ea2a9 button.colab-df-convert');\n",
              "      buttonEl.style.display =\n",
              "        google.colab.kernel.accessAllowed ? 'block' : 'none';\n",
              "\n",
              "      async function convertToInteractive(key) {\n",
              "        const element = document.querySelector('#df-e40799fd-22ae-4b92-a765-1454b84ea2a9');\n",
              "        const dataTable =\n",
              "          await google.colab.kernel.invokeFunction('convertToInteractive',\n",
              "                                                    [key], {});\n",
              "        if (!dataTable) return;\n",
              "\n",
              "        const docLinkHtml = 'Like what you see? Visit the ' +\n",
              "          '<a target=\"_blank\" href=https://colab.research.google.com/notebooks/data_table.ipynb>data table notebook</a>'\n",
              "          + ' to learn more about interactive tables.';\n",
              "        element.innerHTML = '';\n",
              "        dataTable['output_type'] = 'display_data';\n",
              "        await google.colab.output.renderOutput(dataTable, element);\n",
              "        const docLink = document.createElement('div');\n",
              "        docLink.innerHTML = docLinkHtml;\n",
              "        element.appendChild(docLink);\n",
              "      }\n",
              "    </script>\n",
              "  </div>\n",
              "\n",
              "\n",
              "<div id=\"df-5b78029f-4fe2-43b8-a0e1-c063c1cfcc5c\">\n",
              "  <button class=\"colab-df-quickchart\" onclick=\"quickchart('df-5b78029f-4fe2-43b8-a0e1-c063c1cfcc5c')\"\n",
              "            title=\"Suggest charts\"\n",
              "            style=\"display:none;\">\n",
              "\n",
              "<svg xmlns=\"http://www.w3.org/2000/svg\" height=\"24px\"viewBox=\"0 0 24 24\"\n",
              "     width=\"24px\">\n",
              "    <g>\n",
              "        <path d=\"M19 3H5c-1.1 0-2 .9-2 2v14c0 1.1.9 2 2 2h14c1.1 0 2-.9 2-2V5c0-1.1-.9-2-2-2zM9 17H7v-7h2v7zm4 0h-2V7h2v10zm4 0h-2v-4h2v4z\"/>\n",
              "    </g>\n",
              "</svg>\n",
              "  </button>\n",
              "\n",
              "<style>\n",
              "  .colab-df-quickchart {\n",
              "      --bg-color: #E8F0FE;\n",
              "      --fill-color: #1967D2;\n",
              "      --hover-bg-color: #E2EBFA;\n",
              "      --hover-fill-color: #174EA6;\n",
              "      --disabled-fill-color: #AAA;\n",
              "      --disabled-bg-color: #DDD;\n",
              "  }\n",
              "\n",
              "  [theme=dark] .colab-df-quickchart {\n",
              "      --bg-color: #3B4455;\n",
              "      --fill-color: #D2E3FC;\n",
              "      --hover-bg-color: #434B5C;\n",
              "      --hover-fill-color: #FFFFFF;\n",
              "      --disabled-bg-color: #3B4455;\n",
              "      --disabled-fill-color: #666;\n",
              "  }\n",
              "\n",
              "  .colab-df-quickchart {\n",
              "    background-color: var(--bg-color);\n",
              "    border: none;\n",
              "    border-radius: 50%;\n",
              "    cursor: pointer;\n",
              "    display: none;\n",
              "    fill: var(--fill-color);\n",
              "    height: 32px;\n",
              "    padding: 0;\n",
              "    width: 32px;\n",
              "  }\n",
              "\n",
              "  .colab-df-quickchart:hover {\n",
              "    background-color: var(--hover-bg-color);\n",
              "    box-shadow: 0 1px 2px rgba(60, 64, 67, 0.3), 0 1px 3px 1px rgba(60, 64, 67, 0.15);\n",
              "    fill: var(--button-hover-fill-color);\n",
              "  }\n",
              "\n",
              "  .colab-df-quickchart-complete:disabled,\n",
              "  .colab-df-quickchart-complete:disabled:hover {\n",
              "    background-color: var(--disabled-bg-color);\n",
              "    fill: var(--disabled-fill-color);\n",
              "    box-shadow: none;\n",
              "  }\n",
              "\n",
              "  .colab-df-spinner {\n",
              "    border: 2px solid var(--fill-color);\n",
              "    border-color: transparent;\n",
              "    border-bottom-color: var(--fill-color);\n",
              "    animation:\n",
              "      spin 1s steps(1) infinite;\n",
              "  }\n",
              "\n",
              "  @keyframes spin {\n",
              "    0% {\n",
              "      border-color: transparent;\n",
              "      border-bottom-color: var(--fill-color);\n",
              "      border-left-color: var(--fill-color);\n",
              "    }\n",
              "    20% {\n",
              "      border-color: transparent;\n",
              "      border-left-color: var(--fill-color);\n",
              "      border-top-color: var(--fill-color);\n",
              "    }\n",
              "    30% {\n",
              "      border-color: transparent;\n",
              "      border-left-color: var(--fill-color);\n",
              "      border-top-color: var(--fill-color);\n",
              "      border-right-color: var(--fill-color);\n",
              "    }\n",
              "    40% {\n",
              "      border-color: transparent;\n",
              "      border-right-color: var(--fill-color);\n",
              "      border-top-color: var(--fill-color);\n",
              "    }\n",
              "    60% {\n",
              "      border-color: transparent;\n",
              "      border-right-color: var(--fill-color);\n",
              "    }\n",
              "    80% {\n",
              "      border-color: transparent;\n",
              "      border-right-color: var(--fill-color);\n",
              "      border-bottom-color: var(--fill-color);\n",
              "    }\n",
              "    90% {\n",
              "      border-color: transparent;\n",
              "      border-bottom-color: var(--fill-color);\n",
              "    }\n",
              "  }\n",
              "</style>\n",
              "\n",
              "  <script>\n",
              "    async function quickchart(key) {\n",
              "      const quickchartButtonEl =\n",
              "        document.querySelector('#' + key + ' button');\n",
              "      quickchartButtonEl.disabled = true;  // To prevent multiple clicks.\n",
              "      quickchartButtonEl.classList.add('colab-df-spinner');\n",
              "      try {\n",
              "        const charts = await google.colab.kernel.invokeFunction(\n",
              "            'suggestCharts', [key], {});\n",
              "      } catch (error) {\n",
              "        console.error('Error during call to suggestCharts:', error);\n",
              "      }\n",
              "      quickchartButtonEl.classList.remove('colab-df-spinner');\n",
              "      quickchartButtonEl.classList.add('colab-df-quickchart-complete');\n",
              "    }\n",
              "    (() => {\n",
              "      let quickchartButtonEl =\n",
              "        document.querySelector('#df-5b78029f-4fe2-43b8-a0e1-c063c1cfcc5c button');\n",
              "      quickchartButtonEl.style.display =\n",
              "        google.colab.kernel.accessAllowed ? 'block' : 'none';\n",
              "    })();\n",
              "  </script>\n",
              "</div>\n",
              "\n",
              "    </div>\n",
              "  </div>\n"
            ],
            "application/vnd.google.colaboratory.intrinsic+json": {
              "type": "dataframe",
              "summary": "{\n  \"name\": \"df\",\n  \"rows\": 8,\n  \"fields\": [\n    {\n      \"column\": \"DR_NO\",\n      \"properties\": {\n        \"dtype\": \"number\",\n        \"std\": 115353378.20324577,\n        \"min\": 817.0,\n        \"max\": 249918669.0,\n        \"num_unique_values\": 8,\n        \"samples\": [\n          219135544.32959923,\n          220710611.0,\n          955339.0\n        ],\n        \"semantic_type\": \"\",\n        \"description\": \"\"\n      }\n    },\n    {\n      \"column\": \"TIME OCC\",\n      \"properties\": {\n        \"dtype\": \"number\",\n        \"std\": 337331.24857419013,\n        \"min\": 1.0,\n        \"max\": 955339.0,\n        \"num_unique_values\": 8,\n        \"samples\": [\n          1338.4530318557079,\n          1420.0,\n          955339.0\n        ],\n        \"semantic_type\": \"\",\n        \"description\": \"\"\n      }\n    },\n    {\n      \"column\": \"AREA\",\n      \"properties\": {\n        \"dtype\": \"number\",\n        \"std\": 337759.7152929497,\n        \"min\": 1.0,\n        \"max\": 955339.0,\n        \"num_unique_values\": 8,\n        \"samples\": [\n          10.718033075170176,\n          11.0,\n          955339.0\n        ],\n        \"semantic_type\": \"\",\n        \"description\": \"\"\n      }\n    },\n    {\n      \"column\": \"Rpt Dist No\",\n      \"properties\": {\n        \"dtype\": \"number\",\n        \"std\": 337389.7354166292,\n        \"min\": 101.0,\n        \"max\": 955339.0,\n        \"num_unique_values\": 8,\n        \"samples\": [\n          1118.2435449615268,\n          1142.0,\n          955339.0\n        ],\n        \"semantic_type\": \"\",\n        \"description\": \"\"\n      }\n    },\n    {\n      \"column\": \"Part 1-2\",\n      \"properties\": {\n        \"dtype\": \"number\",\n        \"std\": 337762.8931373086,\n        \"min\": 0.4914268315140995,\n        \"max\": 955339.0,\n        \"num_unique_values\": 5,\n        \"samples\": [\n          1.4078049781281827,\n          2.0,\n          0.4914268315140995\n        ],\n        \"semantic_type\": \"\",\n        \"description\": \"\"\n      }\n    },\n    {\n      \"column\": \"Crm Cd\",\n      \"properties\": {\n        \"dtype\": \"number\",\n        \"std\": 337603.20660045766,\n        \"min\": 110.0,\n        \"max\": 955339.0,\n        \"num_unique_values\": 8,\n        \"samples\": [\n          500.66770957743796,\n          442.0,\n          955339.0\n        ],\n        \"semantic_type\": \"\",\n        \"description\": \"\"\n      }\n    },\n    {\n      \"column\": \"Vict Age\",\n      \"properties\": {\n        \"dtype\": \"number\",\n        \"std\": 337751.1071591413,\n        \"min\": -4.0,\n        \"max\": 955339.0,\n        \"num_unique_values\": 8,\n        \"samples\": [\n          29.383110079249356,\n          30.0,\n          955339.0\n        ],\n        \"semantic_type\": \"\",\n        \"description\": \"\"\n      }\n    },\n    {\n      \"column\": \"Premis Cd\",\n      \"properties\": {\n        \"dtype\": \"number\",\n        \"std\": 337637.69617654814,\n        \"min\": 101.0,\n        \"max\": 955327.0,\n        \"num_unique_values\": 7,\n        \"samples\": [\n          955327.0,\n          306.2551995285384,\n          501.0\n        ],\n        \"semantic_type\": \"\",\n        \"description\": \"\"\n      }\n    },\n    {\n      \"column\": \"Weapon Used Cd\",\n      \"properties\": {\n        \"dtype\": \"number\",\n        \"std\": 114799.76439845526,\n        \"min\": 101.0,\n        \"max\": 325019.0,\n        \"num_unique_values\": 7,\n        \"samples\": [\n          325019.0,\n          363.74154741722793,\n          400.0\n        ],\n        \"semantic_type\": \"\",\n        \"description\": \"\"\n      }\n    },\n    {\n      \"column\": \"Crm Cd 1\",\n      \"properties\": {\n        \"dtype\": \"number\",\n        \"std\": 337599.34068719344,\n        \"min\": 110.0,\n        \"max\": 955328.0,\n        \"num_unique_values\": 8,\n        \"samples\": [\n          500.4157556357607,\n          442.0,\n          955328.0\n        ],\n        \"semantic_type\": \"\",\n        \"description\": \"\"\n      }\n    },\n    {\n      \"column\": \"Crm Cd 2\",\n      \"properties\": {\n        \"dtype\": \"number\",\n        \"std\": 23943.094576983098,\n        \"min\": 110.31676731724924,\n        \"max\": 68466.0,\n        \"num_unique_values\": 6,\n        \"samples\": [\n          68466.0,\n          958.1072649198143,\n          999.0\n        ],\n        \"semantic_type\": \"\",\n        \"description\": \"\"\n      }\n    },\n    {\n      \"column\": \"Crm Cd 3\",\n      \"properties\": {\n        \"dtype\": \"number\",\n        \"std\": 658.2757171684599,\n        \"min\": 51.662268886540026,\n        \"max\": 2294.0,\n        \"num_unique_values\": 6,\n        \"samples\": [\n          2294.0,\n          984.1020052310375,\n          999.0\n        ],\n        \"semantic_type\": \"\",\n        \"description\": \"\"\n      }\n    },\n    {\n      \"column\": \"Crm Cd 4\",\n      \"properties\": {\n        \"dtype\": \"number\",\n        \"std\": 431.2142291821074,\n        \"min\": 27.069850123602194,\n        \"max\": 999.0,\n        \"num_unique_values\": 6,\n        \"samples\": [\n          64.0,\n          991.21875,\n          999.0\n        ],\n        \"semantic_type\": \"\",\n        \"description\": \"\"\n      }\n    },\n    {\n      \"column\": \"LAT\",\n      \"properties\": {\n        \"dtype\": \"number\",\n        \"std\": 337754.6441943268,\n        \"min\": 0.0,\n        \"max\": 955339.0,\n        \"num_unique_values\": 8,\n        \"samples\": [\n          33.9933718863147,\n          34.059,\n          955339.0\n        ],\n        \"semantic_type\": \"\",\n        \"description\": \"\"\n      }\n    },\n    {\n      \"column\": \"LON\",\n      \"properties\": {\n        \"dtype\": \"number\",\n        \"std\": 337792.94520230277,\n        \"min\": -118.6676,\n        \"max\": 955339.0,\n        \"num_unique_values\": 8,\n        \"samples\": [\n          -118.0742801972912,\n          -118.3225,\n          955339.0\n        ],\n        \"semantic_type\": \"\",\n        \"description\": \"\"\n      }\n    }\n  ]\n}"
            }
          },
          "metadata": {},
          "execution_count": 14
        }
      ],
      "source": [
        "df.describe()"
      ]
    },
    {
      "cell_type": "code",
      "execution_count": null,
      "metadata": {
        "colab": {
          "base_uri": "https://localhost:8080/"
        },
        "id": "14Vybb_cY9KM",
        "outputId": "0e493f64-5984-47bd-aa18-b397477cbfb2"
      },
      "outputs": [
        {
          "output_type": "stream",
          "name": "stdout",
          "text": [
            "<class 'pandas.core.frame.DataFrame'>\n",
            "RangeIndex: 955339 entries, 0 to 955338\n",
            "Data columns (total 28 columns):\n",
            " #   Column          Non-Null Count   Dtype  \n",
            "---  ------          --------------   -----  \n",
            " 0   DR_NO           955339 non-null  int64  \n",
            " 1   Date Rptd       955339 non-null  object \n",
            " 2   DATE OCC        955339 non-null  object \n",
            " 3   TIME OCC        955339 non-null  int64  \n",
            " 4   AREA            955339 non-null  int64  \n",
            " 5   AREA NAME       955339 non-null  object \n",
            " 6   Rpt Dist No     955339 non-null  int64  \n",
            " 7   Part 1-2        955339 non-null  int64  \n",
            " 8   Crm Cd          955339 non-null  int64  \n",
            " 9   Crm Cd Desc     955339 non-null  object \n",
            " 10  Mocodes         818664 non-null  object \n",
            " 11  Vict Age        955339 non-null  int64  \n",
            " 12  Vict Sex        825294 non-null  object \n",
            " 13  Vict Descent    825284 non-null  object \n",
            " 14  Premis Cd       955327 non-null  float64\n",
            " 15  Premis Desc     954770 non-null  object \n",
            " 16  Weapon Used Cd  325019 non-null  float64\n",
            " 17  Weapon Desc     325019 non-null  object \n",
            " 18  Status          955338 non-null  object \n",
            " 19  Status Desc     955339 non-null  object \n",
            " 20  Crm Cd 1        955328 non-null  float64\n",
            " 21  Crm Cd 2        68466 non-null   float64\n",
            " 22  Crm Cd 3        2294 non-null    float64\n",
            " 23  Crm Cd 4        64 non-null      float64\n",
            " 24  LOCATION        955339 non-null  object \n",
            " 25  Cross Street    148900 non-null  object \n",
            " 26  LAT             955339 non-null  float64\n",
            " 27  LON             955339 non-null  float64\n",
            "dtypes: float64(8), int64(7), object(13)\n",
            "memory usage: 204.1+ MB\n"
          ]
        }
      ],
      "source": [
        "df.info()"
      ]
    },
    {
      "cell_type": "markdown",
      "metadata": {
        "id": "6cDNWgKOY9KM"
      },
      "source": [
        "---\n",
        "\n",
        "# Preprocesamiento\n",
        "\n",
        "## Búsqueda de nulos\n",
        "\n",
        "La función *df.insnull().any()* mostrará todas las columnas, y en caso de que alguna de éstas contenga un nulo, pondrá un True"
      ]
    },
    {
      "cell_type": "code",
      "execution_count": null,
      "metadata": {
        "colab": {
          "base_uri": "https://localhost:8080/"
        },
        "id": "1tnRQKTAY9KM",
        "outputId": "66f9c417-b766-43f4-c0bf-7ce71bbb0118"
      },
      "outputs": [
        {
          "output_type": "stream",
          "name": "stdout",
          "text": [
            "DR_NO             False\n",
            "Date Rptd         False\n",
            "DATE OCC          False\n",
            "TIME OCC          False\n",
            "AREA              False\n",
            "AREA NAME         False\n",
            "Rpt Dist No       False\n",
            "Part 1-2          False\n",
            "Crm Cd            False\n",
            "Crm Cd Desc       False\n",
            "Mocodes            True\n",
            "Vict Age          False\n",
            "Vict Sex           True\n",
            "Vict Descent       True\n",
            "Premis Cd          True\n",
            "Premis Desc        True\n",
            "Weapon Used Cd     True\n",
            "Weapon Desc        True\n",
            "Status             True\n",
            "Status Desc       False\n",
            "Crm Cd 1           True\n",
            "Crm Cd 2           True\n",
            "Crm Cd 3           True\n",
            "Crm Cd 4           True\n",
            "LOCATION          False\n",
            "Cross Street       True\n",
            "LAT               False\n",
            "LON               False\n",
            "dtype: bool\n"
          ]
        }
      ],
      "source": [
        "null_values = df.isnull().any()\n",
        "print(null_values)"
      ]
    },
    {
      "cell_type": "markdown",
      "metadata": {
        "id": "9mwIEoUgY9KM"
      },
      "source": [
        "### Los nulos pueden ser tratados de 2 formas:\n",
        "\n",
        "#### **1. Borrándolos**\n",
        "\n",
        "Para borrar los valores nulos de un df, se puede usar la función *df.dropna()*"
      ]
    },
    {
      "cell_type": "code",
      "execution_count": null,
      "metadata": {
        "colab": {
          "base_uri": "https://localhost:8080/",
          "height": 962
        },
        "id": "5buPm8zgY9KM",
        "outputId": "da0bae4f-8f08-489b-d46c-ea4ab8da8185"
      },
      "outputs": [
        {
          "output_type": "execute_result",
          "data": {
            "text/plain": [
              "DR_NO             False\n",
              "Date Rptd         False\n",
              "DATE OCC          False\n",
              "TIME OCC          False\n",
              "AREA              False\n",
              "AREA NAME         False\n",
              "Rpt Dist No       False\n",
              "Part 1-2          False\n",
              "Crm Cd            False\n",
              "Crm Cd Desc       False\n",
              "Mocodes           False\n",
              "Vict Age          False\n",
              "Vict Sex          False\n",
              "Vict Descent      False\n",
              "Premis Cd         False\n",
              "Premis Desc       False\n",
              "Weapon Used Cd    False\n",
              "Weapon Desc       False\n",
              "Status            False\n",
              "Status Desc       False\n",
              "Crm Cd 1          False\n",
              "Crm Cd 2          False\n",
              "Crm Cd 3          False\n",
              "Crm Cd 4          False\n",
              "LOCATION          False\n",
              "Cross Street      False\n",
              "LAT               False\n",
              "LON               False\n",
              "dtype: bool"
            ],
            "text/html": [
              "<div>\n",
              "<style scoped>\n",
              "    .dataframe tbody tr th:only-of-type {\n",
              "        vertical-align: middle;\n",
              "    }\n",
              "\n",
              "    .dataframe tbody tr th {\n",
              "        vertical-align: top;\n",
              "    }\n",
              "\n",
              "    .dataframe thead th {\n",
              "        text-align: right;\n",
              "    }\n",
              "</style>\n",
              "<table border=\"1\" class=\"dataframe\">\n",
              "  <thead>\n",
              "    <tr style=\"text-align: right;\">\n",
              "      <th></th>\n",
              "      <th>0</th>\n",
              "    </tr>\n",
              "  </thead>\n",
              "  <tbody>\n",
              "    <tr>\n",
              "      <th>DR_NO</th>\n",
              "      <td>False</td>\n",
              "    </tr>\n",
              "    <tr>\n",
              "      <th>Date Rptd</th>\n",
              "      <td>False</td>\n",
              "    </tr>\n",
              "    <tr>\n",
              "      <th>DATE OCC</th>\n",
              "      <td>False</td>\n",
              "    </tr>\n",
              "    <tr>\n",
              "      <th>TIME OCC</th>\n",
              "      <td>False</td>\n",
              "    </tr>\n",
              "    <tr>\n",
              "      <th>AREA</th>\n",
              "      <td>False</td>\n",
              "    </tr>\n",
              "    <tr>\n",
              "      <th>AREA NAME</th>\n",
              "      <td>False</td>\n",
              "    </tr>\n",
              "    <tr>\n",
              "      <th>Rpt Dist No</th>\n",
              "      <td>False</td>\n",
              "    </tr>\n",
              "    <tr>\n",
              "      <th>Part 1-2</th>\n",
              "      <td>False</td>\n",
              "    </tr>\n",
              "    <tr>\n",
              "      <th>Crm Cd</th>\n",
              "      <td>False</td>\n",
              "    </tr>\n",
              "    <tr>\n",
              "      <th>Crm Cd Desc</th>\n",
              "      <td>False</td>\n",
              "    </tr>\n",
              "    <tr>\n",
              "      <th>Mocodes</th>\n",
              "      <td>False</td>\n",
              "    </tr>\n",
              "    <tr>\n",
              "      <th>Vict Age</th>\n",
              "      <td>False</td>\n",
              "    </tr>\n",
              "    <tr>\n",
              "      <th>Vict Sex</th>\n",
              "      <td>False</td>\n",
              "    </tr>\n",
              "    <tr>\n",
              "      <th>Vict Descent</th>\n",
              "      <td>False</td>\n",
              "    </tr>\n",
              "    <tr>\n",
              "      <th>Premis Cd</th>\n",
              "      <td>False</td>\n",
              "    </tr>\n",
              "    <tr>\n",
              "      <th>Premis Desc</th>\n",
              "      <td>False</td>\n",
              "    </tr>\n",
              "    <tr>\n",
              "      <th>Weapon Used Cd</th>\n",
              "      <td>False</td>\n",
              "    </tr>\n",
              "    <tr>\n",
              "      <th>Weapon Desc</th>\n",
              "      <td>False</td>\n",
              "    </tr>\n",
              "    <tr>\n",
              "      <th>Status</th>\n",
              "      <td>False</td>\n",
              "    </tr>\n",
              "    <tr>\n",
              "      <th>Status Desc</th>\n",
              "      <td>False</td>\n",
              "    </tr>\n",
              "    <tr>\n",
              "      <th>Crm Cd 1</th>\n",
              "      <td>False</td>\n",
              "    </tr>\n",
              "    <tr>\n",
              "      <th>Crm Cd 2</th>\n",
              "      <td>False</td>\n",
              "    </tr>\n",
              "    <tr>\n",
              "      <th>Crm Cd 3</th>\n",
              "      <td>False</td>\n",
              "    </tr>\n",
              "    <tr>\n",
              "      <th>Crm Cd 4</th>\n",
              "      <td>False</td>\n",
              "    </tr>\n",
              "    <tr>\n",
              "      <th>LOCATION</th>\n",
              "      <td>False</td>\n",
              "    </tr>\n",
              "    <tr>\n",
              "      <th>Cross Street</th>\n",
              "      <td>False</td>\n",
              "    </tr>\n",
              "    <tr>\n",
              "      <th>LAT</th>\n",
              "      <td>False</td>\n",
              "    </tr>\n",
              "    <tr>\n",
              "      <th>LON</th>\n",
              "      <td>False</td>\n",
              "    </tr>\n",
              "  </tbody>\n",
              "</table>\n",
              "</div><br><label><b>dtype:</b> bool</label>"
            ]
          },
          "metadata": {},
          "execution_count": 17
        }
      ],
      "source": [
        "df.dropna().isnull().any()"
      ]
    },
    {
      "cell_type": "markdown",
      "metadata": {
        "id": "eoZVuHLyY9KM"
      },
      "source": [
        "#### **2. Rellenándolos**\n",
        "\n",
        "Para rellenar los valores nulos se puede usar la función *df.fillna()*. Para esta función, el valor por el cual se sustituye puede ser variado. Puede ser un valor fijo como un 0 o un string, también puede ser el último valor no nulo observado, es decir, el valor inmediatamente anterior o el siguiente valor no nulo, es decir, el valor inmediatamente siguiente.\n",
        "\n",
        "Es necesario recalcar que hay *axis* deber ser igual 1, para indicar que trabaje a nivel de columna."
      ]
    },
    {
      "cell_type": "code",
      "execution_count": null,
      "metadata": {
        "colab": {
          "base_uri": "https://localhost:8080/",
          "height": 997
        },
        "id": "nCDavAYsY9KM",
        "outputId": "4416cee4-c1f0-4b06-da96-c32c4525d123"
      },
      "outputs": [
        {
          "output_type": "stream",
          "name": "stderr",
          "text": [
            "<ipython-input-18-c4479a4e3e4d>:2: FutureWarning: DataFrame.fillna with 'method' is deprecated and will raise in a future version. Use obj.ffill() or obj.bfill() instead.\n",
            "  df.fillna(method='ffill', axis=1).isna().any()\n"
          ]
        },
        {
          "output_type": "execute_result",
          "data": {
            "text/plain": [
              "DR_NO             False\n",
              "Date Rptd         False\n",
              "DATE OCC          False\n",
              "TIME OCC          False\n",
              "AREA              False\n",
              "AREA NAME         False\n",
              "Rpt Dist No       False\n",
              "Part 1-2          False\n",
              "Crm Cd            False\n",
              "Crm Cd Desc       False\n",
              "Mocodes           False\n",
              "Vict Age          False\n",
              "Vict Sex          False\n",
              "Vict Descent      False\n",
              "Premis Cd         False\n",
              "Premis Desc       False\n",
              "Weapon Used Cd    False\n",
              "Weapon Desc       False\n",
              "Status            False\n",
              "Status Desc       False\n",
              "Crm Cd 1          False\n",
              "Crm Cd 2          False\n",
              "Crm Cd 3          False\n",
              "Crm Cd 4          False\n",
              "LOCATION          False\n",
              "Cross Street      False\n",
              "LAT               False\n",
              "LON               False\n",
              "dtype: bool"
            ],
            "text/html": [
              "<div>\n",
              "<style scoped>\n",
              "    .dataframe tbody tr th:only-of-type {\n",
              "        vertical-align: middle;\n",
              "    }\n",
              "\n",
              "    .dataframe tbody tr th {\n",
              "        vertical-align: top;\n",
              "    }\n",
              "\n",
              "    .dataframe thead th {\n",
              "        text-align: right;\n",
              "    }\n",
              "</style>\n",
              "<table border=\"1\" class=\"dataframe\">\n",
              "  <thead>\n",
              "    <tr style=\"text-align: right;\">\n",
              "      <th></th>\n",
              "      <th>0</th>\n",
              "    </tr>\n",
              "  </thead>\n",
              "  <tbody>\n",
              "    <tr>\n",
              "      <th>DR_NO</th>\n",
              "      <td>False</td>\n",
              "    </tr>\n",
              "    <tr>\n",
              "      <th>Date Rptd</th>\n",
              "      <td>False</td>\n",
              "    </tr>\n",
              "    <tr>\n",
              "      <th>DATE OCC</th>\n",
              "      <td>False</td>\n",
              "    </tr>\n",
              "    <tr>\n",
              "      <th>TIME OCC</th>\n",
              "      <td>False</td>\n",
              "    </tr>\n",
              "    <tr>\n",
              "      <th>AREA</th>\n",
              "      <td>False</td>\n",
              "    </tr>\n",
              "    <tr>\n",
              "      <th>AREA NAME</th>\n",
              "      <td>False</td>\n",
              "    </tr>\n",
              "    <tr>\n",
              "      <th>Rpt Dist No</th>\n",
              "      <td>False</td>\n",
              "    </tr>\n",
              "    <tr>\n",
              "      <th>Part 1-2</th>\n",
              "      <td>False</td>\n",
              "    </tr>\n",
              "    <tr>\n",
              "      <th>Crm Cd</th>\n",
              "      <td>False</td>\n",
              "    </tr>\n",
              "    <tr>\n",
              "      <th>Crm Cd Desc</th>\n",
              "      <td>False</td>\n",
              "    </tr>\n",
              "    <tr>\n",
              "      <th>Mocodes</th>\n",
              "      <td>False</td>\n",
              "    </tr>\n",
              "    <tr>\n",
              "      <th>Vict Age</th>\n",
              "      <td>False</td>\n",
              "    </tr>\n",
              "    <tr>\n",
              "      <th>Vict Sex</th>\n",
              "      <td>False</td>\n",
              "    </tr>\n",
              "    <tr>\n",
              "      <th>Vict Descent</th>\n",
              "      <td>False</td>\n",
              "    </tr>\n",
              "    <tr>\n",
              "      <th>Premis Cd</th>\n",
              "      <td>False</td>\n",
              "    </tr>\n",
              "    <tr>\n",
              "      <th>Premis Desc</th>\n",
              "      <td>False</td>\n",
              "    </tr>\n",
              "    <tr>\n",
              "      <th>Weapon Used Cd</th>\n",
              "      <td>False</td>\n",
              "    </tr>\n",
              "    <tr>\n",
              "      <th>Weapon Desc</th>\n",
              "      <td>False</td>\n",
              "    </tr>\n",
              "    <tr>\n",
              "      <th>Status</th>\n",
              "      <td>False</td>\n",
              "    </tr>\n",
              "    <tr>\n",
              "      <th>Status Desc</th>\n",
              "      <td>False</td>\n",
              "    </tr>\n",
              "    <tr>\n",
              "      <th>Crm Cd 1</th>\n",
              "      <td>False</td>\n",
              "    </tr>\n",
              "    <tr>\n",
              "      <th>Crm Cd 2</th>\n",
              "      <td>False</td>\n",
              "    </tr>\n",
              "    <tr>\n",
              "      <th>Crm Cd 3</th>\n",
              "      <td>False</td>\n",
              "    </tr>\n",
              "    <tr>\n",
              "      <th>Crm Cd 4</th>\n",
              "      <td>False</td>\n",
              "    </tr>\n",
              "    <tr>\n",
              "      <th>LOCATION</th>\n",
              "      <td>False</td>\n",
              "    </tr>\n",
              "    <tr>\n",
              "      <th>Cross Street</th>\n",
              "      <td>False</td>\n",
              "    </tr>\n",
              "    <tr>\n",
              "      <th>LAT</th>\n",
              "      <td>False</td>\n",
              "    </tr>\n",
              "    <tr>\n",
              "      <th>LON</th>\n",
              "      <td>False</td>\n",
              "    </tr>\n",
              "  </tbody>\n",
              "</table>\n",
              "</div><br><label><b>dtype:</b> bool</label>"
            ]
          },
          "metadata": {},
          "execution_count": 18
        }
      ],
      "source": [
        "####################### La comento porque tarda mucho\n",
        "df.fillna(method='ffill', axis=1).isna().any()"
      ]
    },
    {
      "cell_type": "markdown",
      "metadata": {
        "id": "TcpP88rsY9KN"
      },
      "source": [
        "## Búsqueda de duplicados\n",
        "\n",
        "De forma muy similar a la función **isna** o **isnull**, Pandas tiene la función **duplicated** que muestra si alguna linea está duplicada. Para eliminar los duplicados se puede usar la función **drop_duplicated**."
      ]
    },
    {
      "cell_type": "code",
      "execution_count": null,
      "metadata": {
        "colab": {
          "base_uri": "https://localhost:8080/"
        },
        "id": "OnXsB0wyY9KN",
        "outputId": "f7e20ff5-db01-44b6-e14b-c676a7b5e51c"
      },
      "outputs": [
        {
          "output_type": "stream",
          "name": "stdout",
          "text": [
            "El df contiene 0 registros repetidos\n"
          ]
        }
      ],
      "source": [
        "total_duplicated = df.duplicated().sum()\n",
        "print(f'El df contiene {total_duplicated} registros repetidos')"
      ]
    },
    {
      "cell_type": "markdown",
      "metadata": {
        "id": "_gca2fNjY9KO"
      },
      "source": [
        "---\n",
        "\n",
        "## Explicación de datos\n",
        "\n",
        "#### 📄 Funciones de Filtrado para DataFrames\n",
        "\n",
        "Este documento describe dos funciones de filtrado y una variable de rangos de fechas que se pueden utilizar para analizar y segmentar datos de un DataFrame en Python.\n",
        "\n",
        "##### 📅 1. **`dates`**\n",
        "\n",
        "`dates` es una lista de tuplas que contiene intervalos de fechas y el año correspondiente.\n",
        "\n",
        "##### 🗃️ 2. **`filter_df_by_date(df, start_date, end_date)`**\n",
        "Esta función filtra un DataFrame (df) basado en un rango de fechas (start_date y end_date). Devuelve un subconjunto del DataFrame original con filas que cumplen la condición de estar dentro del rango especificado.\n",
        "\n",
        "##### 🔍 3. **`filter_df_by_crime(df, crime)`**\n",
        "Esta función filtra un DataFrame (df) basado en el tipo de crimen especificado (crime). Devuelve un subconjunto del DataFrame original con las filas que contengan la descripción del crimen en la columna `Crm Cd Desc`.\n",
        "\n",
        "#### 4. Borrado de espacios en las calles para facilitar la visualización"
      ]
    },
    {
      "cell_type": "code",
      "execution_count": null,
      "metadata": {
        "id": "PNxqVI0ZY9KO"
      },
      "outputs": [],
      "source": [
        "dates = [\n",
        "    ('03/01/2020', '03/01/2021', '2020'),\n",
        "    ('03/01/2021', '03/01/2022', '2021'),\n",
        "    ('03/01/2022', '03/01/2023', '2022'),\n",
        "    ('03/01/2023', '03/01/2024', '2023'),\n",
        "    ('03/01/2024', '03/01/2025', '2024')\n",
        "]\n",
        "\n",
        "def filter_df_by_date(df, start_date, end_date):\n",
        "    return df[(df['Single date'] < end_date) & (df['Single date'] >= start_date)]\n",
        "\n",
        "def filter_df_by_crime(df, crime):\n",
        "    return df[df['Crm Cd Desc'].str.contains(crime)]\n",
        "\n",
        "df['LOCATION'] = df['LOCATION'].apply(lambda x: re.sub(r'\\s+', ' ', x))"
      ]
    },
    {
      "cell_type": "markdown",
      "metadata": {
        "id": "zWkWvcCCY9KO"
      },
      "source": [
        "Para procesar las fechas de una manera mejor se crea una nueva columna en el dataframe que solo contiene la fecha, sin hora."
      ]
    },
    {
      "cell_type": "code",
      "execution_count": null,
      "metadata": {
        "id": "vI3ae-5iY9KO"
      },
      "outputs": [],
      "source": [
        "df['Single date'] = pd.to_datetime(df['Date Rptd'], format='%m/%d/%Y %I:%M:%S %p')\n",
        "df['Single date'] = df['Single date'].dt.date"
      ]
    },
    {
      "cell_type": "markdown",
      "metadata": {
        "id": "y9wY8T_PY9KO"
      },
      "source": [
        "### Total de crímenes por área desde 03/01/2020 hasta 04/24/2024"
      ]
    },
    {
      "cell_type": "code",
      "execution_count": null,
      "metadata": {
        "colab": {
          "base_uri": "https://localhost:8080/"
        },
        "id": "stDOMhtkY9KO",
        "outputId": "f136f570-86c7-4d65-fa7d-a658a577ee91"
      },
      "outputs": [
        {
          "output_type": "stream",
          "name": "stdout",
          "text": [
            "Hay un total de 21 áreas dentro de LA.\n",
            "-------------------------------------------------- \n",
            "\n"
          ]
        }
      ],
      "source": [
        "total_areas = df['AREA NAME'].nunique()\n",
        "print(f'Hay un total de {total_areas} áreas dentro de LA.')\n",
        "print('-'*50, '\\n')"
      ]
    },
    {
      "cell_type": "markdown",
      "metadata": {
        "id": "v_A19F4uY9KU"
      },
      "source": [
        "### Total de crímenes y los 20 tipos de crímenes más cometidos"
      ]
    },
    {
      "cell_type": "code",
      "execution_count": null,
      "metadata": {
        "colab": {
          "base_uri": "https://localhost:8080/",
          "height": 1000
        },
        "id": "eBeZyM9zY9KU",
        "outputId": "685d87ba-0338-483a-c5ec-291d501858eb"
      },
      "outputs": [
        {
          "output_type": "stream",
          "name": "stdout",
          "text": [
            "Hay un total de 139 crímenes distintos.\n",
            "-------------------------------------------------- \n",
            "\n"
          ]
        },
        {
          "output_type": "display_data",
          "data": {
            "text/html": [
              "<html>\n",
              "<head><meta charset=\"utf-8\" /></head>\n",
              "<body>\n",
              "    <div>            <script src=\"https://cdnjs.cloudflare.com/ajax/libs/mathjax/2.7.5/MathJax.js?config=TeX-AMS-MML_SVG\"></script><script type=\"text/javascript\">if (window.MathJax && window.MathJax.Hub && window.MathJax.Hub.Config) {window.MathJax.Hub.Config({SVG: {font: \"STIX-Web\"}});}</script>                <script type=\"text/javascript\">window.PlotlyConfig = {MathJaxConfig: 'local'};</script>\n",
              "        <script charset=\"utf-8\" src=\"https://cdn.plot.ly/plotly-2.35.2.min.js\"></script>                <div id=\"731e7a92-7cc2-45c0-8e82-6343f520d528\" class=\"plotly-graph-div\" style=\"height:1200px; width:1200px;\"></div>            <script type=\"text/javascript\">                                    window.PLOTLYENV=window.PLOTLYENV || {};                                    if (document.getElementById(\"731e7a92-7cc2-45c0-8e82-6343f520d528\")) {                    Plotly.newPlot(                        \"731e7a92-7cc2-45c0-8e82-6343f520d528\",                        [{\"alignmentgroup\":\"True\",\"hovertemplate\":\"AREA NAME=77th Street\\u003cbr\\u003eTipo de crimen=%{x}\\u003cbr\\u003eIncidencias=%{y}\\u003cextra\\u003e\\u003c\\u002fextra\\u003e\",\"legendgroup\":\"77th Street\",\"marker\":{\"color\":\"#636efa\",\"pattern\":{\"shape\":\"\"}},\"name\":\"77th Street\",\"offsetgroup\":\"77th Street\",\"orientation\":\"v\",\"showlegend\":true,\"textposition\":\"auto\",\"x\":[\"ARSON\",\"ASSAULT WITH DEADLY WEAPON ON POLICE OFFICER\",\"ASSAULT WITH DEADLY WEAPON, AGGRAVATED ASSAULT\",\"ATTEMPTED ROBBERY\",\"BATTERY - SIMPLE ASSAULT\",\"BATTERY ON A FIREFIGHTER\",\"BATTERY POLICE (SIMPLE)\",\"BATTERY WITH SEXUAL CONTACT\",\"BIKE - STOLEN\",\"BOAT - STOLEN\",\"BOMB SCARE\",\"BRANDISH WEAPON\",\"BUNCO, ATTEMPT\",\"BUNCO, GRAND THEFT\",\"BUNCO, PETTY THEFT\",\"BURGLARY\",\"BURGLARY FROM VEHICLE\",\"BURGLARY FROM VEHICLE, ATTEMPTED\",\"BURGLARY, ATTEMPTED\",\"CHILD ABANDONMENT\",\"CHILD ABUSE (PHYSICAL) - AGGRAVATED ASSAULT\",\"CHILD ABUSE (PHYSICAL) - SIMPLE ASSAULT\",\"CHILD ANNOYING (17YRS & UNDER)\",\"CHILD NEGLECT (SEE 300 W.I.C.)\",\"CHILD PORNOGRAPHY\",\"CHILD STEALING\",\"CONSPIRACY\",\"CONTEMPT OF COURT\",\"CONTRIBUTING\",\"COUNTERFEIT\",\"CREDIT CARDS, FRAUD USE ($950 & UNDER\",\"CREDIT CARDS, FRAUD USE ($950.01 & OVER)\",\"CRIMINAL HOMICIDE\",\"CRIMINAL THREATS - NO WEAPON DISPLAYED\",\"CRM AGNST CHLD (13 OR UNDER) (14-15 & SUSP 10 YRS OLDER)\",\"CRUELTY TO ANIMALS\",\"DEFRAUDING INNKEEPER\\u002fTHEFT OF SERVICES, $950 & UNDER\",\"DEFRAUDING INNKEEPER\\u002fTHEFT OF SERVICES, OVER $950.01\",\"DISCHARGE FIREARMS\\u002fSHOTS FIRED\",\"DISHONEST EMPLOYEE - GRAND THEFT\",\"DISHONEST EMPLOYEE - PETTY THEFT\",\"DISRUPT SCHOOL\",\"DISTURBING THE PEACE\",\"DOCUMENT FORGERY \\u002f STOLEN FELONY\",\"DOCUMENT WORTHLESS ($200.01 & OVER)\",\"DRIVING WITHOUT OWNER CONSENT (DWOC)\",\"DRUGS, TO A MINOR\",\"EMBEZZLEMENT, GRAND THEFT ($950.01 & OVER)\",\"EMBEZZLEMENT, PETTY THEFT ($950 & UNDER)\",\"EXTORTION\",\"FAILURE TO YIELD\",\"FALSE IMPRISONMENT\",\"FALSE POLICE REPORT\",\"GRAND THEFT \\u002f AUTO REPAIR\",\"GRAND THEFT \\u002f INSURANCE FRAUD\",\"HUMAN TRAFFICKING - COMMERCIAL SEX ACTS\",\"HUMAN TRAFFICKING - INVOLUNTARY SERVITUDE\",\"ILLEGAL DUMPING\",\"INCITING A RIOT\",\"INDECENT EXPOSURE\",\"INTIMATE PARTNER - AGGRAVATED ASSAULT\",\"INTIMATE PARTNER - SIMPLE ASSAULT\",\"KIDNAPPING\",\"KIDNAPPING - GRAND ATTEMPT\",\"LETTERS, LEWD  -  TELEPHONE CALLS, LEWD\",\"LEWD CONDUCT\",\"LEWD\\u002fLASCIVIOUS ACTS WITH CHILD\",\"MANSLAUGHTER, NEGLIGENT\",\"ORAL COPULATION\",\"OTHER ASSAULT\",\"OTHER MISCELLANEOUS CRIME\",\"PANDERING\",\"PEEPING TOM\",\"PICKPOCKET\",\"PIMPING\",\"PROWLER\",\"PURSE SNATCHING\",\"PURSE SNATCHING - ATTEMPT\",\"RAPE, ATTEMPTED\",\"RAPE, FORCIBLE\",\"RECKLESS DRIVING\",\"REPLICA FIREARMS(SALE,DISPLAY,MANUFACTURE OR DISTRIBUTE)\",\"RESISTING ARREST\",\"ROBBERY\",\"SEX OFFENDER REGISTRANT OUT OF COMPLIANCE\",\"SEX,UNLAWFUL(INC MUTUAL CONSENT, PENETRATION W\\u002f FRGN OBJ\",\"SEXUAL PENETRATION W\\u002fFOREIGN OBJECT\",\"SHOPLIFTING - ATTEMPT\",\"SHOPLIFTING - PETTY THEFT ($950 & UNDER)\",\"SHOPLIFTING-GRAND THEFT ($950.01 & OVER)\",\"SHOTS FIRED AT INHABITED DWELLING\",\"SHOTS FIRED AT MOVING VEHICLE, TRAIN OR AIRCRAFT\",\"SODOMY\\u002fSEXUAL CONTACT B\\u002fW PENIS OF ONE PERS TO ANUS OTH\",\"STALKING\",\"THEFT FROM MOTOR VEHICLE - ATTEMPT\",\"THEFT FROM MOTOR VEHICLE - GRAND ($950.01 AND OVER)\",\"THEFT FROM MOTOR VEHICLE - PETTY ($950 & UNDER)\",\"THEFT FROM PERSON - ATTEMPT\",\"THEFT OF IDENTITY\",\"THEFT PLAIN - ATTEMPT\",\"THEFT PLAIN - PETTY ($950 & UNDER)\",\"THEFT, COIN MACHINE - ATTEMPT\",\"THEFT, COIN MACHINE - PETTY ($950 & UNDER)\",\"THEFT, PERSON\",\"THEFT-GRAND ($950.01 & OVER)EXCPT,GUNS,FOWL,LIVESTK,PROD\",\"THREATENING PHONE CALLS\\u002fLETTERS\",\"THROWING OBJECT AT MOVING VEHICLE\",\"TILL TAP - PETTY ($950 & UNDER)\",\"TRESPASSING\",\"UNAUTHORIZED COMPUTER ACCESS\",\"VANDALISM - FELONY ($400 & OVER, ALL CHURCH VANDALISMS)\",\"VANDALISM - MISDEAMEANOR ($399 OR UNDER)\",\"VEHICLE - ATTEMPT STOLEN\",\"VEHICLE - STOLEN\",\"VEHICLE, STOLEN - OTHER (MOTORIZED SCOOTERS, BIKES, ETC)\",\"VIOLATION OF COURT ORDER\",\"VIOLATION OF RESTRAINING ORDER\",\"VIOLATION OF TEMPORARY RESTRAINING ORDER\",\"WEAPONS POSSESSION\\u002fBOMBING\"],\"xaxis\":\"x\",\"y\":[202,80,5889,480,4704,7,279,176,37,13,6,1448,27,184,79,2159,1769,31,163,4,75,295,62,91,23,80,1,738,3,1,7,2,236,1591,179,25,6,1,377,1,1,2,11,85,1,16,1,34,8,85,200,24,6,1,1,226,51,4,1,49,1605,4056,91,37,305,29,3,1,64,226,434,11,17,17,52,7,12,2,25,315,17,1,99,3779,72,74,64,3,343,100,352,133,31,48,49,1199,1700,5,4167,25,1868,1,1,395,1066,16,26,1,257,10,3226,1697,281,8042,3,231,670,18,2],\"yaxis\":\"y\",\"type\":\"bar\"},{\"alignmentgroup\":\"True\",\"hovertemplate\":\"AREA NAME=Central\\u003cbr\\u003eTipo de crimen=%{x}\\u003cbr\\u003eIncidencias=%{y}\\u003cextra\\u003e\\u003c\\u002fextra\\u003e\",\"legendgroup\":\"Central\",\"marker\":{\"color\":\"#EF553B\",\"pattern\":{\"shape\":\"\"}},\"name\":\"Central\",\"offsetgroup\":\"Central\",\"orientation\":\"v\",\"showlegend\":true,\"textposition\":\"auto\",\"x\":[\"ARSON\",\"ASSAULT WITH DEADLY WEAPON ON POLICE OFFICER\",\"ASSAULT WITH DEADLY WEAPON, AGGRAVATED ASSAULT\",\"ATTEMPTED ROBBERY\",\"BATTERY - SIMPLE ASSAULT\",\"BATTERY ON A FIREFIGHTER\",\"BATTERY POLICE (SIMPLE)\",\"BATTERY WITH SEXUAL CONTACT\",\"BEASTIALITY, CRIME AGAINST NATURE SEXUAL ASSLT WITH ANIM\",\"BIGAMY\",\"BIKE - ATTEMPTED STOLEN\",\"BIKE - STOLEN\",\"BOMB SCARE\",\"BRANDISH WEAPON\",\"BUNCO, ATTEMPT\",\"BUNCO, GRAND THEFT\",\"BUNCO, PETTY THEFT\",\"BURGLARY\",\"BURGLARY FROM VEHICLE\",\"BURGLARY FROM VEHICLE, ATTEMPTED\",\"BURGLARY, ATTEMPTED\",\"CHILD ABANDONMENT\",\"CHILD ABUSE (PHYSICAL) - AGGRAVATED ASSAULT\",\"CHILD ABUSE (PHYSICAL) - SIMPLE ASSAULT\",\"CHILD ANNOYING (17YRS & UNDER)\",\"CHILD NEGLECT (SEE 300 W.I.C.)\",\"CHILD PORNOGRAPHY\",\"CHILD STEALING\",\"CONSPIRACY\",\"CONTEMPT OF COURT\",\"COUNTERFEIT\",\"CREDIT CARDS, FRAUD USE ($950 & UNDER\",\"CREDIT CARDS, FRAUD USE ($950.01 & OVER)\",\"CRIMINAL HOMICIDE\",\"CRIMINAL THREATS - NO WEAPON DISPLAYED\",\"CRM AGNST CHLD (13 OR UNDER) (14-15 & SUSP 10 YRS OLDER)\",\"CRUELTY TO ANIMALS\",\"DEFRAUDING INNKEEPER\\u002fTHEFT OF SERVICES, $950 & UNDER\",\"DEFRAUDING INNKEEPER\\u002fTHEFT OF SERVICES, OVER $950.01\",\"DISCHARGE FIREARMS\\u002fSHOTS FIRED\",\"DISHONEST EMPLOYEE - GRAND THEFT\",\"DISTURBING THE PEACE\",\"DOCUMENT FORGERY \\u002f STOLEN FELONY\",\"DOCUMENT WORTHLESS ($200 & UNDER)\",\"DOCUMENT WORTHLESS ($200.01 & OVER)\",\"DRIVING WITHOUT OWNER CONSENT (DWOC)\",\"DRUNK ROLL\",\"EMBEZZLEMENT, GRAND THEFT ($950.01 & OVER)\",\"EMBEZZLEMENT, PETTY THEFT ($950 & UNDER)\",\"EXTORTION\",\"FAILURE TO DISPERSE\",\"FAILURE TO YIELD\",\"FALSE IMPRISONMENT\",\"FALSE POLICE REPORT\",\"FIREARMS EMERGENCY PROTECTIVE ORDER (FIREARMS EPO)\",\"HUMAN TRAFFICKING - COMMERCIAL SEX ACTS\",\"HUMAN TRAFFICKING - INVOLUNTARY SERVITUDE\",\"ILLEGAL DUMPING\",\"INDECENT EXPOSURE\",\"INTIMATE PARTNER - AGGRAVATED ASSAULT\",\"INTIMATE PARTNER - SIMPLE ASSAULT\",\"KIDNAPPING\",\"KIDNAPPING - GRAND ATTEMPT\",\"LETTERS, LEWD  -  TELEPHONE CALLS, LEWD\",\"LEWD CONDUCT\",\"LEWD\\u002fLASCIVIOUS ACTS WITH CHILD\",\"LYNCHING\",\"LYNCHING - ATTEMPTED\",\"ORAL COPULATION\",\"OTHER ASSAULT\",\"OTHER MISCELLANEOUS CRIME\",\"PEEPING TOM\",\"PICKPOCKET\",\"PICKPOCKET, ATTEMPT\",\"PIMPING\",\"PROWLER\",\"PURSE SNATCHING\",\"PURSE SNATCHING - ATTEMPT\",\"RAPE, ATTEMPTED\",\"RAPE, FORCIBLE\",\"RECKLESS DRIVING\",\"REPLICA FIREARMS(SALE,DISPLAY,MANUFACTURE OR DISTRIBUTE)\",\"RESISTING ARREST\",\"ROBBERY\",\"SEX OFFENDER REGISTRANT OUT OF COMPLIANCE\",\"SEX,UNLAWFUL(INC MUTUAL CONSENT, PENETRATION W\\u002f FRGN OBJ\",\"SEXUAL PENETRATION W\\u002fFOREIGN OBJECT\",\"SHOPLIFTING - ATTEMPT\",\"SHOPLIFTING - PETTY THEFT ($950 & UNDER)\",\"SHOPLIFTING-GRAND THEFT ($950.01 & OVER)\",\"SHOTS FIRED AT INHABITED DWELLING\",\"SHOTS FIRED AT MOVING VEHICLE, TRAIN OR AIRCRAFT\",\"SODOMY\\u002fSEXUAL CONTACT B\\u002fW PENIS OF ONE PERS TO ANUS OTH\",\"STALKING\",\"THEFT FROM MOTOR VEHICLE - ATTEMPT\",\"THEFT FROM MOTOR VEHICLE - GRAND ($950.01 AND OVER)\",\"THEFT FROM MOTOR VEHICLE - PETTY ($950 & UNDER)\",\"THEFT FROM PERSON - ATTEMPT\",\"THEFT OF IDENTITY\",\"THEFT PLAIN - ATTEMPT\",\"THEFT PLAIN - PETTY ($950 & UNDER)\",\"THEFT, COIN MACHINE - ATTEMPT\",\"THEFT, PERSON\",\"THEFT-GRAND ($950.01 & OVER)EXCPT,GUNS,FOWL,LIVESTK,PROD\",\"THREATENING PHONE CALLS\\u002fLETTERS\",\"THROWING OBJECT AT MOVING VEHICLE\",\"TILL TAP - PETTY ($950 & UNDER)\",\"TRESPASSING\",\"UNAUTHORIZED COMPUTER ACCESS\",\"VANDALISM - FELONY ($400 & OVER, ALL CHURCH VANDALISMS)\",\"VANDALISM - MISDEAMEANOR ($399 OR UNDER)\",\"VEHICLE - ATTEMPT STOLEN\",\"VEHICLE - STOLEN\",\"VEHICLE, STOLEN - OTHER (MOTORIZED SCOOTERS, BIKES, ETC)\",\"VIOLATION OF COURT ORDER\",\"VIOLATION OF RESTRAINING ORDER\",\"VIOLATION OF TEMPORARY RESTRAINING ORDER\",\"WEAPONS POSSESSION\\u002fBOMBING\"],\"xaxis\":\"x\",\"y\":[231,157,4038,456,6782,45,328,393,2,1,2,824,76,1146,12,200,100,2397,8860,43,146,2,7,61,20,43,6,5,2,10,5,8,7,102,1126,18,16,38,4,97,1,40,92,3,3,7,8,208,12,47,3,78,34,10,3,4,4,2,72,718,2223,40,14,396,58,6,3,3,72,585,469,3,654,3,3,3,15,1,24,355,13,1,94,2644,160,14,77,5,2176,169,33,8,47,27,20,1468,1172,23,1861,42,3903,1,635,2731,14,50,2,2031,12,4499,1561,143,4413,156,141,282,11,3],\"yaxis\":\"y\",\"type\":\"bar\"},{\"alignmentgroup\":\"True\",\"hovertemplate\":\"AREA NAME=Devonshire\\u003cbr\\u003eTipo de crimen=%{x}\\u003cbr\\u003eIncidencias=%{y}\\u003cextra\\u003e\\u003c\\u002fextra\\u003e\",\"legendgroup\":\"Devonshire\",\"marker\":{\"color\":\"#00cc96\",\"pattern\":{\"shape\":\"\"}},\"name\":\"Devonshire\",\"offsetgroup\":\"Devonshire\",\"orientation\":\"v\",\"showlegend\":true,\"textposition\":\"auto\",\"x\":[\"ARSON\",\"ASSAULT WITH DEADLY WEAPON ON POLICE OFFICER\",\"ASSAULT WITH DEADLY WEAPON, AGGRAVATED ASSAULT\",\"ATTEMPTED ROBBERY\",\"BATTERY - SIMPLE ASSAULT\",\"BATTERY ON A FIREFIGHTER\",\"BATTERY POLICE (SIMPLE)\",\"BATTERY WITH SEXUAL CONTACT\",\"BIKE - STOLEN\",\"BOAT - STOLEN\",\"BOMB SCARE\",\"BRANDISH WEAPON\",\"BUNCO, ATTEMPT\",\"BUNCO, GRAND THEFT\",\"BUNCO, PETTY THEFT\",\"BURGLARY\",\"BURGLARY FROM VEHICLE\",\"BURGLARY FROM VEHICLE, ATTEMPTED\",\"BURGLARY, ATTEMPTED\",\"CHILD ABANDONMENT\",\"CHILD ABUSE (PHYSICAL) - AGGRAVATED ASSAULT\",\"CHILD ABUSE (PHYSICAL) - SIMPLE ASSAULT\",\"CHILD ANNOYING (17YRS & UNDER)\",\"CHILD NEGLECT (SEE 300 W.I.C.)\",\"CHILD PORNOGRAPHY\",\"CHILD STEALING\",\"CONSPIRACY\",\"CONTEMPT OF COURT\",\"CONTRIBUTING\",\"COUNTERFEIT\",\"CREDIT CARDS, FRAUD USE ($950 & UNDER\",\"CREDIT CARDS, FRAUD USE ($950.01 & OVER)\",\"CRIMINAL HOMICIDE\",\"CRIMINAL THREATS - NO WEAPON DISPLAYED\",\"CRM AGNST CHLD (13 OR UNDER) (14-15 & SUSP 10 YRS OLDER)\",\"CRUELTY TO ANIMALS\",\"DEFRAUDING INNKEEPER\\u002fTHEFT OF SERVICES, $950 & UNDER\",\"DEFRAUDING INNKEEPER\\u002fTHEFT OF SERVICES, OVER $950.01\",\"DISCHARGE FIREARMS\\u002fSHOTS FIRED\",\"DISHONEST EMPLOYEE ATTEMPTED THEFT\",\"DISTURBING THE PEACE\",\"DOCUMENT FORGERY \\u002f STOLEN FELONY\",\"DOCUMENT WORTHLESS ($200.01 & OVER)\",\"DRIVING WITHOUT OWNER CONSENT (DWOC)\",\"DRUGS, TO A MINOR\",\"EMBEZZLEMENT, GRAND THEFT ($950.01 & OVER)\",\"EMBEZZLEMENT, PETTY THEFT ($950 & UNDER)\",\"EXTORTION\",\"FAILURE TO YIELD\",\"FALSE IMPRISONMENT\",\"FALSE POLICE REPORT\",\"ILLEGAL DUMPING\",\"INCEST (SEXUAL ACTS BETWEEN BLOOD RELATIVES)\",\"INDECENT EXPOSURE\",\"INTIMATE PARTNER - AGGRAVATED ASSAULT\",\"INTIMATE PARTNER - SIMPLE ASSAULT\",\"KIDNAPPING\",\"KIDNAPPING - GRAND ATTEMPT\",\"LETTERS, LEWD  -  TELEPHONE CALLS, LEWD\",\"LEWD CONDUCT\",\"LEWD\\u002fLASCIVIOUS ACTS WITH CHILD\",\"ORAL COPULATION\",\"OTHER ASSAULT\",\"OTHER MISCELLANEOUS CRIME\",\"PEEPING TOM\",\"PICKPOCKET\",\"PIMPING\",\"PROWLER\",\"PURSE SNATCHING\",\"RAPE, ATTEMPTED\",\"RAPE, FORCIBLE\",\"RECKLESS DRIVING\",\"REPLICA FIREARMS(SALE,DISPLAY,MANUFACTURE OR DISTRIBUTE)\",\"RESISTING ARREST\",\"ROBBERY\",\"SEX OFFENDER REGISTRANT OUT OF COMPLIANCE\",\"SEX,UNLAWFUL(INC MUTUAL CONSENT, PENETRATION W\\u002f FRGN OBJ\",\"SEXUAL PENETRATION W\\u002fFOREIGN OBJECT\",\"SHOPLIFTING - ATTEMPT\",\"SHOPLIFTING - PETTY THEFT ($950 & UNDER)\",\"SHOPLIFTING-GRAND THEFT ($950.01 & OVER)\",\"SHOTS FIRED AT INHABITED DWELLING\",\"SHOTS FIRED AT MOVING VEHICLE, TRAIN OR AIRCRAFT\",\"SODOMY\\u002fSEXUAL CONTACT B\\u002fW PENIS OF ONE PERS TO ANUS OTH\",\"STALKING\",\"TELEPHONE PROPERTY - DAMAGE\",\"THEFT FROM MOTOR VEHICLE - ATTEMPT\",\"THEFT FROM MOTOR VEHICLE - GRAND ($950.01 AND OVER)\",\"THEFT FROM MOTOR VEHICLE - PETTY ($950 & UNDER)\",\"THEFT FROM PERSON - ATTEMPT\",\"THEFT OF IDENTITY\",\"THEFT PLAIN - ATTEMPT\",\"THEFT PLAIN - PETTY ($950 & UNDER)\",\"THEFT, COIN MACHINE - GRAND ($950.01 & OVER)\",\"THEFT, COIN MACHINE - PETTY ($950 & UNDER)\",\"THEFT, PERSON\",\"THEFT-GRAND ($950.01 & OVER)EXCPT,GUNS,FOWL,LIVESTK,PROD\",\"THREATENING PHONE CALLS\\u002fLETTERS\",\"THROWING OBJECT AT MOVING VEHICLE\",\"TILL TAP - GRAND THEFT ($950.01 & OVER)\",\"TILL TAP - PETTY ($950 & UNDER)\",\"TRESPASSING\",\"UNAUTHORIZED COMPUTER ACCESS\",\"VANDALISM - FELONY ($400 & OVER, ALL CHURCH VANDALISMS)\",\"VANDALISM - MISDEAMEANOR ($399 OR UNDER)\",\"VEHICLE - ATTEMPT STOLEN\",\"VEHICLE - STOLEN\",\"VEHICLE, STOLEN - OTHER (MOTORIZED SCOOTERS, BIKES, ETC)\",\"VIOLATION OF COURT ORDER\",\"VIOLATION OF RESTRAINING ORDER\",\"VIOLATION OF TEMPORARY RESTRAINING ORDER\"],\"xaxis\":\"x\",\"y\":[52,15,1324,110,2679,7,58,163,137,14,13,444,4,420,112,3540,2423,21,284,1,25,191,46,52,19,12,2,112,4,4,3,6,28,671,51,8,9,1,76,2,94,243,2,2,2,157,15,106,31,9,9,7,1,48,352,1935,26,4,441,34,5,30,170,310,18,44,2,8,3,6,111,15,1,19,838,12,51,42,5,1724,464,19,12,16,19,1,43,2036,2092,4,3312,26,1875,2,3,100,1452,28,32,1,2,633,33,1963,744,115,3589,50,353,378,131],\"yaxis\":\"y\",\"type\":\"bar\"},{\"alignmentgroup\":\"True\",\"hovertemplate\":\"AREA NAME=Foothill\\u003cbr\\u003eTipo de crimen=%{x}\\u003cbr\\u003eIncidencias=%{y}\\u003cextra\\u003e\\u003c\\u002fextra\\u003e\",\"legendgroup\":\"Foothill\",\"marker\":{\"color\":\"#ab63fa\",\"pattern\":{\"shape\":\"\"}},\"name\":\"Foothill\",\"offsetgroup\":\"Foothill\",\"orientation\":\"v\",\"showlegend\":true,\"textposition\":\"auto\",\"x\":[\"ARSON\",\"ASSAULT WITH DEADLY WEAPON ON POLICE OFFICER\",\"ASSAULT WITH DEADLY WEAPON, AGGRAVATED ASSAULT\",\"ATTEMPTED ROBBERY\",\"BATTERY - SIMPLE ASSAULT\",\"BATTERY ON A FIREFIGHTER\",\"BATTERY POLICE (SIMPLE)\",\"BATTERY WITH SEXUAL CONTACT\",\"BEASTIALITY, CRIME AGAINST NATURE SEXUAL ASSLT WITH ANIM\",\"BIKE - STOLEN\",\"BOAT - STOLEN\",\"BOMB SCARE\",\"BRANDISH WEAPON\",\"BUNCO, ATTEMPT\",\"BUNCO, GRAND THEFT\",\"BUNCO, PETTY THEFT\",\"BURGLARY\",\"BURGLARY FROM VEHICLE\",\"BURGLARY FROM VEHICLE, ATTEMPTED\",\"BURGLARY, ATTEMPTED\",\"CHILD ABANDONMENT\",\"CHILD ABUSE (PHYSICAL) - AGGRAVATED ASSAULT\",\"CHILD ABUSE (PHYSICAL) - SIMPLE ASSAULT\",\"CHILD ANNOYING (17YRS & UNDER)\",\"CHILD NEGLECT (SEE 300 W.I.C.)\",\"CHILD PORNOGRAPHY\",\"CHILD STEALING\",\"CONSPIRACY\",\"CONTEMPT OF COURT\",\"CONTRIBUTING\",\"COUNTERFEIT\",\"CREDIT CARDS, FRAUD USE ($950 & UNDER\",\"CREDIT CARDS, FRAUD USE ($950.01 & OVER)\",\"CRIMINAL HOMICIDE\",\"CRIMINAL THREATS - NO WEAPON DISPLAYED\",\"CRM AGNST CHLD (13 OR UNDER) (14-15 & SUSP 10 YRS OLDER)\",\"CRUELTY TO ANIMALS\",\"DEFRAUDING INNKEEPER\\u002fTHEFT OF SERVICES, $950 & UNDER\",\"DEFRAUDING INNKEEPER\\u002fTHEFT OF SERVICES, OVER $950.01\",\"DISCHARGE FIREARMS\\u002fSHOTS FIRED\",\"DISTURBING THE PEACE\",\"DOCUMENT FORGERY \\u002f STOLEN FELONY\",\"DOCUMENT WORTHLESS ($200.01 & OVER)\",\"DRIVING WITHOUT OWNER CONSENT (DWOC)\",\"EMBEZZLEMENT, GRAND THEFT ($950.01 & OVER)\",\"EMBEZZLEMENT, PETTY THEFT ($950 & UNDER)\",\"EXTORTION\",\"FAILURE TO YIELD\",\"FALSE IMPRISONMENT\",\"FALSE POLICE REPORT\",\"FIREARMS RESTRAINING ORDER (FIREARMS RO)\",\"GRAND THEFT \\u002f AUTO REPAIR\",\"GRAND THEFT \\u002f INSURANCE FRAUD\",\"ILLEGAL DUMPING\",\"INCEST (SEXUAL ACTS BETWEEN BLOOD RELATIVES)\",\"INDECENT EXPOSURE\",\"INTIMATE PARTNER - AGGRAVATED ASSAULT\",\"INTIMATE PARTNER - SIMPLE ASSAULT\",\"KIDNAPPING\",\"KIDNAPPING - GRAND ATTEMPT\",\"LETTERS, LEWD  -  TELEPHONE CALLS, LEWD\",\"LEWD CONDUCT\",\"LEWD\\u002fLASCIVIOUS ACTS WITH CHILD\",\"LYNCHING - ATTEMPTED\",\"ORAL COPULATION\",\"OTHER ASSAULT\",\"OTHER MISCELLANEOUS CRIME\",\"PANDERING\",\"PEEPING TOM\",\"PICKPOCKET\",\"PROWLER\",\"PURSE SNATCHING\",\"PURSE SNATCHING - ATTEMPT\",\"RAPE, ATTEMPTED\",\"RAPE, FORCIBLE\",\"RECKLESS DRIVING\",\"RESISTING ARREST\",\"ROBBERY\",\"SEX OFFENDER REGISTRANT OUT OF COMPLIANCE\",\"SEX,UNLAWFUL(INC MUTUAL CONSENT, PENETRATION W\\u002f FRGN OBJ\",\"SEXUAL PENETRATION W\\u002fFOREIGN OBJECT\",\"SHOPLIFTING - ATTEMPT\",\"SHOPLIFTING - PETTY THEFT ($950 & UNDER)\",\"SHOPLIFTING-GRAND THEFT ($950.01 & OVER)\",\"SHOTS FIRED AT INHABITED DWELLING\",\"SHOTS FIRED AT MOVING VEHICLE, TRAIN OR AIRCRAFT\",\"SODOMY\\u002fSEXUAL CONTACT B\\u002fW PENIS OF ONE PERS TO ANUS OTH\",\"STALKING\",\"THEFT FROM MOTOR VEHICLE - ATTEMPT\",\"THEFT FROM MOTOR VEHICLE - GRAND ($950.01 AND OVER)\",\"THEFT FROM MOTOR VEHICLE - PETTY ($950 & UNDER)\",\"THEFT OF IDENTITY\",\"THEFT PLAIN - ATTEMPT\",\"THEFT PLAIN - PETTY ($950 & UNDER)\",\"THEFT, PERSON\",\"THEFT-GRAND ($950.01 & OVER)EXCPT,GUNS,FOWL,LIVESTK,PROD\",\"THREATENING PHONE CALLS\\u002fLETTERS\",\"THROWING OBJECT AT MOVING VEHICLE\",\"TRESPASSING\",\"UNAUTHORIZED COMPUTER ACCESS\",\"VANDALISM - FELONY ($400 & OVER, ALL CHURCH VANDALISMS)\",\"VANDALISM - MISDEAMEANOR ($399 OR UNDER)\",\"VEHICLE - ATTEMPT STOLEN\",\"VEHICLE - STOLEN\",\"VEHICLE, STOLEN - OTHER (MOTORIZED SCOOTERS, BIKES, ETC)\",\"VIOLATION OF COURT ORDER\",\"VIOLATION OF RESTRAINING ORDER\",\"VIOLATION OF TEMPORARY RESTRAINING ORDER\",\"WEAPONS POSSESSION\\u002fBOMBING\"],\"xaxis\":\"x\",\"y\":[93,52,1735,103,2417,7,68,141,1,39,12,6,402,8,235,103,1930,1442,13,138,1,14,149,47,72,25,19,1,434,1,7,8,4,41,599,102,18,3,1,114,21,115,2,3,60,2,99,83,16,4,1,1,1,11,1,65,370,1872,35,15,270,12,15,1,24,100,257,2,13,7,1,1,1,12,112,17,46,732,14,53,37,3,593,117,34,16,19,20,22,1186,1563,2491,15,1253,63,998,7,34,285,11,1907,843,110,4141,8,395,512,56,3],\"yaxis\":\"y\",\"type\":\"bar\"},{\"alignmentgroup\":\"True\",\"hovertemplate\":\"AREA NAME=Harbor\\u003cbr\\u003eTipo de crimen=%{x}\\u003cbr\\u003eIncidencias=%{y}\\u003cextra\\u003e\\u003c\\u002fextra\\u003e\",\"legendgroup\":\"Harbor\",\"marker\":{\"color\":\"#FFA15A\",\"pattern\":{\"shape\":\"\"}},\"name\":\"Harbor\",\"offsetgroup\":\"Harbor\",\"orientation\":\"v\",\"showlegend\":true,\"textposition\":\"auto\",\"x\":[\"ARSON\",\"ASSAULT WITH DEADLY WEAPON ON POLICE OFFICER\",\"ASSAULT WITH DEADLY WEAPON, AGGRAVATED ASSAULT\",\"ATTEMPTED ROBBERY\",\"BATTERY - SIMPLE ASSAULT\",\"BATTERY ON A FIREFIGHTER\",\"BATTERY POLICE (SIMPLE)\",\"BATTERY WITH SEXUAL CONTACT\",\"BIKE - STOLEN\",\"BOAT - STOLEN\",\"BOMB SCARE\",\"BRANDISH WEAPON\",\"BUNCO, ATTEMPT\",\"BUNCO, GRAND THEFT\",\"BUNCO, PETTY THEFT\",\"BURGLARY\",\"BURGLARY FROM VEHICLE\",\"BURGLARY FROM VEHICLE, ATTEMPTED\",\"BURGLARY, ATTEMPTED\",\"CHILD ABANDONMENT\",\"CHILD ABUSE (PHYSICAL) - AGGRAVATED ASSAULT\",\"CHILD ABUSE (PHYSICAL) - SIMPLE ASSAULT\",\"CHILD ANNOYING (17YRS & UNDER)\",\"CHILD NEGLECT (SEE 300 W.I.C.)\",\"CHILD PORNOGRAPHY\",\"CHILD STEALING\",\"CONSPIRACY\",\"CONTEMPT OF COURT\",\"CONTRIBUTING\",\"COUNTERFEIT\",\"CREDIT CARDS, FRAUD USE ($950 & UNDER\",\"CREDIT CARDS, FRAUD USE ($950.01 & OVER)\",\"CRIMINAL HOMICIDE\",\"CRIMINAL THREATS - NO WEAPON DISPLAYED\",\"CRM AGNST CHLD (13 OR UNDER) (14-15 & SUSP 10 YRS OLDER)\",\"CRUELTY TO ANIMALS\",\"DEFRAUDING INNKEEPER\\u002fTHEFT OF SERVICES, $950 & UNDER\",\"DEFRAUDING INNKEEPER\\u002fTHEFT OF SERVICES, OVER $950.01\",\"DISCHARGE FIREARMS\\u002fSHOTS FIRED\",\"DISHONEST EMPLOYEE - GRAND THEFT\",\"DISHONEST EMPLOYEE - PETTY THEFT\",\"DISTURBING THE PEACE\",\"DOCUMENT FORGERY \\u002f STOLEN FELONY\",\"DOCUMENT WORTHLESS ($200 & UNDER)\",\"DOCUMENT WORTHLESS ($200.01 & OVER)\",\"DRIVING WITHOUT OWNER CONSENT (DWOC)\",\"EMBEZZLEMENT, GRAND THEFT ($950.01 & OVER)\",\"EMBEZZLEMENT, PETTY THEFT ($950 & UNDER)\",\"EXTORTION\",\"FAILURE TO YIELD\",\"FALSE IMPRISONMENT\",\"FALSE POLICE REPORT\",\"HUMAN TRAFFICKING - COMMERCIAL SEX ACTS\",\"ILLEGAL DUMPING\",\"INCEST (SEXUAL ACTS BETWEEN BLOOD RELATIVES)\",\"INDECENT EXPOSURE\",\"INTIMATE PARTNER - AGGRAVATED ASSAULT\",\"INTIMATE PARTNER - SIMPLE ASSAULT\",\"KIDNAPPING\",\"KIDNAPPING - GRAND ATTEMPT\",\"LETTERS, LEWD  -  TELEPHONE CALLS, LEWD\",\"LEWD CONDUCT\",\"LEWD\\u002fLASCIVIOUS ACTS WITH CHILD\",\"ORAL COPULATION\",\"OTHER ASSAULT\",\"OTHER MISCELLANEOUS CRIME\",\"PEEPING TOM\",\"PETTY THEFT - AUTO REPAIR\",\"PICKPOCKET\",\"PROWLER\",\"PURSE SNATCHING\",\"PURSE SNATCHING - ATTEMPT\",\"RAPE, ATTEMPTED\",\"RAPE, FORCIBLE\",\"RECKLESS DRIVING\",\"RESISTING ARREST\",\"ROBBERY\",\"SEX OFFENDER REGISTRANT OUT OF COMPLIANCE\",\"SEX,UNLAWFUL(INC MUTUAL CONSENT, PENETRATION W\\u002f FRGN OBJ\",\"SEXUAL PENETRATION W\\u002fFOREIGN OBJECT\",\"SHOPLIFTING - ATTEMPT\",\"SHOPLIFTING - PETTY THEFT ($950 & UNDER)\",\"SHOPLIFTING-GRAND THEFT ($950.01 & OVER)\",\"SHOTS FIRED AT INHABITED DWELLING\",\"SHOTS FIRED AT MOVING VEHICLE, TRAIN OR AIRCRAFT\",\"SODOMY\\u002fSEXUAL CONTACT B\\u002fW PENIS OF ONE PERS TO ANUS OTH\",\"STALKING\",\"TELEPHONE PROPERTY - DAMAGE\",\"THEFT FROM MOTOR VEHICLE - ATTEMPT\",\"THEFT FROM MOTOR VEHICLE - GRAND ($950.01 AND OVER)\",\"THEFT FROM MOTOR VEHICLE - PETTY ($950 & UNDER)\",\"THEFT FROM PERSON - ATTEMPT\",\"THEFT OF IDENTITY\",\"THEFT PLAIN - ATTEMPT\",\"THEFT PLAIN - PETTY ($950 & UNDER)\",\"THEFT, COIN MACHINE - GRAND ($950.01 & OVER)\",\"THEFT, COIN MACHINE - PETTY ($950 & UNDER)\",\"THEFT, PERSON\",\"THEFT-GRAND ($950.01 & OVER)EXCPT,GUNS,FOWL,LIVESTK,PROD\",\"THREATENING PHONE CALLS\\u002fLETTERS\",\"THROWING OBJECT AT MOVING VEHICLE\",\"TILL TAP - GRAND THEFT ($950.01 & OVER)\",\"TILL TAP - PETTY ($950 & UNDER)\",\"TRAIN WRECKING\",\"TRESPASSING\",\"UNAUTHORIZED COMPUTER ACCESS\",\"VANDALISM - FELONY ($400 & OVER, ALL CHURCH VANDALISMS)\",\"VANDALISM - MISDEAMEANOR ($399 OR UNDER)\",\"VEHICLE - ATTEMPT STOLEN\",\"VEHICLE - STOLEN\",\"VEHICLE, STOLEN - OTHER (MOTORIZED SCOOTERS, BIKES, ETC)\",\"VIOLATION OF COURT ORDER\",\"VIOLATION OF RESTRAINING ORDER\",\"VIOLATION OF TEMPORARY RESTRAINING ORDER\",\"WEAPONS POSSESSION\\u002fBOMBING\"],\"xaxis\":\"x\",\"y\":[89,24,2332,169,3141,10,82,125,105,35,11,659,38,243,74,2306,1606,38,159,1,36,319,54,51,11,18,1,32,3,4,10,14,78,964,93,10,22,4,212,2,1,50,109,2,1,6,49,8,80,73,15,10,4,11,1,40,730,2390,27,9,240,16,3,27,149,272,18,1,20,3,6,1,11,144,3,49,1006,73,58,76,12,736,131,88,7,18,22,3,42,1364,1483,4,1867,15,1538,1,1,93,1080,11,57,1,2,1,443,13,2592,1275,318,5630,40,402,1196,18,4],\"yaxis\":\"y\",\"type\":\"bar\"},{\"alignmentgroup\":\"True\",\"hovertemplate\":\"AREA NAME=Hollenbeck\\u003cbr\\u003eTipo de crimen=%{x}\\u003cbr\\u003eIncidencias=%{y}\\u003cextra\\u003e\\u003c\\u002fextra\\u003e\",\"legendgroup\":\"Hollenbeck\",\"marker\":{\"color\":\"#19d3f3\",\"pattern\":{\"shape\":\"\"}},\"name\":\"Hollenbeck\",\"offsetgroup\":\"Hollenbeck\",\"orientation\":\"v\",\"showlegend\":true,\"textposition\":\"auto\",\"x\":[\"ARSON\",\"ASSAULT WITH DEADLY WEAPON ON POLICE OFFICER\",\"ASSAULT WITH DEADLY WEAPON, AGGRAVATED ASSAULT\",\"ATTEMPTED ROBBERY\",\"BATTERY - SIMPLE ASSAULT\",\"BATTERY ON A FIREFIGHTER\",\"BATTERY POLICE (SIMPLE)\",\"BATTERY WITH SEXUAL CONTACT\",\"BIKE - STOLEN\",\"BOAT - STOLEN\",\"BOMB SCARE\",\"BRANDISH WEAPON\",\"BRIBERY\",\"BUNCO, ATTEMPT\",\"BUNCO, GRAND THEFT\",\"BUNCO, PETTY THEFT\",\"BURGLARY\",\"BURGLARY FROM VEHICLE\",\"BURGLARY FROM VEHICLE, ATTEMPTED\",\"BURGLARY, ATTEMPTED\",\"CHILD ABANDONMENT\",\"CHILD ABUSE (PHYSICAL) - AGGRAVATED ASSAULT\",\"CHILD ABUSE (PHYSICAL) - SIMPLE ASSAULT\",\"CHILD ANNOYING (17YRS & UNDER)\",\"CHILD NEGLECT (SEE 300 W.I.C.)\",\"CHILD PORNOGRAPHY\",\"CHILD STEALING\",\"CONTEMPT OF COURT\",\"CONTRIBUTING\",\"COUNTERFEIT\",\"CREDIT CARDS, FRAUD USE ($950 & UNDER\",\"CREDIT CARDS, FRAUD USE ($950.01 & OVER)\",\"CRIMINAL HOMICIDE\",\"CRIMINAL THREATS - NO WEAPON DISPLAYED\",\"CRM AGNST CHLD (13 OR UNDER) (14-15 & SUSP 10 YRS OLDER)\",\"CRUELTY TO ANIMALS\",\"DEFRAUDING INNKEEPER\\u002fTHEFT OF SERVICES, $950 & UNDER\",\"DISCHARGE FIREARMS\\u002fSHOTS FIRED\",\"DISHONEST EMPLOYEE - GRAND THEFT\",\"DISHONEST EMPLOYEE - PETTY THEFT\",\"DISTURBING THE PEACE\",\"DOCUMENT FORGERY \\u002f STOLEN FELONY\",\"DOCUMENT WORTHLESS ($200.01 & OVER)\",\"DRIVING WITHOUT OWNER CONSENT (DWOC)\",\"DRUGS, TO A MINOR\",\"DRUNK ROLL\",\"EMBEZZLEMENT, GRAND THEFT ($950.01 & OVER)\",\"EXTORTION\",\"FAILURE TO YIELD\",\"FALSE IMPRISONMENT\",\"FALSE POLICE REPORT\",\"FIREARMS EMERGENCY PROTECTIVE ORDER (FIREARMS EPO)\",\"GRAND THEFT \\u002f AUTO REPAIR\",\"HUMAN TRAFFICKING - COMMERCIAL SEX ACTS\",\"HUMAN TRAFFICKING - INVOLUNTARY SERVITUDE\",\"ILLEGAL DUMPING\",\"INDECENT EXPOSURE\",\"INTIMATE PARTNER - AGGRAVATED ASSAULT\",\"INTIMATE PARTNER - SIMPLE ASSAULT\",\"KIDNAPPING\",\"KIDNAPPING - GRAND ATTEMPT\",\"LETTERS, LEWD  -  TELEPHONE CALLS, LEWD\",\"LEWD CONDUCT\",\"LEWD\\u002fLASCIVIOUS ACTS WITH CHILD\",\"LYNCHING\",\"LYNCHING - ATTEMPTED\",\"ORAL COPULATION\",\"OTHER ASSAULT\",\"OTHER MISCELLANEOUS CRIME\",\"PEEPING TOM\",\"PICKPOCKET\",\"PURSE SNATCHING\",\"RAPE, ATTEMPTED\",\"RAPE, FORCIBLE\",\"RECKLESS DRIVING\",\"RESISTING ARREST\",\"ROBBERY\",\"SEX OFFENDER REGISTRANT OUT OF COMPLIANCE\",\"SEX,UNLAWFUL(INC MUTUAL CONSENT, PENETRATION W\\u002f FRGN OBJ\",\"SEXUAL PENETRATION W\\u002fFOREIGN OBJECT\",\"SHOPLIFTING - ATTEMPT\",\"SHOPLIFTING - PETTY THEFT ($950 & UNDER)\",\"SHOPLIFTING-GRAND THEFT ($950.01 & OVER)\",\"SHOTS FIRED AT INHABITED DWELLING\",\"SHOTS FIRED AT MOVING VEHICLE, TRAIN OR AIRCRAFT\",\"SODOMY\\u002fSEXUAL CONTACT B\\u002fW PENIS OF ONE PERS TO ANUS OTH\",\"STALKING\",\"THEFT FROM MOTOR VEHICLE - ATTEMPT\",\"THEFT FROM MOTOR VEHICLE - GRAND ($950.01 AND OVER)\",\"THEFT FROM MOTOR VEHICLE - PETTY ($950 & UNDER)\",\"THEFT FROM PERSON - ATTEMPT\",\"THEFT OF IDENTITY\",\"THEFT PLAIN - ATTEMPT\",\"THEFT PLAIN - PETTY ($950 & UNDER)\",\"THEFT, PERSON\",\"THEFT-GRAND ($950.01 & OVER)EXCPT,GUNS,FOWL,LIVESTK,PROD\",\"THREATENING PHONE CALLS\\u002fLETTERS\",\"THROWING OBJECT AT MOVING VEHICLE\",\"TILL TAP - GRAND THEFT ($950.01 & OVER)\",\"TILL TAP - PETTY ($950 & UNDER)\",\"TRESPASSING\",\"UNAUTHORIZED COMPUTER ACCESS\",\"VANDALISM - FELONY ($400 & OVER, ALL CHURCH VANDALISMS)\",\"VANDALISM - MISDEAMEANOR ($399 OR UNDER)\",\"VEHICLE - ATTEMPT STOLEN\",\"VEHICLE - STOLEN\",\"VEHICLE, STOLEN - OTHER (MOTORIZED SCOOTERS, BIKES, ETC)\",\"VIOLATION OF COURT ORDER\",\"VIOLATION OF RESTRAINING ORDER\",\"VIOLATION OF TEMPORARY RESTRAINING ORDER\",\"WEAPONS POSSESSION\\u002fBOMBING\"],\"xaxis\":\"x\",\"y\":[99,59,2328,169,3087,12,83,123,63,1,7,569,1,3,179,69,1662,1334,29,164,1,41,149,62,37,14,17,46,1,2,2,2,144,739,77,9,2,136,3,1,25,47,4,3,1,1,32,72,53,13,7,1,1,1,1,3,49,501,1697,31,12,259,21,2,2,1,21,167,185,10,27,3,9,114,5,28,1122,4,30,45,7,356,71,143,48,15,9,48,1297,1483,4,1970,22,1531,57,990,6,29,2,2,288,6,2407,1205,219,5637,4,378,740,45,1],\"yaxis\":\"y\",\"type\":\"bar\"},{\"alignmentgroup\":\"True\",\"hovertemplate\":\"AREA NAME=Hollywood\\u003cbr\\u003eTipo de crimen=%{x}\\u003cbr\\u003eIncidencias=%{y}\\u003cextra\\u003e\\u003c\\u002fextra\\u003e\",\"legendgroup\":\"Hollywood\",\"marker\":{\"color\":\"#FF6692\",\"pattern\":{\"shape\":\"\"}},\"name\":\"Hollywood\",\"offsetgroup\":\"Hollywood\",\"orientation\":\"v\",\"showlegend\":true,\"textposition\":\"auto\",\"x\":[\"ARSON\",\"ASSAULT WITH DEADLY WEAPON ON POLICE OFFICER\",\"ASSAULT WITH DEADLY WEAPON, AGGRAVATED ASSAULT\",\"ATTEMPTED ROBBERY\",\"BATTERY - SIMPLE ASSAULT\",\"BATTERY ON A FIREFIGHTER\",\"BATTERY POLICE (SIMPLE)\",\"BATTERY WITH SEXUAL CONTACT\",\"BEASTIALITY, CRIME AGAINST NATURE SEXUAL ASSLT WITH ANIM\",\"BIKE - STOLEN\",\"BOMB SCARE\",\"BRANDISH WEAPON\",\"BRIBERY\",\"BUNCO, ATTEMPT\",\"BUNCO, GRAND THEFT\",\"BUNCO, PETTY THEFT\",\"BURGLARY\",\"BURGLARY FROM VEHICLE\",\"BURGLARY FROM VEHICLE, ATTEMPTED\",\"BURGLARY, ATTEMPTED\",\"CHILD ABUSE (PHYSICAL) - AGGRAVATED ASSAULT\",\"CHILD ABUSE (PHYSICAL) - SIMPLE ASSAULT\",\"CHILD ANNOYING (17YRS & UNDER)\",\"CHILD NEGLECT (SEE 300 W.I.C.)\",\"CHILD PORNOGRAPHY\",\"CHILD STEALING\",\"CONSPIRACY\",\"CONTEMPT OF COURT\",\"CONTRIBUTING\",\"COUNTERFEIT\",\"CREDIT CARDS, FRAUD USE ($950 & UNDER\",\"CREDIT CARDS, FRAUD USE ($950.01 & OVER)\",\"CRIMINAL HOMICIDE\",\"CRIMINAL THREATS - NO WEAPON DISPLAYED\",\"CRM AGNST CHLD (13 OR UNDER) (14-15 & SUSP 10 YRS OLDER)\",\"CRUELTY TO ANIMALS\",\"DEFRAUDING INNKEEPER\\u002fTHEFT OF SERVICES, $950 & UNDER\",\"DEFRAUDING INNKEEPER\\u002fTHEFT OF SERVICES, OVER $950.01\",\"DISCHARGE FIREARMS\\u002fSHOTS FIRED\",\"DISRUPT SCHOOL\",\"DISTURBING THE PEACE\",\"DOCUMENT FORGERY \\u002f STOLEN FELONY\",\"DOCUMENT WORTHLESS ($200 & UNDER)\",\"DOCUMENT WORTHLESS ($200.01 & OVER)\",\"DRIVING WITHOUT OWNER CONSENT (DWOC)\",\"DRUNK ROLL\",\"EMBEZZLEMENT, GRAND THEFT ($950.01 & OVER)\",\"EMBEZZLEMENT, PETTY THEFT ($950 & UNDER)\",\"EXTORTION\",\"FAILURE TO YIELD\",\"FALSE IMPRISONMENT\",\"FALSE POLICE REPORT\",\"FIREARMS RESTRAINING ORDER (FIREARMS RO)\",\"GRAND THEFT \\u002f INSURANCE FRAUD\",\"HUMAN TRAFFICKING - COMMERCIAL SEX ACTS\",\"HUMAN TRAFFICKING - INVOLUNTARY SERVITUDE\",\"ILLEGAL DUMPING\",\"INCITING A RIOT\",\"INDECENT EXPOSURE\",\"INTIMATE PARTNER - AGGRAVATED ASSAULT\",\"INTIMATE PARTNER - SIMPLE ASSAULT\",\"KIDNAPPING\",\"KIDNAPPING - GRAND ATTEMPT\",\"LETTERS, LEWD  -  TELEPHONE CALLS, LEWD\",\"LEWD CONDUCT\",\"LEWD\\u002fLASCIVIOUS ACTS WITH CHILD\",\"LYNCHING\",\"LYNCHING - ATTEMPTED\",\"ORAL COPULATION\",\"OTHER ASSAULT\",\"OTHER MISCELLANEOUS CRIME\",\"PANDERING\",\"PEEPING TOM\",\"PICKPOCKET\",\"PIMPING\",\"PROWLER\",\"PURSE SNATCHING\",\"RAPE, ATTEMPTED\",\"RAPE, FORCIBLE\",\"RECKLESS DRIVING\",\"REPLICA FIREARMS(SALE,DISPLAY,MANUFACTURE OR DISTRIBUTE)\",\"RESISTING ARREST\",\"ROBBERY\",\"SEX OFFENDER REGISTRANT OUT OF COMPLIANCE\",\"SEX,UNLAWFUL(INC MUTUAL CONSENT, PENETRATION W\\u002f FRGN OBJ\",\"SEXUAL PENETRATION W\\u002fFOREIGN OBJECT\",\"SHOPLIFTING - ATTEMPT\",\"SHOPLIFTING - PETTY THEFT ($950 & UNDER)\",\"SHOPLIFTING-GRAND THEFT ($950.01 & OVER)\",\"SHOTS FIRED AT INHABITED DWELLING\",\"SHOTS FIRED AT MOVING VEHICLE, TRAIN OR AIRCRAFT\",\"SODOMY\\u002fSEXUAL CONTACT B\\u002fW PENIS OF ONE PERS TO ANUS OTH\",\"STALKING\",\"THEFT FROM MOTOR VEHICLE - ATTEMPT\",\"THEFT FROM MOTOR VEHICLE - GRAND ($950.01 AND OVER)\",\"THEFT FROM MOTOR VEHICLE - PETTY ($950 & UNDER)\",\"THEFT FROM PERSON - ATTEMPT\",\"THEFT OF IDENTITY\",\"THEFT PLAIN - ATTEMPT\",\"THEFT PLAIN - PETTY ($950 & UNDER)\",\"THEFT, PERSON\",\"THEFT-GRAND ($950.01 & OVER)EXCPT,GUNS,FOWL,LIVESTK,PROD\",\"THREATENING PHONE CALLS\\u002fLETTERS\",\"THROWING OBJECT AT MOVING VEHICLE\",\"TILL TAP - GRAND THEFT ($950.01 & OVER)\",\"TRESPASSING\",\"UNAUTHORIZED COMPUTER ACCESS\",\"VANDALISM - FELONY ($400 & OVER, ALL CHURCH VANDALISMS)\",\"VANDALISM - MISDEAMEANOR ($399 OR UNDER)\",\"VEHICLE - ATTEMPT STOLEN\",\"VEHICLE - STOLEN\",\"VEHICLE, STOLEN - OTHER (MOTORIZED SCOOTERS, BIKES, ETC)\",\"VIOLATION OF COURT ORDER\",\"VIOLATION OF RESTRAINING ORDER\",\"VIOLATION OF TEMPORARY RESTRAINING ORDER\",\"WEAPONS POSSESSION\\u002fBOMBING\"],\"xaxis\":\"x\",\"y\":[127,55,2732,288,4481,19,199,284,1,420,55,810,1,8,341,159,2614,4040,21,160,15,40,22,40,8,15,1,31,3,3,1,4,44,1048,40,18,43,14,73,2,64,126,1,1,25,4,144,5,94,120,30,11,1,1,17,7,6,1,111,482,2086,54,11,487,54,1,2,1,47,289,411,5,13,674,25,1,4,17,234,16,1,68,2029,13,43,126,3,1400,174,32,3,50,72,14,1381,1592,3,2546,29,3603,269,2320,15,38,1,1291,31,3357,1101,75,3645,85,212,422,22,6],\"yaxis\":\"y\",\"type\":\"bar\"},{\"alignmentgroup\":\"True\",\"hovertemplate\":\"AREA NAME=Mission\\u003cbr\\u003eTipo de crimen=%{x}\\u003cbr\\u003eIncidencias=%{y}\\u003cextra\\u003e\\u003c\\u002fextra\\u003e\",\"legendgroup\":\"Mission\",\"marker\":{\"color\":\"#B6E880\",\"pattern\":{\"shape\":\"\"}},\"name\":\"Mission\",\"offsetgroup\":\"Mission\",\"orientation\":\"v\",\"showlegend\":true,\"textposition\":\"auto\",\"x\":[\"ARSON\",\"ASSAULT WITH DEADLY WEAPON ON POLICE OFFICER\",\"ASSAULT WITH DEADLY WEAPON, AGGRAVATED ASSAULT\",\"ATTEMPTED ROBBERY\",\"BATTERY - SIMPLE ASSAULT\",\"BATTERY ON A FIREFIGHTER\",\"BATTERY POLICE (SIMPLE)\",\"BATTERY WITH SEXUAL CONTACT\",\"BIKE - STOLEN\",\"BOAT - STOLEN\",\"BOMB SCARE\",\"BRANDISH WEAPON\",\"BRIBERY\",\"BUNCO, ATTEMPT\",\"BUNCO, GRAND THEFT\",\"BUNCO, PETTY THEFT\",\"BURGLARY\",\"BURGLARY FROM VEHICLE\",\"BURGLARY FROM VEHICLE, ATTEMPTED\",\"BURGLARY, ATTEMPTED\",\"CHILD ABANDONMENT\",\"CHILD ABUSE (PHYSICAL) - AGGRAVATED ASSAULT\",\"CHILD ABUSE (PHYSICAL) - SIMPLE ASSAULT\",\"CHILD ANNOYING (17YRS & UNDER)\",\"CHILD NEGLECT (SEE 300 W.I.C.)\",\"CHILD PORNOGRAPHY\",\"CHILD STEALING\",\"CONSPIRACY\",\"CONTEMPT OF COURT\",\"CONTRIBUTING\",\"COUNTERFEIT\",\"CREDIT CARDS, FRAUD USE ($950 & UNDER\",\"CREDIT CARDS, FRAUD USE ($950.01 & OVER)\",\"CRIMINAL HOMICIDE\",\"CRIMINAL THREATS - NO WEAPON DISPLAYED\",\"CRM AGNST CHLD (13 OR UNDER) (14-15 & SUSP 10 YRS OLDER)\",\"CRUELTY TO ANIMALS\",\"DEFRAUDING INNKEEPER\\u002fTHEFT OF SERVICES, $950 & UNDER\",\"DEFRAUDING INNKEEPER\\u002fTHEFT OF SERVICES, OVER $950.01\",\"DISCHARGE FIREARMS\\u002fSHOTS FIRED\",\"DISHONEST EMPLOYEE - GRAND THEFT\",\"DISHONEST EMPLOYEE - PETTY THEFT\",\"DISRUPT SCHOOL\",\"DISTURBING THE PEACE\",\"DOCUMENT FORGERY \\u002f STOLEN FELONY\",\"DOCUMENT WORTHLESS ($200 & UNDER)\",\"DOCUMENT WORTHLESS ($200.01 & OVER)\",\"DRIVING WITHOUT OWNER CONSENT (DWOC)\",\"DRUGS, TO A MINOR\",\"EMBEZZLEMENT, GRAND THEFT ($950.01 & OVER)\",\"EMBEZZLEMENT, PETTY THEFT ($950 & UNDER)\",\"EXTORTION\",\"FAILURE TO YIELD\",\"FALSE IMPRISONMENT\",\"FALSE POLICE REPORT\",\"FIREARMS RESTRAINING ORDER (FIREARMS RO)\",\"GRAND THEFT \\u002f AUTO REPAIR\",\"GRAND THEFT \\u002f INSURANCE FRAUD\",\"HUMAN TRAFFICKING - COMMERCIAL SEX ACTS\",\"HUMAN TRAFFICKING - INVOLUNTARY SERVITUDE\",\"ILLEGAL DUMPING\",\"INDECENT EXPOSURE\",\"INTIMATE PARTNER - AGGRAVATED ASSAULT\",\"INTIMATE PARTNER - SIMPLE ASSAULT\",\"KIDNAPPING\",\"KIDNAPPING - GRAND ATTEMPT\",\"LETTERS, LEWD  -  TELEPHONE CALLS, LEWD\",\"LEWD CONDUCT\",\"LEWD\\u002fLASCIVIOUS ACTS WITH CHILD\",\"ORAL COPULATION\",\"OTHER ASSAULT\",\"OTHER MISCELLANEOUS CRIME\",\"PANDERING\",\"PEEPING TOM\",\"PICKPOCKET\",\"PURSE SNATCHING\",\"RAPE, ATTEMPTED\",\"RAPE, FORCIBLE\",\"RECKLESS DRIVING\",\"RESISTING ARREST\",\"ROBBERY\",\"SEX OFFENDER REGISTRANT OUT OF COMPLIANCE\",\"SEX,UNLAWFUL(INC MUTUAL CONSENT, PENETRATION W\\u002f FRGN OBJ\",\"SEXUAL PENETRATION W\\u002fFOREIGN OBJECT\",\"SHOPLIFTING - ATTEMPT\",\"SHOPLIFTING - PETTY THEFT ($950 & UNDER)\",\"SHOPLIFTING-GRAND THEFT ($950.01 & OVER)\",\"SHOTS FIRED AT INHABITED DWELLING\",\"SHOTS FIRED AT MOVING VEHICLE, TRAIN OR AIRCRAFT\",\"SODOMY\\u002fSEXUAL CONTACT B\\u002fW PENIS OF ONE PERS TO ANUS OTH\",\"STALKING\",\"THEFT FROM MOTOR VEHICLE - ATTEMPT\",\"THEFT FROM MOTOR VEHICLE - GRAND ($950.01 AND OVER)\",\"THEFT FROM MOTOR VEHICLE - PETTY ($950 & UNDER)\",\"THEFT FROM PERSON - ATTEMPT\",\"THEFT OF IDENTITY\",\"THEFT PLAIN - ATTEMPT\",\"THEFT PLAIN - PETTY ($950 & UNDER)\",\"THEFT, COIN MACHINE - PETTY ($950 & UNDER)\",\"THEFT, PERSON\",\"THEFT-GRAND ($950.01 & OVER)EXCPT,GUNS,FOWL,LIVESTK,PROD\",\"THREATENING PHONE CALLS\\u002fLETTERS\",\"THROWING OBJECT AT MOVING VEHICLE\",\"TRESPASSING\",\"UNAUTHORIZED COMPUTER ACCESS\",\"VANDALISM - FELONY ($400 & OVER, ALL CHURCH VANDALISMS)\",\"VANDALISM - MISDEAMEANOR ($399 OR UNDER)\",\"VEHICLE - ATTEMPT STOLEN\",\"VEHICLE - STOLEN\",\"VEHICLE, STOLEN - OTHER (MOTORIZED SCOOTERS, BIKES, ETC)\",\"VIOLATION OF COURT ORDER\",\"VIOLATION OF RESTRAINING ORDER\",\"VIOLATION OF TEMPORARY RESTRAINING ORDER\"],\"xaxis\":\"x\",\"y\":[101,38,1973,164,2601,8,85,205,93,9,12,600,1,8,248,92,1537,1736,19,130,2,49,387,87,82,12,10,1,43,4,6,1,2,46,661,152,15,12,4,113,2,1,2,40,133,2,1,7,2,82,1,142,111,12,9,1,1,1,8,1,4,56,649,2606,37,5,365,31,4,38,127,289,7,10,11,2,13,162,15,75,999,24,76,56,5,1065,181,31,8,21,43,45,1511,1857,2,2950,8,1384,1,143,916,19,23,439,18,2181,862,150,5372,10,367,1020,43],\"yaxis\":\"y\",\"type\":\"bar\"},{\"alignmentgroup\":\"True\",\"hovertemplate\":\"AREA NAME=N Hollywood\\u003cbr\\u003eTipo de crimen=%{x}\\u003cbr\\u003eIncidencias=%{y}\\u003cextra\\u003e\\u003c\\u002fextra\\u003e\",\"legendgroup\":\"N Hollywood\",\"marker\":{\"color\":\"#FF97FF\",\"pattern\":{\"shape\":\"\"}},\"name\":\"N Hollywood\",\"offsetgroup\":\"N Hollywood\",\"orientation\":\"v\",\"showlegend\":true,\"textposition\":\"auto\",\"x\":[\"ARSON\",\"ASSAULT WITH DEADLY WEAPON ON POLICE OFFICER\",\"ASSAULT WITH DEADLY WEAPON, AGGRAVATED ASSAULT\",\"ATTEMPTED ROBBERY\",\"BATTERY - SIMPLE ASSAULT\",\"BATTERY ON A FIREFIGHTER\",\"BATTERY POLICE (SIMPLE)\",\"BATTERY WITH SEXUAL CONTACT\",\"BIGAMY\",\"BIKE - STOLEN\",\"BOAT - STOLEN\",\"BOMB SCARE\",\"BRANDISH WEAPON\",\"BUNCO, ATTEMPT\",\"BUNCO, GRAND THEFT\",\"BUNCO, PETTY THEFT\",\"BURGLARY\",\"BURGLARY FROM VEHICLE\",\"BURGLARY FROM VEHICLE, ATTEMPTED\",\"BURGLARY, ATTEMPTED\",\"CHILD ABUSE (PHYSICAL) - AGGRAVATED ASSAULT\",\"CHILD ABUSE (PHYSICAL) - SIMPLE ASSAULT\",\"CHILD ANNOYING (17YRS & UNDER)\",\"CHILD NEGLECT (SEE 300 W.I.C.)\",\"CHILD PORNOGRAPHY\",\"CHILD STEALING\",\"CONSPIRACY\",\"CONTEMPT OF COURT\",\"CONTRIBUTING\",\"COUNTERFEIT\",\"CREDIT CARDS, FRAUD USE ($950 & UNDER\",\"CREDIT CARDS, FRAUD USE ($950.01 & OVER)\",\"CRIMINAL HOMICIDE\",\"CRIMINAL THREATS - NO WEAPON DISPLAYED\",\"CRM AGNST CHLD (13 OR UNDER) (14-15 & SUSP 10 YRS OLDER)\",\"CRUELTY TO ANIMALS\",\"DEFRAUDING INNKEEPER\\u002fTHEFT OF SERVICES, $950 & UNDER\",\"DEFRAUDING INNKEEPER\\u002fTHEFT OF SERVICES, OVER $950.01\",\"DISCHARGE FIREARMS\\u002fSHOTS FIRED\",\"DISHONEST EMPLOYEE ATTEMPTED THEFT\",\"DISTURBING THE PEACE\",\"DOCUMENT FORGERY \\u002f STOLEN FELONY\",\"DOCUMENT WORTHLESS ($200 & UNDER)\",\"DOCUMENT WORTHLESS ($200.01 & OVER)\",\"DRIVING WITHOUT OWNER CONSENT (DWOC)\",\"DRUGS, TO A MINOR\",\"DRUNK ROLL\",\"EMBEZZLEMENT, GRAND THEFT ($950.01 & OVER)\",\"EMBEZZLEMENT, PETTY THEFT ($950 & UNDER)\",\"EXTORTION\",\"FAILURE TO YIELD\",\"FALSE IMPRISONMENT\",\"FALSE POLICE REPORT\",\"FIREARMS RESTRAINING ORDER (FIREARMS RO)\",\"GRAND THEFT \\u002f AUTO REPAIR\",\"GRAND THEFT \\u002f INSURANCE FRAUD\",\"HUMAN TRAFFICKING - COMMERCIAL SEX ACTS\",\"HUMAN TRAFFICKING - INVOLUNTARY SERVITUDE\",\"ILLEGAL DUMPING\",\"INDECENT EXPOSURE\",\"INTIMATE PARTNER - AGGRAVATED ASSAULT\",\"INTIMATE PARTNER - SIMPLE ASSAULT\",\"KIDNAPPING\",\"KIDNAPPING - GRAND ATTEMPT\",\"LETTERS, LEWD  -  TELEPHONE CALLS, LEWD\",\"LEWD CONDUCT\",\"LEWD\\u002fLASCIVIOUS ACTS WITH CHILD\",\"LYNCHING\",\"MANSLAUGHTER, NEGLIGENT\",\"ORAL COPULATION\",\"OTHER ASSAULT\",\"OTHER MISCELLANEOUS CRIME\",\"PANDERING\",\"PEEPING TOM\",\"PETTY THEFT - AUTO REPAIR\",\"PICKPOCKET\",\"PIMPING\",\"PROWLER\",\"PURSE SNATCHING\",\"PURSE SNATCHING - ATTEMPT\",\"RAPE, ATTEMPTED\",\"RAPE, FORCIBLE\",\"RECKLESS DRIVING\",\"REPLICA FIREARMS(SALE,DISPLAY,MANUFACTURE OR DISTRIBUTE)\",\"RESISTING ARREST\",\"ROBBERY\",\"SEX OFFENDER REGISTRANT OUT OF COMPLIANCE\",\"SEX,UNLAWFUL(INC MUTUAL CONSENT, PENETRATION W\\u002f FRGN OBJ\",\"SEXUAL PENETRATION W\\u002fFOREIGN OBJECT\",\"SHOPLIFTING - ATTEMPT\",\"SHOPLIFTING - PETTY THEFT ($950 & UNDER)\",\"SHOPLIFTING-GRAND THEFT ($950.01 & OVER)\",\"SHOTS FIRED AT INHABITED DWELLING\",\"SHOTS FIRED AT MOVING VEHICLE, TRAIN OR AIRCRAFT\",\"SODOMY\\u002fSEXUAL CONTACT B\\u002fW PENIS OF ONE PERS TO ANUS OTH\",\"STALKING\",\"THEFT FROM MOTOR VEHICLE - ATTEMPT\",\"THEFT FROM MOTOR VEHICLE - GRAND ($950.01 AND OVER)\",\"THEFT FROM MOTOR VEHICLE - PETTY ($950 & UNDER)\",\"THEFT FROM PERSON - ATTEMPT\",\"THEFT OF IDENTITY\",\"THEFT PLAIN - ATTEMPT\",\"THEFT PLAIN - PETTY ($950 & UNDER)\",\"THEFT, COIN MACHINE - GRAND ($950.01 & OVER)\",\"THEFT, COIN MACHINE - PETTY ($950 & UNDER)\",\"THEFT, PERSON\",\"THEFT-GRAND ($950.01 & OVER)EXCPT,GUNS,FOWL,LIVESTK,PROD\",\"THREATENING PHONE CALLS\\u002fLETTERS\",\"THROWING OBJECT AT MOVING VEHICLE\",\"TILL TAP - PETTY ($950 & UNDER)\",\"TRESPASSING\",\"UNAUTHORIZED COMPUTER ACCESS\",\"VANDALISM - FELONY ($400 & OVER, ALL CHURCH VANDALISMS)\",\"VANDALISM - MISDEAMEANOR ($399 OR UNDER)\",\"VEHICLE - ATTEMPT STOLEN\",\"VEHICLE - STOLEN\",\"VEHICLE, STOLEN - OTHER (MOTORIZED SCOOTERS, BIKES, ETC)\",\"VIOLATION OF COURT ORDER\",\"VIOLATION OF RESTRAINING ORDER\",\"VIOLATION OF TEMPORARY RESTRAINING ORDER\",\"WEAPONS POSSESSION\\u002fBOMBING\"],\"xaxis\":\"x\",\"y\":[141,32,1967,160,3421,8,97,210,1,402,9,6,614,19,338,107,3707,3390,33,186,14,146,50,43,16,13,1,915,3,6,3,2,50,654,47,9,13,3,83,1,114,213,1,4,3,1,3,185,7,113,18,8,1,1,1,1,6,3,2,72,500,2254,25,7,552,29,4,1,1,35,212,400,1,21,3,39,4,10,2,2,8,193,9,6,27,1127,26,48,49,4,1536,222,51,14,25,25,25,2240,2468,4,3170,27,2588,2,2,93,1919,29,71,1,1324,28,3176,1137,204,4596,55,104,106,37,1],\"yaxis\":\"y\",\"type\":\"bar\"},{\"alignmentgroup\":\"True\",\"hovertemplate\":\"AREA NAME=Newton\\u003cbr\\u003eTipo de crimen=%{x}\\u003cbr\\u003eIncidencias=%{y}\\u003cextra\\u003e\\u003c\\u002fextra\\u003e\",\"legendgroup\":\"Newton\",\"marker\":{\"color\":\"#FECB52\",\"pattern\":{\"shape\":\"\"}},\"name\":\"Newton\",\"offsetgroup\":\"Newton\",\"orientation\":\"v\",\"showlegend\":true,\"textposition\":\"auto\",\"x\":[\"ARSON\",\"ASSAULT WITH DEADLY WEAPON ON POLICE OFFICER\",\"ASSAULT WITH DEADLY WEAPON, AGGRAVATED ASSAULT\",\"ATTEMPTED ROBBERY\",\"BATTERY - SIMPLE ASSAULT\",\"BATTERY ON A FIREFIGHTER\",\"BATTERY POLICE (SIMPLE)\",\"BATTERY WITH SEXUAL CONTACT\",\"BIGAMY\",\"BIKE - STOLEN\",\"BOAT - STOLEN\",\"BOMB SCARE\",\"BRANDISH WEAPON\",\"BUNCO, ATTEMPT\",\"BUNCO, GRAND THEFT\",\"BUNCO, PETTY THEFT\",\"BURGLARY\",\"BURGLARY FROM VEHICLE\",\"BURGLARY FROM VEHICLE, ATTEMPTED\",\"BURGLARY, ATTEMPTED\",\"CHILD ABANDONMENT\",\"CHILD ABUSE (PHYSICAL) - AGGRAVATED ASSAULT\",\"CHILD ABUSE (PHYSICAL) - SIMPLE ASSAULT\",\"CHILD ANNOYING (17YRS & UNDER)\",\"CHILD NEGLECT (SEE 300 W.I.C.)\",\"CHILD PORNOGRAPHY\",\"CHILD STEALING\",\"CONSPIRACY\",\"CONTEMPT OF COURT\",\"CONTRIBUTING\",\"COUNTERFEIT\",\"CREDIT CARDS, FRAUD USE ($950 & UNDER\",\"CREDIT CARDS, FRAUD USE ($950.01 & OVER)\",\"CRIMINAL HOMICIDE\",\"CRIMINAL THREATS - NO WEAPON DISPLAYED\",\"CRM AGNST CHLD (13 OR UNDER) (14-15 & SUSP 10 YRS OLDER)\",\"CRUELTY TO ANIMALS\",\"DEFRAUDING INNKEEPER\\u002fTHEFT OF SERVICES, $950 & UNDER\",\"DEFRAUDING INNKEEPER\\u002fTHEFT OF SERVICES, OVER $950.01\",\"DISCHARGE FIREARMS\\u002fSHOTS FIRED\",\"DISHONEST EMPLOYEE - PETTY THEFT\",\"DISRUPT SCHOOL\",\"DISTURBING THE PEACE\",\"DOCUMENT FORGERY \\u002f STOLEN FELONY\",\"DOCUMENT WORTHLESS ($200 & UNDER)\",\"DOCUMENT WORTHLESS ($200.01 & OVER)\",\"DRIVING WITHOUT OWNER CONSENT (DWOC)\",\"DRUGS, TO A MINOR\",\"DRUNK ROLL\",\"EMBEZZLEMENT, GRAND THEFT ($950.01 & OVER)\",\"EMBEZZLEMENT, PETTY THEFT ($950 & UNDER)\",\"EXTORTION\",\"FAILURE TO YIELD\",\"FALSE IMPRISONMENT\",\"FALSE POLICE REPORT\",\"HUMAN TRAFFICKING - COMMERCIAL SEX ACTS\",\"HUMAN TRAFFICKING - INVOLUNTARY SERVITUDE\",\"ILLEGAL DUMPING\",\"INDECENT EXPOSURE\",\"INTIMATE PARTNER - AGGRAVATED ASSAULT\",\"INTIMATE PARTNER - SIMPLE ASSAULT\",\"KIDNAPPING\",\"KIDNAPPING - GRAND ATTEMPT\",\"LETTERS, LEWD  -  TELEPHONE CALLS, LEWD\",\"LEWD CONDUCT\",\"LEWD\\u002fLASCIVIOUS ACTS WITH CHILD\",\"LYNCHING\",\"LYNCHING - ATTEMPTED\",\"ORAL COPULATION\",\"OTHER ASSAULT\",\"OTHER MISCELLANEOUS CRIME\",\"PEEPING TOM\",\"PICKPOCKET\",\"PURSE SNATCHING\",\"PURSE SNATCHING - ATTEMPT\",\"RAPE, ATTEMPTED\",\"RAPE, FORCIBLE\",\"RECKLESS DRIVING\",\"REPLICA FIREARMS(SALE,DISPLAY,MANUFACTURE OR DISTRIBUTE)\",\"RESISTING ARREST\",\"ROBBERY\",\"SEX OFFENDER REGISTRANT OUT OF COMPLIANCE\",\"SEX,UNLAWFUL(INC MUTUAL CONSENT, PENETRATION W\\u002f FRGN OBJ\",\"SEXUAL PENETRATION W\\u002fFOREIGN OBJECT\",\"SHOPLIFTING - PETTY THEFT ($950 & UNDER)\",\"SHOPLIFTING-GRAND THEFT ($950.01 & OVER)\",\"SHOTS FIRED AT INHABITED DWELLING\",\"SHOTS FIRED AT MOVING VEHICLE, TRAIN OR AIRCRAFT\",\"SODOMY\\u002fSEXUAL CONTACT B\\u002fW PENIS OF ONE PERS TO ANUS OTH\",\"STALKING\",\"THEFT FROM MOTOR VEHICLE - ATTEMPT\",\"THEFT FROM MOTOR VEHICLE - GRAND ($950.01 AND OVER)\",\"THEFT FROM MOTOR VEHICLE - PETTY ($950 & UNDER)\",\"THEFT FROM PERSON - ATTEMPT\",\"THEFT OF IDENTITY\",\"THEFT PLAIN - ATTEMPT\",\"THEFT PLAIN - PETTY ($950 & UNDER)\",\"THEFT, COIN MACHINE - ATTEMPT\",\"THEFT, COIN MACHINE - PETTY ($950 & UNDER)\",\"THEFT, PERSON\",\"THEFT-GRAND ($950.01 & OVER)EXCPT,GUNS,FOWL,LIVESTK,PROD\",\"THREATENING PHONE CALLS\\u002fLETTERS\",\"THROWING OBJECT AT MOVING VEHICLE\",\"TILL TAP - GRAND THEFT ($950.01 & OVER)\",\"TILL TAP - PETTY ($950 & UNDER)\",\"TRESPASSING\",\"UNAUTHORIZED COMPUTER ACCESS\",\"VANDALISM - FELONY ($400 & OVER, ALL CHURCH VANDALISMS)\",\"VANDALISM - MISDEAMEANOR ($399 OR UNDER)\",\"VEHICLE - ATTEMPT STOLEN\",\"VEHICLE - STOLEN\",\"VEHICLE, STOLEN - OTHER (MOTORIZED SCOOTERS, BIKES, ETC)\",\"VIOLATION OF COURT ORDER\",\"VIOLATION OF RESTRAINING ORDER\",\"VIOLATION OF TEMPORARY RESTRAINING ORDER\",\"WEAPONS POSSESSION\\u002fBOMBING\"],\"xaxis\":\"x\",\"y\":[180,56,3740,366,4148,6,120,176,1,65,4,10,871,29,137,56,2440,2661,30,147,3,24,128,63,47,12,23,1,53,3,1,3,6,134,790,150,8,7,1,246,2,1,19,62,4,6,13,1,1,158,6,74,200,16,2,3,5,1,54,651,2620,51,13,194,23,5,2,2,31,154,197,8,135,9,2,14,190,15,1,72,2257,69,61,56,448,102,117,18,39,13,32,1117,1595,8,2485,35,1571,2,3,220,1453,7,37,3,2,336,5,2799,1214,214,7678,10,221,893,39,3],\"yaxis\":\"y\",\"type\":\"bar\"},{\"alignmentgroup\":\"True\",\"hovertemplate\":\"AREA NAME=Northeast\\u003cbr\\u003eTipo de crimen=%{x}\\u003cbr\\u003eIncidencias=%{y}\\u003cextra\\u003e\\u003c\\u002fextra\\u003e\",\"legendgroup\":\"Northeast\",\"marker\":{\"color\":\"#636efa\",\"pattern\":{\"shape\":\"\"}},\"name\":\"Northeast\",\"offsetgroup\":\"Northeast\",\"orientation\":\"v\",\"showlegend\":true,\"textposition\":\"auto\",\"x\":[\"ARSON\",\"ASSAULT WITH DEADLY WEAPON ON POLICE OFFICER\",\"ASSAULT WITH DEADLY WEAPON, AGGRAVATED ASSAULT\",\"ATTEMPTED ROBBERY\",\"BATTERY - SIMPLE ASSAULT\",\"BATTERY ON A FIREFIGHTER\",\"BATTERY POLICE (SIMPLE)\",\"BATTERY WITH SEXUAL CONTACT\",\"BIKE - ATTEMPTED STOLEN\",\"BIKE - STOLEN\",\"BOAT - STOLEN\",\"BOMB SCARE\",\"BRANDISH WEAPON\",\"BRIBERY\",\"BUNCO, ATTEMPT\",\"BUNCO, GRAND THEFT\",\"BUNCO, PETTY THEFT\",\"BURGLARY\",\"BURGLARY FROM VEHICLE\",\"BURGLARY FROM VEHICLE, ATTEMPTED\",\"BURGLARY, ATTEMPTED\",\"CHILD ABANDONMENT\",\"CHILD ABUSE (PHYSICAL) - AGGRAVATED ASSAULT\",\"CHILD ABUSE (PHYSICAL) - SIMPLE ASSAULT\",\"CHILD ANNOYING (17YRS & UNDER)\",\"CHILD NEGLECT (SEE 300 W.I.C.)\",\"CHILD PORNOGRAPHY\",\"CHILD STEALING\",\"CONTEMPT OF COURT\",\"CONTRIBUTING\",\"COUNTERFEIT\",\"CREDIT CARDS, FRAUD USE ($950 & UNDER\",\"CREDIT CARDS, FRAUD USE ($950.01 & OVER)\",\"CRIMINAL HOMICIDE\",\"CRIMINAL THREATS - NO WEAPON DISPLAYED\",\"CRM AGNST CHLD (13 OR UNDER) (14-15 & SUSP 10 YRS OLDER)\",\"CRUELTY TO ANIMALS\",\"DEFRAUDING INNKEEPER\\u002fTHEFT OF SERVICES, $950 & UNDER\",\"DEFRAUDING INNKEEPER\\u002fTHEFT OF SERVICES, OVER $950.01\",\"DISCHARGE FIREARMS\\u002fSHOTS FIRED\",\"DISHONEST EMPLOYEE - GRAND THEFT\",\"DISTURBING THE PEACE\",\"DOCUMENT FORGERY \\u002f STOLEN FELONY\",\"DOCUMENT WORTHLESS ($200 & UNDER)\",\"DOCUMENT WORTHLESS ($200.01 & OVER)\",\"DRIVING WITHOUT OWNER CONSENT (DWOC)\",\"EMBEZZLEMENT, GRAND THEFT ($950.01 & OVER)\",\"EMBEZZLEMENT, PETTY THEFT ($950 & UNDER)\",\"EXTORTION\",\"FAILURE TO YIELD\",\"FALSE IMPRISONMENT\",\"FALSE POLICE REPORT\",\"ILLEGAL DUMPING\",\"INDECENT EXPOSURE\",\"INTIMATE PARTNER - AGGRAVATED ASSAULT\",\"INTIMATE PARTNER - SIMPLE ASSAULT\",\"KIDNAPPING\",\"KIDNAPPING - GRAND ATTEMPT\",\"LETTERS, LEWD  -  TELEPHONE CALLS, LEWD\",\"LEWD CONDUCT\",\"LEWD\\u002fLASCIVIOUS ACTS WITH CHILD\",\"ORAL COPULATION\",\"OTHER ASSAULT\",\"OTHER MISCELLANEOUS CRIME\",\"PEEPING TOM\",\"PICKPOCKET\",\"PROWLER\",\"PURSE SNATCHING\",\"RAPE, ATTEMPTED\",\"RAPE, FORCIBLE\",\"RECKLESS DRIVING\",\"REPLICA FIREARMS(SALE,DISPLAY,MANUFACTURE OR DISTRIBUTE)\",\"RESISTING ARREST\",\"ROBBERY\",\"SEX OFFENDER REGISTRANT OUT OF COMPLIANCE\",\"SEX,UNLAWFUL(INC MUTUAL CONSENT, PENETRATION W\\u002f FRGN OBJ\",\"SEXUAL PENETRATION W\\u002fFOREIGN OBJECT\",\"SHOPLIFTING - ATTEMPT\",\"SHOPLIFTING - PETTY THEFT ($950 & UNDER)\",\"SHOPLIFTING-GRAND THEFT ($950.01 & OVER)\",\"SHOTS FIRED AT INHABITED DWELLING\",\"SHOTS FIRED AT MOVING VEHICLE, TRAIN OR AIRCRAFT\",\"SODOMY\\u002fSEXUAL CONTACT B\\u002fW PENIS OF ONE PERS TO ANUS OTH\",\"STALKING\",\"THEFT FROM MOTOR VEHICLE - ATTEMPT\",\"THEFT FROM MOTOR VEHICLE - GRAND ($950.01 AND OVER)\",\"THEFT FROM MOTOR VEHICLE - PETTY ($950 & UNDER)\",\"THEFT FROM PERSON - ATTEMPT\",\"THEFT OF IDENTITY\",\"THEFT PLAIN - ATTEMPT\",\"THEFT PLAIN - PETTY ($950 & UNDER)\",\"THEFT, PERSON\",\"THEFT-GRAND ($950.01 & OVER)EXCPT,GUNS,FOWL,LIVESTK,PROD\",\"THREATENING PHONE CALLS\\u002fLETTERS\",\"THROWING OBJECT AT MOVING VEHICLE\",\"TILL TAP - GRAND THEFT ($950.01 & OVER)\",\"TRESPASSING\",\"UNAUTHORIZED COMPUTER ACCESS\",\"VANDALISM - FELONY ($400 & OVER, ALL CHURCH VANDALISMS)\",\"VANDALISM - MISDEAMEANOR ($399 OR UNDER)\",\"VEHICLE - ATTEMPT STOLEN\",\"VEHICLE - STOLEN\",\"VEHICLE, STOLEN - OTHER (MOTORIZED SCOOTERS, BIKES, ETC)\",\"VIOLATION OF COURT ORDER\",\"VIOLATION OF RESTRAINING ORDER\",\"VIOLATION OF TEMPORARY RESTRAINING ORDER\",\"WEAPONS POSSESSION\\u002fBOMBING\"],\"xaxis\":\"x\",\"y\":[128,32,1630,193,2586,10,90,123,2,329,7,26,467,1,26,300,80,2556,2975,32,161,1,14,107,32,38,16,13,12,2,7,5,7,52,857,61,8,8,3,168,3,109,126,2,7,7,237,4,88,52,12,16,5,38,311,1393,27,10,416,32,1,29,189,212,19,178,17,3,15,101,11,1,24,1000,13,42,48,3,878,169,46,18,11,33,59,2539,1896,6,2309,43,2558,89,1348,7,23,1,706,16,2708,1106,164,4908,45,400,579,27,3],\"yaxis\":\"y\",\"type\":\"bar\"},{\"alignmentgroup\":\"True\",\"hovertemplate\":\"AREA NAME=Olympic\\u003cbr\\u003eTipo de crimen=%{x}\\u003cbr\\u003eIncidencias=%{y}\\u003cextra\\u003e\\u003c\\u002fextra\\u003e\",\"legendgroup\":\"Olympic\",\"marker\":{\"color\":\"#EF553B\",\"pattern\":{\"shape\":\"\"}},\"name\":\"Olympic\",\"offsetgroup\":\"Olympic\",\"orientation\":\"v\",\"showlegend\":true,\"textposition\":\"auto\",\"x\":[\"ARSON\",\"ASSAULT WITH DEADLY WEAPON ON POLICE OFFICER\",\"ASSAULT WITH DEADLY WEAPON, AGGRAVATED ASSAULT\",\"ATTEMPTED ROBBERY\",\"BATTERY - SIMPLE ASSAULT\",\"BATTERY ON A FIREFIGHTER\",\"BATTERY POLICE (SIMPLE)\",\"BATTERY WITH SEXUAL CONTACT\",\"BEASTIALITY, CRIME AGAINST NATURE SEXUAL ASSLT WITH ANIM\",\"BIGAMY\",\"BIKE - STOLEN\",\"BOMB SCARE\",\"BRANDISH WEAPON\",\"BUNCO, ATTEMPT\",\"BUNCO, GRAND THEFT\",\"BUNCO, PETTY THEFT\",\"BURGLARY\",\"BURGLARY FROM VEHICLE\",\"BURGLARY FROM VEHICLE, ATTEMPTED\",\"BURGLARY, ATTEMPTED\",\"CHILD ABANDONMENT\",\"CHILD ABUSE (PHYSICAL) - AGGRAVATED ASSAULT\",\"CHILD ABUSE (PHYSICAL) - SIMPLE ASSAULT\",\"CHILD ANNOYING (17YRS & UNDER)\",\"CHILD NEGLECT (SEE 300 W.I.C.)\",\"CHILD PORNOGRAPHY\",\"CHILD STEALING\",\"CONSPIRACY\",\"CONTEMPT OF COURT\",\"COUNTERFEIT\",\"CREDIT CARDS, FRAUD USE ($950 & UNDER\",\"CRIMINAL HOMICIDE\",\"CRIMINAL THREATS - NO WEAPON DISPLAYED\",\"CRM AGNST CHLD (13 OR UNDER) (14-15 & SUSP 10 YRS OLDER)\",\"CRUELTY TO ANIMALS\",\"DEFRAUDING INNKEEPER\\u002fTHEFT OF SERVICES, $950 & UNDER\",\"DEFRAUDING INNKEEPER\\u002fTHEFT OF SERVICES, OVER $950.01\",\"DISCHARGE FIREARMS\\u002fSHOTS FIRED\",\"DISHONEST EMPLOYEE - GRAND THEFT\",\"DISHONEST EMPLOYEE - PETTY THEFT\",\"DISTURBING THE PEACE\",\"DOCUMENT FORGERY \\u002f STOLEN FELONY\",\"DOCUMENT WORTHLESS ($200.01 & OVER)\",\"DRUNK ROLL\",\"EMBEZZLEMENT, GRAND THEFT ($950.01 & OVER)\",\"EMBEZZLEMENT, PETTY THEFT ($950 & UNDER)\",\"EXTORTION\",\"FAILURE TO DISPERSE\",\"FAILURE TO YIELD\",\"FALSE IMPRISONMENT\",\"FALSE POLICE REPORT\",\"FIREARMS EMERGENCY PROTECTIVE ORDER (FIREARMS EPO)\",\"GRAND THEFT \\u002f INSURANCE FRAUD\",\"HUMAN TRAFFICKING - COMMERCIAL SEX ACTS\",\"HUMAN TRAFFICKING - INVOLUNTARY SERVITUDE\",\"ILLEGAL DUMPING\",\"INCITING A RIOT\",\"INDECENT EXPOSURE\",\"INTIMATE PARTNER - AGGRAVATED ASSAULT\",\"INTIMATE PARTNER - SIMPLE ASSAULT\",\"KIDNAPPING\",\"KIDNAPPING - GRAND ATTEMPT\",\"LETTERS, LEWD  -  TELEPHONE CALLS, LEWD\",\"LEWD CONDUCT\",\"LEWD\\u002fLASCIVIOUS ACTS WITH CHILD\",\"LYNCHING\",\"ORAL COPULATION\",\"OTHER ASSAULT\",\"OTHER MISCELLANEOUS CRIME\",\"PANDERING\",\"PEEPING TOM\",\"PICKPOCKET\",\"PICKPOCKET, ATTEMPT\",\"PIMPING\",\"PROWLER\",\"PURSE SNATCHING\",\"RAPE, ATTEMPTED\",\"RAPE, FORCIBLE\",\"RECKLESS DRIVING\",\"REPLICA FIREARMS(SALE,DISPLAY,MANUFACTURE OR DISTRIBUTE)\",\"RESISTING ARREST\",\"ROBBERY\",\"SEX OFFENDER REGISTRANT OUT OF COMPLIANCE\",\"SEX,UNLAWFUL(INC MUTUAL CONSENT, PENETRATION W\\u002f FRGN OBJ\",\"SEXUAL PENETRATION W\\u002fFOREIGN OBJECT\",\"SHOPLIFTING - ATTEMPT\",\"SHOPLIFTING - PETTY THEFT ($950 & UNDER)\",\"SHOPLIFTING-GRAND THEFT ($950.01 & OVER)\",\"SHOTS FIRED AT INHABITED DWELLING\",\"SHOTS FIRED AT MOVING VEHICLE, TRAIN OR AIRCRAFT\",\"SODOMY\\u002fSEXUAL CONTACT B\\u002fW PENIS OF ONE PERS TO ANUS OTH\",\"STALKING\",\"THEFT FROM MOTOR VEHICLE - ATTEMPT\",\"THEFT FROM MOTOR VEHICLE - GRAND ($950.01 AND OVER)\",\"THEFT FROM MOTOR VEHICLE - PETTY ($950 & UNDER)\",\"THEFT FROM PERSON - ATTEMPT\",\"THEFT OF IDENTITY\",\"THEFT PLAIN - ATTEMPT\",\"THEFT PLAIN - PETTY ($950 & UNDER)\",\"THEFT, COIN MACHINE - GRAND ($950.01 & OVER)\",\"THEFT, COIN MACHINE - PETTY ($950 & UNDER)\",\"THEFT, PERSON\",\"THEFT-GRAND ($950.01 & OVER)EXCPT,GUNS,FOWL,LIVESTK,PROD\",\"THREATENING PHONE CALLS\\u002fLETTERS\",\"THROWING OBJECT AT MOVING VEHICLE\",\"TRESPASSING\",\"UNAUTHORIZED COMPUTER ACCESS\",\"VANDALISM - FELONY ($400 & OVER, ALL CHURCH VANDALISMS)\",\"VANDALISM - MISDEAMEANOR ($399 OR UNDER)\",\"VEHICLE - ATTEMPT STOLEN\",\"VEHICLE - STOLEN\",\"VEHICLE, STOLEN - OTHER (MOTORIZED SCOOTERS, BIKES, ETC)\",\"VIOLATION OF COURT ORDER\",\"VIOLATION OF RESTRAINING ORDER\",\"VIOLATION OF TEMPORARY RESTRAINING ORDER\",\"WEAPONS POSSESSION\\u002fBOMBING\"],\"xaxis\":\"x\",\"y\":[142,25,2669,297,4378,6,93,225,1,1,348,20,911,5,396,115,3092,3205,42,241,2,22,118,49,56,5,7,1,3,9,1,60,873,132,14,31,6,80,2,2,65,162,13,6,163,3,96,2,20,18,3,1,1,24,2,4,1,71,590,2701,33,12,340,37,2,1,31,186,267,5,28,207,1,13,5,2,26,211,8,1,20,1835,12,66,89,7,595,91,44,5,28,32,33,1455,1980,8,2336,19,2803,1,2,283,1475,120,40,789,19,2967,1303,173,5242,63,314,498,45,1],\"yaxis\":\"y\",\"type\":\"bar\"},{\"alignmentgroup\":\"True\",\"hovertemplate\":\"AREA NAME=Pacific\\u003cbr\\u003eTipo de crimen=%{x}\\u003cbr\\u003eIncidencias=%{y}\\u003cextra\\u003e\\u003c\\u002fextra\\u003e\",\"legendgroup\":\"Pacific\",\"marker\":{\"color\":\"#00cc96\",\"pattern\":{\"shape\":\"\"}},\"name\":\"Pacific\",\"offsetgroup\":\"Pacific\",\"orientation\":\"v\",\"showlegend\":true,\"textposition\":\"auto\",\"x\":[\"ARSON\",\"ASSAULT WITH DEADLY WEAPON ON POLICE OFFICER\",\"ASSAULT WITH DEADLY WEAPON, AGGRAVATED ASSAULT\",\"ATTEMPTED ROBBERY\",\"BATTERY - SIMPLE ASSAULT\",\"BATTERY ON A FIREFIGHTER\",\"BATTERY POLICE (SIMPLE)\",\"BATTERY WITH SEXUAL CONTACT\",\"BIGAMY\",\"BIKE - ATTEMPTED STOLEN\",\"BIKE - STOLEN\",\"BOAT - STOLEN\",\"BOMB SCARE\",\"BRANDISH WEAPON\",\"BUNCO, ATTEMPT\",\"BUNCO, GRAND THEFT\",\"BUNCO, PETTY THEFT\",\"BURGLARY\",\"BURGLARY FROM VEHICLE\",\"BURGLARY FROM VEHICLE, ATTEMPTED\",\"BURGLARY, ATTEMPTED\",\"CHILD ABANDONMENT\",\"CHILD ABUSE (PHYSICAL) - AGGRAVATED ASSAULT\",\"CHILD ABUSE (PHYSICAL) - SIMPLE ASSAULT\",\"CHILD ANNOYING (17YRS & UNDER)\",\"CHILD NEGLECT (SEE 300 W.I.C.)\",\"CHILD PORNOGRAPHY\",\"CHILD STEALING\",\"CONTEMPT OF COURT\",\"CONTRIBUTING\",\"COUNTERFEIT\",\"CREDIT CARDS, FRAUD USE ($950 & UNDER\",\"CREDIT CARDS, FRAUD USE ($950.01 & OVER)\",\"CRIMINAL HOMICIDE\",\"CRIMINAL THREATS - NO WEAPON DISPLAYED\",\"CRM AGNST CHLD (13 OR UNDER) (14-15 & SUSP 10 YRS OLDER)\",\"CRUELTY TO ANIMALS\",\"DEFRAUDING INNKEEPER\\u002fTHEFT OF SERVICES, $950 & UNDER\",\"DEFRAUDING INNKEEPER\\u002fTHEFT OF SERVICES, OVER $950.01\",\"DISCHARGE FIREARMS\\u002fSHOTS FIRED\",\"DISHONEST EMPLOYEE - GRAND THEFT\",\"DISHONEST EMPLOYEE - PETTY THEFT\",\"DISTURBING THE PEACE\",\"DOCUMENT FORGERY \\u002f STOLEN FELONY\",\"DOCUMENT WORTHLESS ($200 & UNDER)\",\"DOCUMENT WORTHLESS ($200.01 & OVER)\",\"DRIVING WITHOUT OWNER CONSENT (DWOC)\",\"DRUGS, TO A MINOR\",\"DRUNK ROLL\",\"EMBEZZLEMENT, GRAND THEFT ($950.01 & OVER)\",\"EMBEZZLEMENT, PETTY THEFT ($950 & UNDER)\",\"EXTORTION\",\"FAILURE TO YIELD\",\"FALSE IMPRISONMENT\",\"FALSE POLICE REPORT\",\"GRAND THEFT \\u002f INSURANCE FRAUD\",\"HUMAN TRAFFICKING - COMMERCIAL SEX ACTS\",\"HUMAN TRAFFICKING - INVOLUNTARY SERVITUDE\",\"INCEST (SEXUAL ACTS BETWEEN BLOOD RELATIVES)\",\"INCITING A RIOT\",\"INDECENT EXPOSURE\",\"INTIMATE PARTNER - AGGRAVATED ASSAULT\",\"INTIMATE PARTNER - SIMPLE ASSAULT\",\"KIDNAPPING\",\"KIDNAPPING - GRAND ATTEMPT\",\"LETTERS, LEWD  -  TELEPHONE CALLS, LEWD\",\"LEWD CONDUCT\",\"LEWD\\u002fLASCIVIOUS ACTS WITH CHILD\",\"LYNCHING - ATTEMPTED\",\"ORAL COPULATION\",\"OTHER ASSAULT\",\"OTHER MISCELLANEOUS CRIME\",\"PANDERING\",\"PEEPING TOM\",\"PICKPOCKET\",\"PICKPOCKET, ATTEMPT\",\"PIMPING\",\"PROWLER\",\"PURSE SNATCHING\",\"RAPE, ATTEMPTED\",\"RAPE, FORCIBLE\",\"RECKLESS DRIVING\",\"RESISTING ARREST\",\"ROBBERY\",\"SEX OFFENDER REGISTRANT OUT OF COMPLIANCE\",\"SEX,UNLAWFUL(INC MUTUAL CONSENT, PENETRATION W\\u002f FRGN OBJ\",\"SEXUAL PENETRATION W\\u002fFOREIGN OBJECT\",\"SHOPLIFTING - ATTEMPT\",\"SHOPLIFTING - PETTY THEFT ($950 & UNDER)\",\"SHOPLIFTING-GRAND THEFT ($950.01 & OVER)\",\"SHOTS FIRED AT INHABITED DWELLING\",\"SHOTS FIRED AT MOVING VEHICLE, TRAIN OR AIRCRAFT\",\"SODOMY\\u002fSEXUAL CONTACT B\\u002fW PENIS OF ONE PERS TO ANUS OTH\",\"STALKING\",\"TELEPHONE PROPERTY - DAMAGE\",\"THEFT FROM MOTOR VEHICLE - ATTEMPT\",\"THEFT FROM MOTOR VEHICLE - GRAND ($950.01 AND OVER)\",\"THEFT FROM MOTOR VEHICLE - PETTY ($950 & UNDER)\",\"THEFT FROM PERSON - ATTEMPT\",\"THEFT OF IDENTITY\",\"THEFT PLAIN - ATTEMPT\",\"THEFT PLAIN - PETTY ($950 & UNDER)\",\"THEFT, COIN MACHINE - ATTEMPT\",\"THEFT, COIN MACHINE - PETTY ($950 & UNDER)\",\"THEFT, PERSON\",\"THEFT-GRAND ($950.01 & OVER)EXCPT,GUNS,FOWL,LIVESTK,PROD\",\"THREATENING PHONE CALLS\\u002fLETTERS\",\"THROWING OBJECT AT MOVING VEHICLE\",\"TILL TAP - GRAND THEFT ($950.01 & OVER)\",\"TILL TAP - PETTY ($950 & UNDER)\",\"TRESPASSING\",\"UNAUTHORIZED COMPUTER ACCESS\",\"VANDALISM - FELONY ($400 & OVER, ALL CHURCH VANDALISMS)\",\"VANDALISM - MISDEAMEANOR ($399 OR UNDER)\",\"VEHICLE - ATTEMPT STOLEN\",\"VEHICLE - STOLEN\",\"VEHICLE, STOLEN - OTHER (MOTORIZED SCOOTERS, BIKES, ETC)\",\"VIOLATION OF COURT ORDER\",\"VIOLATION OF RESTRAINING ORDER\",\"VIOLATION OF TEMPORARY RESTRAINING ORDER\",\"WEAPONS POSSESSION\\u002fBOMBING\"],\"xaxis\":\"x\",\"y\":[125,35,2014,166,3270,22,147,234,2,1,1432,6,63,464,7,409,72,4401,3678,52,287,1,16,81,38,31,10,7,9,1,9,13,17,35,807,51,6,26,6,73,3,3,97,251,5,7,40,2,5,1290,1,83,37,13,18,2,5,3,2,19,45,440,1539,22,5,451,38,2,2,29,171,521,2,24,118,1,6,25,5,16,160,4,100,1089,5,36,99,4,1020,194,29,34,24,22,1,74,3142,2412,2,2668,21,4498,1,2,102,3315,10,58,2,2,1088,21,3196,1259,348,5973,664,271,356,11,3],\"yaxis\":\"y\",\"type\":\"bar\"},{\"alignmentgroup\":\"True\",\"hovertemplate\":\"AREA NAME=Rampart\\u003cbr\\u003eTipo de crimen=%{x}\\u003cbr\\u003eIncidencias=%{y}\\u003cextra\\u003e\\u003c\\u002fextra\\u003e\",\"legendgroup\":\"Rampart\",\"marker\":{\"color\":\"#ab63fa\",\"pattern\":{\"shape\":\"\"}},\"name\":\"Rampart\",\"offsetgroup\":\"Rampart\",\"orientation\":\"v\",\"showlegend\":true,\"textposition\":\"auto\",\"x\":[\"ARSON\",\"ASSAULT WITH DEADLY WEAPON ON POLICE OFFICER\",\"ASSAULT WITH DEADLY WEAPON, AGGRAVATED ASSAULT\",\"ATTEMPTED ROBBERY\",\"BATTERY - SIMPLE ASSAULT\",\"BATTERY ON A FIREFIGHTER\",\"BATTERY POLICE (SIMPLE)\",\"BATTERY WITH SEXUAL CONTACT\",\"BIGAMY\",\"BIKE - STOLEN\",\"BOMB SCARE\",\"BRANDISH WEAPON\",\"BUNCO, ATTEMPT\",\"BUNCO, GRAND THEFT\",\"BUNCO, PETTY THEFT\",\"BURGLARY\",\"BURGLARY FROM VEHICLE\",\"BURGLARY FROM VEHICLE, ATTEMPTED\",\"BURGLARY, ATTEMPTED\",\"CHILD ABANDONMENT\",\"CHILD ABUSE (PHYSICAL) - AGGRAVATED ASSAULT\",\"CHILD ABUSE (PHYSICAL) - SIMPLE ASSAULT\",\"CHILD ANNOYING (17YRS & UNDER)\",\"CHILD NEGLECT (SEE 300 W.I.C.)\",\"CHILD PORNOGRAPHY\",\"CHILD STEALING\",\"CONSPIRACY\",\"CONTEMPT OF COURT\",\"CONTRIBUTING\",\"COUNTERFEIT\",\"CREDIT CARDS, FRAUD USE ($950 & UNDER\",\"CREDIT CARDS, FRAUD USE ($950.01 & OVER)\",\"CRIMINAL HOMICIDE\",\"CRIMINAL THREATS - NO WEAPON DISPLAYED\",\"CRM AGNST CHLD (13 OR UNDER) (14-15 & SUSP 10 YRS OLDER)\",\"CRUELTY TO ANIMALS\",\"DEFRAUDING INNKEEPER\\u002fTHEFT OF SERVICES, $950 & UNDER\",\"DEFRAUDING INNKEEPER\\u002fTHEFT OF SERVICES, OVER $950.01\",\"DISCHARGE FIREARMS\\u002fSHOTS FIRED\",\"DISHONEST EMPLOYEE - GRAND THEFT\",\"DISHONEST EMPLOYEE - PETTY THEFT\",\"DISRUPT SCHOOL\",\"DISTURBING THE PEACE\",\"DOCUMENT FORGERY \\u002f STOLEN FELONY\",\"DOCUMENT WORTHLESS ($200 & UNDER)\",\"DOCUMENT WORTHLESS ($200.01 & OVER)\",\"DRIVING WITHOUT OWNER CONSENT (DWOC)\",\"EMBEZZLEMENT, GRAND THEFT ($950.01 & OVER)\",\"EMBEZZLEMENT, PETTY THEFT ($950 & UNDER)\",\"EXTORTION\",\"FAILURE TO DISPERSE\",\"FAILURE TO YIELD\",\"FALSE IMPRISONMENT\",\"FALSE POLICE REPORT\",\"HUMAN TRAFFICKING - COMMERCIAL SEX ACTS\",\"HUMAN TRAFFICKING - INVOLUNTARY SERVITUDE\",\"ILLEGAL DUMPING\",\"INDECENT EXPOSURE\",\"INTIMATE PARTNER - AGGRAVATED ASSAULT\",\"INTIMATE PARTNER - SIMPLE ASSAULT\",\"KIDNAPPING\",\"KIDNAPPING - GRAND ATTEMPT\",\"LETTERS, LEWD  -  TELEPHONE CALLS, LEWD\",\"LEWD CONDUCT\",\"LEWD\\u002fLASCIVIOUS ACTS WITH CHILD\",\"ORAL COPULATION\",\"OTHER ASSAULT\",\"OTHER MISCELLANEOUS CRIME\",\"PEEPING TOM\",\"PICKPOCKET\",\"PICKPOCKET, ATTEMPT\",\"PIMPING\",\"PROWLER\",\"PURSE SNATCHING\",\"RAPE, ATTEMPTED\",\"RAPE, FORCIBLE\",\"RECKLESS DRIVING\",\"RESISTING ARREST\",\"ROBBERY\",\"SEX OFFENDER REGISTRANT OUT OF COMPLIANCE\",\"SEX,UNLAWFUL(INC MUTUAL CONSENT, PENETRATION W\\u002f FRGN OBJ\",\"SEXUAL PENETRATION W\\u002fFOREIGN OBJECT\",\"SHOPLIFTING - ATTEMPT\",\"SHOPLIFTING - PETTY THEFT ($950 & UNDER)\",\"SHOPLIFTING-GRAND THEFT ($950.01 & OVER)\",\"SHOTS FIRED AT INHABITED DWELLING\",\"SHOTS FIRED AT MOVING VEHICLE, TRAIN OR AIRCRAFT\",\"SODOMY\\u002fSEXUAL CONTACT B\\u002fW PENIS OF ONE PERS TO ANUS OTH\",\"STALKING\",\"THEFT FROM MOTOR VEHICLE - ATTEMPT\",\"THEFT FROM MOTOR VEHICLE - GRAND ($950.01 AND OVER)\",\"THEFT FROM MOTOR VEHICLE - PETTY ($950 & UNDER)\",\"THEFT FROM PERSON - ATTEMPT\",\"THEFT OF IDENTITY\",\"THEFT PLAIN - ATTEMPT\",\"THEFT PLAIN - PETTY ($950 & UNDER)\",\"THEFT, COIN MACHINE - PETTY ($950 & UNDER)\",\"THEFT, PERSON\",\"THEFT-GRAND ($950.01 & OVER)EXCPT,GUNS,FOWL,LIVESTK,PROD\",\"THREATENING PHONE CALLS\\u002fLETTERS\",\"THROWING OBJECT AT MOVING VEHICLE\",\"TILL TAP - GRAND THEFT ($950.01 & OVER)\",\"TILL TAP - PETTY ($950 & UNDER)\",\"TRESPASSING\",\"UNAUTHORIZED COMPUTER ACCESS\",\"VANDALISM - FELONY ($400 & OVER, ALL CHURCH VANDALISMS)\",\"VANDALISM - MISDEAMEANOR ($399 OR UNDER)\",\"VEHICLE - ATTEMPT STOLEN\",\"VEHICLE - STOLEN\",\"VEHICLE, STOLEN - OTHER (MOTORIZED SCOOTERS, BIKES, ETC)\",\"VIOLATION OF COURT ORDER\",\"VIOLATION OF RESTRAINING ORDER\",\"VIOLATION OF TEMPORARY RESTRAINING ORDER\",\"WEAPONS POSSESSION\\u002fBOMBING\"],\"xaxis\":\"x\",\"y\":[132,39,3089,353,4122,19,95,208,1,275,19,797,33,207,62,1840,2589,34,136,1,23,177,66,49,9,18,3,12,1,3,3,2,84,909,116,12,7,1,106,3,1,1,41,92,2,3,7,41,4,57,1,86,12,1,4,2,3,71,732,2398,48,12,264,30,1,22,221,245,12,132,1,2,2,7,16,248,5,26,2037,17,69,57,2,1384,202,62,35,32,21,22,1213,1795,1,2552,18,2159,2,254,1031,16,48,1,1,1005,16,2667,1194,201,4937,95,262,484,38,2],\"yaxis\":\"y\",\"type\":\"bar\"},{\"alignmentgroup\":\"True\",\"hovertemplate\":\"AREA NAME=Southeast\\u003cbr\\u003eTipo de crimen=%{x}\\u003cbr\\u003eIncidencias=%{y}\\u003cextra\\u003e\\u003c\\u002fextra\\u003e\",\"legendgroup\":\"Southeast\",\"marker\":{\"color\":\"#FFA15A\",\"pattern\":{\"shape\":\"\"}},\"name\":\"Southeast\",\"offsetgroup\":\"Southeast\",\"orientation\":\"v\",\"showlegend\":true,\"textposition\":\"auto\",\"x\":[\"ARSON\",\"ASSAULT WITH DEADLY WEAPON ON POLICE OFFICER\",\"ASSAULT WITH DEADLY WEAPON, AGGRAVATED ASSAULT\",\"ATTEMPTED ROBBERY\",\"BATTERY - SIMPLE ASSAULT\",\"BATTERY ON A FIREFIGHTER\",\"BATTERY POLICE (SIMPLE)\",\"BATTERY WITH SEXUAL CONTACT\",\"BEASTIALITY, CRIME AGAINST NATURE SEXUAL ASSLT WITH ANIM\",\"BIKE - STOLEN\",\"BOAT - STOLEN\",\"BOMB SCARE\",\"BRANDISH WEAPON\",\"BRIBERY\",\"BUNCO, ATTEMPT\",\"BUNCO, GRAND THEFT\",\"BUNCO, PETTY THEFT\",\"BURGLARY\",\"BURGLARY FROM VEHICLE\",\"BURGLARY FROM VEHICLE, ATTEMPTED\",\"BURGLARY, ATTEMPTED\",\"CHILD ABANDONMENT\",\"CHILD ABUSE (PHYSICAL) - AGGRAVATED ASSAULT\",\"CHILD ABUSE (PHYSICAL) - SIMPLE ASSAULT\",\"CHILD ANNOYING (17YRS & UNDER)\",\"CHILD NEGLECT (SEE 300 W.I.C.)\",\"CHILD PORNOGRAPHY\",\"CHILD STEALING\",\"CONSPIRACY\",\"CONTEMPT OF COURT\",\"COUNTERFEIT\",\"CREDIT CARDS, FRAUD USE ($950 & UNDER\",\"CREDIT CARDS, FRAUD USE ($950.01 & OVER)\",\"CRIMINAL HOMICIDE\",\"CRIMINAL THREATS - NO WEAPON DISPLAYED\",\"CRM AGNST CHLD (13 OR UNDER) (14-15 & SUSP 10 YRS OLDER)\",\"CRUELTY TO ANIMALS\",\"DEFRAUDING INNKEEPER\\u002fTHEFT OF SERVICES, $950 & UNDER\",\"DISCHARGE FIREARMS\\u002fSHOTS FIRED\",\"DISHONEST EMPLOYEE - GRAND THEFT\",\"DISTURBING THE PEACE\",\"DOCUMENT FORGERY \\u002f STOLEN FELONY\",\"DRIVING WITHOUT OWNER CONSENT (DWOC)\",\"DRUNK ROLL\",\"EMBEZZLEMENT, GRAND THEFT ($950.01 & OVER)\",\"EMBEZZLEMENT, PETTY THEFT ($950 & UNDER)\",\"EXTORTION\",\"FAILURE TO YIELD\",\"FALSE IMPRISONMENT\",\"GRAND THEFT \\u002f AUTO REPAIR\",\"HUMAN TRAFFICKING - COMMERCIAL SEX ACTS\",\"HUMAN TRAFFICKING - INVOLUNTARY SERVITUDE\",\"ILLEGAL DUMPING\",\"INDECENT EXPOSURE\",\"INTIMATE PARTNER - AGGRAVATED ASSAULT\",\"INTIMATE PARTNER - SIMPLE ASSAULT\",\"KIDNAPPING\",\"KIDNAPPING - GRAND ATTEMPT\",\"LETTERS, LEWD  -  TELEPHONE CALLS, LEWD\",\"LEWD CONDUCT\",\"LEWD\\u002fLASCIVIOUS ACTS WITH CHILD\",\"LYNCHING\",\"ORAL COPULATION\",\"OTHER ASSAULT\",\"OTHER MISCELLANEOUS CRIME\",\"PANDERING\",\"PEEPING TOM\",\"PICKPOCKET\",\"PIMPING\",\"PURSE SNATCHING\",\"RAPE, ATTEMPTED\",\"RAPE, FORCIBLE\",\"RECKLESS DRIVING\",\"RESISTING ARREST\",\"ROBBERY\",\"SEX OFFENDER REGISTRANT OUT OF COMPLIANCE\",\"SEX,UNLAWFUL(INC MUTUAL CONSENT, PENETRATION W\\u002f FRGN OBJ\",\"SEXUAL PENETRATION W\\u002fFOREIGN OBJECT\",\"SHOPLIFTING - ATTEMPT\",\"SHOPLIFTING - PETTY THEFT ($950 & UNDER)\",\"SHOPLIFTING-GRAND THEFT ($950.01 & OVER)\",\"SHOTS FIRED AT INHABITED DWELLING\",\"SHOTS FIRED AT MOVING VEHICLE, TRAIN OR AIRCRAFT\",\"SODOMY\\u002fSEXUAL CONTACT B\\u002fW PENIS OF ONE PERS TO ANUS OTH\",\"STALKING\",\"THEFT FROM MOTOR VEHICLE - ATTEMPT\",\"THEFT FROM MOTOR VEHICLE - GRAND ($950.01 AND OVER)\",\"THEFT FROM MOTOR VEHICLE - PETTY ($950 & UNDER)\",\"THEFT FROM PERSON - ATTEMPT\",\"THEFT OF IDENTITY\",\"THEFT PLAIN - ATTEMPT\",\"THEFT PLAIN - PETTY ($950 & UNDER)\",\"THEFT, COIN MACHINE - GRAND ($950.01 & OVER)\",\"THEFT, PERSON\",\"THEFT-GRAND ($950.01 & OVER)EXCPT,GUNS,FOWL,LIVESTK,PROD\",\"THREATENING PHONE CALLS\\u002fLETTERS\",\"THROWING OBJECT AT MOVING VEHICLE\",\"TILL TAP - PETTY ($950 & UNDER)\",\"TRESPASSING\",\"UNAUTHORIZED COMPUTER ACCESS\",\"VANDALISM - FELONY ($400 & OVER, ALL CHURCH VANDALISMS)\",\"VANDALISM - MISDEAMEANOR ($399 OR UNDER)\",\"VEHICLE - ATTEMPT STOLEN\",\"VEHICLE - STOLEN\",\"VEHICLE, STOLEN - OTHER (MOTORIZED SCOOTERS, BIKES, ETC)\",\"VIOLATION OF COURT ORDER\",\"VIOLATION OF RESTRAINING ORDER\",\"VIOLATION OF TEMPORARY RESTRAINING ORDER\"],\"xaxis\":\"x\",\"y\":[156,85,4848,352,3934,11,212,139,1,27,5,7,951,1,18,73,86,1364,1423,53,123,3,110,358,60,68,9,51,1,79,1,7,6,204,1466,102,26,7,282,1,19,45,18,1,55,1,95,72,21,1,95,15,6,26,1235,3383,67,19,225,27,9,10,56,116,278,12,11,8,11,9,19,194,12,57,2604,131,49,56,6,323,114,251,33,28,58,31,724,1794,5,3661,20,1476,1,306,898,25,34,1,348,2,2504,1725,321,6553,1,285,781,40],\"yaxis\":\"y\",\"type\":\"bar\"},{\"alignmentgroup\":\"True\",\"hovertemplate\":\"AREA NAME=Southwest\\u003cbr\\u003eTipo de crimen=%{x}\\u003cbr\\u003eIncidencias=%{y}\\u003cextra\\u003e\\u003c\\u002fextra\\u003e\",\"legendgroup\":\"Southwest\",\"marker\":{\"color\":\"#19d3f3\",\"pattern\":{\"shape\":\"\"}},\"name\":\"Southwest\",\"offsetgroup\":\"Southwest\",\"orientation\":\"v\",\"showlegend\":true,\"textposition\":\"auto\",\"x\":[\"ARSON\",\"ASSAULT WITH DEADLY WEAPON ON POLICE OFFICER\",\"ASSAULT WITH DEADLY WEAPON, AGGRAVATED ASSAULT\",\"ATTEMPTED ROBBERY\",\"BATTERY - SIMPLE ASSAULT\",\"BATTERY ON A FIREFIGHTER\",\"BATTERY POLICE (SIMPLE)\",\"BATTERY WITH SEXUAL CONTACT\",\"BIKE - STOLEN\",\"BLOCKING DOOR INDUCTION CENTER\",\"BOAT - STOLEN\",\"BOMB SCARE\",\"BRANDISH WEAPON\",\"BRIBERY\",\"BUNCO, ATTEMPT\",\"BUNCO, GRAND THEFT\",\"BUNCO, PETTY THEFT\",\"BURGLARY\",\"BURGLARY FROM VEHICLE\",\"BURGLARY FROM VEHICLE, ATTEMPTED\",\"BURGLARY, ATTEMPTED\",\"CHILD ABANDONMENT\",\"CHILD ABUSE (PHYSICAL) - AGGRAVATED ASSAULT\",\"CHILD ABUSE (PHYSICAL) - SIMPLE ASSAULT\",\"CHILD ANNOYING (17YRS & UNDER)\",\"CHILD NEGLECT (SEE 300 W.I.C.)\",\"CHILD PORNOGRAPHY\",\"CHILD STEALING\",\"CONTEMPT OF COURT\",\"CONTRIBUTING\",\"COUNTERFEIT\",\"CREDIT CARDS, FRAUD USE ($950 & UNDER\",\"CREDIT CARDS, FRAUD USE ($950.01 & OVER)\",\"CRIMINAL HOMICIDE\",\"CRIMINAL THREATS - NO WEAPON DISPLAYED\",\"CRM AGNST CHLD (13 OR UNDER) (14-15 & SUSP 10 YRS OLDER)\",\"CRUELTY TO ANIMALS\",\"DEFRAUDING INNKEEPER\\u002fTHEFT OF SERVICES, $950 & UNDER\",\"DISCHARGE FIREARMS\\u002fSHOTS FIRED\",\"DISHONEST EMPLOYEE - GRAND THEFT\",\"DISRUPT SCHOOL\",\"DISTURBING THE PEACE\",\"DOCUMENT FORGERY \\u002f STOLEN FELONY\",\"DOCUMENT WORTHLESS ($200 & UNDER)\",\"DOCUMENT WORTHLESS ($200.01 & OVER)\",\"DRIVING WITHOUT OWNER CONSENT (DWOC)\",\"EMBEZZLEMENT, GRAND THEFT ($950.01 & OVER)\",\"EMBEZZLEMENT, PETTY THEFT ($950 & UNDER)\",\"EXTORTION\",\"FAILURE TO YIELD\",\"FALSE IMPRISONMENT\",\"FALSE POLICE REPORT\",\"HUMAN TRAFFICKING - COMMERCIAL SEX ACTS\",\"HUMAN TRAFFICKING - INVOLUNTARY SERVITUDE\",\"ILLEGAL DUMPING\",\"INDECENT EXPOSURE\",\"INTIMATE PARTNER - AGGRAVATED ASSAULT\",\"INTIMATE PARTNER - SIMPLE ASSAULT\",\"KIDNAPPING\",\"KIDNAPPING - GRAND ATTEMPT\",\"LETTERS, LEWD  -  TELEPHONE CALLS, LEWD\",\"LEWD CONDUCT\",\"LEWD\\u002fLASCIVIOUS ACTS WITH CHILD\",\"ORAL COPULATION\",\"OTHER ASSAULT\",\"OTHER MISCELLANEOUS CRIME\",\"PANDERING\",\"PEEPING TOM\",\"PICKPOCKET\",\"PROWLER\",\"PURSE SNATCHING\",\"PURSE SNATCHING - ATTEMPT\",\"RAPE, ATTEMPTED\",\"RAPE, FORCIBLE\",\"RECKLESS DRIVING\",\"RESISTING ARREST\",\"ROBBERY\",\"SEX OFFENDER REGISTRANT OUT OF COMPLIANCE\",\"SEX,UNLAWFUL(INC MUTUAL CONSENT, PENETRATION W\\u002f FRGN OBJ\",\"SEXUAL PENETRATION W\\u002fFOREIGN OBJECT\",\"SHOPLIFTING - ATTEMPT\",\"SHOPLIFTING - PETTY THEFT ($950 & UNDER)\",\"SHOPLIFTING-GRAND THEFT ($950.01 & OVER)\",\"SHOTS FIRED AT INHABITED DWELLING\",\"SHOTS FIRED AT MOVING VEHICLE, TRAIN OR AIRCRAFT\",\"SODOMY\\u002fSEXUAL CONTACT B\\u002fW PENIS OF ONE PERS TO ANUS OTH\",\"STALKING\",\"TELEPHONE PROPERTY - DAMAGE\",\"THEFT FROM MOTOR VEHICLE - ATTEMPT\",\"THEFT FROM MOTOR VEHICLE - GRAND ($950.01 AND OVER)\",\"THEFT FROM MOTOR VEHICLE - PETTY ($950 & UNDER)\",\"THEFT FROM PERSON - ATTEMPT\",\"THEFT OF IDENTITY\",\"THEFT PLAIN - ATTEMPT\",\"THEFT PLAIN - PETTY ($950 & UNDER)\",\"THEFT, COIN MACHINE - GRAND ($950.01 & OVER)\",\"THEFT, COIN MACHINE - PETTY ($950 & UNDER)\",\"THEFT, PERSON\",\"THEFT-GRAND ($950.01 & OVER)EXCPT,GUNS,FOWL,LIVESTK,PROD\",\"THREATENING PHONE CALLS\\u002fLETTERS\",\"THROWING OBJECT AT MOVING VEHICLE\",\"TILL TAP - GRAND THEFT ($950.01 & OVER)\",\"TILL TAP - PETTY ($950 & UNDER)\",\"TRESPASSING\",\"UNAUTHORIZED COMPUTER ACCESS\",\"VANDALISM - FELONY ($400 & OVER, ALL CHURCH VANDALISMS)\",\"VANDALISM - MISDEAMEANOR ($399 OR UNDER)\",\"VEHICLE - ATTEMPT STOLEN\",\"VEHICLE - STOLEN\",\"VEHICLE, STOLEN - OTHER (MOTORIZED SCOOTERS, BIKES, ETC)\",\"VIOLATION OF COURT ORDER\",\"VIOLATION OF RESTRAINING ORDER\",\"VIOLATION OF TEMPORARY RESTRAINING ORDER\",\"WEAPONS POSSESSION\\u002fBOMBING\"],\"xaxis\":\"x\",\"y\":[110,88,3607,319,4503,10,147,246,1059,1,4,16,1099,1,41,325,118,2066,2026,57,213,2,46,260,77,83,24,47,10,1,4,4,5,80,1352,111,11,7,172,2,1,90,87,2,4,6,292,15,162,240,16,9,22,10,3,55,926,2893,51,18,439,61,4,43,204,330,2,34,302,13,11,1,23,228,13,42,1993,75,57,78,8,1019,141,142,56,37,60,1,65,1523,1896,11,3603,22,2788,1,1,397,1452,27,31,2,1,644,11,3140,1544,318,6059,677,374,817,49,3],\"yaxis\":\"y\",\"type\":\"bar\"},{\"alignmentgroup\":\"True\",\"hovertemplate\":\"AREA NAME=Topanga\\u003cbr\\u003eTipo de crimen=%{x}\\u003cbr\\u003eIncidencias=%{y}\\u003cextra\\u003e\\u003c\\u002fextra\\u003e\",\"legendgroup\":\"Topanga\",\"marker\":{\"color\":\"#FF6692\",\"pattern\":{\"shape\":\"\"}},\"name\":\"Topanga\",\"offsetgroup\":\"Topanga\",\"orientation\":\"v\",\"showlegend\":true,\"textposition\":\"auto\",\"x\":[\"ARSON\",\"ASSAULT WITH DEADLY WEAPON ON POLICE OFFICER\",\"ASSAULT WITH DEADLY WEAPON, AGGRAVATED ASSAULT\",\"ATTEMPTED ROBBERY\",\"BATTERY - SIMPLE ASSAULT\",\"BATTERY ON A FIREFIGHTER\",\"BATTERY POLICE (SIMPLE)\",\"BATTERY WITH SEXUAL CONTACT\",\"BIKE - STOLEN\",\"BOAT - STOLEN\",\"BOMB SCARE\",\"BRANDISH WEAPON\",\"BUNCO, ATTEMPT\",\"BUNCO, GRAND THEFT\",\"BUNCO, PETTY THEFT\",\"BURGLARY\",\"BURGLARY FROM VEHICLE\",\"BURGLARY FROM VEHICLE, ATTEMPTED\",\"BURGLARY, ATTEMPTED\",\"CHILD ABUSE (PHYSICAL) - AGGRAVATED ASSAULT\",\"CHILD ABUSE (PHYSICAL) - SIMPLE ASSAULT\",\"CHILD ANNOYING (17YRS & UNDER)\",\"CHILD NEGLECT (SEE 300 W.I.C.)\",\"CHILD PORNOGRAPHY\",\"CHILD STEALING\",\"CONSPIRACY\",\"CONTEMPT OF COURT\",\"COUNTERFEIT\",\"CREDIT CARDS, FRAUD USE ($950 & UNDER\",\"CREDIT CARDS, FRAUD USE ($950.01 & OVER)\",\"CRIMINAL HOMICIDE\",\"CRIMINAL THREATS - NO WEAPON DISPLAYED\",\"CRM AGNST CHLD (13 OR UNDER) (14-15 & SUSP 10 YRS OLDER)\",\"CRUELTY TO ANIMALS\",\"DEFRAUDING INNKEEPER\\u002fTHEFT OF SERVICES, $950 & UNDER\",\"DEFRAUDING INNKEEPER\\u002fTHEFT OF SERVICES, OVER $950.01\",\"DISCHARGE FIREARMS\\u002fSHOTS FIRED\",\"DISHONEST EMPLOYEE - GRAND THEFT\",\"DISHONEST EMPLOYEE - PETTY THEFT\",\"DISTURBING THE PEACE\",\"DOCUMENT FORGERY \\u002f STOLEN FELONY\",\"DOCUMENT WORTHLESS ($200 & UNDER)\",\"DOCUMENT WORTHLESS ($200.01 & OVER)\",\"DRIVING WITHOUT OWNER CONSENT (DWOC)\",\"DRUNK ROLL\",\"EMBEZZLEMENT, GRAND THEFT ($950.01 & OVER)\",\"EMBEZZLEMENT, PETTY THEFT ($950 & UNDER)\",\"EXTORTION\",\"FAILURE TO YIELD\",\"FALSE IMPRISONMENT\",\"FALSE POLICE REPORT\",\"HUMAN TRAFFICKING - COMMERCIAL SEX ACTS\",\"HUMAN TRAFFICKING - INVOLUNTARY SERVITUDE\",\"ILLEGAL DUMPING\",\"INDECENT EXPOSURE\",\"INTIMATE PARTNER - AGGRAVATED ASSAULT\",\"INTIMATE PARTNER - SIMPLE ASSAULT\",\"KIDNAPPING\",\"KIDNAPPING - GRAND ATTEMPT\",\"LETTERS, LEWD  -  TELEPHONE CALLS, LEWD\",\"LEWD CONDUCT\",\"LEWD\\u002fLASCIVIOUS ACTS WITH CHILD\",\"LYNCHING\",\"MANSLAUGHTER, NEGLIGENT\",\"ORAL COPULATION\",\"OTHER ASSAULT\",\"OTHER MISCELLANEOUS CRIME\",\"PANDERING\",\"PEEPING TOM\",\"PICKPOCKET\",\"PROWLER\",\"PURSE SNATCHING\",\"RAPE, ATTEMPTED\",\"RAPE, FORCIBLE\",\"RECKLESS DRIVING\",\"RESISTING ARREST\",\"ROBBERY\",\"SEX OFFENDER REGISTRANT OUT OF COMPLIANCE\",\"SEX,UNLAWFUL(INC MUTUAL CONSENT, PENETRATION W\\u002f FRGN OBJ\",\"SEXUAL PENETRATION W\\u002fFOREIGN OBJECT\",\"SHOPLIFTING - ATTEMPT\",\"SHOPLIFTING - PETTY THEFT ($950 & UNDER)\",\"SHOPLIFTING-GRAND THEFT ($950.01 & OVER)\",\"SHOTS FIRED AT INHABITED DWELLING\",\"SHOTS FIRED AT MOVING VEHICLE, TRAIN OR AIRCRAFT\",\"SODOMY\\u002fSEXUAL CONTACT B\\u002fW PENIS OF ONE PERS TO ANUS OTH\",\"STALKING\",\"THEFT FROM MOTOR VEHICLE - ATTEMPT\",\"THEFT FROM MOTOR VEHICLE - GRAND ($950.01 AND OVER)\",\"THEFT FROM MOTOR VEHICLE - PETTY ($950 & UNDER)\",\"THEFT FROM PERSON - ATTEMPT\",\"THEFT OF IDENTITY\",\"THEFT PLAIN - ATTEMPT\",\"THEFT PLAIN - PETTY ($950 & UNDER)\",\"THEFT, COIN MACHINE - ATTEMPT\",\"THEFT, COIN MACHINE - PETTY ($950 & UNDER)\",\"THEFT, PERSON\",\"THEFT-GRAND ($950.01 & OVER)EXCPT,GUNS,FOWL,LIVESTK,PROD\",\"THREATENING PHONE CALLS\\u002fLETTERS\",\"THROWING OBJECT AT MOVING VEHICLE\",\"TRESPASSING\",\"UNAUTHORIZED COMPUTER ACCESS\",\"VANDALISM - FELONY ($400 & OVER, ALL CHURCH VANDALISMS)\",\"VANDALISM - MISDEAMEANOR ($399 OR UNDER)\",\"VEHICLE - ATTEMPT STOLEN\",\"VEHICLE - STOLEN\",\"VEHICLE, STOLEN - OTHER (MOTORIZED SCOOTERS, BIKES, ETC)\",\"VIOLATION OF COURT ORDER\",\"VIOLATION OF RESTRAINING ORDER\",\"VIOLATION OF TEMPORARY RESTRAINING ORDER\",\"WEAPONS POSSESSION\\u002fBOMBING\"],\"xaxis\":\"x\",\"y\":[54,29,1525,126,2762,15,62,174,146,5,14,454,12,423,117,3177,2349,24,221,15,94,44,33,9,18,1,5,14,2,12,33,726,59,11,9,1,60,4,5,137,303,1,3,2,1,134,5,119,14,14,9,5,3,4,53,492,1946,25,7,495,33,3,1,1,28,105,242,1,19,44,9,2,11,134,12,32,928,8,52,56,13,2710,816,39,3,13,24,50,1499,1585,4,3121,18,1980,1,1,106,1274,73,41,563,49,2054,747,110,3102,35,240,700,94,1],\"yaxis\":\"y\",\"type\":\"bar\"},{\"alignmentgroup\":\"True\",\"hovertemplate\":\"AREA NAME=Van Nuys\\u003cbr\\u003eTipo de crimen=%{x}\\u003cbr\\u003eIncidencias=%{y}\\u003cextra\\u003e\\u003c\\u002fextra\\u003e\",\"legendgroup\":\"Van Nuys\",\"marker\":{\"color\":\"#B6E880\",\"pattern\":{\"shape\":\"\"}},\"name\":\"Van Nuys\",\"offsetgroup\":\"Van Nuys\",\"orientation\":\"v\",\"showlegend\":true,\"textposition\":\"auto\",\"x\":[\"ARSON\",\"ASSAULT WITH DEADLY WEAPON ON POLICE OFFICER\",\"ASSAULT WITH DEADLY WEAPON, AGGRAVATED ASSAULT\",\"ATTEMPTED ROBBERY\",\"BATTERY - SIMPLE ASSAULT\",\"BATTERY ON A FIREFIGHTER\",\"BATTERY POLICE (SIMPLE)\",\"BATTERY WITH SEXUAL CONTACT\",\"BEASTIALITY, CRIME AGAINST NATURE SEXUAL ASSLT WITH ANIM\",\"BIKE - STOLEN\",\"BOAT - STOLEN\",\"BOMB SCARE\",\"BRANDISH WEAPON\",\"BRIBERY\",\"BUNCO, ATTEMPT\",\"BUNCO, GRAND THEFT\",\"BUNCO, PETTY THEFT\",\"BURGLARY\",\"BURGLARY FROM VEHICLE\",\"BURGLARY FROM VEHICLE, ATTEMPTED\",\"BURGLARY, ATTEMPTED\",\"CHILD ABANDONMENT\",\"CHILD ABUSE (PHYSICAL) - AGGRAVATED ASSAULT\",\"CHILD ABUSE (PHYSICAL) - SIMPLE ASSAULT\",\"CHILD ANNOYING (17YRS & UNDER)\",\"CHILD NEGLECT (SEE 300 W.I.C.)\",\"CHILD PORNOGRAPHY\",\"CHILD STEALING\",\"CONSPIRACY\",\"CONTEMPT OF COURT\",\"CONTRIBUTING\",\"COUNTERFEIT\",\"CREDIT CARDS, FRAUD USE ($950.01 & OVER)\",\"CRIMINAL HOMICIDE\",\"CRIMINAL THREATS - NO WEAPON DISPLAYED\",\"CRM AGNST CHLD (13 OR UNDER) (14-15 & SUSP 10 YRS OLDER)\",\"CRUELTY TO ANIMALS\",\"DEFRAUDING INNKEEPER\\u002fTHEFT OF SERVICES, $950 & UNDER\",\"DEFRAUDING INNKEEPER\\u002fTHEFT OF SERVICES, OVER $950.01\",\"DISCHARGE FIREARMS\\u002fSHOTS FIRED\",\"DISHONEST EMPLOYEE - GRAND THEFT\",\"DISHONEST EMPLOYEE - PETTY THEFT\",\"DISRUPT SCHOOL\",\"DISTURBING THE PEACE\",\"DOCUMENT FORGERY \\u002f STOLEN FELONY\",\"DOCUMENT WORTHLESS ($200 & UNDER)\",\"DOCUMENT WORTHLESS ($200.01 & OVER)\",\"DRIVING WITHOUT OWNER CONSENT (DWOC)\",\"EMBEZZLEMENT, GRAND THEFT ($950.01 & OVER)\",\"EMBEZZLEMENT, PETTY THEFT ($950 & UNDER)\",\"EXTORTION\",\"FAILURE TO YIELD\",\"FALSE IMPRISONMENT\",\"FALSE POLICE REPORT\",\"HUMAN TRAFFICKING - COMMERCIAL SEX ACTS\",\"HUMAN TRAFFICKING - INVOLUNTARY SERVITUDE\",\"ILLEGAL DUMPING\",\"INDECENT EXPOSURE\",\"INTIMATE PARTNER - AGGRAVATED ASSAULT\",\"INTIMATE PARTNER - SIMPLE ASSAULT\",\"KIDNAPPING\",\"KIDNAPPING - GRAND ATTEMPT\",\"LETTERS, LEWD  -  TELEPHONE CALLS, LEWD\",\"LEWD CONDUCT\",\"LEWD\\u002fLASCIVIOUS ACTS WITH CHILD\",\"ORAL COPULATION\",\"OTHER ASSAULT\",\"OTHER MISCELLANEOUS CRIME\",\"PANDERING\",\"PEEPING TOM\",\"PICKPOCKET\",\"PIMPING\",\"PROWLER\",\"PURSE SNATCHING\",\"PURSE SNATCHING - ATTEMPT\",\"RAPE, ATTEMPTED\",\"RAPE, FORCIBLE\",\"RECKLESS DRIVING\",\"RESISTING ARREST\",\"ROBBERY\",\"SEX OFFENDER REGISTRANT OUT OF COMPLIANCE\",\"SEX,UNLAWFUL(INC MUTUAL CONSENT, PENETRATION W\\u002f FRGN OBJ\",\"SEXUAL PENETRATION W\\u002fFOREIGN OBJECT\",\"SHOPLIFTING - ATTEMPT\",\"SHOPLIFTING - PETTY THEFT ($950 & UNDER)\",\"SHOPLIFTING-GRAND THEFT ($950.01 & OVER)\",\"SHOTS FIRED AT INHABITED DWELLING\",\"SHOTS FIRED AT MOVING VEHICLE, TRAIN OR AIRCRAFT\",\"SODOMY\\u002fSEXUAL CONTACT B\\u002fW PENIS OF ONE PERS TO ANUS OTH\",\"STALKING\",\"THEFT FROM MOTOR VEHICLE - ATTEMPT\",\"THEFT FROM MOTOR VEHICLE - GRAND ($950.01 AND OVER)\",\"THEFT FROM MOTOR VEHICLE - PETTY ($950 & UNDER)\",\"THEFT FROM PERSON - ATTEMPT\",\"THEFT OF IDENTITY\",\"THEFT PLAIN - ATTEMPT\",\"THEFT PLAIN - PETTY ($950 & UNDER)\",\"THEFT, PERSON\",\"THEFT-GRAND ($950.01 & OVER)EXCPT,GUNS,FOWL,LIVESTK,PROD\",\"THREATENING PHONE CALLS\\u002fLETTERS\",\"THROWING OBJECT AT MOVING VEHICLE\",\"TILL TAP - PETTY ($950 & UNDER)\",\"TRESPASSING\",\"UNAUTHORIZED COMPUTER ACCESS\",\"VANDALISM - FELONY ($400 & OVER, ALL CHURCH VANDALISMS)\",\"VANDALISM - MISDEAMEANOR ($399 OR UNDER)\",\"VEHICLE - ATTEMPT STOLEN\",\"VEHICLE - STOLEN\",\"VEHICLE, STOLEN - OTHER (MOTORIZED SCOOTERS, BIKES, ETC)\",\"VIOLATION OF COURT ORDER\",\"VIOLATION OF RESTRAINING ORDER\",\"VIOLATION OF TEMPORARY RESTRAINING ORDER\"],\"xaxis\":\"x\",\"y\":[93,15,1612,121,2848,4,76,178,1,265,6,15,428,2,7,318,107,3168,2630,26,213,1,14,127,47,67,13,22,2,50,5,11,2,30,697,74,9,23,2,77,1,1,2,37,290,2,6,1,123,8,94,39,14,10,28,5,5,44,420,2060,30,10,427,30,5,16,195,335,86,21,30,11,2,3,1,9,83,5,19,907,21,55,28,5,1700,409,27,5,16,28,35,1819,1984,3,3138,16,1948,148,1230,2,21,1,530,42,2629,1003,109,4189,41,374,419,34],\"yaxis\":\"y\",\"type\":\"bar\"},{\"alignmentgroup\":\"True\",\"hovertemplate\":\"AREA NAME=West LA\\u003cbr\\u003eTipo de crimen=%{x}\\u003cbr\\u003eIncidencias=%{y}\\u003cextra\\u003e\\u003c\\u002fextra\\u003e\",\"legendgroup\":\"West LA\",\"marker\":{\"color\":\"#FF97FF\",\"pattern\":{\"shape\":\"\"}},\"name\":\"West LA\",\"offsetgroup\":\"West LA\",\"orientation\":\"v\",\"showlegend\":true,\"textposition\":\"auto\",\"x\":[\"ARSON\",\"ASSAULT WITH DEADLY WEAPON ON POLICE OFFICER\",\"ASSAULT WITH DEADLY WEAPON, AGGRAVATED ASSAULT\",\"ATTEMPTED ROBBERY\",\"BATTERY - SIMPLE ASSAULT\",\"BATTERY ON A FIREFIGHTER\",\"BATTERY POLICE (SIMPLE)\",\"BATTERY WITH SEXUAL CONTACT\",\"BIKE - ATTEMPTED STOLEN\",\"BIKE - STOLEN\",\"BOAT - STOLEN\",\"BOMB SCARE\",\"BRANDISH WEAPON\",\"BUNCO, ATTEMPT\",\"BUNCO, GRAND THEFT\",\"BUNCO, PETTY THEFT\",\"BURGLARY\",\"BURGLARY FROM VEHICLE\",\"BURGLARY FROM VEHICLE, ATTEMPTED\",\"BURGLARY, ATTEMPTED\",\"CHILD ABUSE (PHYSICAL) - AGGRAVATED ASSAULT\",\"CHILD ABUSE (PHYSICAL) - SIMPLE ASSAULT\",\"CHILD ANNOYING (17YRS & UNDER)\",\"CHILD NEGLECT (SEE 300 W.I.C.)\",\"CHILD PORNOGRAPHY\",\"CHILD STEALING\",\"CONSPIRACY\",\"CONTEMPT OF COURT\",\"CONTRIBUTING\",\"COUNTERFEIT\",\"CREDIT CARDS, FRAUD USE ($950.01 & OVER)\",\"CRIMINAL HOMICIDE\",\"CRIMINAL THREATS - NO WEAPON DISPLAYED\",\"CRM AGNST CHLD (13 OR UNDER) (14-15 & SUSP 10 YRS OLDER)\",\"CRUELTY TO ANIMALS\",\"DEFRAUDING INNKEEPER\\u002fTHEFT OF SERVICES, $950 & UNDER\",\"DEFRAUDING INNKEEPER\\u002fTHEFT OF SERVICES, OVER $950.01\",\"DISCHARGE FIREARMS\\u002fSHOTS FIRED\",\"DISHONEST EMPLOYEE - GRAND THEFT\",\"DISHONEST EMPLOYEE - PETTY THEFT\",\"DISRUPT SCHOOL\",\"DISTURBING THE PEACE\",\"DOCUMENT FORGERY \\u002f STOLEN FELONY\",\"DOCUMENT WORTHLESS ($200.01 & OVER)\",\"DRIVING WITHOUT OWNER CONSENT (DWOC)\",\"EMBEZZLEMENT, GRAND THEFT ($950.01 & OVER)\",\"EMBEZZLEMENT, PETTY THEFT ($950 & UNDER)\",\"EXTORTION\",\"FAILURE TO YIELD\",\"FALSE IMPRISONMENT\",\"FALSE POLICE REPORT\",\"GRAND THEFT \\u002f INSURANCE FRAUD\",\"HUMAN TRAFFICKING - COMMERCIAL SEX ACTS\",\"HUMAN TRAFFICKING - INVOLUNTARY SERVITUDE\",\"ILLEGAL DUMPING\",\"INDECENT EXPOSURE\",\"INTIMATE PARTNER - AGGRAVATED ASSAULT\",\"INTIMATE PARTNER - SIMPLE ASSAULT\",\"KIDNAPPING\",\"KIDNAPPING - GRAND ATTEMPT\",\"LETTERS, LEWD  -  TELEPHONE CALLS, LEWD\",\"LEWD CONDUCT\",\"LEWD\\u002fLASCIVIOUS ACTS WITH CHILD\",\"MANSLAUGHTER, NEGLIGENT\",\"ORAL COPULATION\",\"OTHER ASSAULT\",\"OTHER MISCELLANEOUS CRIME\",\"PANDERING\",\"PEEPING TOM\",\"PICKPOCKET\",\"PIMPING\",\"PROWLER\",\"PURSE SNATCHING\",\"PURSE SNATCHING - ATTEMPT\",\"RAPE, ATTEMPTED\",\"RAPE, FORCIBLE\",\"RECKLESS DRIVING\",\"RESISTING ARREST\",\"ROBBERY\",\"SEX OFFENDER REGISTRANT OUT OF COMPLIANCE\",\"SEX,UNLAWFUL(INC MUTUAL CONSENT, PENETRATION W\\u002f FRGN OBJ\",\"SEXUAL PENETRATION W\\u002fFOREIGN OBJECT\",\"SHOPLIFTING - ATTEMPT\",\"SHOPLIFTING - PETTY THEFT ($950 & UNDER)\",\"SHOPLIFTING-GRAND THEFT ($950.01 & OVER)\",\"SHOTS FIRED AT INHABITED DWELLING\",\"SHOTS FIRED AT MOVING VEHICLE, TRAIN OR AIRCRAFT\",\"SODOMY\\u002fSEXUAL CONTACT B\\u002fW PENIS OF ONE PERS TO ANUS OTH\",\"STALKING\",\"THEFT FROM MOTOR VEHICLE - ATTEMPT\",\"THEFT FROM MOTOR VEHICLE - GRAND ($950.01 AND OVER)\",\"THEFT FROM MOTOR VEHICLE - PETTY ($950 & UNDER)\",\"THEFT FROM PERSON - ATTEMPT\",\"THEFT OF IDENTITY\",\"THEFT PLAIN - ATTEMPT\",\"THEFT PLAIN - PETTY ($950 & UNDER)\",\"THEFT, COIN MACHINE - GRAND ($950.01 & OVER)\",\"THEFT, PERSON\",\"THEFT-GRAND ($950.01 & OVER)EXCPT,GUNS,FOWL,LIVESTK,PROD\",\"THREATENING PHONE CALLS\\u002fLETTERS\",\"THROWING OBJECT AT MOVING VEHICLE\",\"TILL TAP - GRAND THEFT ($950.01 & OVER)\",\"TILL TAP - PETTY ($950 & UNDER)\",\"TRESPASSING\",\"UNAUTHORIZED COMPUTER ACCESS\",\"VANDALISM - FELONY ($400 & OVER, ALL CHURCH VANDALISMS)\",\"VANDALISM - MISDEAMEANOR ($399 OR UNDER)\",\"VEHICLE - ATTEMPT STOLEN\",\"VEHICLE - STOLEN\",\"VEHICLE, STOLEN - OTHER (MOTORIZED SCOOTERS, BIKES, ETC)\",\"VIOLATION OF COURT ORDER\",\"VIOLATION OF RESTRAINING ORDER\",\"VIOLATION OF TEMPORARY RESTRAINING ORDER\",\"WEAPONS POSSESSION\\u002fBOMBING\"],\"xaxis\":\"x\",\"y\":[76,4,775,101,2823,7,39,215,1,1061,1,32,308,6,522,118,4369,3309,31,229,7,48,20,16,9,4,1,22,1,4,2,9,752,28,12,20,5,17,4,5,1,151,334,4,3,127,10,99,10,12,5,2,1,1,5,68,136,1053,11,4,554,28,1,1,27,261,341,1,34,100,5,18,6,2,11,138,5,20,658,1,42,52,3,2587,534,11,2,18,22,45,2050,1666,5,3257,25,3020,1,128,2055,19,29,1,5,894,74,2773,998,49,3175,191,179,318,18,1],\"yaxis\":\"y\",\"type\":\"bar\"},{\"alignmentgroup\":\"True\",\"hovertemplate\":\"AREA NAME=West Valley\\u003cbr\\u003eTipo de crimen=%{x}\\u003cbr\\u003eIncidencias=%{y}\\u003cextra\\u003e\\u003c\\u002fextra\\u003e\",\"legendgroup\":\"West Valley\",\"marker\":{\"color\":\"#FECB52\",\"pattern\":{\"shape\":\"\"}},\"name\":\"West Valley\",\"offsetgroup\":\"West Valley\",\"orientation\":\"v\",\"showlegend\":true,\"textposition\":\"auto\",\"x\":[\"ARSON\",\"ASSAULT WITH DEADLY WEAPON ON POLICE OFFICER\",\"ASSAULT WITH DEADLY WEAPON, AGGRAVATED ASSAULT\",\"ATTEMPTED ROBBERY\",\"BATTERY - SIMPLE ASSAULT\",\"BATTERY ON A FIREFIGHTER\",\"BATTERY POLICE (SIMPLE)\",\"BATTERY WITH SEXUAL CONTACT\",\"BEASTIALITY, CRIME AGAINST NATURE SEXUAL ASSLT WITH ANIM\",\"BIKE - STOLEN\",\"BLOCKING DOOR INDUCTION CENTER\",\"BOAT - STOLEN\",\"BOMB SCARE\",\"BRANDISH WEAPON\",\"BUNCO, ATTEMPT\",\"BUNCO, GRAND THEFT\",\"BUNCO, PETTY THEFT\",\"BURGLARY\",\"BURGLARY FROM VEHICLE\",\"BURGLARY FROM VEHICLE, ATTEMPTED\",\"BURGLARY, ATTEMPTED\",\"CHILD ABUSE (PHYSICAL) - AGGRAVATED ASSAULT\",\"CHILD ABUSE (PHYSICAL) - SIMPLE ASSAULT\",\"CHILD ANNOYING (17YRS & UNDER)\",\"CHILD NEGLECT (SEE 300 W.I.C.)\",\"CHILD PORNOGRAPHY\",\"CHILD STEALING\",\"CONSPIRACY\",\"CONTEMPT OF COURT\",\"CONTRIBUTING\",\"COUNTERFEIT\",\"CREDIT CARDS, FRAUD USE ($950 & UNDER\",\"CRIMINAL HOMICIDE\",\"CRIMINAL THREATS - NO WEAPON DISPLAYED\",\"CRM AGNST CHLD (13 OR UNDER) (14-15 & SUSP 10 YRS OLDER)\",\"CRUELTY TO ANIMALS\",\"DEFRAUDING INNKEEPER\\u002fTHEFT OF SERVICES, $950 & UNDER\",\"DEFRAUDING INNKEEPER\\u002fTHEFT OF SERVICES, OVER $950.01\",\"DISCHARGE FIREARMS\\u002fSHOTS FIRED\",\"DISHONEST EMPLOYEE - GRAND THEFT\",\"DISHONEST EMPLOYEE ATTEMPTED THEFT\",\"DISRUPT SCHOOL\",\"DISTURBING THE PEACE\",\"DOCUMENT FORGERY \\u002f STOLEN FELONY\",\"DOCUMENT WORTHLESS ($200 & UNDER)\",\"DOCUMENT WORTHLESS ($200.01 & OVER)\",\"DRIVING WITHOUT OWNER CONSENT (DWOC)\",\"DRUGS, TO A MINOR\",\"EMBEZZLEMENT, GRAND THEFT ($950.01 & OVER)\",\"EMBEZZLEMENT, PETTY THEFT ($950 & UNDER)\",\"EXTORTION\",\"FAILURE TO YIELD\",\"FALSE IMPRISONMENT\",\"FALSE POLICE REPORT\",\"HUMAN TRAFFICKING - COMMERCIAL SEX ACTS\",\"HUMAN TRAFFICKING - INVOLUNTARY SERVITUDE\",\"ILLEGAL DUMPING\",\"INDECENT EXPOSURE\",\"INTIMATE PARTNER - AGGRAVATED ASSAULT\",\"INTIMATE PARTNER - SIMPLE ASSAULT\",\"KIDNAPPING\",\"KIDNAPPING - GRAND ATTEMPT\",\"LETTERS, LEWD  -  TELEPHONE CALLS, LEWD\",\"LEWD CONDUCT\",\"LEWD\\u002fLASCIVIOUS ACTS WITH CHILD\",\"LYNCHING - ATTEMPTED\",\"MANSLAUGHTER, NEGLIGENT\",\"ORAL COPULATION\",\"OTHER ASSAULT\",\"OTHER MISCELLANEOUS CRIME\",\"PEEPING TOM\",\"PETTY THEFT - AUTO REPAIR\",\"PICKPOCKET\",\"PIMPING\",\"PROWLER\",\"PURSE SNATCHING\",\"RAPE, ATTEMPTED\",\"RAPE, FORCIBLE\",\"RECKLESS DRIVING\",\"RESISTING ARREST\",\"ROBBERY\",\"SEX OFFENDER REGISTRANT OUT OF COMPLIANCE\",\"SEX,UNLAWFUL(INC MUTUAL CONSENT, PENETRATION W\\u002f FRGN OBJ\",\"SEXUAL PENETRATION W\\u002fFOREIGN OBJECT\",\"SHOPLIFTING - ATTEMPT\",\"SHOPLIFTING - PETTY THEFT ($950 & UNDER)\",\"SHOPLIFTING-GRAND THEFT ($950.01 & OVER)\",\"SHOTS FIRED AT INHABITED DWELLING\",\"SHOTS FIRED AT MOVING VEHICLE, TRAIN OR AIRCRAFT\",\"SODOMY\\u002fSEXUAL CONTACT B\\u002fW PENIS OF ONE PERS TO ANUS OTH\",\"STALKING\",\"TELEPHONE PROPERTY - DAMAGE\",\"THEFT FROM MOTOR VEHICLE - ATTEMPT\",\"THEFT FROM MOTOR VEHICLE - GRAND ($950.01 AND OVER)\",\"THEFT FROM MOTOR VEHICLE - PETTY ($950 & UNDER)\",\"THEFT OF IDENTITY\",\"THEFT PLAIN - ATTEMPT\",\"THEFT PLAIN - PETTY ($950 & UNDER)\",\"THEFT, COIN MACHINE - PETTY ($950 & UNDER)\",\"THEFT, PERSON\",\"THEFT-GRAND ($950.01 & OVER)EXCPT,GUNS,FOWL,LIVESTK,PROD\",\"THREATENING PHONE CALLS\\u002fLETTERS\",\"THROWING OBJECT AT MOVING VEHICLE\",\"TRESPASSING\",\"UNAUTHORIZED COMPUTER ACCESS\",\"VANDALISM - FELONY ($400 & OVER, ALL CHURCH VANDALISMS)\",\"VANDALISM - MISDEAMEANOR ($399 OR UNDER)\",\"VEHICLE - ATTEMPT STOLEN\",\"VEHICLE - STOLEN\",\"VEHICLE, STOLEN - OTHER (MOTORIZED SCOOTERS, BIKES, ETC)\",\"VIOLATION OF COURT ORDER\",\"VIOLATION OF RESTRAINING ORDER\",\"VIOLATION OF TEMPORARY RESTRAINING ORDER\",\"WEAPONS POSSESSION\\u002fBOMBING\"],\"xaxis\":\"x\",\"y\":[84,29,1768,154,2736,14,69,201,2,187,5,3,23,519,9,338,96,3550,2581,22,284,29,199,60,115,11,28,3,92,6,7,4,31,1008,55,14,7,1,83,3,1,1,99,277,1,1,1,1,73,7,133,27,16,3,2,2,5,46,482,2134,37,7,459,29,10,1,3,23,175,303,20,2,28,1,71,2,17,156,63,66,923,36,58,50,5,781,122,41,10,14,19,1,49,1950,1849,3105,14,1759,3,77,1330,13,35,675,75,2352,914,149,3903,35,518,184,134,2],\"yaxis\":\"y\",\"type\":\"bar\"},{\"alignmentgroup\":\"True\",\"hovertemplate\":\"AREA NAME=Wilshire\\u003cbr\\u003eTipo de crimen=%{x}\\u003cbr\\u003eIncidencias=%{y}\\u003cextra\\u003e\\u003c\\u002fextra\\u003e\",\"legendgroup\":\"Wilshire\",\"marker\":{\"color\":\"#636efa\",\"pattern\":{\"shape\":\"\"}},\"name\":\"Wilshire\",\"offsetgroup\":\"Wilshire\",\"orientation\":\"v\",\"showlegend\":true,\"textposition\":\"auto\",\"x\":[\"ARSON\",\"ASSAULT WITH DEADLY WEAPON ON POLICE OFFICER\",\"ASSAULT WITH DEADLY WEAPON, AGGRAVATED ASSAULT\",\"ATTEMPTED ROBBERY\",\"BATTERY - SIMPLE ASSAULT\",\"BATTERY ON A FIREFIGHTER\",\"BATTERY POLICE (SIMPLE)\",\"BATTERY WITH SEXUAL CONTACT\",\"BIKE - STOLEN\",\"BOAT - STOLEN\",\"BOMB SCARE\",\"BRANDISH WEAPON\",\"BUNCO, ATTEMPT\",\"BUNCO, GRAND THEFT\",\"BUNCO, PETTY THEFT\",\"BURGLARY\",\"BURGLARY FROM VEHICLE\",\"BURGLARY FROM VEHICLE, ATTEMPTED\",\"BURGLARY, ATTEMPTED\",\"CHILD ABUSE (PHYSICAL) - AGGRAVATED ASSAULT\",\"CHILD ABUSE (PHYSICAL) - SIMPLE ASSAULT\",\"CHILD ANNOYING (17YRS & UNDER)\",\"CHILD NEGLECT (SEE 300 W.I.C.)\",\"CHILD PORNOGRAPHY\",\"CHILD STEALING\",\"CONSPIRACY\",\"CONTEMPT OF COURT\",\"COUNTERFEIT\",\"CREDIT CARDS, FRAUD USE ($950 & UNDER\",\"CREDIT CARDS, FRAUD USE ($950.01 & OVER)\",\"CRIMINAL HOMICIDE\",\"CRIMINAL THREATS - NO WEAPON DISPLAYED\",\"CRM AGNST CHLD (13 OR UNDER) (14-15 & SUSP 10 YRS OLDER)\",\"CRUELTY TO ANIMALS\",\"DEFRAUDING INNKEEPER\\u002fTHEFT OF SERVICES, $950 & UNDER\",\"DEFRAUDING INNKEEPER\\u002fTHEFT OF SERVICES, OVER $950.01\",\"DISCHARGE FIREARMS\\u002fSHOTS FIRED\",\"DISHONEST EMPLOYEE - GRAND THEFT\",\"DISTURBING THE PEACE\",\"DOCUMENT FORGERY \\u002f STOLEN FELONY\",\"DRIVING WITHOUT OWNER CONSENT (DWOC)\",\"DRUNK ROLL\",\"EMBEZZLEMENT, GRAND THEFT ($950.01 & OVER)\",\"EMBEZZLEMENT, PETTY THEFT ($950 & UNDER)\",\"EXTORTION\",\"FAILURE TO YIELD\",\"FALSE IMPRISONMENT\",\"FALSE POLICE REPORT\",\"GRAND THEFT \\u002f INSURANCE FRAUD\",\"HUMAN TRAFFICKING - COMMERCIAL SEX ACTS\",\"HUMAN TRAFFICKING - INVOLUNTARY SERVITUDE\",\"ILLEGAL DUMPING\",\"INCEST (SEXUAL ACTS BETWEEN BLOOD RELATIVES)\",\"INDECENT EXPOSURE\",\"INTIMATE PARTNER - AGGRAVATED ASSAULT\",\"INTIMATE PARTNER - SIMPLE ASSAULT\",\"KIDNAPPING\",\"KIDNAPPING - GRAND ATTEMPT\",\"LETTERS, LEWD  -  TELEPHONE CALLS, LEWD\",\"LEWD CONDUCT\",\"MANSLAUGHTER, NEGLIGENT\",\"ORAL COPULATION\",\"OTHER ASSAULT\",\"OTHER MISCELLANEOUS CRIME\",\"PEEPING TOM\",\"PETTY THEFT - AUTO REPAIR\",\"PICKPOCKET\",\"PICKPOCKET, ATTEMPT\",\"PROWLER\",\"PURSE SNATCHING\",\"RAPE, ATTEMPTED\",\"RAPE, FORCIBLE\",\"RECKLESS DRIVING\",\"RESISTING ARREST\",\"ROBBERY\",\"SEX OFFENDER REGISTRANT OUT OF COMPLIANCE\",\"SEX,UNLAWFUL(INC MUTUAL CONSENT, PENETRATION W\\u002f FRGN OBJ\",\"SEXUAL PENETRATION W\\u002fFOREIGN OBJECT\",\"SHOPLIFTING - ATTEMPT\",\"SHOPLIFTING - PETTY THEFT ($950 & UNDER)\",\"SHOPLIFTING-GRAND THEFT ($950.01 & OVER)\",\"SHOTS FIRED AT INHABITED DWELLING\",\"SHOTS FIRED AT MOVING VEHICLE, TRAIN OR AIRCRAFT\",\"SODOMY\\u002fSEXUAL CONTACT B\\u002fW PENIS OF ONE PERS TO ANUS OTH\",\"STALKING\",\"THEFT FROM MOTOR VEHICLE - ATTEMPT\",\"THEFT FROM MOTOR VEHICLE - GRAND ($950.01 AND OVER)\",\"THEFT FROM MOTOR VEHICLE - PETTY ($950 & UNDER)\",\"THEFT FROM PERSON - ATTEMPT\",\"THEFT OF IDENTITY\",\"THEFT PLAIN - ATTEMPT\",\"THEFT PLAIN - PETTY ($950 & UNDER)\",\"THEFT, PERSON\",\"THEFT-GRAND ($950.01 & OVER)EXCPT,GUNS,FOWL,LIVESTK,PROD\",\"THREATENING PHONE CALLS\\u002fLETTERS\",\"THROWING OBJECT AT MOVING VEHICLE\",\"TILL TAP - GRAND THEFT ($950.01 & OVER)\",\"TILL TAP - PETTY ($950 & UNDER)\",\"TRESPASSING\",\"UNAUTHORIZED COMPUTER ACCESS\",\"VANDALISM - FELONY ($400 & OVER, ALL CHURCH VANDALISMS)\",\"VANDALISM - MISDEAMEANOR ($399 OR UNDER)\",\"VEHICLE - ATTEMPT STOLEN\",\"VEHICLE - STOLEN\",\"VEHICLE, STOLEN - OTHER (MOTORIZED SCOOTERS, BIKES, ETC)\",\"VIOLATION OF COURT ORDER\",\"VIOLATION OF RESTRAINING ORDER\",\"VIOLATION OF TEMPORARY RESTRAINING ORDER\",\"WEAPONS POSSESSION\\u002fBOMBING\"],\"xaxis\":\"x\",\"y\":[129,119,1676,171,3160,7,104,184,354,2,29,529,2,332,101,3698,3129,25,153,16,117,22,55,14,21,1,8,9,7,8,36,907,31,8,28,17,75,1,187,158,3,3,220,21,82,33,14,35,1,6,2,2,1,47,311,1418,26,1,461,52,1,22,241,506,26,2,231,1,6,1,15,136,10,23,1517,175,30,68,5,3088,619,42,5,24,47,44,1788,1663,3,2485,10,2962,179,1909,18,33,1,1,850,29,2832,1020,61,3848,60,335,379,12,2],\"yaxis\":\"y\",\"type\":\"bar\"}],                        {\"template\":{\"data\":{\"histogram2dcontour\":[{\"type\":\"histogram2dcontour\",\"colorbar\":{\"outlinewidth\":0,\"ticks\":\"\"},\"colorscale\":[[0.0,\"#0d0887\"],[0.1111111111111111,\"#46039f\"],[0.2222222222222222,\"#7201a8\"],[0.3333333333333333,\"#9c179e\"],[0.4444444444444444,\"#bd3786\"],[0.5555555555555556,\"#d8576b\"],[0.6666666666666666,\"#ed7953\"],[0.7777777777777778,\"#fb9f3a\"],[0.8888888888888888,\"#fdca26\"],[1.0,\"#f0f921\"]]}],\"choropleth\":[{\"type\":\"choropleth\",\"colorbar\":{\"outlinewidth\":0,\"ticks\":\"\"}}],\"histogram2d\":[{\"type\":\"histogram2d\",\"colorbar\":{\"outlinewidth\":0,\"ticks\":\"\"},\"colorscale\":[[0.0,\"#0d0887\"],[0.1111111111111111,\"#46039f\"],[0.2222222222222222,\"#7201a8\"],[0.3333333333333333,\"#9c179e\"],[0.4444444444444444,\"#bd3786\"],[0.5555555555555556,\"#d8576b\"],[0.6666666666666666,\"#ed7953\"],[0.7777777777777778,\"#fb9f3a\"],[0.8888888888888888,\"#fdca26\"],[1.0,\"#f0f921\"]]}],\"heatmap\":[{\"type\":\"heatmap\",\"colorbar\":{\"outlinewidth\":0,\"ticks\":\"\"},\"colorscale\":[[0.0,\"#0d0887\"],[0.1111111111111111,\"#46039f\"],[0.2222222222222222,\"#7201a8\"],[0.3333333333333333,\"#9c179e\"],[0.4444444444444444,\"#bd3786\"],[0.5555555555555556,\"#d8576b\"],[0.6666666666666666,\"#ed7953\"],[0.7777777777777778,\"#fb9f3a\"],[0.8888888888888888,\"#fdca26\"],[1.0,\"#f0f921\"]]}],\"heatmapgl\":[{\"type\":\"heatmapgl\",\"colorbar\":{\"outlinewidth\":0,\"ticks\":\"\"},\"colorscale\":[[0.0,\"#0d0887\"],[0.1111111111111111,\"#46039f\"],[0.2222222222222222,\"#7201a8\"],[0.3333333333333333,\"#9c179e\"],[0.4444444444444444,\"#bd3786\"],[0.5555555555555556,\"#d8576b\"],[0.6666666666666666,\"#ed7953\"],[0.7777777777777778,\"#fb9f3a\"],[0.8888888888888888,\"#fdca26\"],[1.0,\"#f0f921\"]]}],\"contourcarpet\":[{\"type\":\"contourcarpet\",\"colorbar\":{\"outlinewidth\":0,\"ticks\":\"\"}}],\"contour\":[{\"type\":\"contour\",\"colorbar\":{\"outlinewidth\":0,\"ticks\":\"\"},\"colorscale\":[[0.0,\"#0d0887\"],[0.1111111111111111,\"#46039f\"],[0.2222222222222222,\"#7201a8\"],[0.3333333333333333,\"#9c179e\"],[0.4444444444444444,\"#bd3786\"],[0.5555555555555556,\"#d8576b\"],[0.6666666666666666,\"#ed7953\"],[0.7777777777777778,\"#fb9f3a\"],[0.8888888888888888,\"#fdca26\"],[1.0,\"#f0f921\"]]}],\"surface\":[{\"type\":\"surface\",\"colorbar\":{\"outlinewidth\":0,\"ticks\":\"\"},\"colorscale\":[[0.0,\"#0d0887\"],[0.1111111111111111,\"#46039f\"],[0.2222222222222222,\"#7201a8\"],[0.3333333333333333,\"#9c179e\"],[0.4444444444444444,\"#bd3786\"],[0.5555555555555556,\"#d8576b\"],[0.6666666666666666,\"#ed7953\"],[0.7777777777777778,\"#fb9f3a\"],[0.8888888888888888,\"#fdca26\"],[1.0,\"#f0f921\"]]}],\"mesh3d\":[{\"type\":\"mesh3d\",\"colorbar\":{\"outlinewidth\":0,\"ticks\":\"\"}}],\"scatter\":[{\"fillpattern\":{\"fillmode\":\"overlay\",\"size\":10,\"solidity\":0.2},\"type\":\"scatter\"}],\"parcoords\":[{\"type\":\"parcoords\",\"line\":{\"colorbar\":{\"outlinewidth\":0,\"ticks\":\"\"}}}],\"scatterpolargl\":[{\"type\":\"scatterpolargl\",\"marker\":{\"colorbar\":{\"outlinewidth\":0,\"ticks\":\"\"}}}],\"bar\":[{\"error_x\":{\"color\":\"#2a3f5f\"},\"error_y\":{\"color\":\"#2a3f5f\"},\"marker\":{\"line\":{\"color\":\"#E5ECF6\",\"width\":0.5},\"pattern\":{\"fillmode\":\"overlay\",\"size\":10,\"solidity\":0.2}},\"type\":\"bar\"}],\"scattergeo\":[{\"type\":\"scattergeo\",\"marker\":{\"colorbar\":{\"outlinewidth\":0,\"ticks\":\"\"}}}],\"scatterpolar\":[{\"type\":\"scatterpolar\",\"marker\":{\"colorbar\":{\"outlinewidth\":0,\"ticks\":\"\"}}}],\"histogram\":[{\"marker\":{\"pattern\":{\"fillmode\":\"overlay\",\"size\":10,\"solidity\":0.2}},\"type\":\"histogram\"}],\"scattergl\":[{\"type\":\"scattergl\",\"marker\":{\"colorbar\":{\"outlinewidth\":0,\"ticks\":\"\"}}}],\"scatter3d\":[{\"type\":\"scatter3d\",\"line\":{\"colorbar\":{\"outlinewidth\":0,\"ticks\":\"\"}},\"marker\":{\"colorbar\":{\"outlinewidth\":0,\"ticks\":\"\"}}}],\"scattermapbox\":[{\"type\":\"scattermapbox\",\"marker\":{\"colorbar\":{\"outlinewidth\":0,\"ticks\":\"\"}}}],\"scatterternary\":[{\"type\":\"scatterternary\",\"marker\":{\"colorbar\":{\"outlinewidth\":0,\"ticks\":\"\"}}}],\"scattercarpet\":[{\"type\":\"scattercarpet\",\"marker\":{\"colorbar\":{\"outlinewidth\":0,\"ticks\":\"\"}}}],\"carpet\":[{\"aaxis\":{\"endlinecolor\":\"#2a3f5f\",\"gridcolor\":\"white\",\"linecolor\":\"white\",\"minorgridcolor\":\"white\",\"startlinecolor\":\"#2a3f5f\"},\"baxis\":{\"endlinecolor\":\"#2a3f5f\",\"gridcolor\":\"white\",\"linecolor\":\"white\",\"minorgridcolor\":\"white\",\"startlinecolor\":\"#2a3f5f\"},\"type\":\"carpet\"}],\"table\":[{\"cells\":{\"fill\":{\"color\":\"#EBF0F8\"},\"line\":{\"color\":\"white\"}},\"header\":{\"fill\":{\"color\":\"#C8D4E3\"},\"line\":{\"color\":\"white\"}},\"type\":\"table\"}],\"barpolar\":[{\"marker\":{\"line\":{\"color\":\"#E5ECF6\",\"width\":0.5},\"pattern\":{\"fillmode\":\"overlay\",\"size\":10,\"solidity\":0.2}},\"type\":\"barpolar\"}],\"pie\":[{\"automargin\":true,\"type\":\"pie\"}]},\"layout\":{\"autotypenumbers\":\"strict\",\"colorway\":[\"#636efa\",\"#EF553B\",\"#00cc96\",\"#ab63fa\",\"#FFA15A\",\"#19d3f3\",\"#FF6692\",\"#B6E880\",\"#FF97FF\",\"#FECB52\"],\"font\":{\"color\":\"#2a3f5f\"},\"hovermode\":\"closest\",\"hoverlabel\":{\"align\":\"left\"},\"paper_bgcolor\":\"white\",\"plot_bgcolor\":\"#E5ECF6\",\"polar\":{\"bgcolor\":\"#E5ECF6\",\"angularaxis\":{\"gridcolor\":\"white\",\"linecolor\":\"white\",\"ticks\":\"\"},\"radialaxis\":{\"gridcolor\":\"white\",\"linecolor\":\"white\",\"ticks\":\"\"}},\"ternary\":{\"bgcolor\":\"#E5ECF6\",\"aaxis\":{\"gridcolor\":\"white\",\"linecolor\":\"white\",\"ticks\":\"\"},\"baxis\":{\"gridcolor\":\"white\",\"linecolor\":\"white\",\"ticks\":\"\"},\"caxis\":{\"gridcolor\":\"white\",\"linecolor\":\"white\",\"ticks\":\"\"}},\"coloraxis\":{\"colorbar\":{\"outlinewidth\":0,\"ticks\":\"\"}},\"colorscale\":{\"sequential\":[[0.0,\"#0d0887\"],[0.1111111111111111,\"#46039f\"],[0.2222222222222222,\"#7201a8\"],[0.3333333333333333,\"#9c179e\"],[0.4444444444444444,\"#bd3786\"],[0.5555555555555556,\"#d8576b\"],[0.6666666666666666,\"#ed7953\"],[0.7777777777777778,\"#fb9f3a\"],[0.8888888888888888,\"#fdca26\"],[1.0,\"#f0f921\"]],\"sequentialminus\":[[0.0,\"#0d0887\"],[0.1111111111111111,\"#46039f\"],[0.2222222222222222,\"#7201a8\"],[0.3333333333333333,\"#9c179e\"],[0.4444444444444444,\"#bd3786\"],[0.5555555555555556,\"#d8576b\"],[0.6666666666666666,\"#ed7953\"],[0.7777777777777778,\"#fb9f3a\"],[0.8888888888888888,\"#fdca26\"],[1.0,\"#f0f921\"]],\"diverging\":[[0,\"#8e0152\"],[0.1,\"#c51b7d\"],[0.2,\"#de77ae\"],[0.3,\"#f1b6da\"],[0.4,\"#fde0ef\"],[0.5,\"#f7f7f7\"],[0.6,\"#e6f5d0\"],[0.7,\"#b8e186\"],[0.8,\"#7fbc41\"],[0.9,\"#4d9221\"],[1,\"#276419\"]]},\"xaxis\":{\"gridcolor\":\"white\",\"linecolor\":\"white\",\"ticks\":\"\",\"title\":{\"standoff\":15},\"zerolinecolor\":\"white\",\"automargin\":true,\"zerolinewidth\":2},\"yaxis\":{\"gridcolor\":\"white\",\"linecolor\":\"white\",\"ticks\":\"\",\"title\":{\"standoff\":15},\"zerolinecolor\":\"white\",\"automargin\":true,\"zerolinewidth\":2},\"scene\":{\"xaxis\":{\"backgroundcolor\":\"#E5ECF6\",\"gridcolor\":\"white\",\"linecolor\":\"white\",\"showbackground\":true,\"ticks\":\"\",\"zerolinecolor\":\"white\",\"gridwidth\":2},\"yaxis\":{\"backgroundcolor\":\"#E5ECF6\",\"gridcolor\":\"white\",\"linecolor\":\"white\",\"showbackground\":true,\"ticks\":\"\",\"zerolinecolor\":\"white\",\"gridwidth\":2},\"zaxis\":{\"backgroundcolor\":\"#E5ECF6\",\"gridcolor\":\"white\",\"linecolor\":\"white\",\"showbackground\":true,\"ticks\":\"\",\"zerolinecolor\":\"white\",\"gridwidth\":2}},\"shapedefaults\":{\"line\":{\"color\":\"#2a3f5f\"}},\"annotationdefaults\":{\"arrowcolor\":\"#2a3f5f\",\"arrowhead\":0,\"arrowwidth\":1},\"geo\":{\"bgcolor\":\"white\",\"landcolor\":\"#E5ECF6\",\"subunitcolor\":\"white\",\"showland\":true,\"showlakes\":true,\"lakecolor\":\"white\"},\"title\":{\"x\":0.05},\"mapbox\":{\"style\":\"light\"}}},\"xaxis\":{\"anchor\":\"y\",\"domain\":[0.0,1.0],\"title\":{\"text\":\"Tipo de crimen\"}},\"yaxis\":{\"anchor\":\"x\",\"domain\":[0.0,1.0],\"title\":{\"text\":\"Incidencias\"}},\"legend\":{\"title\":{\"text\":\"AREA NAME\"},\"tracegroupgap\":0},\"title\":{\"text\":\"Total de cr\\u00edmenes agrupado por \\u00e1rea 2020-2024\"},\"barmode\":\"relative\",\"width\":1200,\"height\":1200},                        {\"responsive\": true}                    ).then(function(){\n",
              "                            \n",
              "var gd = document.getElementById('731e7a92-7cc2-45c0-8e82-6343f520d528');\n",
              "var x = new MutationObserver(function (mutations, observer) {{\n",
              "        var display = window.getComputedStyle(gd).display;\n",
              "        if (!display || display === 'none') {{\n",
              "            console.log([gd, 'removed!']);\n",
              "            Plotly.purge(gd);\n",
              "            observer.disconnect();\n",
              "        }}\n",
              "}});\n",
              "\n",
              "// Listen for the removal of the full notebook cells\n",
              "var notebookContainer = gd.closest('#notebook-container');\n",
              "if (notebookContainer) {{\n",
              "    x.observe(notebookContainer, {childList: true});\n",
              "}}\n",
              "\n",
              "// Listen for the clearing of the current output cell\n",
              "var outputEl = gd.closest('.output');\n",
              "if (outputEl) {{\n",
              "    x.observe(outputEl, {childList: true});\n",
              "}}\n",
              "\n",
              "                        })                };                            </script>        </div>\n",
              "</body>\n",
              "</html>"
            ]
          },
          "metadata": {}
        }
      ],
      "source": [
        "total_crimes = df['Crm Cd Desc'].nunique()\n",
        "print(f'Hay un total de {total_crimes} crímenes distintos.')\n",
        "print('-'*50, '\\n')\n",
        "\n",
        "crimes_count = df.groupby(['AREA NAME', 'Crm Cd Desc']).size().reset_index(name='Incidencias')\n",
        "\n",
        "fig = px.bar(\n",
        "    crimes_count,\n",
        "    x='Crm Cd Desc',\n",
        "    y='Incidencias',\n",
        "    color='AREA NAME',\n",
        "    title='Total de crímenes agrupado por área 2020-2024',\n",
        "    labels={'Crm Cd Desc': 'Tipo de crimen', 'Incidencias': 'Incidencias'},\n",
        "    hover_data={'Incidencias': True}\n",
        ")\n",
        "\n",
        "fig.update_layout(\n",
        "    xaxis_title='Tipo de crimen',\n",
        "    yaxis_title='Incidencias',\n",
        "    width=1200,\n",
        "    height=1200,\n",
        ")\n",
        "\n",
        "fig.show()"
      ]
    },
    {
      "cell_type": "markdown",
      "metadata": {
        "id": "Hn_G_MphY9KU"
      },
      "source": [
        "### Los 20 crímenes más cometidos por año"
      ]
    },
    {
      "cell_type": "code",
      "execution_count": null,
      "metadata": {
        "colab": {
          "base_uri": "https://localhost:8080/",
          "height": 1000
        },
        "id": "NfOb21EtY9KU",
        "outputId": "a5578b72-9bac-4652-c166-e336d295d56d"
      },
      "outputs": [
        {
          "output_type": "stream",
          "name": "stderr",
          "text": [
            "<ipython-input-24-c807f92fbacd>:2: MatplotlibDeprecationWarning:\n",
            "\n",
            "The get_cmap function was deprecated in Matplotlib 3.7 and will be removed two minor releases later. Use ``matplotlib.colormaps[name]`` or ``matplotlib.colormaps.get_cmap(obj)`` instead.\n",
            "\n"
          ]
        },
        {
          "output_type": "display_data",
          "data": {
            "text/html": [
              "<html>\n",
              "<head><meta charset=\"utf-8\" /></head>\n",
              "<body>\n",
              "    <div>            <script src=\"https://cdnjs.cloudflare.com/ajax/libs/mathjax/2.7.5/MathJax.js?config=TeX-AMS-MML_SVG\"></script><script type=\"text/javascript\">if (window.MathJax && window.MathJax.Hub && window.MathJax.Hub.Config) {window.MathJax.Hub.Config({SVG: {font: \"STIX-Web\"}});}</script>                <script type=\"text/javascript\">window.PlotlyConfig = {MathJaxConfig: 'local'};</script>\n",
              "        <script charset=\"utf-8\" src=\"https://cdn.plot.ly/plotly-2.35.2.min.js\"></script>                <div id=\"039c5422-f65e-4e34-a813-0491ad78ac8a\" class=\"plotly-graph-div\" style=\"height:1600px; width:1200px;\"></div>            <script type=\"text/javascript\">                                    window.PLOTLYENV=window.PLOTLYENV || {};                                    if (document.getElementById(\"039c5422-f65e-4e34-a813-0491ad78ac8a\")) {                    Plotly.newPlot(                        \"039c5422-f65e-4e34-a813-0491ad78ac8a\",                        [{\"hovertemplate\":\"\\u003cb\\u003e%{x}\\u003c\\u002fb\\u003e\\u003cbr\\u003eIncidencias: %{y}\\u003cextra\\u003e\\u003c\\u002fextra\\u003e\",\"marker\":{\"color\":[\"rgba(31, 119, 180, 1)\",\"rgba(174, 199, 232, 1)\",\"rgba(44, 160, 44, 1)\",\"rgba(152, 223, 138, 1)\",\"rgba(255, 127, 14, 1)\",\"rgba(214, 39, 40, 1)\",\"rgba(148, 103, 189, 1)\",\"rgba(255, 152, 150, 1)\",\"rgba(197, 176, 213, 1)\",\"rgba(255, 187, 120, 1)\",\"rgba(127, 127, 127, 1)\",\"rgba(227, 119, 194, 1)\",\"rgba(140, 86, 75, 1)\",\"rgba(196, 156, 148, 1)\",\"rgba(199, 199, 199, 1)\",\"rgba(219, 219, 141, 1)\",\"rgba(247, 182, 210, 1)\",\"rgba(23, 190, 207, 1)\",\"rgba(188, 189, 34, 1)\",\"rgba(158, 218, 229, 1)\"]},\"x\":[\"VEHICLE - STOLEN\",\"BATTERY - SIMPLE ASSAULT\",\"VANDALISM - FELONY ($400 & OVER, ALL CHURCH VANDALISMS)\",\"BURGLARY\",\"BURGLARY FROM VEHICLE\",\"ASSAULT WITH DEADLY WEAPON, AGGRAVATED ASSAULT\",\"INTIMATE PARTNER - SIMPLE ASSAULT\",\"THEFT PLAIN - PETTY ($950 & UNDER)\",\"THEFT FROM MOTOR VEHICLE - PETTY ($950 & UNDER)\",\"THEFT OF IDENTITY\",\"VANDALISM - MISDEAMEANOR ($399 OR UNDER)\",\"ROBBERY\",\"THEFT FROM MOTOR VEHICLE - GRAND ($950.01 AND OVER)\",\"THEFT-GRAND ($950.01 & OVER)EXCPT,GUNS,FOWL,LIVESTK,PROD\",\"CRIMINAL THREATS - NO WEAPON DISPLAYED\",\"BRANDISH WEAPON\",\"SHOPLIFTING - PETTY THEFT ($950 & UNDER)\",\"INTIMATE PARTNER - AGGRAVATED ASSAULT\",\"TRESPASSING\",\"VIOLATION OF RESTRAINING ORDER\"],\"y\":[21663,15585,12753,12731,12085,11719,10534,9998,9352,6865,6827,6738,5051,5039,4011,3172,3038,2806,2780,2576],\"type\":\"bar\",\"xaxis\":\"x\",\"yaxis\":\"y\"},{\"hovertemplate\":\"\\u003cb\\u003e%{x}\\u003c\\u002fb\\u003e\\u003cbr\\u003eIncidencias: %{y}\\u003cextra\\u003e\\u003c\\u002fextra\\u003e\",\"marker\":{\"color\":[\"rgba(31, 119, 180, 1)\",\"rgba(174, 199, 232, 1)\",\"rgba(255, 127, 14, 1)\",\"rgba(44, 160, 44, 1)\",\"rgba(214, 39, 40, 1)\",\"rgba(152, 223, 138, 1)\",\"rgba(255, 187, 120, 1)\",\"rgba(255, 152, 150, 1)\",\"rgba(148, 103, 189, 1)\",\"rgba(197, 176, 213, 1)\",\"rgba(140, 86, 75, 1)\",\"rgba(227, 119, 194, 1)\",\"rgba(196, 156, 148, 1)\",\"rgba(127, 127, 127, 1)\",\"rgba(199, 199, 199, 1)\",\"rgba(219, 219, 141, 1)\",\"rgba(23, 190, 207, 1)\",\"rgba(247, 182, 210, 1)\",\"rgba(158, 218, 229, 1)\",\"rgba(188, 189, 34, 1)\"]},\"x\":[\"VEHICLE - STOLEN\",\"BATTERY - SIMPLE ASSAULT\",\"BURGLARY FROM VEHICLE\",\"VANDALISM - FELONY ($400 & OVER, ALL CHURCH VANDALISMS)\",\"ASSAULT WITH DEADLY WEAPON, AGGRAVATED ASSAULT\",\"BURGLARY\",\"THEFT OF IDENTITY\",\"THEFT PLAIN - PETTY ($950 & UNDER)\",\"INTIMATE PARTNER - SIMPLE ASSAULT\",\"THEFT FROM MOTOR VEHICLE - PETTY ($950 & UNDER)\",\"THEFT FROM MOTOR VEHICLE - GRAND ($950.01 AND OVER)\",\"ROBBERY\",\"THEFT-GRAND ($950.01 & OVER)EXCPT,GUNS,FOWL,LIVESTK,PROD\",\"VANDALISM - MISDEAMEANOR ($399 OR UNDER)\",\"CRIMINAL THREATS - NO WEAPON DISPLAYED\",\"BRANDISH WEAPON\",\"INTIMATE PARTNER - AGGRAVATED ASSAULT\",\"SHOPLIFTING - PETTY THEFT ($950 & UNDER)\",\"VIOLATION OF RESTRAINING ORDER\",\"TRESPASSING\"],\"y\":[23894,16617,13861,13754,12910,12450,12085,11376,10745,8217,7678,7562,7015,6131,4329,3369,3085,3038,2806,2758],\"type\":\"bar\",\"xaxis\":\"x2\",\"yaxis\":\"y2\"},{\"hovertemplate\":\"\\u003cb\\u003e%{x}\\u003c\\u002fb\\u003e\\u003cbr\\u003eIncidencias: %{y}\\u003cextra\\u003e\\u003c\\u002fextra\\u003e\",\"marker\":{\"color\":[\"rgba(31, 119, 180, 1)\",\"rgba(255, 187, 120, 1)\",\"rgba(174, 199, 232, 1)\",\"rgba(152, 223, 138, 1)\",\"rgba(255, 127, 14, 1)\",\"rgba(44, 160, 44, 1)\",\"rgba(214, 39, 40, 1)\",\"rgba(255, 152, 150, 1)\",\"rgba(148, 103, 189, 1)\",\"rgba(140, 86, 75, 1)\",\"rgba(196, 156, 148, 1)\",\"rgba(227, 119, 194, 1)\",\"rgba(197, 176, 213, 1)\",\"rgba(247, 182, 210, 1)\",\"rgba(127, 127, 127, 1)\",\"rgba(199, 199, 199, 1)\",\"rgba(219, 219, 141, 1)\",\"rgba(23, 190, 207, 1)\",\"rgba(188, 189, 34, 1)\",\"rgba(158, 218, 229, 1)\"]},\"x\":[\"VEHICLE - STOLEN\",\"THEFT OF IDENTITY\",\"BATTERY - SIMPLE ASSAULT\",\"BURGLARY\",\"BURGLARY FROM VEHICLE\",\"VANDALISM - FELONY ($400 & OVER, ALL CHURCH VANDALISMS)\",\"ASSAULT WITH DEADLY WEAPON, AGGRAVATED ASSAULT\",\"THEFT PLAIN - PETTY ($950 & UNDER)\",\"INTIMATE PARTNER - SIMPLE ASSAULT\",\"THEFT FROM MOTOR VEHICLE - GRAND ($950.01 AND OVER)\",\"THEFT-GRAND ($950.01 & OVER)EXCPT,GUNS,FOWL,LIVESTK,PROD\",\"ROBBERY\",\"THEFT FROM MOTOR VEHICLE - PETTY ($950 & UNDER)\",\"SHOPLIFTING - PETTY THEFT ($950 & UNDER)\",\"VANDALISM - MISDEAMEANOR ($399 OR UNDER)\",\"CRIMINAL THREATS - NO WEAPON DISPLAYED\",\"BRANDISH WEAPON\",\"INTIMATE PARTNER - AGGRAVATED ASSAULT\",\"TRESPASSING\",\"VIOLATION OF RESTRAINING ORDER\"],\"y\":[24517,23982,18032,14105,14018,13213,12744,11298,11186,10847,8150,7711,7550,5981,4965,4845,3503,2934,2851,2840],\"type\":\"bar\",\"xaxis\":\"x3\",\"yaxis\":\"y3\"},{\"hovertemplate\":\"\\u003cb\\u003e%{x}\\u003c\\u002fb\\u003e\\u003cbr\\u003eIncidencias: %{y}\\u003cextra\\u003e\\u003c\\u002fextra\\u003e\",\"marker\":{\"color\":[\"rgba(31, 119, 180, 1)\",\"rgba(174, 199, 232, 1)\",\"rgba(152, 223, 138, 1)\",\"rgba(255, 127, 14, 1)\",\"rgba(44, 160, 44, 1)\",\"rgba(214, 39, 40, 1)\",\"rgba(255, 187, 120, 1)\",\"rgba(255, 152, 150, 1)\",\"rgba(148, 103, 189, 1)\",\"rgba(247, 182, 210, 1)\",\"rgba(196, 156, 148, 1)\",\"rgba(197, 176, 213, 1)\",\"rgba(140, 86, 75, 1)\",\"rgba(227, 119, 194, 1)\",\"rgba(188, 189, 34, 1)\",\"rgba(199, 199, 199, 1)\",\"rgba(127, 127, 127, 1)\",\"rgba(219, 219, 141, 1)\",\"rgba(23, 190, 207, 1)\",\"rgba(158, 218, 229, 1)\"]},\"x\":[\"VEHICLE - STOLEN\",\"BATTERY - SIMPLE ASSAULT\",\"BURGLARY\",\"BURGLARY FROM VEHICLE\",\"VANDALISM - FELONY ($400 & OVER, ALL CHURCH VANDALISMS)\",\"ASSAULT WITH DEADLY WEAPON, AGGRAVATED ASSAULT\",\"THEFT OF IDENTITY\",\"THEFT PLAIN - PETTY ($950 & UNDER)\",\"INTIMATE PARTNER - SIMPLE ASSAULT\",\"SHOPLIFTING - PETTY THEFT ($950 & UNDER)\",\"THEFT-GRAND ($950.01 & OVER)EXCPT,GUNS,FOWL,LIVESTK,PROD\",\"THEFT FROM MOTOR VEHICLE - PETTY ($950 & UNDER)\",\"THEFT FROM MOTOR VEHICLE - GRAND ($950.01 AND OVER)\",\"ROBBERY\",\"TRESPASSING\",\"CRIMINAL THREATS - NO WEAPON DISPLAYED\",\"VANDALISM - MISDEAMEANOR ($399 OR UNDER)\",\"BRANDISH WEAPON\",\"INTIMATE PARTNER - AGGRAVATED ASSAULT\",\"VIOLATION OF RESTRAINING ORDER\"],\"y\":[24828,19008,14610,13515,13335,12786,12184,11559,10897,10390,9036,8193,8071,7778,4993,4651,4517,3598,2991,2769],\"type\":\"bar\",\"xaxis\":\"x4\",\"yaxis\":\"y4\"},{\"hovertemplate\":\"\\u003cb\\u003e%{x}\\u003c\\u002fb\\u003e\\u003cbr\\u003eIncidencias: %{y}\\u003cextra\\u003e\\u003c\\u002fextra\\u003e\",\"marker\":{\"color\":[\"rgba(31, 119, 180, 1)\",\"rgba(255, 127, 14, 1)\",\"rgba(247, 182, 210, 1)\",\"rgba(255, 187, 120, 1)\",\"rgba(44, 160, 44, 1)\",\"rgba(255, 152, 150, 1)\",\"rgba(197, 176, 213, 1)\",\"rgba(174, 199, 232, 1)\",\"rgba(140, 86, 75, 1)\",\"rgba(196, 156, 148, 1)\",\"rgba(152, 223, 138, 1)\",\"rgba(214, 39, 40, 1)\",\"rgba(188, 189, 34, 1)\",\"rgba(148, 103, 189, 1)\",\"rgba(227, 119, 194, 1)\",\"rgba(127, 127, 127, 1)\",\"rgba(199, 199, 199, 1)\",\"rgba(128,128,128,1)\",\"rgba(128,128,128,1)\",\"rgba(219, 219, 141, 1)\"]},\"x\":[\"VEHICLE - STOLEN\",\"BURGLARY FROM VEHICLE\",\"SHOPLIFTING - PETTY THEFT ($950 & UNDER)\",\"THEFT OF IDENTITY\",\"VANDALISM - FELONY ($400 & OVER, ALL CHURCH VANDALISMS)\",\"THEFT PLAIN - PETTY ($950 & UNDER)\",\"THEFT FROM MOTOR VEHICLE - PETTY ($950 & UNDER)\",\"BATTERY - SIMPLE ASSAULT\",\"THEFT FROM MOTOR VEHICLE - GRAND ($950.01 AND OVER)\",\"THEFT-GRAND ($950.01 & OVER)EXCPT,GUNS,FOWL,LIVESTK,PROD\",\"BURGLARY\",\"ASSAULT WITH DEADLY WEAPON, AGGRAVATED ASSAULT\",\"TRESPASSING\",\"INTIMATE PARTNER - SIMPLE ASSAULT\",\"ROBBERY\",\"VANDALISM - MISDEAMEANOR ($399 OR UNDER)\",\"CRIMINAL THREATS - NO WEAPON DISPLAYED\",\"LETTERS, LEWD  -  TELEPHONE CALLS, LEWD\",\"SHOPLIFTING-GRAND THEFT ($950.01 & OVER)\",\"BRANDISH WEAPON\"],\"y\":[7214,3112,3053,2953,2832,2706,2581,2437,2064,1982,1869,1584,1543,1472,975,834,586,467,455,413],\"type\":\"bar\",\"xaxis\":\"x5\",\"yaxis\":\"y5\"}],                        {\"template\":{\"data\":{\"histogram2dcontour\":[{\"type\":\"histogram2dcontour\",\"colorbar\":{\"outlinewidth\":0,\"ticks\":\"\"},\"colorscale\":[[0.0,\"#0d0887\"],[0.1111111111111111,\"#46039f\"],[0.2222222222222222,\"#7201a8\"],[0.3333333333333333,\"#9c179e\"],[0.4444444444444444,\"#bd3786\"],[0.5555555555555556,\"#d8576b\"],[0.6666666666666666,\"#ed7953\"],[0.7777777777777778,\"#fb9f3a\"],[0.8888888888888888,\"#fdca26\"],[1.0,\"#f0f921\"]]}],\"choropleth\":[{\"type\":\"choropleth\",\"colorbar\":{\"outlinewidth\":0,\"ticks\":\"\"}}],\"histogram2d\":[{\"type\":\"histogram2d\",\"colorbar\":{\"outlinewidth\":0,\"ticks\":\"\"},\"colorscale\":[[0.0,\"#0d0887\"],[0.1111111111111111,\"#46039f\"],[0.2222222222222222,\"#7201a8\"],[0.3333333333333333,\"#9c179e\"],[0.4444444444444444,\"#bd3786\"],[0.5555555555555556,\"#d8576b\"],[0.6666666666666666,\"#ed7953\"],[0.7777777777777778,\"#fb9f3a\"],[0.8888888888888888,\"#fdca26\"],[1.0,\"#f0f921\"]]}],\"heatmap\":[{\"type\":\"heatmap\",\"colorbar\":{\"outlinewidth\":0,\"ticks\":\"\"},\"colorscale\":[[0.0,\"#0d0887\"],[0.1111111111111111,\"#46039f\"],[0.2222222222222222,\"#7201a8\"],[0.3333333333333333,\"#9c179e\"],[0.4444444444444444,\"#bd3786\"],[0.5555555555555556,\"#d8576b\"],[0.6666666666666666,\"#ed7953\"],[0.7777777777777778,\"#fb9f3a\"],[0.8888888888888888,\"#fdca26\"],[1.0,\"#f0f921\"]]}],\"heatmapgl\":[{\"type\":\"heatmapgl\",\"colorbar\":{\"outlinewidth\":0,\"ticks\":\"\"},\"colorscale\":[[0.0,\"#0d0887\"],[0.1111111111111111,\"#46039f\"],[0.2222222222222222,\"#7201a8\"],[0.3333333333333333,\"#9c179e\"],[0.4444444444444444,\"#bd3786\"],[0.5555555555555556,\"#d8576b\"],[0.6666666666666666,\"#ed7953\"],[0.7777777777777778,\"#fb9f3a\"],[0.8888888888888888,\"#fdca26\"],[1.0,\"#f0f921\"]]}],\"contourcarpet\":[{\"type\":\"contourcarpet\",\"colorbar\":{\"outlinewidth\":0,\"ticks\":\"\"}}],\"contour\":[{\"type\":\"contour\",\"colorbar\":{\"outlinewidth\":0,\"ticks\":\"\"},\"colorscale\":[[0.0,\"#0d0887\"],[0.1111111111111111,\"#46039f\"],[0.2222222222222222,\"#7201a8\"],[0.3333333333333333,\"#9c179e\"],[0.4444444444444444,\"#bd3786\"],[0.5555555555555556,\"#d8576b\"],[0.6666666666666666,\"#ed7953\"],[0.7777777777777778,\"#fb9f3a\"],[0.8888888888888888,\"#fdca26\"],[1.0,\"#f0f921\"]]}],\"surface\":[{\"type\":\"surface\",\"colorbar\":{\"outlinewidth\":0,\"ticks\":\"\"},\"colorscale\":[[0.0,\"#0d0887\"],[0.1111111111111111,\"#46039f\"],[0.2222222222222222,\"#7201a8\"],[0.3333333333333333,\"#9c179e\"],[0.4444444444444444,\"#bd3786\"],[0.5555555555555556,\"#d8576b\"],[0.6666666666666666,\"#ed7953\"],[0.7777777777777778,\"#fb9f3a\"],[0.8888888888888888,\"#fdca26\"],[1.0,\"#f0f921\"]]}],\"mesh3d\":[{\"type\":\"mesh3d\",\"colorbar\":{\"outlinewidth\":0,\"ticks\":\"\"}}],\"scatter\":[{\"fillpattern\":{\"fillmode\":\"overlay\",\"size\":10,\"solidity\":0.2},\"type\":\"scatter\"}],\"parcoords\":[{\"type\":\"parcoords\",\"line\":{\"colorbar\":{\"outlinewidth\":0,\"ticks\":\"\"}}}],\"scatterpolargl\":[{\"type\":\"scatterpolargl\",\"marker\":{\"colorbar\":{\"outlinewidth\":0,\"ticks\":\"\"}}}],\"bar\":[{\"error_x\":{\"color\":\"#2a3f5f\"},\"error_y\":{\"color\":\"#2a3f5f\"},\"marker\":{\"line\":{\"color\":\"#E5ECF6\",\"width\":0.5},\"pattern\":{\"fillmode\":\"overlay\",\"size\":10,\"solidity\":0.2}},\"type\":\"bar\"}],\"scattergeo\":[{\"type\":\"scattergeo\",\"marker\":{\"colorbar\":{\"outlinewidth\":0,\"ticks\":\"\"}}}],\"scatterpolar\":[{\"type\":\"scatterpolar\",\"marker\":{\"colorbar\":{\"outlinewidth\":0,\"ticks\":\"\"}}}],\"histogram\":[{\"marker\":{\"pattern\":{\"fillmode\":\"overlay\",\"size\":10,\"solidity\":0.2}},\"type\":\"histogram\"}],\"scattergl\":[{\"type\":\"scattergl\",\"marker\":{\"colorbar\":{\"outlinewidth\":0,\"ticks\":\"\"}}}],\"scatter3d\":[{\"type\":\"scatter3d\",\"line\":{\"colorbar\":{\"outlinewidth\":0,\"ticks\":\"\"}},\"marker\":{\"colorbar\":{\"outlinewidth\":0,\"ticks\":\"\"}}}],\"scattermapbox\":[{\"type\":\"scattermapbox\",\"marker\":{\"colorbar\":{\"outlinewidth\":0,\"ticks\":\"\"}}}],\"scatterternary\":[{\"type\":\"scatterternary\",\"marker\":{\"colorbar\":{\"outlinewidth\":0,\"ticks\":\"\"}}}],\"scattercarpet\":[{\"type\":\"scattercarpet\",\"marker\":{\"colorbar\":{\"outlinewidth\":0,\"ticks\":\"\"}}}],\"carpet\":[{\"aaxis\":{\"endlinecolor\":\"#2a3f5f\",\"gridcolor\":\"white\",\"linecolor\":\"white\",\"minorgridcolor\":\"white\",\"startlinecolor\":\"#2a3f5f\"},\"baxis\":{\"endlinecolor\":\"#2a3f5f\",\"gridcolor\":\"white\",\"linecolor\":\"white\",\"minorgridcolor\":\"white\",\"startlinecolor\":\"#2a3f5f\"},\"type\":\"carpet\"}],\"table\":[{\"cells\":{\"fill\":{\"color\":\"#EBF0F8\"},\"line\":{\"color\":\"white\"}},\"header\":{\"fill\":{\"color\":\"#C8D4E3\"},\"line\":{\"color\":\"white\"}},\"type\":\"table\"}],\"barpolar\":[{\"marker\":{\"line\":{\"color\":\"#E5ECF6\",\"width\":0.5},\"pattern\":{\"fillmode\":\"overlay\",\"size\":10,\"solidity\":0.2}},\"type\":\"barpolar\"}],\"pie\":[{\"automargin\":true,\"type\":\"pie\"}]},\"layout\":{\"autotypenumbers\":\"strict\",\"colorway\":[\"#636efa\",\"#EF553B\",\"#00cc96\",\"#ab63fa\",\"#FFA15A\",\"#19d3f3\",\"#FF6692\",\"#B6E880\",\"#FF97FF\",\"#FECB52\"],\"font\":{\"color\":\"#2a3f5f\"},\"hovermode\":\"closest\",\"hoverlabel\":{\"align\":\"left\"},\"paper_bgcolor\":\"white\",\"plot_bgcolor\":\"#E5ECF6\",\"polar\":{\"bgcolor\":\"#E5ECF6\",\"angularaxis\":{\"gridcolor\":\"white\",\"linecolor\":\"white\",\"ticks\":\"\"},\"radialaxis\":{\"gridcolor\":\"white\",\"linecolor\":\"white\",\"ticks\":\"\"}},\"ternary\":{\"bgcolor\":\"#E5ECF6\",\"aaxis\":{\"gridcolor\":\"white\",\"linecolor\":\"white\",\"ticks\":\"\"},\"baxis\":{\"gridcolor\":\"white\",\"linecolor\":\"white\",\"ticks\":\"\"},\"caxis\":{\"gridcolor\":\"white\",\"linecolor\":\"white\",\"ticks\":\"\"}},\"coloraxis\":{\"colorbar\":{\"outlinewidth\":0,\"ticks\":\"\"}},\"colorscale\":{\"sequential\":[[0.0,\"#0d0887\"],[0.1111111111111111,\"#46039f\"],[0.2222222222222222,\"#7201a8\"],[0.3333333333333333,\"#9c179e\"],[0.4444444444444444,\"#bd3786\"],[0.5555555555555556,\"#d8576b\"],[0.6666666666666666,\"#ed7953\"],[0.7777777777777778,\"#fb9f3a\"],[0.8888888888888888,\"#fdca26\"],[1.0,\"#f0f921\"]],\"sequentialminus\":[[0.0,\"#0d0887\"],[0.1111111111111111,\"#46039f\"],[0.2222222222222222,\"#7201a8\"],[0.3333333333333333,\"#9c179e\"],[0.4444444444444444,\"#bd3786\"],[0.5555555555555556,\"#d8576b\"],[0.6666666666666666,\"#ed7953\"],[0.7777777777777778,\"#fb9f3a\"],[0.8888888888888888,\"#fdca26\"],[1.0,\"#f0f921\"]],\"diverging\":[[0,\"#8e0152\"],[0.1,\"#c51b7d\"],[0.2,\"#de77ae\"],[0.3,\"#f1b6da\"],[0.4,\"#fde0ef\"],[0.5,\"#f7f7f7\"],[0.6,\"#e6f5d0\"],[0.7,\"#b8e186\"],[0.8,\"#7fbc41\"],[0.9,\"#4d9221\"],[1,\"#276419\"]]},\"xaxis\":{\"gridcolor\":\"white\",\"linecolor\":\"white\",\"ticks\":\"\",\"title\":{\"standoff\":15},\"zerolinecolor\":\"white\",\"automargin\":true,\"zerolinewidth\":2},\"yaxis\":{\"gridcolor\":\"white\",\"linecolor\":\"white\",\"ticks\":\"\",\"title\":{\"standoff\":15},\"zerolinecolor\":\"white\",\"automargin\":true,\"zerolinewidth\":2},\"scene\":{\"xaxis\":{\"backgroundcolor\":\"#E5ECF6\",\"gridcolor\":\"white\",\"linecolor\":\"white\",\"showbackground\":true,\"ticks\":\"\",\"zerolinecolor\":\"white\",\"gridwidth\":2},\"yaxis\":{\"backgroundcolor\":\"#E5ECF6\",\"gridcolor\":\"white\",\"linecolor\":\"white\",\"showbackground\":true,\"ticks\":\"\",\"zerolinecolor\":\"white\",\"gridwidth\":2},\"zaxis\":{\"backgroundcolor\":\"#E5ECF6\",\"gridcolor\":\"white\",\"linecolor\":\"white\",\"showbackground\":true,\"ticks\":\"\",\"zerolinecolor\":\"white\",\"gridwidth\":2}},\"shapedefaults\":{\"line\":{\"color\":\"#2a3f5f\"}},\"annotationdefaults\":{\"arrowcolor\":\"#2a3f5f\",\"arrowhead\":0,\"arrowwidth\":1},\"geo\":{\"bgcolor\":\"white\",\"landcolor\":\"#E5ECF6\",\"subunitcolor\":\"white\",\"showland\":true,\"showlakes\":true,\"lakecolor\":\"white\"},\"title\":{\"x\":0.05},\"mapbox\":{\"style\":\"light\"}}},\"xaxis\":{\"anchor\":\"y\",\"domain\":[0.0,0.45],\"tickangle\":-45},\"yaxis\":{\"anchor\":\"x\",\"domain\":[0.8333333333333333,0.9999999999999999]},\"xaxis2\":{\"anchor\":\"y2\",\"domain\":[0.55,1.0],\"tickangle\":-45},\"yaxis2\":{\"anchor\":\"x2\",\"domain\":[0.8333333333333333,0.9999999999999999]},\"xaxis3\":{\"anchor\":\"y3\",\"domain\":[0.0,0.45],\"tickangle\":-45},\"yaxis3\":{\"anchor\":\"x3\",\"domain\":[0.41666666666666663,0.5833333333333333]},\"xaxis4\":{\"anchor\":\"y4\",\"domain\":[0.55,1.0],\"tickangle\":-45},\"yaxis4\":{\"anchor\":\"x4\",\"domain\":[0.41666666666666663,0.5833333333333333]},\"xaxis5\":{\"anchor\":\"y5\",\"domain\":[0.0,0.45],\"tickangle\":-45},\"yaxis5\":{\"anchor\":\"x5\",\"domain\":[0.0,0.16666666666666666]},\"xaxis6\":{\"anchor\":\"y6\",\"domain\":[0.55,1.0],\"tickangle\":-45},\"yaxis6\":{\"anchor\":\"x6\",\"domain\":[0.0,0.16666666666666666]},\"annotations\":[{\"font\":{\"size\":16},\"showarrow\":false,\"text\":\"Top 20 cr\\u00edmenes m\\u00e1s cometidos en 2020\",\"x\":0.225,\"xanchor\":\"center\",\"xref\":\"paper\",\"y\":0.9999999999999999,\"yanchor\":\"bottom\",\"yref\":\"paper\"},{\"font\":{\"size\":16},\"showarrow\":false,\"text\":\"Top 20 cr\\u00edmenes m\\u00e1s cometidos en 2021\",\"x\":0.775,\"xanchor\":\"center\",\"xref\":\"paper\",\"y\":0.9999999999999999,\"yanchor\":\"bottom\",\"yref\":\"paper\"},{\"font\":{\"size\":16},\"showarrow\":false,\"text\":\"Top 20 cr\\u00edmenes m\\u00e1s cometidos en 2022\",\"x\":0.225,\"xanchor\":\"center\",\"xref\":\"paper\",\"y\":0.5833333333333333,\"yanchor\":\"bottom\",\"yref\":\"paper\"},{\"font\":{\"size\":16},\"showarrow\":false,\"text\":\"Top 20 cr\\u00edmenes m\\u00e1s cometidos en 2023\",\"x\":0.775,\"xanchor\":\"center\",\"xref\":\"paper\",\"y\":0.5833333333333333,\"yanchor\":\"bottom\",\"yref\":\"paper\"},{\"font\":{\"size\":16},\"showarrow\":false,\"text\":\"Top 20 cr\\u00edmenes m\\u00e1s cometidos en 2024\",\"x\":0.225,\"xanchor\":\"center\",\"xref\":\"paper\",\"y\":0.16666666666666666,\"yanchor\":\"bottom\",\"yref\":\"paper\"}],\"title\":{\"text\":\"Comparativa de cr\\u00edmenes m\\u00e1s comunes por a\\u00f1o\"},\"margin\":{\"l\":50,\"r\":50,\"b\":1,\"t\":100},\"font\":{\"size\":10},\"showlegend\":false,\"width\":1200,\"height\":1600},                        {\"responsive\": true}                    ).then(function(){\n",
              "                            \n",
              "var gd = document.getElementById('039c5422-f65e-4e34-a813-0491ad78ac8a');\n",
              "var x = new MutationObserver(function (mutations, observer) {{\n",
              "        var display = window.getComputedStyle(gd).display;\n",
              "        if (!display || display === 'none') {{\n",
              "            console.log([gd, 'removed!']);\n",
              "            Plotly.purge(gd);\n",
              "            observer.disconnect();\n",
              "        }}\n",
              "}});\n",
              "\n",
              "// Listen for the removal of the full notebook cells\n",
              "var notebookContainer = gd.closest('#notebook-container');\n",
              "if (notebookContainer) {{\n",
              "    x.observe(notebookContainer, {childList: true});\n",
              "}}\n",
              "\n",
              "// Listen for the clearing of the current output cell\n",
              "var outputEl = gd.closest('.output');\n",
              "if (outputEl) {{\n",
              "    x.observe(outputEl, {childList: true});\n",
              "}}\n",
              "\n",
              "                        })                };                            </script>        </div>\n",
              "</body>\n",
              "</html>"
            ]
          },
          "metadata": {}
        }
      ],
      "source": [
        "all_crimes = df['Crm Cd Desc'].value_counts().index.tolist()[0:20]\n",
        "colormap = cm.get_cmap('tab20', 20)\n",
        "\n",
        "color_mapping = {crime: f'rgba{tuple(map(lambda x: int(x*255), colormap(i)[:3])) + (1,)}' for i, crime in enumerate(all_crimes)}\n",
        "\n",
        "fig = make_subplots(\n",
        "    rows=3, cols=2,\n",
        "    subplot_titles=[f'Top 20 crímenes más cometidos en {year}' for _, _, year in dates],\n",
        "    vertical_spacing=0.25, horizontal_spacing=0.1\n",
        ")\n",
        "\n",
        "years_result = []\n",
        "\n",
        "for i, (start, end, year) in enumerate(dates):\n",
        "    start_date = datetime.strptime(start, '%m/%d/%Y').date()\n",
        "    end_date = datetime.strptime(end, '%m/%d/%Y').date()\n",
        "\n",
        "    filtered_data = filter_df_by_date(df, start_date, end_date)['Crm Cd Desc'].value_counts()[0:20]\n",
        "\n",
        "    row, col = divmod(i, 2)\n",
        "    fig.add_trace(\n",
        "        go.Bar(\n",
        "            x=filtered_data.index,\n",
        "            y=filtered_data.values,\n",
        "            marker_color=[color_mapping.get(crime, 'rgba(128,128,128,1)') for crime in filtered_data.index],\n",
        "            hovertemplate='<b>%{x}</b><br>Incidencias: %{y}<extra></extra>',\n",
        "        ),\n",
        "        row=row + 1, col=col + 1\n",
        "    )\n",
        "\n",
        "    years_result.append(filtered_data)\n",
        "\n",
        "fig.update_layout(\n",
        "    title_text='Comparativa de crímenes más comunes por año',\n",
        "    showlegend=False,\n",
        "    width=1200,\n",
        "    height=1600,\n",
        "    margin=dict(l=50, r=50, b=1, t=100),\n",
        "    font=dict(size=10),\n",
        ")\n",
        "\n",
        "fig.update_xaxes(tickangle=-45)\n",
        "\n",
        "fig.show()"
      ]
    },
    {
      "cell_type": "markdown",
      "metadata": {
        "id": "gl7PSQiWY9KU"
      },
      "source": [
        "### Media de cada crimen a lo largo de los 4 años (de los 20 más comunes)"
      ]
    },
    {
      "cell_type": "code",
      "execution_count": null,
      "metadata": {
        "colab": {
          "base_uri": "https://localhost:8080/",
          "height": 1000
        },
        "id": "_hQ-Ic9xY9KV",
        "outputId": "81841bf8-ffdc-4f8d-aa58-33e0f4e2d329"
      },
      "outputs": [
        {
          "output_type": "display_data",
          "data": {
            "text/html": [
              "<html>\n",
              "<head><meta charset=\"utf-8\" /></head>\n",
              "<body>\n",
              "    <div>            <script src=\"https://cdnjs.cloudflare.com/ajax/libs/mathjax/2.7.5/MathJax.js?config=TeX-AMS-MML_SVG\"></script><script type=\"text/javascript\">if (window.MathJax && window.MathJax.Hub && window.MathJax.Hub.Config) {window.MathJax.Hub.Config({SVG: {font: \"STIX-Web\"}});}</script>                <script type=\"text/javascript\">window.PlotlyConfig = {MathJaxConfig: 'local'};</script>\n",
              "        <script charset=\"utf-8\" src=\"https://cdn.plot.ly/plotly-2.35.2.min.js\"></script>                <div id=\"d039121f-5e0f-42b7-a54b-67747c9961d9\" class=\"plotly-graph-div\" style=\"height:1000px; width:1000px;\"></div>            <script type=\"text/javascript\">                                    window.PLOTLYENV=window.PLOTLYENV || {};                                    if (document.getElementById(\"d039121f-5e0f-42b7-a54b-67747c9961d9\")) {                    Plotly.newPlot(                        \"d039121f-5e0f-42b7-a54b-67747c9961d9\",                        [{\"alignmentgroup\":\"True\",\"hovertemplate\":\"Tipo de Crimen=%{x}\\u003cbr\\u003eMedia de Ocurrencias=%{y:.0f}\\u003cextra\\u003e\\u003c\\u002fextra\\u003e\",\"legendgroup\":\"VEHICLE - STOLEN\",\"marker\":{\"color\":\"#636efa\",\"pattern\":{\"shape\":\"\"}},\"name\":\"VEHICLE - STOLEN\",\"offsetgroup\":\"VEHICLE - STOLEN\",\"orientation\":\"v\",\"showlegend\":true,\"textposition\":\"auto\",\"x\":[\"VEHICLE - STOLEN\"],\"xaxis\":\"x\",\"y\":[20423.2],\"yaxis\":\"y\",\"type\":\"bar\"},{\"alignmentgroup\":\"True\",\"hovertemplate\":\"Tipo de Crimen=%{x}\\u003cbr\\u003eMedia de Ocurrencias=%{y:.0f}\\u003cextra\\u003e\\u003c\\u002fextra\\u003e\",\"legendgroup\":\"BATTERY - SIMPLE ASSAULT\",\"marker\":{\"color\":\"#EF553B\",\"pattern\":{\"shape\":\"\"}},\"name\":\"BATTERY - SIMPLE ASSAULT\",\"offsetgroup\":\"BATTERY - SIMPLE ASSAULT\",\"orientation\":\"v\",\"showlegend\":true,\"textposition\":\"auto\",\"x\":[\"BATTERY - SIMPLE ASSAULT\"],\"xaxis\":\"x\",\"y\":[14335.8],\"yaxis\":\"y\",\"type\":\"bar\"},{\"alignmentgroup\":\"True\",\"hovertemplate\":\"Tipo de Crimen=%{x}\\u003cbr\\u003eMedia de Ocurrencias=%{y:.0f}\\u003cextra\\u003e\\u003c\\u002fextra\\u003e\",\"legendgroup\":\"VANDALISM - FELONY ($400 & OVER, ALL CHURCH VANDALISMS)\",\"marker\":{\"color\":\"#00cc96\",\"pattern\":{\"shape\":\"\"}},\"name\":\"VANDALISM - FELONY ($400 & OVER, ALL CHURCH VANDALISMS)\",\"offsetgroup\":\"VANDALISM - FELONY ($400 & OVER, ALL CHURCH VANDALISMS)\",\"orientation\":\"v\",\"showlegend\":true,\"textposition\":\"auto\",\"x\":[\"VANDALISM - FELONY ($400 & OVER, ALL CHURCH VANDALISMS)\"],\"xaxis\":\"x\",\"y\":[11177.4],\"yaxis\":\"y\",\"type\":\"bar\"},{\"alignmentgroup\":\"True\",\"hovertemplate\":\"Tipo de Crimen=%{x}\\u003cbr\\u003eMedia de Ocurrencias=%{y:.0f}\\u003cextra\\u003e\\u003c\\u002fextra\\u003e\",\"legendgroup\":\"BURGLARY\",\"marker\":{\"color\":\"#ab63fa\",\"pattern\":{\"shape\":\"\"}},\"name\":\"BURGLARY\",\"offsetgroup\":\"BURGLARY\",\"orientation\":\"v\",\"showlegend\":true,\"textposition\":\"auto\",\"x\":[\"BURGLARY\"],\"xaxis\":\"x\",\"y\":[11153.0],\"yaxis\":\"y\",\"type\":\"bar\"},{\"alignmentgroup\":\"True\",\"hovertemplate\":\"Tipo de Crimen=%{x}\\u003cbr\\u003eMedia de Ocurrencias=%{y:.0f}\\u003cextra\\u003e\\u003c\\u002fextra\\u003e\",\"legendgroup\":\"BURGLARY FROM VEHICLE\",\"marker\":{\"color\":\"#FFA15A\",\"pattern\":{\"shape\":\"\"}},\"name\":\"BURGLARY FROM VEHICLE\",\"offsetgroup\":\"BURGLARY FROM VEHICLE\",\"orientation\":\"v\",\"showlegend\":true,\"textposition\":\"auto\",\"x\":[\"BURGLARY FROM VEHICLE\"],\"xaxis\":\"x\",\"y\":[11318.2],\"yaxis\":\"y\",\"type\":\"bar\"},{\"alignmentgroup\":\"True\",\"hovertemplate\":\"Tipo de Crimen=%{x}\\u003cbr\\u003eMedia de Ocurrencias=%{y:.0f}\\u003cextra\\u003e\\u003c\\u002fextra\\u003e\",\"legendgroup\":\"ASSAULT WITH DEADLY WEAPON, AGGRAVATED ASSAULT\",\"marker\":{\"color\":\"#19d3f3\",\"pattern\":{\"shape\":\"\"}},\"name\":\"ASSAULT WITH DEADLY WEAPON, AGGRAVATED ASSAULT\",\"offsetgroup\":\"ASSAULT WITH DEADLY WEAPON, AGGRAVATED ASSAULT\",\"orientation\":\"v\",\"showlegend\":true,\"textposition\":\"auto\",\"x\":[\"ASSAULT WITH DEADLY WEAPON, AGGRAVATED ASSAULT\"],\"xaxis\":\"x\",\"y\":[10348.6],\"yaxis\":\"y\",\"type\":\"bar\"},{\"alignmentgroup\":\"True\",\"hovertemplate\":\"Tipo de Crimen=%{x}\\u003cbr\\u003eMedia de Ocurrencias=%{y:.0f}\\u003cextra\\u003e\\u003c\\u002fextra\\u003e\",\"legendgroup\":\"INTIMATE PARTNER - SIMPLE ASSAULT\",\"marker\":{\"color\":\"#FF6692\",\"pattern\":{\"shape\":\"\"}},\"name\":\"INTIMATE PARTNER - SIMPLE ASSAULT\",\"offsetgroup\":\"INTIMATE PARTNER - SIMPLE ASSAULT\",\"orientation\":\"v\",\"showlegend\":true,\"textposition\":\"auto\",\"x\":[\"INTIMATE PARTNER - SIMPLE ASSAULT\"],\"xaxis\":\"x\",\"y\":[8966.8],\"yaxis\":\"y\",\"type\":\"bar\"},{\"alignmentgroup\":\"True\",\"hovertemplate\":\"Tipo de Crimen=%{x}\\u003cbr\\u003eMedia de Ocurrencias=%{y:.0f}\\u003cextra\\u003e\\u003c\\u002fextra\\u003e\",\"legendgroup\":\"THEFT PLAIN - PETTY ($950 & UNDER)\",\"marker\":{\"color\":\"#B6E880\",\"pattern\":{\"shape\":\"\"}},\"name\":\"THEFT PLAIN - PETTY ($950 & UNDER)\",\"offsetgroup\":\"THEFT PLAIN - PETTY ($950 & UNDER)\",\"orientation\":\"v\",\"showlegend\":true,\"textposition\":\"auto\",\"x\":[\"THEFT PLAIN - PETTY ($950 & UNDER)\"],\"xaxis\":\"x\",\"y\":[9387.4],\"yaxis\":\"y\",\"type\":\"bar\"},{\"alignmentgroup\":\"True\",\"hovertemplate\":\"Tipo de Crimen=%{x}\\u003cbr\\u003eMedia de Ocurrencias=%{y:.0f}\\u003cextra\\u003e\\u003c\\u002fextra\\u003e\",\"legendgroup\":\"THEFT FROM MOTOR VEHICLE - PETTY ($950 & UNDER)\",\"marker\":{\"color\":\"#FF97FF\",\"pattern\":{\"shape\":\"\"}},\"name\":\"THEFT FROM MOTOR VEHICLE - PETTY ($950 & UNDER)\",\"offsetgroup\":\"THEFT FROM MOTOR VEHICLE - PETTY ($950 & UNDER)\",\"orientation\":\"v\",\"showlegend\":true,\"textposition\":\"auto\",\"x\":[\"THEFT FROM MOTOR VEHICLE - PETTY ($950 & UNDER)\"],\"xaxis\":\"x\",\"y\":[7178.6],\"yaxis\":\"y\",\"type\":\"bar\"},{\"alignmentgroup\":\"True\",\"hovertemplate\":\"Tipo de Crimen=%{x}\\u003cbr\\u003eMedia de Ocurrencias=%{y:.0f}\\u003cextra\\u003e\\u003c\\u002fextra\\u003e\",\"legendgroup\":\"THEFT OF IDENTITY\",\"marker\":{\"color\":\"#FECB52\",\"pattern\":{\"shape\":\"\"}},\"name\":\"THEFT OF IDENTITY\",\"offsetgroup\":\"THEFT OF IDENTITY\",\"orientation\":\"v\",\"showlegend\":true,\"textposition\":\"auto\",\"x\":[\"THEFT OF IDENTITY\"],\"xaxis\":\"x\",\"y\":[11613.8],\"yaxis\":\"y\",\"type\":\"bar\"},{\"alignmentgroup\":\"True\",\"hovertemplate\":\"Tipo de Crimen=%{x}\\u003cbr\\u003eMedia de Ocurrencias=%{y:.0f}\\u003cextra\\u003e\\u003c\\u002fextra\\u003e\",\"legendgroup\":\"VANDALISM - MISDEAMEANOR ($399 OR UNDER)\",\"marker\":{\"color\":\"#636efa\",\"pattern\":{\"shape\":\"\"}},\"name\":\"VANDALISM - MISDEAMEANOR ($399 OR UNDER)\",\"offsetgroup\":\"VANDALISM - MISDEAMEANOR ($399 OR UNDER)\",\"orientation\":\"v\",\"showlegend\":true,\"textposition\":\"auto\",\"x\":[\"VANDALISM - MISDEAMEANOR ($399 OR UNDER)\"],\"xaxis\":\"x\",\"y\":[4654.8],\"yaxis\":\"y\",\"type\":\"bar\"},{\"alignmentgroup\":\"True\",\"hovertemplate\":\"Tipo de Crimen=%{x}\\u003cbr\\u003eMedia de Ocurrencias=%{y:.0f}\\u003cextra\\u003e\\u003c\\u002fextra\\u003e\",\"legendgroup\":\"ROBBERY\",\"marker\":{\"color\":\"#EF553B\",\"pattern\":{\"shape\":\"\"}},\"name\":\"ROBBERY\",\"offsetgroup\":\"ROBBERY\",\"orientation\":\"v\",\"showlegend\":true,\"textposition\":\"auto\",\"x\":[\"ROBBERY\"],\"xaxis\":\"x\",\"y\":[6152.8],\"yaxis\":\"y\",\"type\":\"bar\"},{\"alignmentgroup\":\"True\",\"hovertemplate\":\"Tipo de Crimen=%{x}\\u003cbr\\u003eMedia de Ocurrencias=%{y:.0f}\\u003cextra\\u003e\\u003c\\u002fextra\\u003e\",\"legendgroup\":\"THEFT FROM MOTOR VEHICLE - GRAND ($950.01 AND OVER)\",\"marker\":{\"color\":\"#00cc96\",\"pattern\":{\"shape\":\"\"}},\"name\":\"THEFT FROM MOTOR VEHICLE - GRAND ($950.01 AND OVER)\",\"offsetgroup\":\"THEFT FROM MOTOR VEHICLE - GRAND ($950.01 AND OVER)\",\"orientation\":\"v\",\"showlegend\":true,\"textposition\":\"auto\",\"x\":[\"THEFT FROM MOTOR VEHICLE - GRAND ($950.01 AND OVER)\"],\"xaxis\":\"x\",\"y\":[6742.2],\"yaxis\":\"y\",\"type\":\"bar\"},{\"alignmentgroup\":\"True\",\"hovertemplate\":\"Tipo de Crimen=%{x}\\u003cbr\\u003eMedia de Ocurrencias=%{y:.0f}\\u003cextra\\u003e\\u003c\\u002fextra\\u003e\",\"legendgroup\":\"THEFT-GRAND ($950.01 & OVER)EXCPT,GUNS,FOWL,LIVESTK,PROD\",\"marker\":{\"color\":\"#ab63fa\",\"pattern\":{\"shape\":\"\"}},\"name\":\"THEFT-GRAND ($950.01 & OVER)EXCPT,GUNS,FOWL,LIVESTK,PROD\",\"offsetgroup\":\"THEFT-GRAND ($950.01 & OVER)EXCPT,GUNS,FOWL,LIVESTK,PROD\",\"orientation\":\"v\",\"showlegend\":true,\"textposition\":\"auto\",\"x\":[\"THEFT-GRAND ($950.01 & OVER)EXCPT,GUNS,FOWL,LIVESTK,PROD\"],\"xaxis\":\"x\",\"y\":[6244.4],\"yaxis\":\"y\",\"type\":\"bar\"},{\"alignmentgroup\":\"True\",\"hovertemplate\":\"Tipo de Crimen=%{x}\\u003cbr\\u003eMedia de Ocurrencias=%{y:.0f}\\u003cextra\\u003e\\u003c\\u002fextra\\u003e\",\"legendgroup\":\"CRIMINAL THREATS - NO WEAPON DISPLAYED\",\"marker\":{\"color\":\"#FFA15A\",\"pattern\":{\"shape\":\"\"}},\"name\":\"CRIMINAL THREATS - NO WEAPON DISPLAYED\",\"offsetgroup\":\"CRIMINAL THREATS - NO WEAPON DISPLAYED\",\"orientation\":\"v\",\"showlegend\":true,\"textposition\":\"auto\",\"x\":[\"CRIMINAL THREATS - NO WEAPON DISPLAYED\"],\"xaxis\":\"x\",\"y\":[3684.4],\"yaxis\":\"y\",\"type\":\"bar\"},{\"alignmentgroup\":\"True\",\"hovertemplate\":\"Tipo de Crimen=%{x}\\u003cbr\\u003eMedia de Ocurrencias=%{y:.0f}\\u003cextra\\u003e\\u003c\\u002fextra\\u003e\",\"legendgroup\":\"BRANDISH WEAPON\",\"marker\":{\"color\":\"#19d3f3\",\"pattern\":{\"shape\":\"\"}},\"name\":\"BRANDISH WEAPON\",\"offsetgroup\":\"BRANDISH WEAPON\",\"orientation\":\"v\",\"showlegend\":true,\"textposition\":\"auto\",\"x\":[\"BRANDISH WEAPON\"],\"xaxis\":\"x\",\"y\":[2811.0],\"yaxis\":\"y\",\"type\":\"bar\"},{\"alignmentgroup\":\"True\",\"hovertemplate\":\"Tipo de Crimen=%{x}\\u003cbr\\u003eMedia de Ocurrencias=%{y:.0f}\\u003cextra\\u003e\\u003c\\u002fextra\\u003e\",\"legendgroup\":\"SHOPLIFTING - PETTY THEFT ($950 & UNDER)\",\"marker\":{\"color\":\"#FF6692\",\"pattern\":{\"shape\":\"\"}},\"name\":\"SHOPLIFTING - PETTY THEFT ($950 & UNDER)\",\"offsetgroup\":\"SHOPLIFTING - PETTY THEFT ($950 & UNDER)\",\"orientation\":\"v\",\"showlegend\":true,\"textposition\":\"auto\",\"x\":[\"SHOPLIFTING - PETTY THEFT ($950 & UNDER)\"],\"xaxis\":\"x\",\"y\":[5100.0],\"yaxis\":\"y\",\"type\":\"bar\"},{\"alignmentgroup\":\"True\",\"hovertemplate\":\"Tipo de Crimen=%{x}\\u003cbr\\u003eMedia de Ocurrencias=%{y:.0f}\\u003cextra\\u003e\\u003c\\u002fextra\\u003e\",\"legendgroup\":\"INTIMATE PARTNER - AGGRAVATED ASSAULT\",\"marker\":{\"color\":\"#B6E880\",\"pattern\":{\"shape\":\"\"}},\"name\":\"INTIMATE PARTNER - AGGRAVATED ASSAULT\",\"offsetgroup\":\"INTIMATE PARTNER - AGGRAVATED ASSAULT\",\"orientation\":\"v\",\"showlegend\":true,\"textposition\":\"auto\",\"x\":[\"INTIMATE PARTNER - AGGRAVATED ASSAULT\"],\"xaxis\":\"x\",\"y\":[2954.0],\"yaxis\":\"y\",\"type\":\"bar\"},{\"alignmentgroup\":\"True\",\"hovertemplate\":\"Tipo de Crimen=%{x}\\u003cbr\\u003eMedia de Ocurrencias=%{y:.0f}\\u003cextra\\u003e\\u003c\\u002fextra\\u003e\",\"legendgroup\":\"TRESPASSING\",\"marker\":{\"color\":\"#FF97FF\",\"pattern\":{\"shape\":\"\"}},\"name\":\"TRESPASSING\",\"offsetgroup\":\"TRESPASSING\",\"orientation\":\"v\",\"showlegend\":true,\"textposition\":\"auto\",\"x\":[\"TRESPASSING\"],\"xaxis\":\"x\",\"y\":[2985.0],\"yaxis\":\"y\",\"type\":\"bar\"},{\"alignmentgroup\":\"True\",\"hovertemplate\":\"Tipo de Crimen=%{x}\\u003cbr\\u003eMedia de Ocurrencias=%{y:.0f}\\u003cextra\\u003e\\u003c\\u002fextra\\u003e\",\"legendgroup\":\"VIOLATION OF RESTRAINING ORDER\",\"marker\":{\"color\":\"#FECB52\",\"pattern\":{\"shape\":\"\"}},\"name\":\"VIOLATION OF RESTRAINING ORDER\",\"offsetgroup\":\"VIOLATION OF RESTRAINING ORDER\",\"orientation\":\"v\",\"showlegend\":true,\"textposition\":\"auto\",\"x\":[\"VIOLATION OF RESTRAINING ORDER\"],\"xaxis\":\"x\",\"y\":[2747.75],\"yaxis\":\"y\",\"type\":\"bar\"},{\"alignmentgroup\":\"True\",\"hovertemplate\":\"Tipo de Crimen=%{x}\\u003cbr\\u003eMedia de Ocurrencias=%{y:.0f}\\u003cextra\\u003e\\u003c\\u002fextra\\u003e\",\"legendgroup\":\"LETTERS, LEWD  -  TELEPHONE CALLS, LEWD\",\"marker\":{\"color\":\"#636efa\",\"pattern\":{\"shape\":\"\"}},\"name\":\"LETTERS, LEWD  -  TELEPHONE CALLS, LEWD\",\"offsetgroup\":\"LETTERS, LEWD  -  TELEPHONE CALLS, LEWD\",\"orientation\":\"v\",\"showlegend\":true,\"textposition\":\"auto\",\"x\":[\"LETTERS, LEWD  -  TELEPHONE CALLS, LEWD\"],\"xaxis\":\"x\",\"y\":[467.0],\"yaxis\":\"y\",\"type\":\"bar\"},{\"alignmentgroup\":\"True\",\"hovertemplate\":\"Tipo de Crimen=%{x}\\u003cbr\\u003eMedia de Ocurrencias=%{y:.0f}\\u003cextra\\u003e\\u003c\\u002fextra\\u003e\",\"legendgroup\":\"SHOPLIFTING-GRAND THEFT ($950.01 & OVER)\",\"marker\":{\"color\":\"#EF553B\",\"pattern\":{\"shape\":\"\"}},\"name\":\"SHOPLIFTING-GRAND THEFT ($950.01 & OVER)\",\"offsetgroup\":\"SHOPLIFTING-GRAND THEFT ($950.01 & OVER)\",\"orientation\":\"v\",\"showlegend\":true,\"textposition\":\"auto\",\"x\":[\"SHOPLIFTING-GRAND THEFT ($950.01 & OVER)\"],\"xaxis\":\"x\",\"y\":[455.0],\"yaxis\":\"y\",\"type\":\"bar\"}],                        {\"template\":{\"data\":{\"histogram2dcontour\":[{\"type\":\"histogram2dcontour\",\"colorbar\":{\"outlinewidth\":0,\"ticks\":\"\"},\"colorscale\":[[0.0,\"#0d0887\"],[0.1111111111111111,\"#46039f\"],[0.2222222222222222,\"#7201a8\"],[0.3333333333333333,\"#9c179e\"],[0.4444444444444444,\"#bd3786\"],[0.5555555555555556,\"#d8576b\"],[0.6666666666666666,\"#ed7953\"],[0.7777777777777778,\"#fb9f3a\"],[0.8888888888888888,\"#fdca26\"],[1.0,\"#f0f921\"]]}],\"choropleth\":[{\"type\":\"choropleth\",\"colorbar\":{\"outlinewidth\":0,\"ticks\":\"\"}}],\"histogram2d\":[{\"type\":\"histogram2d\",\"colorbar\":{\"outlinewidth\":0,\"ticks\":\"\"},\"colorscale\":[[0.0,\"#0d0887\"],[0.1111111111111111,\"#46039f\"],[0.2222222222222222,\"#7201a8\"],[0.3333333333333333,\"#9c179e\"],[0.4444444444444444,\"#bd3786\"],[0.5555555555555556,\"#d8576b\"],[0.6666666666666666,\"#ed7953\"],[0.7777777777777778,\"#fb9f3a\"],[0.8888888888888888,\"#fdca26\"],[1.0,\"#f0f921\"]]}],\"heatmap\":[{\"type\":\"heatmap\",\"colorbar\":{\"outlinewidth\":0,\"ticks\":\"\"},\"colorscale\":[[0.0,\"#0d0887\"],[0.1111111111111111,\"#46039f\"],[0.2222222222222222,\"#7201a8\"],[0.3333333333333333,\"#9c179e\"],[0.4444444444444444,\"#bd3786\"],[0.5555555555555556,\"#d8576b\"],[0.6666666666666666,\"#ed7953\"],[0.7777777777777778,\"#fb9f3a\"],[0.8888888888888888,\"#fdca26\"],[1.0,\"#f0f921\"]]}],\"heatmapgl\":[{\"type\":\"heatmapgl\",\"colorbar\":{\"outlinewidth\":0,\"ticks\":\"\"},\"colorscale\":[[0.0,\"#0d0887\"],[0.1111111111111111,\"#46039f\"],[0.2222222222222222,\"#7201a8\"],[0.3333333333333333,\"#9c179e\"],[0.4444444444444444,\"#bd3786\"],[0.5555555555555556,\"#d8576b\"],[0.6666666666666666,\"#ed7953\"],[0.7777777777777778,\"#fb9f3a\"],[0.8888888888888888,\"#fdca26\"],[1.0,\"#f0f921\"]]}],\"contourcarpet\":[{\"type\":\"contourcarpet\",\"colorbar\":{\"outlinewidth\":0,\"ticks\":\"\"}}],\"contour\":[{\"type\":\"contour\",\"colorbar\":{\"outlinewidth\":0,\"ticks\":\"\"},\"colorscale\":[[0.0,\"#0d0887\"],[0.1111111111111111,\"#46039f\"],[0.2222222222222222,\"#7201a8\"],[0.3333333333333333,\"#9c179e\"],[0.4444444444444444,\"#bd3786\"],[0.5555555555555556,\"#d8576b\"],[0.6666666666666666,\"#ed7953\"],[0.7777777777777778,\"#fb9f3a\"],[0.8888888888888888,\"#fdca26\"],[1.0,\"#f0f921\"]]}],\"surface\":[{\"type\":\"surface\",\"colorbar\":{\"outlinewidth\":0,\"ticks\":\"\"},\"colorscale\":[[0.0,\"#0d0887\"],[0.1111111111111111,\"#46039f\"],[0.2222222222222222,\"#7201a8\"],[0.3333333333333333,\"#9c179e\"],[0.4444444444444444,\"#bd3786\"],[0.5555555555555556,\"#d8576b\"],[0.6666666666666666,\"#ed7953\"],[0.7777777777777778,\"#fb9f3a\"],[0.8888888888888888,\"#fdca26\"],[1.0,\"#f0f921\"]]}],\"mesh3d\":[{\"type\":\"mesh3d\",\"colorbar\":{\"outlinewidth\":0,\"ticks\":\"\"}}],\"scatter\":[{\"fillpattern\":{\"fillmode\":\"overlay\",\"size\":10,\"solidity\":0.2},\"type\":\"scatter\"}],\"parcoords\":[{\"type\":\"parcoords\",\"line\":{\"colorbar\":{\"outlinewidth\":0,\"ticks\":\"\"}}}],\"scatterpolargl\":[{\"type\":\"scatterpolargl\",\"marker\":{\"colorbar\":{\"outlinewidth\":0,\"ticks\":\"\"}}}],\"bar\":[{\"error_x\":{\"color\":\"#2a3f5f\"},\"error_y\":{\"color\":\"#2a3f5f\"},\"marker\":{\"line\":{\"color\":\"#E5ECF6\",\"width\":0.5},\"pattern\":{\"fillmode\":\"overlay\",\"size\":10,\"solidity\":0.2}},\"type\":\"bar\"}],\"scattergeo\":[{\"type\":\"scattergeo\",\"marker\":{\"colorbar\":{\"outlinewidth\":0,\"ticks\":\"\"}}}],\"scatterpolar\":[{\"type\":\"scatterpolar\",\"marker\":{\"colorbar\":{\"outlinewidth\":0,\"ticks\":\"\"}}}],\"histogram\":[{\"marker\":{\"pattern\":{\"fillmode\":\"overlay\",\"size\":10,\"solidity\":0.2}},\"type\":\"histogram\"}],\"scattergl\":[{\"type\":\"scattergl\",\"marker\":{\"colorbar\":{\"outlinewidth\":0,\"ticks\":\"\"}}}],\"scatter3d\":[{\"type\":\"scatter3d\",\"line\":{\"colorbar\":{\"outlinewidth\":0,\"ticks\":\"\"}},\"marker\":{\"colorbar\":{\"outlinewidth\":0,\"ticks\":\"\"}}}],\"scattermapbox\":[{\"type\":\"scattermapbox\",\"marker\":{\"colorbar\":{\"outlinewidth\":0,\"ticks\":\"\"}}}],\"scatterternary\":[{\"type\":\"scatterternary\",\"marker\":{\"colorbar\":{\"outlinewidth\":0,\"ticks\":\"\"}}}],\"scattercarpet\":[{\"type\":\"scattercarpet\",\"marker\":{\"colorbar\":{\"outlinewidth\":0,\"ticks\":\"\"}}}],\"carpet\":[{\"aaxis\":{\"endlinecolor\":\"#2a3f5f\",\"gridcolor\":\"white\",\"linecolor\":\"white\",\"minorgridcolor\":\"white\",\"startlinecolor\":\"#2a3f5f\"},\"baxis\":{\"endlinecolor\":\"#2a3f5f\",\"gridcolor\":\"white\",\"linecolor\":\"white\",\"minorgridcolor\":\"white\",\"startlinecolor\":\"#2a3f5f\"},\"type\":\"carpet\"}],\"table\":[{\"cells\":{\"fill\":{\"color\":\"#EBF0F8\"},\"line\":{\"color\":\"white\"}},\"header\":{\"fill\":{\"color\":\"#C8D4E3\"},\"line\":{\"color\":\"white\"}},\"type\":\"table\"}],\"barpolar\":[{\"marker\":{\"line\":{\"color\":\"#E5ECF6\",\"width\":0.5},\"pattern\":{\"fillmode\":\"overlay\",\"size\":10,\"solidity\":0.2}},\"type\":\"barpolar\"}],\"pie\":[{\"automargin\":true,\"type\":\"pie\"}]},\"layout\":{\"autotypenumbers\":\"strict\",\"colorway\":[\"#636efa\",\"#EF553B\",\"#00cc96\",\"#ab63fa\",\"#FFA15A\",\"#19d3f3\",\"#FF6692\",\"#B6E880\",\"#FF97FF\",\"#FECB52\"],\"font\":{\"color\":\"#2a3f5f\"},\"hovermode\":\"closest\",\"hoverlabel\":{\"align\":\"left\"},\"paper_bgcolor\":\"white\",\"plot_bgcolor\":\"#E5ECF6\",\"polar\":{\"bgcolor\":\"#E5ECF6\",\"angularaxis\":{\"gridcolor\":\"white\",\"linecolor\":\"white\",\"ticks\":\"\"},\"radialaxis\":{\"gridcolor\":\"white\",\"linecolor\":\"white\",\"ticks\":\"\"}},\"ternary\":{\"bgcolor\":\"#E5ECF6\",\"aaxis\":{\"gridcolor\":\"white\",\"linecolor\":\"white\",\"ticks\":\"\"},\"baxis\":{\"gridcolor\":\"white\",\"linecolor\":\"white\",\"ticks\":\"\"},\"caxis\":{\"gridcolor\":\"white\",\"linecolor\":\"white\",\"ticks\":\"\"}},\"coloraxis\":{\"colorbar\":{\"outlinewidth\":0,\"ticks\":\"\"}},\"colorscale\":{\"sequential\":[[0.0,\"#0d0887\"],[0.1111111111111111,\"#46039f\"],[0.2222222222222222,\"#7201a8\"],[0.3333333333333333,\"#9c179e\"],[0.4444444444444444,\"#bd3786\"],[0.5555555555555556,\"#d8576b\"],[0.6666666666666666,\"#ed7953\"],[0.7777777777777778,\"#fb9f3a\"],[0.8888888888888888,\"#fdca26\"],[1.0,\"#f0f921\"]],\"sequentialminus\":[[0.0,\"#0d0887\"],[0.1111111111111111,\"#46039f\"],[0.2222222222222222,\"#7201a8\"],[0.3333333333333333,\"#9c179e\"],[0.4444444444444444,\"#bd3786\"],[0.5555555555555556,\"#d8576b\"],[0.6666666666666666,\"#ed7953\"],[0.7777777777777778,\"#fb9f3a\"],[0.8888888888888888,\"#fdca26\"],[1.0,\"#f0f921\"]],\"diverging\":[[0,\"#8e0152\"],[0.1,\"#c51b7d\"],[0.2,\"#de77ae\"],[0.3,\"#f1b6da\"],[0.4,\"#fde0ef\"],[0.5,\"#f7f7f7\"],[0.6,\"#e6f5d0\"],[0.7,\"#b8e186\"],[0.8,\"#7fbc41\"],[0.9,\"#4d9221\"],[1,\"#276419\"]]},\"xaxis\":{\"gridcolor\":\"white\",\"linecolor\":\"white\",\"ticks\":\"\",\"title\":{\"standoff\":15},\"zerolinecolor\":\"white\",\"automargin\":true,\"zerolinewidth\":2},\"yaxis\":{\"gridcolor\":\"white\",\"linecolor\":\"white\",\"ticks\":\"\",\"title\":{\"standoff\":15},\"zerolinecolor\":\"white\",\"automargin\":true,\"zerolinewidth\":2},\"scene\":{\"xaxis\":{\"backgroundcolor\":\"#E5ECF6\",\"gridcolor\":\"white\",\"linecolor\":\"white\",\"showbackground\":true,\"ticks\":\"\",\"zerolinecolor\":\"white\",\"gridwidth\":2},\"yaxis\":{\"backgroundcolor\":\"#E5ECF6\",\"gridcolor\":\"white\",\"linecolor\":\"white\",\"showbackground\":true,\"ticks\":\"\",\"zerolinecolor\":\"white\",\"gridwidth\":2},\"zaxis\":{\"backgroundcolor\":\"#E5ECF6\",\"gridcolor\":\"white\",\"linecolor\":\"white\",\"showbackground\":true,\"ticks\":\"\",\"zerolinecolor\":\"white\",\"gridwidth\":2}},\"shapedefaults\":{\"line\":{\"color\":\"#2a3f5f\"}},\"annotationdefaults\":{\"arrowcolor\":\"#2a3f5f\",\"arrowhead\":0,\"arrowwidth\":1},\"geo\":{\"bgcolor\":\"white\",\"landcolor\":\"#E5ECF6\",\"subunitcolor\":\"white\",\"showland\":true,\"showlakes\":true,\"lakecolor\":\"white\"},\"title\":{\"x\":0.05},\"mapbox\":{\"style\":\"light\"}}},\"xaxis\":{\"anchor\":\"y\",\"domain\":[0.0,1.0],\"title\":{\"text\":\"Tipo de Crimen\"},\"categoryorder\":\"array\",\"categoryarray\":[\"VEHICLE - STOLEN\",\"BATTERY - SIMPLE ASSAULT\",\"VANDALISM - FELONY ($400 & OVER, ALL CHURCH VANDALISMS)\",\"BURGLARY\",\"BURGLARY FROM VEHICLE\",\"ASSAULT WITH DEADLY WEAPON, AGGRAVATED ASSAULT\",\"INTIMATE PARTNER - SIMPLE ASSAULT\",\"THEFT PLAIN - PETTY ($950 & UNDER)\",\"THEFT FROM MOTOR VEHICLE - PETTY ($950 & UNDER)\",\"THEFT OF IDENTITY\",\"VANDALISM - MISDEAMEANOR ($399 OR UNDER)\",\"ROBBERY\",\"THEFT FROM MOTOR VEHICLE - GRAND ($950.01 AND OVER)\",\"THEFT-GRAND ($950.01 & OVER)EXCPT,GUNS,FOWL,LIVESTK,PROD\",\"CRIMINAL THREATS - NO WEAPON DISPLAYED\",\"BRANDISH WEAPON\",\"SHOPLIFTING - PETTY THEFT ($950 & UNDER)\",\"INTIMATE PARTNER - AGGRAVATED ASSAULT\",\"TRESPASSING\",\"VIOLATION OF RESTRAINING ORDER\",\"LETTERS, LEWD  -  TELEPHONE CALLS, LEWD\",\"SHOPLIFTING-GRAND THEFT ($950.01 & OVER)\"]},\"yaxis\":{\"anchor\":\"x\",\"domain\":[0.0,1.0],\"title\":{\"text\":\"Media de Ocurrencias\"}},\"legend\":{\"title\":{\"text\":\"Tipo de Crimen\"},\"tracegroupgap\":0},\"title\":{\"text\":\"Media de cada crimen a lo largo de los 4 a\\u00f1os (de los 20 m\\u00e1s comunes)\"},\"barmode\":\"relative\",\"width\":1000,\"height\":1000},                        {\"responsive\": true}                    ).then(function(){\n",
              "                            \n",
              "var gd = document.getElementById('d039121f-5e0f-42b7-a54b-67747c9961d9');\n",
              "var x = new MutationObserver(function (mutations, observer) {{\n",
              "        var display = window.getComputedStyle(gd).display;\n",
              "        if (!display || display === 'none') {{\n",
              "            console.log([gd, 'removed!']);\n",
              "            Plotly.purge(gd);\n",
              "            observer.disconnect();\n",
              "        }}\n",
              "}});\n",
              "\n",
              "// Listen for the removal of the full notebook cells\n",
              "var notebookContainer = gd.closest('#notebook-container');\n",
              "if (notebookContainer) {{\n",
              "    x.observe(notebookContainer, {childList: true});\n",
              "}}\n",
              "\n",
              "// Listen for the clearing of the current output cell\n",
              "var outputEl = gd.closest('.output');\n",
              "if (outputEl) {{\n",
              "    x.observe(outputEl, {childList: true});\n",
              "}}\n",
              "\n",
              "                        })                };                            </script>        </div>\n",
              "</body>\n",
              "</html>"
            ]
          },
          "metadata": {}
        }
      ],
      "source": [
        "combined_crimes = pd.DataFrame(years_result)\n",
        "\n",
        "mean_crimes = combined_crimes.mean(axis=0)\n",
        "\n",
        "mean_crimes_df = mean_crimes.reset_index()\n",
        "mean_crimes_df.columns = ['Crm Cd Desc', 'Mean Occurrences']\n",
        "\n",
        "fig = px.bar(\n",
        "    mean_crimes_df,\n",
        "    x='Crm Cd Desc',\n",
        "    y='Mean Occurrences',\n",
        "    title='Media de cada crimen a lo largo de los 4 años (de los 20 más comunes)',\n",
        "    labels={'Crm Cd Desc': 'Tipo de Crimen', 'Mean Occurrences': 'Media de Ocurrencias'},\n",
        "    color='Crm Cd Desc',\n",
        "    hover_data={'Mean Occurrences': ':.0f'},\n",
        ")\n",
        "\n",
        "fig.update_layout(width=1000, height=1000)\n",
        "\n",
        "fig.show()"
      ]
    },
    {
      "cell_type": "markdown",
      "metadata": {
        "id": "QiQvidhHY9KV"
      },
      "source": [
        "### Crímen más cometido por año"
      ]
    },
    {
      "cell_type": "code",
      "execution_count": null,
      "metadata": {
        "colab": {
          "base_uri": "https://localhost:8080/"
        },
        "id": "h_Bj9aPwY9KV",
        "outputId": "115f9b4f-5192-4b81-f440-89bf85e0288a"
      },
      "outputs": [
        {
          "output_type": "stream",
          "name": "stdout",
          "text": [
            "El crimen más cometido en 2020 fue VEHICLE - STOLEN con 21663 incidencias.\n",
            "El crimen más cometido en 2021 fue VEHICLE - STOLEN con 23894 incidencias.\n",
            "El crimen más cometido en 2022 fue VEHICLE - STOLEN con 24517 incidencias.\n",
            "El crimen más cometido en 2023 fue VEHICLE - STOLEN con 24828 incidencias.\n",
            "El crimen más cometido en 2024 fue VEHICLE - STOLEN con 7214 incidencias.\n"
          ]
        }
      ],
      "source": [
        "for year_result, current_year in zip(years_result, ['2020', '2021', '2022', '2023', '2024']):\n",
        "    temp_df = pd.DataFrame(year_result.reset_index()).sort_values(by='count', ascending=False)\n",
        "\n",
        "    print(f\"El crimen más cometido en {current_year} fue {temp_df.loc[0, 'Crm Cd Desc']} con {temp_df.loc[0, 'count']} incidencias.\")"
      ]
    },
    {
      "cell_type": "markdown",
      "metadata": {
        "id": "dNqqkNoRY9KV"
      },
      "source": [
        "### Área con más crímenes (en los 4 años)"
      ]
    },
    {
      "cell_type": "code",
      "execution_count": null,
      "metadata": {
        "colab": {
          "base_uri": "https://localhost:8080/"
        },
        "id": "3sxYf47HY9KV",
        "outputId": "59db91af-6f87-4b6e-c1e2-fe063ef57489"
      },
      "outputs": [
        {
          "output_type": "stream",
          "name": "stdout",
          "text": [
            "El área más afectada en los 4 años ha sido Central con 64737 incidentes.\n"
          ]
        }
      ],
      "source": [
        "all_years_crimes_count = df['AREA NAME'].value_counts()\n",
        "area = all_years_crimes_count.idxmax()\n",
        "times = all_years_crimes_count.max()\n",
        "\n",
        "print(f'El área más afectada en los 4 años ha sido {area} con {times} incidentes.')"
      ]
    },
    {
      "cell_type": "markdown",
      "metadata": {
        "id": "hlz-ALFXY9KV"
      },
      "source": [
        "### Áreas con su correspondiente crimen más común"
      ]
    },
    {
      "cell_type": "code",
      "execution_count": null,
      "metadata": {
        "colab": {
          "base_uri": "https://localhost:8080/",
          "height": 717
        },
        "id": "92mRmSmAY9KV",
        "outputId": "4bbdf359-120f-4211-8e38-43539cb49005"
      },
      "outputs": [
        {
          "output_type": "display_data",
          "data": {
            "text/html": [
              "<html>\n",
              "<head><meta charset=\"utf-8\" /></head>\n",
              "<body>\n",
              "    <div>            <script src=\"https://cdnjs.cloudflare.com/ajax/libs/mathjax/2.7.5/MathJax.js?config=TeX-AMS-MML_SVG\"></script><script type=\"text/javascript\">if (window.MathJax && window.MathJax.Hub && window.MathJax.Hub.Config) {window.MathJax.Hub.Config({SVG: {font: \"STIX-Web\"}});}</script>                <script type=\"text/javascript\">window.PlotlyConfig = {MathJaxConfig: 'local'};</script>\n",
              "        <script charset=\"utf-8\" src=\"https://cdn.plot.ly/plotly-2.35.2.min.js\"></script>                <div id=\"09e1eef9-a79d-42f3-8067-164b0c07f6e5\" class=\"plotly-graph-div\" style=\"height:700px; width:1000px;\"></div>            <script type=\"text/javascript\">                                    window.PLOTLYENV=window.PLOTLYENV || {};                                    if (document.getElementById(\"09e1eef9-a79d-42f3-8067-164b0c07f6e5\")) {                    Plotly.newPlot(                        \"09e1eef9-a79d-42f3-8067-164b0c07f6e5\",                        [{\"alignmentgroup\":\"True\",\"customdata\":[[\"VEHICLE - STOLEN\"]],\"hovertemplate\":\"\\u00c1rea=%{x}\\u003cbr\\u003eTotal=%{y:.0f}\\u003cbr\\u003eCr\\u00edmen=%{customdata[0]}\\u003cextra\\u003e\\u003c\\u002fextra\\u003e\",\"legendgroup\":\"77th Street\",\"marker\":{\"color\":\"#636efa\",\"pattern\":{\"shape\":\"\"}},\"name\":\"77th Street\",\"offsetgroup\":\"77th Street\",\"orientation\":\"v\",\"showlegend\":true,\"textposition\":\"auto\",\"x\":[\"77th Street\"],\"xaxis\":\"x\",\"y\":[8042],\"yaxis\":\"y\",\"type\":\"bar\"},{\"alignmentgroup\":\"True\",\"customdata\":[[\"BURGLARY FROM VEHICLE\"]],\"hovertemplate\":\"\\u00c1rea=%{x}\\u003cbr\\u003eTotal=%{y:.0f}\\u003cbr\\u003eCr\\u00edmen=%{customdata[0]}\\u003cextra\\u003e\\u003c\\u002fextra\\u003e\",\"legendgroup\":\"Central\",\"marker\":{\"color\":\"#EF553B\",\"pattern\":{\"shape\":\"\"}},\"name\":\"Central\",\"offsetgroup\":\"Central\",\"orientation\":\"v\",\"showlegend\":true,\"textposition\":\"auto\",\"x\":[\"Central\"],\"xaxis\":\"x\",\"y\":[8860],\"yaxis\":\"y\",\"type\":\"bar\"},{\"alignmentgroup\":\"True\",\"customdata\":[[\"VEHICLE - STOLEN\"]],\"hovertemplate\":\"\\u00c1rea=%{x}\\u003cbr\\u003eTotal=%{y:.0f}\\u003cbr\\u003eCr\\u00edmen=%{customdata[0]}\\u003cextra\\u003e\\u003c\\u002fextra\\u003e\",\"legendgroup\":\"Devonshire\",\"marker\":{\"color\":\"#00cc96\",\"pattern\":{\"shape\":\"\"}},\"name\":\"Devonshire\",\"offsetgroup\":\"Devonshire\",\"orientation\":\"v\",\"showlegend\":true,\"textposition\":\"auto\",\"x\":[\"Devonshire\"],\"xaxis\":\"x\",\"y\":[3589],\"yaxis\":\"y\",\"type\":\"bar\"},{\"alignmentgroup\":\"True\",\"customdata\":[[\"VEHICLE - STOLEN\"]],\"hovertemplate\":\"\\u00c1rea=%{x}\\u003cbr\\u003eTotal=%{y:.0f}\\u003cbr\\u003eCr\\u00edmen=%{customdata[0]}\\u003cextra\\u003e\\u003c\\u002fextra\\u003e\",\"legendgroup\":\"Foothill\",\"marker\":{\"color\":\"#ab63fa\",\"pattern\":{\"shape\":\"\"}},\"name\":\"Foothill\",\"offsetgroup\":\"Foothill\",\"orientation\":\"v\",\"showlegend\":true,\"textposition\":\"auto\",\"x\":[\"Foothill\"],\"xaxis\":\"x\",\"y\":[4141],\"yaxis\":\"y\",\"type\":\"bar\"},{\"alignmentgroup\":\"True\",\"customdata\":[[\"VEHICLE - STOLEN\"]],\"hovertemplate\":\"\\u00c1rea=%{x}\\u003cbr\\u003eTotal=%{y:.0f}\\u003cbr\\u003eCr\\u00edmen=%{customdata[0]}\\u003cextra\\u003e\\u003c\\u002fextra\\u003e\",\"legendgroup\":\"Harbor\",\"marker\":{\"color\":\"#FFA15A\",\"pattern\":{\"shape\":\"\"}},\"name\":\"Harbor\",\"offsetgroup\":\"Harbor\",\"orientation\":\"v\",\"showlegend\":true,\"textposition\":\"auto\",\"x\":[\"Harbor\"],\"xaxis\":\"x\",\"y\":[5630],\"yaxis\":\"y\",\"type\":\"bar\"},{\"alignmentgroup\":\"True\",\"customdata\":[[\"VEHICLE - STOLEN\"]],\"hovertemplate\":\"\\u00c1rea=%{x}\\u003cbr\\u003eTotal=%{y:.0f}\\u003cbr\\u003eCr\\u00edmen=%{customdata[0]}\\u003cextra\\u003e\\u003c\\u002fextra\\u003e\",\"legendgroup\":\"Hollenbeck\",\"marker\":{\"color\":\"#19d3f3\",\"pattern\":{\"shape\":\"\"}},\"name\":\"Hollenbeck\",\"offsetgroup\":\"Hollenbeck\",\"orientation\":\"v\",\"showlegend\":true,\"textposition\":\"auto\",\"x\":[\"Hollenbeck\"],\"xaxis\":\"x\",\"y\":[5637],\"yaxis\":\"y\",\"type\":\"bar\"},{\"alignmentgroup\":\"True\",\"customdata\":[[\"BATTERY - SIMPLE ASSAULT\"]],\"hovertemplate\":\"\\u00c1rea=%{x}\\u003cbr\\u003eTotal=%{y:.0f}\\u003cbr\\u003eCr\\u00edmen=%{customdata[0]}\\u003cextra\\u003e\\u003c\\u002fextra\\u003e\",\"legendgroup\":\"Hollywood\",\"marker\":{\"color\":\"#FF6692\",\"pattern\":{\"shape\":\"\"}},\"name\":\"Hollywood\",\"offsetgroup\":\"Hollywood\",\"orientation\":\"v\",\"showlegend\":true,\"textposition\":\"auto\",\"x\":[\"Hollywood\"],\"xaxis\":\"x\",\"y\":[4481],\"yaxis\":\"y\",\"type\":\"bar\"},{\"alignmentgroup\":\"True\",\"customdata\":[[\"VEHICLE - STOLEN\"]],\"hovertemplate\":\"\\u00c1rea=%{x}\\u003cbr\\u003eTotal=%{y:.0f}\\u003cbr\\u003eCr\\u00edmen=%{customdata[0]}\\u003cextra\\u003e\\u003c\\u002fextra\\u003e\",\"legendgroup\":\"Mission\",\"marker\":{\"color\":\"#B6E880\",\"pattern\":{\"shape\":\"\"}},\"name\":\"Mission\",\"offsetgroup\":\"Mission\",\"orientation\":\"v\",\"showlegend\":true,\"textposition\":\"auto\",\"x\":[\"Mission\"],\"xaxis\":\"x\",\"y\":[5372],\"yaxis\":\"y\",\"type\":\"bar\"},{\"alignmentgroup\":\"True\",\"customdata\":[[\"VEHICLE - STOLEN\"]],\"hovertemplate\":\"\\u00c1rea=%{x}\\u003cbr\\u003eTotal=%{y:.0f}\\u003cbr\\u003eCr\\u00edmen=%{customdata[0]}\\u003cextra\\u003e\\u003c\\u002fextra\\u003e\",\"legendgroup\":\"N Hollywood\",\"marker\":{\"color\":\"#FF97FF\",\"pattern\":{\"shape\":\"\"}},\"name\":\"N Hollywood\",\"offsetgroup\":\"N Hollywood\",\"orientation\":\"v\",\"showlegend\":true,\"textposition\":\"auto\",\"x\":[\"N Hollywood\"],\"xaxis\":\"x\",\"y\":[4596],\"yaxis\":\"y\",\"type\":\"bar\"},{\"alignmentgroup\":\"True\",\"customdata\":[[\"VEHICLE - STOLEN\"]],\"hovertemplate\":\"\\u00c1rea=%{x}\\u003cbr\\u003eTotal=%{y:.0f}\\u003cbr\\u003eCr\\u00edmen=%{customdata[0]}\\u003cextra\\u003e\\u003c\\u002fextra\\u003e\",\"legendgroup\":\"Newton\",\"marker\":{\"color\":\"#FECB52\",\"pattern\":{\"shape\":\"\"}},\"name\":\"Newton\",\"offsetgroup\":\"Newton\",\"orientation\":\"v\",\"showlegend\":true,\"textposition\":\"auto\",\"x\":[\"Newton\"],\"xaxis\":\"x\",\"y\":[7678],\"yaxis\":\"y\",\"type\":\"bar\"},{\"alignmentgroup\":\"True\",\"customdata\":[[\"VEHICLE - STOLEN\"]],\"hovertemplate\":\"\\u00c1rea=%{x}\\u003cbr\\u003eTotal=%{y:.0f}\\u003cbr\\u003eCr\\u00edmen=%{customdata[0]}\\u003cextra\\u003e\\u003c\\u002fextra\\u003e\",\"legendgroup\":\"Northeast\",\"marker\":{\"color\":\"#636efa\",\"pattern\":{\"shape\":\"\"}},\"name\":\"Northeast\",\"offsetgroup\":\"Northeast\",\"orientation\":\"v\",\"showlegend\":true,\"textposition\":\"auto\",\"x\":[\"Northeast\"],\"xaxis\":\"x\",\"y\":[4908],\"yaxis\":\"y\",\"type\":\"bar\"},{\"alignmentgroup\":\"True\",\"customdata\":[[\"VEHICLE - STOLEN\"]],\"hovertemplate\":\"\\u00c1rea=%{x}\\u003cbr\\u003eTotal=%{y:.0f}\\u003cbr\\u003eCr\\u00edmen=%{customdata[0]}\\u003cextra\\u003e\\u003c\\u002fextra\\u003e\",\"legendgroup\":\"Olympic\",\"marker\":{\"color\":\"#EF553B\",\"pattern\":{\"shape\":\"\"}},\"name\":\"Olympic\",\"offsetgroup\":\"Olympic\",\"orientation\":\"v\",\"showlegend\":true,\"textposition\":\"auto\",\"x\":[\"Olympic\"],\"xaxis\":\"x\",\"y\":[5242],\"yaxis\":\"y\",\"type\":\"bar\"},{\"alignmentgroup\":\"True\",\"customdata\":[[\"VEHICLE - STOLEN\"]],\"hovertemplate\":\"\\u00c1rea=%{x}\\u003cbr\\u003eTotal=%{y:.0f}\\u003cbr\\u003eCr\\u00edmen=%{customdata[0]}\\u003cextra\\u003e\\u003c\\u002fextra\\u003e\",\"legendgroup\":\"Pacific\",\"marker\":{\"color\":\"#00cc96\",\"pattern\":{\"shape\":\"\"}},\"name\":\"Pacific\",\"offsetgroup\":\"Pacific\",\"orientation\":\"v\",\"showlegend\":true,\"textposition\":\"auto\",\"x\":[\"Pacific\"],\"xaxis\":\"x\",\"y\":[5973],\"yaxis\":\"y\",\"type\":\"bar\"},{\"alignmentgroup\":\"True\",\"customdata\":[[\"VEHICLE - STOLEN\"]],\"hovertemplate\":\"\\u00c1rea=%{x}\\u003cbr\\u003eTotal=%{y:.0f}\\u003cbr\\u003eCr\\u00edmen=%{customdata[0]}\\u003cextra\\u003e\\u003c\\u002fextra\\u003e\",\"legendgroup\":\"Rampart\",\"marker\":{\"color\":\"#ab63fa\",\"pattern\":{\"shape\":\"\"}},\"name\":\"Rampart\",\"offsetgroup\":\"Rampart\",\"orientation\":\"v\",\"showlegend\":true,\"textposition\":\"auto\",\"x\":[\"Rampart\"],\"xaxis\":\"x\",\"y\":[4937],\"yaxis\":\"y\",\"type\":\"bar\"},{\"alignmentgroup\":\"True\",\"customdata\":[[\"VEHICLE - STOLEN\"]],\"hovertemplate\":\"\\u00c1rea=%{x}\\u003cbr\\u003eTotal=%{y:.0f}\\u003cbr\\u003eCr\\u00edmen=%{customdata[0]}\\u003cextra\\u003e\\u003c\\u002fextra\\u003e\",\"legendgroup\":\"Southeast\",\"marker\":{\"color\":\"#FFA15A\",\"pattern\":{\"shape\":\"\"}},\"name\":\"Southeast\",\"offsetgroup\":\"Southeast\",\"orientation\":\"v\",\"showlegend\":true,\"textposition\":\"auto\",\"x\":[\"Southeast\"],\"xaxis\":\"x\",\"y\":[6553],\"yaxis\":\"y\",\"type\":\"bar\"},{\"alignmentgroup\":\"True\",\"customdata\":[[\"VEHICLE - STOLEN\"]],\"hovertemplate\":\"\\u00c1rea=%{x}\\u003cbr\\u003eTotal=%{y:.0f}\\u003cbr\\u003eCr\\u00edmen=%{customdata[0]}\\u003cextra\\u003e\\u003c\\u002fextra\\u003e\",\"legendgroup\":\"Southwest\",\"marker\":{\"color\":\"#19d3f3\",\"pattern\":{\"shape\":\"\"}},\"name\":\"Southwest\",\"offsetgroup\":\"Southwest\",\"orientation\":\"v\",\"showlegend\":true,\"textposition\":\"auto\",\"x\":[\"Southwest\"],\"xaxis\":\"x\",\"y\":[6059],\"yaxis\":\"y\",\"type\":\"bar\"},{\"alignmentgroup\":\"True\",\"customdata\":[[\"BURGLARY\"]],\"hovertemplate\":\"\\u00c1rea=%{x}\\u003cbr\\u003eTotal=%{y:.0f}\\u003cbr\\u003eCr\\u00edmen=%{customdata[0]}\\u003cextra\\u003e\\u003c\\u002fextra\\u003e\",\"legendgroup\":\"Topanga\",\"marker\":{\"color\":\"#FF6692\",\"pattern\":{\"shape\":\"\"}},\"name\":\"Topanga\",\"offsetgroup\":\"Topanga\",\"orientation\":\"v\",\"showlegend\":true,\"textposition\":\"auto\",\"x\":[\"Topanga\"],\"xaxis\":\"x\",\"y\":[3177],\"yaxis\":\"y\",\"type\":\"bar\"},{\"alignmentgroup\":\"True\",\"customdata\":[[\"VEHICLE - STOLEN\"]],\"hovertemplate\":\"\\u00c1rea=%{x}\\u003cbr\\u003eTotal=%{y:.0f}\\u003cbr\\u003eCr\\u00edmen=%{customdata[0]}\\u003cextra\\u003e\\u003c\\u002fextra\\u003e\",\"legendgroup\":\"Van Nuys\",\"marker\":{\"color\":\"#B6E880\",\"pattern\":{\"shape\":\"\"}},\"name\":\"Van Nuys\",\"offsetgroup\":\"Van Nuys\",\"orientation\":\"v\",\"showlegend\":true,\"textposition\":\"auto\",\"x\":[\"Van Nuys\"],\"xaxis\":\"x\",\"y\":[4189],\"yaxis\":\"y\",\"type\":\"bar\"},{\"alignmentgroup\":\"True\",\"customdata\":[[\"BURGLARY\"]],\"hovertemplate\":\"\\u00c1rea=%{x}\\u003cbr\\u003eTotal=%{y:.0f}\\u003cbr\\u003eCr\\u00edmen=%{customdata[0]}\\u003cextra\\u003e\\u003c\\u002fextra\\u003e\",\"legendgroup\":\"West LA\",\"marker\":{\"color\":\"#FF97FF\",\"pattern\":{\"shape\":\"\"}},\"name\":\"West LA\",\"offsetgroup\":\"West LA\",\"orientation\":\"v\",\"showlegend\":true,\"textposition\":\"auto\",\"x\":[\"West LA\"],\"xaxis\":\"x\",\"y\":[4369],\"yaxis\":\"y\",\"type\":\"bar\"},{\"alignmentgroup\":\"True\",\"customdata\":[[\"VEHICLE - STOLEN\"]],\"hovertemplate\":\"\\u00c1rea=%{x}\\u003cbr\\u003eTotal=%{y:.0f}\\u003cbr\\u003eCr\\u00edmen=%{customdata[0]}\\u003cextra\\u003e\\u003c\\u002fextra\\u003e\",\"legendgroup\":\"West Valley\",\"marker\":{\"color\":\"#FECB52\",\"pattern\":{\"shape\":\"\"}},\"name\":\"West Valley\",\"offsetgroup\":\"West Valley\",\"orientation\":\"v\",\"showlegend\":true,\"textposition\":\"auto\",\"x\":[\"West Valley\"],\"xaxis\":\"x\",\"y\":[3903],\"yaxis\":\"y\",\"type\":\"bar\"},{\"alignmentgroup\":\"True\",\"customdata\":[[\"VEHICLE - STOLEN\"]],\"hovertemplate\":\"\\u00c1rea=%{x}\\u003cbr\\u003eTotal=%{y:.0f}\\u003cbr\\u003eCr\\u00edmen=%{customdata[0]}\\u003cextra\\u003e\\u003c\\u002fextra\\u003e\",\"legendgroup\":\"Wilshire\",\"marker\":{\"color\":\"#636efa\",\"pattern\":{\"shape\":\"\"}},\"name\":\"Wilshire\",\"offsetgroup\":\"Wilshire\",\"orientation\":\"v\",\"showlegend\":true,\"textposition\":\"auto\",\"x\":[\"Wilshire\"],\"xaxis\":\"x\",\"y\":[3848],\"yaxis\":\"y\",\"type\":\"bar\"}],                        {\"template\":{\"data\":{\"histogram2dcontour\":[{\"type\":\"histogram2dcontour\",\"colorbar\":{\"outlinewidth\":0,\"ticks\":\"\"},\"colorscale\":[[0.0,\"#0d0887\"],[0.1111111111111111,\"#46039f\"],[0.2222222222222222,\"#7201a8\"],[0.3333333333333333,\"#9c179e\"],[0.4444444444444444,\"#bd3786\"],[0.5555555555555556,\"#d8576b\"],[0.6666666666666666,\"#ed7953\"],[0.7777777777777778,\"#fb9f3a\"],[0.8888888888888888,\"#fdca26\"],[1.0,\"#f0f921\"]]}],\"choropleth\":[{\"type\":\"choropleth\",\"colorbar\":{\"outlinewidth\":0,\"ticks\":\"\"}}],\"histogram2d\":[{\"type\":\"histogram2d\",\"colorbar\":{\"outlinewidth\":0,\"ticks\":\"\"},\"colorscale\":[[0.0,\"#0d0887\"],[0.1111111111111111,\"#46039f\"],[0.2222222222222222,\"#7201a8\"],[0.3333333333333333,\"#9c179e\"],[0.4444444444444444,\"#bd3786\"],[0.5555555555555556,\"#d8576b\"],[0.6666666666666666,\"#ed7953\"],[0.7777777777777778,\"#fb9f3a\"],[0.8888888888888888,\"#fdca26\"],[1.0,\"#f0f921\"]]}],\"heatmap\":[{\"type\":\"heatmap\",\"colorbar\":{\"outlinewidth\":0,\"ticks\":\"\"},\"colorscale\":[[0.0,\"#0d0887\"],[0.1111111111111111,\"#46039f\"],[0.2222222222222222,\"#7201a8\"],[0.3333333333333333,\"#9c179e\"],[0.4444444444444444,\"#bd3786\"],[0.5555555555555556,\"#d8576b\"],[0.6666666666666666,\"#ed7953\"],[0.7777777777777778,\"#fb9f3a\"],[0.8888888888888888,\"#fdca26\"],[1.0,\"#f0f921\"]]}],\"heatmapgl\":[{\"type\":\"heatmapgl\",\"colorbar\":{\"outlinewidth\":0,\"ticks\":\"\"},\"colorscale\":[[0.0,\"#0d0887\"],[0.1111111111111111,\"#46039f\"],[0.2222222222222222,\"#7201a8\"],[0.3333333333333333,\"#9c179e\"],[0.4444444444444444,\"#bd3786\"],[0.5555555555555556,\"#d8576b\"],[0.6666666666666666,\"#ed7953\"],[0.7777777777777778,\"#fb9f3a\"],[0.8888888888888888,\"#fdca26\"],[1.0,\"#f0f921\"]]}],\"contourcarpet\":[{\"type\":\"contourcarpet\",\"colorbar\":{\"outlinewidth\":0,\"ticks\":\"\"}}],\"contour\":[{\"type\":\"contour\",\"colorbar\":{\"outlinewidth\":0,\"ticks\":\"\"},\"colorscale\":[[0.0,\"#0d0887\"],[0.1111111111111111,\"#46039f\"],[0.2222222222222222,\"#7201a8\"],[0.3333333333333333,\"#9c179e\"],[0.4444444444444444,\"#bd3786\"],[0.5555555555555556,\"#d8576b\"],[0.6666666666666666,\"#ed7953\"],[0.7777777777777778,\"#fb9f3a\"],[0.8888888888888888,\"#fdca26\"],[1.0,\"#f0f921\"]]}],\"surface\":[{\"type\":\"surface\",\"colorbar\":{\"outlinewidth\":0,\"ticks\":\"\"},\"colorscale\":[[0.0,\"#0d0887\"],[0.1111111111111111,\"#46039f\"],[0.2222222222222222,\"#7201a8\"],[0.3333333333333333,\"#9c179e\"],[0.4444444444444444,\"#bd3786\"],[0.5555555555555556,\"#d8576b\"],[0.6666666666666666,\"#ed7953\"],[0.7777777777777778,\"#fb9f3a\"],[0.8888888888888888,\"#fdca26\"],[1.0,\"#f0f921\"]]}],\"mesh3d\":[{\"type\":\"mesh3d\",\"colorbar\":{\"outlinewidth\":0,\"ticks\":\"\"}}],\"scatter\":[{\"fillpattern\":{\"fillmode\":\"overlay\",\"size\":10,\"solidity\":0.2},\"type\":\"scatter\"}],\"parcoords\":[{\"type\":\"parcoords\",\"line\":{\"colorbar\":{\"outlinewidth\":0,\"ticks\":\"\"}}}],\"scatterpolargl\":[{\"type\":\"scatterpolargl\",\"marker\":{\"colorbar\":{\"outlinewidth\":0,\"ticks\":\"\"}}}],\"bar\":[{\"error_x\":{\"color\":\"#2a3f5f\"},\"error_y\":{\"color\":\"#2a3f5f\"},\"marker\":{\"line\":{\"color\":\"#E5ECF6\",\"width\":0.5},\"pattern\":{\"fillmode\":\"overlay\",\"size\":10,\"solidity\":0.2}},\"type\":\"bar\"}],\"scattergeo\":[{\"type\":\"scattergeo\",\"marker\":{\"colorbar\":{\"outlinewidth\":0,\"ticks\":\"\"}}}],\"scatterpolar\":[{\"type\":\"scatterpolar\",\"marker\":{\"colorbar\":{\"outlinewidth\":0,\"ticks\":\"\"}}}],\"histogram\":[{\"marker\":{\"pattern\":{\"fillmode\":\"overlay\",\"size\":10,\"solidity\":0.2}},\"type\":\"histogram\"}],\"scattergl\":[{\"type\":\"scattergl\",\"marker\":{\"colorbar\":{\"outlinewidth\":0,\"ticks\":\"\"}}}],\"scatter3d\":[{\"type\":\"scatter3d\",\"line\":{\"colorbar\":{\"outlinewidth\":0,\"ticks\":\"\"}},\"marker\":{\"colorbar\":{\"outlinewidth\":0,\"ticks\":\"\"}}}],\"scattermapbox\":[{\"type\":\"scattermapbox\",\"marker\":{\"colorbar\":{\"outlinewidth\":0,\"ticks\":\"\"}}}],\"scatterternary\":[{\"type\":\"scatterternary\",\"marker\":{\"colorbar\":{\"outlinewidth\":0,\"ticks\":\"\"}}}],\"scattercarpet\":[{\"type\":\"scattercarpet\",\"marker\":{\"colorbar\":{\"outlinewidth\":0,\"ticks\":\"\"}}}],\"carpet\":[{\"aaxis\":{\"endlinecolor\":\"#2a3f5f\",\"gridcolor\":\"white\",\"linecolor\":\"white\",\"minorgridcolor\":\"white\",\"startlinecolor\":\"#2a3f5f\"},\"baxis\":{\"endlinecolor\":\"#2a3f5f\",\"gridcolor\":\"white\",\"linecolor\":\"white\",\"minorgridcolor\":\"white\",\"startlinecolor\":\"#2a3f5f\"},\"type\":\"carpet\"}],\"table\":[{\"cells\":{\"fill\":{\"color\":\"#EBF0F8\"},\"line\":{\"color\":\"white\"}},\"header\":{\"fill\":{\"color\":\"#C8D4E3\"},\"line\":{\"color\":\"white\"}},\"type\":\"table\"}],\"barpolar\":[{\"marker\":{\"line\":{\"color\":\"#E5ECF6\",\"width\":0.5},\"pattern\":{\"fillmode\":\"overlay\",\"size\":10,\"solidity\":0.2}},\"type\":\"barpolar\"}],\"pie\":[{\"automargin\":true,\"type\":\"pie\"}]},\"layout\":{\"autotypenumbers\":\"strict\",\"colorway\":[\"#636efa\",\"#EF553B\",\"#00cc96\",\"#ab63fa\",\"#FFA15A\",\"#19d3f3\",\"#FF6692\",\"#B6E880\",\"#FF97FF\",\"#FECB52\"],\"font\":{\"color\":\"#2a3f5f\"},\"hovermode\":\"closest\",\"hoverlabel\":{\"align\":\"left\"},\"paper_bgcolor\":\"white\",\"plot_bgcolor\":\"#E5ECF6\",\"polar\":{\"bgcolor\":\"#E5ECF6\",\"angularaxis\":{\"gridcolor\":\"white\",\"linecolor\":\"white\",\"ticks\":\"\"},\"radialaxis\":{\"gridcolor\":\"white\",\"linecolor\":\"white\",\"ticks\":\"\"}},\"ternary\":{\"bgcolor\":\"#E5ECF6\",\"aaxis\":{\"gridcolor\":\"white\",\"linecolor\":\"white\",\"ticks\":\"\"},\"baxis\":{\"gridcolor\":\"white\",\"linecolor\":\"white\",\"ticks\":\"\"},\"caxis\":{\"gridcolor\":\"white\",\"linecolor\":\"white\",\"ticks\":\"\"}},\"coloraxis\":{\"colorbar\":{\"outlinewidth\":0,\"ticks\":\"\"}},\"colorscale\":{\"sequential\":[[0.0,\"#0d0887\"],[0.1111111111111111,\"#46039f\"],[0.2222222222222222,\"#7201a8\"],[0.3333333333333333,\"#9c179e\"],[0.4444444444444444,\"#bd3786\"],[0.5555555555555556,\"#d8576b\"],[0.6666666666666666,\"#ed7953\"],[0.7777777777777778,\"#fb9f3a\"],[0.8888888888888888,\"#fdca26\"],[1.0,\"#f0f921\"]],\"sequentialminus\":[[0.0,\"#0d0887\"],[0.1111111111111111,\"#46039f\"],[0.2222222222222222,\"#7201a8\"],[0.3333333333333333,\"#9c179e\"],[0.4444444444444444,\"#bd3786\"],[0.5555555555555556,\"#d8576b\"],[0.6666666666666666,\"#ed7953\"],[0.7777777777777778,\"#fb9f3a\"],[0.8888888888888888,\"#fdca26\"],[1.0,\"#f0f921\"]],\"diverging\":[[0,\"#8e0152\"],[0.1,\"#c51b7d\"],[0.2,\"#de77ae\"],[0.3,\"#f1b6da\"],[0.4,\"#fde0ef\"],[0.5,\"#f7f7f7\"],[0.6,\"#e6f5d0\"],[0.7,\"#b8e186\"],[0.8,\"#7fbc41\"],[0.9,\"#4d9221\"],[1,\"#276419\"]]},\"xaxis\":{\"gridcolor\":\"white\",\"linecolor\":\"white\",\"ticks\":\"\",\"title\":{\"standoff\":15},\"zerolinecolor\":\"white\",\"automargin\":true,\"zerolinewidth\":2},\"yaxis\":{\"gridcolor\":\"white\",\"linecolor\":\"white\",\"ticks\":\"\",\"title\":{\"standoff\":15},\"zerolinecolor\":\"white\",\"automargin\":true,\"zerolinewidth\":2},\"scene\":{\"xaxis\":{\"backgroundcolor\":\"#E5ECF6\",\"gridcolor\":\"white\",\"linecolor\":\"white\",\"showbackground\":true,\"ticks\":\"\",\"zerolinecolor\":\"white\",\"gridwidth\":2},\"yaxis\":{\"backgroundcolor\":\"#E5ECF6\",\"gridcolor\":\"white\",\"linecolor\":\"white\",\"showbackground\":true,\"ticks\":\"\",\"zerolinecolor\":\"white\",\"gridwidth\":2},\"zaxis\":{\"backgroundcolor\":\"#E5ECF6\",\"gridcolor\":\"white\",\"linecolor\":\"white\",\"showbackground\":true,\"ticks\":\"\",\"zerolinecolor\":\"white\",\"gridwidth\":2}},\"shapedefaults\":{\"line\":{\"color\":\"#2a3f5f\"}},\"annotationdefaults\":{\"arrowcolor\":\"#2a3f5f\",\"arrowhead\":0,\"arrowwidth\":1},\"geo\":{\"bgcolor\":\"white\",\"landcolor\":\"#E5ECF6\",\"subunitcolor\":\"white\",\"showland\":true,\"showlakes\":true,\"lakecolor\":\"white\"},\"title\":{\"x\":0.05},\"mapbox\":{\"style\":\"light\"}}},\"xaxis\":{\"anchor\":\"y\",\"domain\":[0.0,1.0],\"title\":{\"text\":\"\\u00c1rea\"},\"categoryorder\":\"array\",\"categoryarray\":[\"77th Street\",\"Central\",\"Devonshire\",\"Foothill\",\"Harbor\",\"Hollenbeck\",\"Hollywood\",\"Mission\",\"N Hollywood\",\"Newton\",\"Northeast\",\"Olympic\",\"Pacific\",\"Rampart\",\"Southeast\",\"Southwest\",\"Topanga\",\"Van Nuys\",\"West LA\",\"West Valley\",\"Wilshire\"],\"tickangle\":-45},\"yaxis\":{\"anchor\":\"x\",\"domain\":[0.0,1.0],\"title\":{\"text\":\"Total\"}},\"legend\":{\"title\":{\"text\":\"\\u00c1rea\"},\"tracegroupgap\":0},\"title\":{\"text\":\"Cr\\u00edmen m\\u00e1s com\\u00fan por \\u00e1rea (en los 4 a\\u00f1os)\"},\"barmode\":\"relative\",\"width\":1000,\"height\":700},                        {\"responsive\": true}                    ).then(function(){\n",
              "                            \n",
              "var gd = document.getElementById('09e1eef9-a79d-42f3-8067-164b0c07f6e5');\n",
              "var x = new MutationObserver(function (mutations, observer) {{\n",
              "        var display = window.getComputedStyle(gd).display;\n",
              "        if (!display || display === 'none') {{\n",
              "            console.log([gd, 'removed!']);\n",
              "            Plotly.purge(gd);\n",
              "            observer.disconnect();\n",
              "        }}\n",
              "}});\n",
              "\n",
              "// Listen for the removal of the full notebook cells\n",
              "var notebookContainer = gd.closest('#notebook-container');\n",
              "if (notebookContainer) {{\n",
              "    x.observe(notebookContainer, {childList: true});\n",
              "}}\n",
              "\n",
              "// Listen for the clearing of the current output cell\n",
              "var outputEl = gd.closest('.output');\n",
              "if (outputEl) {{\n",
              "    x.observe(outputEl, {childList: true});\n",
              "}}\n",
              "\n",
              "                        })                };                            </script>        </div>\n",
              "</body>\n",
              "</html>"
            ]
          },
          "metadata": {}
        }
      ],
      "source": [
        "most_common_crime_per_area = df.groupby('AREA NAME')['Crm Cd Desc'].agg(\n",
        "    Crime=lambda x: x.value_counts().idxmax(),\n",
        "    Amount=lambda x: x.value_counts().max()\n",
        ").reset_index()\n",
        "\n",
        "\n",
        "fig = px.bar(\n",
        "\tmost_common_crime_per_area,\n",
        "\tx='AREA NAME',\n",
        "\ty='Amount',\n",
        "\ttitle='Crímen más común por área (en los 4 años)',\n",
        "\tlabels={'AREA NAME': 'Área', 'Crime': 'Crímen', 'Amount': 'Total'},\n",
        "\tcolor='AREA NAME',\n",
        "\thover_data={'Crime': True, 'Amount': ':.0f'}\n",
        ")\n",
        "\n",
        "fig.update_layout(width=1000, height=700)\n",
        "fig.update_xaxes(tickangle=-45)\n",
        "\n",
        "fig.show()"
      ]
    },
    {
      "cell_type": "markdown",
      "metadata": {
        "id": "VZN41l_EY9KW"
      },
      "source": [
        "### Edad más afectada"
      ]
    },
    {
      "cell_type": "code",
      "execution_count": null,
      "metadata": {
        "colab": {
          "base_uri": "https://localhost:8080/"
        },
        "id": "LUDbh5s8Y9KW",
        "outputId": "75ff5ed6-1ccc-44f3-d1d9-90d60cfa5af5"
      },
      "outputs": [
        {
          "output_type": "stream",
          "name": "stdout",
          "text": [
            "La edad más afectada es 30 años, con un total de 245607 incidentes.\n",
            "-------------------------------------------------- \n",
            "\n"
          ]
        }
      ],
      "source": [
        "# Filtramos age != 0 para evitar objetos\n",
        "\n",
        "most_common_age = df[df['Vict Age'] != 0]['Vict Age'].value_counts().idxmax()\n",
        "amount = df['Vict Age'].value_counts().max()\n",
        "\n",
        "print(f'La edad más afectada es {most_common_age} años, con un total de {amount} incidentes.')\n",
        "print('-'*50, '\\n')\n"
      ]
    },
    {
      "cell_type": "markdown",
      "metadata": {
        "id": "xruJN-raY9KW"
      },
      "source": [
        "### Edad más afectada por área"
      ]
    },
    {
      "cell_type": "code",
      "execution_count": null,
      "metadata": {
        "colab": {
          "base_uri": "https://localhost:8080/",
          "height": 717
        },
        "id": "GRJjuiKZY9KW",
        "outputId": "3cdfa027-0b88-4595-ce0f-899111a8c846"
      },
      "outputs": [
        {
          "output_type": "display_data",
          "data": {
            "text/html": [
              "<html>\n",
              "<head><meta charset=\"utf-8\" /></head>\n",
              "<body>\n",
              "    <div>            <script src=\"https://cdnjs.cloudflare.com/ajax/libs/mathjax/2.7.5/MathJax.js?config=TeX-AMS-MML_SVG\"></script><script type=\"text/javascript\">if (window.MathJax && window.MathJax.Hub && window.MathJax.Hub.Config) {window.MathJax.Hub.Config({SVG: {font: \"STIX-Web\"}});}</script>                <script type=\"text/javascript\">window.PlotlyConfig = {MathJaxConfig: 'local'};</script>\n",
              "        <script charset=\"utf-8\" src=\"https://cdn.plot.ly/plotly-2.35.2.min.js\"></script>                <div id=\"af44f7e5-2290-4cba-8725-787069eaf88a\" class=\"plotly-graph-div\" style=\"height:700px; width:700px;\"></div>            <script type=\"text/javascript\">                                    window.PLOTLYENV=window.PLOTLYENV || {};                                    if (document.getElementById(\"af44f7e5-2290-4cba-8725-787069eaf88a\")) {                    Plotly.newPlot(                        \"af44f7e5-2290-4cba-8725-787069eaf88a\",                        [{\"alignmentgroup\":\"True\",\"customdata\":[[28]],\"hovertemplate\":\"\\u00c1rea=%{x}\\u003cbr\\u003eTotal=%{y:.0f}\\u003cbr\\u003eA\\u00f1o=%{customdata[0]}\\u003cextra\\u003e\\u003c\\u002fextra\\u003e\",\"legendgroup\":\"77th Street\",\"marker\":{\"color\":\"#636efa\",\"pattern\":{\"shape\":\"\"}},\"name\":\"77th Street\",\"offsetgroup\":\"77th Street\",\"orientation\":\"v\",\"showlegend\":true,\"textposition\":\"auto\",\"x\":[\"77th Street\"],\"xaxis\":\"x\",\"y\":[1269],\"yaxis\":\"y\",\"type\":\"bar\"},{\"alignmentgroup\":\"True\",\"customdata\":[[30]],\"hovertemplate\":\"\\u00c1rea=%{x}\\u003cbr\\u003eTotal=%{y:.0f}\\u003cbr\\u003eA\\u00f1o=%{customdata[0]}\\u003cextra\\u003e\\u003c\\u002fextra\\u003e\",\"legendgroup\":\"Central\",\"marker\":{\"color\":\"#EF553B\",\"pattern\":{\"shape\":\"\"}},\"name\":\"Central\",\"offsetgroup\":\"Central\",\"orientation\":\"v\",\"showlegend\":true,\"textposition\":\"auto\",\"x\":[\"Central\"],\"xaxis\":\"x\",\"y\":[1963],\"yaxis\":\"y\",\"type\":\"bar\"},{\"alignmentgroup\":\"True\",\"customdata\":[[35]],\"hovertemplate\":\"\\u00c1rea=%{x}\\u003cbr\\u003eTotal=%{y:.0f}\\u003cbr\\u003eA\\u00f1o=%{customdata[0]}\\u003cextra\\u003e\\u003c\\u002fextra\\u003e\",\"legendgroup\":\"Devonshire\",\"marker\":{\"color\":\"#00cc96\",\"pattern\":{\"shape\":\"\"}},\"name\":\"Devonshire\",\"offsetgroup\":\"Devonshire\",\"orientation\":\"v\",\"showlegend\":true,\"textposition\":\"auto\",\"x\":[\"Devonshire\"],\"xaxis\":\"x\",\"y\":[732],\"yaxis\":\"y\",\"type\":\"bar\"},{\"alignmentgroup\":\"True\",\"customdata\":[[31]],\"hovertemplate\":\"\\u00c1rea=%{x}\\u003cbr\\u003eTotal=%{y:.0f}\\u003cbr\\u003eA\\u00f1o=%{customdata[0]}\\u003cextra\\u003e\\u003c\\u002fextra\\u003e\",\"legendgroup\":\"Foothill\",\"marker\":{\"color\":\"#ab63fa\",\"pattern\":{\"shape\":\"\"}},\"name\":\"Foothill\",\"offsetgroup\":\"Foothill\",\"orientation\":\"v\",\"showlegend\":true,\"textposition\":\"auto\",\"x\":[\"Foothill\"],\"xaxis\":\"x\",\"y\":[670],\"yaxis\":\"y\",\"type\":\"bar\"},{\"alignmentgroup\":\"True\",\"customdata\":[[31]],\"hovertemplate\":\"\\u00c1rea=%{x}\\u003cbr\\u003eTotal=%{y:.0f}\\u003cbr\\u003eA\\u00f1o=%{customdata[0]}\\u003cextra\\u003e\\u003c\\u002fextra\\u003e\",\"legendgroup\":\"Harbor\",\"marker\":{\"color\":\"#FFA15A\",\"pattern\":{\"shape\":\"\"}},\"name\":\"Harbor\",\"offsetgroup\":\"Harbor\",\"orientation\":\"v\",\"showlegend\":true,\"textposition\":\"auto\",\"x\":[\"Harbor\"],\"xaxis\":\"x\",\"y\":[745],\"yaxis\":\"y\",\"type\":\"bar\"},{\"alignmentgroup\":\"True\",\"customdata\":[[30]],\"hovertemplate\":\"\\u00c1rea=%{x}\\u003cbr\\u003eTotal=%{y:.0f}\\u003cbr\\u003eA\\u00f1o=%{customdata[0]}\\u003cextra\\u003e\\u003c\\u002fextra\\u003e\",\"legendgroup\":\"Hollenbeck\",\"marker\":{\"color\":\"#19d3f3\",\"pattern\":{\"shape\":\"\"}},\"name\":\"Hollenbeck\",\"offsetgroup\":\"Hollenbeck\",\"orientation\":\"v\",\"showlegend\":true,\"textposition\":\"auto\",\"x\":[\"Hollenbeck\"],\"xaxis\":\"x\",\"y\":[681],\"yaxis\":\"y\",\"type\":\"bar\"},{\"alignmentgroup\":\"True\",\"customdata\":[[30]],\"hovertemplate\":\"\\u00c1rea=%{x}\\u003cbr\\u003eTotal=%{y:.0f}\\u003cbr\\u003eA\\u00f1o=%{customdata[0]}\\u003cextra\\u003e\\u003c\\u002fextra\\u003e\",\"legendgroup\":\"Hollywood\",\"marker\":{\"color\":\"#FF6692\",\"pattern\":{\"shape\":\"\"}},\"name\":\"Hollywood\",\"offsetgroup\":\"Hollywood\",\"orientation\":\"v\",\"showlegend\":true,\"textposition\":\"auto\",\"x\":[\"Hollywood\"],\"xaxis\":\"x\",\"y\":[1444],\"yaxis\":\"y\",\"type\":\"bar\"},{\"alignmentgroup\":\"True\",\"customdata\":[[30]],\"hovertemplate\":\"\\u00c1rea=%{x}\\u003cbr\\u003eTotal=%{y:.0f}\\u003cbr\\u003eA\\u00f1o=%{customdata[0]}\\u003cextra\\u003e\\u003c\\u002fextra\\u003e\",\"legendgroup\":\"Mission\",\"marker\":{\"color\":\"#B6E880\",\"pattern\":{\"shape\":\"\"}},\"name\":\"Mission\",\"offsetgroup\":\"Mission\",\"orientation\":\"v\",\"showlegend\":true,\"textposition\":\"auto\",\"x\":[\"Mission\"],\"xaxis\":\"x\",\"y\":[815],\"yaxis\":\"y\",\"type\":\"bar\"},{\"alignmentgroup\":\"True\",\"customdata\":[[30]],\"hovertemplate\":\"\\u00c1rea=%{x}\\u003cbr\\u003eTotal=%{y:.0f}\\u003cbr\\u003eA\\u00f1o=%{customdata[0]}\\u003cextra\\u003e\\u003c\\u002fextra\\u003e\",\"legendgroup\":\"N Hollywood\",\"marker\":{\"color\":\"#FF97FF\",\"pattern\":{\"shape\":\"\"}},\"name\":\"N Hollywood\",\"offsetgroup\":\"N Hollywood\",\"orientation\":\"v\",\"showlegend\":true,\"textposition\":\"auto\",\"x\":[\"N Hollywood\"],\"xaxis\":\"x\",\"y\":[1119],\"yaxis\":\"y\",\"type\":\"bar\"},{\"alignmentgroup\":\"True\",\"customdata\":[[30]],\"hovertemplate\":\"\\u00c1rea=%{x}\\u003cbr\\u003eTotal=%{y:.0f}\\u003cbr\\u003eA\\u00f1o=%{customdata[0]}\\u003cextra\\u003e\\u003c\\u002fextra\\u003e\",\"legendgroup\":\"Newton\",\"marker\":{\"color\":\"#FECB52\",\"pattern\":{\"shape\":\"\"}},\"name\":\"Newton\",\"offsetgroup\":\"Newton\",\"orientation\":\"v\",\"showlegend\":true,\"textposition\":\"auto\",\"x\":[\"Newton\"],\"xaxis\":\"x\",\"y\":[1002],\"yaxis\":\"y\",\"type\":\"bar\"},{\"alignmentgroup\":\"True\",\"customdata\":[[31]],\"hovertemplate\":\"\\u00c1rea=%{x}\\u003cbr\\u003eTotal=%{y:.0f}\\u003cbr\\u003eA\\u00f1o=%{customdata[0]}\\u003cextra\\u003e\\u003c\\u002fextra\\u003e\",\"legendgroup\":\"Northeast\",\"marker\":{\"color\":\"#636efa\",\"pattern\":{\"shape\":\"\"}},\"name\":\"Northeast\",\"offsetgroup\":\"Northeast\",\"orientation\":\"v\",\"showlegend\":true,\"textposition\":\"auto\",\"x\":[\"Northeast\"],\"xaxis\":\"x\",\"y\":[896],\"yaxis\":\"y\",\"type\":\"bar\"},{\"alignmentgroup\":\"True\",\"customdata\":[[28]],\"hovertemplate\":\"\\u00c1rea=%{x}\\u003cbr\\u003eTotal=%{y:.0f}\\u003cbr\\u003eA\\u00f1o=%{customdata[0]}\\u003cextra\\u003e\\u003c\\u002fextra\\u003e\",\"legendgroup\":\"Olympic\",\"marker\":{\"color\":\"#EF553B\",\"pattern\":{\"shape\":\"\"}},\"name\":\"Olympic\",\"offsetgroup\":\"Olympic\",\"orientation\":\"v\",\"showlegend\":true,\"textposition\":\"auto\",\"x\":[\"Olympic\"],\"xaxis\":\"x\",\"y\":[1175],\"yaxis\":\"y\",\"type\":\"bar\"},{\"alignmentgroup\":\"True\",\"customdata\":[[29]],\"hovertemplate\":\"\\u00c1rea=%{x}\\u003cbr\\u003eTotal=%{y:.0f}\\u003cbr\\u003eA\\u00f1o=%{customdata[0]}\\u003cextra\\u003e\\u003c\\u002fextra\\u003e\",\"legendgroup\":\"Pacific\",\"marker\":{\"color\":\"#00cc96\",\"pattern\":{\"shape\":\"\"}},\"name\":\"Pacific\",\"offsetgroup\":\"Pacific\",\"orientation\":\"v\",\"showlegend\":true,\"textposition\":\"auto\",\"x\":[\"Pacific\"],\"xaxis\":\"x\",\"y\":[1291],\"yaxis\":\"y\",\"type\":\"bar\"},{\"alignmentgroup\":\"True\",\"customdata\":[[30]],\"hovertemplate\":\"\\u00c1rea=%{x}\\u003cbr\\u003eTotal=%{y:.0f}\\u003cbr\\u003eA\\u00f1o=%{customdata[0]}\\u003cextra\\u003e\\u003c\\u002fextra\\u003e\",\"legendgroup\":\"Rampart\",\"marker\":{\"color\":\"#ab63fa\",\"pattern\":{\"shape\":\"\"}},\"name\":\"Rampart\",\"offsetgroup\":\"Rampart\",\"orientation\":\"v\",\"showlegend\":true,\"textposition\":\"auto\",\"x\":[\"Rampart\"],\"xaxis\":\"x\",\"y\":[1110],\"yaxis\":\"y\",\"type\":\"bar\"},{\"alignmentgroup\":\"True\",\"customdata\":[[30]],\"hovertemplate\":\"\\u00c1rea=%{x}\\u003cbr\\u003eTotal=%{y:.0f}\\u003cbr\\u003eA\\u00f1o=%{customdata[0]}\\u003cextra\\u003e\\u003c\\u002fextra\\u003e\",\"legendgroup\":\"Southeast\",\"marker\":{\"color\":\"#FFA15A\",\"pattern\":{\"shape\":\"\"}},\"name\":\"Southeast\",\"offsetgroup\":\"Southeast\",\"orientation\":\"v\",\"showlegend\":true,\"textposition\":\"auto\",\"x\":[\"Southeast\"],\"xaxis\":\"x\",\"y\":[1156],\"yaxis\":\"y\",\"type\":\"bar\"},{\"alignmentgroup\":\"True\",\"customdata\":[[21]],\"hovertemplate\":\"\\u00c1rea=%{x}\\u003cbr\\u003eTotal=%{y:.0f}\\u003cbr\\u003eA\\u00f1o=%{customdata[0]}\\u003cextra\\u003e\\u003c\\u002fextra\\u003e\",\"legendgroup\":\"Southwest\",\"marker\":{\"color\":\"#19d3f3\",\"pattern\":{\"shape\":\"\"}},\"name\":\"Southwest\",\"offsetgroup\":\"Southwest\",\"orientation\":\"v\",\"showlegend\":true,\"textposition\":\"auto\",\"x\":[\"Southwest\"],\"xaxis\":\"x\",\"y\":[2740],\"yaxis\":\"y\",\"type\":\"bar\"},{\"alignmentgroup\":\"True\",\"customdata\":[[35]],\"hovertemplate\":\"\\u00c1rea=%{x}\\u003cbr\\u003eTotal=%{y:.0f}\\u003cbr\\u003eA\\u00f1o=%{customdata[0]}\\u003cextra\\u003e\\u003c\\u002fextra\\u003e\",\"legendgroup\":\"Topanga\",\"marker\":{\"color\":\"#FF6692\",\"pattern\":{\"shape\":\"\"}},\"name\":\"Topanga\",\"offsetgroup\":\"Topanga\",\"orientation\":\"v\",\"showlegend\":true,\"textposition\":\"auto\",\"x\":[\"Topanga\"],\"xaxis\":\"x\",\"y\":[3344],\"yaxis\":\"y\",\"type\":\"bar\"},{\"alignmentgroup\":\"True\",\"customdata\":[[31]],\"hovertemplate\":\"\\u00c1rea=%{x}\\u003cbr\\u003eTotal=%{y:.0f}\\u003cbr\\u003eA\\u00f1o=%{customdata[0]}\\u003cextra\\u003e\\u003c\\u002fextra\\u003e\",\"legendgroup\":\"Van Nuys\",\"marker\":{\"color\":\"#B6E880\",\"pattern\":{\"shape\":\"\"}},\"name\":\"Van Nuys\",\"offsetgroup\":\"Van Nuys\",\"orientation\":\"v\",\"showlegend\":true,\"textposition\":\"auto\",\"x\":[\"Van Nuys\"],\"xaxis\":\"x\",\"y\":[958],\"yaxis\":\"y\",\"type\":\"bar\"},{\"alignmentgroup\":\"True\",\"customdata\":[[30]],\"hovertemplate\":\"\\u00c1rea=%{x}\\u003cbr\\u003eTotal=%{y:.0f}\\u003cbr\\u003eA\\u00f1o=%{customdata[0]}\\u003cextra\\u003e\\u003c\\u002fextra\\u003e\",\"legendgroup\":\"West LA\",\"marker\":{\"color\":\"#FF97FF\",\"pattern\":{\"shape\":\"\"}},\"name\":\"West LA\",\"offsetgroup\":\"West LA\",\"orientation\":\"v\",\"showlegend\":true,\"textposition\":\"auto\",\"x\":[\"West LA\"],\"xaxis\":\"x\",\"y\":[899],\"yaxis\":\"y\",\"type\":\"bar\"},{\"alignmentgroup\":\"True\",\"customdata\":[[38]],\"hovertemplate\":\"\\u00c1rea=%{x}\\u003cbr\\u003eTotal=%{y:.0f}\\u003cbr\\u003eA\\u00f1o=%{customdata[0]}\\u003cextra\\u003e\\u003c\\u002fextra\\u003e\",\"legendgroup\":\"West Valley\",\"marker\":{\"color\":\"#FECB52\",\"pattern\":{\"shape\":\"\"}},\"name\":\"West Valley\",\"offsetgroup\":\"West Valley\",\"orientation\":\"v\",\"showlegend\":true,\"textposition\":\"auto\",\"x\":[\"West Valley\"],\"xaxis\":\"x\",\"y\":[789],\"yaxis\":\"y\",\"type\":\"bar\"},{\"alignmentgroup\":\"True\",\"customdata\":[[22]],\"hovertemplate\":\"\\u00c1rea=%{x}\\u003cbr\\u003eTotal=%{y:.0f}\\u003cbr\\u003eA\\u00f1o=%{customdata[0]}\\u003cextra\\u003e\\u003c\\u002fextra\\u003e\",\"legendgroup\":\"Wilshire\",\"marker\":{\"color\":\"#636efa\",\"pattern\":{\"shape\":\"\"}},\"name\":\"Wilshire\",\"offsetgroup\":\"Wilshire\",\"orientation\":\"v\",\"showlegend\":true,\"textposition\":\"auto\",\"x\":[\"Wilshire\"],\"xaxis\":\"x\",\"y\":[1017],\"yaxis\":\"y\",\"type\":\"bar\"}],                        {\"template\":{\"data\":{\"histogram2dcontour\":[{\"type\":\"histogram2dcontour\",\"colorbar\":{\"outlinewidth\":0,\"ticks\":\"\"},\"colorscale\":[[0.0,\"#0d0887\"],[0.1111111111111111,\"#46039f\"],[0.2222222222222222,\"#7201a8\"],[0.3333333333333333,\"#9c179e\"],[0.4444444444444444,\"#bd3786\"],[0.5555555555555556,\"#d8576b\"],[0.6666666666666666,\"#ed7953\"],[0.7777777777777778,\"#fb9f3a\"],[0.8888888888888888,\"#fdca26\"],[1.0,\"#f0f921\"]]}],\"choropleth\":[{\"type\":\"choropleth\",\"colorbar\":{\"outlinewidth\":0,\"ticks\":\"\"}}],\"histogram2d\":[{\"type\":\"histogram2d\",\"colorbar\":{\"outlinewidth\":0,\"ticks\":\"\"},\"colorscale\":[[0.0,\"#0d0887\"],[0.1111111111111111,\"#46039f\"],[0.2222222222222222,\"#7201a8\"],[0.3333333333333333,\"#9c179e\"],[0.4444444444444444,\"#bd3786\"],[0.5555555555555556,\"#d8576b\"],[0.6666666666666666,\"#ed7953\"],[0.7777777777777778,\"#fb9f3a\"],[0.8888888888888888,\"#fdca26\"],[1.0,\"#f0f921\"]]}],\"heatmap\":[{\"type\":\"heatmap\",\"colorbar\":{\"outlinewidth\":0,\"ticks\":\"\"},\"colorscale\":[[0.0,\"#0d0887\"],[0.1111111111111111,\"#46039f\"],[0.2222222222222222,\"#7201a8\"],[0.3333333333333333,\"#9c179e\"],[0.4444444444444444,\"#bd3786\"],[0.5555555555555556,\"#d8576b\"],[0.6666666666666666,\"#ed7953\"],[0.7777777777777778,\"#fb9f3a\"],[0.8888888888888888,\"#fdca26\"],[1.0,\"#f0f921\"]]}],\"heatmapgl\":[{\"type\":\"heatmapgl\",\"colorbar\":{\"outlinewidth\":0,\"ticks\":\"\"},\"colorscale\":[[0.0,\"#0d0887\"],[0.1111111111111111,\"#46039f\"],[0.2222222222222222,\"#7201a8\"],[0.3333333333333333,\"#9c179e\"],[0.4444444444444444,\"#bd3786\"],[0.5555555555555556,\"#d8576b\"],[0.6666666666666666,\"#ed7953\"],[0.7777777777777778,\"#fb9f3a\"],[0.8888888888888888,\"#fdca26\"],[1.0,\"#f0f921\"]]}],\"contourcarpet\":[{\"type\":\"contourcarpet\",\"colorbar\":{\"outlinewidth\":0,\"ticks\":\"\"}}],\"contour\":[{\"type\":\"contour\",\"colorbar\":{\"outlinewidth\":0,\"ticks\":\"\"},\"colorscale\":[[0.0,\"#0d0887\"],[0.1111111111111111,\"#46039f\"],[0.2222222222222222,\"#7201a8\"],[0.3333333333333333,\"#9c179e\"],[0.4444444444444444,\"#bd3786\"],[0.5555555555555556,\"#d8576b\"],[0.6666666666666666,\"#ed7953\"],[0.7777777777777778,\"#fb9f3a\"],[0.8888888888888888,\"#fdca26\"],[1.0,\"#f0f921\"]]}],\"surface\":[{\"type\":\"surface\",\"colorbar\":{\"outlinewidth\":0,\"ticks\":\"\"},\"colorscale\":[[0.0,\"#0d0887\"],[0.1111111111111111,\"#46039f\"],[0.2222222222222222,\"#7201a8\"],[0.3333333333333333,\"#9c179e\"],[0.4444444444444444,\"#bd3786\"],[0.5555555555555556,\"#d8576b\"],[0.6666666666666666,\"#ed7953\"],[0.7777777777777778,\"#fb9f3a\"],[0.8888888888888888,\"#fdca26\"],[1.0,\"#f0f921\"]]}],\"mesh3d\":[{\"type\":\"mesh3d\",\"colorbar\":{\"outlinewidth\":0,\"ticks\":\"\"}}],\"scatter\":[{\"fillpattern\":{\"fillmode\":\"overlay\",\"size\":10,\"solidity\":0.2},\"type\":\"scatter\"}],\"parcoords\":[{\"type\":\"parcoords\",\"line\":{\"colorbar\":{\"outlinewidth\":0,\"ticks\":\"\"}}}],\"scatterpolargl\":[{\"type\":\"scatterpolargl\",\"marker\":{\"colorbar\":{\"outlinewidth\":0,\"ticks\":\"\"}}}],\"bar\":[{\"error_x\":{\"color\":\"#2a3f5f\"},\"error_y\":{\"color\":\"#2a3f5f\"},\"marker\":{\"line\":{\"color\":\"#E5ECF6\",\"width\":0.5},\"pattern\":{\"fillmode\":\"overlay\",\"size\":10,\"solidity\":0.2}},\"type\":\"bar\"}],\"scattergeo\":[{\"type\":\"scattergeo\",\"marker\":{\"colorbar\":{\"outlinewidth\":0,\"ticks\":\"\"}}}],\"scatterpolar\":[{\"type\":\"scatterpolar\",\"marker\":{\"colorbar\":{\"outlinewidth\":0,\"ticks\":\"\"}}}],\"histogram\":[{\"marker\":{\"pattern\":{\"fillmode\":\"overlay\",\"size\":10,\"solidity\":0.2}},\"type\":\"histogram\"}],\"scattergl\":[{\"type\":\"scattergl\",\"marker\":{\"colorbar\":{\"outlinewidth\":0,\"ticks\":\"\"}}}],\"scatter3d\":[{\"type\":\"scatter3d\",\"line\":{\"colorbar\":{\"outlinewidth\":0,\"ticks\":\"\"}},\"marker\":{\"colorbar\":{\"outlinewidth\":0,\"ticks\":\"\"}}}],\"scattermapbox\":[{\"type\":\"scattermapbox\",\"marker\":{\"colorbar\":{\"outlinewidth\":0,\"ticks\":\"\"}}}],\"scatterternary\":[{\"type\":\"scatterternary\",\"marker\":{\"colorbar\":{\"outlinewidth\":0,\"ticks\":\"\"}}}],\"scattercarpet\":[{\"type\":\"scattercarpet\",\"marker\":{\"colorbar\":{\"outlinewidth\":0,\"ticks\":\"\"}}}],\"carpet\":[{\"aaxis\":{\"endlinecolor\":\"#2a3f5f\",\"gridcolor\":\"white\",\"linecolor\":\"white\",\"minorgridcolor\":\"white\",\"startlinecolor\":\"#2a3f5f\"},\"baxis\":{\"endlinecolor\":\"#2a3f5f\",\"gridcolor\":\"white\",\"linecolor\":\"white\",\"minorgridcolor\":\"white\",\"startlinecolor\":\"#2a3f5f\"},\"type\":\"carpet\"}],\"table\":[{\"cells\":{\"fill\":{\"color\":\"#EBF0F8\"},\"line\":{\"color\":\"white\"}},\"header\":{\"fill\":{\"color\":\"#C8D4E3\"},\"line\":{\"color\":\"white\"}},\"type\":\"table\"}],\"barpolar\":[{\"marker\":{\"line\":{\"color\":\"#E5ECF6\",\"width\":0.5},\"pattern\":{\"fillmode\":\"overlay\",\"size\":10,\"solidity\":0.2}},\"type\":\"barpolar\"}],\"pie\":[{\"automargin\":true,\"type\":\"pie\"}]},\"layout\":{\"autotypenumbers\":\"strict\",\"colorway\":[\"#636efa\",\"#EF553B\",\"#00cc96\",\"#ab63fa\",\"#FFA15A\",\"#19d3f3\",\"#FF6692\",\"#B6E880\",\"#FF97FF\",\"#FECB52\"],\"font\":{\"color\":\"#2a3f5f\"},\"hovermode\":\"closest\",\"hoverlabel\":{\"align\":\"left\"},\"paper_bgcolor\":\"white\",\"plot_bgcolor\":\"#E5ECF6\",\"polar\":{\"bgcolor\":\"#E5ECF6\",\"angularaxis\":{\"gridcolor\":\"white\",\"linecolor\":\"white\",\"ticks\":\"\"},\"radialaxis\":{\"gridcolor\":\"white\",\"linecolor\":\"white\",\"ticks\":\"\"}},\"ternary\":{\"bgcolor\":\"#E5ECF6\",\"aaxis\":{\"gridcolor\":\"white\",\"linecolor\":\"white\",\"ticks\":\"\"},\"baxis\":{\"gridcolor\":\"white\",\"linecolor\":\"white\",\"ticks\":\"\"},\"caxis\":{\"gridcolor\":\"white\",\"linecolor\":\"white\",\"ticks\":\"\"}},\"coloraxis\":{\"colorbar\":{\"outlinewidth\":0,\"ticks\":\"\"}},\"colorscale\":{\"sequential\":[[0.0,\"#0d0887\"],[0.1111111111111111,\"#46039f\"],[0.2222222222222222,\"#7201a8\"],[0.3333333333333333,\"#9c179e\"],[0.4444444444444444,\"#bd3786\"],[0.5555555555555556,\"#d8576b\"],[0.6666666666666666,\"#ed7953\"],[0.7777777777777778,\"#fb9f3a\"],[0.8888888888888888,\"#fdca26\"],[1.0,\"#f0f921\"]],\"sequentialminus\":[[0.0,\"#0d0887\"],[0.1111111111111111,\"#46039f\"],[0.2222222222222222,\"#7201a8\"],[0.3333333333333333,\"#9c179e\"],[0.4444444444444444,\"#bd3786\"],[0.5555555555555556,\"#d8576b\"],[0.6666666666666666,\"#ed7953\"],[0.7777777777777778,\"#fb9f3a\"],[0.8888888888888888,\"#fdca26\"],[1.0,\"#f0f921\"]],\"diverging\":[[0,\"#8e0152\"],[0.1,\"#c51b7d\"],[0.2,\"#de77ae\"],[0.3,\"#f1b6da\"],[0.4,\"#fde0ef\"],[0.5,\"#f7f7f7\"],[0.6,\"#e6f5d0\"],[0.7,\"#b8e186\"],[0.8,\"#7fbc41\"],[0.9,\"#4d9221\"],[1,\"#276419\"]]},\"xaxis\":{\"gridcolor\":\"white\",\"linecolor\":\"white\",\"ticks\":\"\",\"title\":{\"standoff\":15},\"zerolinecolor\":\"white\",\"automargin\":true,\"zerolinewidth\":2},\"yaxis\":{\"gridcolor\":\"white\",\"linecolor\":\"white\",\"ticks\":\"\",\"title\":{\"standoff\":15},\"zerolinecolor\":\"white\",\"automargin\":true,\"zerolinewidth\":2},\"scene\":{\"xaxis\":{\"backgroundcolor\":\"#E5ECF6\",\"gridcolor\":\"white\",\"linecolor\":\"white\",\"showbackground\":true,\"ticks\":\"\",\"zerolinecolor\":\"white\",\"gridwidth\":2},\"yaxis\":{\"backgroundcolor\":\"#E5ECF6\",\"gridcolor\":\"white\",\"linecolor\":\"white\",\"showbackground\":true,\"ticks\":\"\",\"zerolinecolor\":\"white\",\"gridwidth\":2},\"zaxis\":{\"backgroundcolor\":\"#E5ECF6\",\"gridcolor\":\"white\",\"linecolor\":\"white\",\"showbackground\":true,\"ticks\":\"\",\"zerolinecolor\":\"white\",\"gridwidth\":2}},\"shapedefaults\":{\"line\":{\"color\":\"#2a3f5f\"}},\"annotationdefaults\":{\"arrowcolor\":\"#2a3f5f\",\"arrowhead\":0,\"arrowwidth\":1},\"geo\":{\"bgcolor\":\"white\",\"landcolor\":\"#E5ECF6\",\"subunitcolor\":\"white\",\"showland\":true,\"showlakes\":true,\"lakecolor\":\"white\"},\"title\":{\"x\":0.05},\"mapbox\":{\"style\":\"light\"}}},\"xaxis\":{\"anchor\":\"y\",\"domain\":[0.0,1.0],\"title\":{\"text\":\"\\u00c1rea\"},\"categoryorder\":\"array\",\"categoryarray\":[\"77th Street\",\"Central\",\"Devonshire\",\"Foothill\",\"Harbor\",\"Hollenbeck\",\"Hollywood\",\"Mission\",\"N Hollywood\",\"Newton\",\"Northeast\",\"Olympic\",\"Pacific\",\"Rampart\",\"Southeast\",\"Southwest\",\"Topanga\",\"Van Nuys\",\"West LA\",\"West Valley\",\"Wilshire\"]},\"yaxis\":{\"anchor\":\"x\",\"domain\":[0.0,1.0],\"title\":{\"text\":\"Total\"}},\"legend\":{\"title\":{\"text\":\"\\u00c1rea\"},\"tracegroupgap\":0},\"title\":{\"text\":\"Edad m\\u00e1s afectada por \\u00e1rea\"},\"barmode\":\"relative\",\"width\":700,\"height\":700},                        {\"responsive\": true}                    ).then(function(){\n",
              "                            \n",
              "var gd = document.getElementById('af44f7e5-2290-4cba-8725-787069eaf88a');\n",
              "var x = new MutationObserver(function (mutations, observer) {{\n",
              "        var display = window.getComputedStyle(gd).display;\n",
              "        if (!display || display === 'none') {{\n",
              "            console.log([gd, 'removed!']);\n",
              "            Plotly.purge(gd);\n",
              "            observer.disconnect();\n",
              "        }}\n",
              "}});\n",
              "\n",
              "// Listen for the removal of the full notebook cells\n",
              "var notebookContainer = gd.closest('#notebook-container');\n",
              "if (notebookContainer) {{\n",
              "    x.observe(notebookContainer, {childList: true});\n",
              "}}\n",
              "\n",
              "// Listen for the clearing of the current output cell\n",
              "var outputEl = gd.closest('.output');\n",
              "if (outputEl) {{\n",
              "    x.observe(outputEl, {childList: true});\n",
              "}}\n",
              "\n",
              "                        })                };                            </script>        </div>\n",
              "</body>\n",
              "</html>"
            ]
          },
          "metadata": {}
        }
      ],
      "source": [
        "most_common_age_per_area = df[df['Vict Age'] != 0].groupby('AREA NAME')['Vict Age'].agg(\n",
        "    Age=lambda x: x.value_counts().idxmax(),\n",
        "    Amount=lambda x: x.value_counts().max()\n",
        ").reset_index()\n",
        "\n",
        "fig = px.bar(\n",
        "\tmost_common_age_per_area,\n",
        "\ttitle='Edad más afectada por área',\n",
        "\tx='AREA NAME',\n",
        "\ty='Amount',\n",
        "\tlabels={'AREA NAME': 'Área', 'Amount': 'Total', 'Age': 'Año'},\n",
        "\tcolor='AREA NAME',\n",
        "\thover_data={'Age': True, 'Amount': ':.0f'},\n",
        ")\n",
        "\n",
        "fig.update_layout(width=700, height=700)\n",
        "fig.show()"
      ]
    },
    {
      "cell_type": "markdown",
      "metadata": {
        "id": "wGIWKuj4Y9KW"
      },
      "source": [
        "### Sexo más afectado"
      ]
    },
    {
      "cell_type": "code",
      "execution_count": null,
      "metadata": {
        "colab": {
          "base_uri": "https://localhost:8080/"
        },
        "id": "g9yTE_5uY9KW",
        "outputId": "c4145614-8ab5-41e9-b4f1-afa2620a30ff"
      },
      "outputs": [
        {
          "output_type": "stream",
          "name": "stdout",
          "text": [
            "El sexo más afectado por crímenes es: Hombre\n",
            "--------------------------------------------------\n"
          ]
        }
      ],
      "source": [
        "most_common_sex = df[(df['Vict Sex'].notna()) & (df['Vict Sex'].isin(['M', 'F']))]['Vict Sex'].value_counts().idxmax()\n",
        "print(f'El sexo más afectado por crímenes es: {\"Hombre\" if most_common_sex == \"M\" else \"Mujer\"}')\n",
        "print('-'*50)"
      ]
    },
    {
      "cell_type": "markdown",
      "metadata": {
        "id": "3PVZMUm2Y9KX"
      },
      "source": [
        "### Arma más utilizada (total de crímenes)"
      ]
    },
    {
      "cell_type": "code",
      "execution_count": null,
      "metadata": {
        "colab": {
          "base_uri": "https://localhost:8080/"
        },
        "id": "hC_7aJqCY9KX",
        "outputId": "5db7e88a-760c-4d21-c6e2-e7e10c5df110"
      },
      "outputs": [
        {
          "output_type": "stream",
          "name": "stdout",
          "text": [
            "El arma más utilizada es STRONG-ARM (HANDS, FIST, FEET OR BODILY FORCE), reportado 174057 veces.\n",
            "--------------------------------------------------\n"
          ]
        }
      ],
      "source": [
        "most_common_weapon = df['Weapon Desc'].value_counts().idxmax()\n",
        "amount = df['Weapon Desc'].value_counts().max()\n",
        "\n",
        "print(f'El arma más utilizada es {most_common_weapon}, reportado {amount} veces.')\n",
        "print('-'*50)"
      ]
    },
    {
      "cell_type": "markdown",
      "metadata": {
        "id": "UkZ-awENY9KX"
      },
      "source": [
        "### Arma más utilizada por área"
      ]
    },
    {
      "cell_type": "code",
      "execution_count": null,
      "metadata": {
        "colab": {
          "base_uri": "https://localhost:8080/",
          "height": 717
        },
        "id": "Wj5e0o4XY9KX",
        "outputId": "b8ff9354-f5f4-493e-b03d-d55c027d95a7"
      },
      "outputs": [
        {
          "output_type": "display_data",
          "data": {
            "text/html": [
              "<html>\n",
              "<head><meta charset=\"utf-8\" /></head>\n",
              "<body>\n",
              "    <div>            <script src=\"https://cdnjs.cloudflare.com/ajax/libs/mathjax/2.7.5/MathJax.js?config=TeX-AMS-MML_SVG\"></script><script type=\"text/javascript\">if (window.MathJax && window.MathJax.Hub && window.MathJax.Hub.Config) {window.MathJax.Hub.Config({SVG: {font: \"STIX-Web\"}});}</script>                <script type=\"text/javascript\">window.PlotlyConfig = {MathJaxConfig: 'local'};</script>\n",
              "        <script charset=\"utf-8\" src=\"https://cdn.plot.ly/plotly-2.35.2.min.js\"></script>                <div id=\"5de7d543-8b50-446b-a354-6bb8de7d9b79\" class=\"plotly-graph-div\" style=\"height:700px; width:700px;\"></div>            <script type=\"text/javascript\">                                    window.PLOTLYENV=window.PLOTLYENV || {};                                    if (document.getElementById(\"5de7d543-8b50-446b-a354-6bb8de7d9b79\")) {                    Plotly.newPlot(                        \"5de7d543-8b50-446b-a354-6bb8de7d9b79\",                        [{\"alignmentgroup\":\"True\",\"customdata\":[[\"STRONG-ARM (HANDS, FIST, FEET OR BODILY FORCE)\"]],\"hovertemplate\":\"\\u00c1rea=%{x}\\u003cbr\\u003eTotal=%{y:.0f}\\u003cbr\\u003eWeapon=%{customdata[0]}\\u003cextra\\u003e\\u003c\\u002fextra\\u003e\",\"legendgroup\":\"77th Street\",\"marker\":{\"color\":\"#636efa\",\"pattern\":{\"shape\":\"\"}},\"name\":\"77th Street\",\"offsetgroup\":\"77th Street\",\"orientation\":\"v\",\"showlegend\":true,\"textposition\":\"auto\",\"x\":[\"77th Street\"],\"xaxis\":\"x\",\"y\":[14319],\"yaxis\":\"y\",\"type\":\"bar\"},{\"alignmentgroup\":\"True\",\"customdata\":[[\"STRONG-ARM (HANDS, FIST, FEET OR BODILY FORCE)\"]],\"hovertemplate\":\"\\u00c1rea=%{x}\\u003cbr\\u003eTotal=%{y:.0f}\\u003cbr\\u003eWeapon=%{customdata[0]}\\u003cextra\\u003e\\u003c\\u002fextra\\u003e\",\"legendgroup\":\"Central\",\"marker\":{\"color\":\"#EF553B\",\"pattern\":{\"shape\":\"\"}},\"name\":\"Central\",\"offsetgroup\":\"Central\",\"orientation\":\"v\",\"showlegend\":true,\"textposition\":\"auto\",\"x\":[\"Central\"],\"xaxis\":\"x\",\"y\":[12931],\"yaxis\":\"y\",\"type\":\"bar\"},{\"alignmentgroup\":\"True\",\"customdata\":[[\"STRONG-ARM (HANDS, FIST, FEET OR BODILY FORCE)\"]],\"hovertemplate\":\"\\u00c1rea=%{x}\\u003cbr\\u003eTotal=%{y:.0f}\\u003cbr\\u003eWeapon=%{customdata[0]}\\u003cextra\\u003e\\u003c\\u002fextra\\u003e\",\"legendgroup\":\"Devonshire\",\"marker\":{\"color\":\"#00cc96\",\"pattern\":{\"shape\":\"\"}},\"name\":\"Devonshire\",\"offsetgroup\":\"Devonshire\",\"orientation\":\"v\",\"showlegend\":true,\"textposition\":\"auto\",\"x\":[\"Devonshire\"],\"xaxis\":\"x\",\"y\":[6034],\"yaxis\":\"y\",\"type\":\"bar\"},{\"alignmentgroup\":\"True\",\"customdata\":[[\"STRONG-ARM (HANDS, FIST, FEET OR BODILY FORCE)\"]],\"hovertemplate\":\"\\u00c1rea=%{x}\\u003cbr\\u003eTotal=%{y:.0f}\\u003cbr\\u003eWeapon=%{customdata[0]}\\u003cextra\\u003e\\u003c\\u002fextra\\u003e\",\"legendgroup\":\"Foothill\",\"marker\":{\"color\":\"#ab63fa\",\"pattern\":{\"shape\":\"\"}},\"name\":\"Foothill\",\"offsetgroup\":\"Foothill\",\"orientation\":\"v\",\"showlegend\":true,\"textposition\":\"auto\",\"x\":[\"Foothill\"],\"xaxis\":\"x\",\"y\":[5748],\"yaxis\":\"y\",\"type\":\"bar\"},{\"alignmentgroup\":\"True\",\"customdata\":[[\"STRONG-ARM (HANDS, FIST, FEET OR BODILY FORCE)\"]],\"hovertemplate\":\"\\u00c1rea=%{x}\\u003cbr\\u003eTotal=%{y:.0f}\\u003cbr\\u003eWeapon=%{customdata[0]}\\u003cextra\\u003e\\u003c\\u002fextra\\u003e\",\"legendgroup\":\"Harbor\",\"marker\":{\"color\":\"#FFA15A\",\"pattern\":{\"shape\":\"\"}},\"name\":\"Harbor\",\"offsetgroup\":\"Harbor\",\"orientation\":\"v\",\"showlegend\":true,\"textposition\":\"auto\",\"x\":[\"Harbor\"],\"xaxis\":\"x\",\"y\":[7553],\"yaxis\":\"y\",\"type\":\"bar\"},{\"alignmentgroup\":\"True\",\"customdata\":[[\"STRONG-ARM (HANDS, FIST, FEET OR BODILY FORCE)\"]],\"hovertemplate\":\"\\u00c1rea=%{x}\\u003cbr\\u003eTotal=%{y:.0f}\\u003cbr\\u003eWeapon=%{customdata[0]}\\u003cextra\\u003e\\u003c\\u002fextra\\u003e\",\"legendgroup\":\"Hollenbeck\",\"marker\":{\"color\":\"#19d3f3\",\"pattern\":{\"shape\":\"\"}},\"name\":\"Hollenbeck\",\"offsetgroup\":\"Hollenbeck\",\"orientation\":\"v\",\"showlegend\":true,\"textposition\":\"auto\",\"x\":[\"Hollenbeck\"],\"xaxis\":\"x\",\"y\":[6550],\"yaxis\":\"y\",\"type\":\"bar\"},{\"alignmentgroup\":\"True\",\"customdata\":[[\"STRONG-ARM (HANDS, FIST, FEET OR BODILY FORCE)\"]],\"hovertemplate\":\"\\u00c1rea=%{x}\\u003cbr\\u003eTotal=%{y:.0f}\\u003cbr\\u003eWeapon=%{customdata[0]}\\u003cextra\\u003e\\u003c\\u002fextra\\u003e\",\"legendgroup\":\"Hollywood\",\"marker\":{\"color\":\"#FF6692\",\"pattern\":{\"shape\":\"\"}},\"name\":\"Hollywood\",\"offsetgroup\":\"Hollywood\",\"orientation\":\"v\",\"showlegend\":true,\"textposition\":\"auto\",\"x\":[\"Hollywood\"],\"xaxis\":\"x\",\"y\":[10120],\"yaxis\":\"y\",\"type\":\"bar\"},{\"alignmentgroup\":\"True\",\"customdata\":[[\"STRONG-ARM (HANDS, FIST, FEET OR BODILY FORCE)\"]],\"hovertemplate\":\"\\u00c1rea=%{x}\\u003cbr\\u003eTotal=%{y:.0f}\\u003cbr\\u003eWeapon=%{customdata[0]}\\u003cextra\\u003e\\u003c\\u002fextra\\u003e\",\"legendgroup\":\"Mission\",\"marker\":{\"color\":\"#B6E880\",\"pattern\":{\"shape\":\"\"}},\"name\":\"Mission\",\"offsetgroup\":\"Mission\",\"orientation\":\"v\",\"showlegend\":true,\"textposition\":\"auto\",\"x\":[\"Mission\"],\"xaxis\":\"x\",\"y\":[7504],\"yaxis\":\"y\",\"type\":\"bar\"},{\"alignmentgroup\":\"True\",\"customdata\":[[\"STRONG-ARM (HANDS, FIST, FEET OR BODILY FORCE)\"]],\"hovertemplate\":\"\\u00c1rea=%{x}\\u003cbr\\u003eTotal=%{y:.0f}\\u003cbr\\u003eWeapon=%{customdata[0]}\\u003cextra\\u003e\\u003c\\u002fextra\\u003e\",\"legendgroup\":\"N Hollywood\",\"marker\":{\"color\":\"#FF97FF\",\"pattern\":{\"shape\":\"\"}},\"name\":\"N Hollywood\",\"offsetgroup\":\"N Hollywood\",\"orientation\":\"v\",\"showlegend\":true,\"textposition\":\"auto\",\"x\":[\"N Hollywood\"],\"xaxis\":\"x\",\"y\":[7714],\"yaxis\":\"y\",\"type\":\"bar\"},{\"alignmentgroup\":\"True\",\"customdata\":[[\"STRONG-ARM (HANDS, FIST, FEET OR BODILY FORCE)\"]],\"hovertemplate\":\"\\u00c1rea=%{x}\\u003cbr\\u003eTotal=%{y:.0f}\\u003cbr\\u003eWeapon=%{customdata[0]}\\u003cextra\\u003e\\u003c\\u002fextra\\u003e\",\"legendgroup\":\"Newton\",\"marker\":{\"color\":\"#FECB52\",\"pattern\":{\"shape\":\"\"}},\"name\":\"Newton\",\"offsetgroup\":\"Newton\",\"orientation\":\"v\",\"showlegend\":true,\"textposition\":\"auto\",\"x\":[\"Newton\"],\"xaxis\":\"x\",\"y\":[9524],\"yaxis\":\"y\",\"type\":\"bar\"},{\"alignmentgroup\":\"True\",\"customdata\":[[\"STRONG-ARM (HANDS, FIST, FEET OR BODILY FORCE)\"]],\"hovertemplate\":\"\\u00c1rea=%{x}\\u003cbr\\u003eTotal=%{y:.0f}\\u003cbr\\u003eWeapon=%{customdata[0]}\\u003cextra\\u003e\\u003c\\u002fextra\\u003e\",\"legendgroup\":\"Northeast\",\"marker\":{\"color\":\"#636efa\",\"pattern\":{\"shape\":\"\"}},\"name\":\"Northeast\",\"offsetgroup\":\"Northeast\",\"orientation\":\"v\",\"showlegend\":true,\"textposition\":\"auto\",\"x\":[\"Northeast\"],\"xaxis\":\"x\",\"y\":[5461],\"yaxis\":\"y\",\"type\":\"bar\"},{\"alignmentgroup\":\"True\",\"customdata\":[[\"STRONG-ARM (HANDS, FIST, FEET OR BODILY FORCE)\"]],\"hovertemplate\":\"\\u00c1rea=%{x}\\u003cbr\\u003eTotal=%{y:.0f}\\u003cbr\\u003eWeapon=%{customdata[0]}\\u003cextra\\u003e\\u003c\\u002fextra\\u003e\",\"legendgroup\":\"Olympic\",\"marker\":{\"color\":\"#EF553B\",\"pattern\":{\"shape\":\"\"}},\"name\":\"Olympic\",\"offsetgroup\":\"Olympic\",\"orientation\":\"v\",\"showlegend\":true,\"textposition\":\"auto\",\"x\":[\"Olympic\"],\"xaxis\":\"x\",\"y\":[9579],\"yaxis\":\"y\",\"type\":\"bar\"},{\"alignmentgroup\":\"True\",\"customdata\":[[\"STRONG-ARM (HANDS, FIST, FEET OR BODILY FORCE)\"]],\"hovertemplate\":\"\\u00c1rea=%{x}\\u003cbr\\u003eTotal=%{y:.0f}\\u003cbr\\u003eWeapon=%{customdata[0]}\\u003cextra\\u003e\\u003c\\u002fextra\\u003e\",\"legendgroup\":\"Pacific\",\"marker\":{\"color\":\"#00cc96\",\"pattern\":{\"shape\":\"\"}},\"name\":\"Pacific\",\"offsetgroup\":\"Pacific\",\"orientation\":\"v\",\"showlegend\":true,\"textposition\":\"auto\",\"x\":[\"Pacific\"],\"xaxis\":\"x\",\"y\":[7208],\"yaxis\":\"y\",\"type\":\"bar\"},{\"alignmentgroup\":\"True\",\"customdata\":[[\"STRONG-ARM (HANDS, FIST, FEET OR BODILY FORCE)\"]],\"hovertemplate\":\"\\u00c1rea=%{x}\\u003cbr\\u003eTotal=%{y:.0f}\\u003cbr\\u003eWeapon=%{customdata[0]}\\u003cextra\\u003e\\u003c\\u002fextra\\u003e\",\"legendgroup\":\"Rampart\",\"marker\":{\"color\":\"#ab63fa\",\"pattern\":{\"shape\":\"\"}},\"name\":\"Rampart\",\"offsetgroup\":\"Rampart\",\"orientation\":\"v\",\"showlegend\":true,\"textposition\":\"auto\",\"x\":[\"Rampart\"],\"xaxis\":\"x\",\"y\":[9538],\"yaxis\":\"y\",\"type\":\"bar\"},{\"alignmentgroup\":\"True\",\"customdata\":[[\"STRONG-ARM (HANDS, FIST, FEET OR BODILY FORCE)\"]],\"hovertemplate\":\"\\u00c1rea=%{x}\\u003cbr\\u003eTotal=%{y:.0f}\\u003cbr\\u003eWeapon=%{customdata[0]}\\u003cextra\\u003e\\u003c\\u002fextra\\u003e\",\"legendgroup\":\"Southeast\",\"marker\":{\"color\":\"#FFA15A\",\"pattern\":{\"shape\":\"\"}},\"name\":\"Southeast\",\"offsetgroup\":\"Southeast\",\"orientation\":\"v\",\"showlegend\":true,\"textposition\":\"auto\",\"x\":[\"Southeast\"],\"xaxis\":\"x\",\"y\":[11096],\"yaxis\":\"y\",\"type\":\"bar\"},{\"alignmentgroup\":\"True\",\"customdata\":[[\"STRONG-ARM (HANDS, FIST, FEET OR BODILY FORCE)\"]],\"hovertemplate\":\"\\u00c1rea=%{x}\\u003cbr\\u003eTotal=%{y:.0f}\\u003cbr\\u003eWeapon=%{customdata[0]}\\u003cextra\\u003e\\u003c\\u002fextra\\u003e\",\"legendgroup\":\"Southwest\",\"marker\":{\"color\":\"#19d3f3\",\"pattern\":{\"shape\":\"\"}},\"name\":\"Southwest\",\"offsetgroup\":\"Southwest\",\"orientation\":\"v\",\"showlegend\":true,\"textposition\":\"auto\",\"x\":[\"Southwest\"],\"xaxis\":\"x\",\"y\":[10975],\"yaxis\":\"y\",\"type\":\"bar\"},{\"alignmentgroup\":\"True\",\"customdata\":[[\"STRONG-ARM (HANDS, FIST, FEET OR BODILY FORCE)\"]],\"hovertemplate\":\"\\u00c1rea=%{x}\\u003cbr\\u003eTotal=%{y:.0f}\\u003cbr\\u003eWeapon=%{customdata[0]}\\u003cextra\\u003e\\u003c\\u002fextra\\u003e\",\"legendgroup\":\"Topanga\",\"marker\":{\"color\":\"#FF6692\",\"pattern\":{\"shape\":\"\"}},\"name\":\"Topanga\",\"offsetgroup\":\"Topanga\",\"orientation\":\"v\",\"showlegend\":true,\"textposition\":\"auto\",\"x\":[\"Topanga\"],\"xaxis\":\"x\",\"y\":[6422],\"yaxis\":\"y\",\"type\":\"bar\"},{\"alignmentgroup\":\"True\",\"customdata\":[[\"STRONG-ARM (HANDS, FIST, FEET OR BODILY FORCE)\"]],\"hovertemplate\":\"\\u00c1rea=%{x}\\u003cbr\\u003eTotal=%{y:.0f}\\u003cbr\\u003eWeapon=%{customdata[0]}\\u003cextra\\u003e\\u003c\\u002fextra\\u003e\",\"legendgroup\":\"Van Nuys\",\"marker\":{\"color\":\"#B6E880\",\"pattern\":{\"shape\":\"\"}},\"name\":\"Van Nuys\",\"offsetgroup\":\"Van Nuys\",\"orientation\":\"v\",\"showlegend\":true,\"textposition\":\"auto\",\"x\":[\"Van Nuys\"],\"xaxis\":\"x\",\"y\":[6539],\"yaxis\":\"y\",\"type\":\"bar\"},{\"alignmentgroup\":\"True\",\"customdata\":[[\"STRONG-ARM (HANDS, FIST, FEET OR BODILY FORCE)\"]],\"hovertemplate\":\"\\u00c1rea=%{x}\\u003cbr\\u003eTotal=%{y:.0f}\\u003cbr\\u003eWeapon=%{customdata[0]}\\u003cextra\\u003e\\u003c\\u002fextra\\u003e\",\"legendgroup\":\"West LA\",\"marker\":{\"color\":\"#FF97FF\",\"pattern\":{\"shape\":\"\"}},\"name\":\"West LA\",\"offsetgroup\":\"West LA\",\"orientation\":\"v\",\"showlegend\":true,\"textposition\":\"auto\",\"x\":[\"West LA\"],\"xaxis\":\"x\",\"y\":[5894],\"yaxis\":\"y\",\"type\":\"bar\"},{\"alignmentgroup\":\"True\",\"customdata\":[[\"STRONG-ARM (HANDS, FIST, FEET OR BODILY FORCE)\"]],\"hovertemplate\":\"\\u00c1rea=%{x}\\u003cbr\\u003eTotal=%{y:.0f}\\u003cbr\\u003eWeapon=%{customdata[0]}\\u003cextra\\u003e\\u003c\\u002fextra\\u003e\",\"legendgroup\":\"West Valley\",\"marker\":{\"color\":\"#FECB52\",\"pattern\":{\"shape\":\"\"}},\"name\":\"West Valley\",\"offsetgroup\":\"West Valley\",\"orientation\":\"v\",\"showlegend\":true,\"textposition\":\"auto\",\"x\":[\"West Valley\"],\"xaxis\":\"x\",\"y\":[6898],\"yaxis\":\"y\",\"type\":\"bar\"},{\"alignmentgroup\":\"True\",\"customdata\":[[\"STRONG-ARM (HANDS, FIST, FEET OR BODILY FORCE)\"]],\"hovertemplate\":\"\\u00c1rea=%{x}\\u003cbr\\u003eTotal=%{y:.0f}\\u003cbr\\u003eWeapon=%{customdata[0]}\\u003cextra\\u003e\\u003c\\u002fextra\\u003e\",\"legendgroup\":\"Wilshire\",\"marker\":{\"color\":\"#636efa\",\"pattern\":{\"shape\":\"\"}},\"name\":\"Wilshire\",\"offsetgroup\":\"Wilshire\",\"orientation\":\"v\",\"showlegend\":true,\"textposition\":\"auto\",\"x\":[\"Wilshire\"],\"xaxis\":\"x\",\"y\":[6450],\"yaxis\":\"y\",\"type\":\"bar\"}],                        {\"template\":{\"data\":{\"histogram2dcontour\":[{\"type\":\"histogram2dcontour\",\"colorbar\":{\"outlinewidth\":0,\"ticks\":\"\"},\"colorscale\":[[0.0,\"#0d0887\"],[0.1111111111111111,\"#46039f\"],[0.2222222222222222,\"#7201a8\"],[0.3333333333333333,\"#9c179e\"],[0.4444444444444444,\"#bd3786\"],[0.5555555555555556,\"#d8576b\"],[0.6666666666666666,\"#ed7953\"],[0.7777777777777778,\"#fb9f3a\"],[0.8888888888888888,\"#fdca26\"],[1.0,\"#f0f921\"]]}],\"choropleth\":[{\"type\":\"choropleth\",\"colorbar\":{\"outlinewidth\":0,\"ticks\":\"\"}}],\"histogram2d\":[{\"type\":\"histogram2d\",\"colorbar\":{\"outlinewidth\":0,\"ticks\":\"\"},\"colorscale\":[[0.0,\"#0d0887\"],[0.1111111111111111,\"#46039f\"],[0.2222222222222222,\"#7201a8\"],[0.3333333333333333,\"#9c179e\"],[0.4444444444444444,\"#bd3786\"],[0.5555555555555556,\"#d8576b\"],[0.6666666666666666,\"#ed7953\"],[0.7777777777777778,\"#fb9f3a\"],[0.8888888888888888,\"#fdca26\"],[1.0,\"#f0f921\"]]}],\"heatmap\":[{\"type\":\"heatmap\",\"colorbar\":{\"outlinewidth\":0,\"ticks\":\"\"},\"colorscale\":[[0.0,\"#0d0887\"],[0.1111111111111111,\"#46039f\"],[0.2222222222222222,\"#7201a8\"],[0.3333333333333333,\"#9c179e\"],[0.4444444444444444,\"#bd3786\"],[0.5555555555555556,\"#d8576b\"],[0.6666666666666666,\"#ed7953\"],[0.7777777777777778,\"#fb9f3a\"],[0.8888888888888888,\"#fdca26\"],[1.0,\"#f0f921\"]]}],\"heatmapgl\":[{\"type\":\"heatmapgl\",\"colorbar\":{\"outlinewidth\":0,\"ticks\":\"\"},\"colorscale\":[[0.0,\"#0d0887\"],[0.1111111111111111,\"#46039f\"],[0.2222222222222222,\"#7201a8\"],[0.3333333333333333,\"#9c179e\"],[0.4444444444444444,\"#bd3786\"],[0.5555555555555556,\"#d8576b\"],[0.6666666666666666,\"#ed7953\"],[0.7777777777777778,\"#fb9f3a\"],[0.8888888888888888,\"#fdca26\"],[1.0,\"#f0f921\"]]}],\"contourcarpet\":[{\"type\":\"contourcarpet\",\"colorbar\":{\"outlinewidth\":0,\"ticks\":\"\"}}],\"contour\":[{\"type\":\"contour\",\"colorbar\":{\"outlinewidth\":0,\"ticks\":\"\"},\"colorscale\":[[0.0,\"#0d0887\"],[0.1111111111111111,\"#46039f\"],[0.2222222222222222,\"#7201a8\"],[0.3333333333333333,\"#9c179e\"],[0.4444444444444444,\"#bd3786\"],[0.5555555555555556,\"#d8576b\"],[0.6666666666666666,\"#ed7953\"],[0.7777777777777778,\"#fb9f3a\"],[0.8888888888888888,\"#fdca26\"],[1.0,\"#f0f921\"]]}],\"surface\":[{\"type\":\"surface\",\"colorbar\":{\"outlinewidth\":0,\"ticks\":\"\"},\"colorscale\":[[0.0,\"#0d0887\"],[0.1111111111111111,\"#46039f\"],[0.2222222222222222,\"#7201a8\"],[0.3333333333333333,\"#9c179e\"],[0.4444444444444444,\"#bd3786\"],[0.5555555555555556,\"#d8576b\"],[0.6666666666666666,\"#ed7953\"],[0.7777777777777778,\"#fb9f3a\"],[0.8888888888888888,\"#fdca26\"],[1.0,\"#f0f921\"]]}],\"mesh3d\":[{\"type\":\"mesh3d\",\"colorbar\":{\"outlinewidth\":0,\"ticks\":\"\"}}],\"scatter\":[{\"fillpattern\":{\"fillmode\":\"overlay\",\"size\":10,\"solidity\":0.2},\"type\":\"scatter\"}],\"parcoords\":[{\"type\":\"parcoords\",\"line\":{\"colorbar\":{\"outlinewidth\":0,\"ticks\":\"\"}}}],\"scatterpolargl\":[{\"type\":\"scatterpolargl\",\"marker\":{\"colorbar\":{\"outlinewidth\":0,\"ticks\":\"\"}}}],\"bar\":[{\"error_x\":{\"color\":\"#2a3f5f\"},\"error_y\":{\"color\":\"#2a3f5f\"},\"marker\":{\"line\":{\"color\":\"#E5ECF6\",\"width\":0.5},\"pattern\":{\"fillmode\":\"overlay\",\"size\":10,\"solidity\":0.2}},\"type\":\"bar\"}],\"scattergeo\":[{\"type\":\"scattergeo\",\"marker\":{\"colorbar\":{\"outlinewidth\":0,\"ticks\":\"\"}}}],\"scatterpolar\":[{\"type\":\"scatterpolar\",\"marker\":{\"colorbar\":{\"outlinewidth\":0,\"ticks\":\"\"}}}],\"histogram\":[{\"marker\":{\"pattern\":{\"fillmode\":\"overlay\",\"size\":10,\"solidity\":0.2}},\"type\":\"histogram\"}],\"scattergl\":[{\"type\":\"scattergl\",\"marker\":{\"colorbar\":{\"outlinewidth\":0,\"ticks\":\"\"}}}],\"scatter3d\":[{\"type\":\"scatter3d\",\"line\":{\"colorbar\":{\"outlinewidth\":0,\"ticks\":\"\"}},\"marker\":{\"colorbar\":{\"outlinewidth\":0,\"ticks\":\"\"}}}],\"scattermapbox\":[{\"type\":\"scattermapbox\",\"marker\":{\"colorbar\":{\"outlinewidth\":0,\"ticks\":\"\"}}}],\"scatterternary\":[{\"type\":\"scatterternary\",\"marker\":{\"colorbar\":{\"outlinewidth\":0,\"ticks\":\"\"}}}],\"scattercarpet\":[{\"type\":\"scattercarpet\",\"marker\":{\"colorbar\":{\"outlinewidth\":0,\"ticks\":\"\"}}}],\"carpet\":[{\"aaxis\":{\"endlinecolor\":\"#2a3f5f\",\"gridcolor\":\"white\",\"linecolor\":\"white\",\"minorgridcolor\":\"white\",\"startlinecolor\":\"#2a3f5f\"},\"baxis\":{\"endlinecolor\":\"#2a3f5f\",\"gridcolor\":\"white\",\"linecolor\":\"white\",\"minorgridcolor\":\"white\",\"startlinecolor\":\"#2a3f5f\"},\"type\":\"carpet\"}],\"table\":[{\"cells\":{\"fill\":{\"color\":\"#EBF0F8\"},\"line\":{\"color\":\"white\"}},\"header\":{\"fill\":{\"color\":\"#C8D4E3\"},\"line\":{\"color\":\"white\"}},\"type\":\"table\"}],\"barpolar\":[{\"marker\":{\"line\":{\"color\":\"#E5ECF6\",\"width\":0.5},\"pattern\":{\"fillmode\":\"overlay\",\"size\":10,\"solidity\":0.2}},\"type\":\"barpolar\"}],\"pie\":[{\"automargin\":true,\"type\":\"pie\"}]},\"layout\":{\"autotypenumbers\":\"strict\",\"colorway\":[\"#636efa\",\"#EF553B\",\"#00cc96\",\"#ab63fa\",\"#FFA15A\",\"#19d3f3\",\"#FF6692\",\"#B6E880\",\"#FF97FF\",\"#FECB52\"],\"font\":{\"color\":\"#2a3f5f\"},\"hovermode\":\"closest\",\"hoverlabel\":{\"align\":\"left\"},\"paper_bgcolor\":\"white\",\"plot_bgcolor\":\"#E5ECF6\",\"polar\":{\"bgcolor\":\"#E5ECF6\",\"angularaxis\":{\"gridcolor\":\"white\",\"linecolor\":\"white\",\"ticks\":\"\"},\"radialaxis\":{\"gridcolor\":\"white\",\"linecolor\":\"white\",\"ticks\":\"\"}},\"ternary\":{\"bgcolor\":\"#E5ECF6\",\"aaxis\":{\"gridcolor\":\"white\",\"linecolor\":\"white\",\"ticks\":\"\"},\"baxis\":{\"gridcolor\":\"white\",\"linecolor\":\"white\",\"ticks\":\"\"},\"caxis\":{\"gridcolor\":\"white\",\"linecolor\":\"white\",\"ticks\":\"\"}},\"coloraxis\":{\"colorbar\":{\"outlinewidth\":0,\"ticks\":\"\"}},\"colorscale\":{\"sequential\":[[0.0,\"#0d0887\"],[0.1111111111111111,\"#46039f\"],[0.2222222222222222,\"#7201a8\"],[0.3333333333333333,\"#9c179e\"],[0.4444444444444444,\"#bd3786\"],[0.5555555555555556,\"#d8576b\"],[0.6666666666666666,\"#ed7953\"],[0.7777777777777778,\"#fb9f3a\"],[0.8888888888888888,\"#fdca26\"],[1.0,\"#f0f921\"]],\"sequentialminus\":[[0.0,\"#0d0887\"],[0.1111111111111111,\"#46039f\"],[0.2222222222222222,\"#7201a8\"],[0.3333333333333333,\"#9c179e\"],[0.4444444444444444,\"#bd3786\"],[0.5555555555555556,\"#d8576b\"],[0.6666666666666666,\"#ed7953\"],[0.7777777777777778,\"#fb9f3a\"],[0.8888888888888888,\"#fdca26\"],[1.0,\"#f0f921\"]],\"diverging\":[[0,\"#8e0152\"],[0.1,\"#c51b7d\"],[0.2,\"#de77ae\"],[0.3,\"#f1b6da\"],[0.4,\"#fde0ef\"],[0.5,\"#f7f7f7\"],[0.6,\"#e6f5d0\"],[0.7,\"#b8e186\"],[0.8,\"#7fbc41\"],[0.9,\"#4d9221\"],[1,\"#276419\"]]},\"xaxis\":{\"gridcolor\":\"white\",\"linecolor\":\"white\",\"ticks\":\"\",\"title\":{\"standoff\":15},\"zerolinecolor\":\"white\",\"automargin\":true,\"zerolinewidth\":2},\"yaxis\":{\"gridcolor\":\"white\",\"linecolor\":\"white\",\"ticks\":\"\",\"title\":{\"standoff\":15},\"zerolinecolor\":\"white\",\"automargin\":true,\"zerolinewidth\":2},\"scene\":{\"xaxis\":{\"backgroundcolor\":\"#E5ECF6\",\"gridcolor\":\"white\",\"linecolor\":\"white\",\"showbackground\":true,\"ticks\":\"\",\"zerolinecolor\":\"white\",\"gridwidth\":2},\"yaxis\":{\"backgroundcolor\":\"#E5ECF6\",\"gridcolor\":\"white\",\"linecolor\":\"white\",\"showbackground\":true,\"ticks\":\"\",\"zerolinecolor\":\"white\",\"gridwidth\":2},\"zaxis\":{\"backgroundcolor\":\"#E5ECF6\",\"gridcolor\":\"white\",\"linecolor\":\"white\",\"showbackground\":true,\"ticks\":\"\",\"zerolinecolor\":\"white\",\"gridwidth\":2}},\"shapedefaults\":{\"line\":{\"color\":\"#2a3f5f\"}},\"annotationdefaults\":{\"arrowcolor\":\"#2a3f5f\",\"arrowhead\":0,\"arrowwidth\":1},\"geo\":{\"bgcolor\":\"white\",\"landcolor\":\"#E5ECF6\",\"subunitcolor\":\"white\",\"showland\":true,\"showlakes\":true,\"lakecolor\":\"white\"},\"title\":{\"x\":0.05},\"mapbox\":{\"style\":\"light\"}}},\"xaxis\":{\"anchor\":\"y\",\"domain\":[0.0,1.0],\"title\":{\"text\":\"\\u00c1rea\"},\"categoryorder\":\"array\",\"categoryarray\":[\"77th Street\",\"Central\",\"Devonshire\",\"Foothill\",\"Harbor\",\"Hollenbeck\",\"Hollywood\",\"Mission\",\"N Hollywood\",\"Newton\",\"Northeast\",\"Olympic\",\"Pacific\",\"Rampart\",\"Southeast\",\"Southwest\",\"Topanga\",\"Van Nuys\",\"West LA\",\"West Valley\",\"Wilshire\"]},\"yaxis\":{\"anchor\":\"x\",\"domain\":[0.0,1.0],\"title\":{\"text\":\"Total\"}},\"legend\":{\"title\":{\"text\":\"\\u00c1rea\"},\"tracegroupgap\":0},\"title\":{\"text\":\"Arma m\\u00e1s utilizada por \\u00e1rea\"},\"barmode\":\"relative\",\"width\":700,\"height\":700},                        {\"responsive\": true}                    ).then(function(){\n",
              "                            \n",
              "var gd = document.getElementById('5de7d543-8b50-446b-a354-6bb8de7d9b79');\n",
              "var x = new MutationObserver(function (mutations, observer) {{\n",
              "        var display = window.getComputedStyle(gd).display;\n",
              "        if (!display || display === 'none') {{\n",
              "            console.log([gd, 'removed!']);\n",
              "            Plotly.purge(gd);\n",
              "            observer.disconnect();\n",
              "        }}\n",
              "}});\n",
              "\n",
              "// Listen for the removal of the full notebook cells\n",
              "var notebookContainer = gd.closest('#notebook-container');\n",
              "if (notebookContainer) {{\n",
              "    x.observe(notebookContainer, {childList: true});\n",
              "}}\n",
              "\n",
              "// Listen for the clearing of the current output cell\n",
              "var outputEl = gd.closest('.output');\n",
              "if (outputEl) {{\n",
              "    x.observe(outputEl, {childList: true});\n",
              "}}\n",
              "\n",
              "                        })                };                            </script>        </div>\n",
              "</body>\n",
              "</html>"
            ]
          },
          "metadata": {}
        }
      ],
      "source": [
        "most_common_weapon_per_area = df.groupby('AREA NAME')['Weapon Desc'].agg(\n",
        "    Weapon=lambda x: x.value_counts().idxmax(),\n",
        "    Amount=lambda x: x.value_counts().max()\n",
        ").reset_index()\n",
        "\n",
        "fig = px.bar(\n",
        "\tmost_common_weapon_per_area,\n",
        "\tx='AREA NAME',\n",
        "\ty='Amount',\n",
        "\ttitle='Arma más utilizada por área',\n",
        "\tlabels={'AREA NAME': 'Área', 'Amount': 'Total'},\n",
        "\tcolor='AREA NAME',\n",
        "\thover_data={'Weapon': True, 'Amount': ':.0f'}\n",
        ")\n",
        "\n",
        "fig.update_layout(width=700, height=700)\n",
        "fig.show()"
      ]
    },
    {
      "cell_type": "markdown",
      "metadata": {
        "id": "huF2nhcOY9KX"
      },
      "source": [
        "### Crímenes por calle y año"
      ]
    },
    {
      "cell_type": "code",
      "execution_count": null,
      "metadata": {
        "colab": {
          "base_uri": "https://localhost:8080/"
        },
        "id": "Xv0WsqpNY9KX",
        "outputId": "80418389-4759-4f86-cf5f-54cd84512d9a"
      },
      "outputs": [
        {
          "output_type": "stream",
          "name": "stdout",
          "text": [
            "En 2020, la calle con más crímenes fue \"6TH ST\" con 332 incidentes.\n",
            "En 2021, la calle con más crímenes fue \"800 N ALAMEDA ST\" con 487 incidentes.\n",
            "En 2022, la calle con más crímenes fue \"10200 SANTA MONICA BL\" con 530 incidentes.\n",
            "En 2023, la calle con más crímenes fue \"11800 SANTA MONICA BL\" con 733 incidentes.\n",
            "En 2024, la calle con más crímenes fue \"700 S FIGUEROA ST\" con 221 incidentes.\n"
          ]
        }
      ],
      "source": [
        "for i in range(len(dates)):\n",
        "    start_date = datetime.strptime(dates[i][0], '%m/%d/%Y').date()\n",
        "    end_date = datetime.strptime(dates[i][1], '%m/%d/%Y').date()\n",
        "\n",
        "    temp_df = filter_df_by_date(df, start_date=start_date, end_date=end_date)\n",
        "    temp_df_counts = temp_df['LOCATION'].value_counts()\n",
        "\n",
        "    street = temp_df_counts.idxmax()\n",
        "    times = temp_df_counts.max()\n",
        "\n",
        "    print(f'En {dates[i][2]}, la calle con más crímenes fue \"{street}\" con {times} incidentes.')"
      ]
    },
    {
      "cell_type": "markdown",
      "metadata": {
        "id": "pSutMM_7Y9KY"
      },
      "source": [
        "### Calle más afectada (en los 4 años)"
      ]
    },
    {
      "cell_type": "code",
      "execution_count": null,
      "metadata": {
        "colab": {
          "base_uri": "https://localhost:8080/"
        },
        "id": "kXnpLbpBY9KY",
        "outputId": "5e08797f-8ec8-43f8-e6e4-77f139d79db9"
      },
      "outputs": [
        {
          "output_type": "stream",
          "name": "stdout",
          "text": [
            "La calle más afectada es \"800 N ALAMEDA ST\" con 1916 incidentes.\n"
          ]
        }
      ],
      "source": [
        "most_affected_street = df['LOCATION'].value_counts().idxmax()\n",
        "amount = df['LOCATION'].value_counts().max()\n",
        "\n",
        "print(f'La calle más afectada es \"{most_affected_street}\" con {amount} incidentes.')"
      ]
    },
    {
      "cell_type": "markdown",
      "metadata": {
        "id": "WzTGvLlvY9KY"
      },
      "source": [
        "### Crímen más cometido por calle y año (en las 20 calles más afectadas)"
      ]
    },
    {
      "cell_type": "code",
      "execution_count": null,
      "metadata": {
        "colab": {
          "base_uri": "https://localhost:8080/",
          "height": 1000
        },
        "id": "Idopyd-uY9KY",
        "outputId": "a80ac9f9-f2a1-4127-b95a-3b4af549c33a"
      },
      "outputs": [
        {
          "output_type": "display_data",
          "data": {
            "text/html": [
              "<html>\n",
              "<head><meta charset=\"utf-8\" /></head>\n",
              "<body>\n",
              "    <div>            <script src=\"https://cdnjs.cloudflare.com/ajax/libs/mathjax/2.7.5/MathJax.js?config=TeX-AMS-MML_SVG\"></script><script type=\"text/javascript\">if (window.MathJax && window.MathJax.Hub && window.MathJax.Hub.Config) {window.MathJax.Hub.Config({SVG: {font: \"STIX-Web\"}});}</script>                <script type=\"text/javascript\">window.PlotlyConfig = {MathJaxConfig: 'local'};</script>\n",
              "        <script charset=\"utf-8\" src=\"https://cdn.plot.ly/plotly-2.35.2.min.js\"></script>                <div id=\"e54210a6-63db-4254-bcb5-0ae4a7082325\" class=\"plotly-graph-div\" style=\"height:1600px; width:1200px;\"></div>            <script type=\"text/javascript\">                                    window.PLOTLYENV=window.PLOTLYENV || {};                                    if (document.getElementById(\"e54210a6-63db-4254-bcb5-0ae4a7082325\")) {                    Plotly.newPlot(                        \"e54210a6-63db-4254-bcb5-0ae4a7082325\",                        [{\"colorscale\":[[0.0,\"rgb(255,255,217)\"],[0.125,\"rgb(237,248,177)\"],[0.25,\"rgb(199,233,180)\"],[0.375,\"rgb(127,205,187)\"],[0.5,\"rgb(65,182,196)\"],[0.625,\"rgb(29,145,192)\"],[0.75,\"rgb(34,94,168)\"],[0.875,\"rgb(37,52,148)\"],[1.0,\"rgb(8,29,88)\"]],\"hoverongaps\":false,\"x\":[\"BUNCO, GRAND THEFT\",\"BUNCO, PETTY THEFT\",\"DEFRAUDING INNKEEPER\\u002fTHEFT OF SERVICES, $950 & UNDER\",\"EMBEZZLEMENT, GRAND THEFT ($950.01 & OVER)\",\"SHOPLIFTING - PETTY THEFT ($950 & UNDER)\",\"SHOPLIFTING-GRAND THEFT ($950.01 & OVER)\",\"THEFT FROM MOTOR VEHICLE - ATTEMPT\",\"THEFT FROM MOTOR VEHICLE - GRAND ($950.01 AND OVER)\",\"THEFT FROM MOTOR VEHICLE - PETTY ($950 & UNDER)\",\"THEFT FROM PERSON - ATTEMPT\",\"THEFT OF IDENTITY\",\"THEFT PLAIN - ATTEMPT\",\"THEFT PLAIN - PETTY ($950 & UNDER)\",\"THEFT, PERSON\",\"THEFT-GRAND ($950.01 & OVER)EXCPT,GUNS,FOWL,LIVESTK,PROD\"],\"y\":[\"100 THE GROVE DR\",\"10200 SANTA MONICA BL\",\"11800 SANTA MONICA BL\",\"5300 LANKERSHIM BL\",\"5TH\",\"600 S ALVARADO ST\",\"6600 TOPANGA CANYON BL\",\"6TH\",\"6TH ST\",\"700 S FIGUEROA ST\",\"7TH\",\"7TH ST\",\"800 N ALAMEDA ST\",\"8TH ST\",\"9300 TAMPA AV\",\"BROADWAY\",\"FIGUEROA ST\",\"HOLLYWOOD\",\"VERMONT AV\",\"WESTERN AV\"],\"z\":[[0,1,0,0,20,10,0,2,2,0,0,0,6,1,10],[0,0,3,1,26,13,0,10,2,0,0,0,6,0,10],[0,0,0,0,3,2,0,0,0,0,1,0,2,0,0],[0,0,0,0,0,0,0,0,0,1,0,0,12,1,3],[0,0,0,0,0,0,0,2,4,0,0,0,8,8,4],[0,0,0,0,2,0,0,0,0,0,1,0,14,4,5],[0,1,0,0,8,13,0,0,5,1,1,1,8,0,5],[0,0,0,0,0,0,0,3,7,0,1,0,15,7,6],[0,0,0,0,0,0,1,6,13,1,0,0,14,6,4],[0,0,0,0,15,2,0,3,3,0,1,0,9,2,5],[0,1,0,0,0,0,0,4,2,1,0,0,14,10,4],[0,1,0,0,0,0,0,7,10,0,0,0,14,8,3],[1,0,1,3,7,0,0,1,1,0,1,1,48,6,8],[0,1,0,0,0,0,0,4,12,0,3,0,7,3,0],[0,0,0,0,76,14,0,0,7,0,0,1,6,0,2],[0,0,0,0,0,0,1,6,3,0,0,0,7,3,3],[0,1,0,0,1,0,0,0,5,0,0,0,4,5,2],[0,0,0,0,0,0,0,3,0,0,3,1,13,6,7],[0,1,0,1,0,0,0,3,7,0,1,0,12,9,6],[1,0,0,0,1,0,0,3,5,1,1,0,4,12,0]],\"zmax\":15,\"zmin\":0,\"type\":\"heatmap\",\"xaxis\":\"x\",\"yaxis\":\"y\"},{\"colorscale\":[[0.0,\"rgb(255,255,217)\"],[0.125,\"rgb(237,248,177)\"],[0.25,\"rgb(199,233,180)\"],[0.375,\"rgb(127,205,187)\"],[0.5,\"rgb(65,182,196)\"],[0.625,\"rgb(29,145,192)\"],[0.75,\"rgb(34,94,168)\"],[0.875,\"rgb(37,52,148)\"],[1.0,\"rgb(8,29,88)\"]],\"hoverongaps\":false,\"x\":[\"BUNCO, GRAND THEFT\",\"BUNCO, PETTY THEFT\",\"DISHONEST EMPLOYEE - GRAND THEFT\",\"EMBEZZLEMENT, GRAND THEFT ($950.01 & OVER)\",\"EMBEZZLEMENT, PETTY THEFT ($950 & UNDER)\",\"SHOPLIFTING - PETTY THEFT ($950 & UNDER)\",\"SHOPLIFTING-GRAND THEFT ($950.01 & OVER)\",\"THEFT FROM MOTOR VEHICLE - ATTEMPT\",\"THEFT FROM MOTOR VEHICLE - GRAND ($950.01 AND OVER)\",\"THEFT FROM MOTOR VEHICLE - PETTY ($950 & UNDER)\",\"THEFT FROM PERSON - ATTEMPT\",\"THEFT OF IDENTITY\",\"THEFT PLAIN - ATTEMPT\",\"THEFT PLAIN - PETTY ($950 & UNDER)\",\"THEFT, PERSON\",\"THEFT-GRAND ($950.01 & OVER)EXCPT,GUNS,FOWL,LIVESTK,PROD\"],\"y\":[\"100 THE GROVE DR\",\"10200 SANTA MONICA BL\",\"11800 SANTA MONICA BL\",\"5300 LANKERSHIM BL\",\"5TH\",\"600 S ALVARADO ST\",\"6600 TOPANGA CANYON BL\",\"6TH\",\"6TH ST\",\"700 S FIGUEROA ST\",\"7TH\",\"7TH ST\",\"800 N ALAMEDA ST\",\"8TH ST\",\"9300 TAMPA AV\",\"BROADWAY\",\"FIGUEROA ST\",\"HOLLYWOOD\",\"VERMONT AV\",\"WESTERN AV\"],\"z\":[[0,1,0,2,0,64,22,0,3,1,0,2,0,39,0,37],[1,1,2,3,0,44,21,0,5,1,0,4,0,20,1,25],[0,0,0,0,0,40,8,0,1,0,0,0,0,16,0,1],[0,0,0,0,0,0,0,0,0,0,0,3,0,13,1,4],[0,0,0,0,0,0,0,0,0,3,0,1,0,13,10,8],[0,0,0,0,0,0,0,0,1,0,0,0,1,13,4,0],[1,0,0,0,0,40,40,1,7,6,0,3,0,11,1,11],[0,0,0,0,0,0,0,0,3,3,0,1,0,10,7,5],[0,1,0,0,0,0,0,0,3,10,1,1,0,17,5,11],[1,0,0,0,0,54,4,0,5,2,0,2,0,62,1,12],[0,0,0,0,0,1,0,0,2,2,1,2,0,18,12,15],[0,0,0,1,0,1,0,0,5,18,0,0,0,19,10,3],[1,2,0,3,0,15,0,0,1,1,0,2,0,76,3,18],[1,0,0,0,0,0,0,1,2,6,0,3,0,9,2,0],[1,0,0,0,1,46,13,0,4,8,0,4,0,8,1,12],[0,0,0,0,0,0,0,1,6,7,0,0,1,7,4,5],[0,0,0,0,0,0,0,0,3,5,0,1,0,7,5,1],[0,1,0,0,0,2,0,0,3,0,0,2,0,11,4,16],[0,0,0,0,0,0,0,0,2,11,0,1,0,10,4,1],[0,0,0,0,0,1,1,0,3,3,0,1,0,9,5,0]],\"zmax\":15,\"zmin\":0,\"type\":\"heatmap\",\"xaxis\":\"x2\",\"yaxis\":\"y2\"},{\"colorscale\":[[0.0,\"rgb(255,255,217)\"],[0.125,\"rgb(237,248,177)\"],[0.25,\"rgb(199,233,180)\"],[0.375,\"rgb(127,205,187)\"],[0.5,\"rgb(65,182,196)\"],[0.625,\"rgb(29,145,192)\"],[0.75,\"rgb(34,94,168)\"],[0.875,\"rgb(37,52,148)\"],[1.0,\"rgb(8,29,88)\"]],\"hoverongaps\":false,\"x\":[\"BUNCO, GRAND THEFT\",\"BUNCO, PETTY THEFT\",\"DEFRAUDING INNKEEPER\\u002fTHEFT OF SERVICES, $950 & UNDER\",\"DISHONEST EMPLOYEE - PETTY THEFT\",\"EMBEZZLEMENT, GRAND THEFT ($950.01 & OVER)\",\"EMBEZZLEMENT, PETTY THEFT ($950 & UNDER)\",\"SHOPLIFTING - PETTY THEFT ($950 & UNDER)\",\"SHOPLIFTING-GRAND THEFT ($950.01 & OVER)\",\"THEFT FROM MOTOR VEHICLE - ATTEMPT\",\"THEFT FROM MOTOR VEHICLE - GRAND ($950.01 AND OVER)\",\"THEFT FROM MOTOR VEHICLE - PETTY ($950 & UNDER)\",\"THEFT FROM PERSON - ATTEMPT\",\"THEFT OF IDENTITY\",\"THEFT PLAIN - ATTEMPT\",\"THEFT PLAIN - PETTY ($950 & UNDER)\",\"THEFT, PERSON\",\"THEFT-GRAND ($950.01 & OVER)EXCPT,GUNS,FOWL,LIVESTK,PROD\"],\"y\":[\"100 THE GROVE DR\",\"10200 SANTA MONICA BL\",\"11800 SANTA MONICA BL\",\"5300 LANKERSHIM BL\",\"5TH\",\"600 S ALVARADO ST\",\"6600 TOPANGA CANYON BL\",\"6TH\",\"6TH ST\",\"700 S FIGUEROA ST\",\"7TH\",\"7TH ST\",\"800 N ALAMEDA ST\",\"8TH ST\",\"9300 TAMPA AV\",\"BROADWAY\",\"FIGUEROA ST\",\"HOLLYWOOD\",\"VERMONT AV\",\"WESTERN AV\"],\"z\":[[0,0,1,0,0,7,224,43,0,2,2,0,5,0,44,4,37],[2,1,1,1,2,3,203,68,0,6,4,0,2,1,43,3,52],[0,0,0,0,2,0,217,28,0,0,0,0,0,0,8,1,5],[0,0,0,0,0,0,2,0,0,2,3,0,0,0,21,4,17],[0,0,0,0,0,0,1,0,0,1,3,0,7,0,27,8,5],[0,0,0,0,0,0,2,0,0,0,0,0,4,0,9,3,1],[0,0,0,0,1,0,36,43,0,10,2,0,3,0,14,2,10],[1,0,0,0,0,0,1,0,0,3,1,1,3,0,12,14,5],[2,0,0,0,0,0,2,0,0,5,12,0,6,0,16,11,5],[0,0,0,0,0,1,228,9,0,4,1,0,2,0,23,2,16],[1,1,0,0,0,0,2,0,0,4,6,0,2,0,14,18,8],[1,1,0,0,0,0,1,0,0,3,7,0,0,1,14,6,13],[0,0,1,0,2,0,2,0,0,1,2,0,4,0,44,6,19],[0,0,0,0,0,0,1,0,0,2,14,0,0,0,9,0,5],[0,2,0,0,2,0,92,30,0,6,4,1,2,0,17,2,21],[0,0,0,0,0,0,0,0,0,6,5,0,1,0,3,8,0],[0,1,0,0,0,1,0,0,0,3,3,0,0,0,8,2,2],[0,2,0,0,1,0,2,0,0,2,2,0,1,0,16,6,15],[0,0,0,0,0,0,0,0,0,1,6,0,0,0,6,5,1],[0,0,0,0,0,0,1,0,1,3,2,0,0,0,8,8,1]],\"zmax\":15,\"zmin\":0,\"type\":\"heatmap\",\"xaxis\":\"x3\",\"yaxis\":\"y3\"},{\"colorscale\":[[0.0,\"rgb(255,255,217)\"],[0.125,\"rgb(237,248,177)\"],[0.25,\"rgb(199,233,180)\"],[0.375,\"rgb(127,205,187)\"],[0.5,\"rgb(65,182,196)\"],[0.625,\"rgb(29,145,192)\"],[0.75,\"rgb(34,94,168)\"],[0.875,\"rgb(37,52,148)\"],[1.0,\"rgb(8,29,88)\"]],\"hoverongaps\":false,\"x\":[\"BUNCO, GRAND THEFT\",\"DEFRAUDING INNKEEPER\\u002fTHEFT OF SERVICES, $950 & UNDER\",\"DISHONEST EMPLOYEE - PETTY THEFT\",\"EMBEZZLEMENT, GRAND THEFT ($950.01 & OVER)\",\"EMBEZZLEMENT, PETTY THEFT ($950 & UNDER)\",\"SHOPLIFTING - PETTY THEFT ($950 & UNDER)\",\"SHOPLIFTING-GRAND THEFT ($950.01 & OVER)\",\"THEFT FROM MOTOR VEHICLE - GRAND ($950.01 AND OVER)\",\"THEFT FROM MOTOR VEHICLE - PETTY ($950 & UNDER)\",\"THEFT OF IDENTITY\",\"THEFT PLAIN - ATTEMPT\",\"THEFT PLAIN - PETTY ($950 & UNDER)\",\"THEFT, COIN MACHINE - GRAND ($950.01 & OVER)\",\"THEFT, PERSON\",\"THEFT-GRAND ($950.01 & OVER)EXCPT,GUNS,FOWL,LIVESTK,PROD\"],\"y\":[\"100 THE GROVE DR\",\"10200 SANTA MONICA BL\",\"11800 SANTA MONICA BL\",\"5300 LANKERSHIM BL\",\"5TH\",\"600 S ALVARADO ST\",\"6600 TOPANGA CANYON BL\",\"6TH\",\"6TH ST\",\"700 S FIGUEROA ST\",\"7TH\",\"7TH ST\",\"800 N ALAMEDA ST\",\"8TH ST\",\"9300 TAMPA AV\",\"BROADWAY\",\"FIGUEROA ST\",\"HOLLYWOOD\",\"VERMONT AV\",\"WESTERN AV\"],\"z\":[[0,1,0,1,1,252,67,4,3,1,0,37,0,3,36],[0,0,0,2,2,201,82,5,4,8,0,57,0,3,55],[1,0,0,0,0,675,22,1,0,0,0,17,0,1,1],[0,1,0,0,0,1,1,1,1,1,1,14,0,2,13],[0,0,0,0,0,0,0,2,3,0,0,11,0,7,3],[0,1,0,0,0,0,0,0,0,4,0,11,0,3,2],[2,0,1,0,0,96,90,9,4,4,0,24,0,8,27],[0,0,0,0,0,0,0,1,6,0,0,8,0,4,8],[2,0,0,0,0,0,0,6,6,0,0,17,0,2,9],[2,0,0,1,0,414,22,2,1,0,0,18,0,0,12],[0,1,0,0,0,1,1,2,7,0,0,7,0,11,9],[0,0,0,0,0,2,0,3,13,0,0,10,0,5,5],[0,2,0,1,0,1,0,1,2,6,1,39,0,3,36],[0,0,0,0,0,0,0,2,7,0,0,4,0,1,7],[0,0,0,3,0,152,63,7,14,3,0,24,1,1,24],[0,0,0,0,0,1,0,4,7,0,0,3,0,6,9],[1,0,0,0,0,0,0,0,3,2,0,4,0,3,3],[0,0,0,0,0,0,0,2,1,1,0,19,0,9,11],[1,1,0,0,0,0,0,4,6,1,0,8,0,12,7],[2,0,0,1,0,1,0,0,4,0,0,6,0,9,2]],\"zmax\":15,\"zmin\":0,\"type\":\"heatmap\",\"xaxis\":\"x4\",\"yaxis\":\"y4\"},{\"colorscale\":[[0.0,\"rgb(255,255,217)\"],[0.125,\"rgb(237,248,177)\"],[0.25,\"rgb(199,233,180)\"],[0.375,\"rgb(127,205,187)\"],[0.5,\"rgb(65,182,196)\"],[0.625,\"rgb(29,145,192)\"],[0.75,\"rgb(34,94,168)\"],[0.875,\"rgb(37,52,148)\"],[1.0,\"rgb(8,29,88)\"]],\"hoverongaps\":false,\"x\":[\"BUNCO, GRAND THEFT\",\"DEFRAUDING INNKEEPER\\u002fTHEFT OF SERVICES, $950 & UNDER\",\"EMBEZZLEMENT, GRAND THEFT ($950.01 & OVER)\",\"EMBEZZLEMENT, PETTY THEFT ($950 & UNDER)\",\"SHOPLIFTING - PETTY THEFT ($950 & UNDER)\",\"SHOPLIFTING-GRAND THEFT ($950.01 & OVER)\",\"THEFT FROM MOTOR VEHICLE - GRAND ($950.01 AND OVER)\",\"THEFT FROM MOTOR VEHICLE - PETTY ($950 & UNDER)\",\"THEFT OF IDENTITY\",\"THEFT PLAIN - ATTEMPT\",\"THEFT PLAIN - PETTY ($950 & UNDER)\",\"THEFT, PERSON\",\"THEFT-GRAND ($950.01 & OVER)EXCPT,GUNS,FOWL,LIVESTK,PROD\"],\"y\":[\"100 THE GROVE DR\",\"10200 SANTA MONICA BL\",\"11800 SANTA MONICA BL\",\"5300 LANKERSHIM BL\",\"5TH\",\"600 S ALVARADO ST\",\"6600 TOPANGA CANYON BL\",\"6TH\",\"6TH ST\",\"700 S FIGUEROA ST\",\"7TH\",\"7TH ST\",\"800 N ALAMEDA ST\",\"8TH ST\",\"9300 TAMPA AV\",\"FIGUEROA ST\",\"HOLLYWOOD\",\"VERMONT AV\",\"WESTERN AV\"],\"z\":[[0,0,0,0,77,23,0,0,0,0,8,1,12],[1,0,0,1,42,24,1,0,0,0,8,0,3],[0,0,0,0,142,12,0,0,0,0,3,0,1],[0,1,0,0,0,0,0,0,0,0,6,0,2],[0,0,0,0,0,0,1,0,0,0,0,0,1],[0,1,0,0,0,0,0,0,0,0,1,0,0],[0,0,0,0,26,9,3,2,2,0,4,0,6],[0,0,0,0,0,0,0,2,0,1,0,0,0],[0,0,0,0,0,0,0,1,0,0,1,1,1],[0,0,0,0,203,1,0,0,0,0,5,0,0],[0,0,0,0,1,0,1,1,0,0,0,0,0],[0,0,0,0,1,0,0,1,0,0,1,0,0],[0,0,0,0,2,0,0,0,0,0,14,0,4],[0,0,0,0,0,0,0,1,0,0,2,1,0],[0,0,0,1,63,24,3,6,1,0,5,0,9],[0,0,0,0,0,0,1,0,0,0,0,0,0],[0,0,0,0,0,0,0,0,0,0,5,3,2],[0,0,0,0,0,0,1,0,0,0,1,5,0],[0,0,1,0,0,0,2,0,0,0,1,0,0]],\"zmax\":15,\"zmin\":0,\"type\":\"heatmap\",\"xaxis\":\"x5\",\"yaxis\":\"y5\"}],                        {\"template\":{\"data\":{\"histogram2dcontour\":[{\"type\":\"histogram2dcontour\",\"colorbar\":{\"outlinewidth\":0,\"ticks\":\"\"},\"colorscale\":[[0.0,\"#0d0887\"],[0.1111111111111111,\"#46039f\"],[0.2222222222222222,\"#7201a8\"],[0.3333333333333333,\"#9c179e\"],[0.4444444444444444,\"#bd3786\"],[0.5555555555555556,\"#d8576b\"],[0.6666666666666666,\"#ed7953\"],[0.7777777777777778,\"#fb9f3a\"],[0.8888888888888888,\"#fdca26\"],[1.0,\"#f0f921\"]]}],\"choropleth\":[{\"type\":\"choropleth\",\"colorbar\":{\"outlinewidth\":0,\"ticks\":\"\"}}],\"histogram2d\":[{\"type\":\"histogram2d\",\"colorbar\":{\"outlinewidth\":0,\"ticks\":\"\"},\"colorscale\":[[0.0,\"#0d0887\"],[0.1111111111111111,\"#46039f\"],[0.2222222222222222,\"#7201a8\"],[0.3333333333333333,\"#9c179e\"],[0.4444444444444444,\"#bd3786\"],[0.5555555555555556,\"#d8576b\"],[0.6666666666666666,\"#ed7953\"],[0.7777777777777778,\"#fb9f3a\"],[0.8888888888888888,\"#fdca26\"],[1.0,\"#f0f921\"]]}],\"heatmap\":[{\"type\":\"heatmap\",\"colorbar\":{\"outlinewidth\":0,\"ticks\":\"\"},\"colorscale\":[[0.0,\"#0d0887\"],[0.1111111111111111,\"#46039f\"],[0.2222222222222222,\"#7201a8\"],[0.3333333333333333,\"#9c179e\"],[0.4444444444444444,\"#bd3786\"],[0.5555555555555556,\"#d8576b\"],[0.6666666666666666,\"#ed7953\"],[0.7777777777777778,\"#fb9f3a\"],[0.8888888888888888,\"#fdca26\"],[1.0,\"#f0f921\"]]}],\"heatmapgl\":[{\"type\":\"heatmapgl\",\"colorbar\":{\"outlinewidth\":0,\"ticks\":\"\"},\"colorscale\":[[0.0,\"#0d0887\"],[0.1111111111111111,\"#46039f\"],[0.2222222222222222,\"#7201a8\"],[0.3333333333333333,\"#9c179e\"],[0.4444444444444444,\"#bd3786\"],[0.5555555555555556,\"#d8576b\"],[0.6666666666666666,\"#ed7953\"],[0.7777777777777778,\"#fb9f3a\"],[0.8888888888888888,\"#fdca26\"],[1.0,\"#f0f921\"]]}],\"contourcarpet\":[{\"type\":\"contourcarpet\",\"colorbar\":{\"outlinewidth\":0,\"ticks\":\"\"}}],\"contour\":[{\"type\":\"contour\",\"colorbar\":{\"outlinewidth\":0,\"ticks\":\"\"},\"colorscale\":[[0.0,\"#0d0887\"],[0.1111111111111111,\"#46039f\"],[0.2222222222222222,\"#7201a8\"],[0.3333333333333333,\"#9c179e\"],[0.4444444444444444,\"#bd3786\"],[0.5555555555555556,\"#d8576b\"],[0.6666666666666666,\"#ed7953\"],[0.7777777777777778,\"#fb9f3a\"],[0.8888888888888888,\"#fdca26\"],[1.0,\"#f0f921\"]]}],\"surface\":[{\"type\":\"surface\",\"colorbar\":{\"outlinewidth\":0,\"ticks\":\"\"},\"colorscale\":[[0.0,\"#0d0887\"],[0.1111111111111111,\"#46039f\"],[0.2222222222222222,\"#7201a8\"],[0.3333333333333333,\"#9c179e\"],[0.4444444444444444,\"#bd3786\"],[0.5555555555555556,\"#d8576b\"],[0.6666666666666666,\"#ed7953\"],[0.7777777777777778,\"#fb9f3a\"],[0.8888888888888888,\"#fdca26\"],[1.0,\"#f0f921\"]]}],\"mesh3d\":[{\"type\":\"mesh3d\",\"colorbar\":{\"outlinewidth\":0,\"ticks\":\"\"}}],\"scatter\":[{\"fillpattern\":{\"fillmode\":\"overlay\",\"size\":10,\"solidity\":0.2},\"type\":\"scatter\"}],\"parcoords\":[{\"type\":\"parcoords\",\"line\":{\"colorbar\":{\"outlinewidth\":0,\"ticks\":\"\"}}}],\"scatterpolargl\":[{\"type\":\"scatterpolargl\",\"marker\":{\"colorbar\":{\"outlinewidth\":0,\"ticks\":\"\"}}}],\"bar\":[{\"error_x\":{\"color\":\"#2a3f5f\"},\"error_y\":{\"color\":\"#2a3f5f\"},\"marker\":{\"line\":{\"color\":\"#E5ECF6\",\"width\":0.5},\"pattern\":{\"fillmode\":\"overlay\",\"size\":10,\"solidity\":0.2}},\"type\":\"bar\"}],\"scattergeo\":[{\"type\":\"scattergeo\",\"marker\":{\"colorbar\":{\"outlinewidth\":0,\"ticks\":\"\"}}}],\"scatterpolar\":[{\"type\":\"scatterpolar\",\"marker\":{\"colorbar\":{\"outlinewidth\":0,\"ticks\":\"\"}}}],\"histogram\":[{\"marker\":{\"pattern\":{\"fillmode\":\"overlay\",\"size\":10,\"solidity\":0.2}},\"type\":\"histogram\"}],\"scattergl\":[{\"type\":\"scattergl\",\"marker\":{\"colorbar\":{\"outlinewidth\":0,\"ticks\":\"\"}}}],\"scatter3d\":[{\"type\":\"scatter3d\",\"line\":{\"colorbar\":{\"outlinewidth\":0,\"ticks\":\"\"}},\"marker\":{\"colorbar\":{\"outlinewidth\":0,\"ticks\":\"\"}}}],\"scattermapbox\":[{\"type\":\"scattermapbox\",\"marker\":{\"colorbar\":{\"outlinewidth\":0,\"ticks\":\"\"}}}],\"scatterternary\":[{\"type\":\"scatterternary\",\"marker\":{\"colorbar\":{\"outlinewidth\":0,\"ticks\":\"\"}}}],\"scattercarpet\":[{\"type\":\"scattercarpet\",\"marker\":{\"colorbar\":{\"outlinewidth\":0,\"ticks\":\"\"}}}],\"carpet\":[{\"aaxis\":{\"endlinecolor\":\"#2a3f5f\",\"gridcolor\":\"white\",\"linecolor\":\"white\",\"minorgridcolor\":\"white\",\"startlinecolor\":\"#2a3f5f\"},\"baxis\":{\"endlinecolor\":\"#2a3f5f\",\"gridcolor\":\"white\",\"linecolor\":\"white\",\"minorgridcolor\":\"white\",\"startlinecolor\":\"#2a3f5f\"},\"type\":\"carpet\"}],\"table\":[{\"cells\":{\"fill\":{\"color\":\"#EBF0F8\"},\"line\":{\"color\":\"white\"}},\"header\":{\"fill\":{\"color\":\"#C8D4E3\"},\"line\":{\"color\":\"white\"}},\"type\":\"table\"}],\"barpolar\":[{\"marker\":{\"line\":{\"color\":\"#E5ECF6\",\"width\":0.5},\"pattern\":{\"fillmode\":\"overlay\",\"size\":10,\"solidity\":0.2}},\"type\":\"barpolar\"}],\"pie\":[{\"automargin\":true,\"type\":\"pie\"}]},\"layout\":{\"autotypenumbers\":\"strict\",\"colorway\":[\"#636efa\",\"#EF553B\",\"#00cc96\",\"#ab63fa\",\"#FFA15A\",\"#19d3f3\",\"#FF6692\",\"#B6E880\",\"#FF97FF\",\"#FECB52\"],\"font\":{\"color\":\"#2a3f5f\"},\"hovermode\":\"closest\",\"hoverlabel\":{\"align\":\"left\"},\"paper_bgcolor\":\"white\",\"plot_bgcolor\":\"#E5ECF6\",\"polar\":{\"bgcolor\":\"#E5ECF6\",\"angularaxis\":{\"gridcolor\":\"white\",\"linecolor\":\"white\",\"ticks\":\"\"},\"radialaxis\":{\"gridcolor\":\"white\",\"linecolor\":\"white\",\"ticks\":\"\"}},\"ternary\":{\"bgcolor\":\"#E5ECF6\",\"aaxis\":{\"gridcolor\":\"white\",\"linecolor\":\"white\",\"ticks\":\"\"},\"baxis\":{\"gridcolor\":\"white\",\"linecolor\":\"white\",\"ticks\":\"\"},\"caxis\":{\"gridcolor\":\"white\",\"linecolor\":\"white\",\"ticks\":\"\"}},\"coloraxis\":{\"colorbar\":{\"outlinewidth\":0,\"ticks\":\"\"}},\"colorscale\":{\"sequential\":[[0.0,\"#0d0887\"],[0.1111111111111111,\"#46039f\"],[0.2222222222222222,\"#7201a8\"],[0.3333333333333333,\"#9c179e\"],[0.4444444444444444,\"#bd3786\"],[0.5555555555555556,\"#d8576b\"],[0.6666666666666666,\"#ed7953\"],[0.7777777777777778,\"#fb9f3a\"],[0.8888888888888888,\"#fdca26\"],[1.0,\"#f0f921\"]],\"sequentialminus\":[[0.0,\"#0d0887\"],[0.1111111111111111,\"#46039f\"],[0.2222222222222222,\"#7201a8\"],[0.3333333333333333,\"#9c179e\"],[0.4444444444444444,\"#bd3786\"],[0.5555555555555556,\"#d8576b\"],[0.6666666666666666,\"#ed7953\"],[0.7777777777777778,\"#fb9f3a\"],[0.8888888888888888,\"#fdca26\"],[1.0,\"#f0f921\"]],\"diverging\":[[0,\"#8e0152\"],[0.1,\"#c51b7d\"],[0.2,\"#de77ae\"],[0.3,\"#f1b6da\"],[0.4,\"#fde0ef\"],[0.5,\"#f7f7f7\"],[0.6,\"#e6f5d0\"],[0.7,\"#b8e186\"],[0.8,\"#7fbc41\"],[0.9,\"#4d9221\"],[1,\"#276419\"]]},\"xaxis\":{\"gridcolor\":\"white\",\"linecolor\":\"white\",\"ticks\":\"\",\"title\":{\"standoff\":15},\"zerolinecolor\":\"white\",\"automargin\":true,\"zerolinewidth\":2},\"yaxis\":{\"gridcolor\":\"white\",\"linecolor\":\"white\",\"ticks\":\"\",\"title\":{\"standoff\":15},\"zerolinecolor\":\"white\",\"automargin\":true,\"zerolinewidth\":2},\"scene\":{\"xaxis\":{\"backgroundcolor\":\"#E5ECF6\",\"gridcolor\":\"white\",\"linecolor\":\"white\",\"showbackground\":true,\"ticks\":\"\",\"zerolinecolor\":\"white\",\"gridwidth\":2},\"yaxis\":{\"backgroundcolor\":\"#E5ECF6\",\"gridcolor\":\"white\",\"linecolor\":\"white\",\"showbackground\":true,\"ticks\":\"\",\"zerolinecolor\":\"white\",\"gridwidth\":2},\"zaxis\":{\"backgroundcolor\":\"#E5ECF6\",\"gridcolor\":\"white\",\"linecolor\":\"white\",\"showbackground\":true,\"ticks\":\"\",\"zerolinecolor\":\"white\",\"gridwidth\":2}},\"shapedefaults\":{\"line\":{\"color\":\"#2a3f5f\"}},\"annotationdefaults\":{\"arrowcolor\":\"#2a3f5f\",\"arrowhead\":0,\"arrowwidth\":1},\"geo\":{\"bgcolor\":\"white\",\"landcolor\":\"#E5ECF6\",\"subunitcolor\":\"white\",\"showland\":true,\"showlakes\":true,\"lakecolor\":\"white\"},\"title\":{\"x\":0.05},\"mapbox\":{\"style\":\"light\"}}},\"xaxis\":{\"anchor\":\"y\",\"domain\":[0.0,0.35],\"tickangle\":-45},\"yaxis\":{\"anchor\":\"x\",\"domain\":[0.8333333333333333,0.9999999999999999]},\"xaxis2\":{\"anchor\":\"y2\",\"domain\":[0.6499999999999999,0.9999999999999999],\"tickangle\":-45},\"yaxis2\":{\"anchor\":\"x2\",\"domain\":[0.8333333333333333,0.9999999999999999]},\"xaxis3\":{\"anchor\":\"y3\",\"domain\":[0.0,0.35],\"tickangle\":-45},\"yaxis3\":{\"anchor\":\"x3\",\"domain\":[0.41666666666666663,0.5833333333333333]},\"xaxis4\":{\"anchor\":\"y4\",\"domain\":[0.6499999999999999,0.9999999999999999],\"tickangle\":-45},\"yaxis4\":{\"anchor\":\"x4\",\"domain\":[0.41666666666666663,0.5833333333333333]},\"xaxis5\":{\"anchor\":\"y5\",\"domain\":[0.0,0.35],\"tickangle\":-45},\"yaxis5\":{\"anchor\":\"x5\",\"domain\":[0.0,0.16666666666666666]},\"xaxis6\":{\"anchor\":\"y6\",\"domain\":[0.6499999999999999,0.9999999999999999],\"tickangle\":-45},\"yaxis6\":{\"anchor\":\"x6\",\"domain\":[0.0,0.16666666666666666]},\"annotations\":[{\"font\":{\"size\":16},\"showarrow\":false,\"text\":\"Cr\\u00edmen m\\u00e1s cometidos por calle en 2020\",\"x\":0.175,\"xanchor\":\"center\",\"xref\":\"paper\",\"y\":0.9999999999999999,\"yanchor\":\"bottom\",\"yref\":\"paper\"},{\"font\":{\"size\":16},\"showarrow\":false,\"text\":\"Cr\\u00edmen m\\u00e1s cometidos por calle en 2021\",\"x\":0.825,\"xanchor\":\"center\",\"xref\":\"paper\",\"y\":0.9999999999999999,\"yanchor\":\"bottom\",\"yref\":\"paper\"},{\"font\":{\"size\":16},\"showarrow\":false,\"text\":\"Cr\\u00edmen m\\u00e1s cometidos por calle en 2022\",\"x\":0.175,\"xanchor\":\"center\",\"xref\":\"paper\",\"y\":0.5833333333333333,\"yanchor\":\"bottom\",\"yref\":\"paper\"},{\"font\":{\"size\":16},\"showarrow\":false,\"text\":\"Cr\\u00edmen m\\u00e1s cometidos por calle en 2023\",\"x\":0.825,\"xanchor\":\"center\",\"xref\":\"paper\",\"y\":0.5833333333333333,\"yanchor\":\"bottom\",\"yref\":\"paper\"},{\"font\":{\"size\":16},\"showarrow\":false,\"text\":\"Cr\\u00edmen m\\u00e1s cometidos por calle en 2024\",\"x\":0.175,\"xanchor\":\"center\",\"xref\":\"paper\",\"y\":0.16666666666666666,\"yanchor\":\"bottom\",\"yref\":\"paper\"}],\"title\":{\"text\":\"Comparativa de cr\\u00edmenes por calle y por a\\u00f1o\"},\"margin\":{\"l\":50,\"r\":50,\"b\":1,\"t\":100},\"font\":{\"size\":10},\"showlegend\":false,\"width\":1200,\"height\":1600},                        {\"responsive\": true}                    ).then(function(){\n",
              "                            \n",
              "var gd = document.getElementById('e54210a6-63db-4254-bcb5-0ae4a7082325');\n",
              "var x = new MutationObserver(function (mutations, observer) {{\n",
              "        var display = window.getComputedStyle(gd).display;\n",
              "        if (!display || display === 'none') {{\n",
              "            console.log([gd, 'removed!']);\n",
              "            Plotly.purge(gd);\n",
              "            observer.disconnect();\n",
              "        }}\n",
              "}});\n",
              "\n",
              "// Listen for the removal of the full notebook cells\n",
              "var notebookContainer = gd.closest('#notebook-container');\n",
              "if (notebookContainer) {{\n",
              "    x.observe(notebookContainer, {childList: true});\n",
              "}}\n",
              "\n",
              "// Listen for the clearing of the current output cell\n",
              "var outputEl = gd.closest('.output');\n",
              "if (outputEl) {{\n",
              "    x.observe(outputEl, {childList: true});\n",
              "}}\n",
              "\n",
              "                        })                };                            </script>        </div>\n",
              "</body>\n",
              "</html>"
            ]
          },
          "metadata": {}
        }
      ],
      "source": [
        "most_affected_streets = df['LOCATION'].value_counts().head(20).index\n",
        "\n",
        "fig = make_subplots(\n",
        "    rows=3, cols=2,\n",
        "    subplot_titles=[f'Crímen más cometidos por calle en {year}' for _, _, year in dates],\n",
        "    vertical_spacing=0.25, horizontal_spacing=0.3\n",
        ")\n",
        "\n",
        "for i in range(len(dates)):\n",
        "    start_date = datetime.strptime(dates[i][0], '%m/%d/%Y').date()\n",
        "    end_date = datetime.strptime(dates[i][1], '%m/%d/%Y').date()\n",
        "\n",
        "    temp_df = filter_df_by_date(df, start_date=start_date, end_date=end_date)\n",
        "    filtered_temp_df = temp_df[temp_df['LOCATION'].isin(most_affected_streets)]\n",
        "\n",
        "    crime_per_location = filtered_temp_df.groupby('LOCATION')['Crm Cd Desc'].agg(\n",
        "        Crime=lambda x: x.value_counts().idxmax(),\n",
        "        Amount=lambda x: x.value_counts().max()\n",
        "    ).reset_index()\n",
        "\n",
        "    heatmap_street_crime = pd.crosstab(\n",
        "        index=filtered_temp_df['LOCATION'],\n",
        "        columns=filtered_temp_df[filtered_temp_df['Crm Cd Desc'].str.contains('THEFT')]['Crm Cd Desc']\n",
        "    )\n",
        "\n",
        "    row, col = divmod(i, 2)\n",
        "\n",
        "\n",
        "    fig.add_trace(\n",
        "        go.Heatmap(\n",
        "            z=heatmap_street_crime.values,\n",
        "            x=heatmap_street_crime.columns,\n",
        "            y=heatmap_street_crime.index,\n",
        "            colorscale='YlGnBu',\n",
        "            zmin=0,\n",
        "            zmax=15,\n",
        "            hoverongaps=False\n",
        "        ),\n",
        "        row=row + 1, col=col + 1\n",
        "    )\n",
        "\n",
        "    fig.update_layout(\n",
        "        title_text='Comparativa de crímenes por calle y por año',\n",
        "        showlegend=False,\n",
        "        width=1200,\n",
        "        height=1600,\n",
        "        margin=dict(l=50, r=50, b=1, t=100),\n",
        "        font=dict(size=10),\n",
        "    )\n",
        "\n",
        "    fig.update_xaxes(tickangle=-45)\n",
        "\n",
        "fig.show()"
      ]
    },
    {
      "cell_type": "markdown",
      "metadata": {
        "id": "y7_2CmMTY9KZ"
      },
      "source": [
        "### Representación en mapa de los robos por calle en 2021"
      ]
    },
    {
      "cell_type": "code",
      "execution_count": null,
      "metadata": {
        "id": "_llIq2gJY9KZ"
      },
      "outputs": [],
      "source": [
        "## Cargamos el mapa de LA\n",
        "\n",
        "la_map  = gpd.read_file(geojson_path)\n",
        "la_map = la_map[['geometry']]\n",
        "m = folium.Map(location=[34.0522, -118.2437], zoom_start=11)"
      ]
    },
    {
      "cell_type": "code",
      "execution_count": null,
      "metadata": {
        "colab": {
          "base_uri": "https://localhost:8080/",
          "height": 1000
        },
        "id": "8UtT6XFQY9Ka",
        "outputId": "1669b7ae-0823-4972-d2b3-1cfad3d00d92"
      },
      "outputs": [
        {
          "output_type": "display_data",
          "data": {
            "text/plain": [
              "<folium.folium.Map at 0x7bed474674c0>"
            ],
            "text/html": [
              "<div style=\"width:100%;\"><div style=\"position:relative;width:100%;height:0;padding-bottom:60%;\"><span style=\"color:#565656\">Make this Notebook Trusted to load map: File -> Trust Notebook</span><iframe srcdoc=\"&lt;!DOCTYPE html&gt;\n",
              "&lt;html&gt;\n",
              "&lt;head&gt;\n",
              "    \n",
              "    &lt;meta http-equiv=&quot;content-type&quot; content=&quot;text/html; charset=UTF-8&quot; /&gt;\n",
              "    \n",
              "        &lt;script&gt;\n",
              "            L_NO_TOUCH = false;\n",
              "            L_DISABLE_3D = false;\n",
              "        &lt;/script&gt;\n",
              "    \n",
              "    &lt;style&gt;html, body {width: 100%;height: 100%;margin: 0;padding: 0;}&lt;/style&gt;\n",
              "    &lt;style&gt;#map {position:absolute;top:0;bottom:0;right:0;left:0;}&lt;/style&gt;\n",
              "    &lt;script src=&quot;https://cdn.jsdelivr.net/npm/leaflet@1.9.3/dist/leaflet.js&quot;&gt;&lt;/script&gt;\n",
              "    &lt;script src=&quot;https://code.jquery.com/jquery-3.7.1.min.js&quot;&gt;&lt;/script&gt;\n",
              "    &lt;script src=&quot;https://cdn.jsdelivr.net/npm/bootstrap@5.2.2/dist/js/bootstrap.bundle.min.js&quot;&gt;&lt;/script&gt;\n",
              "    &lt;script src=&quot;https://cdnjs.cloudflare.com/ajax/libs/Leaflet.awesome-markers/2.0.2/leaflet.awesome-markers.js&quot;&gt;&lt;/script&gt;\n",
              "    &lt;link rel=&quot;stylesheet&quot; href=&quot;https://cdn.jsdelivr.net/npm/leaflet@1.9.3/dist/leaflet.css&quot;/&gt;\n",
              "    &lt;link rel=&quot;stylesheet&quot; href=&quot;https://cdn.jsdelivr.net/npm/bootstrap@5.2.2/dist/css/bootstrap.min.css&quot;/&gt;\n",
              "    &lt;link rel=&quot;stylesheet&quot; href=&quot;https://netdna.bootstrapcdn.com/bootstrap/3.0.0/css/bootstrap-glyphicons.css&quot;/&gt;\n",
              "    &lt;link rel=&quot;stylesheet&quot; href=&quot;https://cdn.jsdelivr.net/npm/@fortawesome/fontawesome-free@6.2.0/css/all.min.css&quot;/&gt;\n",
              "    &lt;link rel=&quot;stylesheet&quot; href=&quot;https://cdnjs.cloudflare.com/ajax/libs/Leaflet.awesome-markers/2.0.2/leaflet.awesome-markers.css&quot;/&gt;\n",
              "    &lt;link rel=&quot;stylesheet&quot; href=&quot;https://cdn.jsdelivr.net/gh/python-visualization/folium/folium/templates/leaflet.awesome.rotate.min.css&quot;/&gt;\n",
              "    \n",
              "            &lt;meta name=&quot;viewport&quot; content=&quot;width=device-width,\n",
              "                initial-scale=1.0, maximum-scale=1.0, user-scalable=no&quot; /&gt;\n",
              "            &lt;style&gt;\n",
              "                #map_1b9a50a6279803ab78f977e6e1d033d6 {\n",
              "                    position: relative;\n",
              "                    width: 100.0%;\n",
              "                    height: 100.0%;\n",
              "                    left: 0.0%;\n",
              "                    top: 0.0%;\n",
              "                }\n",
              "                .leaflet-container { font-size: 1rem; }\n",
              "            &lt;/style&gt;\n",
              "        \n",
              "    &lt;script src=&quot;https://cdn.jsdelivr.net/gh/python-visualization/folium@main/folium/templates/leaflet_heat.min.js&quot;&gt;&lt;/script&gt;\n",
              "&lt;/head&gt;\n",
              "&lt;body&gt;\n",
              "    \n",
              "    \n",
              "            &lt;div class=&quot;folium-map&quot; id=&quot;map_1b9a50a6279803ab78f977e6e1d033d6&quot; &gt;&lt;/div&gt;\n",
              "        \n",
              "&lt;/body&gt;\n",
              "&lt;script&gt;\n",
              "    \n",
              "    \n",
              "            var map_1b9a50a6279803ab78f977e6e1d033d6 = L.map(\n",
              "                &quot;map_1b9a50a6279803ab78f977e6e1d033d6&quot;,\n",
              "                {\n",
              "                    center: [34.0522, -118.2437],\n",
              "                    crs: L.CRS.EPSG3857,\n",
              "                    zoom: 11,\n",
              "                    zoomControl: true,\n",
              "                    preferCanvas: false,\n",
              "                }\n",
              "            );\n",
              "\n",
              "            \n",
              "\n",
              "        \n",
              "    \n",
              "            var tile_layer_a185acf7ec72cd8cfd854e71666d8c56 = L.tileLayer(\n",
              "                &quot;https://tile.openstreetmap.org/{z}/{x}/{y}.png&quot;,\n",
              "                {&quot;attribution&quot;: &quot;\\u0026copy; \\u003ca href=\\&quot;https://www.openstreetmap.org/copyright\\&quot;\\u003eOpenStreetMap\\u003c/a\\u003e contributors&quot;, &quot;detectRetina&quot;: false, &quot;maxNativeZoom&quot;: 19, &quot;maxZoom&quot;: 19, &quot;minZoom&quot;: 0, &quot;noWrap&quot;: false, &quot;opacity&quot;: 1, &quot;subdomains&quot;: &quot;abc&quot;, &quot;tms&quot;: false}\n",
              "            );\n",
              "        \n",
              "    \n",
              "            tile_layer_a185acf7ec72cd8cfd854e71666d8c56.addTo(map_1b9a50a6279803ab78f977e6e1d033d6);\n",
              "        \n",
              "    \n",
              "            var heat_map_612f602ecff7e31bb53ce4af295c765a = L.heatLayer(\n",
              "                [[34.0403, -118.2421], [34.1904, -118.6059], [34.042, -118.2485], [34.0637, -118.2905], [34.0561, -118.2375], [34.0327, -118.309], [34.042, -118.2485], [34.1904, -118.6059], [34.0446, -118.249], [34.0427, -118.4585], [34.244, -118.5583], [34.1904, -118.6059], [34.244, -118.5583], [34.1904, -118.6059], [34.06, -118.42], [34.06, -118.42], [34.1904, -118.6059], [34.0561, -118.2375], [34.0408, -118.2428], [34.0561, -118.2375], [34.0585, -118.2724], [34.0747, -118.3563], [34.244, -118.5583], [34.0561, -118.2375], [34.244, -118.5583], [34.0483, -118.2631], [34.0483, -118.2631], [34.0483, -118.2631], [34.0747, -118.3563], [34.0483, -118.2631], [34.0483, -118.2631], [34.0593, -118.275], [34.0747, -118.3563], [34.0747, -118.3563], [34.0038, -118.2784], [34.0412, -118.2436], [34.0461, -118.2475], [34.0407, -118.2468], [34.0609, -118.278], [34.0496, -118.2603], [34.1015, -118.3415], [34.0747, -118.3563], [34.06, -118.42], [34.244, -118.5583], [34.0427, -118.4585], [34.0561, -118.2375], [34.06, -118.42], [34.0561, -118.2375], [34.0747, -118.3563], [34.0483, -118.2631], [34.167, -118.3759], [34.0403, -118.2421], [34.0561, -118.2375], [34.1904, -118.6059], [34.06, -118.42], [34.0747, -118.3563], [34.06, -118.42], [34.0747, -118.3563], [34.0407, -118.2468], [34.0453, -118.2637], [34.0561, -118.2375], [34.1904, -118.6059], [34.1904, -118.6059], [34.0747, -118.3563], [33.9923, -118.2915], [34.0563, -118.281], [34.0747, -118.3563], [34.244, -118.5583], [34.0736, -118.3563], [34.0427, -118.4585], [34.0445, -118.2523], [33.9997, -118.2849], [34.0561, -118.2375], [34.0352, -118.2389], [34.0487, -118.2553], [34.244, -118.5583], [33.9951, -118.3089], [34.167, -118.3759], [34.0483, -118.2631], [34.0488, -118.2518], [34.06, -118.42], [34.048, -118.2577], [34.0427, -118.4585], [34.0652, -118.2878], [34.0593, -118.275], [34.0909, -118.2917], [34.244, -118.5583], [34.0427, -118.4585], [34.0561, -118.2375], [34.1904, -118.6059], [34.0417, -118.2444], [34.244, -118.5583], [34.0611, -118.4184], [34.0561, -118.2375], [34.0494, -118.2599], [34.0747, -118.3563], [34.0597, -118.2998], [34.1904, -118.6059], [34.0487, -118.2588], [34.0483, -118.2631], [34.0747, -118.3563], [34.06, -118.42], [33.9164, -118.2828], [34.0561, -118.2375], [34.167, -118.3759], [34.06, -118.42], [34.0111, -118.2827], [34.1904, -118.6059], [34.0597, -118.3078], [34.244, -118.5583], [34.0747, -118.3563], [34.0427, -118.4585], [33.7378, -118.2804], [0.0, 0.0], [33.9456, -118.2781], [34.1904, -118.6059], [34.06, -118.42], [34.0427, -118.4585], [34.0561, -118.2375], [34.1904, -118.6059], [34.0483, -118.2631], [34.0453, -118.2499], [34.0636, -118.3004], [34.1904, -118.6059], [34.06, -118.42], [34.244, -118.5583], [34.06, -118.42], [34.0747, -118.3563], [34.0427, -118.4585], [34.0561, -118.2375], [34.0561, -118.2375], [34.0585, -118.2724], [34.0315, -118.2656], [34.0736, -118.3563], [34.0526, -118.3091], [34.0328, -118.2916], [34.06, -118.42], [34.0747, -118.3563], [34.0487, -118.2553], [34.244, -118.5583], [34.1018, -118.2918], [34.0429, -118.2462], [34.06, -118.42], [34.0483, -118.2631], [34.167, -118.3759], [34.0637, -118.2905], [34.0561, -118.2375], [34.0483, -118.2631], [33.9965, -118.2783], [34.0747, -118.3563], [34.0427, -118.4585], [34.06, -118.42], [34.0464, -118.248], [34.06, -118.42], [34.1904, -118.6059], [34.0427, -118.4585], [34.0747, -118.3563], [34.061, -118.2775], [34.1904, -118.6059], [34.0407, -118.2468], [34.0561, -118.2375], [34.1904, -118.6059], [34.0747, -118.3563], [34.1012, -118.2918], [34.0564, -118.2677], [34.0483, -118.2631], [34.0597, -118.2916], [34.0481, -118.2507], [34.0747, -118.3563], [34.0747, -118.3563], [34.0636, -118.3047], [34.244, -118.5583], [34.06, -118.42], [34.244, -118.5583], [34.0427, -118.4585], [34.0597, -118.3053], [34.1904, -118.6059], [34.0483, -118.2631], [34.0483, -118.2631], [34.0561, -118.2375], [34.0483, -118.2631], [34.0981, -118.2055], [34.0382, -118.2345], [34.0597, -118.3091], [34.0747, -118.3563], [34.0635, -118.3091], [34.1904, -118.6059], [34.0561, -118.2375], [34.1016, -118.3387], [34.0736, -118.3563], [34.0466, -118.252], [34.0561, -118.2375], [34.244, -118.5583], [34.064, -118.2375], [34.06, -118.42], [34.1904, -118.6059], [34.1904, -118.6059], [34.0561, -118.2375], [34.0223, -118.2719], [33.9164, -118.2828], [34.0747, -118.3563], [0.0, 0.0], [34.244, -118.5583], [34.0593, -118.275], [34.1904, -118.6059], [34.06, -118.42], [34.1904, -118.6059], [34.06, -118.42], [34.0721, -118.2213], [34.0483, -118.2631], [34.0747, -118.3563], [34.0427, -118.4585], [34.0747, -118.3563], [34.0747, -118.3563], [34.0488, -118.2518], [34.06, -118.42], [34.0561, -118.2375], [34.244, -118.5583], [34.0561, -118.2375], [34.0747, -118.3563], [34.0573, -118.2699], [34.0587, -118.3205], [34.1904, -118.6059], [34.1904, -118.6059], [34.244, -118.5583], [34.06, -118.42], [34.0561, -118.2375], [34.0016, -118.2915], [34.0561, -118.2375], [34.0561, -118.2375], [34.0561, -118.2375], [34.0561, -118.2375], [34.1904, -118.6059], [34.1017, -118.3159], [34.0561, -118.2375], [34.244, -118.5583], [34.0452, -118.2569], [34.244, -118.5583], [34.0593, -118.275], [34.0561, -118.2375], [34.06, -118.42], [34.0435, -118.2471], [34.1015, -118.3434], [34.0496, -118.2603], [34.0483, -118.2631], [34.1904, -118.6059], [34.1904, -118.6059], [34.0573, -118.2832], [34.0483, -118.2631], [34.0561, -118.2375], [34.0593, -118.275], [34.0612, -118.2785], [34.0611, -118.4184], [34.0442, -118.2439], [34.0428, -118.4582], [34.0483, -118.2631], [34.0585, -118.2724], [34.0483, -118.2631], [34.1015, -118.3417], [34.0561, -118.2981], [34.0483, -118.2631], [34.0611, -118.4184], [34.244, -118.5583], [34.0476, -118.2612], [34.1904, -118.6059], [34.1904, -118.6059], [34.0428, -118.4582], [34.1904, -118.6059], [34.0747, -118.3563], [34.0561, -118.2375], [34.1904, -118.6059], [34.1904, -118.6059], [34.0466, -118.252], [34.0747, -118.3563], [34.0427, -118.4585], [34.06, -118.42], [34.0747, -118.3563], [34.0747, -118.3563], [34.06, -118.42], [34.0595, -118.2749], [34.0401, -118.2459], [34.0561, -118.2375], [34.0747, -118.3563], [34.1904, -118.6059], [34.1904, -118.6059], [34.244, -118.5583], [34.0483, -118.2631], [34.0747, -118.3563], [34.042, -118.2485], [34.0747, -118.3563], [34.0747, -118.3563], [34.0368, -118.2412], [34.0054, -118.2827], [34.0561, -118.2375], [34.06, -118.42], [34.244, -118.5583], [34.0561, -118.2375], [34.0595, -118.2749], [34.06, -118.42], [34.0439, -118.2509], [34.06, -118.42], [33.9348, -118.2781], [34.0747, -118.3563], [34.0452, -118.2533], [34.0597, -118.3091], [34.0427, -118.4585], [34.0747, -118.3563], [33.8127, -118.3088], [33.9356, -118.2784], [34.0483, -118.2631], [34.0517, -118.2663], [34.06, -118.42], [34.244, -118.5583], [34.0483, -118.2631], [34.1904, -118.6059], [34.0561, -118.2375], [34.0747, -118.3563], [34.0747, -118.3563], [34.0453, -118.2499], [34.167, -118.3759], [34.0747, -118.3563], [34.0548, -118.2638], [34.0747, -118.3563], [34.0654, -118.3016], [33.9637, -118.2915], [34.0747, -118.3563], [34.0671, -118.3091], [34.1904, -118.6059], [34.06, -118.42], [34.0561, -118.2375], [34.1904, -118.6059], [34.1904, -118.6059], [34.0561, -118.2375], [34.0561, -118.2375], [34.0747, -118.3563], [34.06, -118.42], [34.0445, -118.2523], [34.0747, -118.3563], [34.06, -118.42], [34.0737, -118.2091], [34.244, -118.5583], [34.0578, -118.2916], [34.244, -118.5583], [34.0649, -118.3494], [34.0561, -118.2375], [34.1904, -118.6059], [34.0483, -118.2631], [34.244, -118.5583], [34.06, -118.42], [34.0611, -118.4184], [34.0747, -118.3563], [34.0561, -118.2375], [34.0483, -118.2631], [34.0747, -118.3563], [34.0483, -118.2631], [34.0255, -118.2915], [34.06, -118.42], [33.9423, -118.2916], [34.1904, -118.6059], [34.0548, -118.2638], [34.0747, -118.3563], [34.0611, -118.4184], [34.0461, -118.2475], [34.06, -118.42], [34.0561, -118.2375], [34.0561, -118.2375], [34.244, -118.5583], [34.0598, -118.2755], [34.1904, -118.6059], [34.0561, -118.2375], [34.048, -118.2577], [34.055, -118.2735], [34.022, -118.28], [34.06, -118.42], [34.0763, -118.3092], [34.0636, -118.2992], [34.0747, -118.3563], [34.1017, -118.3224], [34.0818, -118.2917], [34.0483, -118.2631], [34.1015, -118.3415], [34.06, -118.42], [34.0427, -118.4585], [34.06, -118.42], [34.0747, -118.3563], [34.057, -118.2691], [34.1904, -118.6059], [34.0561, -118.2375], [34.0483, -118.2631], [33.7405, -118.2798], [34.0561, -118.2375], [34.1904, -118.6059], [34.0483, -118.2631], [34.244, -118.5583], [34.0561, -118.2375], [34.244, -118.5583], [34.048, -118.2577], [34.0598, -118.2891], [34.06, -118.42], [34.2269, -118.4394], [34.244, -118.5583], [34.0483, -118.2631], [34.0589, -118.2821], [34.06, -118.42], [34.06, -118.42], [34.0561, -118.2375], [34.06, -118.42], [34.0442, -118.2439], [34.0747, -118.3563], [34.0747, -118.3563], [34.0747, -118.3563], [34.0561, -118.2375], [34.0577, -118.2799], [34.0747, -118.3563], [34.0483, -118.2631], [34.0747, -118.3563], [34.057, -118.2691], [34.0412, -118.2474], [34.0747, -118.3563], [34.0597, -118.3009], [34.0483, -118.2631], [34.1904, -118.6059], [34.0439, -118.2479], [34.0425, -118.2493], [34.0747, -118.3563], [34.0421, -118.2405], [34.07, -118.1998], [34.0466, -118.252], [34.1015, -118.3417], [34.1015, -118.3796], [34.244, -118.5583], [33.9455, -118.2826], [34.0854, -118.3091], [34.1904, -118.6059], [34.0747, -118.3563], [34.244, -118.5583], [34.06, -118.42], [33.931, -118.2785], [34.06, -118.42], [34.1904, -118.6059], [34.06, -118.42], [34.0427, -118.4585], [34.0427, -118.4585], [34.244, -118.5583], [34.0473, -118.2566], [34.0747, -118.3563], [34.1904, -118.6059], [34.244, -118.5583], [34.06, -118.42], [34.1904, -118.6059], [34.1016, -118.3267], [34.043, -118.242], [34.0453, -118.2499], [34.0747, -118.3563], [34.0043, -118.2827], [34.1904, -118.6059], [34.06, -118.42], [34.0598, -118.2755], [33.9892, -118.2783], [34.0483, -118.2631], [34.1016, -118.3387], [34.167, -118.3759], [34.06, -118.42], [34.0412, -118.2436], [34.0561, -118.2375], [34.0483, -118.2631], [34.0747, -118.3563], [34.06, -118.42], [34.0483, -118.2631], [34.06, -118.42], [34.0435, -118.2471], [34.06, -118.42], [34.0429, -118.2462], [34.0435, -118.2471], [34.0487, -118.2588], [34.0747, -118.3563], [34.0561, -118.2375], [34.0479, -118.2612], [34.0483, -118.2631], [34.0459, -118.2579], [34.1014, -118.2918], [34.0439, -118.2509], [34.0038, -118.2784], [34.0483, -118.2631], [34.244, -118.5583], [34.034, -118.3133], [34.1017, -118.3224], [34.0407, -118.2468], [34.0595, -118.2749], [34.0427, -118.4585], [33.956, -118.2772], [34.1904, -118.6059], [34.1904, -118.6059], [34.0439, -118.2509], [34.06, -118.42], [34.1904, -118.6059], [34.244, -118.5583], [34.0483, -118.2631], [34.1904, -118.6059], [34.0466, -118.2555], [34.0736, -118.3563], [34.0561, -118.2375], [34.244, -118.5583], [33.9528, -118.2785], [34.244, -118.5583], [34.0038, -118.2784], [34.0496, -118.2603], [34.06, -118.42], [34.1904, -118.6059], [34.1017, -118.3056], [34.244, -118.5583], [34.0483, -118.2631], [34.0636, -118.2916], [34.0427, -118.4585], [34.0488, -118.2518], [34.0256, -118.3089], [34.0483, -118.2631], [34.049, -118.2602], [34.0561, -118.2375], [34.1904, -118.6059], [34.0597, -118.3091], [34.0315, -118.2152], [34.0412, -118.2474], [34.0561, -118.2375], [34.244, -118.5583], [0.0, 0.0], [34.0561, -118.2375], [34.06, -118.42], [34.172, -118.3789], [34.244, -118.5583], [33.9747, -118.2783], [34.0561, -118.2375], [34.048, -118.2577], [34.244, -118.5583], [34.0483, -118.2631], [34.1015, -118.3434], [34.0496, -118.2603], [34.244, -118.5583], [34.0427, -118.4585], [34.0496, -118.2603], [34.0561, -118.2375], [34.1018, -118.3093], [34.244, -118.5583], [34.167, -118.3759], [34.0747, -118.3563], [34.0599, -118.3139], [34.244, -118.5583], [34.0427, -118.4585], [34.0561, -118.2375], [34.0561, -118.2375], [34.0561, -118.2375], [34.06, -118.42], [34.0736, -118.3563], [34.0747, -118.3563], [34.0483, -118.2631], [34.0483, -118.2631], [34.0747, -118.3563], [34.0483, -118.2631], [34.0747, -118.3563], [34.0587, -118.2916], [34.1016, -118.3361], [34.0747, -118.3563], [34.0483, -118.2631], [34.0842, -118.222], [34.0577, -118.302], [34.0459, -118.2579], [34.1904, -118.6059], [34.1016, -118.3452], [34.048, -118.2577], [34.06, -118.42], [34.0561, -118.2375], [34.0747, -118.3563], [34.0736, -118.3563], [34.1018, -118.3093], [34.0427, -118.4585], [34.0636, -118.2941], [34.1016, -118.331], [34.06, -118.42], [34.0747, -118.3563], [34.0561, -118.2375], [34.0483, -118.2631], [34.0481, -118.2507], [34.0747, -118.3563], [34.1904, -118.6059], [33.7379, -118.2814], [34.0483, -118.2631], [34.0747, -118.3563], [34.0483, -118.2631], [34.1904, -118.6059], [34.0947, -118.2877], [34.244, -118.5583], [34.0439, -118.2509], [34.0747, -118.3563], [34.0483, -118.2631], [34.0408, -118.2512], [34.0597, -118.3122], [34.0342, -118.2636], [34.1904, -118.6059], [34.06, -118.42], [34.1904, -118.6059], [34.1904, -118.6059], [34.0509, -118.2916], [34.0428, -118.4582], [34.0593, -118.275], [34.0427, -118.4585], [34.1022, -118.3093], [34.0611, -118.4184], [34.0549, -118.2778], [34.0597, -118.302], [34.0427, -118.4585], [34.0691, -118.2916], [34.244, -118.5583], [34.0427, -118.4585], [34.0345, -118.2301], [34.0427, -118.4585], [34.0481, -118.2507], [34.0483, -118.2631], [34.0483, -118.2631], [34.0483, -118.2631], [34.0483, -118.2631], [34.0352, -118.2389], [34.0561, -118.2375], [34.0747, -118.3563], [34.0561, -118.2375], [34.0747, -118.3563], [34.0439, -118.2479], [34.0428, -118.4582], [34.06, -118.42], [34.0442, -118.2439], [34.0429, -118.2462], [34.0496, -118.2603], [34.244, -118.5583], [34.1904, -118.6059], [34.1904, -118.6059], [34.0483, -118.2631], [33.933, -118.2783], [34.0483, -118.2631], [34.0442, -118.2519], [34.048, -118.2577], [34.1904, -118.6059], [34.06, -118.42], [34.0944, -118.3277], [34.0747, -118.3563], [34.0747, -118.3563], [34.0747, -118.3563], [34.0216, -118.2048], [34.172, -118.3789], [34.0351, -118.2386], [34.244, -118.5583], [34.0483, -118.2631], [34.0747, -118.3563], [34.1904, -118.6059], [34.0513, -118.2561], [34.1016, -118.3267], [34.0597, -118.3031], [34.0403, -118.2421], [34.0611, -118.4184], [34.244, -118.5583], [34.0747, -118.3563], [34.0548, -118.2638], [34.06, -118.42], [34.244, -118.5583], [34.0368, -118.2412], [34.0747, -118.3563], [34.0483, -118.2631], [34.0747, -118.3563], [34.0561, -118.2375], [34.022, -118.28], [34.06, -118.42], [34.0747, -118.3563], [33.7848, -118.2975], [34.0561, -118.2375], [34.0483, -118.2631], [34.0747, -118.3563], [0.0, 0.0], [33.9688, -118.2827], [34.0747, -118.3563], [34.1904, -118.6059], [34.0747, -118.3563], [34.0452, -118.2533], [34.06, -118.42], [34.1904, -118.6059], [34.167, -118.3759], [34.0747, -118.3563], [34.0416, -118.244], [34.0429, -118.2462], [34.0561, -118.2375], [34.06, -118.42], [34.0487, -118.2588], [34.0492, -118.2525], [33.9746, -118.2916], [34.0483, -118.2631], [34.0445, -118.2523], [33.9673, -118.309], [34.1904, -118.6059], [34.0565, -118.2768], [34.0561, -118.2375], [34.0431, -118.2537], [34.0483, -118.2631], [34.0561, -118.2375], [34.0595, -118.2749], [34.0483, -118.2631], [34.1016, -118.3361], [34.1016, -118.3387], [34.244, -118.5583], [34.0432, -118.2504], [34.0604, -118.2393], [34.244, -118.5583], [34.0747, -118.3563], [33.8447, -118.3092], [34.1904, -118.6059], [34.0561, -118.2375], [34.244, -118.5583], [34.0483, -118.2631], [34.0483, -118.2631], [34.244, -118.5583], [34.1904, -118.6059], [34.0428, -118.4582], [0.0, 0.0], [34.0561, -118.2375], [34.1904, -118.6059], [34.0483, -118.2631], [34.0429, -118.2462], [34.0747, -118.3563], [34.1904, -118.6059], [34.06, -118.42], [34.0252, -118.2779], [34.0412, -118.2436], [34.0561, -118.2375], [34.1904, -118.6059], [34.0561, -118.2375], [34.0554, -118.2789], [34.0747, -118.3563], [34.06, -118.42], [34.244, -118.5583], [34.0561, -118.2375], [34.0726, -118.2201], [34.0237, -118.2094], [34.0395, -118.2451], [34.0427, -118.4585], [34.0508, -118.2683], [34.0427, -118.4585], [34.0439, -118.2479], [34.0428, -118.4582], [34.048, -118.2577], [34.0747, -118.3563], [34.0611, -118.4184], [34.244, -118.5583], [34.1904, -118.6059], [34.0483, -118.2631], [34.0155, -118.3089], [34.244, -118.5583], [34.1904, -118.6059], [34.0483, -118.2631], [34.0747, -118.3563], [34.1923, -118.6104], [34.0561, -118.2375], [34.06, -118.42], [34.06, -118.42], [34.0453, -118.2499], [34.1904, -118.6059], [34.0488, -118.2518], [34.0747, -118.3563], [34.244, -118.5583], [34.0747, -118.3563], [34.0083, -118.2827], [33.9846, -118.2915], [34.06, -118.42], [34.244, -118.5583], [34.1023, -118.203], [34.0477, -118.2502], [34.06, -118.42], [34.0427, -118.4585], [34.0483, -118.2631], [34.0561, -118.2375], [34.0483, -118.2631], [34.0593, -118.275], [34.0483, -118.2631], [34.0483, -118.2631], [34.06, -118.42], [34.06, -118.42], [34.0483, -118.2631], [34.0561, -118.2375], [34.1904, -118.6059], [34.0611, -118.4184], [34.1904, -118.6059], [34.244, -118.5583], [34.0561, -118.2375], [34.0747, -118.3563], [34.1042, -118.3093], [34.0561, -118.2375], [34.0483, -118.2631], [34.0255, -118.2915], [34.167, -118.3759], [34.0561, -118.2375], [34.0427, -118.4585], [34.0483, -118.2631], [34.1923, -118.6104], [34.0747, -118.3563], [34.0747, -118.3563], [34.0427, -118.4585], [34.06, -118.42], [34.0617, -118.3091], [33.9709, -118.3112], [34.0427, -118.4585], [33.723, -118.3129], [34.0593, -118.275], [34.0502, -118.2539], [34.0483, -118.2631], [34.0561, -118.2375], [34.0736, -118.3563], [34.0615, -118.2412], [34.1904, -118.6059], [34.244, -118.5583], [34.06, -118.42], [34.06, -118.42], [34.06, -118.42], [34.0483, -118.2631], [34.0561, -118.2375], [34.0747, -118.3563], [34.244, -118.5583], [34.0747, -118.3563], [33.9679, -118.2783], [34.0747, -118.3563], [34.0561, -118.2375], [34.1904, -118.6059], [34.0496, -118.2603], [34.1904, -118.6059], [34.244, -118.5583], [34.0561, -118.2375], [34.167, -118.3759], [34.0747, -118.3563], [34.0351, -118.2386], [34.0442, -118.2439], [34.0483, -118.2631], [34.167, -118.3759], [34.0483, -118.2631], [34.244, -118.5583], [34.0561, -118.2375], [34.0747, -118.3563], [34.1015, -118.3415], [34.0565, -118.2768], [34.0483, -118.2631], [34.0483, -118.2631], [34.0372, -118.2418], [34.1904, -118.6059], [34.0483, -118.2631], [34.0427, -118.4585], [34.0747, -118.3563], [34.0561, -118.2375], [34.0461, -118.2475], [34.06, -118.42], [34.0471, -118.2491], [34.0466, -118.2555], [34.06, -118.42], [34.06, -118.42], [34.0561, -118.2375], [34.0466, -118.259], [34.0747, -118.3563], [34.244, -118.5583], [34.1016, -118.3387], [34.0436, -118.2509], [34.0526, -118.3091], [34.244, -118.5583], [34.0747, -118.3563], [34.167, -118.3759], [34.0593, -118.275], [34.0483, -118.2631], [34.06, -118.42], [34.1904, -118.6059], [34.244, -118.5583], [33.7388, -118.2902], [34.06, -118.42], [34.0747, -118.3563], [34.0747, -118.3563], [34.0598, -118.2941], [34.0425, -118.2493], [34.0561, -118.2375], [34.0747, -118.3563], [34.0483, -118.2631], [34.06, -118.42], [34.0561, -118.2375], [34.0561, -118.2375], [34.0483, -118.2631], [34.0487, -118.2588], [34.0561, -118.2375], [34.06, -118.42], [34.0747, -118.3563], [34.06, -118.42], [34.06, -118.42], [34.0747, -118.3563], [34.0427, -118.4585], [34.1016, -118.3387], [34.0483, -118.2631], [34.0483, -118.2631], [34.0442, -118.2519], [34.0487, -118.2588], [34.244, -118.5583], [34.1017, -118.3238], [34.0561, -118.2375], [34.1018, -118.3093], [34.244, -118.5583], [34.0747, -118.3563], [34.0561, -118.2375], [34.0435, -118.2471], [34.0483, -118.2631], [34.244, -118.5583], [34.0561, -118.2375], [34.0452, -118.2533], [34.043, -118.242], [34.1904, -118.6059], [34.0747, -118.3563], [34.1904, -118.6059], [34.244, -118.5583], [34.0747, -118.3563], [34.244, -118.5583], [34.0483, -118.2631], [34.0483, -118.2631], [34.0427, -118.4585], [34.244, -118.5583], [34.0245, -118.2113], [34.0393, -118.2405], [34.0593, -118.275], [34.0842, -118.222], [34.06, -118.42], [34.0496, -118.2603], [34.1016, -118.331], [34.0747, -118.3563], [34.057, -118.2779], [34.0747, -118.3563], [34.0593, -118.275], [34.1017, -118.3093], [34.0747, -118.3563], [34.0483, -118.2631], [34.0747, -118.3563], [34.244, -118.5583], [34.0561, -118.2375], [34.172, -118.3789], [34.244, -118.5583], [34.06, -118.42], [34.0747, -118.3563], [34.06, -118.42], [34.0561, -118.2375], [34.244, -118.5583], [34.06, -118.42], [34.244, -118.5583], [34.0747, -118.3563], [34.0483, -118.2631], [34.244, -118.5583], [34.0736, -118.3563], [34.1904, -118.6059], [34.0427, -118.4585], [34.0188, -118.2915], [0.0, 0.0], [33.9601, -118.2783], [34.06, -118.42], [34.06, -118.42], [34.0747, -118.3563], [34.1904, -118.6059], [34.0483, -118.2631], [34.0561, -118.2375], [34.0598, -118.2755], [34.0611, -118.4184], [34.244, -118.5583], [34.0561, -118.2375], [34.0747, -118.3563], [34.0747, -118.3563], [34.0747, -118.3563], [34.244, -118.5583], [34.1904, -118.6059], [34.0501, -118.2593], [34.1015, -118.3415], [34.167, -118.3759], [34.06, -118.42], [34.06, -118.42], [34.1904, -118.6059], [34.0747, -118.3563], [34.0747, -118.3563], [34.0502, -118.2539], [34.0483, -118.2631], [34.0483, -118.2631], [34.0747, -118.3563], [34.0747, -118.3563], [34.06, -118.42], [34.0427, -118.4585], [34.1904, -118.6059], [34.0483, -118.2631], [34.0496, -118.2603], [34.0483, -118.2631], [34.0483, -118.2631], [34.06, -118.42], [34.0439, -118.2509], [34.0585, -118.2725], [34.0611, -118.4184], [34.0593, -118.275], [34.1016, -118.3267], [34.0427, -118.4585], [34.0427, -118.4585], [33.9469, -118.2772], [34.1016, -118.3387], [34.1904, -118.6059], [34.1904, -118.6059], [34.0483, -118.2631], [34.0483, -118.2631], [34.1016, -118.3374], [34.0561, -118.2375], [34.1904, -118.6059], [34.0351, -118.2386], [34.0747, -118.3563], [34.0483, -118.2631], [34.06, -118.42], [34.172, -118.3789], [34.244, -118.5583], [34.0747, -118.3563], [34.1904, -118.6059], [33.9601, -118.2827], [34.0439, -118.2479], [34.0561, -118.2375], [34.0439, -118.2479], [34.0561, -118.2375], [34.1904, -118.6059], [34.0256, -118.3089], [34.0747, -118.3563], [34.06, -118.42], [34.06, -118.42], [34.0427, -118.4585], [34.0483, -118.2631], [34.06, -118.42], [34.0763, -118.2917], [34.0747, -118.3563], [34.0073, -118.2894], [34.0561, -118.2375], [34.0747, -118.3563], [34.0445, -118.2523], [34.1904, -118.6059], [34.1904, -118.6059], [34.0747, -118.3563], [34.0991, -118.2918], [34.0492, -118.2525], [34.0401, -118.2459], [34.0747, -118.3563], [34.0483, -118.2631], [34.1904, -118.6059], [34.0483, -118.2631], [33.9993, -118.3244], [34.0561, -118.2375], [34.0635, -118.3141], [34.244, -118.5583], [34.0483, -118.2631], [34.0649, -118.3472], [34.06, -118.42], [34.0561, -118.2375], [33.9638, -118.2629], [34.0428, -118.4582], [34.244, -118.5583], [34.0483, -118.2631], [34.0407, -118.2468], [34.0736, -118.3563], [34.0636, -118.2979], [34.0428, -118.4582], [34.0474, -118.2496], [34.0412, -118.2474], [34.0561, -118.2375], [34.0449, -118.2528], [34.0736, -118.3563], [34.0595, -118.2749], [34.1904, -118.6059], [33.9906, -118.2783], [34.0547, -118.2772], [34.0561, -118.2375], [34.1904, -118.6059], [34.0611, -118.4184], [34.0279, -118.219], [34.1904, -118.6059], [34.0453, -118.249], [34.0736, -118.3563], [34.0736, -118.3563], [34.0599, -118.3143], [34.244, -118.5583], [34.0483, -118.2631], [34.0428, -118.4582], [34.0611, -118.4184], [34.0481, -118.2507], [34.244, -118.5583], [34.244, -118.5583], [34.0736, -118.3563], [34.1904, -118.6059], [34.0494, -118.2599], [34.1904, -118.6059], [34.0736, -118.3563], [33.96, -118.2918], [34.1904, -118.6059], [34.0428, -118.4582], [34.0428, -118.4582], [34.079, -118.2917], [34.0561, -118.2375], [34.0728, -118.2878], [34.1904, -118.6059], [34.0483, -118.2631], [34.1018, -118.3093], [34.167, -118.3759], [34.0483, -118.2631], [34.0635, -118.3066], [34.0428, -118.4582], [34.0442, -118.2519], [34.0428, -118.4582], [34.0561, -118.2375], [34.0428, -118.4582], [34.0736, -118.3563], [34.0736, -118.3563], [34.0428, -118.4582], [34.0611, -118.4184], [34.0736, -118.3563], [34.0368, -118.2412], [34.0483, -118.2631], [34.0466, -118.252], [34.0428, -118.4582], [34.042, -118.2485], [34.0483, -118.2631], [33.9637, -118.2916], [34.0417, -118.2444], [34.0561, -118.2375], [34.0466, -118.252], [34.244, -118.5583], [34.0736, -118.3563], [34.1923, -118.6104], [34.0483, -118.2631], [34.167, -118.3759], [34.0483, -118.2631], [34.0473, -118.2566], [34.244, -118.5583], [34.0736, -118.3563], [34.0558, -118.2436], [34.1904, -118.6059], [34.0481, -118.2507], [34.244, -118.5583], [34.0428, -118.4582], [34.1904, -118.6059], [34.0611, -118.4184], [33.9437, -118.2784], [34.0483, -118.2631], [34.0483, -118.2631], [34.0429, -118.2462], [34.0483, -118.2631], [34.1904, -118.6059], [34.0615, -118.2412], [34.0428, -118.4582], [34.0595, -118.2749], [34.0483, -118.2631], [34.0483, -118.2631], [34.0483, -118.2631], [34.0221, -118.2915], [34.0483, -118.2631], [34.0636, -118.2966], [34.048, -118.2588], [34.0496, -118.2603], [34.0483, -118.2631], [34.0483, -118.2631], [34.244, -118.5583], [34.172, -118.3789], [34.0483, -118.2631], [34.0611, -118.4184], [34.0736, -118.3563], [34.0483, -118.2631], [34.0736, -118.3563], [34.061, -118.2775], [34.0452, -118.2569], [33.9892, -118.2783], [34.0483, -118.2631], [34.0561, -118.2375], [34.0736, -118.3563], [34.0561, -118.2375], [34.0595, -118.2749], [34.0428, -118.4582], [34.1904, -118.6059], [34.0561, -118.2375], [34.0483, -118.2631], [34.0736, -118.3563], [34.1904, -118.6059], [34.0736, -118.3563], [34.0435, -118.2427], [34.0459, -118.2579], [34.0736, -118.3563], [34.0611, -118.4184], [34.0611, -118.4184], [33.9995, -118.2893], [34.0561, -118.2375], [34.244, -118.5583], [34.0736, -118.3563], [34.167, -118.3759], [34.0561, -118.2375], [34.0561, -118.2375], [34.0483, -118.2631], [34.0611, -118.4184], [34.244, -118.5583], [34.1904, -118.6059], [34.0736, -118.3563], [34.0483, -118.2631], [34.244, -118.5583], [33.7925, -118.3075], [34.0611, -118.4184], [33.9824, -118.2827], [34.0597, -118.2998], [34.0483, -118.2631], [34.0736, -118.3563], [34.0428, -118.4582], [34.0611, -118.4184], [34.0597, -118.3091], [34.0428, -118.4582], [34.0561, -118.2375], [34.1276, -118.1872], [34.0483, -118.2631], [34.0481, -118.2507], [34.0428, -118.4582], [34.0615, -118.2412], [34.1904, -118.6059], [34.0595, -118.2749], [34.0611, -118.4184], [34.0736, -118.3563], [34.0412, -118.2436], [34.0598, -118.2891], [34.0428, -118.4582], [34.0736, -118.3563], [34.048, -118.2577], [34.0382, -118.2345], [34.0736, -118.3563], [34.1016, -118.3267], [34.0446, -118.245], [34.0483, -118.2631], [34.244, -118.5583], [34.0611, -118.4184], [34.0611, -118.4184], [34.0611, -118.4184], [34.0736, -118.3563], [33.9392, -118.2826], [34.0483, -118.2631], [34.0673, -118.2917], [34.0736, -118.3563], [34.1904, -118.6059], [34.0483, -118.2631], [34.0597, -118.3031], [34.0483, -118.2631], [34.0736, -118.3563], [34.0483, -118.2631], [34.1904, -118.6059], [34.0442, -118.2439], [34.0452, -118.2533], [34.0736, -118.3563], [34.0428, -118.4582], [34.0611, -118.4184], [34.0736, -118.3563], [34.0561, -118.2375], [34.244, -118.5583], [34.1904, -118.6059], [34.0329, -118.2182], [34.0466, -118.252], [34.0483, -118.2631], [34.0736, -118.3563], [34.0542, -118.2717], [34.0611, -118.4184], [34.0736, -118.3563], [34.0483, -118.2631], [34.0446, -118.245], [33.9456, -118.2784], [34.0736, -118.3563], [34.244, -118.5583], [34.0611, -118.4184], [34.0428, -118.4582], [34.0483, -118.2631], [34.1904, -118.6059], [34.0483, -118.2631], [34.0736, -118.3563], [34.0595, -118.2749], [34.0561, -118.2375], [34.0483, -118.2631], [34.1904, -118.6059], [34.0408, -118.2428], [34.0459, -118.2579], [34.0579, -118.2711], [34.0483, -118.2631]],\n",
              "                {&quot;blur&quot;: 15, &quot;maxZoom&quot;: 18, &quot;minOpacity&quot;: 0.5, &quot;radius&quot;: 25}\n",
              "            );\n",
              "        \n",
              "    \n",
              "            heat_map_612f602ecff7e31bb53ce4af295c765a.addTo(map_1b9a50a6279803ab78f977e6e1d033d6);\n",
              "        \n",
              "&lt;/script&gt;\n",
              "&lt;/html&gt;\" style=\"position:absolute;width:100%;height:100%;left:0;top:0;border:none !important;\" allowfullscreen webkitallowfullscreen mozallowfullscreen></iframe></div></div>"
            ]
          },
          "metadata": {}
        }
      ],
      "source": [
        "from IPython.display import display\n",
        "\n",
        "start_date = datetime.strptime(dates[1][0], '%m/%d/%Y').date()\n",
        "end_date = datetime.strptime(dates[1][1], '%m/%d/%Y').date()\n",
        "\n",
        "# Filtramos el año 2021\n",
        "year_filtered_df = filter_df_by_date(df, start_date, end_date)\n",
        "\n",
        "# Filtramos por robos (THEFT)\n",
        "crime_filtered_df = filter_df_by_crime(year_filtered_df, 'THEFT')\n",
        "\n",
        "# Filtramos por calle\n",
        "street_filtered_df = crime_filtered_df[crime_filtered_df['LOCATION'].isin(most_affected_streets)].loc[:, ['LAT', 'LON']].dropna().values.tolist()\n",
        "\n",
        "HeatMap(street_filtered_df).add_to(m)\n",
        "display(m)"
      ]
    },
    {
      "cell_type": "markdown",
      "metadata": {
        "id": "RR1g-u0cY9Ka"
      },
      "source": [
        "### Representación en mapa de los robos relacionados con vehiculos por calle en 2021"
      ]
    },
    {
      "cell_type": "code",
      "execution_count": null,
      "metadata": {
        "colab": {
          "base_uri": "https://localhost:8080/",
          "height": 1000
        },
        "id": "tHmNxploY9Ka",
        "outputId": "9786435d-dbfb-4de0-846a-a58ae17bb9ba"
      },
      "outputs": [
        {
          "output_type": "display_data",
          "data": {
            "text/plain": [
              "<folium.folium.Map at 0x7bed474674c0>"
            ],
            "text/html": [
              "<div style=\"width:100%;\"><div style=\"position:relative;width:100%;height:0;padding-bottom:60%;\"><span style=\"color:#565656\">Make this Notebook Trusted to load map: File -> Trust Notebook</span><iframe srcdoc=\"&lt;!DOCTYPE html&gt;\n",
              "&lt;html&gt;\n",
              "&lt;head&gt;\n",
              "    \n",
              "    &lt;meta http-equiv=&quot;content-type&quot; content=&quot;text/html; charset=UTF-8&quot; /&gt;\n",
              "    \n",
              "        &lt;script&gt;\n",
              "            L_NO_TOUCH = false;\n",
              "            L_DISABLE_3D = false;\n",
              "        &lt;/script&gt;\n",
              "    \n",
              "    &lt;style&gt;html, body {width: 100%;height: 100%;margin: 0;padding: 0;}&lt;/style&gt;\n",
              "    &lt;style&gt;#map {position:absolute;top:0;bottom:0;right:0;left:0;}&lt;/style&gt;\n",
              "    &lt;script src=&quot;https://cdn.jsdelivr.net/npm/leaflet@1.9.3/dist/leaflet.js&quot;&gt;&lt;/script&gt;\n",
              "    &lt;script src=&quot;https://code.jquery.com/jquery-3.7.1.min.js&quot;&gt;&lt;/script&gt;\n",
              "    &lt;script src=&quot;https://cdn.jsdelivr.net/npm/bootstrap@5.2.2/dist/js/bootstrap.bundle.min.js&quot;&gt;&lt;/script&gt;\n",
              "    &lt;script src=&quot;https://cdnjs.cloudflare.com/ajax/libs/Leaflet.awesome-markers/2.0.2/leaflet.awesome-markers.js&quot;&gt;&lt;/script&gt;\n",
              "    &lt;link rel=&quot;stylesheet&quot; href=&quot;https://cdn.jsdelivr.net/npm/leaflet@1.9.3/dist/leaflet.css&quot;/&gt;\n",
              "    &lt;link rel=&quot;stylesheet&quot; href=&quot;https://cdn.jsdelivr.net/npm/bootstrap@5.2.2/dist/css/bootstrap.min.css&quot;/&gt;\n",
              "    &lt;link rel=&quot;stylesheet&quot; href=&quot;https://netdna.bootstrapcdn.com/bootstrap/3.0.0/css/bootstrap-glyphicons.css&quot;/&gt;\n",
              "    &lt;link rel=&quot;stylesheet&quot; href=&quot;https://cdn.jsdelivr.net/npm/@fortawesome/fontawesome-free@6.2.0/css/all.min.css&quot;/&gt;\n",
              "    &lt;link rel=&quot;stylesheet&quot; href=&quot;https://cdnjs.cloudflare.com/ajax/libs/Leaflet.awesome-markers/2.0.2/leaflet.awesome-markers.css&quot;/&gt;\n",
              "    &lt;link rel=&quot;stylesheet&quot; href=&quot;https://cdn.jsdelivr.net/gh/python-visualization/folium/folium/templates/leaflet.awesome.rotate.min.css&quot;/&gt;\n",
              "    \n",
              "            &lt;meta name=&quot;viewport&quot; content=&quot;width=device-width,\n",
              "                initial-scale=1.0, maximum-scale=1.0, user-scalable=no&quot; /&gt;\n",
              "            &lt;style&gt;\n",
              "                #map_1b9a50a6279803ab78f977e6e1d033d6 {\n",
              "                    position: relative;\n",
              "                    width: 100.0%;\n",
              "                    height: 100.0%;\n",
              "                    left: 0.0%;\n",
              "                    top: 0.0%;\n",
              "                }\n",
              "                .leaflet-container { font-size: 1rem; }\n",
              "            &lt;/style&gt;\n",
              "        \n",
              "    &lt;script src=&quot;https://cdn.jsdelivr.net/gh/python-visualization/folium@main/folium/templates/leaflet_heat.min.js&quot;&gt;&lt;/script&gt;\n",
              "&lt;/head&gt;\n",
              "&lt;body&gt;\n",
              "    \n",
              "    \n",
              "            &lt;div class=&quot;folium-map&quot; id=&quot;map_1b9a50a6279803ab78f977e6e1d033d6&quot; &gt;&lt;/div&gt;\n",
              "        \n",
              "&lt;/body&gt;\n",
              "&lt;script&gt;\n",
              "    \n",
              "    \n",
              "            var map_1b9a50a6279803ab78f977e6e1d033d6 = L.map(\n",
              "                &quot;map_1b9a50a6279803ab78f977e6e1d033d6&quot;,\n",
              "                {\n",
              "                    center: [34.0522, -118.2437],\n",
              "                    crs: L.CRS.EPSG3857,\n",
              "                    zoom: 11,\n",
              "                    zoomControl: true,\n",
              "                    preferCanvas: false,\n",
              "                }\n",
              "            );\n",
              "\n",
              "            \n",
              "\n",
              "        \n",
              "    \n",
              "            var tile_layer_a185acf7ec72cd8cfd854e71666d8c56 = L.tileLayer(\n",
              "                &quot;https://tile.openstreetmap.org/{z}/{x}/{y}.png&quot;,\n",
              "                {&quot;attribution&quot;: &quot;\\u0026copy; \\u003ca href=\\&quot;https://www.openstreetmap.org/copyright\\&quot;\\u003eOpenStreetMap\\u003c/a\\u003e contributors&quot;, &quot;detectRetina&quot;: false, &quot;maxNativeZoom&quot;: 19, &quot;maxZoom&quot;: 19, &quot;minZoom&quot;: 0, &quot;noWrap&quot;: false, &quot;opacity&quot;: 1, &quot;subdomains&quot;: &quot;abc&quot;, &quot;tms&quot;: false}\n",
              "            );\n",
              "        \n",
              "    \n",
              "            tile_layer_a185acf7ec72cd8cfd854e71666d8c56.addTo(map_1b9a50a6279803ab78f977e6e1d033d6);\n",
              "        \n",
              "    \n",
              "            var heat_map_612f602ecff7e31bb53ce4af295c765a = L.heatLayer(\n",
              "                [[34.0403, -118.2421], [34.1904, -118.6059], [34.042, -118.2485], [34.0637, -118.2905], [34.0561, -118.2375], [34.0327, -118.309], [34.042, -118.2485], [34.1904, -118.6059], [34.0446, -118.249], [34.0427, -118.4585], [34.244, -118.5583], [34.1904, -118.6059], [34.244, -118.5583], [34.1904, -118.6059], [34.06, -118.42], [34.06, -118.42], [34.1904, -118.6059], [34.0561, -118.2375], [34.0408, -118.2428], [34.0561, -118.2375], [34.0585, -118.2724], [34.0747, -118.3563], [34.244, -118.5583], [34.0561, -118.2375], [34.244, -118.5583], [34.0483, -118.2631], [34.0483, -118.2631], [34.0483, -118.2631], [34.0747, -118.3563], [34.0483, -118.2631], [34.0483, -118.2631], [34.0593, -118.275], [34.0747, -118.3563], [34.0747, -118.3563], [34.0038, -118.2784], [34.0412, -118.2436], [34.0461, -118.2475], [34.0407, -118.2468], [34.0609, -118.278], [34.0496, -118.2603], [34.1015, -118.3415], [34.0747, -118.3563], [34.06, -118.42], [34.244, -118.5583], [34.0427, -118.4585], [34.0561, -118.2375], [34.06, -118.42], [34.0561, -118.2375], [34.0747, -118.3563], [34.0483, -118.2631], [34.167, -118.3759], [34.0403, -118.2421], [34.0561, -118.2375], [34.1904, -118.6059], [34.06, -118.42], [34.0747, -118.3563], [34.06, -118.42], [34.0747, -118.3563], [34.0407, -118.2468], [34.0453, -118.2637], [34.0561, -118.2375], [34.1904, -118.6059], [34.1904, -118.6059], [34.0747, -118.3563], [33.9923, -118.2915], [34.0563, -118.281], [34.0747, -118.3563], [34.244, -118.5583], [34.0736, -118.3563], [34.0427, -118.4585], [34.0445, -118.2523], [33.9997, -118.2849], [34.0561, -118.2375], [34.0352, -118.2389], [34.0487, -118.2553], [34.244, -118.5583], [33.9951, -118.3089], [34.167, -118.3759], [34.0483, -118.2631], [34.0488, -118.2518], [34.06, -118.42], [34.048, -118.2577], [34.0427, -118.4585], [34.0652, -118.2878], [34.0593, -118.275], [34.0909, -118.2917], [34.244, -118.5583], [34.0427, -118.4585], [34.0561, -118.2375], [34.1904, -118.6059], [34.0417, -118.2444], [34.244, -118.5583], [34.0611, -118.4184], [34.0561, -118.2375], [34.0494, -118.2599], [34.0747, -118.3563], [34.0597, -118.2998], [34.1904, -118.6059], [34.0487, -118.2588], [34.0483, -118.2631], [34.0747, -118.3563], [34.06, -118.42], [33.9164, -118.2828], [34.0561, -118.2375], [34.167, -118.3759], [34.06, -118.42], [34.0111, -118.2827], [34.1904, -118.6059], [34.0597, -118.3078], [34.244, -118.5583], [34.0747, -118.3563], [34.0427, -118.4585], [33.7378, -118.2804], [0.0, 0.0], [33.9456, -118.2781], [34.1904, -118.6059], [34.06, -118.42], [34.0427, -118.4585], [34.0561, -118.2375], [34.1904, -118.6059], [34.0483, -118.2631], [34.0453, -118.2499], [34.0636, -118.3004], [34.1904, -118.6059], [34.06, -118.42], [34.244, -118.5583], [34.06, -118.42], [34.0747, -118.3563], [34.0427, -118.4585], [34.0561, -118.2375], [34.0561, -118.2375], [34.0585, -118.2724], [34.0315, -118.2656], [34.0736, -118.3563], [34.0526, -118.3091], [34.0328, -118.2916], [34.06, -118.42], [34.0747, -118.3563], [34.0487, -118.2553], [34.244, -118.5583], [34.1018, -118.2918], [34.0429, -118.2462], [34.06, -118.42], [34.0483, -118.2631], [34.167, -118.3759], [34.0637, -118.2905], [34.0561, -118.2375], [34.0483, -118.2631], [33.9965, -118.2783], [34.0747, -118.3563], [34.0427, -118.4585], [34.06, -118.42], [34.0464, -118.248], [34.06, -118.42], [34.1904, -118.6059], [34.0427, -118.4585], [34.0747, -118.3563], [34.061, -118.2775], [34.1904, -118.6059], [34.0407, -118.2468], [34.0561, -118.2375], [34.1904, -118.6059], [34.0747, -118.3563], [34.1012, -118.2918], [34.0564, -118.2677], [34.0483, -118.2631], [34.0597, -118.2916], [34.0481, -118.2507], [34.0747, -118.3563], [34.0747, -118.3563], [34.0636, -118.3047], [34.244, -118.5583], [34.06, -118.42], [34.244, -118.5583], [34.0427, -118.4585], [34.0597, -118.3053], [34.1904, -118.6059], [34.0483, -118.2631], [34.0483, -118.2631], [34.0561, -118.2375], [34.0483, -118.2631], [34.0981, -118.2055], [34.0382, -118.2345], [34.0597, -118.3091], [34.0747, -118.3563], [34.0635, -118.3091], [34.1904, -118.6059], [34.0561, -118.2375], [34.1016, -118.3387], [34.0736, -118.3563], [34.0466, -118.252], [34.0561, -118.2375], [34.244, -118.5583], [34.064, -118.2375], [34.06, -118.42], [34.1904, -118.6059], [34.1904, -118.6059], [34.0561, -118.2375], [34.0223, -118.2719], [33.9164, -118.2828], [34.0747, -118.3563], [0.0, 0.0], [34.244, -118.5583], [34.0593, -118.275], [34.1904, -118.6059], [34.06, -118.42], [34.1904, -118.6059], [34.06, -118.42], [34.0721, -118.2213], [34.0483, -118.2631], [34.0747, -118.3563], [34.0427, -118.4585], [34.0747, -118.3563], [34.0747, -118.3563], [34.0488, -118.2518], [34.06, -118.42], [34.0561, -118.2375], [34.244, -118.5583], [34.0561, -118.2375], [34.0747, -118.3563], [34.0573, -118.2699], [34.0587, -118.3205], [34.1904, -118.6059], [34.1904, -118.6059], [34.244, -118.5583], [34.06, -118.42], [34.0561, -118.2375], [34.0016, -118.2915], [34.0561, -118.2375], [34.0561, -118.2375], [34.0561, -118.2375], [34.0561, -118.2375], [34.1904, -118.6059], [34.1017, -118.3159], [34.0561, -118.2375], [34.244, -118.5583], [34.0452, -118.2569], [34.244, -118.5583], [34.0593, -118.275], [34.0561, -118.2375], [34.06, -118.42], [34.0435, -118.2471], [34.1015, -118.3434], [34.0496, -118.2603], [34.0483, -118.2631], [34.1904, -118.6059], [34.1904, -118.6059], [34.0573, -118.2832], [34.0483, -118.2631], [34.0561, -118.2375], [34.0593, -118.275], [34.0612, -118.2785], [34.0611, -118.4184], [34.0442, -118.2439], [34.0428, -118.4582], [34.0483, -118.2631], [34.0585, -118.2724], [34.0483, -118.2631], [34.1015, -118.3417], [34.0561, -118.2981], [34.0483, -118.2631], [34.0611, -118.4184], [34.244, -118.5583], [34.0476, -118.2612], [34.1904, -118.6059], [34.1904, -118.6059], [34.0428, -118.4582], [34.1904, -118.6059], [34.0747, -118.3563], [34.0561, -118.2375], [34.1904, -118.6059], [34.1904, -118.6059], [34.0466, -118.252], [34.0747, -118.3563], [34.0427, -118.4585], [34.06, -118.42], [34.0747, -118.3563], [34.0747, -118.3563], [34.06, -118.42], [34.0595, -118.2749], [34.0401, -118.2459], [34.0561, -118.2375], [34.0747, -118.3563], [34.1904, -118.6059], [34.1904, -118.6059], [34.244, -118.5583], [34.0483, -118.2631], [34.0747, -118.3563], [34.042, -118.2485], [34.0747, -118.3563], [34.0747, -118.3563], [34.0368, -118.2412], [34.0054, -118.2827], [34.0561, -118.2375], [34.06, -118.42], [34.244, -118.5583], [34.0561, -118.2375], [34.0595, -118.2749], [34.06, -118.42], [34.0439, -118.2509], [34.06, -118.42], [33.9348, -118.2781], [34.0747, -118.3563], [34.0452, -118.2533], [34.0597, -118.3091], [34.0427, -118.4585], [34.0747, -118.3563], [33.8127, -118.3088], [33.9356, -118.2784], [34.0483, -118.2631], [34.0517, -118.2663], [34.06, -118.42], [34.244, -118.5583], [34.0483, -118.2631], [34.1904, -118.6059], [34.0561, -118.2375], [34.0747, -118.3563], [34.0747, -118.3563], [34.0453, -118.2499], [34.167, -118.3759], [34.0747, -118.3563], [34.0548, -118.2638], [34.0747, -118.3563], [34.0654, -118.3016], [33.9637, -118.2915], [34.0747, -118.3563], [34.0671, -118.3091], [34.1904, -118.6059], [34.06, -118.42], [34.0561, -118.2375], [34.1904, -118.6059], [34.1904, -118.6059], [34.0561, -118.2375], [34.0561, -118.2375], [34.0747, -118.3563], [34.06, -118.42], [34.0445, -118.2523], [34.0747, -118.3563], [34.06, -118.42], [34.0737, -118.2091], [34.244, -118.5583], [34.0578, -118.2916], [34.244, -118.5583], [34.0649, -118.3494], [34.0561, -118.2375], [34.1904, -118.6059], [34.0483, -118.2631], [34.244, -118.5583], [34.06, -118.42], [34.0611, -118.4184], [34.0747, -118.3563], [34.0561, -118.2375], [34.0483, -118.2631], [34.0747, -118.3563], [34.0483, -118.2631], [34.0255, -118.2915], [34.06, -118.42], [33.9423, -118.2916], [34.1904, -118.6059], [34.0548, -118.2638], [34.0747, -118.3563], [34.0611, -118.4184], [34.0461, -118.2475], [34.06, -118.42], [34.0561, -118.2375], [34.0561, -118.2375], [34.244, -118.5583], [34.0598, -118.2755], [34.1904, -118.6059], [34.0561, -118.2375], [34.048, -118.2577], [34.055, -118.2735], [34.022, -118.28], [34.06, -118.42], [34.0763, -118.3092], [34.0636, -118.2992], [34.0747, -118.3563], [34.1017, -118.3224], [34.0818, -118.2917], [34.0483, -118.2631], [34.1015, -118.3415], [34.06, -118.42], [34.0427, -118.4585], [34.06, -118.42], [34.0747, -118.3563], [34.057, -118.2691], [34.1904, -118.6059], [34.0561, -118.2375], [34.0483, -118.2631], [33.7405, -118.2798], [34.0561, -118.2375], [34.1904, -118.6059], [34.0483, -118.2631], [34.244, -118.5583], [34.0561, -118.2375], [34.244, -118.5583], [34.048, -118.2577], [34.0598, -118.2891], [34.06, -118.42], [34.2269, -118.4394], [34.244, -118.5583], [34.0483, -118.2631], [34.0589, -118.2821], [34.06, -118.42], [34.06, -118.42], [34.0561, -118.2375], [34.06, -118.42], [34.0442, -118.2439], [34.0747, -118.3563], [34.0747, -118.3563], [34.0747, -118.3563], [34.0561, -118.2375], [34.0577, -118.2799], [34.0747, -118.3563], [34.0483, -118.2631], [34.0747, -118.3563], [34.057, -118.2691], [34.0412, -118.2474], [34.0747, -118.3563], [34.0597, -118.3009], [34.0483, -118.2631], [34.1904, -118.6059], [34.0439, -118.2479], [34.0425, -118.2493], [34.0747, -118.3563], [34.0421, -118.2405], [34.07, -118.1998], [34.0466, -118.252], [34.1015, -118.3417], [34.1015, -118.3796], [34.244, -118.5583], [33.9455, -118.2826], [34.0854, -118.3091], [34.1904, -118.6059], [34.0747, -118.3563], [34.244, -118.5583], [34.06, -118.42], [33.931, -118.2785], [34.06, -118.42], [34.1904, -118.6059], [34.06, -118.42], [34.0427, -118.4585], [34.0427, -118.4585], [34.244, -118.5583], [34.0473, -118.2566], [34.0747, -118.3563], [34.1904, -118.6059], [34.244, -118.5583], [34.06, -118.42], [34.1904, -118.6059], [34.1016, -118.3267], [34.043, -118.242], [34.0453, -118.2499], [34.0747, -118.3563], [34.0043, -118.2827], [34.1904, -118.6059], [34.06, -118.42], [34.0598, -118.2755], [33.9892, -118.2783], [34.0483, -118.2631], [34.1016, -118.3387], [34.167, -118.3759], [34.06, -118.42], [34.0412, -118.2436], [34.0561, -118.2375], [34.0483, -118.2631], [34.0747, -118.3563], [34.06, -118.42], [34.0483, -118.2631], [34.06, -118.42], [34.0435, -118.2471], [34.06, -118.42], [34.0429, -118.2462], [34.0435, -118.2471], [34.0487, -118.2588], [34.0747, -118.3563], [34.0561, -118.2375], [34.0479, -118.2612], [34.0483, -118.2631], [34.0459, -118.2579], [34.1014, -118.2918], [34.0439, -118.2509], [34.0038, -118.2784], [34.0483, -118.2631], [34.244, -118.5583], [34.034, -118.3133], [34.1017, -118.3224], [34.0407, -118.2468], [34.0595, -118.2749], [34.0427, -118.4585], [33.956, -118.2772], [34.1904, -118.6059], [34.1904, -118.6059], [34.0439, -118.2509], [34.06, -118.42], [34.1904, -118.6059], [34.244, -118.5583], [34.0483, -118.2631], [34.1904, -118.6059], [34.0466, -118.2555], [34.0736, -118.3563], [34.0561, -118.2375], [34.244, -118.5583], [33.9528, -118.2785], [34.244, -118.5583], [34.0038, -118.2784], [34.0496, -118.2603], [34.06, -118.42], [34.1904, -118.6059], [34.1017, -118.3056], [34.244, -118.5583], [34.0483, -118.2631], [34.0636, -118.2916], [34.0427, -118.4585], [34.0488, -118.2518], [34.0256, -118.3089], [34.0483, -118.2631], [34.049, -118.2602], [34.0561, -118.2375], [34.1904, -118.6059], [34.0597, -118.3091], [34.0315, -118.2152], [34.0412, -118.2474], [34.0561, -118.2375], [34.244, -118.5583], [0.0, 0.0], [34.0561, -118.2375], [34.06, -118.42], [34.172, -118.3789], [34.244, -118.5583], [33.9747, -118.2783], [34.0561, -118.2375], [34.048, -118.2577], [34.244, -118.5583], [34.0483, -118.2631], [34.1015, -118.3434], [34.0496, -118.2603], [34.244, -118.5583], [34.0427, -118.4585], [34.0496, -118.2603], [34.0561, -118.2375], [34.1018, -118.3093], [34.244, -118.5583], [34.167, -118.3759], [34.0747, -118.3563], [34.0599, -118.3139], [34.244, -118.5583], [34.0427, -118.4585], [34.0561, -118.2375], [34.0561, -118.2375], [34.0561, -118.2375], [34.06, -118.42], [34.0736, -118.3563], [34.0747, -118.3563], [34.0483, -118.2631], [34.0483, -118.2631], [34.0747, -118.3563], [34.0483, -118.2631], [34.0747, -118.3563], [34.0587, -118.2916], [34.1016, -118.3361], [34.0747, -118.3563], [34.0483, -118.2631], [34.0842, -118.222], [34.0577, -118.302], [34.0459, -118.2579], [34.1904, -118.6059], [34.1016, -118.3452], [34.048, -118.2577], [34.06, -118.42], [34.0561, -118.2375], [34.0747, -118.3563], [34.0736, -118.3563], [34.1018, -118.3093], [34.0427, -118.4585], [34.0636, -118.2941], [34.1016, -118.331], [34.06, -118.42], [34.0747, -118.3563], [34.0561, -118.2375], [34.0483, -118.2631], [34.0481, -118.2507], [34.0747, -118.3563], [34.1904, -118.6059], [33.7379, -118.2814], [34.0483, -118.2631], [34.0747, -118.3563], [34.0483, -118.2631], [34.1904, -118.6059], [34.0947, -118.2877], [34.244, -118.5583], [34.0439, -118.2509], [34.0747, -118.3563], [34.0483, -118.2631], [34.0408, -118.2512], [34.0597, -118.3122], [34.0342, -118.2636], [34.1904, -118.6059], [34.06, -118.42], [34.1904, -118.6059], [34.1904, -118.6059], [34.0509, -118.2916], [34.0428, -118.4582], [34.0593, -118.275], [34.0427, -118.4585], [34.1022, -118.3093], [34.0611, -118.4184], [34.0549, -118.2778], [34.0597, -118.302], [34.0427, -118.4585], [34.0691, -118.2916], [34.244, -118.5583], [34.0427, -118.4585], [34.0345, -118.2301], [34.0427, -118.4585], [34.0481, -118.2507], [34.0483, -118.2631], [34.0483, -118.2631], [34.0483, -118.2631], [34.0483, -118.2631], [34.0352, -118.2389], [34.0561, -118.2375], [34.0747, -118.3563], [34.0561, -118.2375], [34.0747, -118.3563], [34.0439, -118.2479], [34.0428, -118.4582], [34.06, -118.42], [34.0442, -118.2439], [34.0429, -118.2462], [34.0496, -118.2603], [34.244, -118.5583], [34.1904, -118.6059], [34.1904, -118.6059], [34.0483, -118.2631], [33.933, -118.2783], [34.0483, -118.2631], [34.0442, -118.2519], [34.048, -118.2577], [34.1904, -118.6059], [34.06, -118.42], [34.0944, -118.3277], [34.0747, -118.3563], [34.0747, -118.3563], [34.0747, -118.3563], [34.0216, -118.2048], [34.172, -118.3789], [34.0351, -118.2386], [34.244, -118.5583], [34.0483, -118.2631], [34.0747, -118.3563], [34.1904, -118.6059], [34.0513, -118.2561], [34.1016, -118.3267], [34.0597, -118.3031], [34.0403, -118.2421], [34.0611, -118.4184], [34.244, -118.5583], [34.0747, -118.3563], [34.0548, -118.2638], [34.06, -118.42], [34.244, -118.5583], [34.0368, -118.2412], [34.0747, -118.3563], [34.0483, -118.2631], [34.0747, -118.3563], [34.0561, -118.2375], [34.022, -118.28], [34.06, -118.42], [34.0747, -118.3563], [33.7848, -118.2975], [34.0561, -118.2375], [34.0483, -118.2631], [34.0747, -118.3563], [0.0, 0.0], [33.9688, -118.2827], [34.0747, -118.3563], [34.1904, -118.6059], [34.0747, -118.3563], [34.0452, -118.2533], [34.06, -118.42], [34.1904, -118.6059], [34.167, -118.3759], [34.0747, -118.3563], [34.0416, -118.244], [34.0429, -118.2462], [34.0561, -118.2375], [34.06, -118.42], [34.0487, -118.2588], [34.0492, -118.2525], [33.9746, -118.2916], [34.0483, -118.2631], [34.0445, -118.2523], [33.9673, -118.309], [34.1904, -118.6059], [34.0565, -118.2768], [34.0561, -118.2375], [34.0431, -118.2537], [34.0483, -118.2631], [34.0561, -118.2375], [34.0595, -118.2749], [34.0483, -118.2631], [34.1016, -118.3361], [34.1016, -118.3387], [34.244, -118.5583], [34.0432, -118.2504], [34.0604, -118.2393], [34.244, -118.5583], [34.0747, -118.3563], [33.8447, -118.3092], [34.1904, -118.6059], [34.0561, -118.2375], [34.244, -118.5583], [34.0483, -118.2631], [34.0483, -118.2631], [34.244, -118.5583], [34.1904, -118.6059], [34.0428, -118.4582], [0.0, 0.0], [34.0561, -118.2375], [34.1904, -118.6059], [34.0483, -118.2631], [34.0429, -118.2462], [34.0747, -118.3563], [34.1904, -118.6059], [34.06, -118.42], [34.0252, -118.2779], [34.0412, -118.2436], [34.0561, -118.2375], [34.1904, -118.6059], [34.0561, -118.2375], [34.0554, -118.2789], [34.0747, -118.3563], [34.06, -118.42], [34.244, -118.5583], [34.0561, -118.2375], [34.0726, -118.2201], [34.0237, -118.2094], [34.0395, -118.2451], [34.0427, -118.4585], [34.0508, -118.2683], [34.0427, -118.4585], [34.0439, -118.2479], [34.0428, -118.4582], [34.048, -118.2577], [34.0747, -118.3563], [34.0611, -118.4184], [34.244, -118.5583], [34.1904, -118.6059], [34.0483, -118.2631], [34.0155, -118.3089], [34.244, -118.5583], [34.1904, -118.6059], [34.0483, -118.2631], [34.0747, -118.3563], [34.1923, -118.6104], [34.0561, -118.2375], [34.06, -118.42], [34.06, -118.42], [34.0453, -118.2499], [34.1904, -118.6059], [34.0488, -118.2518], [34.0747, -118.3563], [34.244, -118.5583], [34.0747, -118.3563], [34.0083, -118.2827], [33.9846, -118.2915], [34.06, -118.42], [34.244, -118.5583], [34.1023, -118.203], [34.0477, -118.2502], [34.06, -118.42], [34.0427, -118.4585], [34.0483, -118.2631], [34.0561, -118.2375], [34.0483, -118.2631], [34.0593, -118.275], [34.0483, -118.2631], [34.0483, -118.2631], [34.06, -118.42], [34.06, -118.42], [34.0483, -118.2631], [34.0561, -118.2375], [34.1904, -118.6059], [34.0611, -118.4184], [34.1904, -118.6059], [34.244, -118.5583], [34.0561, -118.2375], [34.0747, -118.3563], [34.1042, -118.3093], [34.0561, -118.2375], [34.0483, -118.2631], [34.0255, -118.2915], [34.167, -118.3759], [34.0561, -118.2375], [34.0427, -118.4585], [34.0483, -118.2631], [34.1923, -118.6104], [34.0747, -118.3563], [34.0747, -118.3563], [34.0427, -118.4585], [34.06, -118.42], [34.0617, -118.3091], [33.9709, -118.3112], [34.0427, -118.4585], [33.723, -118.3129], [34.0593, -118.275], [34.0502, -118.2539], [34.0483, -118.2631], [34.0561, -118.2375], [34.0736, -118.3563], [34.0615, -118.2412], [34.1904, -118.6059], [34.244, -118.5583], [34.06, -118.42], [34.06, -118.42], [34.06, -118.42], [34.0483, -118.2631], [34.0561, -118.2375], [34.0747, -118.3563], [34.244, -118.5583], [34.0747, -118.3563], [33.9679, -118.2783], [34.0747, -118.3563], [34.0561, -118.2375], [34.1904, -118.6059], [34.0496, -118.2603], [34.1904, -118.6059], [34.244, -118.5583], [34.0561, -118.2375], [34.167, -118.3759], [34.0747, -118.3563], [34.0351, -118.2386], [34.0442, -118.2439], [34.0483, -118.2631], [34.167, -118.3759], [34.0483, -118.2631], [34.244, -118.5583], [34.0561, -118.2375], [34.0747, -118.3563], [34.1015, -118.3415], [34.0565, -118.2768], [34.0483, -118.2631], [34.0483, -118.2631], [34.0372, -118.2418], [34.1904, -118.6059], [34.0483, -118.2631], [34.0427, -118.4585], [34.0747, -118.3563], [34.0561, -118.2375], [34.0461, -118.2475], [34.06, -118.42], [34.0471, -118.2491], [34.0466, -118.2555], [34.06, -118.42], [34.06, -118.42], [34.0561, -118.2375], [34.0466, -118.259], [34.0747, -118.3563], [34.244, -118.5583], [34.1016, -118.3387], [34.0436, -118.2509], [34.0526, -118.3091], [34.244, -118.5583], [34.0747, -118.3563], [34.167, -118.3759], [34.0593, -118.275], [34.0483, -118.2631], [34.06, -118.42], [34.1904, -118.6059], [34.244, -118.5583], [33.7388, -118.2902], [34.06, -118.42], [34.0747, -118.3563], [34.0747, -118.3563], [34.0598, -118.2941], [34.0425, -118.2493], [34.0561, -118.2375], [34.0747, -118.3563], [34.0483, -118.2631], [34.06, -118.42], [34.0561, -118.2375], [34.0561, -118.2375], [34.0483, -118.2631], [34.0487, -118.2588], [34.0561, -118.2375], [34.06, -118.42], [34.0747, -118.3563], [34.06, -118.42], [34.06, -118.42], [34.0747, -118.3563], [34.0427, -118.4585], [34.1016, -118.3387], [34.0483, -118.2631], [34.0483, -118.2631], [34.0442, -118.2519], [34.0487, -118.2588], [34.244, -118.5583], [34.1017, -118.3238], [34.0561, -118.2375], [34.1018, -118.3093], [34.244, -118.5583], [34.0747, -118.3563], [34.0561, -118.2375], [34.0435, -118.2471], [34.0483, -118.2631], [34.244, -118.5583], [34.0561, -118.2375], [34.0452, -118.2533], [34.043, -118.242], [34.1904, -118.6059], [34.0747, -118.3563], [34.1904, -118.6059], [34.244, -118.5583], [34.0747, -118.3563], [34.244, -118.5583], [34.0483, -118.2631], [34.0483, -118.2631], [34.0427, -118.4585], [34.244, -118.5583], [34.0245, -118.2113], [34.0393, -118.2405], [34.0593, -118.275], [34.0842, -118.222], [34.06, -118.42], [34.0496, -118.2603], [34.1016, -118.331], [34.0747, -118.3563], [34.057, -118.2779], [34.0747, -118.3563], [34.0593, -118.275], [34.1017, -118.3093], [34.0747, -118.3563], [34.0483, -118.2631], [34.0747, -118.3563], [34.244, -118.5583], [34.0561, -118.2375], [34.172, -118.3789], [34.244, -118.5583], [34.06, -118.42], [34.0747, -118.3563], [34.06, -118.42], [34.0561, -118.2375], [34.244, -118.5583], [34.06, -118.42], [34.244, -118.5583], [34.0747, -118.3563], [34.0483, -118.2631], [34.244, -118.5583], [34.0736, -118.3563], [34.1904, -118.6059], [34.0427, -118.4585], [34.0188, -118.2915], [0.0, 0.0], [33.9601, -118.2783], [34.06, -118.42], [34.06, -118.42], [34.0747, -118.3563], [34.1904, -118.6059], [34.0483, -118.2631], [34.0561, -118.2375], [34.0598, -118.2755], [34.0611, -118.4184], [34.244, -118.5583], [34.0561, -118.2375], [34.0747, -118.3563], [34.0747, -118.3563], [34.0747, -118.3563], [34.244, -118.5583], [34.1904, -118.6059], [34.0501, -118.2593], [34.1015, -118.3415], [34.167, -118.3759], [34.06, -118.42], [34.06, -118.42], [34.1904, -118.6059], [34.0747, -118.3563], [34.0747, -118.3563], [34.0502, -118.2539], [34.0483, -118.2631], [34.0483, -118.2631], [34.0747, -118.3563], [34.0747, -118.3563], [34.06, -118.42], [34.0427, -118.4585], [34.1904, -118.6059], [34.0483, -118.2631], [34.0496, -118.2603], [34.0483, -118.2631], [34.0483, -118.2631], [34.06, -118.42], [34.0439, -118.2509], [34.0585, -118.2725], [34.0611, -118.4184], [34.0593, -118.275], [34.1016, -118.3267], [34.0427, -118.4585], [34.0427, -118.4585], [33.9469, -118.2772], [34.1016, -118.3387], [34.1904, -118.6059], [34.1904, -118.6059], [34.0483, -118.2631], [34.0483, -118.2631], [34.1016, -118.3374], [34.0561, -118.2375], [34.1904, -118.6059], [34.0351, -118.2386], [34.0747, -118.3563], [34.0483, -118.2631], [34.06, -118.42], [34.172, -118.3789], [34.244, -118.5583], [34.0747, -118.3563], [34.1904, -118.6059], [33.9601, -118.2827], [34.0439, -118.2479], [34.0561, -118.2375], [34.0439, -118.2479], [34.0561, -118.2375], [34.1904, -118.6059], [34.0256, -118.3089], [34.0747, -118.3563], [34.06, -118.42], [34.06, -118.42], [34.0427, -118.4585], [34.0483, -118.2631], [34.06, -118.42], [34.0763, -118.2917], [34.0747, -118.3563], [34.0073, -118.2894], [34.0561, -118.2375], [34.0747, -118.3563], [34.0445, -118.2523], [34.1904, -118.6059], [34.1904, -118.6059], [34.0747, -118.3563], [34.0991, -118.2918], [34.0492, -118.2525], [34.0401, -118.2459], [34.0747, -118.3563], [34.0483, -118.2631], [34.1904, -118.6059], [34.0483, -118.2631], [33.9993, -118.3244], [34.0561, -118.2375], [34.0635, -118.3141], [34.244, -118.5583], [34.0483, -118.2631], [34.0649, -118.3472], [34.06, -118.42], [34.0561, -118.2375], [33.9638, -118.2629], [34.0428, -118.4582], [34.244, -118.5583], [34.0483, -118.2631], [34.0407, -118.2468], [34.0736, -118.3563], [34.0636, -118.2979], [34.0428, -118.4582], [34.0474, -118.2496], [34.0412, -118.2474], [34.0561, -118.2375], [34.0449, -118.2528], [34.0736, -118.3563], [34.0595, -118.2749], [34.1904, -118.6059], [33.9906, -118.2783], [34.0547, -118.2772], [34.0561, -118.2375], [34.1904, -118.6059], [34.0611, -118.4184], [34.0279, -118.219], [34.1904, -118.6059], [34.0453, -118.249], [34.0736, -118.3563], [34.0736, -118.3563], [34.0599, -118.3143], [34.244, -118.5583], [34.0483, -118.2631], [34.0428, -118.4582], [34.0611, -118.4184], [34.0481, -118.2507], [34.244, -118.5583], [34.244, -118.5583], [34.0736, -118.3563], [34.1904, -118.6059], [34.0494, -118.2599], [34.1904, -118.6059], [34.0736, -118.3563], [33.96, -118.2918], [34.1904, -118.6059], [34.0428, -118.4582], [34.0428, -118.4582], [34.079, -118.2917], [34.0561, -118.2375], [34.0728, -118.2878], [34.1904, -118.6059], [34.0483, -118.2631], [34.1018, -118.3093], [34.167, -118.3759], [34.0483, -118.2631], [34.0635, -118.3066], [34.0428, -118.4582], [34.0442, -118.2519], [34.0428, -118.4582], [34.0561, -118.2375], [34.0428, -118.4582], [34.0736, -118.3563], [34.0736, -118.3563], [34.0428, -118.4582], [34.0611, -118.4184], [34.0736, -118.3563], [34.0368, -118.2412], [34.0483, -118.2631], [34.0466, -118.252], [34.0428, -118.4582], [34.042, -118.2485], [34.0483, -118.2631], [33.9637, -118.2916], [34.0417, -118.2444], [34.0561, -118.2375], [34.0466, -118.252], [34.244, -118.5583], [34.0736, -118.3563], [34.1923, -118.6104], [34.0483, -118.2631], [34.167, -118.3759], [34.0483, -118.2631], [34.0473, -118.2566], [34.244, -118.5583], [34.0736, -118.3563], [34.0558, -118.2436], [34.1904, -118.6059], [34.0481, -118.2507], [34.244, -118.5583], [34.0428, -118.4582], [34.1904, -118.6059], [34.0611, -118.4184], [33.9437, -118.2784], [34.0483, -118.2631], [34.0483, -118.2631], [34.0429, -118.2462], [34.0483, -118.2631], [34.1904, -118.6059], [34.0615, -118.2412], [34.0428, -118.4582], [34.0595, -118.2749], [34.0483, -118.2631], [34.0483, -118.2631], [34.0483, -118.2631], [34.0221, -118.2915], [34.0483, -118.2631], [34.0636, -118.2966], [34.048, -118.2588], [34.0496, -118.2603], [34.0483, -118.2631], [34.0483, -118.2631], [34.244, -118.5583], [34.172, -118.3789], [34.0483, -118.2631], [34.0611, -118.4184], [34.0736, -118.3563], [34.0483, -118.2631], [34.0736, -118.3563], [34.061, -118.2775], [34.0452, -118.2569], [33.9892, -118.2783], [34.0483, -118.2631], [34.0561, -118.2375], [34.0736, -118.3563], [34.0561, -118.2375], [34.0595, -118.2749], [34.0428, -118.4582], [34.1904, -118.6059], [34.0561, -118.2375], [34.0483, -118.2631], [34.0736, -118.3563], [34.1904, -118.6059], [34.0736, -118.3563], [34.0435, -118.2427], [34.0459, -118.2579], [34.0736, -118.3563], [34.0611, -118.4184], [34.0611, -118.4184], [33.9995, -118.2893], [34.0561, -118.2375], [34.244, -118.5583], [34.0736, -118.3563], [34.167, -118.3759], [34.0561, -118.2375], [34.0561, -118.2375], [34.0483, -118.2631], [34.0611, -118.4184], [34.244, -118.5583], [34.1904, -118.6059], [34.0736, -118.3563], [34.0483, -118.2631], [34.244, -118.5583], [33.7925, -118.3075], [34.0611, -118.4184], [33.9824, -118.2827], [34.0597, -118.2998], [34.0483, -118.2631], [34.0736, -118.3563], [34.0428, -118.4582], [34.0611, -118.4184], [34.0597, -118.3091], [34.0428, -118.4582], [34.0561, -118.2375], [34.1276, -118.1872], [34.0483, -118.2631], [34.0481, -118.2507], [34.0428, -118.4582], [34.0615, -118.2412], [34.1904, -118.6059], [34.0595, -118.2749], [34.0611, -118.4184], [34.0736, -118.3563], [34.0412, -118.2436], [34.0598, -118.2891], [34.0428, -118.4582], [34.0736, -118.3563], [34.048, -118.2577], [34.0382, -118.2345], [34.0736, -118.3563], [34.1016, -118.3267], [34.0446, -118.245], [34.0483, -118.2631], [34.244, -118.5583], [34.0611, -118.4184], [34.0611, -118.4184], [34.0611, -118.4184], [34.0736, -118.3563], [33.9392, -118.2826], [34.0483, -118.2631], [34.0673, -118.2917], [34.0736, -118.3563], [34.1904, -118.6059], [34.0483, -118.2631], [34.0597, -118.3031], [34.0483, -118.2631], [34.0736, -118.3563], [34.0483, -118.2631], [34.1904, -118.6059], [34.0442, -118.2439], [34.0452, -118.2533], [34.0736, -118.3563], [34.0428, -118.4582], [34.0611, -118.4184], [34.0736, -118.3563], [34.0561, -118.2375], [34.244, -118.5583], [34.1904, -118.6059], [34.0329, -118.2182], [34.0466, -118.252], [34.0483, -118.2631], [34.0736, -118.3563], [34.0542, -118.2717], [34.0611, -118.4184], [34.0736, -118.3563], [34.0483, -118.2631], [34.0446, -118.245], [33.9456, -118.2784], [34.0736, -118.3563], [34.244, -118.5583], [34.0611, -118.4184], [34.0428, -118.4582], [34.0483, -118.2631], [34.1904, -118.6059], [34.0483, -118.2631], [34.0736, -118.3563], [34.0595, -118.2749], [34.0561, -118.2375], [34.0483, -118.2631], [34.1904, -118.6059], [34.0408, -118.2428], [34.0459, -118.2579], [34.0579, -118.2711], [34.0483, -118.2631]],\n",
              "                {&quot;blur&quot;: 15, &quot;maxZoom&quot;: 18, &quot;minOpacity&quot;: 0.5, &quot;radius&quot;: 25}\n",
              "            );\n",
              "        \n",
              "    \n",
              "            heat_map_612f602ecff7e31bb53ce4af295c765a.addTo(map_1b9a50a6279803ab78f977e6e1d033d6);\n",
              "        \n",
              "    \n",
              "            tile_layer_a185acf7ec72cd8cfd854e71666d8c56.addTo(map_1b9a50a6279803ab78f977e6e1d033d6);\n",
              "        \n",
              "    \n",
              "            heat_map_612f602ecff7e31bb53ce4af295c765a.addTo(map_1b9a50a6279803ab78f977e6e1d033d6);\n",
              "        \n",
              "    \n",
              "            var heat_map_94a9d7f24137863b3d474e90bc9df276 = L.heatLayer(\n",
              "                [[34.0635, -118.3116], [34.0311, -118.2143], [34.1904, -118.6059], [34.0276, -118.2146], [34.244, -118.5583], [34.0635, -118.3104], [34.0111, -118.2789], [34.0436, -118.2509], [33.9164, -118.2916], [34.0747, -118.3563], [34.1018, -118.3093], [33.9655, -118.2918], [34.244, -118.5583], [34.0763, -118.3092], [34.0496, -118.2603], [34.0561, -118.2375], [34.0747, -118.3563], [34.0561, -118.2375], [34.1018, -118.2032], [34.0309, -118.199], [34.0378, -118.2483], [34.1016, -118.3348], [34.0483, -118.2631], [34.0407, -118.2468], [34.0433, -118.2652], [34.0091, -118.2784], [34.0598, -118.2842], [33.9875, -118.2915], [34.0453, -118.2499], [33.9892, -118.2783], [33.9824, -118.2827], [34.1031, -118.2029], [34.0597, -118.3042], [34.0432, -118.2504], [34.0439, -118.2509], [34.0649, -118.3483], [34.0713, -118.2291], [34.0466, -118.2555], [34.0446, -118.249], [34.167, -118.3759], [34.0395, -118.2451], [34.0453, -118.2637], [34.0763, -118.3092], [34.244, -118.5583], [34.0442, -118.2519], [34.1904, -118.6059], [33.9923, -118.2915], [34.0346, -118.2323], [34.0563, -118.281], [34.0121, -118.2915], [34.0611, -118.3681], [34.06, -118.42], [34.0561, -118.2375], [33.7733, -118.2786], [34.0459, -118.2579], [34.0418, -118.3269], [34.0285, -118.2031], [33.9951, -118.3089], [34.048, -118.2542], [34.0599, -118.3143], [33.9567, -118.2827], [34.0055, -118.3089], [34.0377, -118.2425], [33.995, -118.4685], [34.0577, -118.2954], [34.06, -118.42], [34.1904, -118.6059], [34.0849, -118.3091], [33.8463, -118.2904], [33.9807, -118.3265], [34.048, -118.2577], [34.0747, -118.3563], [33.7378, -118.2804], [34.1904, -118.6059], [33.9528, -118.2916], [34.0539, -118.2712], [34.0568, -118.2821], [34.0065, -118.2784], [34.0747, -118.3563], [34.0545, -118.2723], [34.0412, -118.2474], [33.9492, -118.2781], [34.0466, -118.2555], [34.0315, -118.2656], [34.0449, -118.2528], [34.1017, -118.3224], [34.167, -118.3759], [34.0328, -118.2916], [34.244, -118.5583], [33.7379, -118.2968], [34.0598, -118.2935], [34.0609, -118.3603], [33.8807, -118.2913], [33.9092, -118.2827], [34.0747, -118.3563], [34.244, -118.5583], [34.0464, -118.248], [34.06, -118.42], [33.8127, -118.3088], [34.0256, -118.3089], [34.061, -118.2775], [34.0452, -118.2569], [34.0451, -118.2498], [33.7379, -118.2923], [34.0487, -118.2588], [34.0328, -118.2916], [34.06, -118.42], [34.0481, -118.2507], [34.0609, -118.278], [34.06, -118.42], [34.167, -118.3759], [34.0408, -118.2428], [34.0453, -118.2499], [34.0981, -118.2055], [34.0111, -118.2827], [34.0387, -118.2439], [34.064, -118.2375], [34.0452, -118.2533], [34.0315, -118.2152], [34.0529, -118.2597], [34.0635, -118.3091], [34.244, -118.5583], [34.0628, -118.2821], [34.0064, -118.2916], [34.06, -118.42], [34.0466, -118.252], [34.0635, -118.3091], [34.244, -118.5583], [34.0368, -118.2412], [34.0836, -118.2917], [34.0241, -118.2103], [33.9892, -118.2783], [34.0451, -118.2498], [34.0223, -118.2719], [33.9164, -118.2828], [34.244, -118.5583], [33.9655, -118.2915], [33.9356, -118.2826], [34.0877, -118.2917], [33.8057, -118.3077], [34.06, -118.42], [34.0721, -118.2213], [34.167, -118.3759], [34.1904, -118.6059], [34.0649, -118.3546], [33.9965, -118.2827], [34.0587, -118.3205], [34.1904, -118.6059], [34.0453, -118.2499], [33.9374, -118.2781], [34.0294, -118.2671], [34.0548, -118.2638], [34.0436, -118.2509], [33.9415, -118.2916], [34.06, -118.42], [34.0737, -118.2131], [34.0355, -118.2456], [34.057, -118.2779], [33.9897, -118.2915], [34.0561, -118.2375], [34.0549, -118.2778], [34.0608, -118.3352], [34.0451, -118.2498], [33.9678, -118.2916], [34.04, -118.2916], [34.0598, -118.2987], [34.0561, -118.2981], [34.244, -118.5583], [34.0867, -118.3092], [34.0488, -118.2518], [34.0439, -118.2509], [34.244, -118.5583], [34.0476, -118.2612], [34.0559, -118.2756], [34.0598, -118.2755], [34.0561, -118.2375], [33.9915, -118.2827], [34.1904, -118.6059], [34.0466, -118.252], [34.244, -118.5583], [34.0498, -118.2681], [34.0026, -118.2915], [34.1904, -118.6059], [34.0635, -118.3091], [33.9746, -118.2917], [34.0525, -118.2726], [34.1904, -118.6059], [34.1904, -118.6059], [33.9892, -118.2783], [34.0529, -118.2733], [33.9348, -118.2781], [34.244, -118.5583], [34.0635, -118.3104], [33.9961, -118.4655], [34.057, -118.2691], [34.06, -118.42], [33.9356, -118.2784], [34.0517, -118.2663], [34.0445, -118.2523], [34.0346, -118.2323], [34.1017, -118.3224], [34.0155, -118.2772], [33.7379, -118.2857], [34.0577, -118.2799], [34.0627, -118.2463], [34.0548, -118.2638], [34.0408, -118.2512], [34.06, -118.42], [34.0496, -118.265], [34.0636, -118.2966], [34.0598, -118.2842], [34.0578, -118.2916], [34.0649, -118.3494], [33.878, -118.2911], [34.0111, -118.2827], [33.9824, -118.2783], [34.0409, -118.2574], [34.0577, -118.302], [34.042, -118.2485], [34.0561, -118.2375], [34.1904, -118.6059], [34.244, -118.5583], [34.0255, -118.2915], [34.0525, -118.2726], [33.9423, -118.2916], [34.0835, -118.3091], [34.0548, -118.2638], [34.0358, -118.21], [34.0436, -118.2509], [34.0351, -118.2386], [34.0429, -118.2462], [34.0241, -118.2103], [34.0561, -118.2375], [34.0545, -118.2723], [34.0451, -118.2498], [34.0508, -118.2683], [34.022, -118.28], [34.06, -118.42], [34.0763, -118.3092], [34.0636, -118.2992], [34.0445, -118.2523], [34.1017, -118.3136], [33.7289, -118.2846], [34.0347, -118.2252], [34.0446, -118.249], [34.0531, -118.2694], [34.0597, -118.3009], [34.0672, -118.2941], [34.046, -118.251], [34.0459, -118.2579], [34.057, -118.2691], [34.0483, -118.2631], [34.06, -118.42], [34.0508, -118.3091], [34.244, -118.5583], [34.0746, -118.3091], [34.167, -118.3759], [33.9727, -118.2783], [33.7947, -118.2908], [34.0636, -118.2941], [34.2269, -118.4394], [34.0466, -118.2555], [34.0589, -118.2821], [34.1904, -118.6059], [34.0561, -118.2375], [33.9719, -118.2916], [34.0383, -118.2327], [34.0425, -118.2493], [34.0548, -118.2638], [34.0446, -118.249], [34.0597, -118.3009], [34.1904, -118.6059], [34.1904, -118.6059], [34.1027, -118.2918], [33.9699, -118.2783], [34.172, -118.3789], [34.06, -118.42], [34.1015, -118.3796], [34.1904, -118.6059], [33.9164, -118.2828], [34.0598, -118.2987], [34.1016, -118.3252], [34.0452, -118.2533], [34.0436, -118.2509], [33.931, -118.2785], [34.0382, -118.2603], [33.9933, -118.2827], [34.0473, -118.2531], [33.9551, -118.2827], [34.0595, -118.2749], [34.0597, -118.3042], [34.0043, -118.2827], [34.0446, -118.249], [34.0598, -118.2755], [34.0627, -118.2463], [34.0597, -118.3066], [34.244, -118.5583], [34.1904, -118.6059], [34.1904, -118.6059], [33.7527, -118.3089], [34.0653, -118.3156], [34.0495, -118.2494], [34.0747, -118.3563], [34.1017, -118.3224], [33.9176, -118.2829], [34.1904, -118.6059], [34.1904, -118.6059], [34.0466, -118.2555], [33.9892, -118.3089], [34.0559, -118.3091], [33.9528, -118.2785], [33.9819, -118.2915], [34.0141, -118.277], [34.0561, -118.2375], [34.0446, -118.249], [34.057, -118.2691], [34.0289, -118.2686], [34.1904, -118.6059], [33.9807, -118.2783], [34.0315, -118.2152], [34.0502, -118.2539], [34.0496, -118.265], [33.9747, -118.2783], [34.0432, -118.2504], [34.0492, -118.2525], [34.002, -118.2783], [34.0496, -118.2603], [34.0636, -118.3047], [34.046, -118.251], [34.0461, -118.2475], [34.0451, -118.2498], [34.0223, -118.2719], [34.0459, -118.2579], [34.244, -118.5583], [34.0579, -118.2649], [34.06, -118.42], [33.9637, -118.2916], [34.105, -118.2022], [34.049, -118.2602], [34.0577, -118.2941], [34.0415, -118.2374], [34.0452, -118.2533], [34.244, -118.5583], [34.04, -118.2916], [34.0577, -118.302], [33.8925, -118.2917], [34.0637, -118.287], [34.0597, -118.3078], [34.06, -118.42], [34.0487, -118.2588], [33.9419, -118.2784], [34.0483, -118.2631], [34.0446, -118.249], [33.9567, -118.2827], [34.0597, -118.3066], [33.9822, -118.2915], [34.0323, -118.217], [34.0561, -118.2375], [34.0483, -118.2631], [34.0408, -118.2512], [34.0065, -118.2784], [34.0091, -118.2784], [34.0371, -118.2611], [34.0597, -118.3122], [34.0496, -118.2603], [34.0453, -118.2499], [33.9943, -118.4709], [34.1017, -118.354], [34.048, -118.2577], [34.0636, -118.2966], [34.0368, -118.2412], [34.0654, -118.2929], [34.0509, -118.2916], [34.0419, -118.2523], [34.0597, -118.302], [34.06, -118.42], [34.0577, -118.2799], [34.0529, -118.2733], [34.057, -118.2779], [34.1016, -118.3325], [34.0427, -118.4585], [34.0483, -118.2631], [34.2391, -118.5536], [34.0608, -118.3594], [34.0446, -118.249], [34.0352, -118.2389], [34.0473, -118.2601], [34.0425, -118.2493], [34.0496, -118.2603], [34.1904, -118.6059], [34.0483, -118.2631], [34.0531, -118.2694], [34.1017, -118.3224], [33.9563, -118.309], [33.933, -118.2783], [34.06, -118.42], [33.9933, -118.2783], [34.1017, -118.3561], [34.0598, -118.2979], [34.0216, -118.2048], [34.0351, -118.2386], [34.167, -118.3759], [34.244, -118.5583], [33.9537, -118.2782], [34.0309, -118.199], [34.0464, -118.248], [34.0597, -118.3031], [33.9188, -118.283], [34.06, -118.42], [34.0747, -118.3563], [34.0548, -118.2638], [34.0368, -118.2412], [34.0628, -118.2811], [34.0417, -118.2444], [34.0747, -118.3563], [34.1904, -118.6059], [34.036, -118.2461], [34.0483, -118.2631], [34.073, -118.3091], [34.048, -118.2577], [34.0466, -118.252], [34.0477, -118.2502], [34.0717, -118.2224], [33.9746, -118.2916], [34.0577, -118.2954], [34.0555, -118.2793], [34.0726, -118.2201], [33.9906, -118.2783], [34.0576, -118.3091], [34.0432, -118.2504], [34.1904, -118.6059], [0.0, 0.0], [34.0453, -118.2499], [0.0, 0.0], [34.0449, -118.2528], [34.0747, -118.3563], [34.0439, -118.2509], [33.9947, -118.2783], [34.0577, -118.3042], [34.06, -118.42], [34.1904, -118.6059], [33.9563, -118.309], [34.0561, -118.2375], [34.0726, -118.2201], [34.0429, -118.2462], [34.06, -118.42], [34.0598, -118.2929], [34.0508, -118.2683], [34.0439, -118.2479], [34.0522, -118.2673], [34.0891, -118.2146], [34.0055, -118.3089], [34.0483, -118.2631], [34.0862, -118.2174], [34.244, -118.5583], [34.058, -118.2715], [34.0555, -118.2746], [33.9211, -118.2916], [33.9348, -118.2784], [34.0083, -118.2827], [33.9846, -118.2915], [34.0581, -118.3132], [34.244, -118.5583], [33.9892, -118.2783], [34.1023, -118.203], [34.055, -118.2735], [34.1904, -118.6059], [34.0483, -118.2631], [34.0747, -118.3563], [34.244, -118.5583], [34.0323, -118.2022], [34.0382, -118.2915], [34.244, -118.5583], [34.0442, -118.2519], [34.0635, -118.3116], [33.9632, -118.2827], [34.1904, -118.6059], [34.048, -118.2577], [33.9709, -118.3112], [33.723, -118.3129], [34.0466, -118.2555], [34.0522, -118.2673], [34.0174, -118.3089], [34.0653, -118.3091], [34.06, -118.42], [34.0747, -118.3563], [34.0736, -118.3563], [34.1904, -118.6059], [34.0636, -118.3016], [34.244, -118.5583], [34.0498, -118.2681], [34.0352, -118.2389], [34.06, -118.42], [34.1016, -118.3295], [34.0091, -118.2916], [33.9707, -118.2916], [34.0119, -118.3089], [34.0506, -118.2699], [34.0579, -118.2649], [34.1904, -118.6059], [34.0442, -118.2439], [34.0483, -118.2631], [34.0864, -118.219], [34.244, -118.5583], [34.0577, -118.2954], [34.167, -118.3759], [34.0885, -118.3092], [34.0597, -118.3009], [34.0417, -118.2362], [34.0372, -118.2418], [34.1016, -118.3387], [34.0538, -118.2616], [34.0466, -118.2555], [34.06, -118.42], [34.048, -118.2577], [34.0511, -118.2707], [34.0473, -118.2601], [34.2269, -118.4394], [34.0382, -118.2345], [34.0473, -118.2601], [34.0577, -118.3066], [34.1904, -118.6059], [34.244, -118.5583], [33.7388, -118.2902], [34.0747, -118.3563], [34.0473, -118.2531], [34.0598, -118.2865], [33.9727, -118.2916], [34.167, -118.3759], [34.0737, -118.2143], [34.0144, -118.2753], [34.0736, -118.2178], [34.059, -118.2737], [34.0577, -118.2941], [34.0747, -118.3563], [34.0496, -118.2603], [34.048, -118.2542], [34.048, -118.2542], [34.1016, -118.331], [34.0466, -118.259], [34.0736, -118.2156], [34.0429, -118.2462], [34.0407, -118.2468], [33.9965, -118.2783], [34.0428, -118.2532], [33.9301, -118.2916], [33.9669, -118.2827], [34.0359, -118.246], [33.9274, -118.2826], [34.0245, -118.2113], [34.0466, -118.259], [34.0496, -118.2603], [34.1016, -118.35], [34.0409, -118.2574], [34.167, -118.3759], [34.0531, -118.2738], [34.0417, -118.2444], [34.0459, -118.2579], [34.0371, -118.2475], [34.06, -118.42], [34.059, -118.2824], [33.741, -118.2838], [34.0581, -118.3132], [33.9519, -118.2782], [34.0595, -118.3215], [33.9709, -118.3112], [0.0, 0.0], [34.244, -118.5583], [33.9601, -118.2783], [34.1904, -118.6059], [34.0561, -118.2375], [34.1904, -118.6059], [34.0417, -118.2362], [33.9188, -118.283], [34.0444, -118.2443], [34.0599, -118.3143], [34.0552, -118.2649], [34.0597, -118.3091], [34.042, -118.2485], [34.0429, -118.2462], [34.0636, -118.3016], [33.9891, -118.2915], [34.0747, -118.3563], [34.0747, -118.3563], [34.0598, -118.2954], [34.167, -118.3759], [34.0636, -118.3016], [33.9469, -118.2772], [34.0609, -118.278], [34.0451, -118.2498], [34.1054, -118.2918], [34.0459, -118.2545], [33.9455, -118.2826], [33.9586, -118.2782], [33.9374, -118.2826], [34.244, -118.5583], [34.0636, -118.2979], [34.0276, -118.2748], [34.0597, -118.3009], [34.244, -118.5583], [33.9486, -118.3094], [34.0315, -118.2152], [34.1904, -118.6059], [34.1034, -118.3325], [33.9545, -118.309], [34.0219, -118.1947], [0.0, 0.0], [34.0221, -118.2915], [33.9456, -118.2784], [34.0991, -118.2918], [34.167, -118.3759], [33.9468, -118.309], [33.9993, -118.3244], [34.0452, -118.2569], [34.0561, -118.2375], [34.0635, -118.3141], [34.0578, -118.2916], [34.0524, -118.2678], [34.049, -118.2602], [34.0636, -118.2979], [34.0483, -118.2631], [34.0038, -118.2827], [34.0494, -118.2599], [34.0452, -118.2569], [34.0268, -118.2047], [34.244, -118.5583], [34.0425, -118.2493], [34.0649, -118.3546], [34.0453, -118.249], [34.0466, -118.259], [34.0738, -118.2065], [34.1016, -118.331], [34.0494, -118.2599], [34.0736, -118.3563], [34.0321, -118.2166], [34.079, -118.2917], [34.0523, -118.2677], [34.0728, -118.2878], [34.0281, -118.2194], [34.1904, -118.6059], [34.1018, -118.3093], [34.0473, -118.2566], [33.9164, -118.2827], [34.0635, -118.3066], [34.1016, -118.3295], [33.9915, -118.3089], [33.7925, -118.3075], [34.0466, -118.252], [34.0466, -118.252], [34.0453, -118.249], [34.0611, -118.4184], [34.244, -118.5583], [34.1923, -118.6104], [34.0483, -118.2631], [34.0653, -118.3079], [34.244, -118.5583], [34.1904, -118.6059], [34.0558, -118.2436], [34.0561, -118.2375], [34.0597, -118.3078], [34.0611, -118.4184], [34.0561, -118.2375], [34.0511, -118.2704], [34.0417, -118.2444], [34.0736, -118.3563], [34.0595, -118.2749], [34.1019, -118.2264], [34.0221, -118.2915], [34.0496, -118.2603], [34.167, -118.3759], [33.9655, -118.2917], [34.0439, -118.2479], [34.064, -118.2375], [34.0432, -118.2504], [34.0578, -118.2916], [34.1016, -118.337], [34.0515, -118.2658], [34.0637, -118.2899], [34.061, -118.2775], [34.0409, -118.2574], [34.0471, -118.2491], [34.1016, -118.3361], [34.0598, -118.2941], [34.0637, -118.287], [34.0459, -118.2579], [34.0637, -118.2857], [34.167, -118.3759], [34.0561, -118.2375], [33.7925, -118.3075], [34.0577, -118.302], [33.9637, -118.309], [34.0597, -118.2998], [34.0577, -118.2929], [34.046, -118.2493], [34.0561, -118.2375], [34.1276, -118.1872], [33.737, -118.2946], [34.0432, -118.2504], [33.9923, -118.287], [34.0409, -118.2574], [34.0595, -118.2749], [34.049, -118.2592], [34.0463, -118.255], [34.048, -118.2577], [34.0409, -118.2574], [34.0382, -118.2345], [34.1016, -118.3387], [34.0432, -118.2504], [34.1904, -118.6059], [34.0596, -118.3022], [34.0877, -118.2917], [34.0673, -118.2917], [34.0381, -118.2483], [34.167, -118.3759], [34.0128, -118.3089], [34.0459, -118.2579], [34.0346, -118.2323], [34.0555, -118.2656], [34.0597, -118.3031], [34.0607, -118.3512], [34.0496, -118.265], [34.0439, -118.2479], [34.0445, -118.2523], [34.0434, -118.2542], [34.0611, -118.4184], [34.0483, -118.2631], [34.1904, -118.6059], [34.1016, -118.335], [34.0736, -118.3563], [34.0329, -118.2182], [34.0466, -118.252], [34.0436, -118.309], [33.9915, -118.2783], [34.055, -118.2735], [34.0442, -118.2519], [34.0609, -118.278], [34.1155, -118.1847], [33.9456, -118.2784], [34.1904, -118.6059], [34.0452, -118.2569], [34.0736, -118.3563], [34.1904, -118.6059], [34.0635, -118.3066]],\n",
              "                {&quot;blur&quot;: 15, &quot;maxZoom&quot;: 18, &quot;minOpacity&quot;: 0.5, &quot;radius&quot;: 25}\n",
              "            );\n",
              "        \n",
              "    \n",
              "            heat_map_94a9d7f24137863b3d474e90bc9df276.addTo(map_1b9a50a6279803ab78f977e6e1d033d6);\n",
              "        \n",
              "&lt;/script&gt;\n",
              "&lt;/html&gt;\" style=\"position:absolute;width:100%;height:100%;left:0;top:0;border:none !important;\" allowfullscreen webkitallowfullscreen mozallowfullscreen></iframe></div></div>"
            ]
          },
          "metadata": {}
        }
      ],
      "source": [
        "crime_filtered_df = filter_df_by_crime(year_filtered_df, 'VEHICLE')\n",
        "\n",
        "# Filtramos por calle\n",
        "street_filtered_df = crime_filtered_df[crime_filtered_df['LOCATION'].isin(most_affected_streets)].loc[:, ['LAT', 'LON']].dropna().values.tolist()\n",
        "\n",
        "HeatMap(street_filtered_df).add_to(m)\n",
        "display(m)"
      ]
    },
    {
      "cell_type": "markdown",
      "metadata": {
        "id": "iTBvU3jbY9Ka"
      },
      "source": [
        "### Representación de robos cometidos por año en 2021"
      ]
    },
    {
      "cell_type": "code",
      "execution_count": null,
      "metadata": {
        "colab": {
          "base_uri": "https://localhost:8080/",
          "height": 1000
        },
        "id": "79D7R3QhY9Ka",
        "outputId": "beb5b111-6fe3-42f9-c07d-8639aa84ba62"
      },
      "outputs": [
        {
          "output_type": "display_data",
          "data": {
            "text/plain": [
              "<folium.folium.Map at 0x7bed474674c0>"
            ],
            "text/html": [
              "<div style=\"width:100%;\"><div style=\"position:relative;width:100%;height:0;padding-bottom:60%;\"><span style=\"color:#565656\">Make this Notebook Trusted to load map: File -> Trust Notebook</span><iframe srcdoc=\"&lt;!DOCTYPE html&gt;\n",
              "&lt;html&gt;\n",
              "&lt;head&gt;\n",
              "    \n",
              "    &lt;meta http-equiv=&quot;content-type&quot; content=&quot;text/html; charset=UTF-8&quot; /&gt;\n",
              "    \n",
              "        &lt;script&gt;\n",
              "            L_NO_TOUCH = false;\n",
              "            L_DISABLE_3D = false;\n",
              "        &lt;/script&gt;\n",
              "    \n",
              "    &lt;style&gt;html, body {width: 100%;height: 100%;margin: 0;padding: 0;}&lt;/style&gt;\n",
              "    &lt;style&gt;#map {position:absolute;top:0;bottom:0;right:0;left:0;}&lt;/style&gt;\n",
              "    &lt;script src=&quot;https://cdn.jsdelivr.net/npm/leaflet@1.9.3/dist/leaflet.js&quot;&gt;&lt;/script&gt;\n",
              "    &lt;script src=&quot;https://code.jquery.com/jquery-3.7.1.min.js&quot;&gt;&lt;/script&gt;\n",
              "    &lt;script src=&quot;https://cdn.jsdelivr.net/npm/bootstrap@5.2.2/dist/js/bootstrap.bundle.min.js&quot;&gt;&lt;/script&gt;\n",
              "    &lt;script src=&quot;https://cdnjs.cloudflare.com/ajax/libs/Leaflet.awesome-markers/2.0.2/leaflet.awesome-markers.js&quot;&gt;&lt;/script&gt;\n",
              "    &lt;link rel=&quot;stylesheet&quot; href=&quot;https://cdn.jsdelivr.net/npm/leaflet@1.9.3/dist/leaflet.css&quot;/&gt;\n",
              "    &lt;link rel=&quot;stylesheet&quot; href=&quot;https://cdn.jsdelivr.net/npm/bootstrap@5.2.2/dist/css/bootstrap.min.css&quot;/&gt;\n",
              "    &lt;link rel=&quot;stylesheet&quot; href=&quot;https://netdna.bootstrapcdn.com/bootstrap/3.0.0/css/bootstrap-glyphicons.css&quot;/&gt;\n",
              "    &lt;link rel=&quot;stylesheet&quot; href=&quot;https://cdn.jsdelivr.net/npm/@fortawesome/fontawesome-free@6.2.0/css/all.min.css&quot;/&gt;\n",
              "    &lt;link rel=&quot;stylesheet&quot; href=&quot;https://cdnjs.cloudflare.com/ajax/libs/Leaflet.awesome-markers/2.0.2/leaflet.awesome-markers.css&quot;/&gt;\n",
              "    &lt;link rel=&quot;stylesheet&quot; href=&quot;https://cdn.jsdelivr.net/gh/python-visualization/folium/folium/templates/leaflet.awesome.rotate.min.css&quot;/&gt;\n",
              "    \n",
              "            &lt;meta name=&quot;viewport&quot; content=&quot;width=device-width,\n",
              "                initial-scale=1.0, maximum-scale=1.0, user-scalable=no&quot; /&gt;\n",
              "            &lt;style&gt;\n",
              "                #map_1b9a50a6279803ab78f977e6e1d033d6 {\n",
              "                    position: relative;\n",
              "                    width: 100.0%;\n",
              "                    height: 100.0%;\n",
              "                    left: 0.0%;\n",
              "                    top: 0.0%;\n",
              "                }\n",
              "                .leaflet-container { font-size: 1rem; }\n",
              "            &lt;/style&gt;\n",
              "        \n",
              "    &lt;script src=&quot;https://cdn.jsdelivr.net/gh/python-visualization/folium@main/folium/templates/leaflet_heat.min.js&quot;&gt;&lt;/script&gt;\n",
              "&lt;/head&gt;\n",
              "&lt;body&gt;\n",
              "    \n",
              "    \n",
              "            &lt;div class=&quot;folium-map&quot; id=&quot;map_1b9a50a6279803ab78f977e6e1d033d6&quot; &gt;&lt;/div&gt;\n",
              "        \n",
              "&lt;/body&gt;\n",
              "&lt;script&gt;\n",
              "    \n",
              "    \n",
              "            var map_1b9a50a6279803ab78f977e6e1d033d6 = L.map(\n",
              "                &quot;map_1b9a50a6279803ab78f977e6e1d033d6&quot;,\n",
              "                {\n",
              "                    center: [34.0522, -118.2437],\n",
              "                    crs: L.CRS.EPSG3857,\n",
              "                    zoom: 11,\n",
              "                    zoomControl: true,\n",
              "                    preferCanvas: false,\n",
              "                }\n",
              "            );\n",
              "\n",
              "            \n",
              "\n",
              "        \n",
              "    \n",
              "            var tile_layer_a185acf7ec72cd8cfd854e71666d8c56 = L.tileLayer(\n",
              "                &quot;https://tile.openstreetmap.org/{z}/{x}/{y}.png&quot;,\n",
              "                {&quot;attribution&quot;: &quot;\\u0026copy; \\u003ca href=\\&quot;https://www.openstreetmap.org/copyright\\&quot;\\u003eOpenStreetMap\\u003c/a\\u003e contributors&quot;, &quot;detectRetina&quot;: false, &quot;maxNativeZoom&quot;: 19, &quot;maxZoom&quot;: 19, &quot;minZoom&quot;: 0, &quot;noWrap&quot;: false, &quot;opacity&quot;: 1, &quot;subdomains&quot;: &quot;abc&quot;, &quot;tms&quot;: false}\n",
              "            );\n",
              "        \n",
              "    \n",
              "            tile_layer_a185acf7ec72cd8cfd854e71666d8c56.addTo(map_1b9a50a6279803ab78f977e6e1d033d6);\n",
              "        \n",
              "    \n",
              "            var heat_map_612f602ecff7e31bb53ce4af295c765a = L.heatLayer(\n",
              "                [[34.0403, -118.2421], [34.1904, -118.6059], [34.042, -118.2485], [34.0637, -118.2905], [34.0561, -118.2375], [34.0327, -118.309], [34.042, -118.2485], [34.1904, -118.6059], [34.0446, -118.249], [34.0427, -118.4585], [34.244, -118.5583], [34.1904, -118.6059], [34.244, -118.5583], [34.1904, -118.6059], [34.06, -118.42], [34.06, -118.42], [34.1904, -118.6059], [34.0561, -118.2375], [34.0408, -118.2428], [34.0561, -118.2375], [34.0585, -118.2724], [34.0747, -118.3563], [34.244, -118.5583], [34.0561, -118.2375], [34.244, -118.5583], [34.0483, -118.2631], [34.0483, -118.2631], [34.0483, -118.2631], [34.0747, -118.3563], [34.0483, -118.2631], [34.0483, -118.2631], [34.0593, -118.275], [34.0747, -118.3563], [34.0747, -118.3563], [34.0038, -118.2784], [34.0412, -118.2436], [34.0461, -118.2475], [34.0407, -118.2468], [34.0609, -118.278], [34.0496, -118.2603], [34.1015, -118.3415], [34.0747, -118.3563], [34.06, -118.42], [34.244, -118.5583], [34.0427, -118.4585], [34.0561, -118.2375], [34.06, -118.42], [34.0561, -118.2375], [34.0747, -118.3563], [34.0483, -118.2631], [34.167, -118.3759], [34.0403, -118.2421], [34.0561, -118.2375], [34.1904, -118.6059], [34.06, -118.42], [34.0747, -118.3563], [34.06, -118.42], [34.0747, -118.3563], [34.0407, -118.2468], [34.0453, -118.2637], [34.0561, -118.2375], [34.1904, -118.6059], [34.1904, -118.6059], [34.0747, -118.3563], [33.9923, -118.2915], [34.0563, -118.281], [34.0747, -118.3563], [34.244, -118.5583], [34.0736, -118.3563], [34.0427, -118.4585], [34.0445, -118.2523], [33.9997, -118.2849], [34.0561, -118.2375], [34.0352, -118.2389], [34.0487, -118.2553], [34.244, -118.5583], [33.9951, -118.3089], [34.167, -118.3759], [34.0483, -118.2631], [34.0488, -118.2518], [34.06, -118.42], [34.048, -118.2577], [34.0427, -118.4585], [34.0652, -118.2878], [34.0593, -118.275], [34.0909, -118.2917], [34.244, -118.5583], [34.0427, -118.4585], [34.0561, -118.2375], [34.1904, -118.6059], [34.0417, -118.2444], [34.244, -118.5583], [34.0611, -118.4184], [34.0561, -118.2375], [34.0494, -118.2599], [34.0747, -118.3563], [34.0597, -118.2998], [34.1904, -118.6059], [34.0487, -118.2588], [34.0483, -118.2631], [34.0747, -118.3563], [34.06, -118.42], [33.9164, -118.2828], [34.0561, -118.2375], [34.167, -118.3759], [34.06, -118.42], [34.0111, -118.2827], [34.1904, -118.6059], [34.0597, -118.3078], [34.244, -118.5583], [34.0747, -118.3563], [34.0427, -118.4585], [33.7378, -118.2804], [0.0, 0.0], [33.9456, -118.2781], [34.1904, -118.6059], [34.06, -118.42], [34.0427, -118.4585], [34.0561, -118.2375], [34.1904, -118.6059], [34.0483, -118.2631], [34.0453, -118.2499], [34.0636, -118.3004], [34.1904, -118.6059], [34.06, -118.42], [34.244, -118.5583], [34.06, -118.42], [34.0747, -118.3563], [34.0427, -118.4585], [34.0561, -118.2375], [34.0561, -118.2375], [34.0585, -118.2724], [34.0315, -118.2656], [34.0736, -118.3563], [34.0526, -118.3091], [34.0328, -118.2916], [34.06, -118.42], [34.0747, -118.3563], [34.0487, -118.2553], [34.244, -118.5583], [34.1018, -118.2918], [34.0429, -118.2462], [34.06, -118.42], [34.0483, -118.2631], [34.167, -118.3759], [34.0637, -118.2905], [34.0561, -118.2375], [34.0483, -118.2631], [33.9965, -118.2783], [34.0747, -118.3563], [34.0427, -118.4585], [34.06, -118.42], [34.0464, -118.248], [34.06, -118.42], [34.1904, -118.6059], [34.0427, -118.4585], [34.0747, -118.3563], [34.061, -118.2775], [34.1904, -118.6059], [34.0407, -118.2468], [34.0561, -118.2375], [34.1904, -118.6059], [34.0747, -118.3563], [34.1012, -118.2918], [34.0564, -118.2677], [34.0483, -118.2631], [34.0597, -118.2916], [34.0481, -118.2507], [34.0747, -118.3563], [34.0747, -118.3563], [34.0636, -118.3047], [34.244, -118.5583], [34.06, -118.42], [34.244, -118.5583], [34.0427, -118.4585], [34.0597, -118.3053], [34.1904, -118.6059], [34.0483, -118.2631], [34.0483, -118.2631], [34.0561, -118.2375], [34.0483, -118.2631], [34.0981, -118.2055], [34.0382, -118.2345], [34.0597, -118.3091], [34.0747, -118.3563], [34.0635, -118.3091], [34.1904, -118.6059], [34.0561, -118.2375], [34.1016, -118.3387], [34.0736, -118.3563], [34.0466, -118.252], [34.0561, -118.2375], [34.244, -118.5583], [34.064, -118.2375], [34.06, -118.42], [34.1904, -118.6059], [34.1904, -118.6059], [34.0561, -118.2375], [34.0223, -118.2719], [33.9164, -118.2828], [34.0747, -118.3563], [0.0, 0.0], [34.244, -118.5583], [34.0593, -118.275], [34.1904, -118.6059], [34.06, -118.42], [34.1904, -118.6059], [34.06, -118.42], [34.0721, -118.2213], [34.0483, -118.2631], [34.0747, -118.3563], [34.0427, -118.4585], [34.0747, -118.3563], [34.0747, -118.3563], [34.0488, -118.2518], [34.06, -118.42], [34.0561, -118.2375], [34.244, -118.5583], [34.0561, -118.2375], [34.0747, -118.3563], [34.0573, -118.2699], [34.0587, -118.3205], [34.1904, -118.6059], [34.1904, -118.6059], [34.244, -118.5583], [34.06, -118.42], [34.0561, -118.2375], [34.0016, -118.2915], [34.0561, -118.2375], [34.0561, -118.2375], [34.0561, -118.2375], [34.0561, -118.2375], [34.1904, -118.6059], [34.1017, -118.3159], [34.0561, -118.2375], [34.244, -118.5583], [34.0452, -118.2569], [34.244, -118.5583], [34.0593, -118.275], [34.0561, -118.2375], [34.06, -118.42], [34.0435, -118.2471], [34.1015, -118.3434], [34.0496, -118.2603], [34.0483, -118.2631], [34.1904, -118.6059], [34.1904, -118.6059], [34.0573, -118.2832], [34.0483, -118.2631], [34.0561, -118.2375], [34.0593, -118.275], [34.0612, -118.2785], [34.0611, -118.4184], [34.0442, -118.2439], [34.0428, -118.4582], [34.0483, -118.2631], [34.0585, -118.2724], [34.0483, -118.2631], [34.1015, -118.3417], [34.0561, -118.2981], [34.0483, -118.2631], [34.0611, -118.4184], [34.244, -118.5583], [34.0476, -118.2612], [34.1904, -118.6059], [34.1904, -118.6059], [34.0428, -118.4582], [34.1904, -118.6059], [34.0747, -118.3563], [34.0561, -118.2375], [34.1904, -118.6059], [34.1904, -118.6059], [34.0466, -118.252], [34.0747, -118.3563], [34.0427, -118.4585], [34.06, -118.42], [34.0747, -118.3563], [34.0747, -118.3563], [34.06, -118.42], [34.0595, -118.2749], [34.0401, -118.2459], [34.0561, -118.2375], [34.0747, -118.3563], [34.1904, -118.6059], [34.1904, -118.6059], [34.244, -118.5583], [34.0483, -118.2631], [34.0747, -118.3563], [34.042, -118.2485], [34.0747, -118.3563], [34.0747, -118.3563], [34.0368, -118.2412], [34.0054, -118.2827], [34.0561, -118.2375], [34.06, -118.42], [34.244, -118.5583], [34.0561, -118.2375], [34.0595, -118.2749], [34.06, -118.42], [34.0439, -118.2509], [34.06, -118.42], [33.9348, -118.2781], [34.0747, -118.3563], [34.0452, -118.2533], [34.0597, -118.3091], [34.0427, -118.4585], [34.0747, -118.3563], [33.8127, -118.3088], [33.9356, -118.2784], [34.0483, -118.2631], [34.0517, -118.2663], [34.06, -118.42], [34.244, -118.5583], [34.0483, -118.2631], [34.1904, -118.6059], [34.0561, -118.2375], [34.0747, -118.3563], [34.0747, -118.3563], [34.0453, -118.2499], [34.167, -118.3759], [34.0747, -118.3563], [34.0548, -118.2638], [34.0747, -118.3563], [34.0654, -118.3016], [33.9637, -118.2915], [34.0747, -118.3563], [34.0671, -118.3091], [34.1904, -118.6059], [34.06, -118.42], [34.0561, -118.2375], [34.1904, -118.6059], [34.1904, -118.6059], [34.0561, -118.2375], [34.0561, -118.2375], [34.0747, -118.3563], [34.06, -118.42], [34.0445, -118.2523], [34.0747, -118.3563], [34.06, -118.42], [34.0737, -118.2091], [34.244, -118.5583], [34.0578, -118.2916], [34.244, -118.5583], [34.0649, -118.3494], [34.0561, -118.2375], [34.1904, -118.6059], [34.0483, -118.2631], [34.244, -118.5583], [34.06, -118.42], [34.0611, -118.4184], [34.0747, -118.3563], [34.0561, -118.2375], [34.0483, -118.2631], [34.0747, -118.3563], [34.0483, -118.2631], [34.0255, -118.2915], [34.06, -118.42], [33.9423, -118.2916], [34.1904, -118.6059], [34.0548, -118.2638], [34.0747, -118.3563], [34.0611, -118.4184], [34.0461, -118.2475], [34.06, -118.42], [34.0561, -118.2375], [34.0561, -118.2375], [34.244, -118.5583], [34.0598, -118.2755], [34.1904, -118.6059], [34.0561, -118.2375], [34.048, -118.2577], [34.055, -118.2735], [34.022, -118.28], [34.06, -118.42], [34.0763, -118.3092], [34.0636, -118.2992], [34.0747, -118.3563], [34.1017, -118.3224], [34.0818, -118.2917], [34.0483, -118.2631], [34.1015, -118.3415], [34.06, -118.42], [34.0427, -118.4585], [34.06, -118.42], [34.0747, -118.3563], [34.057, -118.2691], [34.1904, -118.6059], [34.0561, -118.2375], [34.0483, -118.2631], [33.7405, -118.2798], [34.0561, -118.2375], [34.1904, -118.6059], [34.0483, -118.2631], [34.244, -118.5583], [34.0561, -118.2375], [34.244, -118.5583], [34.048, -118.2577], [34.0598, -118.2891], [34.06, -118.42], [34.2269, -118.4394], [34.244, -118.5583], [34.0483, -118.2631], [34.0589, -118.2821], [34.06, -118.42], [34.06, -118.42], [34.0561, -118.2375], [34.06, -118.42], [34.0442, -118.2439], [34.0747, -118.3563], [34.0747, -118.3563], [34.0747, -118.3563], [34.0561, -118.2375], [34.0577, -118.2799], [34.0747, -118.3563], [34.0483, -118.2631], [34.0747, -118.3563], [34.057, -118.2691], [34.0412, -118.2474], [34.0747, -118.3563], [34.0597, -118.3009], [34.0483, -118.2631], [34.1904, -118.6059], [34.0439, -118.2479], [34.0425, -118.2493], [34.0747, -118.3563], [34.0421, -118.2405], [34.07, -118.1998], [34.0466, -118.252], [34.1015, -118.3417], [34.1015, -118.3796], [34.244, -118.5583], [33.9455, -118.2826], [34.0854, -118.3091], [34.1904, -118.6059], [34.0747, -118.3563], [34.244, -118.5583], [34.06, -118.42], [33.931, -118.2785], [34.06, -118.42], [34.1904, -118.6059], [34.06, -118.42], [34.0427, -118.4585], [34.0427, -118.4585], [34.244, -118.5583], [34.0473, -118.2566], [34.0747, -118.3563], [34.1904, -118.6059], [34.244, -118.5583], [34.06, -118.42], [34.1904, -118.6059], [34.1016, -118.3267], [34.043, -118.242], [34.0453, -118.2499], [34.0747, -118.3563], [34.0043, -118.2827], [34.1904, -118.6059], [34.06, -118.42], [34.0598, -118.2755], [33.9892, -118.2783], [34.0483, -118.2631], [34.1016, -118.3387], [34.167, -118.3759], [34.06, -118.42], [34.0412, -118.2436], [34.0561, -118.2375], [34.0483, -118.2631], [34.0747, -118.3563], [34.06, -118.42], [34.0483, -118.2631], [34.06, -118.42], [34.0435, -118.2471], [34.06, -118.42], [34.0429, -118.2462], [34.0435, -118.2471], [34.0487, -118.2588], [34.0747, -118.3563], [34.0561, -118.2375], [34.0479, -118.2612], [34.0483, -118.2631], [34.0459, -118.2579], [34.1014, -118.2918], [34.0439, -118.2509], [34.0038, -118.2784], [34.0483, -118.2631], [34.244, -118.5583], [34.034, -118.3133], [34.1017, -118.3224], [34.0407, -118.2468], [34.0595, -118.2749], [34.0427, -118.4585], [33.956, -118.2772], [34.1904, -118.6059], [34.1904, -118.6059], [34.0439, -118.2509], [34.06, -118.42], [34.1904, -118.6059], [34.244, -118.5583], [34.0483, -118.2631], [34.1904, -118.6059], [34.0466, -118.2555], [34.0736, -118.3563], [34.0561, -118.2375], [34.244, -118.5583], [33.9528, -118.2785], [34.244, -118.5583], [34.0038, -118.2784], [34.0496, -118.2603], [34.06, -118.42], [34.1904, -118.6059], [34.1017, -118.3056], [34.244, -118.5583], [34.0483, -118.2631], [34.0636, -118.2916], [34.0427, -118.4585], [34.0488, -118.2518], [34.0256, -118.3089], [34.0483, -118.2631], [34.049, -118.2602], [34.0561, -118.2375], [34.1904, -118.6059], [34.0597, -118.3091], [34.0315, -118.2152], [34.0412, -118.2474], [34.0561, -118.2375], [34.244, -118.5583], [0.0, 0.0], [34.0561, -118.2375], [34.06, -118.42], [34.172, -118.3789], [34.244, -118.5583], [33.9747, -118.2783], [34.0561, -118.2375], [34.048, -118.2577], [34.244, -118.5583], [34.0483, -118.2631], [34.1015, -118.3434], [34.0496, -118.2603], [34.244, -118.5583], [34.0427, -118.4585], [34.0496, -118.2603], [34.0561, -118.2375], [34.1018, -118.3093], [34.244, -118.5583], [34.167, -118.3759], [34.0747, -118.3563], [34.0599, -118.3139], [34.244, -118.5583], [34.0427, -118.4585], [34.0561, -118.2375], [34.0561, -118.2375], [34.0561, -118.2375], [34.06, -118.42], [34.0736, -118.3563], [34.0747, -118.3563], [34.0483, -118.2631], [34.0483, -118.2631], [34.0747, -118.3563], [34.0483, -118.2631], [34.0747, -118.3563], [34.0587, -118.2916], [34.1016, -118.3361], [34.0747, -118.3563], [34.0483, -118.2631], [34.0842, -118.222], [34.0577, -118.302], [34.0459, -118.2579], [34.1904, -118.6059], [34.1016, -118.3452], [34.048, -118.2577], [34.06, -118.42], [34.0561, -118.2375], [34.0747, -118.3563], [34.0736, -118.3563], [34.1018, -118.3093], [34.0427, -118.4585], [34.0636, -118.2941], [34.1016, -118.331], [34.06, -118.42], [34.0747, -118.3563], [34.0561, -118.2375], [34.0483, -118.2631], [34.0481, -118.2507], [34.0747, -118.3563], [34.1904, -118.6059], [33.7379, -118.2814], [34.0483, -118.2631], [34.0747, -118.3563], [34.0483, -118.2631], [34.1904, -118.6059], [34.0947, -118.2877], [34.244, -118.5583], [34.0439, -118.2509], [34.0747, -118.3563], [34.0483, -118.2631], [34.0408, -118.2512], [34.0597, -118.3122], [34.0342, -118.2636], [34.1904, -118.6059], [34.06, -118.42], [34.1904, -118.6059], [34.1904, -118.6059], [34.0509, -118.2916], [34.0428, -118.4582], [34.0593, -118.275], [34.0427, -118.4585], [34.1022, -118.3093], [34.0611, -118.4184], [34.0549, -118.2778], [34.0597, -118.302], [34.0427, -118.4585], [34.0691, -118.2916], [34.244, -118.5583], [34.0427, -118.4585], [34.0345, -118.2301], [34.0427, -118.4585], [34.0481, -118.2507], [34.0483, -118.2631], [34.0483, -118.2631], [34.0483, -118.2631], [34.0483, -118.2631], [34.0352, -118.2389], [34.0561, -118.2375], [34.0747, -118.3563], [34.0561, -118.2375], [34.0747, -118.3563], [34.0439, -118.2479], [34.0428, -118.4582], [34.06, -118.42], [34.0442, -118.2439], [34.0429, -118.2462], [34.0496, -118.2603], [34.244, -118.5583], [34.1904, -118.6059], [34.1904, -118.6059], [34.0483, -118.2631], [33.933, -118.2783], [34.0483, -118.2631], [34.0442, -118.2519], [34.048, -118.2577], [34.1904, -118.6059], [34.06, -118.42], [34.0944, -118.3277], [34.0747, -118.3563], [34.0747, -118.3563], [34.0747, -118.3563], [34.0216, -118.2048], [34.172, -118.3789], [34.0351, -118.2386], [34.244, -118.5583], [34.0483, -118.2631], [34.0747, -118.3563], [34.1904, -118.6059], [34.0513, -118.2561], [34.1016, -118.3267], [34.0597, -118.3031], [34.0403, -118.2421], [34.0611, -118.4184], [34.244, -118.5583], [34.0747, -118.3563], [34.0548, -118.2638], [34.06, -118.42], [34.244, -118.5583], [34.0368, -118.2412], [34.0747, -118.3563], [34.0483, -118.2631], [34.0747, -118.3563], [34.0561, -118.2375], [34.022, -118.28], [34.06, -118.42], [34.0747, -118.3563], [33.7848, -118.2975], [34.0561, -118.2375], [34.0483, -118.2631], [34.0747, -118.3563], [0.0, 0.0], [33.9688, -118.2827], [34.0747, -118.3563], [34.1904, -118.6059], [34.0747, -118.3563], [34.0452, -118.2533], [34.06, -118.42], [34.1904, -118.6059], [34.167, -118.3759], [34.0747, -118.3563], [34.0416, -118.244], [34.0429, -118.2462], [34.0561, -118.2375], [34.06, -118.42], [34.0487, -118.2588], [34.0492, -118.2525], [33.9746, -118.2916], [34.0483, -118.2631], [34.0445, -118.2523], [33.9673, -118.309], [34.1904, -118.6059], [34.0565, -118.2768], [34.0561, -118.2375], [34.0431, -118.2537], [34.0483, -118.2631], [34.0561, -118.2375], [34.0595, -118.2749], [34.0483, -118.2631], [34.1016, -118.3361], [34.1016, -118.3387], [34.244, -118.5583], [34.0432, -118.2504], [34.0604, -118.2393], [34.244, -118.5583], [34.0747, -118.3563], [33.8447, -118.3092], [34.1904, -118.6059], [34.0561, -118.2375], [34.244, -118.5583], [34.0483, -118.2631], [34.0483, -118.2631], [34.244, -118.5583], [34.1904, -118.6059], [34.0428, -118.4582], [0.0, 0.0], [34.0561, -118.2375], [34.1904, -118.6059], [34.0483, -118.2631], [34.0429, -118.2462], [34.0747, -118.3563], [34.1904, -118.6059], [34.06, -118.42], [34.0252, -118.2779], [34.0412, -118.2436], [34.0561, -118.2375], [34.1904, -118.6059], [34.0561, -118.2375], [34.0554, -118.2789], [34.0747, -118.3563], [34.06, -118.42], [34.244, -118.5583], [34.0561, -118.2375], [34.0726, -118.2201], [34.0237, -118.2094], [34.0395, -118.2451], [34.0427, -118.4585], [34.0508, -118.2683], [34.0427, -118.4585], [34.0439, -118.2479], [34.0428, -118.4582], [34.048, -118.2577], [34.0747, -118.3563], [34.0611, -118.4184], [34.244, -118.5583], [34.1904, -118.6059], [34.0483, -118.2631], [34.0155, -118.3089], [34.244, -118.5583], [34.1904, -118.6059], [34.0483, -118.2631], [34.0747, -118.3563], [34.1923, -118.6104], [34.0561, -118.2375], [34.06, -118.42], [34.06, -118.42], [34.0453, -118.2499], [34.1904, -118.6059], [34.0488, -118.2518], [34.0747, -118.3563], [34.244, -118.5583], [34.0747, -118.3563], [34.0083, -118.2827], [33.9846, -118.2915], [34.06, -118.42], [34.244, -118.5583], [34.1023, -118.203], [34.0477, -118.2502], [34.06, -118.42], [34.0427, -118.4585], [34.0483, -118.2631], [34.0561, -118.2375], [34.0483, -118.2631], [34.0593, -118.275], [34.0483, -118.2631], [34.0483, -118.2631], [34.06, -118.42], [34.06, -118.42], [34.0483, -118.2631], [34.0561, -118.2375], [34.1904, -118.6059], [34.0611, -118.4184], [34.1904, -118.6059], [34.244, -118.5583], [34.0561, -118.2375], [34.0747, -118.3563], [34.1042, -118.3093], [34.0561, -118.2375], [34.0483, -118.2631], [34.0255, -118.2915], [34.167, -118.3759], [34.0561, -118.2375], [34.0427, -118.4585], [34.0483, -118.2631], [34.1923, -118.6104], [34.0747, -118.3563], [34.0747, -118.3563], [34.0427, -118.4585], [34.06, -118.42], [34.0617, -118.3091], [33.9709, -118.3112], [34.0427, -118.4585], [33.723, -118.3129], [34.0593, -118.275], [34.0502, -118.2539], [34.0483, -118.2631], [34.0561, -118.2375], [34.0736, -118.3563], [34.0615, -118.2412], [34.1904, -118.6059], [34.244, -118.5583], [34.06, -118.42], [34.06, -118.42], [34.06, -118.42], [34.0483, -118.2631], [34.0561, -118.2375], [34.0747, -118.3563], [34.244, -118.5583], [34.0747, -118.3563], [33.9679, -118.2783], [34.0747, -118.3563], [34.0561, -118.2375], [34.1904, -118.6059], [34.0496, -118.2603], [34.1904, -118.6059], [34.244, -118.5583], [34.0561, -118.2375], [34.167, -118.3759], [34.0747, -118.3563], [34.0351, -118.2386], [34.0442, -118.2439], [34.0483, -118.2631], [34.167, -118.3759], [34.0483, -118.2631], [34.244, -118.5583], [34.0561, -118.2375], [34.0747, -118.3563], [34.1015, -118.3415], [34.0565, -118.2768], [34.0483, -118.2631], [34.0483, -118.2631], [34.0372, -118.2418], [34.1904, -118.6059], [34.0483, -118.2631], [34.0427, -118.4585], [34.0747, -118.3563], [34.0561, -118.2375], [34.0461, -118.2475], [34.06, -118.42], [34.0471, -118.2491], [34.0466, -118.2555], [34.06, -118.42], [34.06, -118.42], [34.0561, -118.2375], [34.0466, -118.259], [34.0747, -118.3563], [34.244, -118.5583], [34.1016, -118.3387], [34.0436, -118.2509], [34.0526, -118.3091], [34.244, -118.5583], [34.0747, -118.3563], [34.167, -118.3759], [34.0593, -118.275], [34.0483, -118.2631], [34.06, -118.42], [34.1904, -118.6059], [34.244, -118.5583], [33.7388, -118.2902], [34.06, -118.42], [34.0747, -118.3563], [34.0747, -118.3563], [34.0598, -118.2941], [34.0425, -118.2493], [34.0561, -118.2375], [34.0747, -118.3563], [34.0483, -118.2631], [34.06, -118.42], [34.0561, -118.2375], [34.0561, -118.2375], [34.0483, -118.2631], [34.0487, -118.2588], [34.0561, -118.2375], [34.06, -118.42], [34.0747, -118.3563], [34.06, -118.42], [34.06, -118.42], [34.0747, -118.3563], [34.0427, -118.4585], [34.1016, -118.3387], [34.0483, -118.2631], [34.0483, -118.2631], [34.0442, -118.2519], [34.0487, -118.2588], [34.244, -118.5583], [34.1017, -118.3238], [34.0561, -118.2375], [34.1018, -118.3093], [34.244, -118.5583], [34.0747, -118.3563], [34.0561, -118.2375], [34.0435, -118.2471], [34.0483, -118.2631], [34.244, -118.5583], [34.0561, -118.2375], [34.0452, -118.2533], [34.043, -118.242], [34.1904, -118.6059], [34.0747, -118.3563], [34.1904, -118.6059], [34.244, -118.5583], [34.0747, -118.3563], [34.244, -118.5583], [34.0483, -118.2631], [34.0483, -118.2631], [34.0427, -118.4585], [34.244, -118.5583], [34.0245, -118.2113], [34.0393, -118.2405], [34.0593, -118.275], [34.0842, -118.222], [34.06, -118.42], [34.0496, -118.2603], [34.1016, -118.331], [34.0747, -118.3563], [34.057, -118.2779], [34.0747, -118.3563], [34.0593, -118.275], [34.1017, -118.3093], [34.0747, -118.3563], [34.0483, -118.2631], [34.0747, -118.3563], [34.244, -118.5583], [34.0561, -118.2375], [34.172, -118.3789], [34.244, -118.5583], [34.06, -118.42], [34.0747, -118.3563], [34.06, -118.42], [34.0561, -118.2375], [34.244, -118.5583], [34.06, -118.42], [34.244, -118.5583], [34.0747, -118.3563], [34.0483, -118.2631], [34.244, -118.5583], [34.0736, -118.3563], [34.1904, -118.6059], [34.0427, -118.4585], [34.0188, -118.2915], [0.0, 0.0], [33.9601, -118.2783], [34.06, -118.42], [34.06, -118.42], [34.0747, -118.3563], [34.1904, -118.6059], [34.0483, -118.2631], [34.0561, -118.2375], [34.0598, -118.2755], [34.0611, -118.4184], [34.244, -118.5583], [34.0561, -118.2375], [34.0747, -118.3563], [34.0747, -118.3563], [34.0747, -118.3563], [34.244, -118.5583], [34.1904, -118.6059], [34.0501, -118.2593], [34.1015, -118.3415], [34.167, -118.3759], [34.06, -118.42], [34.06, -118.42], [34.1904, -118.6059], [34.0747, -118.3563], [34.0747, -118.3563], [34.0502, -118.2539], [34.0483, -118.2631], [34.0483, -118.2631], [34.0747, -118.3563], [34.0747, -118.3563], [34.06, -118.42], [34.0427, -118.4585], [34.1904, -118.6059], [34.0483, -118.2631], [34.0496, -118.2603], [34.0483, -118.2631], [34.0483, -118.2631], [34.06, -118.42], [34.0439, -118.2509], [34.0585, -118.2725], [34.0611, -118.4184], [34.0593, -118.275], [34.1016, -118.3267], [34.0427, -118.4585], [34.0427, -118.4585], [33.9469, -118.2772], [34.1016, -118.3387], [34.1904, -118.6059], [34.1904, -118.6059], [34.0483, -118.2631], [34.0483, -118.2631], [34.1016, -118.3374], [34.0561, -118.2375], [34.1904, -118.6059], [34.0351, -118.2386], [34.0747, -118.3563], [34.0483, -118.2631], [34.06, -118.42], [34.172, -118.3789], [34.244, -118.5583], [34.0747, -118.3563], [34.1904, -118.6059], [33.9601, -118.2827], [34.0439, -118.2479], [34.0561, -118.2375], [34.0439, -118.2479], [34.0561, -118.2375], [34.1904, -118.6059], [34.0256, -118.3089], [34.0747, -118.3563], [34.06, -118.42], [34.06, -118.42], [34.0427, -118.4585], [34.0483, -118.2631], [34.06, -118.42], [34.0763, -118.2917], [34.0747, -118.3563], [34.0073, -118.2894], [34.0561, -118.2375], [34.0747, -118.3563], [34.0445, -118.2523], [34.1904, -118.6059], [34.1904, -118.6059], [34.0747, -118.3563], [34.0991, -118.2918], [34.0492, -118.2525], [34.0401, -118.2459], [34.0747, -118.3563], [34.0483, -118.2631], [34.1904, -118.6059], [34.0483, -118.2631], [33.9993, -118.3244], [34.0561, -118.2375], [34.0635, -118.3141], [34.244, -118.5583], [34.0483, -118.2631], [34.0649, -118.3472], [34.06, -118.42], [34.0561, -118.2375], [33.9638, -118.2629], [34.0428, -118.4582], [34.244, -118.5583], [34.0483, -118.2631], [34.0407, -118.2468], [34.0736, -118.3563], [34.0636, -118.2979], [34.0428, -118.4582], [34.0474, -118.2496], [34.0412, -118.2474], [34.0561, -118.2375], [34.0449, -118.2528], [34.0736, -118.3563], [34.0595, -118.2749], [34.1904, -118.6059], [33.9906, -118.2783], [34.0547, -118.2772], [34.0561, -118.2375], [34.1904, -118.6059], [34.0611, -118.4184], [34.0279, -118.219], [34.1904, -118.6059], [34.0453, -118.249], [34.0736, -118.3563], [34.0736, -118.3563], [34.0599, -118.3143], [34.244, -118.5583], [34.0483, -118.2631], [34.0428, -118.4582], [34.0611, -118.4184], [34.0481, -118.2507], [34.244, -118.5583], [34.244, -118.5583], [34.0736, -118.3563], [34.1904, -118.6059], [34.0494, -118.2599], [34.1904, -118.6059], [34.0736, -118.3563], [33.96, -118.2918], [34.1904, -118.6059], [34.0428, -118.4582], [34.0428, -118.4582], [34.079, -118.2917], [34.0561, -118.2375], [34.0728, -118.2878], [34.1904, -118.6059], [34.0483, -118.2631], [34.1018, -118.3093], [34.167, -118.3759], [34.0483, -118.2631], [34.0635, -118.3066], [34.0428, -118.4582], [34.0442, -118.2519], [34.0428, -118.4582], [34.0561, -118.2375], [34.0428, -118.4582], [34.0736, -118.3563], [34.0736, -118.3563], [34.0428, -118.4582], [34.0611, -118.4184], [34.0736, -118.3563], [34.0368, -118.2412], [34.0483, -118.2631], [34.0466, -118.252], [34.0428, -118.4582], [34.042, -118.2485], [34.0483, -118.2631], [33.9637, -118.2916], [34.0417, -118.2444], [34.0561, -118.2375], [34.0466, -118.252], [34.244, -118.5583], [34.0736, -118.3563], [34.1923, -118.6104], [34.0483, -118.2631], [34.167, -118.3759], [34.0483, -118.2631], [34.0473, -118.2566], [34.244, -118.5583], [34.0736, -118.3563], [34.0558, -118.2436], [34.1904, -118.6059], [34.0481, -118.2507], [34.244, -118.5583], [34.0428, -118.4582], [34.1904, -118.6059], [34.0611, -118.4184], [33.9437, -118.2784], [34.0483, -118.2631], [34.0483, -118.2631], [34.0429, -118.2462], [34.0483, -118.2631], [34.1904, -118.6059], [34.0615, -118.2412], [34.0428, -118.4582], [34.0595, -118.2749], [34.0483, -118.2631], [34.0483, -118.2631], [34.0483, -118.2631], [34.0221, -118.2915], [34.0483, -118.2631], [34.0636, -118.2966], [34.048, -118.2588], [34.0496, -118.2603], [34.0483, -118.2631], [34.0483, -118.2631], [34.244, -118.5583], [34.172, -118.3789], [34.0483, -118.2631], [34.0611, -118.4184], [34.0736, -118.3563], [34.0483, -118.2631], [34.0736, -118.3563], [34.061, -118.2775], [34.0452, -118.2569], [33.9892, -118.2783], [34.0483, -118.2631], [34.0561, -118.2375], [34.0736, -118.3563], [34.0561, -118.2375], [34.0595, -118.2749], [34.0428, -118.4582], [34.1904, -118.6059], [34.0561, -118.2375], [34.0483, -118.2631], [34.0736, -118.3563], [34.1904, -118.6059], [34.0736, -118.3563], [34.0435, -118.2427], [34.0459, -118.2579], [34.0736, -118.3563], [34.0611, -118.4184], [34.0611, -118.4184], [33.9995, -118.2893], [34.0561, -118.2375], [34.244, -118.5583], [34.0736, -118.3563], [34.167, -118.3759], [34.0561, -118.2375], [34.0561, -118.2375], [34.0483, -118.2631], [34.0611, -118.4184], [34.244, -118.5583], [34.1904, -118.6059], [34.0736, -118.3563], [34.0483, -118.2631], [34.244, -118.5583], [33.7925, -118.3075], [34.0611, -118.4184], [33.9824, -118.2827], [34.0597, -118.2998], [34.0483, -118.2631], [34.0736, -118.3563], [34.0428, -118.4582], [34.0611, -118.4184], [34.0597, -118.3091], [34.0428, -118.4582], [34.0561, -118.2375], [34.1276, -118.1872], [34.0483, -118.2631], [34.0481, -118.2507], [34.0428, -118.4582], [34.0615, -118.2412], [34.1904, -118.6059], [34.0595, -118.2749], [34.0611, -118.4184], [34.0736, -118.3563], [34.0412, -118.2436], [34.0598, -118.2891], [34.0428, -118.4582], [34.0736, -118.3563], [34.048, -118.2577], [34.0382, -118.2345], [34.0736, -118.3563], [34.1016, -118.3267], [34.0446, -118.245], [34.0483, -118.2631], [34.244, -118.5583], [34.0611, -118.4184], [34.0611, -118.4184], [34.0611, -118.4184], [34.0736, -118.3563], [33.9392, -118.2826], [34.0483, -118.2631], [34.0673, -118.2917], [34.0736, -118.3563], [34.1904, -118.6059], [34.0483, -118.2631], [34.0597, -118.3031], [34.0483, -118.2631], [34.0736, -118.3563], [34.0483, -118.2631], [34.1904, -118.6059], [34.0442, -118.2439], [34.0452, -118.2533], [34.0736, -118.3563], [34.0428, -118.4582], [34.0611, -118.4184], [34.0736, -118.3563], [34.0561, -118.2375], [34.244, -118.5583], [34.1904, -118.6059], [34.0329, -118.2182], [34.0466, -118.252], [34.0483, -118.2631], [34.0736, -118.3563], [34.0542, -118.2717], [34.0611, -118.4184], [34.0736, -118.3563], [34.0483, -118.2631], [34.0446, -118.245], [33.9456, -118.2784], [34.0736, -118.3563], [34.244, -118.5583], [34.0611, -118.4184], [34.0428, -118.4582], [34.0483, -118.2631], [34.1904, -118.6059], [34.0483, -118.2631], [34.0736, -118.3563], [34.0595, -118.2749], [34.0561, -118.2375], [34.0483, -118.2631], [34.1904, -118.6059], [34.0408, -118.2428], [34.0459, -118.2579], [34.0579, -118.2711], [34.0483, -118.2631]],\n",
              "                {&quot;blur&quot;: 15, &quot;maxZoom&quot;: 18, &quot;minOpacity&quot;: 0.5, &quot;radius&quot;: 25}\n",
              "            );\n",
              "        \n",
              "    \n",
              "            heat_map_612f602ecff7e31bb53ce4af295c765a.addTo(map_1b9a50a6279803ab78f977e6e1d033d6);\n",
              "        \n",
              "    \n",
              "            tile_layer_a185acf7ec72cd8cfd854e71666d8c56.addTo(map_1b9a50a6279803ab78f977e6e1d033d6);\n",
              "        \n",
              "    \n",
              "            heat_map_612f602ecff7e31bb53ce4af295c765a.addTo(map_1b9a50a6279803ab78f977e6e1d033d6);\n",
              "        \n",
              "    \n",
              "            var heat_map_94a9d7f24137863b3d474e90bc9df276 = L.heatLayer(\n",
              "                [[34.0635, -118.3116], [34.0311, -118.2143], [34.1904, -118.6059], [34.0276, -118.2146], [34.244, -118.5583], [34.0635, -118.3104], [34.0111, -118.2789], [34.0436, -118.2509], [33.9164, -118.2916], [34.0747, -118.3563], [34.1018, -118.3093], [33.9655, -118.2918], [34.244, -118.5583], [34.0763, -118.3092], [34.0496, -118.2603], [34.0561, -118.2375], [34.0747, -118.3563], [34.0561, -118.2375], [34.1018, -118.2032], [34.0309, -118.199], [34.0378, -118.2483], [34.1016, -118.3348], [34.0483, -118.2631], [34.0407, -118.2468], [34.0433, -118.2652], [34.0091, -118.2784], [34.0598, -118.2842], [33.9875, -118.2915], [34.0453, -118.2499], [33.9892, -118.2783], [33.9824, -118.2827], [34.1031, -118.2029], [34.0597, -118.3042], [34.0432, -118.2504], [34.0439, -118.2509], [34.0649, -118.3483], [34.0713, -118.2291], [34.0466, -118.2555], [34.0446, -118.249], [34.167, -118.3759], [34.0395, -118.2451], [34.0453, -118.2637], [34.0763, -118.3092], [34.244, -118.5583], [34.0442, -118.2519], [34.1904, -118.6059], [33.9923, -118.2915], [34.0346, -118.2323], [34.0563, -118.281], [34.0121, -118.2915], [34.0611, -118.3681], [34.06, -118.42], [34.0561, -118.2375], [33.7733, -118.2786], [34.0459, -118.2579], [34.0418, -118.3269], [34.0285, -118.2031], [33.9951, -118.3089], [34.048, -118.2542], [34.0599, -118.3143], [33.9567, -118.2827], [34.0055, -118.3089], [34.0377, -118.2425], [33.995, -118.4685], [34.0577, -118.2954], [34.06, -118.42], [34.1904, -118.6059], [34.0849, -118.3091], [33.8463, -118.2904], [33.9807, -118.3265], [34.048, -118.2577], [34.0747, -118.3563], [33.7378, -118.2804], [34.1904, -118.6059], [33.9528, -118.2916], [34.0539, -118.2712], [34.0568, -118.2821], [34.0065, -118.2784], [34.0747, -118.3563], [34.0545, -118.2723], [34.0412, -118.2474], [33.9492, -118.2781], [34.0466, -118.2555], [34.0315, -118.2656], [34.0449, -118.2528], [34.1017, -118.3224], [34.167, -118.3759], [34.0328, -118.2916], [34.244, -118.5583], [33.7379, -118.2968], [34.0598, -118.2935], [34.0609, -118.3603], [33.8807, -118.2913], [33.9092, -118.2827], [34.0747, -118.3563], [34.244, -118.5583], [34.0464, -118.248], [34.06, -118.42], [33.8127, -118.3088], [34.0256, -118.3089], [34.061, -118.2775], [34.0452, -118.2569], [34.0451, -118.2498], [33.7379, -118.2923], [34.0487, -118.2588], [34.0328, -118.2916], [34.06, -118.42], [34.0481, -118.2507], [34.0609, -118.278], [34.06, -118.42], [34.167, -118.3759], [34.0408, -118.2428], [34.0453, -118.2499], [34.0981, -118.2055], [34.0111, -118.2827], [34.0387, -118.2439], [34.064, -118.2375], [34.0452, -118.2533], [34.0315, -118.2152], [34.0529, -118.2597], [34.0635, -118.3091], [34.244, -118.5583], [34.0628, -118.2821], [34.0064, -118.2916], [34.06, -118.42], [34.0466, -118.252], [34.0635, -118.3091], [34.244, -118.5583], [34.0368, -118.2412], [34.0836, -118.2917], [34.0241, -118.2103], [33.9892, -118.2783], [34.0451, -118.2498], [34.0223, -118.2719], [33.9164, -118.2828], [34.244, -118.5583], [33.9655, -118.2915], [33.9356, -118.2826], [34.0877, -118.2917], [33.8057, -118.3077], [34.06, -118.42], [34.0721, -118.2213], [34.167, -118.3759], [34.1904, -118.6059], [34.0649, -118.3546], [33.9965, -118.2827], [34.0587, -118.3205], [34.1904, -118.6059], [34.0453, -118.2499], [33.9374, -118.2781], [34.0294, -118.2671], [34.0548, -118.2638], [34.0436, -118.2509], [33.9415, -118.2916], [34.06, -118.42], [34.0737, -118.2131], [34.0355, -118.2456], [34.057, -118.2779], [33.9897, -118.2915], [34.0561, -118.2375], [34.0549, -118.2778], [34.0608, -118.3352], [34.0451, -118.2498], [33.9678, -118.2916], [34.04, -118.2916], [34.0598, -118.2987], [34.0561, -118.2981], [34.244, -118.5583], [34.0867, -118.3092], [34.0488, -118.2518], [34.0439, -118.2509], [34.244, -118.5583], [34.0476, -118.2612], [34.0559, -118.2756], [34.0598, -118.2755], [34.0561, -118.2375], [33.9915, -118.2827], [34.1904, -118.6059], [34.0466, -118.252], [34.244, -118.5583], [34.0498, -118.2681], [34.0026, -118.2915], [34.1904, -118.6059], [34.0635, -118.3091], [33.9746, -118.2917], [34.0525, -118.2726], [34.1904, -118.6059], [34.1904, -118.6059], [33.9892, -118.2783], [34.0529, -118.2733], [33.9348, -118.2781], [34.244, -118.5583], [34.0635, -118.3104], [33.9961, -118.4655], [34.057, -118.2691], [34.06, -118.42], [33.9356, -118.2784], [34.0517, -118.2663], [34.0445, -118.2523], [34.0346, -118.2323], [34.1017, -118.3224], [34.0155, -118.2772], [33.7379, -118.2857], [34.0577, -118.2799], [34.0627, -118.2463], [34.0548, -118.2638], [34.0408, -118.2512], [34.06, -118.42], [34.0496, -118.265], [34.0636, -118.2966], [34.0598, -118.2842], [34.0578, -118.2916], [34.0649, -118.3494], [33.878, -118.2911], [34.0111, -118.2827], [33.9824, -118.2783], [34.0409, -118.2574], [34.0577, -118.302], [34.042, -118.2485], [34.0561, -118.2375], [34.1904, -118.6059], [34.244, -118.5583], [34.0255, -118.2915], [34.0525, -118.2726], [33.9423, -118.2916], [34.0835, -118.3091], [34.0548, -118.2638], [34.0358, -118.21], [34.0436, -118.2509], [34.0351, -118.2386], [34.0429, -118.2462], [34.0241, -118.2103], [34.0561, -118.2375], [34.0545, -118.2723], [34.0451, -118.2498], [34.0508, -118.2683], [34.022, -118.28], [34.06, -118.42], [34.0763, -118.3092], [34.0636, -118.2992], [34.0445, -118.2523], [34.1017, -118.3136], [33.7289, -118.2846], [34.0347, -118.2252], [34.0446, -118.249], [34.0531, -118.2694], [34.0597, -118.3009], [34.0672, -118.2941], [34.046, -118.251], [34.0459, -118.2579], [34.057, -118.2691], [34.0483, -118.2631], [34.06, -118.42], [34.0508, -118.3091], [34.244, -118.5583], [34.0746, -118.3091], [34.167, -118.3759], [33.9727, -118.2783], [33.7947, -118.2908], [34.0636, -118.2941], [34.2269, -118.4394], [34.0466, -118.2555], [34.0589, -118.2821], [34.1904, -118.6059], [34.0561, -118.2375], [33.9719, -118.2916], [34.0383, -118.2327], [34.0425, -118.2493], [34.0548, -118.2638], [34.0446, -118.249], [34.0597, -118.3009], [34.1904, -118.6059], [34.1904, -118.6059], [34.1027, -118.2918], [33.9699, -118.2783], [34.172, -118.3789], [34.06, -118.42], [34.1015, -118.3796], [34.1904, -118.6059], [33.9164, -118.2828], [34.0598, -118.2987], [34.1016, -118.3252], [34.0452, -118.2533], [34.0436, -118.2509], [33.931, -118.2785], [34.0382, -118.2603], [33.9933, -118.2827], [34.0473, -118.2531], [33.9551, -118.2827], [34.0595, -118.2749], [34.0597, -118.3042], [34.0043, -118.2827], [34.0446, -118.249], [34.0598, -118.2755], [34.0627, -118.2463], [34.0597, -118.3066], [34.244, -118.5583], [34.1904, -118.6059], [34.1904, -118.6059], [33.7527, -118.3089], [34.0653, -118.3156], [34.0495, -118.2494], [34.0747, -118.3563], [34.1017, -118.3224], [33.9176, -118.2829], [34.1904, -118.6059], [34.1904, -118.6059], [34.0466, -118.2555], [33.9892, -118.3089], [34.0559, -118.3091], [33.9528, -118.2785], [33.9819, -118.2915], [34.0141, -118.277], [34.0561, -118.2375], [34.0446, -118.249], [34.057, -118.2691], [34.0289, -118.2686], [34.1904, -118.6059], [33.9807, -118.2783], [34.0315, -118.2152], [34.0502, -118.2539], [34.0496, -118.265], [33.9747, -118.2783], [34.0432, -118.2504], [34.0492, -118.2525], [34.002, -118.2783], [34.0496, -118.2603], [34.0636, -118.3047], [34.046, -118.251], [34.0461, -118.2475], [34.0451, -118.2498], [34.0223, -118.2719], [34.0459, -118.2579], [34.244, -118.5583], [34.0579, -118.2649], [34.06, -118.42], [33.9637, -118.2916], [34.105, -118.2022], [34.049, -118.2602], [34.0577, -118.2941], [34.0415, -118.2374], [34.0452, -118.2533], [34.244, -118.5583], [34.04, -118.2916], [34.0577, -118.302], [33.8925, -118.2917], [34.0637, -118.287], [34.0597, -118.3078], [34.06, -118.42], [34.0487, -118.2588], [33.9419, -118.2784], [34.0483, -118.2631], [34.0446, -118.249], [33.9567, -118.2827], [34.0597, -118.3066], [33.9822, -118.2915], [34.0323, -118.217], [34.0561, -118.2375], [34.0483, -118.2631], [34.0408, -118.2512], [34.0065, -118.2784], [34.0091, -118.2784], [34.0371, -118.2611], [34.0597, -118.3122], [34.0496, -118.2603], [34.0453, -118.2499], [33.9943, -118.4709], [34.1017, -118.354], [34.048, -118.2577], [34.0636, -118.2966], [34.0368, -118.2412], [34.0654, -118.2929], [34.0509, -118.2916], [34.0419, -118.2523], [34.0597, -118.302], [34.06, -118.42], [34.0577, -118.2799], [34.0529, -118.2733], [34.057, -118.2779], [34.1016, -118.3325], [34.0427, -118.4585], [34.0483, -118.2631], [34.2391, -118.5536], [34.0608, -118.3594], [34.0446, -118.249], [34.0352, -118.2389], [34.0473, -118.2601], [34.0425, -118.2493], [34.0496, -118.2603], [34.1904, -118.6059], [34.0483, -118.2631], [34.0531, -118.2694], [34.1017, -118.3224], [33.9563, -118.309], [33.933, -118.2783], [34.06, -118.42], [33.9933, -118.2783], [34.1017, -118.3561], [34.0598, -118.2979], [34.0216, -118.2048], [34.0351, -118.2386], [34.167, -118.3759], [34.244, -118.5583], [33.9537, -118.2782], [34.0309, -118.199], [34.0464, -118.248], [34.0597, -118.3031], [33.9188, -118.283], [34.06, -118.42], [34.0747, -118.3563], [34.0548, -118.2638], [34.0368, -118.2412], [34.0628, -118.2811], [34.0417, -118.2444], [34.0747, -118.3563], [34.1904, -118.6059], [34.036, -118.2461], [34.0483, -118.2631], [34.073, -118.3091], [34.048, -118.2577], [34.0466, -118.252], [34.0477, -118.2502], [34.0717, -118.2224], [33.9746, -118.2916], [34.0577, -118.2954], [34.0555, -118.2793], [34.0726, -118.2201], [33.9906, -118.2783], [34.0576, -118.3091], [34.0432, -118.2504], [34.1904, -118.6059], [0.0, 0.0], [34.0453, -118.2499], [0.0, 0.0], [34.0449, -118.2528], [34.0747, -118.3563], [34.0439, -118.2509], [33.9947, -118.2783], [34.0577, -118.3042], [34.06, -118.42], [34.1904, -118.6059], [33.9563, -118.309], [34.0561, -118.2375], [34.0726, -118.2201], [34.0429, -118.2462], [34.06, -118.42], [34.0598, -118.2929], [34.0508, -118.2683], [34.0439, -118.2479], [34.0522, -118.2673], [34.0891, -118.2146], [34.0055, -118.3089], [34.0483, -118.2631], [34.0862, -118.2174], [34.244, -118.5583], [34.058, -118.2715], [34.0555, -118.2746], [33.9211, -118.2916], [33.9348, -118.2784], [34.0083, -118.2827], [33.9846, -118.2915], [34.0581, -118.3132], [34.244, -118.5583], [33.9892, -118.2783], [34.1023, -118.203], [34.055, -118.2735], [34.1904, -118.6059], [34.0483, -118.2631], [34.0747, -118.3563], [34.244, -118.5583], [34.0323, -118.2022], [34.0382, -118.2915], [34.244, -118.5583], [34.0442, -118.2519], [34.0635, -118.3116], [33.9632, -118.2827], [34.1904, -118.6059], [34.048, -118.2577], [33.9709, -118.3112], [33.723, -118.3129], [34.0466, -118.2555], [34.0522, -118.2673], [34.0174, -118.3089], [34.0653, -118.3091], [34.06, -118.42], [34.0747, -118.3563], [34.0736, -118.3563], [34.1904, -118.6059], [34.0636, -118.3016], [34.244, -118.5583], [34.0498, -118.2681], [34.0352, -118.2389], [34.06, -118.42], [34.1016, -118.3295], [34.0091, -118.2916], [33.9707, -118.2916], [34.0119, -118.3089], [34.0506, -118.2699], [34.0579, -118.2649], [34.1904, -118.6059], [34.0442, -118.2439], [34.0483, -118.2631], [34.0864, -118.219], [34.244, -118.5583], [34.0577, -118.2954], [34.167, -118.3759], [34.0885, -118.3092], [34.0597, -118.3009], [34.0417, -118.2362], [34.0372, -118.2418], [34.1016, -118.3387], [34.0538, -118.2616], [34.0466, -118.2555], [34.06, -118.42], [34.048, -118.2577], [34.0511, -118.2707], [34.0473, -118.2601], [34.2269, -118.4394], [34.0382, -118.2345], [34.0473, -118.2601], [34.0577, -118.3066], [34.1904, -118.6059], [34.244, -118.5583], [33.7388, -118.2902], [34.0747, -118.3563], [34.0473, -118.2531], [34.0598, -118.2865], [33.9727, -118.2916], [34.167, -118.3759], [34.0737, -118.2143], [34.0144, -118.2753], [34.0736, -118.2178], [34.059, -118.2737], [34.0577, -118.2941], [34.0747, -118.3563], [34.0496, -118.2603], [34.048, -118.2542], [34.048, -118.2542], [34.1016, -118.331], [34.0466, -118.259], [34.0736, -118.2156], [34.0429, -118.2462], [34.0407, -118.2468], [33.9965, -118.2783], [34.0428, -118.2532], [33.9301, -118.2916], [33.9669, -118.2827], [34.0359, -118.246], [33.9274, -118.2826], [34.0245, -118.2113], [34.0466, -118.259], [34.0496, -118.2603], [34.1016, -118.35], [34.0409, -118.2574], [34.167, -118.3759], [34.0531, -118.2738], [34.0417, -118.2444], [34.0459, -118.2579], [34.0371, -118.2475], [34.06, -118.42], [34.059, -118.2824], [33.741, -118.2838], [34.0581, -118.3132], [33.9519, -118.2782], [34.0595, -118.3215], [33.9709, -118.3112], [0.0, 0.0], [34.244, -118.5583], [33.9601, -118.2783], [34.1904, -118.6059], [34.0561, -118.2375], [34.1904, -118.6059], [34.0417, -118.2362], [33.9188, -118.283], [34.0444, -118.2443], [34.0599, -118.3143], [34.0552, -118.2649], [34.0597, -118.3091], [34.042, -118.2485], [34.0429, -118.2462], [34.0636, -118.3016], [33.9891, -118.2915], [34.0747, -118.3563], [34.0747, -118.3563], [34.0598, -118.2954], [34.167, -118.3759], [34.0636, -118.3016], [33.9469, -118.2772], [34.0609, -118.278], [34.0451, -118.2498], [34.1054, -118.2918], [34.0459, -118.2545], [33.9455, -118.2826], [33.9586, -118.2782], [33.9374, -118.2826], [34.244, -118.5583], [34.0636, -118.2979], [34.0276, -118.2748], [34.0597, -118.3009], [34.244, -118.5583], [33.9486, -118.3094], [34.0315, -118.2152], [34.1904, -118.6059], [34.1034, -118.3325], [33.9545, -118.309], [34.0219, -118.1947], [0.0, 0.0], [34.0221, -118.2915], [33.9456, -118.2784], [34.0991, -118.2918], [34.167, -118.3759], [33.9468, -118.309], [33.9993, -118.3244], [34.0452, -118.2569], [34.0561, -118.2375], [34.0635, -118.3141], [34.0578, -118.2916], [34.0524, -118.2678], [34.049, -118.2602], [34.0636, -118.2979], [34.0483, -118.2631], [34.0038, -118.2827], [34.0494, -118.2599], [34.0452, -118.2569], [34.0268, -118.2047], [34.244, -118.5583], [34.0425, -118.2493], [34.0649, -118.3546], [34.0453, -118.249], [34.0466, -118.259], [34.0738, -118.2065], [34.1016, -118.331], [34.0494, -118.2599], [34.0736, -118.3563], [34.0321, -118.2166], [34.079, -118.2917], [34.0523, -118.2677], [34.0728, -118.2878], [34.0281, -118.2194], [34.1904, -118.6059], [34.1018, -118.3093], [34.0473, -118.2566], [33.9164, -118.2827], [34.0635, -118.3066], [34.1016, -118.3295], [33.9915, -118.3089], [33.7925, -118.3075], [34.0466, -118.252], [34.0466, -118.252], [34.0453, -118.249], [34.0611, -118.4184], [34.244, -118.5583], [34.1923, -118.6104], [34.0483, -118.2631], [34.0653, -118.3079], [34.244, -118.5583], [34.1904, -118.6059], [34.0558, -118.2436], [34.0561, -118.2375], [34.0597, -118.3078], [34.0611, -118.4184], [34.0561, -118.2375], [34.0511, -118.2704], [34.0417, -118.2444], [34.0736, -118.3563], [34.0595, -118.2749], [34.1019, -118.2264], [34.0221, -118.2915], [34.0496, -118.2603], [34.167, -118.3759], [33.9655, -118.2917], [34.0439, -118.2479], [34.064, -118.2375], [34.0432, -118.2504], [34.0578, -118.2916], [34.1016, -118.337], [34.0515, -118.2658], [34.0637, -118.2899], [34.061, -118.2775], [34.0409, -118.2574], [34.0471, -118.2491], [34.1016, -118.3361], [34.0598, -118.2941], [34.0637, -118.287], [34.0459, -118.2579], [34.0637, -118.2857], [34.167, -118.3759], [34.0561, -118.2375], [33.7925, -118.3075], [34.0577, -118.302], [33.9637, -118.309], [34.0597, -118.2998], [34.0577, -118.2929], [34.046, -118.2493], [34.0561, -118.2375], [34.1276, -118.1872], [33.737, -118.2946], [34.0432, -118.2504], [33.9923, -118.287], [34.0409, -118.2574], [34.0595, -118.2749], [34.049, -118.2592], [34.0463, -118.255], [34.048, -118.2577], [34.0409, -118.2574], [34.0382, -118.2345], [34.1016, -118.3387], [34.0432, -118.2504], [34.1904, -118.6059], [34.0596, -118.3022], [34.0877, -118.2917], [34.0673, -118.2917], [34.0381, -118.2483], [34.167, -118.3759], [34.0128, -118.3089], [34.0459, -118.2579], [34.0346, -118.2323], [34.0555, -118.2656], [34.0597, -118.3031], [34.0607, -118.3512], [34.0496, -118.265], [34.0439, -118.2479], [34.0445, -118.2523], [34.0434, -118.2542], [34.0611, -118.4184], [34.0483, -118.2631], [34.1904, -118.6059], [34.1016, -118.335], [34.0736, -118.3563], [34.0329, -118.2182], [34.0466, -118.252], [34.0436, -118.309], [33.9915, -118.2783], [34.055, -118.2735], [34.0442, -118.2519], [34.0609, -118.278], [34.1155, -118.1847], [33.9456, -118.2784], [34.1904, -118.6059], [34.0452, -118.2569], [34.0736, -118.3563], [34.1904, -118.6059], [34.0635, -118.3066]],\n",
              "                {&quot;blur&quot;: 15, &quot;maxZoom&quot;: 18, &quot;minOpacity&quot;: 0.5, &quot;radius&quot;: 25}\n",
              "            );\n",
              "        \n",
              "    \n",
              "            heat_map_94a9d7f24137863b3d474e90bc9df276.addTo(map_1b9a50a6279803ab78f977e6e1d033d6);\n",
              "        \n",
              "    \n",
              "            tile_layer_a185acf7ec72cd8cfd854e71666d8c56.addTo(map_1b9a50a6279803ab78f977e6e1d033d6);\n",
              "        \n",
              "    \n",
              "            heat_map_612f602ecff7e31bb53ce4af295c765a.addTo(map_1b9a50a6279803ab78f977e6e1d033d6);\n",
              "        \n",
              "    \n",
              "            heat_map_94a9d7f24137863b3d474e90bc9df276.addTo(map_1b9a50a6279803ab78f977e6e1d033d6);\n",
              "        \n",
              "    \n",
              "            var heat_map_dc780d1db4dd099bbb156997c0095824 = L.heatLayer(\n",
              "                [],\n",
              "                {&quot;blur&quot;: 15, &quot;maxZoom&quot;: 18, &quot;minOpacity&quot;: 0.5, &quot;radius&quot;: 25}\n",
              "            );\n",
              "        \n",
              "    \n",
              "            heat_map_dc780d1db4dd099bbb156997c0095824.addTo(map_1b9a50a6279803ab78f977e6e1d033d6);\n",
              "        \n",
              "&lt;/script&gt;\n",
              "&lt;/html&gt;\" style=\"position:absolute;width:100%;height:100%;left:0;top:0;border:none !important;\" allowfullscreen webkitallowfullscreen mozallowfullscreen></iframe></div></div>"
            ]
          },
          "metadata": {}
        }
      ],
      "source": [
        "crime_filtered_df = filter_df_by_crime(year_filtered_df, 'THEFT')\n",
        "\n",
        "# Filtramos por area\n",
        "area_grouped_df = crime_filtered_df.groupby('AREA NAME').value_counts().reset_index().loc[: 'LAT', 'LON'].dropna().values.tolist()\n",
        "\n",
        "HeatMap(area_grouped_df).add_to(m)\n",
        "display(m)"
      ]
    },
    {
      "cell_type": "markdown",
      "metadata": {
        "id": "8Z1NfqmAY9Ka"
      },
      "source": [
        "---\n",
        "\n",
        "## Predicciones usando árboles"
      ]
    },
    {
      "cell_type": "code",
      "execution_count": null,
      "metadata": {
        "id": "yJHFO8rdY9Ka"
      },
      "outputs": [],
      "source": [
        "from sklearn.model_selection import train_test_split\n",
        "from sklearn.tree import DecisionTreeRegressor\n",
        "from sklearn import metrics"
      ]
    },
    {
      "cell_type": "markdown",
      "metadata": {
        "id": "aLo75up4Y9Kb"
      },
      "source": [
        "#### Robos en `Central`"
      ]
    },
    {
      "cell_type": "markdown",
      "metadata": {
        "id": "bKcN4TsDY9Kb"
      },
      "source": [
        "Agrupamos los crímenes por Central y robos"
      ]
    },
    {
      "cell_type": "code",
      "execution_count": null,
      "metadata": {
        "id": "faM8sWh7Y9Kb"
      },
      "outputs": [],
      "source": [
        "filtered_df = df[(df['Crm Cd Desc'].str.contains('THEFT')) & (df['AREA NAME'] == 'Central')]\n",
        "grouped_df = filtered_df.groupby('Single date').size().reset_index(name='número_crimenes').sort_values(by='Single date')"
      ]
    },
    {
      "cell_type": "markdown",
      "metadata": {
        "id": "yNA10SaKY9Kb"
      },
      "source": [
        "Para hacer más preciso el model, separamos por día, mes, año y día de la semana"
      ]
    },
    {
      "cell_type": "code",
      "execution_count": null,
      "metadata": {
        "id": "o5FTt91yY9Kb"
      },
      "outputs": [],
      "source": [
        "grouped_df['año'] = pd.to_datetime(grouped_df['Single date']).dt.year\n",
        "grouped_df['mes'] = pd.to_datetime(grouped_df['Single date']).dt.month\n",
        "grouped_df['día'] = pd.to_datetime(grouped_df['Single date']).dt.day\n",
        "grouped_df['día_semana'] = pd.to_datetime(grouped_df['Single date']).dt.dayofweek"
      ]
    },
    {
      "cell_type": "code",
      "execution_count": null,
      "metadata": {
        "id": "BpSGI48zY9Kb"
      },
      "outputs": [],
      "source": [
        "X = grouped_df[['año', 'mes', 'día', 'día_semana']]\n",
        "y = grouped_df[['número_crimenes']]"
      ]
    },
    {
      "cell_type": "code",
      "execution_count": null,
      "metadata": {
        "id": "UC1IN-S8Y9Kb"
      },
      "outputs": [],
      "source": [
        "X_train, X_test, y_train, y_test = train_test_split(X, y, test_size=0.4, random_state=42)"
      ]
    },
    {
      "cell_type": "code",
      "execution_count": null,
      "metadata": {
        "colab": {
          "base_uri": "https://localhost:8080/",
          "height": 80
        },
        "id": "EAL8lwc1Y9Kc",
        "outputId": "32b1a996-f4ae-4731-81a9-ff56ac354bae"
      },
      "outputs": [
        {
          "output_type": "execute_result",
          "data": {
            "text/plain": [
              "DecisionTreeRegressor(random_state=42)"
            ],
            "text/html": [
              "<style>#sk-container-id-1 {\n",
              "  /* Definition of color scheme common for light and dark mode */\n",
              "  --sklearn-color-text: black;\n",
              "  --sklearn-color-line: gray;\n",
              "  /* Definition of color scheme for unfitted estimators */\n",
              "  --sklearn-color-unfitted-level-0: #fff5e6;\n",
              "  --sklearn-color-unfitted-level-1: #f6e4d2;\n",
              "  --sklearn-color-unfitted-level-2: #ffe0b3;\n",
              "  --sklearn-color-unfitted-level-3: chocolate;\n",
              "  /* Definition of color scheme for fitted estimators */\n",
              "  --sklearn-color-fitted-level-0: #f0f8ff;\n",
              "  --sklearn-color-fitted-level-1: #d4ebff;\n",
              "  --sklearn-color-fitted-level-2: #b3dbfd;\n",
              "  --sklearn-color-fitted-level-3: cornflowerblue;\n",
              "\n",
              "  /* Specific color for light theme */\n",
              "  --sklearn-color-text-on-default-background: var(--sg-text-color, var(--theme-code-foreground, var(--jp-content-font-color1, black)));\n",
              "  --sklearn-color-background: var(--sg-background-color, var(--theme-background, var(--jp-layout-color0, white)));\n",
              "  --sklearn-color-border-box: var(--sg-text-color, var(--theme-code-foreground, var(--jp-content-font-color1, black)));\n",
              "  --sklearn-color-icon: #696969;\n",
              "\n",
              "  @media (prefers-color-scheme: dark) {\n",
              "    /* Redefinition of color scheme for dark theme */\n",
              "    --sklearn-color-text-on-default-background: var(--sg-text-color, var(--theme-code-foreground, var(--jp-content-font-color1, white)));\n",
              "    --sklearn-color-background: var(--sg-background-color, var(--theme-background, var(--jp-layout-color0, #111)));\n",
              "    --sklearn-color-border-box: var(--sg-text-color, var(--theme-code-foreground, var(--jp-content-font-color1, white)));\n",
              "    --sklearn-color-icon: #878787;\n",
              "  }\n",
              "}\n",
              "\n",
              "#sk-container-id-1 {\n",
              "  color: var(--sklearn-color-text);\n",
              "}\n",
              "\n",
              "#sk-container-id-1 pre {\n",
              "  padding: 0;\n",
              "}\n",
              "\n",
              "#sk-container-id-1 input.sk-hidden--visually {\n",
              "  border: 0;\n",
              "  clip: rect(1px 1px 1px 1px);\n",
              "  clip: rect(1px, 1px, 1px, 1px);\n",
              "  height: 1px;\n",
              "  margin: -1px;\n",
              "  overflow: hidden;\n",
              "  padding: 0;\n",
              "  position: absolute;\n",
              "  width: 1px;\n",
              "}\n",
              "\n",
              "#sk-container-id-1 div.sk-dashed-wrapped {\n",
              "  border: 1px dashed var(--sklearn-color-line);\n",
              "  margin: 0 0.4em 0.5em 0.4em;\n",
              "  box-sizing: border-box;\n",
              "  padding-bottom: 0.4em;\n",
              "  background-color: var(--sklearn-color-background);\n",
              "}\n",
              "\n",
              "#sk-container-id-1 div.sk-container {\n",
              "  /* jupyter's `normalize.less` sets `[hidden] { display: none; }`\n",
              "     but bootstrap.min.css set `[hidden] { display: none !important; }`\n",
              "     so we also need the `!important` here to be able to override the\n",
              "     default hidden behavior on the sphinx rendered scikit-learn.org.\n",
              "     See: https://github.com/scikit-learn/scikit-learn/issues/21755 */\n",
              "  display: inline-block !important;\n",
              "  position: relative;\n",
              "}\n",
              "\n",
              "#sk-container-id-1 div.sk-text-repr-fallback {\n",
              "  display: none;\n",
              "}\n",
              "\n",
              "div.sk-parallel-item,\n",
              "div.sk-serial,\n",
              "div.sk-item {\n",
              "  /* draw centered vertical line to link estimators */\n",
              "  background-image: linear-gradient(var(--sklearn-color-text-on-default-background), var(--sklearn-color-text-on-default-background));\n",
              "  background-size: 2px 100%;\n",
              "  background-repeat: no-repeat;\n",
              "  background-position: center center;\n",
              "}\n",
              "\n",
              "/* Parallel-specific style estimator block */\n",
              "\n",
              "#sk-container-id-1 div.sk-parallel-item::after {\n",
              "  content: \"\";\n",
              "  width: 100%;\n",
              "  border-bottom: 2px solid var(--sklearn-color-text-on-default-background);\n",
              "  flex-grow: 1;\n",
              "}\n",
              "\n",
              "#sk-container-id-1 div.sk-parallel {\n",
              "  display: flex;\n",
              "  align-items: stretch;\n",
              "  justify-content: center;\n",
              "  background-color: var(--sklearn-color-background);\n",
              "  position: relative;\n",
              "}\n",
              "\n",
              "#sk-container-id-1 div.sk-parallel-item {\n",
              "  display: flex;\n",
              "  flex-direction: column;\n",
              "}\n",
              "\n",
              "#sk-container-id-1 div.sk-parallel-item:first-child::after {\n",
              "  align-self: flex-end;\n",
              "  width: 50%;\n",
              "}\n",
              "\n",
              "#sk-container-id-1 div.sk-parallel-item:last-child::after {\n",
              "  align-self: flex-start;\n",
              "  width: 50%;\n",
              "}\n",
              "\n",
              "#sk-container-id-1 div.sk-parallel-item:only-child::after {\n",
              "  width: 0;\n",
              "}\n",
              "\n",
              "/* Serial-specific style estimator block */\n",
              "\n",
              "#sk-container-id-1 div.sk-serial {\n",
              "  display: flex;\n",
              "  flex-direction: column;\n",
              "  align-items: center;\n",
              "  background-color: var(--sklearn-color-background);\n",
              "  padding-right: 1em;\n",
              "  padding-left: 1em;\n",
              "}\n",
              "\n",
              "\n",
              "/* Toggleable style: style used for estimator/Pipeline/ColumnTransformer box that is\n",
              "clickable and can be expanded/collapsed.\n",
              "- Pipeline and ColumnTransformer use this feature and define the default style\n",
              "- Estimators will overwrite some part of the style using the `sk-estimator` class\n",
              "*/\n",
              "\n",
              "/* Pipeline and ColumnTransformer style (default) */\n",
              "\n",
              "#sk-container-id-1 div.sk-toggleable {\n",
              "  /* Default theme specific background. It is overwritten whether we have a\n",
              "  specific estimator or a Pipeline/ColumnTransformer */\n",
              "  background-color: var(--sklearn-color-background);\n",
              "}\n",
              "\n",
              "/* Toggleable label */\n",
              "#sk-container-id-1 label.sk-toggleable__label {\n",
              "  cursor: pointer;\n",
              "  display: block;\n",
              "  width: 100%;\n",
              "  margin-bottom: 0;\n",
              "  padding: 0.5em;\n",
              "  box-sizing: border-box;\n",
              "  text-align: center;\n",
              "}\n",
              "\n",
              "#sk-container-id-1 label.sk-toggleable__label-arrow:before {\n",
              "  /* Arrow on the left of the label */\n",
              "  content: \"▸\";\n",
              "  float: left;\n",
              "  margin-right: 0.25em;\n",
              "  color: var(--sklearn-color-icon);\n",
              "}\n",
              "\n",
              "#sk-container-id-1 label.sk-toggleable__label-arrow:hover:before {\n",
              "  color: var(--sklearn-color-text);\n",
              "}\n",
              "\n",
              "/* Toggleable content - dropdown */\n",
              "\n",
              "#sk-container-id-1 div.sk-toggleable__content {\n",
              "  max-height: 0;\n",
              "  max-width: 0;\n",
              "  overflow: hidden;\n",
              "  text-align: left;\n",
              "  /* unfitted */\n",
              "  background-color: var(--sklearn-color-unfitted-level-0);\n",
              "}\n",
              "\n",
              "#sk-container-id-1 div.sk-toggleable__content.fitted {\n",
              "  /* fitted */\n",
              "  background-color: var(--sklearn-color-fitted-level-0);\n",
              "}\n",
              "\n",
              "#sk-container-id-1 div.sk-toggleable__content pre {\n",
              "  margin: 0.2em;\n",
              "  border-radius: 0.25em;\n",
              "  color: var(--sklearn-color-text);\n",
              "  /* unfitted */\n",
              "  background-color: var(--sklearn-color-unfitted-level-0);\n",
              "}\n",
              "\n",
              "#sk-container-id-1 div.sk-toggleable__content.fitted pre {\n",
              "  /* unfitted */\n",
              "  background-color: var(--sklearn-color-fitted-level-0);\n",
              "}\n",
              "\n",
              "#sk-container-id-1 input.sk-toggleable__control:checked~div.sk-toggleable__content {\n",
              "  /* Expand drop-down */\n",
              "  max-height: 200px;\n",
              "  max-width: 100%;\n",
              "  overflow: auto;\n",
              "}\n",
              "\n",
              "#sk-container-id-1 input.sk-toggleable__control:checked~label.sk-toggleable__label-arrow:before {\n",
              "  content: \"▾\";\n",
              "}\n",
              "\n",
              "/* Pipeline/ColumnTransformer-specific style */\n",
              "\n",
              "#sk-container-id-1 div.sk-label input.sk-toggleable__control:checked~label.sk-toggleable__label {\n",
              "  color: var(--sklearn-color-text);\n",
              "  background-color: var(--sklearn-color-unfitted-level-2);\n",
              "}\n",
              "\n",
              "#sk-container-id-1 div.sk-label.fitted input.sk-toggleable__control:checked~label.sk-toggleable__label {\n",
              "  background-color: var(--sklearn-color-fitted-level-2);\n",
              "}\n",
              "\n",
              "/* Estimator-specific style */\n",
              "\n",
              "/* Colorize estimator box */\n",
              "#sk-container-id-1 div.sk-estimator input.sk-toggleable__control:checked~label.sk-toggleable__label {\n",
              "  /* unfitted */\n",
              "  background-color: var(--sklearn-color-unfitted-level-2);\n",
              "}\n",
              "\n",
              "#sk-container-id-1 div.sk-estimator.fitted input.sk-toggleable__control:checked~label.sk-toggleable__label {\n",
              "  /* fitted */\n",
              "  background-color: var(--sklearn-color-fitted-level-2);\n",
              "}\n",
              "\n",
              "#sk-container-id-1 div.sk-label label.sk-toggleable__label,\n",
              "#sk-container-id-1 div.sk-label label {\n",
              "  /* The background is the default theme color */\n",
              "  color: var(--sklearn-color-text-on-default-background);\n",
              "}\n",
              "\n",
              "/* On hover, darken the color of the background */\n",
              "#sk-container-id-1 div.sk-label:hover label.sk-toggleable__label {\n",
              "  color: var(--sklearn-color-text);\n",
              "  background-color: var(--sklearn-color-unfitted-level-2);\n",
              "}\n",
              "\n",
              "/* Label box, darken color on hover, fitted */\n",
              "#sk-container-id-1 div.sk-label.fitted:hover label.sk-toggleable__label.fitted {\n",
              "  color: var(--sklearn-color-text);\n",
              "  background-color: var(--sklearn-color-fitted-level-2);\n",
              "}\n",
              "\n",
              "/* Estimator label */\n",
              "\n",
              "#sk-container-id-1 div.sk-label label {\n",
              "  font-family: monospace;\n",
              "  font-weight: bold;\n",
              "  display: inline-block;\n",
              "  line-height: 1.2em;\n",
              "}\n",
              "\n",
              "#sk-container-id-1 div.sk-label-container {\n",
              "  text-align: center;\n",
              "}\n",
              "\n",
              "/* Estimator-specific */\n",
              "#sk-container-id-1 div.sk-estimator {\n",
              "  font-family: monospace;\n",
              "  border: 1px dotted var(--sklearn-color-border-box);\n",
              "  border-radius: 0.25em;\n",
              "  box-sizing: border-box;\n",
              "  margin-bottom: 0.5em;\n",
              "  /* unfitted */\n",
              "  background-color: var(--sklearn-color-unfitted-level-0);\n",
              "}\n",
              "\n",
              "#sk-container-id-1 div.sk-estimator.fitted {\n",
              "  /* fitted */\n",
              "  background-color: var(--sklearn-color-fitted-level-0);\n",
              "}\n",
              "\n",
              "/* on hover */\n",
              "#sk-container-id-1 div.sk-estimator:hover {\n",
              "  /* unfitted */\n",
              "  background-color: var(--sklearn-color-unfitted-level-2);\n",
              "}\n",
              "\n",
              "#sk-container-id-1 div.sk-estimator.fitted:hover {\n",
              "  /* fitted */\n",
              "  background-color: var(--sklearn-color-fitted-level-2);\n",
              "}\n",
              "\n",
              "/* Specification for estimator info (e.g. \"i\" and \"?\") */\n",
              "\n",
              "/* Common style for \"i\" and \"?\" */\n",
              "\n",
              ".sk-estimator-doc-link,\n",
              "a:link.sk-estimator-doc-link,\n",
              "a:visited.sk-estimator-doc-link {\n",
              "  float: right;\n",
              "  font-size: smaller;\n",
              "  line-height: 1em;\n",
              "  font-family: monospace;\n",
              "  background-color: var(--sklearn-color-background);\n",
              "  border-radius: 1em;\n",
              "  height: 1em;\n",
              "  width: 1em;\n",
              "  text-decoration: none !important;\n",
              "  margin-left: 1ex;\n",
              "  /* unfitted */\n",
              "  border: var(--sklearn-color-unfitted-level-1) 1pt solid;\n",
              "  color: var(--sklearn-color-unfitted-level-1);\n",
              "}\n",
              "\n",
              ".sk-estimator-doc-link.fitted,\n",
              "a:link.sk-estimator-doc-link.fitted,\n",
              "a:visited.sk-estimator-doc-link.fitted {\n",
              "  /* fitted */\n",
              "  border: var(--sklearn-color-fitted-level-1) 1pt solid;\n",
              "  color: var(--sklearn-color-fitted-level-1);\n",
              "}\n",
              "\n",
              "/* On hover */\n",
              "div.sk-estimator:hover .sk-estimator-doc-link:hover,\n",
              ".sk-estimator-doc-link:hover,\n",
              "div.sk-label-container:hover .sk-estimator-doc-link:hover,\n",
              ".sk-estimator-doc-link:hover {\n",
              "  /* unfitted */\n",
              "  background-color: var(--sklearn-color-unfitted-level-3);\n",
              "  color: var(--sklearn-color-background);\n",
              "  text-decoration: none;\n",
              "}\n",
              "\n",
              "div.sk-estimator.fitted:hover .sk-estimator-doc-link.fitted:hover,\n",
              ".sk-estimator-doc-link.fitted:hover,\n",
              "div.sk-label-container:hover .sk-estimator-doc-link.fitted:hover,\n",
              ".sk-estimator-doc-link.fitted:hover {\n",
              "  /* fitted */\n",
              "  background-color: var(--sklearn-color-fitted-level-3);\n",
              "  color: var(--sklearn-color-background);\n",
              "  text-decoration: none;\n",
              "}\n",
              "\n",
              "/* Span, style for the box shown on hovering the info icon */\n",
              ".sk-estimator-doc-link span {\n",
              "  display: none;\n",
              "  z-index: 9999;\n",
              "  position: relative;\n",
              "  font-weight: normal;\n",
              "  right: .2ex;\n",
              "  padding: .5ex;\n",
              "  margin: .5ex;\n",
              "  width: min-content;\n",
              "  min-width: 20ex;\n",
              "  max-width: 50ex;\n",
              "  color: var(--sklearn-color-text);\n",
              "  box-shadow: 2pt 2pt 4pt #999;\n",
              "  /* unfitted */\n",
              "  background: var(--sklearn-color-unfitted-level-0);\n",
              "  border: .5pt solid var(--sklearn-color-unfitted-level-3);\n",
              "}\n",
              "\n",
              ".sk-estimator-doc-link.fitted span {\n",
              "  /* fitted */\n",
              "  background: var(--sklearn-color-fitted-level-0);\n",
              "  border: var(--sklearn-color-fitted-level-3);\n",
              "}\n",
              "\n",
              ".sk-estimator-doc-link:hover span {\n",
              "  display: block;\n",
              "}\n",
              "\n",
              "/* \"?\"-specific style due to the `<a>` HTML tag */\n",
              "\n",
              "#sk-container-id-1 a.estimator_doc_link {\n",
              "  float: right;\n",
              "  font-size: 1rem;\n",
              "  line-height: 1em;\n",
              "  font-family: monospace;\n",
              "  background-color: var(--sklearn-color-background);\n",
              "  border-radius: 1rem;\n",
              "  height: 1rem;\n",
              "  width: 1rem;\n",
              "  text-decoration: none;\n",
              "  /* unfitted */\n",
              "  color: var(--sklearn-color-unfitted-level-1);\n",
              "  border: var(--sklearn-color-unfitted-level-1) 1pt solid;\n",
              "}\n",
              "\n",
              "#sk-container-id-1 a.estimator_doc_link.fitted {\n",
              "  /* fitted */\n",
              "  border: var(--sklearn-color-fitted-level-1) 1pt solid;\n",
              "  color: var(--sklearn-color-fitted-level-1);\n",
              "}\n",
              "\n",
              "/* On hover */\n",
              "#sk-container-id-1 a.estimator_doc_link:hover {\n",
              "  /* unfitted */\n",
              "  background-color: var(--sklearn-color-unfitted-level-3);\n",
              "  color: var(--sklearn-color-background);\n",
              "  text-decoration: none;\n",
              "}\n",
              "\n",
              "#sk-container-id-1 a.estimator_doc_link.fitted:hover {\n",
              "  /* fitted */\n",
              "  background-color: var(--sklearn-color-fitted-level-3);\n",
              "}\n",
              "</style><div id=\"sk-container-id-1\" class=\"sk-top-container\"><div class=\"sk-text-repr-fallback\"><pre>DecisionTreeRegressor(random_state=42)</pre><b>In a Jupyter environment, please rerun this cell to show the HTML representation or trust the notebook. <br />On GitHub, the HTML representation is unable to render, please try loading this page with nbviewer.org.</b></div><div class=\"sk-container\" hidden><div class=\"sk-item\"><div class=\"sk-estimator fitted sk-toggleable\"><input class=\"sk-toggleable__control sk-hidden--visually\" id=\"sk-estimator-id-1\" type=\"checkbox\" checked><label for=\"sk-estimator-id-1\" class=\"sk-toggleable__label fitted sk-toggleable__label-arrow fitted\">&nbsp;&nbsp;DecisionTreeRegressor<a class=\"sk-estimator-doc-link fitted\" rel=\"noreferrer\" target=\"_blank\" href=\"https://scikit-learn.org/1.5/modules/generated/sklearn.tree.DecisionTreeRegressor.html\">?<span>Documentation for DecisionTreeRegressor</span></a><span class=\"sk-estimator-doc-link fitted\">i<span>Fitted</span></span></label><div class=\"sk-toggleable__content fitted\"><pre>DecisionTreeRegressor(random_state=42)</pre></div> </div></div></div></div>"
            ]
          },
          "metadata": {},
          "execution_count": 46
        }
      ],
      "source": [
        "model = DecisionTreeRegressor(random_state=42)\n",
        "model.fit(X_train, y_train)"
      ]
    },
    {
      "cell_type": "code",
      "execution_count": null,
      "metadata": {
        "colab": {
          "base_uri": "https://localhost:8080/"
        },
        "id": "-b-CiBT_Y9Kc",
        "outputId": "3712cd13-f5c3-430d-eae1-13d8a3cb03f8"
      },
      "outputs": [
        {
          "output_type": "stream",
          "name": "stdout",
          "text": [
            "Error cuadrático medio (RMSE): 5.658074202498726\n"
          ]
        }
      ],
      "source": [
        "y_pred = model.predict(X_test)\n",
        "mse = metrics.mean_squared_error(y_test, y_pred)\n",
        "rmse = mse ** 0.5\n",
        "print(f'Error cuadrático medio (RMSE): {rmse}')"
      ]
    },
    {
      "cell_type": "code",
      "execution_count": null,
      "metadata": {
        "id": "NIa2L9O7Y9Kc"
      },
      "outputs": [],
      "source": [
        "y_pred = y_pred.values if isinstance(y_pred, pd.DataFrame) else y_pred\n",
        "y_test = y_test.values if isinstance(y_test, pd.DataFrame) else y_test\n",
        "\n",
        "y_pred = y_pred.ravel()\n",
        "y_test = y_test.ravel()\n",
        "\n",
        "comparison = pd.DataFrame({'Año': X_test['año'], 'Mes': X_test['mes'], 'Día': X_test['día'], 'Predicción': y_pred, 'Real': y_test, 'Error': y_test - y_pred})"
      ]
    },
    {
      "cell_type": "code",
      "execution_count": null,
      "metadata": {
        "colab": {
          "base_uri": "https://localhost:8080/",
          "height": 542
        },
        "id": "dBGecJ3DY9Kc",
        "outputId": "b5d9406a-c2ac-4072-c3f8-ee0cc0a4b971"
      },
      "outputs": [
        {
          "output_type": "display_data",
          "data": {
            "text/html": [
              "<html>\n",
              "<head><meta charset=\"utf-8\" /></head>\n",
              "<body>\n",
              "    <div>            <script src=\"https://cdnjs.cloudflare.com/ajax/libs/mathjax/2.7.5/MathJax.js?config=TeX-AMS-MML_SVG\"></script><script type=\"text/javascript\">if (window.MathJax && window.MathJax.Hub && window.MathJax.Hub.Config) {window.MathJax.Hub.Config({SVG: {font: \"STIX-Web\"}});}</script>                <script type=\"text/javascript\">window.PlotlyConfig = {MathJaxConfig: 'local'};</script>\n",
              "        <script charset=\"utf-8\" src=\"https://cdn.plot.ly/plotly-2.35.2.min.js\"></script>                <div id=\"e04c429c-5e17-44e1-ae84-5374d6ed7c5a\" class=\"plotly-graph-div\" style=\"height:525px; width:100%;\"></div>            <script type=\"text/javascript\">                                    window.PLOTLYENV=window.PLOTLYENV || {};                                    if (document.getElementById(\"e04c429c-5e17-44e1-ae84-5374d6ed7c5a\")) {                    Plotly.newPlot(                        \"e04c429c-5e17-44e1-ae84-5374d6ed7c5a\",                        [{\"line\":{\"width\":2},\"marker\":{\"color\":\"blue\"},\"mode\":\"lines+markers\",\"name\":\"Predicci\\u00f3n\",\"x\":[2021,2020,2023,2020,2020,2020,2024,2023,2022,2023],\"y\":[7.0,7.0,9.0,1.0,1.0,7.0,17.0,6.0,15.0,10.0],\"type\":\"scatter\"},{\"line\":{\"width\":2},\"marker\":{\"color\":\"red\"},\"mode\":\"lines+markers\",\"name\":\"Real\",\"x\":[2021,2020,2023,2020,2020,2020,2024,2023,2022,2023],\"y\":[10,3,15,6,4,5,15,14,24,16],\"type\":\"scatter\"}],                        {\"template\":{\"data\":{\"barpolar\":[{\"marker\":{\"line\":{\"color\":\"white\",\"width\":0.5},\"pattern\":{\"fillmode\":\"overlay\",\"size\":10,\"solidity\":0.2}},\"type\":\"barpolar\"}],\"bar\":[{\"error_x\":{\"color\":\"#2a3f5f\"},\"error_y\":{\"color\":\"#2a3f5f\"},\"marker\":{\"line\":{\"color\":\"white\",\"width\":0.5},\"pattern\":{\"fillmode\":\"overlay\",\"size\":10,\"solidity\":0.2}},\"type\":\"bar\"}],\"carpet\":[{\"aaxis\":{\"endlinecolor\":\"#2a3f5f\",\"gridcolor\":\"#C8D4E3\",\"linecolor\":\"#C8D4E3\",\"minorgridcolor\":\"#C8D4E3\",\"startlinecolor\":\"#2a3f5f\"},\"baxis\":{\"endlinecolor\":\"#2a3f5f\",\"gridcolor\":\"#C8D4E3\",\"linecolor\":\"#C8D4E3\",\"minorgridcolor\":\"#C8D4E3\",\"startlinecolor\":\"#2a3f5f\"},\"type\":\"carpet\"}],\"choropleth\":[{\"colorbar\":{\"outlinewidth\":0,\"ticks\":\"\"},\"type\":\"choropleth\"}],\"contourcarpet\":[{\"colorbar\":{\"outlinewidth\":0,\"ticks\":\"\"},\"type\":\"contourcarpet\"}],\"contour\":[{\"colorbar\":{\"outlinewidth\":0,\"ticks\":\"\"},\"colorscale\":[[0.0,\"#0d0887\"],[0.1111111111111111,\"#46039f\"],[0.2222222222222222,\"#7201a8\"],[0.3333333333333333,\"#9c179e\"],[0.4444444444444444,\"#bd3786\"],[0.5555555555555556,\"#d8576b\"],[0.6666666666666666,\"#ed7953\"],[0.7777777777777778,\"#fb9f3a\"],[0.8888888888888888,\"#fdca26\"],[1.0,\"#f0f921\"]],\"type\":\"contour\"}],\"heatmapgl\":[{\"colorbar\":{\"outlinewidth\":0,\"ticks\":\"\"},\"colorscale\":[[0.0,\"#0d0887\"],[0.1111111111111111,\"#46039f\"],[0.2222222222222222,\"#7201a8\"],[0.3333333333333333,\"#9c179e\"],[0.4444444444444444,\"#bd3786\"],[0.5555555555555556,\"#d8576b\"],[0.6666666666666666,\"#ed7953\"],[0.7777777777777778,\"#fb9f3a\"],[0.8888888888888888,\"#fdca26\"],[1.0,\"#f0f921\"]],\"type\":\"heatmapgl\"}],\"heatmap\":[{\"colorbar\":{\"outlinewidth\":0,\"ticks\":\"\"},\"colorscale\":[[0.0,\"#0d0887\"],[0.1111111111111111,\"#46039f\"],[0.2222222222222222,\"#7201a8\"],[0.3333333333333333,\"#9c179e\"],[0.4444444444444444,\"#bd3786\"],[0.5555555555555556,\"#d8576b\"],[0.6666666666666666,\"#ed7953\"],[0.7777777777777778,\"#fb9f3a\"],[0.8888888888888888,\"#fdca26\"],[1.0,\"#f0f921\"]],\"type\":\"heatmap\"}],\"histogram2dcontour\":[{\"colorbar\":{\"outlinewidth\":0,\"ticks\":\"\"},\"colorscale\":[[0.0,\"#0d0887\"],[0.1111111111111111,\"#46039f\"],[0.2222222222222222,\"#7201a8\"],[0.3333333333333333,\"#9c179e\"],[0.4444444444444444,\"#bd3786\"],[0.5555555555555556,\"#d8576b\"],[0.6666666666666666,\"#ed7953\"],[0.7777777777777778,\"#fb9f3a\"],[0.8888888888888888,\"#fdca26\"],[1.0,\"#f0f921\"]],\"type\":\"histogram2dcontour\"}],\"histogram2d\":[{\"colorbar\":{\"outlinewidth\":0,\"ticks\":\"\"},\"colorscale\":[[0.0,\"#0d0887\"],[0.1111111111111111,\"#46039f\"],[0.2222222222222222,\"#7201a8\"],[0.3333333333333333,\"#9c179e\"],[0.4444444444444444,\"#bd3786\"],[0.5555555555555556,\"#d8576b\"],[0.6666666666666666,\"#ed7953\"],[0.7777777777777778,\"#fb9f3a\"],[0.8888888888888888,\"#fdca26\"],[1.0,\"#f0f921\"]],\"type\":\"histogram2d\"}],\"histogram\":[{\"marker\":{\"pattern\":{\"fillmode\":\"overlay\",\"size\":10,\"solidity\":0.2}},\"type\":\"histogram\"}],\"mesh3d\":[{\"colorbar\":{\"outlinewidth\":0,\"ticks\":\"\"},\"type\":\"mesh3d\"}],\"parcoords\":[{\"line\":{\"colorbar\":{\"outlinewidth\":0,\"ticks\":\"\"}},\"type\":\"parcoords\"}],\"pie\":[{\"automargin\":true,\"type\":\"pie\"}],\"scatter3d\":[{\"line\":{\"colorbar\":{\"outlinewidth\":0,\"ticks\":\"\"}},\"marker\":{\"colorbar\":{\"outlinewidth\":0,\"ticks\":\"\"}},\"type\":\"scatter3d\"}],\"scattercarpet\":[{\"marker\":{\"colorbar\":{\"outlinewidth\":0,\"ticks\":\"\"}},\"type\":\"scattercarpet\"}],\"scattergeo\":[{\"marker\":{\"colorbar\":{\"outlinewidth\":0,\"ticks\":\"\"}},\"type\":\"scattergeo\"}],\"scattergl\":[{\"marker\":{\"colorbar\":{\"outlinewidth\":0,\"ticks\":\"\"}},\"type\":\"scattergl\"}],\"scattermapbox\":[{\"marker\":{\"colorbar\":{\"outlinewidth\":0,\"ticks\":\"\"}},\"type\":\"scattermapbox\"}],\"scatterpolargl\":[{\"marker\":{\"colorbar\":{\"outlinewidth\":0,\"ticks\":\"\"}},\"type\":\"scatterpolargl\"}],\"scatterpolar\":[{\"marker\":{\"colorbar\":{\"outlinewidth\":0,\"ticks\":\"\"}},\"type\":\"scatterpolar\"}],\"scatter\":[{\"fillpattern\":{\"fillmode\":\"overlay\",\"size\":10,\"solidity\":0.2},\"type\":\"scatter\"}],\"scatterternary\":[{\"marker\":{\"colorbar\":{\"outlinewidth\":0,\"ticks\":\"\"}},\"type\":\"scatterternary\"}],\"surface\":[{\"colorbar\":{\"outlinewidth\":0,\"ticks\":\"\"},\"colorscale\":[[0.0,\"#0d0887\"],[0.1111111111111111,\"#46039f\"],[0.2222222222222222,\"#7201a8\"],[0.3333333333333333,\"#9c179e\"],[0.4444444444444444,\"#bd3786\"],[0.5555555555555556,\"#d8576b\"],[0.6666666666666666,\"#ed7953\"],[0.7777777777777778,\"#fb9f3a\"],[0.8888888888888888,\"#fdca26\"],[1.0,\"#f0f921\"]],\"type\":\"surface\"}],\"table\":[{\"cells\":{\"fill\":{\"color\":\"#EBF0F8\"},\"line\":{\"color\":\"white\"}},\"header\":{\"fill\":{\"color\":\"#C8D4E3\"},\"line\":{\"color\":\"white\"}},\"type\":\"table\"}]},\"layout\":{\"annotationdefaults\":{\"arrowcolor\":\"#2a3f5f\",\"arrowhead\":0,\"arrowwidth\":1},\"autotypenumbers\":\"strict\",\"coloraxis\":{\"colorbar\":{\"outlinewidth\":0,\"ticks\":\"\"}},\"colorscale\":{\"diverging\":[[0,\"#8e0152\"],[0.1,\"#c51b7d\"],[0.2,\"#de77ae\"],[0.3,\"#f1b6da\"],[0.4,\"#fde0ef\"],[0.5,\"#f7f7f7\"],[0.6,\"#e6f5d0\"],[0.7,\"#b8e186\"],[0.8,\"#7fbc41\"],[0.9,\"#4d9221\"],[1,\"#276419\"]],\"sequential\":[[0.0,\"#0d0887\"],[0.1111111111111111,\"#46039f\"],[0.2222222222222222,\"#7201a8\"],[0.3333333333333333,\"#9c179e\"],[0.4444444444444444,\"#bd3786\"],[0.5555555555555556,\"#d8576b\"],[0.6666666666666666,\"#ed7953\"],[0.7777777777777778,\"#fb9f3a\"],[0.8888888888888888,\"#fdca26\"],[1.0,\"#f0f921\"]],\"sequentialminus\":[[0.0,\"#0d0887\"],[0.1111111111111111,\"#46039f\"],[0.2222222222222222,\"#7201a8\"],[0.3333333333333333,\"#9c179e\"],[0.4444444444444444,\"#bd3786\"],[0.5555555555555556,\"#d8576b\"],[0.6666666666666666,\"#ed7953\"],[0.7777777777777778,\"#fb9f3a\"],[0.8888888888888888,\"#fdca26\"],[1.0,\"#f0f921\"]]},\"colorway\":[\"#636efa\",\"#EF553B\",\"#00cc96\",\"#ab63fa\",\"#FFA15A\",\"#19d3f3\",\"#FF6692\",\"#B6E880\",\"#FF97FF\",\"#FECB52\"],\"font\":{\"color\":\"#2a3f5f\"},\"geo\":{\"bgcolor\":\"white\",\"lakecolor\":\"white\",\"landcolor\":\"white\",\"showlakes\":true,\"showland\":true,\"subunitcolor\":\"#C8D4E3\"},\"hoverlabel\":{\"align\":\"left\"},\"hovermode\":\"closest\",\"mapbox\":{\"style\":\"light\"},\"paper_bgcolor\":\"white\",\"plot_bgcolor\":\"white\",\"polar\":{\"angularaxis\":{\"gridcolor\":\"#EBF0F8\",\"linecolor\":\"#EBF0F8\",\"ticks\":\"\"},\"bgcolor\":\"white\",\"radialaxis\":{\"gridcolor\":\"#EBF0F8\",\"linecolor\":\"#EBF0F8\",\"ticks\":\"\"}},\"scene\":{\"xaxis\":{\"backgroundcolor\":\"white\",\"gridcolor\":\"#DFE8F3\",\"gridwidth\":2,\"linecolor\":\"#EBF0F8\",\"showbackground\":true,\"ticks\":\"\",\"zerolinecolor\":\"#EBF0F8\"},\"yaxis\":{\"backgroundcolor\":\"white\",\"gridcolor\":\"#DFE8F3\",\"gridwidth\":2,\"linecolor\":\"#EBF0F8\",\"showbackground\":true,\"ticks\":\"\",\"zerolinecolor\":\"#EBF0F8\"},\"zaxis\":{\"backgroundcolor\":\"white\",\"gridcolor\":\"#DFE8F3\",\"gridwidth\":2,\"linecolor\":\"#EBF0F8\",\"showbackground\":true,\"ticks\":\"\",\"zerolinecolor\":\"#EBF0F8\"}},\"shapedefaults\":{\"line\":{\"color\":\"#2a3f5f\"}},\"ternary\":{\"aaxis\":{\"gridcolor\":\"#DFE8F3\",\"linecolor\":\"#A2B1C6\",\"ticks\":\"\"},\"baxis\":{\"gridcolor\":\"#DFE8F3\",\"linecolor\":\"#A2B1C6\",\"ticks\":\"\"},\"bgcolor\":\"white\",\"caxis\":{\"gridcolor\":\"#DFE8F3\",\"linecolor\":\"#A2B1C6\",\"ticks\":\"\"}},\"title\":{\"x\":0.05},\"xaxis\":{\"automargin\":true,\"gridcolor\":\"#EBF0F8\",\"linecolor\":\"#EBF0F8\",\"ticks\":\"\",\"title\":{\"standoff\":15},\"zerolinecolor\":\"#EBF0F8\",\"zerolinewidth\":2},\"yaxis\":{\"automargin\":true,\"gridcolor\":\"#EBF0F8\",\"linecolor\":\"#EBF0F8\",\"ticks\":\"\",\"title\":{\"standoff\":15},\"zerolinecolor\":\"#EBF0F8\",\"zerolinewidth\":2}}},\"title\":{\"text\":\"Predicciones vs Valores Reales de Cr\\u00edmenes\"},\"xaxis\":{\"title\":{\"text\":\"\\u00cdndice\"}},\"yaxis\":{\"title\":{\"text\":\"N\\u00famero de Cr\\u00edmenes\"}}},                        {\"responsive\": true}                    ).then(function(){\n",
              "                            \n",
              "var gd = document.getElementById('e04c429c-5e17-44e1-ae84-5374d6ed7c5a');\n",
              "var x = new MutationObserver(function (mutations, observer) {{\n",
              "        var display = window.getComputedStyle(gd).display;\n",
              "        if (!display || display === 'none') {{\n",
              "            console.log([gd, 'removed!']);\n",
              "            Plotly.purge(gd);\n",
              "            observer.disconnect();\n",
              "        }}\n",
              "}});\n",
              "\n",
              "// Listen for the removal of the full notebook cells\n",
              "var notebookContainer = gd.closest('#notebook-container');\n",
              "if (notebookContainer) {{\n",
              "    x.observe(notebookContainer, {childList: true});\n",
              "}}\n",
              "\n",
              "// Listen for the clearing of the current output cell\n",
              "var outputEl = gd.closest('.output');\n",
              "if (outputEl) {{\n",
              "    x.observe(outputEl, {childList: true});\n",
              "}}\n",
              "\n",
              "                        })                };                            </script>        </div>\n",
              "</body>\n",
              "</html>"
            ]
          },
          "metadata": {}
        }
      ],
      "source": [
        "fig = go.Figure()\n",
        "\n",
        "comparison_fig = comparison[:10]\n",
        "\n",
        "fig.add_trace(go.Scatter(\n",
        "    x=comparison_fig['Año'],\n",
        "    y=comparison_fig['Predicción'],\n",
        "    mode='lines+markers',\n",
        "    name='Predicción',\n",
        "    marker=dict(color='blue'),\n",
        "    line=dict(width=2)\n",
        "))\n",
        "\n",
        "fig.add_trace(go.Scatter(\n",
        "    x=comparison_fig['Año'],\n",
        "    y=comparison_fig['Real'],\n",
        "    mode='lines+markers',\n",
        "    name='Real',\n",
        "    marker=dict(color='red'),\n",
        "    line=dict(width=2)\n",
        "))\n",
        "\n",
        "fig.update_layout(\n",
        "    title='Predicciones vs Valores Reales de Crímenes',\n",
        "    xaxis_title='Índice',\n",
        "    yaxis_title='Número de Crímenes',\n",
        "    template='plotly_white'\n",
        ")\n",
        "\n",
        "fig.show()"
      ]
    },
    {
      "cell_type": "markdown",
      "metadata": {
        "id": "G8xtwREfY9Kd"
      },
      "source": [
        "### Robos en `Central` en el futuro"
      ]
    },
    {
      "cell_type": "code",
      "execution_count": null,
      "metadata": {
        "id": "9kf9ifxvY9Kd"
      },
      "outputs": [],
      "source": [
        "start_date = pd.to_datetime('2024-05-01')\n",
        "end_date = pd.to_datetime('2024-12-31')\n",
        "\n",
        "future_dates = pd.date_range(start=start_date, end=end_date, freq='D')\n",
        "\n",
        "future_df = pd.DataFrame({'Single date': future_dates})"
      ]
    },
    {
      "cell_type": "code",
      "execution_count": null,
      "metadata": {
        "id": "nAyG69OPY9Kd"
      },
      "outputs": [],
      "source": [
        "future_df['año'] = future_df['Single date'].dt.year\n",
        "future_df['mes'] = future_df['Single date'].dt.month\n",
        "future_df['día'] = future_df['Single date'].dt.day\n",
        "future_df['día_semana'] = pd.to_datetime(future_df['Single date']).dt.dayofweek"
      ]
    },
    {
      "cell_type": "code",
      "execution_count": null,
      "metadata": {
        "colab": {
          "base_uri": "https://localhost:8080/"
        },
        "id": "7N9-7q0AY9Kd",
        "outputId": "32bf7e34-f012-45f9-a189-e621dc266f25"
      },
      "outputs": [
        {
          "output_type": "stream",
          "name": "stdout",
          "text": [
            "      Año  Mes  Día  Predicción\n",
            "0    2024    5    1         7.0\n",
            "1    2024    5    2         6.0\n",
            "2    2024    5    3         6.0\n",
            "3    2024    5    4         3.0\n",
            "4    2024    5    5         6.0\n",
            "..    ...  ...  ...         ...\n",
            "240  2024   12   27         4.0\n",
            "241  2024   12   28         5.0\n",
            "242  2024   12   29         5.0\n",
            "243  2024   12   30        11.0\n",
            "244  2024   12   31        11.0\n",
            "\n",
            "[245 rows x 4 columns]\n"
          ]
        }
      ],
      "source": [
        "future_predictions = model.predict(future_df[['año', 'mes', 'día', 'día_semana']])\n",
        "\n",
        "future_df['Predicción_crimenes'] = future_predictions\n",
        "\n",
        "comparison = pd.DataFrame({'Año': future_df['año'], 'Mes': future_df['mes'], 'Día': future_df['día'], 'Predicción': future_predictions})\n",
        "print(comparison)"
      ]
    },
    {
      "cell_type": "code",
      "execution_count": null,
      "metadata": {
        "colab": {
          "base_uri": "https://localhost:8080/",
          "height": 542
        },
        "id": "t7mwFS01Y9Kd",
        "outputId": "e767e0a3-f11c-4fa6-f7da-17997c6c2fab"
      },
      "outputs": [
        {
          "output_type": "display_data",
          "data": {
            "text/html": [
              "<html>\n",
              "<head><meta charset=\"utf-8\" /></head>\n",
              "<body>\n",
              "    <div>            <script src=\"https://cdnjs.cloudflare.com/ajax/libs/mathjax/2.7.5/MathJax.js?config=TeX-AMS-MML_SVG\"></script><script type=\"text/javascript\">if (window.MathJax && window.MathJax.Hub && window.MathJax.Hub.Config) {window.MathJax.Hub.Config({SVG: {font: \"STIX-Web\"}});}</script>                <script type=\"text/javascript\">window.PlotlyConfig = {MathJaxConfig: 'local'};</script>\n",
              "        <script charset=\"utf-8\" src=\"https://cdn.plot.ly/plotly-2.35.2.min.js\"></script>                <div id=\"346af3fe-fc61-462f-b0db-1e327ffc415a\" class=\"plotly-graph-div\" style=\"height:525px; width:100%;\"></div>            <script type=\"text/javascript\">                                    window.PLOTLYENV=window.PLOTLYENV || {};                                    if (document.getElementById(\"346af3fe-fc61-462f-b0db-1e327ffc415a\")) {                    Plotly.newPlot(                        \"346af3fe-fc61-462f-b0db-1e327ffc415a\",                        [{\"hovertemplate\":\"Fecha=%{x}\\u003cbr\\u003ePredicci\\u00f3n de cr\\u00edmenes=%{y}\\u003cextra\\u003e\\u003c\\u002fextra\\u003e\",\"legendgroup\":\"\",\"line\":{\"color\":\"#636efa\",\"dash\":\"solid\"},\"marker\":{\"symbol\":\"circle\"},\"mode\":\"lines+markers\",\"name\":\"\",\"orientation\":\"v\",\"showlegend\":false,\"x\":[\"2024-05-01T00:00:00\",\"2024-05-02T00:00:00\",\"2024-05-03T00:00:00\",\"2024-05-04T00:00:00\",\"2024-05-05T00:00:00\",\"2024-05-06T00:00:00\",\"2024-05-07T00:00:00\",\"2024-05-08T00:00:00\",\"2024-05-09T00:00:00\",\"2024-05-10T00:00:00\",\"2024-05-11T00:00:00\",\"2024-05-12T00:00:00\",\"2024-05-13T00:00:00\",\"2024-05-14T00:00:00\",\"2024-05-15T00:00:00\",\"2024-05-16T00:00:00\",\"2024-05-17T00:00:00\",\"2024-05-18T00:00:00\",\"2024-05-19T00:00:00\",\"2024-05-20T00:00:00\",\"2024-05-21T00:00:00\",\"2024-05-22T00:00:00\",\"2024-05-23T00:00:00\",\"2024-05-24T00:00:00\",\"2024-05-25T00:00:00\",\"2024-05-26T00:00:00\",\"2024-05-27T00:00:00\",\"2024-05-28T00:00:00\",\"2024-05-29T00:00:00\",\"2024-05-30T00:00:00\",\"2024-05-31T00:00:00\",\"2024-06-01T00:00:00\",\"2024-06-02T00:00:00\",\"2024-06-03T00:00:00\",\"2024-06-04T00:00:00\",\"2024-06-05T00:00:00\",\"2024-06-06T00:00:00\",\"2024-06-07T00:00:00\",\"2024-06-08T00:00:00\",\"2024-06-09T00:00:00\",\"2024-06-10T00:00:00\",\"2024-06-11T00:00:00\",\"2024-06-12T00:00:00\",\"2024-06-13T00:00:00\",\"2024-06-14T00:00:00\",\"2024-06-15T00:00:00\",\"2024-06-16T00:00:00\",\"2024-06-17T00:00:00\",\"2024-06-18T00:00:00\",\"2024-06-19T00:00:00\",\"2024-06-20T00:00:00\",\"2024-06-21T00:00:00\",\"2024-06-22T00:00:00\",\"2024-06-23T00:00:00\",\"2024-06-24T00:00:00\",\"2024-06-25T00:00:00\",\"2024-06-26T00:00:00\",\"2024-06-27T00:00:00\",\"2024-06-28T00:00:00\",\"2024-06-29T00:00:00\",\"2024-06-30T00:00:00\",\"2024-07-01T00:00:00\",\"2024-07-02T00:00:00\",\"2024-07-03T00:00:00\",\"2024-07-04T00:00:00\",\"2024-07-05T00:00:00\",\"2024-07-06T00:00:00\",\"2024-07-07T00:00:00\",\"2024-07-08T00:00:00\",\"2024-07-09T00:00:00\",\"2024-07-10T00:00:00\",\"2024-07-11T00:00:00\",\"2024-07-12T00:00:00\",\"2024-07-13T00:00:00\",\"2024-07-14T00:00:00\",\"2024-07-15T00:00:00\",\"2024-07-16T00:00:00\",\"2024-07-17T00:00:00\",\"2024-07-18T00:00:00\",\"2024-07-19T00:00:00\",\"2024-07-20T00:00:00\",\"2024-07-21T00:00:00\",\"2024-07-22T00:00:00\",\"2024-07-23T00:00:00\",\"2024-07-24T00:00:00\",\"2024-07-25T00:00:00\",\"2024-07-26T00:00:00\",\"2024-07-27T00:00:00\",\"2024-07-28T00:00:00\",\"2024-07-29T00:00:00\",\"2024-07-30T00:00:00\",\"2024-07-31T00:00:00\",\"2024-08-01T00:00:00\",\"2024-08-02T00:00:00\",\"2024-08-03T00:00:00\",\"2024-08-04T00:00:00\",\"2024-08-05T00:00:00\",\"2024-08-06T00:00:00\",\"2024-08-07T00:00:00\",\"2024-08-08T00:00:00\",\"2024-08-09T00:00:00\",\"2024-08-10T00:00:00\",\"2024-08-11T00:00:00\",\"2024-08-12T00:00:00\",\"2024-08-13T00:00:00\",\"2024-08-14T00:00:00\",\"2024-08-15T00:00:00\",\"2024-08-16T00:00:00\",\"2024-08-17T00:00:00\",\"2024-08-18T00:00:00\",\"2024-08-19T00:00:00\",\"2024-08-20T00:00:00\",\"2024-08-21T00:00:00\",\"2024-08-22T00:00:00\",\"2024-08-23T00:00:00\",\"2024-08-24T00:00:00\",\"2024-08-25T00:00:00\",\"2024-08-26T00:00:00\",\"2024-08-27T00:00:00\",\"2024-08-28T00:00:00\",\"2024-08-29T00:00:00\",\"2024-08-30T00:00:00\",\"2024-08-31T00:00:00\",\"2024-09-01T00:00:00\",\"2024-09-02T00:00:00\",\"2024-09-03T00:00:00\",\"2024-09-04T00:00:00\",\"2024-09-05T00:00:00\",\"2024-09-06T00:00:00\",\"2024-09-07T00:00:00\",\"2024-09-08T00:00:00\",\"2024-09-09T00:00:00\",\"2024-09-10T00:00:00\",\"2024-09-11T00:00:00\",\"2024-09-12T00:00:00\",\"2024-09-13T00:00:00\",\"2024-09-14T00:00:00\",\"2024-09-15T00:00:00\",\"2024-09-16T00:00:00\",\"2024-09-17T00:00:00\",\"2024-09-18T00:00:00\",\"2024-09-19T00:00:00\",\"2024-09-20T00:00:00\",\"2024-09-21T00:00:00\",\"2024-09-22T00:00:00\",\"2024-09-23T00:00:00\",\"2024-09-24T00:00:00\",\"2024-09-25T00:00:00\",\"2024-09-26T00:00:00\",\"2024-09-27T00:00:00\",\"2024-09-28T00:00:00\",\"2024-09-29T00:00:00\",\"2024-09-30T00:00:00\",\"2024-10-01T00:00:00\",\"2024-10-02T00:00:00\",\"2024-10-03T00:00:00\",\"2024-10-04T00:00:00\",\"2024-10-05T00:00:00\",\"2024-10-06T00:00:00\",\"2024-10-07T00:00:00\",\"2024-10-08T00:00:00\",\"2024-10-09T00:00:00\",\"2024-10-10T00:00:00\",\"2024-10-11T00:00:00\",\"2024-10-12T00:00:00\",\"2024-10-13T00:00:00\",\"2024-10-14T00:00:00\",\"2024-10-15T00:00:00\",\"2024-10-16T00:00:00\",\"2024-10-17T00:00:00\",\"2024-10-18T00:00:00\",\"2024-10-19T00:00:00\",\"2024-10-20T00:00:00\",\"2024-10-21T00:00:00\",\"2024-10-22T00:00:00\",\"2024-10-23T00:00:00\",\"2024-10-24T00:00:00\",\"2024-10-25T00:00:00\",\"2024-10-26T00:00:00\",\"2024-10-27T00:00:00\",\"2024-10-28T00:00:00\",\"2024-10-29T00:00:00\",\"2024-10-30T00:00:00\",\"2024-10-31T00:00:00\",\"2024-11-01T00:00:00\",\"2024-11-02T00:00:00\",\"2024-11-03T00:00:00\",\"2024-11-04T00:00:00\",\"2024-11-05T00:00:00\",\"2024-11-06T00:00:00\",\"2024-11-07T00:00:00\",\"2024-11-08T00:00:00\",\"2024-11-09T00:00:00\",\"2024-11-10T00:00:00\",\"2024-11-11T00:00:00\",\"2024-11-12T00:00:00\",\"2024-11-13T00:00:00\",\"2024-11-14T00:00:00\",\"2024-11-15T00:00:00\",\"2024-11-16T00:00:00\",\"2024-11-17T00:00:00\",\"2024-11-18T00:00:00\",\"2024-11-19T00:00:00\",\"2024-11-20T00:00:00\",\"2024-11-21T00:00:00\",\"2024-11-22T00:00:00\",\"2024-11-23T00:00:00\",\"2024-11-24T00:00:00\",\"2024-11-25T00:00:00\",\"2024-11-26T00:00:00\",\"2024-11-27T00:00:00\",\"2024-11-28T00:00:00\",\"2024-11-29T00:00:00\",\"2024-11-30T00:00:00\",\"2024-12-01T00:00:00\",\"2024-12-02T00:00:00\",\"2024-12-03T00:00:00\",\"2024-12-04T00:00:00\",\"2024-12-05T00:00:00\",\"2024-12-06T00:00:00\",\"2024-12-07T00:00:00\",\"2024-12-08T00:00:00\",\"2024-12-09T00:00:00\",\"2024-12-10T00:00:00\",\"2024-12-11T00:00:00\",\"2024-12-12T00:00:00\",\"2024-12-13T00:00:00\",\"2024-12-14T00:00:00\",\"2024-12-15T00:00:00\",\"2024-12-16T00:00:00\",\"2024-12-17T00:00:00\",\"2024-12-18T00:00:00\",\"2024-12-19T00:00:00\",\"2024-12-20T00:00:00\",\"2024-12-21T00:00:00\",\"2024-12-22T00:00:00\",\"2024-12-23T00:00:00\",\"2024-12-24T00:00:00\",\"2024-12-25T00:00:00\",\"2024-12-26T00:00:00\",\"2024-12-27T00:00:00\",\"2024-12-28T00:00:00\",\"2024-12-29T00:00:00\",\"2024-12-30T00:00:00\",\"2024-12-31T00:00:00\"],\"xaxis\":\"x\",\"y\":[7.0,6.0,6.0,3.0,6.0,8.0,8.0,7.0,6.0,6.0,8.0,8.0,8.0,8.0,9.0,6.0,6.0,6.0,6.0,7.0,7.0,5.0,4.0,4.0,7.0,5.0,9.0,9.0,6.0,4.0,5.0,4.0,2.0,8.0,8.0,7.0,5.0,5.0,5.0,5.0,8.0,8.0,1.0,9.0,9.0,6.0,6.0,6.0,6.0,7.0,9.0,4.0,7.0,7.0,7.0,7.0,6.0,4.0,4.0,5.0,5.0,8.0,8.0,7.0,5.0,5.0,5.0,5.0,8.0,8.0,7.0,1.0,1.0,8.0,6.0,8.0,6.0,7.0,6.0,6.0,6.0,7.0,7.0,7.0,5.0,4.0,4.0,5.0,5.0,11.0,11.0,6.0,5.0,5.0,3.0,2.0,8.0,8.0,7.0,5.0,5.0,8.0,8.0,8.0,8.0,9.0,9.0,6.0,6.0,6.0,7.0,7.0,5.0,4.0,4.0,7.0,7.0,9.0,9.0,6.0,4.0,4.0,5.0,2.0,8.0,8.0,7.0,5.0,5.0,5.0,5.0,8.0,8.0,1.0,1.0,9.0,6.0,6.0,6.0,6.0,7.0,6.0,9.0,7.0,7.0,7.0,7.0,5.0,4.0,4.0,5.0,5.0,11.0,8.0,7.0,5.0,5.0,5.0,5.0,8.0,8.0,7.0,5.0,1.0,8.0,8.0,8.0,8.0,7.0,6.0,6.0,6.0,6.0,7.0,7.0,5.0,4.0,4.0,5.0,5.0,9.0,11.0,6.0,5.0,5.0,4.0,2.0,8.0,8.0,7.0,5.0,5.0,5.0,8.0,8.0,8.0,9.0,9.0,9.0,6.0,6.0,6.0,7.0,9.0,4.0,4.0,7.0,7.0,7.0,9.0,6.0,4.0,4.0,5.0,2.0,8.0,8.0,7.0,5.0,5.0,5.0,5.0,8.0,8.0,1.0,1.0,9.0,6.0,6.0,6.0,6.0,7.0,6.0,9.0,7.0,7.0,7.0,7.0,5.0,4.0,4.0,5.0,5.0,11.0,11.0],\"yaxis\":\"y\",\"type\":\"scatter\"}],                        {\"template\":{\"data\":{\"histogram2dcontour\":[{\"type\":\"histogram2dcontour\",\"colorbar\":{\"outlinewidth\":0,\"ticks\":\"\"},\"colorscale\":[[0.0,\"#0d0887\"],[0.1111111111111111,\"#46039f\"],[0.2222222222222222,\"#7201a8\"],[0.3333333333333333,\"#9c179e\"],[0.4444444444444444,\"#bd3786\"],[0.5555555555555556,\"#d8576b\"],[0.6666666666666666,\"#ed7953\"],[0.7777777777777778,\"#fb9f3a\"],[0.8888888888888888,\"#fdca26\"],[1.0,\"#f0f921\"]]}],\"choropleth\":[{\"type\":\"choropleth\",\"colorbar\":{\"outlinewidth\":0,\"ticks\":\"\"}}],\"histogram2d\":[{\"type\":\"histogram2d\",\"colorbar\":{\"outlinewidth\":0,\"ticks\":\"\"},\"colorscale\":[[0.0,\"#0d0887\"],[0.1111111111111111,\"#46039f\"],[0.2222222222222222,\"#7201a8\"],[0.3333333333333333,\"#9c179e\"],[0.4444444444444444,\"#bd3786\"],[0.5555555555555556,\"#d8576b\"],[0.6666666666666666,\"#ed7953\"],[0.7777777777777778,\"#fb9f3a\"],[0.8888888888888888,\"#fdca26\"],[1.0,\"#f0f921\"]]}],\"heatmap\":[{\"type\":\"heatmap\",\"colorbar\":{\"outlinewidth\":0,\"ticks\":\"\"},\"colorscale\":[[0.0,\"#0d0887\"],[0.1111111111111111,\"#46039f\"],[0.2222222222222222,\"#7201a8\"],[0.3333333333333333,\"#9c179e\"],[0.4444444444444444,\"#bd3786\"],[0.5555555555555556,\"#d8576b\"],[0.6666666666666666,\"#ed7953\"],[0.7777777777777778,\"#fb9f3a\"],[0.8888888888888888,\"#fdca26\"],[1.0,\"#f0f921\"]]}],\"heatmapgl\":[{\"type\":\"heatmapgl\",\"colorbar\":{\"outlinewidth\":0,\"ticks\":\"\"},\"colorscale\":[[0.0,\"#0d0887\"],[0.1111111111111111,\"#46039f\"],[0.2222222222222222,\"#7201a8\"],[0.3333333333333333,\"#9c179e\"],[0.4444444444444444,\"#bd3786\"],[0.5555555555555556,\"#d8576b\"],[0.6666666666666666,\"#ed7953\"],[0.7777777777777778,\"#fb9f3a\"],[0.8888888888888888,\"#fdca26\"],[1.0,\"#f0f921\"]]}],\"contourcarpet\":[{\"type\":\"contourcarpet\",\"colorbar\":{\"outlinewidth\":0,\"ticks\":\"\"}}],\"contour\":[{\"type\":\"contour\",\"colorbar\":{\"outlinewidth\":0,\"ticks\":\"\"},\"colorscale\":[[0.0,\"#0d0887\"],[0.1111111111111111,\"#46039f\"],[0.2222222222222222,\"#7201a8\"],[0.3333333333333333,\"#9c179e\"],[0.4444444444444444,\"#bd3786\"],[0.5555555555555556,\"#d8576b\"],[0.6666666666666666,\"#ed7953\"],[0.7777777777777778,\"#fb9f3a\"],[0.8888888888888888,\"#fdca26\"],[1.0,\"#f0f921\"]]}],\"surface\":[{\"type\":\"surface\",\"colorbar\":{\"outlinewidth\":0,\"ticks\":\"\"},\"colorscale\":[[0.0,\"#0d0887\"],[0.1111111111111111,\"#46039f\"],[0.2222222222222222,\"#7201a8\"],[0.3333333333333333,\"#9c179e\"],[0.4444444444444444,\"#bd3786\"],[0.5555555555555556,\"#d8576b\"],[0.6666666666666666,\"#ed7953\"],[0.7777777777777778,\"#fb9f3a\"],[0.8888888888888888,\"#fdca26\"],[1.0,\"#f0f921\"]]}],\"mesh3d\":[{\"type\":\"mesh3d\",\"colorbar\":{\"outlinewidth\":0,\"ticks\":\"\"}}],\"scatter\":[{\"fillpattern\":{\"fillmode\":\"overlay\",\"size\":10,\"solidity\":0.2},\"type\":\"scatter\"}],\"parcoords\":[{\"type\":\"parcoords\",\"line\":{\"colorbar\":{\"outlinewidth\":0,\"ticks\":\"\"}}}],\"scatterpolargl\":[{\"type\":\"scatterpolargl\",\"marker\":{\"colorbar\":{\"outlinewidth\":0,\"ticks\":\"\"}}}],\"bar\":[{\"error_x\":{\"color\":\"#2a3f5f\"},\"error_y\":{\"color\":\"#2a3f5f\"},\"marker\":{\"line\":{\"color\":\"#E5ECF6\",\"width\":0.5},\"pattern\":{\"fillmode\":\"overlay\",\"size\":10,\"solidity\":0.2}},\"type\":\"bar\"}],\"scattergeo\":[{\"type\":\"scattergeo\",\"marker\":{\"colorbar\":{\"outlinewidth\":0,\"ticks\":\"\"}}}],\"scatterpolar\":[{\"type\":\"scatterpolar\",\"marker\":{\"colorbar\":{\"outlinewidth\":0,\"ticks\":\"\"}}}],\"histogram\":[{\"marker\":{\"pattern\":{\"fillmode\":\"overlay\",\"size\":10,\"solidity\":0.2}},\"type\":\"histogram\"}],\"scattergl\":[{\"type\":\"scattergl\",\"marker\":{\"colorbar\":{\"outlinewidth\":0,\"ticks\":\"\"}}}],\"scatter3d\":[{\"type\":\"scatter3d\",\"line\":{\"colorbar\":{\"outlinewidth\":0,\"ticks\":\"\"}},\"marker\":{\"colorbar\":{\"outlinewidth\":0,\"ticks\":\"\"}}}],\"scattermapbox\":[{\"type\":\"scattermapbox\",\"marker\":{\"colorbar\":{\"outlinewidth\":0,\"ticks\":\"\"}}}],\"scatterternary\":[{\"type\":\"scatterternary\",\"marker\":{\"colorbar\":{\"outlinewidth\":0,\"ticks\":\"\"}}}],\"scattercarpet\":[{\"type\":\"scattercarpet\",\"marker\":{\"colorbar\":{\"outlinewidth\":0,\"ticks\":\"\"}}}],\"carpet\":[{\"aaxis\":{\"endlinecolor\":\"#2a3f5f\",\"gridcolor\":\"white\",\"linecolor\":\"white\",\"minorgridcolor\":\"white\",\"startlinecolor\":\"#2a3f5f\"},\"baxis\":{\"endlinecolor\":\"#2a3f5f\",\"gridcolor\":\"white\",\"linecolor\":\"white\",\"minorgridcolor\":\"white\",\"startlinecolor\":\"#2a3f5f\"},\"type\":\"carpet\"}],\"table\":[{\"cells\":{\"fill\":{\"color\":\"#EBF0F8\"},\"line\":{\"color\":\"white\"}},\"header\":{\"fill\":{\"color\":\"#C8D4E3\"},\"line\":{\"color\":\"white\"}},\"type\":\"table\"}],\"barpolar\":[{\"marker\":{\"line\":{\"color\":\"#E5ECF6\",\"width\":0.5},\"pattern\":{\"fillmode\":\"overlay\",\"size\":10,\"solidity\":0.2}},\"type\":\"barpolar\"}],\"pie\":[{\"automargin\":true,\"type\":\"pie\"}]},\"layout\":{\"autotypenumbers\":\"strict\",\"colorway\":[\"#636efa\",\"#EF553B\",\"#00cc96\",\"#ab63fa\",\"#FFA15A\",\"#19d3f3\",\"#FF6692\",\"#B6E880\",\"#FF97FF\",\"#FECB52\"],\"font\":{\"color\":\"#2a3f5f\"},\"hovermode\":\"closest\",\"hoverlabel\":{\"align\":\"left\"},\"paper_bgcolor\":\"white\",\"plot_bgcolor\":\"#E5ECF6\",\"polar\":{\"bgcolor\":\"#E5ECF6\",\"angularaxis\":{\"gridcolor\":\"white\",\"linecolor\":\"white\",\"ticks\":\"\"},\"radialaxis\":{\"gridcolor\":\"white\",\"linecolor\":\"white\",\"ticks\":\"\"}},\"ternary\":{\"bgcolor\":\"#E5ECF6\",\"aaxis\":{\"gridcolor\":\"white\",\"linecolor\":\"white\",\"ticks\":\"\"},\"baxis\":{\"gridcolor\":\"white\",\"linecolor\":\"white\",\"ticks\":\"\"},\"caxis\":{\"gridcolor\":\"white\",\"linecolor\":\"white\",\"ticks\":\"\"}},\"coloraxis\":{\"colorbar\":{\"outlinewidth\":0,\"ticks\":\"\"}},\"colorscale\":{\"sequential\":[[0.0,\"#0d0887\"],[0.1111111111111111,\"#46039f\"],[0.2222222222222222,\"#7201a8\"],[0.3333333333333333,\"#9c179e\"],[0.4444444444444444,\"#bd3786\"],[0.5555555555555556,\"#d8576b\"],[0.6666666666666666,\"#ed7953\"],[0.7777777777777778,\"#fb9f3a\"],[0.8888888888888888,\"#fdca26\"],[1.0,\"#f0f921\"]],\"sequentialminus\":[[0.0,\"#0d0887\"],[0.1111111111111111,\"#46039f\"],[0.2222222222222222,\"#7201a8\"],[0.3333333333333333,\"#9c179e\"],[0.4444444444444444,\"#bd3786\"],[0.5555555555555556,\"#d8576b\"],[0.6666666666666666,\"#ed7953\"],[0.7777777777777778,\"#fb9f3a\"],[0.8888888888888888,\"#fdca26\"],[1.0,\"#f0f921\"]],\"diverging\":[[0,\"#8e0152\"],[0.1,\"#c51b7d\"],[0.2,\"#de77ae\"],[0.3,\"#f1b6da\"],[0.4,\"#fde0ef\"],[0.5,\"#f7f7f7\"],[0.6,\"#e6f5d0\"],[0.7,\"#b8e186\"],[0.8,\"#7fbc41\"],[0.9,\"#4d9221\"],[1,\"#276419\"]]},\"xaxis\":{\"gridcolor\":\"white\",\"linecolor\":\"white\",\"ticks\":\"\",\"title\":{\"standoff\":15},\"zerolinecolor\":\"white\",\"automargin\":true,\"zerolinewidth\":2},\"yaxis\":{\"gridcolor\":\"white\",\"linecolor\":\"white\",\"ticks\":\"\",\"title\":{\"standoff\":15},\"zerolinecolor\":\"white\",\"automargin\":true,\"zerolinewidth\":2},\"scene\":{\"xaxis\":{\"backgroundcolor\":\"#E5ECF6\",\"gridcolor\":\"white\",\"linecolor\":\"white\",\"showbackground\":true,\"ticks\":\"\",\"zerolinecolor\":\"white\",\"gridwidth\":2},\"yaxis\":{\"backgroundcolor\":\"#E5ECF6\",\"gridcolor\":\"white\",\"linecolor\":\"white\",\"showbackground\":true,\"ticks\":\"\",\"zerolinecolor\":\"white\",\"gridwidth\":2},\"zaxis\":{\"backgroundcolor\":\"#E5ECF6\",\"gridcolor\":\"white\",\"linecolor\":\"white\",\"showbackground\":true,\"ticks\":\"\",\"zerolinecolor\":\"white\",\"gridwidth\":2}},\"shapedefaults\":{\"line\":{\"color\":\"#2a3f5f\"}},\"annotationdefaults\":{\"arrowcolor\":\"#2a3f5f\",\"arrowhead\":0,\"arrowwidth\":1},\"geo\":{\"bgcolor\":\"white\",\"landcolor\":\"#E5ECF6\",\"subunitcolor\":\"white\",\"showland\":true,\"showlakes\":true,\"lakecolor\":\"white\"},\"title\":{\"x\":0.05},\"mapbox\":{\"style\":\"light\"}}},\"xaxis\":{\"anchor\":\"y\",\"domain\":[0.0,1.0],\"title\":{\"text\":\"Fecha\"}},\"yaxis\":{\"anchor\":\"x\",\"domain\":[0.0,1.0],\"title\":{\"text\":\"Predicci\\u00f3n de cr\\u00edmenes\"}},\"legend\":{\"tracegroupgap\":0},\"title\":{\"text\":\"Predicci\\u00f3n de cr\\u00edmenes en el \\u00e1rea \\\"Central\\\" en 2024\"}},                        {\"responsive\": true}                    ).then(function(){\n",
              "                            \n",
              "var gd = document.getElementById('346af3fe-fc61-462f-b0db-1e327ffc415a');\n",
              "var x = new MutationObserver(function (mutations, observer) {{\n",
              "        var display = window.getComputedStyle(gd).display;\n",
              "        if (!display || display === 'none') {{\n",
              "            console.log([gd, 'removed!']);\n",
              "            Plotly.purge(gd);\n",
              "            observer.disconnect();\n",
              "        }}\n",
              "}});\n",
              "\n",
              "// Listen for the removal of the full notebook cells\n",
              "var notebookContainer = gd.closest('#notebook-container');\n",
              "if (notebookContainer) {{\n",
              "    x.observe(notebookContainer, {childList: true});\n",
              "}}\n",
              "\n",
              "// Listen for the clearing of the current output cell\n",
              "var outputEl = gd.closest('.output');\n",
              "if (outputEl) {{\n",
              "    x.observe(outputEl, {childList: true});\n",
              "}}\n",
              "\n",
              "                        })                };                            </script>        </div>\n",
              "</body>\n",
              "</html>"
            ]
          },
          "metadata": {}
        }
      ],
      "source": [
        "fig = px.line(\n",
        "    future_df,\n",
        "    x='Single date',\n",
        "    y='Predicción_crimenes',\n",
        "    title='Predicción de crímenes en el área \"Central\" en 2024',\n",
        "    labels={'Single date': 'Fecha', 'Predicción_crimenes': 'Predicción de crímenes'},\n",
        "    markers=True\n",
        ")\n",
        "\n",
        "fig.show()"
      ]
    },
    {
      "cell_type": "markdown",
      "metadata": {
        "id": "8ZnhKaK2Y9Kd"
      },
      "source": [
        "---\n",
        "\n",
        "## Predicciones con LLMs"
      ]
    },
    {
      "cell_type": "code",
      "source": [
        "!pip install git+https://github.com/amazon-science/chronos-forecasting.git"
      ],
      "metadata": {
        "colab": {
          "base_uri": "https://localhost:8080/"
        },
        "id": "nNeQYRboa2eC",
        "outputId": "f451829a-683e-4d70-f53d-70b6944c56a5"
      },
      "execution_count": null,
      "outputs": [
        {
          "output_type": "stream",
          "name": "stdout",
          "text": [
            "Collecting git+https://github.com/amazon-science/chronos-forecasting.git\n",
            "  Cloning https://github.com/amazon-science/chronos-forecasting.git to /tmp/pip-req-build-vt0s0m2v\n",
            "  Running command git clone --filter=blob:none --quiet https://github.com/amazon-science/chronos-forecasting.git /tmp/pip-req-build-vt0s0m2v\n",
            "  Resolved https://github.com/amazon-science/chronos-forecasting.git to commit ac6ee36acee1e47446cd66f72f540c87f1f1fbe4\n",
            "  Installing build dependencies ... \u001b[?25l\u001b[?25hdone\n",
            "  Getting requirements to build wheel ... \u001b[?25l\u001b[?25hdone\n",
            "  Preparing metadata (pyproject.toml) ... \u001b[?25l\u001b[?25hdone\n",
            "Requirement already satisfied: torch~=2.0 in /usr/local/lib/python3.10/dist-packages (from chronos==1.2.1) (2.5.0+cu121)\n",
            "Requirement already satisfied: transformers~=4.30 in /usr/local/lib/python3.10/dist-packages (from chronos==1.2.1) (4.44.2)\n",
            "Requirement already satisfied: accelerate in /usr/local/lib/python3.10/dist-packages (from chronos==1.2.1) (0.34.2)\n",
            "Requirement already satisfied: filelock in /usr/local/lib/python3.10/dist-packages (from torch~=2.0->chronos==1.2.1) (3.16.1)\n",
            "Requirement already satisfied: typing-extensions>=4.8.0 in /usr/local/lib/python3.10/dist-packages (from torch~=2.0->chronos==1.2.1) (4.12.2)\n",
            "Requirement already satisfied: networkx in /usr/local/lib/python3.10/dist-packages (from torch~=2.0->chronos==1.2.1) (3.4.2)\n",
            "Requirement already satisfied: jinja2 in /usr/local/lib/python3.10/dist-packages (from torch~=2.0->chronos==1.2.1) (3.1.4)\n",
            "Requirement already satisfied: fsspec in /usr/local/lib/python3.10/dist-packages (from torch~=2.0->chronos==1.2.1) (2024.6.1)\n",
            "Requirement already satisfied: sympy==1.13.1 in /usr/local/lib/python3.10/dist-packages (from torch~=2.0->chronos==1.2.1) (1.13.1)\n",
            "Requirement already satisfied: mpmath<1.4,>=1.1.0 in /usr/local/lib/python3.10/dist-packages (from sympy==1.13.1->torch~=2.0->chronos==1.2.1) (1.3.0)\n",
            "Requirement already satisfied: huggingface-hub<1.0,>=0.23.2 in /usr/local/lib/python3.10/dist-packages (from transformers~=4.30->chronos==1.2.1) (0.24.7)\n",
            "Requirement already satisfied: numpy>=1.17 in /usr/local/lib/python3.10/dist-packages (from transformers~=4.30->chronos==1.2.1) (1.26.4)\n",
            "Requirement already satisfied: packaging>=20.0 in /usr/local/lib/python3.10/dist-packages (from transformers~=4.30->chronos==1.2.1) (24.1)\n",
            "Requirement already satisfied: pyyaml>=5.1 in /usr/local/lib/python3.10/dist-packages (from transformers~=4.30->chronos==1.2.1) (6.0.2)\n",
            "Requirement already satisfied: regex!=2019.12.17 in /usr/local/lib/python3.10/dist-packages (from transformers~=4.30->chronos==1.2.1) (2024.9.11)\n",
            "Requirement already satisfied: requests in /usr/local/lib/python3.10/dist-packages (from transformers~=4.30->chronos==1.2.1) (2.32.3)\n",
            "Requirement already satisfied: safetensors>=0.4.1 in /usr/local/lib/python3.10/dist-packages (from transformers~=4.30->chronos==1.2.1) (0.4.5)\n",
            "Requirement already satisfied: tokenizers<0.20,>=0.19 in /usr/local/lib/python3.10/dist-packages (from transformers~=4.30->chronos==1.2.1) (0.19.1)\n",
            "Requirement already satisfied: tqdm>=4.27 in /usr/local/lib/python3.10/dist-packages (from transformers~=4.30->chronos==1.2.1) (4.66.5)\n",
            "Requirement already satisfied: psutil in /usr/local/lib/python3.10/dist-packages (from accelerate->chronos==1.2.1) (5.9.5)\n",
            "Requirement already satisfied: MarkupSafe>=2.0 in /usr/local/lib/python3.10/dist-packages (from jinja2->torch~=2.0->chronos==1.2.1) (3.0.2)\n",
            "Requirement already satisfied: charset-normalizer<4,>=2 in /usr/local/lib/python3.10/dist-packages (from requests->transformers~=4.30->chronos==1.2.1) (3.4.0)\n",
            "Requirement already satisfied: idna<4,>=2.5 in /usr/local/lib/python3.10/dist-packages (from requests->transformers~=4.30->chronos==1.2.1) (3.10)\n",
            "Requirement already satisfied: urllib3<3,>=1.21.1 in /usr/local/lib/python3.10/dist-packages (from requests->transformers~=4.30->chronos==1.2.1) (2.2.3)\n",
            "Requirement already satisfied: certifi>=2017.4.17 in /usr/local/lib/python3.10/dist-packages (from requests->transformers~=4.30->chronos==1.2.1) (2024.8.30)\n",
            "Building wheels for collected packages: chronos\n",
            "  Building wheel for chronos (pyproject.toml) ... \u001b[?25l\u001b[?25hdone\n",
            "  Created wheel for chronos: filename=chronos-1.2.1-py3-none-any.whl size=13927 sha256=de790505fed0a5c41b935260230355d7bce27135f4fc8f1cd988181ea624ed18\n",
            "  Stored in directory: /tmp/pip-ephem-wheel-cache-k1nlhpmm/wheels/bf/c1/65/08857e57345ef1b34ba0edb4791f1b2594943e82f34e93a4ab\n",
            "Successfully built chronos\n",
            "Installing collected packages: chronos\n",
            "Successfully installed chronos-1.2.1\n"
          ]
        }
      ]
    },
    {
      "cell_type": "code",
      "execution_count": null,
      "metadata": {
        "id": "uhvwbIh7Y9Kd"
      },
      "outputs": [],
      "source": [
        "import torch\n",
        "from chronos import ChronosPipeline"
      ]
    },
    {
      "cell_type": "code",
      "execution_count": null,
      "metadata": {
        "colab": {
          "base_uri": "https://localhost:8080/",
          "height": 252,
          "referenced_widgets": [
            "db62246b83be4008a6baf2efa5212e39",
            "6223a800570d4e3785ed63dd617500b9",
            "fc5eae686e604c11b8f3a5e74af18f76",
            "79a207741830493abd31f588b5433f0f",
            "87fb3fa723664e5cbcaf080341860a05",
            "b92391cd35a24203b375dbe9d2c16413",
            "6f0b632bdba54a2fb5d8ad29d82375e3",
            "ff2f810b43f4444e9e56c83d1c35e248",
            "11cd67c6882741c1a5888811e4eec799",
            "3db9008b8f314c0a9592c553ddebf396",
            "445b5a1e9a2543afb1efec8a7b59f7c9",
            "b68e160dbf4444fd8ef1e76d2dbf961b",
            "ca8250f521014920a08a67a484ff0fe6",
            "6c758db6c71b40fca51998f30719d9d5",
            "380771cbaaa34448a60d879246cba325",
            "6505bad522214ce1bc298fd5b0e097d4",
            "a1333e4aefc54f4f9d96aa65561b99e8",
            "66dee7a62bc14fb5b5f4a108c8931a9b",
            "5626009ac3674df2a5a8149fe5888cbd",
            "b4d49b077ec14900b673c2f4aefdc184",
            "382e3a90dbb64576a3d144c4808282b0",
            "aea3e37fc3094b238dbabb232349b930",
            "fe9d8adfc6df43188d30e00020e9c759",
            "a4db7c08fb9b44ccb4324fb96d7cd6e5",
            "ff58ace16a614e1bba392fc447f2a7d0",
            "e7a9aeeb3a3d4cd2b2a39e1baf5cf857",
            "4969119eb5ce40b9bf09cae27c01b969",
            "224947088ca8407d9466fd33436f6f6a",
            "8d319da4668c4aaeaf4c96447d56fdcf",
            "3e4f8828c9164d8389da0b347f746168",
            "30b8f3d832b3493581af48d615cc24dd",
            "c1c1e4f41ca443aaa50fef96e6cceef3",
            "a950fdb615184147b7bd94a60a4dc872"
          ]
        },
        "id": "X7QDBfuVY9Ke",
        "outputId": "b251fe2e-8d08-420f-ba58-b6f3b00668fc"
      },
      "outputs": [
        {
          "output_type": "stream",
          "name": "stderr",
          "text": [
            "/usr/local/lib/python3.10/dist-packages/huggingface_hub/utils/_token.py:89: UserWarning:\n",
            "\n",
            "\n",
            "The secret `HF_TOKEN` does not exist in your Colab secrets.\n",
            "To authenticate with the Hugging Face Hub, create a token in your settings tab (https://huggingface.co/settings/tokens), set it as secret in your Google Colab and restart your session.\n",
            "You will be able to reuse this secret in all of your notebooks.\n",
            "Please note that authentication is recommended but still optional to access public models or datasets.\n",
            "\n"
          ]
        },
        {
          "output_type": "display_data",
          "data": {
            "text/plain": [
              "config.json:   0%|          | 0.00/1.14k [00:00<?, ?B/s]"
            ],
            "application/vnd.jupyter.widget-view+json": {
              "version_major": 2,
              "version_minor": 0,
              "model_id": "db62246b83be4008a6baf2efa5212e39"
            }
          },
          "metadata": {}
        },
        {
          "output_type": "display_data",
          "data": {
            "text/plain": [
              "model.safetensors:   0%|          | 0.00/33.6M [00:00<?, ?B/s]"
            ],
            "application/vnd.jupyter.widget-view+json": {
              "version_major": 2,
              "version_minor": 0,
              "model_id": "b68e160dbf4444fd8ef1e76d2dbf961b"
            }
          },
          "metadata": {}
        },
        {
          "output_type": "display_data",
          "data": {
            "text/plain": [
              "generation_config.json:   0%|          | 0.00/142 [00:00<?, ?B/s]"
            ],
            "application/vnd.jupyter.widget-view+json": {
              "version_major": 2,
              "version_minor": 0,
              "model_id": "fe9d8adfc6df43188d30e00020e9c759"
            }
          },
          "metadata": {}
        }
      ],
      "source": [
        "pipeline = ChronosPipeline.from_pretrained(\n",
        "  \"amazon/chronos-t5-tiny\",\n",
        "  device_map=\"cpu\",\n",
        "  torch_dtype=torch.bfloat16,\n",
        ")"
      ]
    },
    {
      "cell_type": "code",
      "execution_count": null,
      "metadata": {
        "id": "aOnjj-y8Y9Ke"
      },
      "outputs": [],
      "source": [
        "llm_pred = grouped_df[['Single date', 'número_crimenes']]"
      ]
    },
    {
      "cell_type": "code",
      "execution_count": null,
      "metadata": {
        "id": "qCn6JzlsY9Ke"
      },
      "outputs": [],
      "source": [
        "context = torch.tensor(llm_pred[\"número_crimenes\"])\n",
        "prediction_length = 64\n",
        "forecast = pipeline.predict(context, prediction_length)\n",
        "forecast_index = range(len(llm_pred), len(llm_pred) + prediction_length)\n",
        "low, median, high = np.quantile(forecast[0].numpy(), [0.1, 0.5, 0.9], axis=0)"
      ]
    },
    {
      "cell_type": "code",
      "execution_count": null,
      "metadata": {
        "colab": {
          "base_uri": "https://localhost:8080/",
          "height": 542
        },
        "id": "fF6BW0l6Y9Ke",
        "outputId": "3214ae10-8eb5-4750-8bf5-ee8e6da7f44b"
      },
      "outputs": [
        {
          "output_type": "display_data",
          "data": {
            "text/html": [
              "<html>\n",
              "<head><meta charset=\"utf-8\" /></head>\n",
              "<body>\n",
              "    <div>            <script src=\"https://cdnjs.cloudflare.com/ajax/libs/mathjax/2.7.5/MathJax.js?config=TeX-AMS-MML_SVG\"></script><script type=\"text/javascript\">if (window.MathJax && window.MathJax.Hub && window.MathJax.Hub.Config) {window.MathJax.Hub.Config({SVG: {font: \"STIX-Web\"}});}</script>                <script type=\"text/javascript\">window.PlotlyConfig = {MathJaxConfig: 'local'};</script>\n",
              "        <script charset=\"utf-8\" src=\"https://cdn.plot.ly/plotly-2.35.2.min.js\"></script>                <div id=\"2c07981e-8f50-40fa-94eb-ea77a06b70af\" class=\"plotly-graph-div\" style=\"height:525px; width:100%;\"></div>            <script type=\"text/javascript\">                                    window.PLOTLYENV=window.PLOTLYENV || {};                                    if (document.getElementById(\"2c07981e-8f50-40fa-94eb-ea77a06b70af\")) {                    Plotly.newPlot(                        \"2c07981e-8f50-40fa-94eb-ea77a06b70af\",                        [{\"line\":{\"color\":\"royalblue\"},\"mode\":\"lines\",\"name\":\"historical data\",\"x\":[\"2020-01-01T00:00:00\",\"2020-01-02T00:00:00\",\"2020-01-03T00:00:00\",\"2020-01-04T00:00:00\",\"2020-01-05T00:00:00\",\"2020-01-06T00:00:00\",\"2020-01-07T00:00:00\",\"2020-01-08T00:00:00\",\"2020-01-09T00:00:00\",\"2020-01-10T00:00:00\",\"2020-01-11T00:00:00\",\"2020-01-12T00:00:00\",\"2020-01-13T00:00:00\",\"2020-01-14T00:00:00\",\"2020-01-15T00:00:00\",\"2020-01-16T00:00:00\",\"2020-01-17T00:00:00\",\"2020-01-18T00:00:00\",\"2020-01-19T00:00:00\",\"2020-01-20T00:00:00\",\"2020-01-21T00:00:00\",\"2020-01-22T00:00:00\",\"2020-01-23T00:00:00\",\"2020-01-24T00:00:00\",\"2020-01-25T00:00:00\",\"2020-01-26T00:00:00\",\"2020-01-27T00:00:00\",\"2020-01-28T00:00:00\",\"2020-01-29T00:00:00\",\"2020-01-30T00:00:00\",\"2020-01-31T00:00:00\",\"2020-02-01T00:00:00\",\"2020-02-02T00:00:00\",\"2020-02-03T00:00:00\",\"2020-02-04T00:00:00\",\"2020-02-05T00:00:00\",\"2020-02-06T00:00:00\",\"2020-02-07T00:00:00\",\"2020-02-08T00:00:00\",\"2020-02-09T00:00:00\",\"2020-02-10T00:00:00\",\"2020-02-11T00:00:00\",\"2020-02-12T00:00:00\",\"2020-02-13T00:00:00\",\"2020-02-14T00:00:00\",\"2020-02-15T00:00:00\",\"2020-02-16T00:00:00\",\"2020-02-17T00:00:00\",\"2020-02-18T00:00:00\",\"2020-02-19T00:00:00\",\"2020-02-20T00:00:00\",\"2020-02-21T00:00:00\",\"2020-02-22T00:00:00\",\"2020-02-23T00:00:00\",\"2020-02-24T00:00:00\",\"2020-02-25T00:00:00\",\"2020-02-26T00:00:00\",\"2020-02-27T00:00:00\",\"2020-02-28T00:00:00\",\"2020-02-29T00:00:00\",\"2020-03-01T00:00:00\",\"2020-03-02T00:00:00\",\"2020-03-03T00:00:00\",\"2020-03-04T00:00:00\",\"2020-03-05T00:00:00\",\"2020-03-06T00:00:00\",\"2020-03-07T00:00:00\",\"2020-03-08T00:00:00\",\"2020-03-09T00:00:00\",\"2020-03-10T00:00:00\",\"2020-03-11T00:00:00\",\"2020-03-12T00:00:00\",\"2020-03-13T00:00:00\",\"2020-03-14T00:00:00\",\"2020-03-15T00:00:00\",\"2020-03-16T00:00:00\",\"2020-03-17T00:00:00\",\"2020-03-18T00:00:00\",\"2020-03-19T00:00:00\",\"2020-03-20T00:00:00\",\"2020-03-21T00:00:00\",\"2020-03-22T00:00:00\",\"2020-03-23T00:00:00\",\"2020-03-24T00:00:00\",\"2020-03-25T00:00:00\",\"2020-03-26T00:00:00\",\"2020-03-27T00:00:00\",\"2020-03-28T00:00:00\",\"2020-03-29T00:00:00\",\"2020-03-30T00:00:00\",\"2020-03-31T00:00:00\",\"2020-04-01T00:00:00\",\"2020-04-02T00:00:00\",\"2020-04-03T00:00:00\",\"2020-04-04T00:00:00\",\"2020-04-05T00:00:00\",\"2020-04-06T00:00:00\",\"2020-04-07T00:00:00\",\"2020-04-08T00:00:00\",\"2020-04-09T00:00:00\",\"2020-04-10T00:00:00\",\"2020-04-11T00:00:00\",\"2020-04-12T00:00:00\",\"2020-04-13T00:00:00\",\"2020-04-14T00:00:00\",\"2020-04-15T00:00:00\",\"2020-04-16T00:00:00\",\"2020-04-17T00:00:00\",\"2020-04-18T00:00:00\",\"2020-04-19T00:00:00\",\"2020-04-20T00:00:00\",\"2020-04-21T00:00:00\",\"2020-04-22T00:00:00\",\"2020-04-23T00:00:00\",\"2020-04-24T00:00:00\",\"2020-04-25T00:00:00\",\"2020-04-26T00:00:00\",\"2020-04-27T00:00:00\",\"2020-04-28T00:00:00\",\"2020-04-29T00:00:00\",\"2020-04-30T00:00:00\",\"2020-05-01T00:00:00\",\"2020-05-02T00:00:00\",\"2020-05-03T00:00:00\",\"2020-05-04T00:00:00\",\"2020-05-05T00:00:00\",\"2020-05-06T00:00:00\",\"2020-05-07T00:00:00\",\"2020-05-08T00:00:00\",\"2020-05-09T00:00:00\",\"2020-05-10T00:00:00\",\"2020-05-11T00:00:00\",\"2020-05-12T00:00:00\",\"2020-05-13T00:00:00\",\"2020-05-14T00:00:00\",\"2020-05-15T00:00:00\",\"2020-05-16T00:00:00\",\"2020-05-17T00:00:00\",\"2020-05-18T00:00:00\",\"2020-05-19T00:00:00\",\"2020-05-20T00:00:00\",\"2020-05-21T00:00:00\",\"2020-05-22T00:00:00\",\"2020-05-23T00:00:00\",\"2020-05-24T00:00:00\",\"2020-05-25T00:00:00\",\"2020-05-26T00:00:00\",\"2020-05-27T00:00:00\",\"2020-05-28T00:00:00\",\"2020-05-29T00:00:00\",\"2020-05-30T00:00:00\",\"2020-05-31T00:00:00\",\"2020-06-01T00:00:00\",\"2020-06-02T00:00:00\",\"2020-06-03T00:00:00\",\"2020-06-04T00:00:00\",\"2020-06-05T00:00:00\",\"2020-06-06T00:00:00\",\"2020-06-07T00:00:00\",\"2020-06-08T00:00:00\",\"2020-06-09T00:00:00\",\"2020-06-10T00:00:00\",\"2020-06-11T00:00:00\",\"2020-06-12T00:00:00\",\"2020-06-13T00:00:00\",\"2020-06-14T00:00:00\",\"2020-06-15T00:00:00\",\"2020-06-16T00:00:00\",\"2020-06-17T00:00:00\",\"2020-06-18T00:00:00\",\"2020-06-19T00:00:00\",\"2020-06-20T00:00:00\",\"2020-06-21T00:00:00\",\"2020-06-22T00:00:00\",\"2020-06-23T00:00:00\",\"2020-06-24T00:00:00\",\"2020-06-25T00:00:00\",\"2020-06-26T00:00:00\",\"2020-06-27T00:00:00\",\"2020-06-28T00:00:00\",\"2020-06-29T00:00:00\",\"2020-06-30T00:00:00\",\"2020-07-01T00:00:00\",\"2020-07-02T00:00:00\",\"2020-07-03T00:00:00\",\"2020-07-04T00:00:00\",\"2020-07-05T00:00:00\",\"2020-07-06T00:00:00\",\"2020-07-07T00:00:00\",\"2020-07-08T00:00:00\",\"2020-07-09T00:00:00\",\"2020-07-10T00:00:00\",\"2020-07-11T00:00:00\",\"2020-07-12T00:00:00\",\"2020-07-13T00:00:00\",\"2020-07-14T00:00:00\",\"2020-07-15T00:00:00\",\"2020-07-16T00:00:00\",\"2020-07-17T00:00:00\",\"2020-07-18T00:00:00\",\"2020-07-19T00:00:00\",\"2020-07-20T00:00:00\",\"2020-07-21T00:00:00\",\"2020-07-22T00:00:00\",\"2020-07-23T00:00:00\",\"2020-07-24T00:00:00\",\"2020-07-25T00:00:00\",\"2020-07-26T00:00:00\",\"2020-07-27T00:00:00\",\"2020-07-28T00:00:00\",\"2020-07-29T00:00:00\",\"2020-07-30T00:00:00\",\"2020-07-31T00:00:00\",\"2020-08-01T00:00:00\",\"2020-08-02T00:00:00\",\"2020-08-03T00:00:00\",\"2020-08-04T00:00:00\",\"2020-08-05T00:00:00\",\"2020-08-06T00:00:00\",\"2020-08-07T00:00:00\",\"2020-08-08T00:00:00\",\"2020-08-09T00:00:00\",\"2020-08-10T00:00:00\",\"2020-08-11T00:00:00\",\"2020-08-12T00:00:00\",\"2020-08-13T00:00:00\",\"2020-08-14T00:00:00\",\"2020-08-15T00:00:00\",\"2020-08-16T00:00:00\",\"2020-08-17T00:00:00\",\"2020-08-18T00:00:00\",\"2020-08-19T00:00:00\",\"2020-08-20T00:00:00\",\"2020-08-21T00:00:00\",\"2020-08-22T00:00:00\",\"2020-08-23T00:00:00\",\"2020-08-24T00:00:00\",\"2020-08-25T00:00:00\",\"2020-08-26T00:00:00\",\"2020-08-27T00:00:00\",\"2020-08-28T00:00:00\",\"2020-08-29T00:00:00\",\"2020-08-30T00:00:00\",\"2020-08-31T00:00:00\",\"2020-09-01T00:00:00\",\"2020-09-02T00:00:00\",\"2020-09-03T00:00:00\",\"2020-09-04T00:00:00\",\"2020-09-05T00:00:00\",\"2020-09-06T00:00:00\",\"2020-09-07T00:00:00\",\"2020-09-08T00:00:00\",\"2020-09-09T00:00:00\",\"2020-09-10T00:00:00\",\"2020-09-11T00:00:00\",\"2020-09-12T00:00:00\",\"2020-09-13T00:00:00\",\"2020-09-14T00:00:00\",\"2020-09-15T00:00:00\",\"2020-09-16T00:00:00\",\"2020-09-17T00:00:00\",\"2020-09-18T00:00:00\",\"2020-09-19T00:00:00\",\"2020-09-20T00:00:00\",\"2020-09-21T00:00:00\",\"2020-09-22T00:00:00\",\"2020-09-23T00:00:00\",\"2020-09-24T00:00:00\",\"2020-09-25T00:00:00\",\"2020-09-26T00:00:00\",\"2020-09-27T00:00:00\",\"2020-09-28T00:00:00\",\"2020-09-29T00:00:00\",\"2020-09-30T00:00:00\",\"2020-10-01T00:00:00\",\"2020-10-02T00:00:00\",\"2020-10-03T00:00:00\",\"2020-10-04T00:00:00\",\"2020-10-05T00:00:00\",\"2020-10-06T00:00:00\",\"2020-10-07T00:00:00\",\"2020-10-08T00:00:00\",\"2020-10-09T00:00:00\",\"2020-10-10T00:00:00\",\"2020-10-11T00:00:00\",\"2020-10-12T00:00:00\",\"2020-10-13T00:00:00\",\"2020-10-14T00:00:00\",\"2020-10-15T00:00:00\",\"2020-10-16T00:00:00\",\"2020-10-17T00:00:00\",\"2020-10-18T00:00:00\",\"2020-10-19T00:00:00\",\"2020-10-20T00:00:00\",\"2020-10-21T00:00:00\",\"2020-10-22T00:00:00\",\"2020-10-23T00:00:00\",\"2020-10-24T00:00:00\",\"2020-10-25T00:00:00\",\"2020-10-26T00:00:00\",\"2020-10-27T00:00:00\",\"2020-10-28T00:00:00\",\"2020-10-29T00:00:00\",\"2020-10-30T00:00:00\",\"2020-10-31T00:00:00\",\"2020-11-01T00:00:00\",\"2020-11-02T00:00:00\",\"2020-11-03T00:00:00\",\"2020-11-04T00:00:00\",\"2020-11-05T00:00:00\",\"2020-11-06T00:00:00\",\"2020-11-07T00:00:00\",\"2020-11-08T00:00:00\",\"2020-11-09T00:00:00\",\"2020-11-10T00:00:00\",\"2020-11-11T00:00:00\",\"2020-11-12T00:00:00\",\"2020-11-13T00:00:00\",\"2020-11-14T00:00:00\",\"2020-11-15T00:00:00\",\"2020-11-16T00:00:00\",\"2020-11-17T00:00:00\",\"2020-11-18T00:00:00\",\"2020-11-19T00:00:00\",\"2020-11-20T00:00:00\",\"2020-11-21T00:00:00\",\"2020-11-22T00:00:00\",\"2020-11-23T00:00:00\",\"2020-11-24T00:00:00\",\"2020-11-25T00:00:00\",\"2020-11-26T00:00:00\",\"2020-11-27T00:00:00\",\"2020-11-28T00:00:00\",\"2020-11-29T00:00:00\",\"2020-11-30T00:00:00\",\"2020-12-01T00:00:00\",\"2020-12-02T00:00:00\",\"2020-12-03T00:00:00\",\"2020-12-04T00:00:00\",\"2020-12-05T00:00:00\",\"2020-12-06T00:00:00\",\"2020-12-07T00:00:00\",\"2020-12-08T00:00:00\",\"2020-12-09T00:00:00\",\"2020-12-10T00:00:00\",\"2020-12-11T00:00:00\",\"2020-12-12T00:00:00\",\"2020-12-13T00:00:00\",\"2020-12-14T00:00:00\",\"2020-12-15T00:00:00\",\"2020-12-16T00:00:00\",\"2020-12-17T00:00:00\",\"2020-12-18T00:00:00\",\"2020-12-19T00:00:00\",\"2020-12-20T00:00:00\",\"2020-12-21T00:00:00\",\"2020-12-22T00:00:00\",\"2020-12-23T00:00:00\",\"2020-12-24T00:00:00\",\"2020-12-25T00:00:00\",\"2020-12-26T00:00:00\",\"2020-12-27T00:00:00\",\"2020-12-28T00:00:00\",\"2020-12-29T00:00:00\",\"2020-12-30T00:00:00\",\"2020-12-31T00:00:00\",\"2021-01-01T00:00:00\",\"2021-01-02T00:00:00\",\"2021-01-03T00:00:00\",\"2021-01-04T00:00:00\",\"2021-01-05T00:00:00\",\"2021-01-06T00:00:00\",\"2021-01-07T00:00:00\",\"2021-01-08T00:00:00\",\"2021-01-09T00:00:00\",\"2021-01-10T00:00:00\",\"2021-01-11T00:00:00\",\"2021-01-12T00:00:00\",\"2021-01-13T00:00:00\",\"2021-01-14T00:00:00\",\"2021-01-15T00:00:00\",\"2021-01-16T00:00:00\",\"2021-01-17T00:00:00\",\"2021-01-18T00:00:00\",\"2021-01-19T00:00:00\",\"2021-01-20T00:00:00\",\"2021-01-21T00:00:00\",\"2021-01-22T00:00:00\",\"2021-01-23T00:00:00\",\"2021-01-24T00:00:00\",\"2021-01-25T00:00:00\",\"2021-01-26T00:00:00\",\"2021-01-27T00:00:00\",\"2021-01-28T00:00:00\",\"2021-01-29T00:00:00\",\"2021-01-30T00:00:00\",\"2021-01-31T00:00:00\",\"2021-02-01T00:00:00\",\"2021-02-02T00:00:00\",\"2021-02-03T00:00:00\",\"2021-02-04T00:00:00\",\"2021-02-05T00:00:00\",\"2021-02-06T00:00:00\",\"2021-02-07T00:00:00\",\"2021-02-08T00:00:00\",\"2021-02-09T00:00:00\",\"2021-02-10T00:00:00\",\"2021-02-11T00:00:00\",\"2021-02-12T00:00:00\",\"2021-02-13T00:00:00\",\"2021-02-14T00:00:00\",\"2021-02-15T00:00:00\",\"2021-02-16T00:00:00\",\"2021-02-17T00:00:00\",\"2021-02-18T00:00:00\",\"2021-02-19T00:00:00\",\"2021-02-20T00:00:00\",\"2021-02-21T00:00:00\",\"2021-02-22T00:00:00\",\"2021-02-23T00:00:00\",\"2021-02-24T00:00:00\",\"2021-02-25T00:00:00\",\"2021-02-26T00:00:00\",\"2021-02-27T00:00:00\",\"2021-02-28T00:00:00\",\"2021-03-01T00:00:00\",\"2021-03-02T00:00:00\",\"2021-03-03T00:00:00\",\"2021-03-04T00:00:00\",\"2021-03-05T00:00:00\",\"2021-03-06T00:00:00\",\"2021-03-07T00:00:00\",\"2021-03-08T00:00:00\",\"2021-03-09T00:00:00\",\"2021-03-10T00:00:00\",\"2021-03-11T00:00:00\",\"2021-03-12T00:00:00\",\"2021-03-13T00:00:00\",\"2021-03-14T00:00:00\",\"2021-03-15T00:00:00\",\"2021-03-16T00:00:00\",\"2021-03-17T00:00:00\",\"2021-03-18T00:00:00\",\"2021-03-19T00:00:00\",\"2021-03-20T00:00:00\",\"2021-03-21T00:00:00\",\"2021-03-22T00:00:00\",\"2021-03-23T00:00:00\",\"2021-03-24T00:00:00\",\"2021-03-25T00:00:00\",\"2021-03-26T00:00:00\",\"2021-03-27T00:00:00\",\"2021-03-28T00:00:00\",\"2021-03-29T00:00:00\",\"2021-03-30T00:00:00\",\"2021-03-31T00:00:00\",\"2021-04-01T00:00:00\",\"2021-04-02T00:00:00\",\"2021-04-03T00:00:00\",\"2021-04-04T00:00:00\",\"2021-04-05T00:00:00\",\"2021-04-06T00:00:00\",\"2021-04-07T00:00:00\",\"2021-04-08T00:00:00\",\"2021-04-09T00:00:00\",\"2021-04-10T00:00:00\",\"2021-04-11T00:00:00\",\"2021-04-12T00:00:00\",\"2021-04-13T00:00:00\",\"2021-04-14T00:00:00\",\"2021-04-15T00:00:00\",\"2021-04-16T00:00:00\",\"2021-04-17T00:00:00\",\"2021-04-18T00:00:00\",\"2021-04-19T00:00:00\",\"2021-04-20T00:00:00\",\"2021-04-21T00:00:00\",\"2021-04-22T00:00:00\",\"2021-04-23T00:00:00\",\"2021-04-24T00:00:00\",\"2021-04-25T00:00:00\",\"2021-04-26T00:00:00\",\"2021-04-27T00:00:00\",\"2021-04-28T00:00:00\",\"2021-04-29T00:00:00\",\"2021-04-30T00:00:00\",\"2021-05-01T00:00:00\",\"2021-05-02T00:00:00\",\"2021-05-03T00:00:00\",\"2021-05-04T00:00:00\",\"2021-05-05T00:00:00\",\"2021-05-06T00:00:00\",\"2021-05-07T00:00:00\",\"2021-05-08T00:00:00\",\"2021-05-09T00:00:00\",\"2021-05-10T00:00:00\",\"2021-05-11T00:00:00\",\"2021-05-12T00:00:00\",\"2021-05-13T00:00:00\",\"2021-05-14T00:00:00\",\"2021-05-15T00:00:00\",\"2021-05-16T00:00:00\",\"2021-05-17T00:00:00\",\"2021-05-18T00:00:00\",\"2021-05-19T00:00:00\",\"2021-05-20T00:00:00\",\"2021-05-21T00:00:00\",\"2021-05-22T00:00:00\",\"2021-05-23T00:00:00\",\"2021-05-24T00:00:00\",\"2021-05-25T00:00:00\",\"2021-05-26T00:00:00\",\"2021-05-27T00:00:00\",\"2021-05-28T00:00:00\",\"2021-05-29T00:00:00\",\"2021-05-30T00:00:00\",\"2021-05-31T00:00:00\",\"2021-06-01T00:00:00\",\"2021-06-02T00:00:00\",\"2021-06-03T00:00:00\",\"2021-06-04T00:00:00\",\"2021-06-05T00:00:00\",\"2021-06-06T00:00:00\",\"2021-06-07T00:00:00\",\"2021-06-08T00:00:00\",\"2021-06-09T00:00:00\",\"2021-06-10T00:00:00\",\"2021-06-11T00:00:00\",\"2021-06-12T00:00:00\",\"2021-06-13T00:00:00\",\"2021-06-14T00:00:00\",\"2021-06-15T00:00:00\",\"2021-06-16T00:00:00\",\"2021-06-17T00:00:00\",\"2021-06-18T00:00:00\",\"2021-06-19T00:00:00\",\"2021-06-20T00:00:00\",\"2021-06-21T00:00:00\",\"2021-06-22T00:00:00\",\"2021-06-23T00:00:00\",\"2021-06-24T00:00:00\",\"2021-06-25T00:00:00\",\"2021-06-26T00:00:00\",\"2021-06-27T00:00:00\",\"2021-06-28T00:00:00\",\"2021-06-29T00:00:00\",\"2021-06-30T00:00:00\",\"2021-07-01T00:00:00\",\"2021-07-02T00:00:00\",\"2021-07-03T00:00:00\",\"2021-07-04T00:00:00\",\"2021-07-05T00:00:00\",\"2021-07-06T00:00:00\",\"2021-07-07T00:00:00\",\"2021-07-08T00:00:00\",\"2021-07-09T00:00:00\",\"2021-07-10T00:00:00\",\"2021-07-11T00:00:00\",\"2021-07-12T00:00:00\",\"2021-07-13T00:00:00\",\"2021-07-14T00:00:00\",\"2021-07-15T00:00:00\",\"2021-07-16T00:00:00\",\"2021-07-17T00:00:00\",\"2021-07-18T00:00:00\",\"2021-07-19T00:00:00\",\"2021-07-20T00:00:00\",\"2021-07-21T00:00:00\",\"2021-07-22T00:00:00\",\"2021-07-23T00:00:00\",\"2021-07-24T00:00:00\",\"2021-07-25T00:00:00\",\"2021-07-26T00:00:00\",\"2021-07-27T00:00:00\",\"2021-07-28T00:00:00\",\"2021-07-29T00:00:00\",\"2021-07-30T00:00:00\",\"2021-07-31T00:00:00\",\"2021-08-01T00:00:00\",\"2021-08-02T00:00:00\",\"2021-08-03T00:00:00\",\"2021-08-04T00:00:00\",\"2021-08-05T00:00:00\",\"2021-08-06T00:00:00\",\"2021-08-07T00:00:00\",\"2021-08-08T00:00:00\",\"2021-08-09T00:00:00\",\"2021-08-10T00:00:00\",\"2021-08-11T00:00:00\",\"2021-08-12T00:00:00\",\"2021-08-13T00:00:00\",\"2021-08-14T00:00:00\",\"2021-08-15T00:00:00\",\"2021-08-16T00:00:00\",\"2021-08-17T00:00:00\",\"2021-08-18T00:00:00\",\"2021-08-19T00:00:00\",\"2021-08-20T00:00:00\",\"2021-08-21T00:00:00\",\"2021-08-22T00:00:00\",\"2021-08-23T00:00:00\",\"2021-08-24T00:00:00\",\"2021-08-25T00:00:00\",\"2021-08-26T00:00:00\",\"2021-08-27T00:00:00\",\"2021-08-28T00:00:00\",\"2021-08-29T00:00:00\",\"2021-08-30T00:00:00\",\"2021-08-31T00:00:00\",\"2021-09-01T00:00:00\",\"2021-09-02T00:00:00\",\"2021-09-03T00:00:00\",\"2021-09-04T00:00:00\",\"2021-09-05T00:00:00\",\"2021-09-06T00:00:00\",\"2021-09-07T00:00:00\",\"2021-09-08T00:00:00\",\"2021-09-09T00:00:00\",\"2021-09-10T00:00:00\",\"2021-09-11T00:00:00\",\"2021-09-12T00:00:00\",\"2021-09-13T00:00:00\",\"2021-09-14T00:00:00\",\"2021-09-15T00:00:00\",\"2021-09-16T00:00:00\",\"2021-09-17T00:00:00\",\"2021-09-18T00:00:00\",\"2021-09-19T00:00:00\",\"2021-09-20T00:00:00\",\"2021-09-21T00:00:00\",\"2021-09-22T00:00:00\",\"2021-09-23T00:00:00\",\"2021-09-24T00:00:00\",\"2021-09-25T00:00:00\",\"2021-09-26T00:00:00\",\"2021-09-27T00:00:00\",\"2021-09-28T00:00:00\",\"2021-09-29T00:00:00\",\"2021-09-30T00:00:00\",\"2021-10-01T00:00:00\",\"2021-10-02T00:00:00\",\"2021-10-03T00:00:00\",\"2021-10-04T00:00:00\",\"2021-10-05T00:00:00\",\"2021-10-06T00:00:00\",\"2021-10-07T00:00:00\",\"2021-10-08T00:00:00\",\"2021-10-09T00:00:00\",\"2021-10-10T00:00:00\",\"2021-10-11T00:00:00\",\"2021-10-12T00:00:00\",\"2021-10-13T00:00:00\",\"2021-10-14T00:00:00\",\"2021-10-15T00:00:00\",\"2021-10-16T00:00:00\",\"2021-10-17T00:00:00\",\"2021-10-18T00:00:00\",\"2021-10-19T00:00:00\",\"2021-10-20T00:00:00\",\"2021-10-21T00:00:00\",\"2021-10-22T00:00:00\",\"2021-10-23T00:00:00\",\"2021-10-24T00:00:00\",\"2021-10-25T00:00:00\",\"2021-10-26T00:00:00\",\"2021-10-27T00:00:00\",\"2021-10-28T00:00:00\",\"2021-10-29T00:00:00\",\"2021-10-30T00:00:00\",\"2021-10-31T00:00:00\",\"2021-11-01T00:00:00\",\"2021-11-02T00:00:00\",\"2021-11-03T00:00:00\",\"2021-11-04T00:00:00\",\"2021-11-05T00:00:00\",\"2021-11-06T00:00:00\",\"2021-11-07T00:00:00\",\"2021-11-08T00:00:00\",\"2021-11-09T00:00:00\",\"2021-11-10T00:00:00\",\"2021-11-11T00:00:00\",\"2021-11-12T00:00:00\",\"2021-11-13T00:00:00\",\"2021-11-14T00:00:00\",\"2021-11-15T00:00:00\",\"2021-11-16T00:00:00\",\"2021-11-17T00:00:00\",\"2021-11-18T00:00:00\",\"2021-11-19T00:00:00\",\"2021-11-20T00:00:00\",\"2021-11-21T00:00:00\",\"2021-11-22T00:00:00\",\"2021-11-23T00:00:00\",\"2021-11-24T00:00:00\",\"2021-11-25T00:00:00\",\"2021-11-26T00:00:00\",\"2021-11-27T00:00:00\",\"2021-11-28T00:00:00\",\"2021-11-29T00:00:00\",\"2021-11-30T00:00:00\",\"2021-12-01T00:00:00\",\"2021-12-02T00:00:00\",\"2021-12-03T00:00:00\",\"2021-12-04T00:00:00\",\"2021-12-05T00:00:00\",\"2021-12-06T00:00:00\",\"2021-12-07T00:00:00\",\"2021-12-08T00:00:00\",\"2021-12-09T00:00:00\",\"2021-12-10T00:00:00\",\"2021-12-11T00:00:00\",\"2021-12-12T00:00:00\",\"2021-12-13T00:00:00\",\"2021-12-14T00:00:00\",\"2021-12-15T00:00:00\",\"2021-12-16T00:00:00\",\"2021-12-17T00:00:00\",\"2021-12-18T00:00:00\",\"2021-12-19T00:00:00\",\"2021-12-20T00:00:00\",\"2021-12-21T00:00:00\",\"2021-12-22T00:00:00\",\"2021-12-23T00:00:00\",\"2021-12-24T00:00:00\",\"2021-12-25T00:00:00\",\"2021-12-26T00:00:00\",\"2021-12-27T00:00:00\",\"2021-12-28T00:00:00\",\"2021-12-29T00:00:00\",\"2021-12-30T00:00:00\",\"2021-12-31T00:00:00\",\"2022-01-01T00:00:00\",\"2022-01-02T00:00:00\",\"2022-01-03T00:00:00\",\"2022-01-04T00:00:00\",\"2022-01-05T00:00:00\",\"2022-01-06T00:00:00\",\"2022-01-07T00:00:00\",\"2022-01-08T00:00:00\",\"2022-01-09T00:00:00\",\"2022-01-10T00:00:00\",\"2022-01-11T00:00:00\",\"2022-01-12T00:00:00\",\"2022-01-13T00:00:00\",\"2022-01-14T00:00:00\",\"2022-01-15T00:00:00\",\"2022-01-16T00:00:00\",\"2022-01-17T00:00:00\",\"2022-01-18T00:00:00\",\"2022-01-19T00:00:00\",\"2022-01-20T00:00:00\",\"2022-01-21T00:00:00\",\"2022-01-22T00:00:00\",\"2022-01-23T00:00:00\",\"2022-01-24T00:00:00\",\"2022-01-25T00:00:00\",\"2022-01-26T00:00:00\",\"2022-01-27T00:00:00\",\"2022-01-28T00:00:00\",\"2022-01-29T00:00:00\",\"2022-01-30T00:00:00\",\"2022-01-31T00:00:00\",\"2022-02-01T00:00:00\",\"2022-02-02T00:00:00\",\"2022-02-03T00:00:00\",\"2022-02-04T00:00:00\",\"2022-02-05T00:00:00\",\"2022-02-06T00:00:00\",\"2022-02-07T00:00:00\",\"2022-02-08T00:00:00\",\"2022-02-09T00:00:00\",\"2022-02-10T00:00:00\",\"2022-02-11T00:00:00\",\"2022-02-12T00:00:00\",\"2022-02-13T00:00:00\",\"2022-02-14T00:00:00\",\"2022-02-15T00:00:00\",\"2022-02-16T00:00:00\",\"2022-02-17T00:00:00\",\"2022-02-18T00:00:00\",\"2022-02-19T00:00:00\",\"2022-02-20T00:00:00\",\"2022-02-21T00:00:00\",\"2022-02-22T00:00:00\",\"2022-02-23T00:00:00\",\"2022-02-24T00:00:00\",\"2022-02-25T00:00:00\",\"2022-02-26T00:00:00\",\"2022-02-27T00:00:00\",\"2022-02-28T00:00:00\",\"2022-03-01T00:00:00\",\"2022-03-02T00:00:00\",\"2022-03-03T00:00:00\",\"2022-03-04T00:00:00\",\"2022-03-05T00:00:00\",\"2022-03-06T00:00:00\",\"2022-03-07T00:00:00\",\"2022-03-08T00:00:00\",\"2022-03-09T00:00:00\",\"2022-03-10T00:00:00\",\"2022-03-11T00:00:00\",\"2022-03-12T00:00:00\",\"2022-03-13T00:00:00\",\"2022-03-14T00:00:00\",\"2022-03-15T00:00:00\",\"2022-03-16T00:00:00\",\"2022-03-17T00:00:00\",\"2022-03-18T00:00:00\",\"2022-03-19T00:00:00\",\"2022-03-20T00:00:00\",\"2022-03-21T00:00:00\",\"2022-03-22T00:00:00\",\"2022-03-23T00:00:00\",\"2022-03-24T00:00:00\",\"2022-03-25T00:00:00\",\"2022-03-26T00:00:00\",\"2022-03-27T00:00:00\",\"2022-03-28T00:00:00\",\"2022-03-29T00:00:00\",\"2022-03-30T00:00:00\",\"2022-03-31T00:00:00\",\"2022-04-01T00:00:00\",\"2022-04-02T00:00:00\",\"2022-04-03T00:00:00\",\"2022-04-04T00:00:00\",\"2022-04-05T00:00:00\",\"2022-04-06T00:00:00\",\"2022-04-07T00:00:00\",\"2022-04-08T00:00:00\",\"2022-04-09T00:00:00\",\"2022-04-10T00:00:00\",\"2022-04-11T00:00:00\",\"2022-04-12T00:00:00\",\"2022-04-13T00:00:00\",\"2022-04-14T00:00:00\",\"2022-04-15T00:00:00\",\"2022-04-16T00:00:00\",\"2022-04-17T00:00:00\",\"2022-04-18T00:00:00\",\"2022-04-19T00:00:00\",\"2022-04-20T00:00:00\",\"2022-04-21T00:00:00\",\"2022-04-22T00:00:00\",\"2022-04-23T00:00:00\",\"2022-04-24T00:00:00\",\"2022-04-25T00:00:00\",\"2022-04-26T00:00:00\",\"2022-04-27T00:00:00\",\"2022-04-28T00:00:00\",\"2022-04-29T00:00:00\",\"2022-04-30T00:00:00\",\"2022-05-01T00:00:00\",\"2022-05-02T00:00:00\",\"2022-05-03T00:00:00\",\"2022-05-04T00:00:00\",\"2022-05-05T00:00:00\",\"2022-05-06T00:00:00\",\"2022-05-07T00:00:00\",\"2022-05-08T00:00:00\",\"2022-05-09T00:00:00\",\"2022-05-10T00:00:00\",\"2022-05-11T00:00:00\",\"2022-05-12T00:00:00\",\"2022-05-13T00:00:00\",\"2022-05-14T00:00:00\",\"2022-05-15T00:00:00\",\"2022-05-16T00:00:00\",\"2022-05-17T00:00:00\",\"2022-05-18T00:00:00\",\"2022-05-19T00:00:00\",\"2022-05-20T00:00:00\",\"2022-05-21T00:00:00\",\"2022-05-22T00:00:00\",\"2022-05-23T00:00:00\",\"2022-05-24T00:00:00\",\"2022-05-25T00:00:00\",\"2022-05-26T00:00:00\",\"2022-05-27T00:00:00\",\"2022-05-28T00:00:00\",\"2022-05-29T00:00:00\",\"2022-05-30T00:00:00\",\"2022-05-31T00:00:00\",\"2022-06-01T00:00:00\",\"2022-06-02T00:00:00\",\"2022-06-03T00:00:00\",\"2022-06-04T00:00:00\",\"2022-06-05T00:00:00\",\"2022-06-06T00:00:00\",\"2022-06-07T00:00:00\",\"2022-06-08T00:00:00\",\"2022-06-09T00:00:00\",\"2022-06-10T00:00:00\",\"2022-06-11T00:00:00\",\"2022-06-12T00:00:00\",\"2022-06-13T00:00:00\",\"2022-06-14T00:00:00\",\"2022-06-15T00:00:00\",\"2022-06-16T00:00:00\",\"2022-06-17T00:00:00\",\"2022-06-18T00:00:00\",\"2022-06-19T00:00:00\",\"2022-06-20T00:00:00\",\"2022-06-21T00:00:00\",\"2022-06-22T00:00:00\",\"2022-06-23T00:00:00\",\"2022-06-24T00:00:00\",\"2022-06-25T00:00:00\",\"2022-06-26T00:00:00\",\"2022-06-27T00:00:00\",\"2022-06-28T00:00:00\",\"2022-06-29T00:00:00\",\"2022-06-30T00:00:00\",\"2022-07-01T00:00:00\",\"2022-07-02T00:00:00\",\"2022-07-03T00:00:00\",\"2022-07-04T00:00:00\",\"2022-07-05T00:00:00\",\"2022-07-06T00:00:00\",\"2022-07-07T00:00:00\",\"2022-07-08T00:00:00\",\"2022-07-09T00:00:00\",\"2022-07-10T00:00:00\",\"2022-07-11T00:00:00\",\"2022-07-12T00:00:00\",\"2022-07-13T00:00:00\",\"2022-07-14T00:00:00\",\"2022-07-15T00:00:00\",\"2022-07-16T00:00:00\",\"2022-07-17T00:00:00\",\"2022-07-18T00:00:00\",\"2022-07-19T00:00:00\",\"2022-07-20T00:00:00\",\"2022-07-21T00:00:00\",\"2022-07-22T00:00:00\",\"2022-07-23T00:00:00\",\"2022-07-24T00:00:00\",\"2022-07-25T00:00:00\",\"2022-07-26T00:00:00\",\"2022-07-27T00:00:00\",\"2022-07-28T00:00:00\",\"2022-07-29T00:00:00\",\"2022-07-30T00:00:00\",\"2022-07-31T00:00:00\",\"2022-08-01T00:00:00\",\"2022-08-02T00:00:00\",\"2022-08-03T00:00:00\",\"2022-08-04T00:00:00\",\"2022-08-05T00:00:00\",\"2022-08-06T00:00:00\",\"2022-08-07T00:00:00\",\"2022-08-08T00:00:00\",\"2022-08-09T00:00:00\",\"2022-08-10T00:00:00\",\"2022-08-11T00:00:00\",\"2022-08-12T00:00:00\",\"2022-08-13T00:00:00\",\"2022-08-14T00:00:00\",\"2022-08-15T00:00:00\",\"2022-08-16T00:00:00\",\"2022-08-17T00:00:00\",\"2022-08-18T00:00:00\",\"2022-08-19T00:00:00\",\"2022-08-20T00:00:00\",\"2022-08-21T00:00:00\",\"2022-08-22T00:00:00\",\"2022-08-23T00:00:00\",\"2022-08-24T00:00:00\",\"2022-08-25T00:00:00\",\"2022-08-26T00:00:00\",\"2022-08-27T00:00:00\",\"2022-08-28T00:00:00\",\"2022-08-29T00:00:00\",\"2022-08-30T00:00:00\",\"2022-08-31T00:00:00\",\"2022-09-01T00:00:00\",\"2022-09-02T00:00:00\",\"2022-09-03T00:00:00\",\"2022-09-04T00:00:00\",\"2022-09-05T00:00:00\",\"2022-09-06T00:00:00\",\"2022-09-07T00:00:00\",\"2022-09-08T00:00:00\",\"2022-09-09T00:00:00\",\"2022-09-10T00:00:00\",\"2022-09-11T00:00:00\",\"2022-09-12T00:00:00\",\"2022-09-13T00:00:00\",\"2022-09-14T00:00:00\",\"2022-09-15T00:00:00\",\"2022-09-16T00:00:00\",\"2022-09-17T00:00:00\",\"2022-09-18T00:00:00\",\"2022-09-19T00:00:00\",\"2022-09-20T00:00:00\",\"2022-09-21T00:00:00\",\"2022-09-22T00:00:00\",\"2022-09-23T00:00:00\",\"2022-09-24T00:00:00\",\"2022-09-25T00:00:00\",\"2022-09-26T00:00:00\",\"2022-09-27T00:00:00\",\"2022-09-28T00:00:00\",\"2022-09-29T00:00:00\",\"2022-09-30T00:00:00\",\"2022-10-01T00:00:00\",\"2022-10-02T00:00:00\",\"2022-10-03T00:00:00\",\"2022-10-04T00:00:00\",\"2022-10-05T00:00:00\",\"2022-10-06T00:00:00\",\"2022-10-07T00:00:00\",\"2022-10-08T00:00:00\",\"2022-10-09T00:00:00\",\"2022-10-10T00:00:00\",\"2022-10-11T00:00:00\",\"2022-10-12T00:00:00\",\"2022-10-13T00:00:00\",\"2022-10-14T00:00:00\",\"2022-10-15T00:00:00\",\"2022-10-16T00:00:00\",\"2022-10-17T00:00:00\",\"2022-10-18T00:00:00\",\"2022-10-19T00:00:00\",\"2022-10-20T00:00:00\",\"2022-10-21T00:00:00\",\"2022-10-22T00:00:00\",\"2022-10-23T00:00:00\",\"2022-10-24T00:00:00\",\"2022-10-25T00:00:00\",\"2022-10-26T00:00:00\",\"2022-10-27T00:00:00\",\"2022-10-28T00:00:00\",\"2022-10-29T00:00:00\",\"2022-10-30T00:00:00\",\"2022-10-31T00:00:00\",\"2022-11-01T00:00:00\",\"2022-11-02T00:00:00\",\"2022-11-03T00:00:00\",\"2022-11-04T00:00:00\",\"2022-11-05T00:00:00\",\"2022-11-06T00:00:00\",\"2022-11-07T00:00:00\",\"2022-11-08T00:00:00\",\"2022-11-09T00:00:00\",\"2022-11-10T00:00:00\",\"2022-11-11T00:00:00\",\"2022-11-12T00:00:00\",\"2022-11-13T00:00:00\",\"2022-11-14T00:00:00\",\"2022-11-15T00:00:00\",\"2022-11-16T00:00:00\",\"2022-11-17T00:00:00\",\"2022-11-18T00:00:00\",\"2022-11-19T00:00:00\",\"2022-11-20T00:00:00\",\"2022-11-21T00:00:00\",\"2022-11-22T00:00:00\",\"2022-11-23T00:00:00\",\"2022-11-24T00:00:00\",\"2022-11-25T00:00:00\",\"2022-11-26T00:00:00\",\"2022-11-27T00:00:00\",\"2022-11-28T00:00:00\",\"2022-11-29T00:00:00\",\"2022-11-30T00:00:00\",\"2022-12-01T00:00:00\",\"2022-12-02T00:00:00\",\"2022-12-03T00:00:00\",\"2022-12-04T00:00:00\",\"2022-12-05T00:00:00\",\"2022-12-06T00:00:00\",\"2022-12-07T00:00:00\",\"2022-12-08T00:00:00\",\"2022-12-09T00:00:00\",\"2022-12-10T00:00:00\",\"2022-12-11T00:00:00\",\"2022-12-12T00:00:00\",\"2022-12-13T00:00:00\",\"2022-12-14T00:00:00\",\"2022-12-15T00:00:00\",\"2022-12-16T00:00:00\",\"2022-12-17T00:00:00\",\"2022-12-18T00:00:00\",\"2022-12-19T00:00:00\",\"2022-12-20T00:00:00\",\"2022-12-21T00:00:00\",\"2022-12-22T00:00:00\",\"2022-12-23T00:00:00\",\"2022-12-24T00:00:00\",\"2022-12-25T00:00:00\",\"2022-12-26T00:00:00\",\"2022-12-27T00:00:00\",\"2022-12-28T00:00:00\",\"2022-12-29T00:00:00\",\"2022-12-30T00:00:00\",\"2022-12-31T00:00:00\",\"2023-01-01T00:00:00\",\"2023-01-02T00:00:00\",\"2023-01-03T00:00:00\",\"2023-01-04T00:00:00\",\"2023-01-05T00:00:00\",\"2023-01-06T00:00:00\",\"2023-01-07T00:00:00\",\"2023-01-08T00:00:00\",\"2023-01-09T00:00:00\",\"2023-01-10T00:00:00\",\"2023-01-11T00:00:00\",\"2023-01-12T00:00:00\",\"2023-01-13T00:00:00\",\"2023-01-14T00:00:00\",\"2023-01-15T00:00:00\",\"2023-01-16T00:00:00\",\"2023-01-17T00:00:00\",\"2023-01-18T00:00:00\",\"2023-01-19T00:00:00\",\"2023-01-20T00:00:00\",\"2023-01-21T00:00:00\",\"2023-01-22T00:00:00\",\"2023-01-23T00:00:00\",\"2023-01-24T00:00:00\",\"2023-01-25T00:00:00\",\"2023-01-26T00:00:00\",\"2023-01-27T00:00:00\",\"2023-01-28T00:00:00\",\"2023-01-29T00:00:00\",\"2023-01-30T00:00:00\",\"2023-01-31T00:00:00\",\"2023-02-01T00:00:00\",\"2023-02-02T00:00:00\",\"2023-02-03T00:00:00\",\"2023-02-04T00:00:00\",\"2023-02-05T00:00:00\",\"2023-02-06T00:00:00\",\"2023-02-07T00:00:00\",\"2023-02-08T00:00:00\",\"2023-02-09T00:00:00\",\"2023-02-10T00:00:00\",\"2023-02-11T00:00:00\",\"2023-02-12T00:00:00\",\"2023-02-13T00:00:00\",\"2023-02-14T00:00:00\",\"2023-02-15T00:00:00\",\"2023-02-16T00:00:00\",\"2023-02-17T00:00:00\",\"2023-02-18T00:00:00\",\"2023-02-19T00:00:00\",\"2023-02-20T00:00:00\",\"2023-02-21T00:00:00\",\"2023-02-22T00:00:00\",\"2023-02-23T00:00:00\",\"2023-02-24T00:00:00\",\"2023-02-25T00:00:00\",\"2023-02-26T00:00:00\",\"2023-02-27T00:00:00\",\"2023-02-28T00:00:00\",\"2023-03-01T00:00:00\",\"2023-03-02T00:00:00\",\"2023-03-03T00:00:00\",\"2023-03-04T00:00:00\",\"2023-03-05T00:00:00\",\"2023-03-06T00:00:00\",\"2023-03-07T00:00:00\",\"2023-03-08T00:00:00\",\"2023-03-09T00:00:00\",\"2023-03-10T00:00:00\",\"2023-03-11T00:00:00\",\"2023-03-12T00:00:00\",\"2023-03-13T00:00:00\",\"2023-03-14T00:00:00\",\"2023-03-15T00:00:00\",\"2023-03-16T00:00:00\",\"2023-03-17T00:00:00\",\"2023-03-18T00:00:00\",\"2023-03-19T00:00:00\",\"2023-03-20T00:00:00\",\"2023-03-21T00:00:00\",\"2023-03-22T00:00:00\",\"2023-03-23T00:00:00\",\"2023-03-24T00:00:00\",\"2023-03-25T00:00:00\",\"2023-03-26T00:00:00\",\"2023-03-27T00:00:00\",\"2023-03-28T00:00:00\",\"2023-03-29T00:00:00\",\"2023-03-30T00:00:00\",\"2023-03-31T00:00:00\",\"2023-04-01T00:00:00\",\"2023-04-02T00:00:00\",\"2023-04-03T00:00:00\",\"2023-04-04T00:00:00\",\"2023-04-05T00:00:00\",\"2023-04-06T00:00:00\",\"2023-04-07T00:00:00\",\"2023-04-08T00:00:00\",\"2023-04-09T00:00:00\",\"2023-04-10T00:00:00\",\"2023-04-11T00:00:00\",\"2023-04-12T00:00:00\",\"2023-04-13T00:00:00\",\"2023-04-14T00:00:00\",\"2023-04-15T00:00:00\",\"2023-04-16T00:00:00\",\"2023-04-17T00:00:00\",\"2023-04-18T00:00:00\",\"2023-04-19T00:00:00\",\"2023-04-20T00:00:00\",\"2023-04-21T00:00:00\",\"2023-04-22T00:00:00\",\"2023-04-23T00:00:00\",\"2023-04-24T00:00:00\",\"2023-04-25T00:00:00\",\"2023-04-26T00:00:00\",\"2023-04-27T00:00:00\",\"2023-04-28T00:00:00\",\"2023-04-29T00:00:00\",\"2023-04-30T00:00:00\",\"2023-05-01T00:00:00\",\"2023-05-02T00:00:00\",\"2023-05-03T00:00:00\",\"2023-05-04T00:00:00\",\"2023-05-05T00:00:00\",\"2023-05-06T00:00:00\",\"2023-05-07T00:00:00\",\"2023-05-08T00:00:00\",\"2023-05-09T00:00:00\",\"2023-05-10T00:00:00\",\"2023-05-11T00:00:00\",\"2023-05-12T00:00:00\",\"2023-05-13T00:00:00\",\"2023-05-14T00:00:00\",\"2023-05-15T00:00:00\",\"2023-05-16T00:00:00\",\"2023-05-17T00:00:00\",\"2023-05-18T00:00:00\",\"2023-05-19T00:00:00\",\"2023-05-20T00:00:00\",\"2023-05-21T00:00:00\",\"2023-05-22T00:00:00\",\"2023-05-23T00:00:00\",\"2023-05-24T00:00:00\",\"2023-05-25T00:00:00\",\"2023-05-26T00:00:00\",\"2023-05-27T00:00:00\",\"2023-05-28T00:00:00\",\"2023-05-29T00:00:00\",\"2023-05-30T00:00:00\",\"2023-05-31T00:00:00\",\"2023-06-01T00:00:00\",\"2023-06-02T00:00:00\",\"2023-06-03T00:00:00\",\"2023-06-04T00:00:00\",\"2023-06-05T00:00:00\",\"2023-06-06T00:00:00\",\"2023-06-07T00:00:00\",\"2023-06-08T00:00:00\",\"2023-06-09T00:00:00\",\"2023-06-10T00:00:00\",\"2023-06-11T00:00:00\",\"2023-06-12T00:00:00\",\"2023-06-13T00:00:00\",\"2023-06-14T00:00:00\",\"2023-06-15T00:00:00\",\"2023-06-16T00:00:00\",\"2023-06-17T00:00:00\",\"2023-06-18T00:00:00\",\"2023-06-19T00:00:00\",\"2023-06-20T00:00:00\",\"2023-06-21T00:00:00\",\"2023-06-22T00:00:00\",\"2023-06-23T00:00:00\",\"2023-06-24T00:00:00\",\"2023-06-25T00:00:00\",\"2023-06-26T00:00:00\",\"2023-06-27T00:00:00\",\"2023-06-28T00:00:00\",\"2023-06-29T00:00:00\",\"2023-06-30T00:00:00\",\"2023-07-01T00:00:00\",\"2023-07-02T00:00:00\",\"2023-07-03T00:00:00\",\"2023-07-04T00:00:00\",\"2023-07-05T00:00:00\",\"2023-07-06T00:00:00\",\"2023-07-07T00:00:00\",\"2023-07-08T00:00:00\",\"2023-07-09T00:00:00\",\"2023-07-10T00:00:00\",\"2023-07-11T00:00:00\",\"2023-07-12T00:00:00\",\"2023-07-13T00:00:00\",\"2023-07-14T00:00:00\",\"2023-07-15T00:00:00\",\"2023-07-16T00:00:00\",\"2023-07-17T00:00:00\",\"2023-07-18T00:00:00\",\"2023-07-19T00:00:00\",\"2023-07-20T00:00:00\",\"2023-07-21T00:00:00\",\"2023-07-22T00:00:00\",\"2023-07-23T00:00:00\",\"2023-07-24T00:00:00\",\"2023-07-25T00:00:00\",\"2023-07-26T00:00:00\",\"2023-07-27T00:00:00\",\"2023-07-28T00:00:00\",\"2023-07-29T00:00:00\",\"2023-07-30T00:00:00\",\"2023-07-31T00:00:00\",\"2023-08-01T00:00:00\",\"2023-08-02T00:00:00\",\"2023-08-03T00:00:00\",\"2023-08-04T00:00:00\",\"2023-08-05T00:00:00\",\"2023-08-06T00:00:00\",\"2023-08-07T00:00:00\",\"2023-08-08T00:00:00\",\"2023-08-09T00:00:00\",\"2023-08-10T00:00:00\",\"2023-08-11T00:00:00\",\"2023-08-12T00:00:00\",\"2023-08-13T00:00:00\",\"2023-08-14T00:00:00\",\"2023-08-15T00:00:00\",\"2023-08-16T00:00:00\",\"2023-08-17T00:00:00\",\"2023-08-18T00:00:00\",\"2023-08-19T00:00:00\",\"2023-08-20T00:00:00\",\"2023-08-21T00:00:00\",\"2023-08-22T00:00:00\",\"2023-08-23T00:00:00\",\"2023-08-24T00:00:00\",\"2023-08-25T00:00:00\",\"2023-08-26T00:00:00\",\"2023-08-27T00:00:00\",\"2023-08-28T00:00:00\",\"2023-08-29T00:00:00\",\"2023-08-30T00:00:00\",\"2023-08-31T00:00:00\",\"2023-09-01T00:00:00\",\"2023-09-02T00:00:00\",\"2023-09-03T00:00:00\",\"2023-09-04T00:00:00\",\"2023-09-05T00:00:00\",\"2023-09-06T00:00:00\",\"2023-09-07T00:00:00\",\"2023-09-08T00:00:00\",\"2023-09-09T00:00:00\",\"2023-09-10T00:00:00\",\"2023-09-11T00:00:00\",\"2023-09-12T00:00:00\",\"2023-09-13T00:00:00\",\"2023-09-14T00:00:00\",\"2023-09-15T00:00:00\",\"2023-09-16T00:00:00\",\"2023-09-17T00:00:00\",\"2023-09-18T00:00:00\",\"2023-09-19T00:00:00\",\"2023-09-20T00:00:00\",\"2023-09-21T00:00:00\",\"2023-09-22T00:00:00\",\"2023-09-23T00:00:00\",\"2023-09-24T00:00:00\",\"2023-09-25T00:00:00\",\"2023-09-26T00:00:00\",\"2023-09-27T00:00:00\",\"2023-09-28T00:00:00\",\"2023-09-29T00:00:00\",\"2023-09-30T00:00:00\",\"2023-10-01T00:00:00\",\"2023-10-02T00:00:00\",\"2023-10-03T00:00:00\",\"2023-10-04T00:00:00\",\"2023-10-05T00:00:00\",\"2023-10-06T00:00:00\",\"2023-10-07T00:00:00\",\"2023-10-08T00:00:00\",\"2023-10-09T00:00:00\",\"2023-10-10T00:00:00\",\"2023-10-11T00:00:00\",\"2023-10-12T00:00:00\",\"2023-10-13T00:00:00\",\"2023-10-14T00:00:00\",\"2023-10-15T00:00:00\",\"2023-10-16T00:00:00\",\"2023-10-17T00:00:00\",\"2023-10-18T00:00:00\",\"2023-10-19T00:00:00\",\"2023-10-20T00:00:00\",\"2023-10-21T00:00:00\",\"2023-10-22T00:00:00\",\"2023-10-23T00:00:00\",\"2023-10-24T00:00:00\",\"2023-10-25T00:00:00\",\"2023-10-26T00:00:00\",\"2023-10-27T00:00:00\",\"2023-10-28T00:00:00\",\"2023-10-29T00:00:00\",\"2023-10-30T00:00:00\",\"2023-10-31T00:00:00\",\"2023-11-01T00:00:00\",\"2023-11-02T00:00:00\",\"2023-11-03T00:00:00\",\"2023-11-04T00:00:00\",\"2023-11-05T00:00:00\",\"2023-11-06T00:00:00\",\"2023-11-07T00:00:00\",\"2023-11-08T00:00:00\",\"2023-11-09T00:00:00\",\"2023-11-10T00:00:00\",\"2023-11-11T00:00:00\",\"2023-11-12T00:00:00\",\"2023-11-13T00:00:00\",\"2023-11-14T00:00:00\",\"2023-11-15T00:00:00\",\"2023-11-16T00:00:00\",\"2023-11-17T00:00:00\",\"2023-11-18T00:00:00\",\"2023-11-19T00:00:00\",\"2023-11-20T00:00:00\",\"2023-11-21T00:00:00\",\"2023-11-22T00:00:00\",\"2023-11-23T00:00:00\",\"2023-11-24T00:00:00\",\"2023-11-25T00:00:00\",\"2023-11-26T00:00:00\",\"2023-11-27T00:00:00\",\"2023-11-28T00:00:00\",\"2023-11-29T00:00:00\",\"2023-11-30T00:00:00\",\"2023-12-01T00:00:00\",\"2023-12-02T00:00:00\",\"2023-12-03T00:00:00\",\"2023-12-04T00:00:00\",\"2023-12-05T00:00:00\",\"2023-12-06T00:00:00\",\"2023-12-07T00:00:00\",\"2023-12-08T00:00:00\",\"2023-12-09T00:00:00\",\"2023-12-10T00:00:00\",\"2023-12-11T00:00:00\",\"2023-12-12T00:00:00\",\"2023-12-13T00:00:00\",\"2023-12-14T00:00:00\",\"2023-12-15T00:00:00\",\"2023-12-16T00:00:00\",\"2023-12-17T00:00:00\",\"2023-12-18T00:00:00\",\"2023-12-19T00:00:00\",\"2023-12-20T00:00:00\",\"2023-12-21T00:00:00\",\"2023-12-22T00:00:00\",\"2023-12-23T00:00:00\",\"2023-12-24T00:00:00\",\"2023-12-25T00:00:00\",\"2023-12-26T00:00:00\",\"2023-12-27T00:00:00\",\"2023-12-28T00:00:00\",\"2023-12-29T00:00:00\",\"2023-12-30T00:00:00\",\"2023-12-31T00:00:00\",\"2024-01-01T00:00:00\",\"2024-01-02T00:00:00\",\"2024-01-03T00:00:00\",\"2024-01-04T00:00:00\",\"2024-01-05T00:00:00\",\"2024-01-06T00:00:00\",\"2024-01-07T00:00:00\",\"2024-01-08T00:00:00\",\"2024-01-09T00:00:00\",\"2024-01-10T00:00:00\",\"2024-01-11T00:00:00\",\"2024-01-12T00:00:00\",\"2024-01-13T00:00:00\",\"2024-01-14T00:00:00\",\"2024-01-15T00:00:00\",\"2024-01-16T00:00:00\",\"2024-01-17T00:00:00\",\"2024-01-18T00:00:00\",\"2024-01-19T00:00:00\",\"2024-01-20T00:00:00\",\"2024-01-21T00:00:00\",\"2024-01-22T00:00:00\",\"2024-01-23T00:00:00\",\"2024-01-24T00:00:00\",\"2024-01-25T00:00:00\",\"2024-01-26T00:00:00\",\"2024-01-27T00:00:00\",\"2024-01-28T00:00:00\",\"2024-01-29T00:00:00\",\"2024-01-30T00:00:00\",\"2024-01-31T00:00:00\",\"2024-02-01T00:00:00\",\"2024-02-02T00:00:00\",\"2024-02-03T00:00:00\",\"2024-02-04T00:00:00\",\"2024-02-05T00:00:00\",\"2024-02-06T00:00:00\",\"2024-02-07T00:00:00\",\"2024-02-08T00:00:00\",\"2024-02-09T00:00:00\",\"2024-02-10T00:00:00\",\"2024-02-11T00:00:00\",\"2024-02-12T00:00:00\",\"2024-02-13T00:00:00\",\"2024-02-14T00:00:00\",\"2024-02-15T00:00:00\",\"2024-02-16T00:00:00\",\"2024-02-17T00:00:00\",\"2024-02-18T00:00:00\",\"2024-02-19T00:00:00\",\"2024-02-20T00:00:00\",\"2024-02-21T00:00:00\",\"2024-02-22T00:00:00\",\"2024-02-23T00:00:00\",\"2024-02-24T00:00:00\",\"2024-02-25T00:00:00\",\"2024-02-26T00:00:00\",\"2024-02-27T00:00:00\",\"2024-02-28T00:00:00\",\"2024-02-29T00:00:00\",\"2024-03-01T00:00:00\",\"2024-03-02T00:00:00\",\"2024-03-03T00:00:00\",\"2024-03-04T00:00:00\",\"2024-03-05T00:00:00\",\"2024-03-06T00:00:00\",\"2024-03-07T00:00:00\",\"2024-03-08T00:00:00\",\"2024-03-09T00:00:00\",\"2024-03-10T00:00:00\",\"2024-03-11T00:00:00\",\"2024-03-12T00:00:00\",\"2024-03-13T00:00:00\",\"2024-03-14T00:00:00\",\"2024-03-15T00:00:00\",\"2024-03-16T00:00:00\",\"2024-03-17T00:00:00\",\"2024-03-18T00:00:00\",\"2024-03-19T00:00:00\",\"2024-03-20T00:00:00\",\"2024-03-21T00:00:00\",\"2024-03-22T00:00:00\",\"2024-03-23T00:00:00\",\"2024-03-24T00:00:00\",\"2024-03-25T00:00:00\",\"2024-03-26T00:00:00\",\"2024-03-27T00:00:00\",\"2024-03-28T00:00:00\",\"2024-03-29T00:00:00\",\"2024-03-30T00:00:00\",\"2024-03-31T00:00:00\",\"2024-04-01T00:00:00\",\"2024-04-02T00:00:00\",\"2024-04-03T00:00:00\",\"2024-04-04T00:00:00\",\"2024-04-05T00:00:00\",\"2024-04-06T00:00:00\",\"2024-04-07T00:00:00\",\"2024-04-08T00:00:00\",\"2024-04-09T00:00:00\",\"2024-04-10T00:00:00\",\"2024-04-11T00:00:00\",\"2024-04-12T00:00:00\",\"2024-04-13T00:00:00\",\"2024-04-14T00:00:00\",\"2024-04-15T00:00:00\",\"2024-04-16T00:00:00\",\"2024-04-17T00:00:00\",\"2024-04-18T00:00:00\",\"2024-04-19T00:00:00\",\"2024-04-20T00:00:00\",\"2024-04-21T00:00:00\",\"2024-04-22T00:00:00\",\"2024-04-23T00:00:00\",\"2024-04-24T00:00:00\",\"2024-04-25T00:00:00\",\"2024-04-26T00:00:00\",\"2024-04-27T00:00:00\",\"2024-04-28T00:00:00\",\"2024-04-29T00:00:00\",\"2024-04-30T00:00:00\",\"2024-05-01T00:00:00\",\"2024-05-02T00:00:00\",\"2024-05-03T00:00:00\",\"2024-05-04T00:00:00\",\"2024-05-05T00:00:00\",\"2024-05-06T00:00:00\",\"2024-05-07T00:00:00\",\"2024-05-08T00:00:00\",\"2024-05-09T00:00:00\",\"2024-05-10T00:00:00\",\"2024-05-11T00:00:00\",\"2024-05-12T00:00:00\",\"2024-05-13T00:00:00\",\"2024-05-14T00:00:00\",\"2024-05-15T00:00:00\",\"2024-05-16T00:00:00\",\"2024-05-17T00:00:00\",\"2024-05-18T00:00:00\",\"2024-05-19T00:00:00\",\"2024-05-20T00:00:00\",\"2024-05-21T00:00:00\",\"2024-05-22T00:00:00\",\"2024-05-23T00:00:00\",\"2024-05-24T00:00:00\",\"2024-05-25T00:00:00\",\"2024-05-26T00:00:00\",\"2024-05-27T00:00:00\",\"2024-05-28T00:00:00\",\"2024-05-29T00:00:00\",\"2024-05-30T00:00:00\",\"2024-05-31T00:00:00\",\"2024-06-01T00:00:00\",\"2024-06-02T00:00:00\",\"2024-06-03T00:00:00\",\"2024-06-04T00:00:00\",\"2024-06-05T00:00:00\",\"2024-06-06T00:00:00\",\"2024-06-07T00:00:00\",\"2024-06-08T00:00:00\",\"2024-06-09T00:00:00\",\"2024-06-10T00:00:00\",\"2024-06-11T00:00:00\",\"2024-06-12T00:00:00\",\"2024-06-13T00:00:00\",\"2024-06-14T00:00:00\",\"2024-06-15T00:00:00\",\"2024-06-16T00:00:00\",\"2024-06-17T00:00:00\"],\"y\":[5,5,7,12,9,11,6,13,9,2,11,10,7,13,8,12,4,8,7,6,12,8,7,7,9,10,11,9,9,12,10,5,12,7,13,4,9,8,8,9,14,10,6,9,8,8,6,9,10,7,6,6,6,6,9,16,10,11,10,6,7,13,10,15,11,12,11,16,13,17,5,6,11,7,3,8,9,8,3,4,3,2,6,4,4,2,5,2,4,6,6,7,6,8,2,2,6,3,6,3,2,3,4,2,17,1,5,6,3,8,3,2,3,8,4,4,5,5,1,3,4,1,2,4,9,4,6,3,5,3,10,8,5,8,2,1,6,2,6,7,8,3,4,4,4,7,3,7,4,3,1,4,5,4,2,4,3,1,1,6,6,2,9,5,1,8,5,7,3,5,2,5,5,8,5,4,5,3,3,8,5,1,5,6,1,6,5,8,4,6,2,1,2,2,8,6,5,1,8,7,6,12,6,9,5,4,4,3,6,7,7,5,7,4,6,6,1,6,12,4,4,7,8,7,5,3,6,3,4,6,4,3,4,7,7,5,7,5,4,9,6,5,9,6,1,7,6,3,3,4,3,3,7,4,11,5,7,5,5,4,9,5,3,5,2,4,2,7,7,8,6,2,6,6,8,7,7,5,6,7,7,5,2,4,10,7,3,3,4,5,1,6,8,8,4,4,8,4,5,1,6,4,4,2,6,7,9,7,5,10,6,5,7,5,10,5,3,8,1,8,6,9,5,3,7,5,8,6,5,4,6,3,4,5,6,8,9,6,3,4,4,9,4,7,5,3,6,1,1,7,5,9,4,4,8,4,3,8,4,6,5,7,7,8,4,4,1,4,9,8,5,7,2,7,4,10,5,3,10,2,6,4,8,4,5,9,3,2,9,6,4,10,5,3,4,18,5,2,10,5,7,1,10,12,10,5,8,5,6,3,7,8,7,13,5,4,10,9,7,4,6,8,5,6,9,10,8,13,4,5,8,5,7,6,5,5,4,4,8,5,8,5,3,11,7,8,10,4,3,7,6,4,9,5,6,10,4,7,6,6,3,4,8,8,4,6,7,3,8,3,6,4,8,1,6,12,5,7,6,4,6,4,6,10,5,9,4,10,6,5,4,3,9,8,7,4,10,2,6,10,10,6,2,5,1,7,8,5,16,8,12,4,1,5,4,7,9,6,4,10,10,8,11,8,5,4,7,21,9,6,7,6,12,11,14,10,11,6,9,7,15,13,12,7,11,10,9,6,5,7,10,15,14,5,5,9,10,5,12,3,4,14,10,5,4,11,4,14,7,11,5,12,11,4,2,10,12,8,13,15,3,6,9,8,13,14,7,7,5,6,6,3,4,11,3,11,11,3,5,17,10,8,4,11,4,9,7,9,5,9,8,4,12,2,8,2,8,10,10,13,7,5,7,3,10,12,8,5,4,14,6,5,11,7,10,7,3,6,9,11,7,9,8,16,6,4,8,13,10,8,6,4,14,9,6,10,12,3,9,13,12,10,9,12,7,4,8,11,8,9,10,8,5,13,15,12,6,15,5,6,9,10,6,15,9,8,11,6,12,11,5,13,3,10,9,12,2,10,13,2,9,7,7,6,16,10,6,4,12,14,13,9,5,3,9,19,5,11,3,4,4,4,8,1,6,7,5,6,9,11,13,9,11,14,11,8,9,5,5,10,6,10,10,7,14,3,8,7,7,6,9,8,9,13,6,7,14,12,9,15,8,3,2,3,8,10,10,12,12,12,9,13,4,8,6,21,6,8,15,7,12,12,14,3,9,11,17,15,7,16,7,7,19,6,13,4,6,9,10,8,10,11,10,11,15,10,18,7,18,11,16,17,10,18,8,11,7,14,10,17,12,17,6,14,17,7,5,13,7,7,13,17,5,12,20,15,5,20,9,8,14,15,14,12,10,7,8,4,10,34,10,14,4,13,10,25,9,11,10,10,9,1,15,14,13,14,11,9,6,4,14,4,8,8,6,3,16,3,12,5,5,4,17,16,18,19,5,20,13,12,18,7,11,5,11,16,10,11,21,15,6,12,3,7,10,12,8,10,11,9,13,9,15,16,20,11,7,9,15,12,15,8,20,12,8,15,9,13,12,3,11,8,11,15,17,8,32,7,15,17,17,17,9,7,13,3,15,15,8,11,9,8,6,39,29,13,15,17,12,12,29,19,6,11,23,29,7,20,21,36,4,38,4,8,10,9,9,13,25,7,12,13,31,11,12,37,9,5,30,7,23,11,13,17,6,34,9,12,16,23,10,11,17,21,24,13,8,14,22,7,11,11,15,11,11,11,9,14,19,15,11,10,11,18,12,11,9,13,8,5,16,14,13,12,11,9,11,14,18,15,17,19,9,8,16,8,7,4,13,10,10,20,29,10,7,13,6,7,20,13,10,7,23,13,18,16,8,6,20,18,3,13,7,9,13,17,10,13,3,22,12,17,12,19,13,6,12,14,17,17,12,3,9,11,24,18,15,15,7,22,17,15,13,20,9,9,15,15,19,26,4,13,9,14,12,14,15,14,10,13,8,22,12,14,25,12,15,23,19,12,10,16,17,13,11,13,14,18,10,9,14,11,24,9,9,12,8,3,24,6,12,18,13,14,4,8,13,10,16,14,9,8,11,16,6,12,12,7,10,14,13,9,20,8,11,9,7,20,13,10,10,8,17,13,16,12,11,8,13,10,17,9,7,13,13,12,6,10,8,9,7,13,18,8,9,13,11,13,12,7,10,8,10,11,9,8,11,6,13,13,7,11,13,6,12,15,13,8,12,5,8,4,12,14,7,8,10,13,10,7,13,6,5,8,6,7,12,11,12,10,13,11,8,9,15,4,12,12,5,2,18,13,11,14,13,10,7,9,16,6,10,6,6,15,11,5,16,14,7,4,8,12,14,8,4,13,10,6,10,10,11,7,11,9,6,11,13,21,11,12,8,9,10,13,9,11,9,5,9,4,10,9,3,10,6,9,9,9,9,11,11,7,1,11,10,12,13,14,10,11,9,9,10,6,8,5,14,13,11,7,12,11,6,10,11,6,10,6,12,12,7,9,9,15,7,12,4,4,12,7,13,9,15,6,9,10,23,11,8,12,10,10,8,8,12,7,14,11,14,12,7,10,13,17,8,9,2,12,10,15,12,8,9,11,9,10,9,7,7,8,10,7,10,7,9,8,3,10,10,8,9,13,1,7,11,24,8,1,8,11,12,23,15,9,13,9,10,11,9,16,11,10,14,6,7,9,10,15,17,16,8,4,16,14,15,12,8,10,9,4,12,9,15,13,8,12,9,8,13,10,15,8,4,12,10,11,12,11,8,12,11,17,17,15,19,13,11,16,19,10,6,17,10,8,11,17,10,12,7,11,10,15,11,17,11,7,11,8,10,10,12,11,10,12,7,10,13,18,17,6,12,13,9,16,15,16,19,12,5,10,15,8,7,5,10,7,8,16,7,10,9,7,8,14,6,7,5,14,8,4,5,9,9,9,8,5,3,7,7,6,8,11,11,3,4,8,6,1,6,9,10,8,9,6,6,9,11,5,5,6,16,6,13,9,9,11,6,5,7,6,3,6,8,12,7,6,4,8,8,8,8,9,6,5,5,6,7,10,5,10,4,7,5,9,9,6,4,5,4,2,13,6,4,8,5,5,6,13,8,12,9,8,6,4,6,5,7,9,4,7],\"type\":\"scatter\"},{\"line\":{\"color\":\"tomato\"},\"mode\":\"lines\",\"name\":\"median forecast\",\"x\":[\"2024-06-18T00:00:00\",\"2024-06-19T00:00:00\",\"2024-06-20T00:00:00\",\"2024-06-21T00:00:00\",\"2024-06-22T00:00:00\",\"2024-06-23T00:00:00\",\"2024-06-24T00:00:00\",\"2024-06-25T00:00:00\",\"2024-06-26T00:00:00\",\"2024-06-27T00:00:00\",\"2024-06-28T00:00:00\",\"2024-06-29T00:00:00\",\"2024-06-30T00:00:00\",\"2024-07-01T00:00:00\",\"2024-07-02T00:00:00\",\"2024-07-03T00:00:00\",\"2024-07-04T00:00:00\",\"2024-07-05T00:00:00\",\"2024-07-06T00:00:00\",\"2024-07-07T00:00:00\",\"2024-07-08T00:00:00\",\"2024-07-09T00:00:00\",\"2024-07-10T00:00:00\",\"2024-07-11T00:00:00\",\"2024-07-12T00:00:00\",\"2024-07-13T00:00:00\",\"2024-07-14T00:00:00\",\"2024-07-15T00:00:00\",\"2024-07-16T00:00:00\",\"2024-07-17T00:00:00\",\"2024-07-18T00:00:00\",\"2024-07-19T00:00:00\",\"2024-07-20T00:00:00\",\"2024-07-21T00:00:00\",\"2024-07-22T00:00:00\",\"2024-07-23T00:00:00\",\"2024-07-24T00:00:00\",\"2024-07-25T00:00:00\",\"2024-07-26T00:00:00\",\"2024-07-27T00:00:00\",\"2024-07-28T00:00:00\",\"2024-07-29T00:00:00\",\"2024-07-30T00:00:00\",\"2024-07-31T00:00:00\",\"2024-08-01T00:00:00\",\"2024-08-02T00:00:00\",\"2024-08-03T00:00:00\",\"2024-08-04T00:00:00\",\"2024-08-05T00:00:00\",\"2024-08-06T00:00:00\",\"2024-08-07T00:00:00\",\"2024-08-08T00:00:00\",\"2024-08-09T00:00:00\",\"2024-08-10T00:00:00\",\"2024-08-11T00:00:00\",\"2024-08-12T00:00:00\",\"2024-08-13T00:00:00\",\"2024-08-14T00:00:00\",\"2024-08-15T00:00:00\",\"2024-08-16T00:00:00\",\"2024-08-17T00:00:00\",\"2024-08-18T00:00:00\",\"2024-08-19T00:00:00\",\"2024-08-20T00:00:00\"],\"y\":[6.015253067016602,6.015253067016602,6.492071628570557,6.968890190124512,6.015253067016602,6.015253067016602,7.995884895324707,6.015253067016602,6.015253067016602,5.501755714416504,6.015253067016602,6.015253067016602,6.015253067016602,6.015253067016602,6.968890190124512,4.511439561843872,5.501755714416504,6.015253067016602,6.015253067016602,6.015253067016602,6.015253067016602,6.015253067016602,6.015253067016602,6.015253067016602,6.015253067016602,6.27200174331665,4.988258361816406,5.501755714416504,6.015253067016602,6.015253067016602,6.015253067016602,6.015253067016602,6.015253067016602,5.501755714416504,5.02493691444397,6.015253067016602,7.482387542724609,5.501755714416504,6.015253067016602,5.501755714416504,5.758504390716553,6.015253067016602,6.015253067016602,6.015253067016602,6.015253067016602,6.015253067016602,6.492071628570557,6.7488203048706055,6.015253067016602,6.492071628570557,4.988258361816406,4.511439561843872,6.015253067016602,4.988258361816406,6.015253067016602,6.015253067016602,6.015253067016602,5.501755714416504,6.015253067016602,5.501755714416504,6.015253067016602,6.015253067016602,6.492071628570557,6.015253067016602],\"type\":\"scatter\"},{\"fill\":\"toself\",\"fillcolor\":\"rgba(255, 99, 71, 0.3)\",\"line\":{\"color\":\"rgba(255, 99, 71, 0)\"},\"name\":\"80% prediction interval\",\"x\":[\"2024-06-18T00:00:00.000000000\",\"2024-06-19T00:00:00.000000000\",\"2024-06-20T00:00:00.000000000\",\"2024-06-21T00:00:00.000000000\",\"2024-06-22T00:00:00.000000000\",\"2024-06-23T00:00:00.000000000\",\"2024-06-24T00:00:00.000000000\",\"2024-06-25T00:00:00.000000000\",\"2024-06-26T00:00:00.000000000\",\"2024-06-27T00:00:00.000000000\",\"2024-06-28T00:00:00.000000000\",\"2024-06-29T00:00:00.000000000\",\"2024-06-30T00:00:00.000000000\",\"2024-07-01T00:00:00.000000000\",\"2024-07-02T00:00:00.000000000\",\"2024-07-03T00:00:00.000000000\",\"2024-07-04T00:00:00.000000000\",\"2024-07-05T00:00:00.000000000\",\"2024-07-06T00:00:00.000000000\",\"2024-07-07T00:00:00.000000000\",\"2024-07-08T00:00:00.000000000\",\"2024-07-09T00:00:00.000000000\",\"2024-07-10T00:00:00.000000000\",\"2024-07-11T00:00:00.000000000\",\"2024-07-12T00:00:00.000000000\",\"2024-07-13T00:00:00.000000000\",\"2024-07-14T00:00:00.000000000\",\"2024-07-15T00:00:00.000000000\",\"2024-07-16T00:00:00.000000000\",\"2024-07-17T00:00:00.000000000\",\"2024-07-18T00:00:00.000000000\",\"2024-07-19T00:00:00.000000000\",\"2024-07-20T00:00:00.000000000\",\"2024-07-21T00:00:00.000000000\",\"2024-07-22T00:00:00.000000000\",\"2024-07-23T00:00:00.000000000\",\"2024-07-24T00:00:00.000000000\",\"2024-07-25T00:00:00.000000000\",\"2024-07-26T00:00:00.000000000\",\"2024-07-27T00:00:00.000000000\",\"2024-07-28T00:00:00.000000000\",\"2024-07-29T00:00:00.000000000\",\"2024-07-30T00:00:00.000000000\",\"2024-07-31T00:00:00.000000000\",\"2024-08-01T00:00:00.000000000\",\"2024-08-02T00:00:00.000000000\",\"2024-08-03T00:00:00.000000000\",\"2024-08-04T00:00:00.000000000\",\"2024-08-05T00:00:00.000000000\",\"2024-08-06T00:00:00.000000000\",\"2024-08-07T00:00:00.000000000\",\"2024-08-08T00:00:00.000000000\",\"2024-08-09T00:00:00.000000000\",\"2024-08-10T00:00:00.000000000\",\"2024-08-11T00:00:00.000000000\",\"2024-08-12T00:00:00.000000000\",\"2024-08-13T00:00:00.000000000\",\"2024-08-14T00:00:00.000000000\",\"2024-08-15T00:00:00.000000000\",\"2024-08-16T00:00:00.000000000\",\"2024-08-17T00:00:00.000000000\",\"2024-08-18T00:00:00.000000000\",\"2024-08-19T00:00:00.000000000\",\"2024-08-20T00:00:00.000000000\",\"2024-08-20T00:00:00.000000000\",\"2024-08-19T00:00:00.000000000\",\"2024-08-18T00:00:00.000000000\",\"2024-08-17T00:00:00.000000000\",\"2024-08-16T00:00:00.000000000\",\"2024-08-15T00:00:00.000000000\",\"2024-08-14T00:00:00.000000000\",\"2024-08-13T00:00:00.000000000\",\"2024-08-12T00:00:00.000000000\",\"2024-08-11T00:00:00.000000000\",\"2024-08-10T00:00:00.000000000\",\"2024-08-09T00:00:00.000000000\",\"2024-08-08T00:00:00.000000000\",\"2024-08-07T00:00:00.000000000\",\"2024-08-06T00:00:00.000000000\",\"2024-08-05T00:00:00.000000000\",\"2024-08-04T00:00:00.000000000\",\"2024-08-03T00:00:00.000000000\",\"2024-08-02T00:00:00.000000000\",\"2024-08-01T00:00:00.000000000\",\"2024-07-31T00:00:00.000000000\",\"2024-07-30T00:00:00.000000000\",\"2024-07-29T00:00:00.000000000\",\"2024-07-28T00:00:00.000000000\",\"2024-07-27T00:00:00.000000000\",\"2024-07-26T00:00:00.000000000\",\"2024-07-25T00:00:00.000000000\",\"2024-07-24T00:00:00.000000000\",\"2024-07-23T00:00:00.000000000\",\"2024-07-22T00:00:00.000000000\",\"2024-07-21T00:00:00.000000000\",\"2024-07-20T00:00:00.000000000\",\"2024-07-19T00:00:00.000000000\",\"2024-07-18T00:00:00.000000000\",\"2024-07-17T00:00:00.000000000\",\"2024-07-16T00:00:00.000000000\",\"2024-07-15T00:00:00.000000000\",\"2024-07-14T00:00:00.000000000\",\"2024-07-13T00:00:00.000000000\",\"2024-07-12T00:00:00.000000000\",\"2024-07-11T00:00:00.000000000\",\"2024-07-10T00:00:00.000000000\",\"2024-07-09T00:00:00.000000000\",\"2024-07-08T00:00:00.000000000\",\"2024-07-07T00:00:00.000000000\",\"2024-07-06T00:00:00.000000000\",\"2024-07-05T00:00:00.000000000\",\"2024-07-04T00:00:00.000000000\",\"2024-07-03T00:00:00.000000000\",\"2024-07-02T00:00:00.000000000\",\"2024-07-01T00:00:00.000000000\",\"2024-06-30T00:00:00.000000000\",\"2024-06-29T00:00:00.000000000\",\"2024-06-28T00:00:00.000000000\",\"2024-06-27T00:00:00.000000000\",\"2024-06-26T00:00:00.000000000\",\"2024-06-25T00:00:00.000000000\",\"2024-06-24T00:00:00.000000000\",\"2024-06-23T00:00:00.000000000\",\"2024-06-22T00:00:00.000000000\",\"2024-06-21T00:00:00.000000000\",\"2024-06-20T00:00:00.000000000\",\"2024-06-19T00:00:00.000000000\",\"2024-06-18T00:00:00.000000000\"],\"y\":[4.034620761871338,3.8292219161987306,1.8852684140205385,4.8928946018219,2.956276822090149,1.9806321859359741,4.988258361816406,2.9049270987510685,1.9806321859359741,3.007626533508301,4.8928946018219,2.9049270987510685,3.8292219161987306,1.9806321859359741,3.9319213390350343,1.9806321859359741,1.9806321859359741,2.9049270987510685,3.9319213390350343,4.988258361816406,4.034620761871338,2.9049270987510685,3.733858132362366,3.007626533508301,4.034620761871338,4.034620761871338,3.007626533508301,1.9806321859359741,3.102990210056305,2.9049270987510685,3.9319213390350343,3.4697739362716677,3.007626533508301,1.9806321859359741,3.9319213390350343,3.007626533508301,3.007626533508301,2.9049270987510685,3.007626533508301,2.9049270987510685,2.9049270987510685,2.9049270987510685,1.9806321859359741,3.007626533508301,2.9049270987510685,2.9049270987510685,2.9049270987510685,2.9049270987510685,4.034620761871338,3.9319213390350343,2.9049270987510685,2.8609130501747133,2.956276822090149,1.9806321859359741,1.8852684140205385,4.687495756149293,2.8095633268356326,1.9806321859359741,1.9806321859359741,1.9806321859359741,4.034620761871338,1.9806321859359741,2.8095633268356326,1.9806321859359741,9.976516723632812,11.106210899353028,9.118243312835695,9.022879600524902,9.118243312835695,9.022879600524902,12.030506134033203,10.181915664672854,9.022879600524902,8.098584365844728,10.181915664672854,11.003511428833008,10.079216194152833,8.29664754867554,9.118243312835695,10.079216194152833,12.125869750976564,11.106210899353028,11.003511428833008,8.098584365844728,9.022879600524902,8.2452977180481,9.118243312835695,9.220942783355715,9.323642253875736,9.022879600524902,11.20157451629639,14.964775085449219,10.079216194152833,10.079216194152833,9.118243312835695,10.079216194152833,11.30427398681641,9.169592952728273,9.118243312835695,10.379978752136235,11.003511428833008,9.976516723632812,9.169592952728273,9.220942783355715,9.976516723632812,9.323642253875736,9.220942783355715,12.030506134033203,8.098584365844728,9.976516723632812,10.079216194152833,9.976516723632812,8.95685863494873,11.106210899353028,8.656095695495608,11.106210899353028,9.881153297424317,9.118243312835695,7.636436748504641,12.228569221496585,9.976516723632812,10.079216194152833,10.181915664672854,10.937489318847662,9.118243312835695,12.030506134033203,9.976516723632812,9.118243312835695],\"type\":\"scatter\"}],                        {\"template\":{\"data\":{\"histogram2dcontour\":[{\"type\":\"histogram2dcontour\",\"colorbar\":{\"outlinewidth\":0,\"ticks\":\"\"},\"colorscale\":[[0.0,\"#0d0887\"],[0.1111111111111111,\"#46039f\"],[0.2222222222222222,\"#7201a8\"],[0.3333333333333333,\"#9c179e\"],[0.4444444444444444,\"#bd3786\"],[0.5555555555555556,\"#d8576b\"],[0.6666666666666666,\"#ed7953\"],[0.7777777777777778,\"#fb9f3a\"],[0.8888888888888888,\"#fdca26\"],[1.0,\"#f0f921\"]]}],\"choropleth\":[{\"type\":\"choropleth\",\"colorbar\":{\"outlinewidth\":0,\"ticks\":\"\"}}],\"histogram2d\":[{\"type\":\"histogram2d\",\"colorbar\":{\"outlinewidth\":0,\"ticks\":\"\"},\"colorscale\":[[0.0,\"#0d0887\"],[0.1111111111111111,\"#46039f\"],[0.2222222222222222,\"#7201a8\"],[0.3333333333333333,\"#9c179e\"],[0.4444444444444444,\"#bd3786\"],[0.5555555555555556,\"#d8576b\"],[0.6666666666666666,\"#ed7953\"],[0.7777777777777778,\"#fb9f3a\"],[0.8888888888888888,\"#fdca26\"],[1.0,\"#f0f921\"]]}],\"heatmap\":[{\"type\":\"heatmap\",\"colorbar\":{\"outlinewidth\":0,\"ticks\":\"\"},\"colorscale\":[[0.0,\"#0d0887\"],[0.1111111111111111,\"#46039f\"],[0.2222222222222222,\"#7201a8\"],[0.3333333333333333,\"#9c179e\"],[0.4444444444444444,\"#bd3786\"],[0.5555555555555556,\"#d8576b\"],[0.6666666666666666,\"#ed7953\"],[0.7777777777777778,\"#fb9f3a\"],[0.8888888888888888,\"#fdca26\"],[1.0,\"#f0f921\"]]}],\"heatmapgl\":[{\"type\":\"heatmapgl\",\"colorbar\":{\"outlinewidth\":0,\"ticks\":\"\"},\"colorscale\":[[0.0,\"#0d0887\"],[0.1111111111111111,\"#46039f\"],[0.2222222222222222,\"#7201a8\"],[0.3333333333333333,\"#9c179e\"],[0.4444444444444444,\"#bd3786\"],[0.5555555555555556,\"#d8576b\"],[0.6666666666666666,\"#ed7953\"],[0.7777777777777778,\"#fb9f3a\"],[0.8888888888888888,\"#fdca26\"],[1.0,\"#f0f921\"]]}],\"contourcarpet\":[{\"type\":\"contourcarpet\",\"colorbar\":{\"outlinewidth\":0,\"ticks\":\"\"}}],\"contour\":[{\"type\":\"contour\",\"colorbar\":{\"outlinewidth\":0,\"ticks\":\"\"},\"colorscale\":[[0.0,\"#0d0887\"],[0.1111111111111111,\"#46039f\"],[0.2222222222222222,\"#7201a8\"],[0.3333333333333333,\"#9c179e\"],[0.4444444444444444,\"#bd3786\"],[0.5555555555555556,\"#d8576b\"],[0.6666666666666666,\"#ed7953\"],[0.7777777777777778,\"#fb9f3a\"],[0.8888888888888888,\"#fdca26\"],[1.0,\"#f0f921\"]]}],\"surface\":[{\"type\":\"surface\",\"colorbar\":{\"outlinewidth\":0,\"ticks\":\"\"},\"colorscale\":[[0.0,\"#0d0887\"],[0.1111111111111111,\"#46039f\"],[0.2222222222222222,\"#7201a8\"],[0.3333333333333333,\"#9c179e\"],[0.4444444444444444,\"#bd3786\"],[0.5555555555555556,\"#d8576b\"],[0.6666666666666666,\"#ed7953\"],[0.7777777777777778,\"#fb9f3a\"],[0.8888888888888888,\"#fdca26\"],[1.0,\"#f0f921\"]]}],\"mesh3d\":[{\"type\":\"mesh3d\",\"colorbar\":{\"outlinewidth\":0,\"ticks\":\"\"}}],\"scatter\":[{\"fillpattern\":{\"fillmode\":\"overlay\",\"size\":10,\"solidity\":0.2},\"type\":\"scatter\"}],\"parcoords\":[{\"type\":\"parcoords\",\"line\":{\"colorbar\":{\"outlinewidth\":0,\"ticks\":\"\"}}}],\"scatterpolargl\":[{\"type\":\"scatterpolargl\",\"marker\":{\"colorbar\":{\"outlinewidth\":0,\"ticks\":\"\"}}}],\"bar\":[{\"error_x\":{\"color\":\"#2a3f5f\"},\"error_y\":{\"color\":\"#2a3f5f\"},\"marker\":{\"line\":{\"color\":\"#E5ECF6\",\"width\":0.5},\"pattern\":{\"fillmode\":\"overlay\",\"size\":10,\"solidity\":0.2}},\"type\":\"bar\"}],\"scattergeo\":[{\"type\":\"scattergeo\",\"marker\":{\"colorbar\":{\"outlinewidth\":0,\"ticks\":\"\"}}}],\"scatterpolar\":[{\"type\":\"scatterpolar\",\"marker\":{\"colorbar\":{\"outlinewidth\":0,\"ticks\":\"\"}}}],\"histogram\":[{\"marker\":{\"pattern\":{\"fillmode\":\"overlay\",\"size\":10,\"solidity\":0.2}},\"type\":\"histogram\"}],\"scattergl\":[{\"type\":\"scattergl\",\"marker\":{\"colorbar\":{\"outlinewidth\":0,\"ticks\":\"\"}}}],\"scatter3d\":[{\"type\":\"scatter3d\",\"line\":{\"colorbar\":{\"outlinewidth\":0,\"ticks\":\"\"}},\"marker\":{\"colorbar\":{\"outlinewidth\":0,\"ticks\":\"\"}}}],\"scattermapbox\":[{\"type\":\"scattermapbox\",\"marker\":{\"colorbar\":{\"outlinewidth\":0,\"ticks\":\"\"}}}],\"scatterternary\":[{\"type\":\"scatterternary\",\"marker\":{\"colorbar\":{\"outlinewidth\":0,\"ticks\":\"\"}}}],\"scattercarpet\":[{\"type\":\"scattercarpet\",\"marker\":{\"colorbar\":{\"outlinewidth\":0,\"ticks\":\"\"}}}],\"carpet\":[{\"aaxis\":{\"endlinecolor\":\"#2a3f5f\",\"gridcolor\":\"white\",\"linecolor\":\"white\",\"minorgridcolor\":\"white\",\"startlinecolor\":\"#2a3f5f\"},\"baxis\":{\"endlinecolor\":\"#2a3f5f\",\"gridcolor\":\"white\",\"linecolor\":\"white\",\"minorgridcolor\":\"white\",\"startlinecolor\":\"#2a3f5f\"},\"type\":\"carpet\"}],\"table\":[{\"cells\":{\"fill\":{\"color\":\"#EBF0F8\"},\"line\":{\"color\":\"white\"}},\"header\":{\"fill\":{\"color\":\"#C8D4E3\"},\"line\":{\"color\":\"white\"}},\"type\":\"table\"}],\"barpolar\":[{\"marker\":{\"line\":{\"color\":\"#E5ECF6\",\"width\":0.5},\"pattern\":{\"fillmode\":\"overlay\",\"size\":10,\"solidity\":0.2}},\"type\":\"barpolar\"}],\"pie\":[{\"automargin\":true,\"type\":\"pie\"}]},\"layout\":{\"autotypenumbers\":\"strict\",\"colorway\":[\"#636efa\",\"#EF553B\",\"#00cc96\",\"#ab63fa\",\"#FFA15A\",\"#19d3f3\",\"#FF6692\",\"#B6E880\",\"#FF97FF\",\"#FECB52\"],\"font\":{\"color\":\"#2a3f5f\"},\"hovermode\":\"closest\",\"hoverlabel\":{\"align\":\"left\"},\"paper_bgcolor\":\"white\",\"plot_bgcolor\":\"#E5ECF6\",\"polar\":{\"bgcolor\":\"#E5ECF6\",\"angularaxis\":{\"gridcolor\":\"white\",\"linecolor\":\"white\",\"ticks\":\"\"},\"radialaxis\":{\"gridcolor\":\"white\",\"linecolor\":\"white\",\"ticks\":\"\"}},\"ternary\":{\"bgcolor\":\"#E5ECF6\",\"aaxis\":{\"gridcolor\":\"white\",\"linecolor\":\"white\",\"ticks\":\"\"},\"baxis\":{\"gridcolor\":\"white\",\"linecolor\":\"white\",\"ticks\":\"\"},\"caxis\":{\"gridcolor\":\"white\",\"linecolor\":\"white\",\"ticks\":\"\"}},\"coloraxis\":{\"colorbar\":{\"outlinewidth\":0,\"ticks\":\"\"}},\"colorscale\":{\"sequential\":[[0.0,\"#0d0887\"],[0.1111111111111111,\"#46039f\"],[0.2222222222222222,\"#7201a8\"],[0.3333333333333333,\"#9c179e\"],[0.4444444444444444,\"#bd3786\"],[0.5555555555555556,\"#d8576b\"],[0.6666666666666666,\"#ed7953\"],[0.7777777777777778,\"#fb9f3a\"],[0.8888888888888888,\"#fdca26\"],[1.0,\"#f0f921\"]],\"sequentialminus\":[[0.0,\"#0d0887\"],[0.1111111111111111,\"#46039f\"],[0.2222222222222222,\"#7201a8\"],[0.3333333333333333,\"#9c179e\"],[0.4444444444444444,\"#bd3786\"],[0.5555555555555556,\"#d8576b\"],[0.6666666666666666,\"#ed7953\"],[0.7777777777777778,\"#fb9f3a\"],[0.8888888888888888,\"#fdca26\"],[1.0,\"#f0f921\"]],\"diverging\":[[0,\"#8e0152\"],[0.1,\"#c51b7d\"],[0.2,\"#de77ae\"],[0.3,\"#f1b6da\"],[0.4,\"#fde0ef\"],[0.5,\"#f7f7f7\"],[0.6,\"#e6f5d0\"],[0.7,\"#b8e186\"],[0.8,\"#7fbc41\"],[0.9,\"#4d9221\"],[1,\"#276419\"]]},\"xaxis\":{\"gridcolor\":\"white\",\"linecolor\":\"white\",\"ticks\":\"\",\"title\":{\"standoff\":15},\"zerolinecolor\":\"white\",\"automargin\":true,\"zerolinewidth\":2},\"yaxis\":{\"gridcolor\":\"white\",\"linecolor\":\"white\",\"ticks\":\"\",\"title\":{\"standoff\":15},\"zerolinecolor\":\"white\",\"automargin\":true,\"zerolinewidth\":2},\"scene\":{\"xaxis\":{\"backgroundcolor\":\"#E5ECF6\",\"gridcolor\":\"white\",\"linecolor\":\"white\",\"showbackground\":true,\"ticks\":\"\",\"zerolinecolor\":\"white\",\"gridwidth\":2},\"yaxis\":{\"backgroundcolor\":\"#E5ECF6\",\"gridcolor\":\"white\",\"linecolor\":\"white\",\"showbackground\":true,\"ticks\":\"\",\"zerolinecolor\":\"white\",\"gridwidth\":2},\"zaxis\":{\"backgroundcolor\":\"#E5ECF6\",\"gridcolor\":\"white\",\"linecolor\":\"white\",\"showbackground\":true,\"ticks\":\"\",\"zerolinecolor\":\"white\",\"gridwidth\":2}},\"shapedefaults\":{\"line\":{\"color\":\"#2a3f5f\"}},\"annotationdefaults\":{\"arrowcolor\":\"#2a3f5f\",\"arrowhead\":0,\"arrowwidth\":1},\"geo\":{\"bgcolor\":\"white\",\"landcolor\":\"#E5ECF6\",\"subunitcolor\":\"white\",\"showland\":true,\"showlakes\":true,\"lakecolor\":\"white\"},\"title\":{\"x\":0.05},\"mapbox\":{\"style\":\"light\"}}},\"legend\":{\"x\":0,\"y\":1},\"title\":{\"text\":\"Predicci\\u00f3n de cr\\u00edmenes en el \\u00e1rea \\\"Central\\\"\"},\"xaxis\":{\"title\":{\"text\":\"Fecha\"}},\"yaxis\":{\"title\":{\"text\":\"N\\u00famero de cr\\u00edmenes\"}}},                        {\"responsive\": true}                    ).then(function(){\n",
              "                            \n",
              "var gd = document.getElementById('2c07981e-8f50-40fa-94eb-ea77a06b70af');\n",
              "var x = new MutationObserver(function (mutations, observer) {{\n",
              "        var display = window.getComputedStyle(gd).display;\n",
              "        if (!display || display === 'none') {{\n",
              "            console.log([gd, 'removed!']);\n",
              "            Plotly.purge(gd);\n",
              "            observer.disconnect();\n",
              "        }}\n",
              "}});\n",
              "\n",
              "// Listen for the removal of the full notebook cells\n",
              "var notebookContainer = gd.closest('#notebook-container');\n",
              "if (notebookContainer) {{\n",
              "    x.observe(notebookContainer, {childList: true});\n",
              "}}\n",
              "\n",
              "// Listen for the clearing of the current output cell\n",
              "var outputEl = gd.closest('.output');\n",
              "if (outputEl) {{\n",
              "    x.observe(outputEl, {childList: true});\n",
              "}}\n",
              "\n",
              "                        })                };                            </script>        </div>\n",
              "</body>\n",
              "</html>"
            ]
          },
          "metadata": {}
        }
      ],
      "source": [
        "dates = pd.date_range(start='2020-01-01', periods=len(llm_pred), freq='D')\n",
        "\n",
        "fig = go.Figure()\n",
        "\n",
        "fig.add_trace(go.Scatter(x=dates, y=llm_pred[\"número_crimenes\"], mode='lines', name='historical data', line=dict(color='royalblue')))\n",
        "\n",
        "forecast_index = pd.date_range(start=dates[-1] + pd.Timedelta(days=1), periods=prediction_length, freq='D')  # Las fechas futuras\n",
        "fig.add_trace(go.Scatter(x=forecast_index, y=median, mode='lines', name='median forecast', line=dict(color='tomato')))\n",
        "\n",
        "fig.add_traces(go.Scatter(\n",
        "    x=np.concatenate([forecast_index, forecast_index[::-1]]),\n",
        "    y=np.concatenate([low, high[::-1]]),\n",
        "    fill='toself',\n",
        "    fillcolor='rgba(255, 99, 71, 0.3)',\n",
        "    line=dict(color='rgba(255, 99, 71, 0)'),\n",
        "    name='80% prediction interval'\n",
        "))\n",
        "\n",
        "fig.update_layout(title='Predicción de crímenes en el área \"Central\"',\n",
        "                  xaxis_title='Fecha',\n",
        "                  yaxis_title='Número de crímenes',\n",
        "                  legend=dict(x=0, y=1))\n",
        "\n",
        "fig.show()"
      ]
    },
    {
      "cell_type": "markdown",
      "metadata": {
        "id": "qMxjhZpzY9Ke"
      },
      "source": []
    }
  ],
  "metadata": {
    "kernelspec": {
      "display_name": "env",
      "language": "python",
      "name": "python3"
    },
    "language_info": {
      "codemirror_mode": {
        "name": "ipython",
        "version": 3
      },
      "file_extension": ".py",
      "mimetype": "text/x-python",
      "name": "python",
      "nbconvert_exporter": "python",
      "pygments_lexer": "ipython3",
      "version": "3.8.10"
    },
    "colab": {
      "provenance": [],
      "include_colab_link": true
    },
    "widgets": {
      "application/vnd.jupyter.widget-state+json": {
        "db62246b83be4008a6baf2efa5212e39": {
          "model_module": "@jupyter-widgets/controls",
          "model_name": "HBoxModel",
          "model_module_version": "1.5.0",
          "state": {
            "_dom_classes": [],
            "_model_module": "@jupyter-widgets/controls",
            "_model_module_version": "1.5.0",
            "_model_name": "HBoxModel",
            "_view_count": null,
            "_view_module": "@jupyter-widgets/controls",
            "_view_module_version": "1.5.0",
            "_view_name": "HBoxView",
            "box_style": "",
            "children": [
              "IPY_MODEL_6223a800570d4e3785ed63dd617500b9",
              "IPY_MODEL_fc5eae686e604c11b8f3a5e74af18f76",
              "IPY_MODEL_79a207741830493abd31f588b5433f0f"
            ],
            "layout": "IPY_MODEL_87fb3fa723664e5cbcaf080341860a05"
          }
        },
        "6223a800570d4e3785ed63dd617500b9": {
          "model_module": "@jupyter-widgets/controls",
          "model_name": "HTMLModel",
          "model_module_version": "1.5.0",
          "state": {
            "_dom_classes": [],
            "_model_module": "@jupyter-widgets/controls",
            "_model_module_version": "1.5.0",
            "_model_name": "HTMLModel",
            "_view_count": null,
            "_view_module": "@jupyter-widgets/controls",
            "_view_module_version": "1.5.0",
            "_view_name": "HTMLView",
            "description": "",
            "description_tooltip": null,
            "layout": "IPY_MODEL_b92391cd35a24203b375dbe9d2c16413",
            "placeholder": "​",
            "style": "IPY_MODEL_6f0b632bdba54a2fb5d8ad29d82375e3",
            "value": "config.json: 100%"
          }
        },
        "fc5eae686e604c11b8f3a5e74af18f76": {
          "model_module": "@jupyter-widgets/controls",
          "model_name": "FloatProgressModel",
          "model_module_version": "1.5.0",
          "state": {
            "_dom_classes": [],
            "_model_module": "@jupyter-widgets/controls",
            "_model_module_version": "1.5.0",
            "_model_name": "FloatProgressModel",
            "_view_count": null,
            "_view_module": "@jupyter-widgets/controls",
            "_view_module_version": "1.5.0",
            "_view_name": "ProgressView",
            "bar_style": "success",
            "description": "",
            "description_tooltip": null,
            "layout": "IPY_MODEL_ff2f810b43f4444e9e56c83d1c35e248",
            "max": 1142,
            "min": 0,
            "orientation": "horizontal",
            "style": "IPY_MODEL_11cd67c6882741c1a5888811e4eec799",
            "value": 1142
          }
        },
        "79a207741830493abd31f588b5433f0f": {
          "model_module": "@jupyter-widgets/controls",
          "model_name": "HTMLModel",
          "model_module_version": "1.5.0",
          "state": {
            "_dom_classes": [],
            "_model_module": "@jupyter-widgets/controls",
            "_model_module_version": "1.5.0",
            "_model_name": "HTMLModel",
            "_view_count": null,
            "_view_module": "@jupyter-widgets/controls",
            "_view_module_version": "1.5.0",
            "_view_name": "HTMLView",
            "description": "",
            "description_tooltip": null,
            "layout": "IPY_MODEL_3db9008b8f314c0a9592c553ddebf396",
            "placeholder": "​",
            "style": "IPY_MODEL_445b5a1e9a2543afb1efec8a7b59f7c9",
            "value": " 1.14k/1.14k [00:00&lt;00:00, 46.6kB/s]"
          }
        },
        "87fb3fa723664e5cbcaf080341860a05": {
          "model_module": "@jupyter-widgets/base",
          "model_name": "LayoutModel",
          "model_module_version": "1.2.0",
          "state": {
            "_model_module": "@jupyter-widgets/base",
            "_model_module_version": "1.2.0",
            "_model_name": "LayoutModel",
            "_view_count": null,
            "_view_module": "@jupyter-widgets/base",
            "_view_module_version": "1.2.0",
            "_view_name": "LayoutView",
            "align_content": null,
            "align_items": null,
            "align_self": null,
            "border": null,
            "bottom": null,
            "display": null,
            "flex": null,
            "flex_flow": null,
            "grid_area": null,
            "grid_auto_columns": null,
            "grid_auto_flow": null,
            "grid_auto_rows": null,
            "grid_column": null,
            "grid_gap": null,
            "grid_row": null,
            "grid_template_areas": null,
            "grid_template_columns": null,
            "grid_template_rows": null,
            "height": null,
            "justify_content": null,
            "justify_items": null,
            "left": null,
            "margin": null,
            "max_height": null,
            "max_width": null,
            "min_height": null,
            "min_width": null,
            "object_fit": null,
            "object_position": null,
            "order": null,
            "overflow": null,
            "overflow_x": null,
            "overflow_y": null,
            "padding": null,
            "right": null,
            "top": null,
            "visibility": null,
            "width": null
          }
        },
        "b92391cd35a24203b375dbe9d2c16413": {
          "model_module": "@jupyter-widgets/base",
          "model_name": "LayoutModel",
          "model_module_version": "1.2.0",
          "state": {
            "_model_module": "@jupyter-widgets/base",
            "_model_module_version": "1.2.0",
            "_model_name": "LayoutModel",
            "_view_count": null,
            "_view_module": "@jupyter-widgets/base",
            "_view_module_version": "1.2.0",
            "_view_name": "LayoutView",
            "align_content": null,
            "align_items": null,
            "align_self": null,
            "border": null,
            "bottom": null,
            "display": null,
            "flex": null,
            "flex_flow": null,
            "grid_area": null,
            "grid_auto_columns": null,
            "grid_auto_flow": null,
            "grid_auto_rows": null,
            "grid_column": null,
            "grid_gap": null,
            "grid_row": null,
            "grid_template_areas": null,
            "grid_template_columns": null,
            "grid_template_rows": null,
            "height": null,
            "justify_content": null,
            "justify_items": null,
            "left": null,
            "margin": null,
            "max_height": null,
            "max_width": null,
            "min_height": null,
            "min_width": null,
            "object_fit": null,
            "object_position": null,
            "order": null,
            "overflow": null,
            "overflow_x": null,
            "overflow_y": null,
            "padding": null,
            "right": null,
            "top": null,
            "visibility": null,
            "width": null
          }
        },
        "6f0b632bdba54a2fb5d8ad29d82375e3": {
          "model_module": "@jupyter-widgets/controls",
          "model_name": "DescriptionStyleModel",
          "model_module_version": "1.5.0",
          "state": {
            "_model_module": "@jupyter-widgets/controls",
            "_model_module_version": "1.5.0",
            "_model_name": "DescriptionStyleModel",
            "_view_count": null,
            "_view_module": "@jupyter-widgets/base",
            "_view_module_version": "1.2.0",
            "_view_name": "StyleView",
            "description_width": ""
          }
        },
        "ff2f810b43f4444e9e56c83d1c35e248": {
          "model_module": "@jupyter-widgets/base",
          "model_name": "LayoutModel",
          "model_module_version": "1.2.0",
          "state": {
            "_model_module": "@jupyter-widgets/base",
            "_model_module_version": "1.2.0",
            "_model_name": "LayoutModel",
            "_view_count": null,
            "_view_module": "@jupyter-widgets/base",
            "_view_module_version": "1.2.0",
            "_view_name": "LayoutView",
            "align_content": null,
            "align_items": null,
            "align_self": null,
            "border": null,
            "bottom": null,
            "display": null,
            "flex": null,
            "flex_flow": null,
            "grid_area": null,
            "grid_auto_columns": null,
            "grid_auto_flow": null,
            "grid_auto_rows": null,
            "grid_column": null,
            "grid_gap": null,
            "grid_row": null,
            "grid_template_areas": null,
            "grid_template_columns": null,
            "grid_template_rows": null,
            "height": null,
            "justify_content": null,
            "justify_items": null,
            "left": null,
            "margin": null,
            "max_height": null,
            "max_width": null,
            "min_height": null,
            "min_width": null,
            "object_fit": null,
            "object_position": null,
            "order": null,
            "overflow": null,
            "overflow_x": null,
            "overflow_y": null,
            "padding": null,
            "right": null,
            "top": null,
            "visibility": null,
            "width": null
          }
        },
        "11cd67c6882741c1a5888811e4eec799": {
          "model_module": "@jupyter-widgets/controls",
          "model_name": "ProgressStyleModel",
          "model_module_version": "1.5.0",
          "state": {
            "_model_module": "@jupyter-widgets/controls",
            "_model_module_version": "1.5.0",
            "_model_name": "ProgressStyleModel",
            "_view_count": null,
            "_view_module": "@jupyter-widgets/base",
            "_view_module_version": "1.2.0",
            "_view_name": "StyleView",
            "bar_color": null,
            "description_width": ""
          }
        },
        "3db9008b8f314c0a9592c553ddebf396": {
          "model_module": "@jupyter-widgets/base",
          "model_name": "LayoutModel",
          "model_module_version": "1.2.0",
          "state": {
            "_model_module": "@jupyter-widgets/base",
            "_model_module_version": "1.2.0",
            "_model_name": "LayoutModel",
            "_view_count": null,
            "_view_module": "@jupyter-widgets/base",
            "_view_module_version": "1.2.0",
            "_view_name": "LayoutView",
            "align_content": null,
            "align_items": null,
            "align_self": null,
            "border": null,
            "bottom": null,
            "display": null,
            "flex": null,
            "flex_flow": null,
            "grid_area": null,
            "grid_auto_columns": null,
            "grid_auto_flow": null,
            "grid_auto_rows": null,
            "grid_column": null,
            "grid_gap": null,
            "grid_row": null,
            "grid_template_areas": null,
            "grid_template_columns": null,
            "grid_template_rows": null,
            "height": null,
            "justify_content": null,
            "justify_items": null,
            "left": null,
            "margin": null,
            "max_height": null,
            "max_width": null,
            "min_height": null,
            "min_width": null,
            "object_fit": null,
            "object_position": null,
            "order": null,
            "overflow": null,
            "overflow_x": null,
            "overflow_y": null,
            "padding": null,
            "right": null,
            "top": null,
            "visibility": null,
            "width": null
          }
        },
        "445b5a1e9a2543afb1efec8a7b59f7c9": {
          "model_module": "@jupyter-widgets/controls",
          "model_name": "DescriptionStyleModel",
          "model_module_version": "1.5.0",
          "state": {
            "_model_module": "@jupyter-widgets/controls",
            "_model_module_version": "1.5.0",
            "_model_name": "DescriptionStyleModel",
            "_view_count": null,
            "_view_module": "@jupyter-widgets/base",
            "_view_module_version": "1.2.0",
            "_view_name": "StyleView",
            "description_width": ""
          }
        },
        "b68e160dbf4444fd8ef1e76d2dbf961b": {
          "model_module": "@jupyter-widgets/controls",
          "model_name": "HBoxModel",
          "model_module_version": "1.5.0",
          "state": {
            "_dom_classes": [],
            "_model_module": "@jupyter-widgets/controls",
            "_model_module_version": "1.5.0",
            "_model_name": "HBoxModel",
            "_view_count": null,
            "_view_module": "@jupyter-widgets/controls",
            "_view_module_version": "1.5.0",
            "_view_name": "HBoxView",
            "box_style": "",
            "children": [
              "IPY_MODEL_ca8250f521014920a08a67a484ff0fe6",
              "IPY_MODEL_6c758db6c71b40fca51998f30719d9d5",
              "IPY_MODEL_380771cbaaa34448a60d879246cba325"
            ],
            "layout": "IPY_MODEL_6505bad522214ce1bc298fd5b0e097d4"
          }
        },
        "ca8250f521014920a08a67a484ff0fe6": {
          "model_module": "@jupyter-widgets/controls",
          "model_name": "HTMLModel",
          "model_module_version": "1.5.0",
          "state": {
            "_dom_classes": [],
            "_model_module": "@jupyter-widgets/controls",
            "_model_module_version": "1.5.0",
            "_model_name": "HTMLModel",
            "_view_count": null,
            "_view_module": "@jupyter-widgets/controls",
            "_view_module_version": "1.5.0",
            "_view_name": "HTMLView",
            "description": "",
            "description_tooltip": null,
            "layout": "IPY_MODEL_a1333e4aefc54f4f9d96aa65561b99e8",
            "placeholder": "​",
            "style": "IPY_MODEL_66dee7a62bc14fb5b5f4a108c8931a9b",
            "value": "model.safetensors: 100%"
          }
        },
        "6c758db6c71b40fca51998f30719d9d5": {
          "model_module": "@jupyter-widgets/controls",
          "model_name": "FloatProgressModel",
          "model_module_version": "1.5.0",
          "state": {
            "_dom_classes": [],
            "_model_module": "@jupyter-widgets/controls",
            "_model_module_version": "1.5.0",
            "_model_name": "FloatProgressModel",
            "_view_count": null,
            "_view_module": "@jupyter-widgets/controls",
            "_view_module_version": "1.5.0",
            "_view_name": "ProgressView",
            "bar_style": "success",
            "description": "",
            "description_tooltip": null,
            "layout": "IPY_MODEL_5626009ac3674df2a5a8149fe5888cbd",
            "max": 33588440,
            "min": 0,
            "orientation": "horizontal",
            "style": "IPY_MODEL_b4d49b077ec14900b673c2f4aefdc184",
            "value": 33588440
          }
        },
        "380771cbaaa34448a60d879246cba325": {
          "model_module": "@jupyter-widgets/controls",
          "model_name": "HTMLModel",
          "model_module_version": "1.5.0",
          "state": {
            "_dom_classes": [],
            "_model_module": "@jupyter-widgets/controls",
            "_model_module_version": "1.5.0",
            "_model_name": "HTMLModel",
            "_view_count": null,
            "_view_module": "@jupyter-widgets/controls",
            "_view_module_version": "1.5.0",
            "_view_name": "HTMLView",
            "description": "",
            "description_tooltip": null,
            "layout": "IPY_MODEL_382e3a90dbb64576a3d144c4808282b0",
            "placeholder": "​",
            "style": "IPY_MODEL_aea3e37fc3094b238dbabb232349b930",
            "value": " 33.6M/33.6M [00:00&lt;00:00, 39.2MB/s]"
          }
        },
        "6505bad522214ce1bc298fd5b0e097d4": {
          "model_module": "@jupyter-widgets/base",
          "model_name": "LayoutModel",
          "model_module_version": "1.2.0",
          "state": {
            "_model_module": "@jupyter-widgets/base",
            "_model_module_version": "1.2.0",
            "_model_name": "LayoutModel",
            "_view_count": null,
            "_view_module": "@jupyter-widgets/base",
            "_view_module_version": "1.2.0",
            "_view_name": "LayoutView",
            "align_content": null,
            "align_items": null,
            "align_self": null,
            "border": null,
            "bottom": null,
            "display": null,
            "flex": null,
            "flex_flow": null,
            "grid_area": null,
            "grid_auto_columns": null,
            "grid_auto_flow": null,
            "grid_auto_rows": null,
            "grid_column": null,
            "grid_gap": null,
            "grid_row": null,
            "grid_template_areas": null,
            "grid_template_columns": null,
            "grid_template_rows": null,
            "height": null,
            "justify_content": null,
            "justify_items": null,
            "left": null,
            "margin": null,
            "max_height": null,
            "max_width": null,
            "min_height": null,
            "min_width": null,
            "object_fit": null,
            "object_position": null,
            "order": null,
            "overflow": null,
            "overflow_x": null,
            "overflow_y": null,
            "padding": null,
            "right": null,
            "top": null,
            "visibility": null,
            "width": null
          }
        },
        "a1333e4aefc54f4f9d96aa65561b99e8": {
          "model_module": "@jupyter-widgets/base",
          "model_name": "LayoutModel",
          "model_module_version": "1.2.0",
          "state": {
            "_model_module": "@jupyter-widgets/base",
            "_model_module_version": "1.2.0",
            "_model_name": "LayoutModel",
            "_view_count": null,
            "_view_module": "@jupyter-widgets/base",
            "_view_module_version": "1.2.0",
            "_view_name": "LayoutView",
            "align_content": null,
            "align_items": null,
            "align_self": null,
            "border": null,
            "bottom": null,
            "display": null,
            "flex": null,
            "flex_flow": null,
            "grid_area": null,
            "grid_auto_columns": null,
            "grid_auto_flow": null,
            "grid_auto_rows": null,
            "grid_column": null,
            "grid_gap": null,
            "grid_row": null,
            "grid_template_areas": null,
            "grid_template_columns": null,
            "grid_template_rows": null,
            "height": null,
            "justify_content": null,
            "justify_items": null,
            "left": null,
            "margin": null,
            "max_height": null,
            "max_width": null,
            "min_height": null,
            "min_width": null,
            "object_fit": null,
            "object_position": null,
            "order": null,
            "overflow": null,
            "overflow_x": null,
            "overflow_y": null,
            "padding": null,
            "right": null,
            "top": null,
            "visibility": null,
            "width": null
          }
        },
        "66dee7a62bc14fb5b5f4a108c8931a9b": {
          "model_module": "@jupyter-widgets/controls",
          "model_name": "DescriptionStyleModel",
          "model_module_version": "1.5.0",
          "state": {
            "_model_module": "@jupyter-widgets/controls",
            "_model_module_version": "1.5.0",
            "_model_name": "DescriptionStyleModel",
            "_view_count": null,
            "_view_module": "@jupyter-widgets/base",
            "_view_module_version": "1.2.0",
            "_view_name": "StyleView",
            "description_width": ""
          }
        },
        "5626009ac3674df2a5a8149fe5888cbd": {
          "model_module": "@jupyter-widgets/base",
          "model_name": "LayoutModel",
          "model_module_version": "1.2.0",
          "state": {
            "_model_module": "@jupyter-widgets/base",
            "_model_module_version": "1.2.0",
            "_model_name": "LayoutModel",
            "_view_count": null,
            "_view_module": "@jupyter-widgets/base",
            "_view_module_version": "1.2.0",
            "_view_name": "LayoutView",
            "align_content": null,
            "align_items": null,
            "align_self": null,
            "border": null,
            "bottom": null,
            "display": null,
            "flex": null,
            "flex_flow": null,
            "grid_area": null,
            "grid_auto_columns": null,
            "grid_auto_flow": null,
            "grid_auto_rows": null,
            "grid_column": null,
            "grid_gap": null,
            "grid_row": null,
            "grid_template_areas": null,
            "grid_template_columns": null,
            "grid_template_rows": null,
            "height": null,
            "justify_content": null,
            "justify_items": null,
            "left": null,
            "margin": null,
            "max_height": null,
            "max_width": null,
            "min_height": null,
            "min_width": null,
            "object_fit": null,
            "object_position": null,
            "order": null,
            "overflow": null,
            "overflow_x": null,
            "overflow_y": null,
            "padding": null,
            "right": null,
            "top": null,
            "visibility": null,
            "width": null
          }
        },
        "b4d49b077ec14900b673c2f4aefdc184": {
          "model_module": "@jupyter-widgets/controls",
          "model_name": "ProgressStyleModel",
          "model_module_version": "1.5.0",
          "state": {
            "_model_module": "@jupyter-widgets/controls",
            "_model_module_version": "1.5.0",
            "_model_name": "ProgressStyleModel",
            "_view_count": null,
            "_view_module": "@jupyter-widgets/base",
            "_view_module_version": "1.2.0",
            "_view_name": "StyleView",
            "bar_color": null,
            "description_width": ""
          }
        },
        "382e3a90dbb64576a3d144c4808282b0": {
          "model_module": "@jupyter-widgets/base",
          "model_name": "LayoutModel",
          "model_module_version": "1.2.0",
          "state": {
            "_model_module": "@jupyter-widgets/base",
            "_model_module_version": "1.2.0",
            "_model_name": "LayoutModel",
            "_view_count": null,
            "_view_module": "@jupyter-widgets/base",
            "_view_module_version": "1.2.0",
            "_view_name": "LayoutView",
            "align_content": null,
            "align_items": null,
            "align_self": null,
            "border": null,
            "bottom": null,
            "display": null,
            "flex": null,
            "flex_flow": null,
            "grid_area": null,
            "grid_auto_columns": null,
            "grid_auto_flow": null,
            "grid_auto_rows": null,
            "grid_column": null,
            "grid_gap": null,
            "grid_row": null,
            "grid_template_areas": null,
            "grid_template_columns": null,
            "grid_template_rows": null,
            "height": null,
            "justify_content": null,
            "justify_items": null,
            "left": null,
            "margin": null,
            "max_height": null,
            "max_width": null,
            "min_height": null,
            "min_width": null,
            "object_fit": null,
            "object_position": null,
            "order": null,
            "overflow": null,
            "overflow_x": null,
            "overflow_y": null,
            "padding": null,
            "right": null,
            "top": null,
            "visibility": null,
            "width": null
          }
        },
        "aea3e37fc3094b238dbabb232349b930": {
          "model_module": "@jupyter-widgets/controls",
          "model_name": "DescriptionStyleModel",
          "model_module_version": "1.5.0",
          "state": {
            "_model_module": "@jupyter-widgets/controls",
            "_model_module_version": "1.5.0",
            "_model_name": "DescriptionStyleModel",
            "_view_count": null,
            "_view_module": "@jupyter-widgets/base",
            "_view_module_version": "1.2.0",
            "_view_name": "StyleView",
            "description_width": ""
          }
        },
        "fe9d8adfc6df43188d30e00020e9c759": {
          "model_module": "@jupyter-widgets/controls",
          "model_name": "HBoxModel",
          "model_module_version": "1.5.0",
          "state": {
            "_dom_classes": [],
            "_model_module": "@jupyter-widgets/controls",
            "_model_module_version": "1.5.0",
            "_model_name": "HBoxModel",
            "_view_count": null,
            "_view_module": "@jupyter-widgets/controls",
            "_view_module_version": "1.5.0",
            "_view_name": "HBoxView",
            "box_style": "",
            "children": [
              "IPY_MODEL_a4db7c08fb9b44ccb4324fb96d7cd6e5",
              "IPY_MODEL_ff58ace16a614e1bba392fc447f2a7d0",
              "IPY_MODEL_e7a9aeeb3a3d4cd2b2a39e1baf5cf857"
            ],
            "layout": "IPY_MODEL_4969119eb5ce40b9bf09cae27c01b969"
          }
        },
        "a4db7c08fb9b44ccb4324fb96d7cd6e5": {
          "model_module": "@jupyter-widgets/controls",
          "model_name": "HTMLModel",
          "model_module_version": "1.5.0",
          "state": {
            "_dom_classes": [],
            "_model_module": "@jupyter-widgets/controls",
            "_model_module_version": "1.5.0",
            "_model_name": "HTMLModel",
            "_view_count": null,
            "_view_module": "@jupyter-widgets/controls",
            "_view_module_version": "1.5.0",
            "_view_name": "HTMLView",
            "description": "",
            "description_tooltip": null,
            "layout": "IPY_MODEL_224947088ca8407d9466fd33436f6f6a",
            "placeholder": "​",
            "style": "IPY_MODEL_8d319da4668c4aaeaf4c96447d56fdcf",
            "value": "generation_config.json: 100%"
          }
        },
        "ff58ace16a614e1bba392fc447f2a7d0": {
          "model_module": "@jupyter-widgets/controls",
          "model_name": "FloatProgressModel",
          "model_module_version": "1.5.0",
          "state": {
            "_dom_classes": [],
            "_model_module": "@jupyter-widgets/controls",
            "_model_module_version": "1.5.0",
            "_model_name": "FloatProgressModel",
            "_view_count": null,
            "_view_module": "@jupyter-widgets/controls",
            "_view_module_version": "1.5.0",
            "_view_name": "ProgressView",
            "bar_style": "success",
            "description": "",
            "description_tooltip": null,
            "layout": "IPY_MODEL_3e4f8828c9164d8389da0b347f746168",
            "max": 142,
            "min": 0,
            "orientation": "horizontal",
            "style": "IPY_MODEL_30b8f3d832b3493581af48d615cc24dd",
            "value": 142
          }
        },
        "e7a9aeeb3a3d4cd2b2a39e1baf5cf857": {
          "model_module": "@jupyter-widgets/controls",
          "model_name": "HTMLModel",
          "model_module_version": "1.5.0",
          "state": {
            "_dom_classes": [],
            "_model_module": "@jupyter-widgets/controls",
            "_model_module_version": "1.5.0",
            "_model_name": "HTMLModel",
            "_view_count": null,
            "_view_module": "@jupyter-widgets/controls",
            "_view_module_version": "1.5.0",
            "_view_name": "HTMLView",
            "description": "",
            "description_tooltip": null,
            "layout": "IPY_MODEL_c1c1e4f41ca443aaa50fef96e6cceef3",
            "placeholder": "​",
            "style": "IPY_MODEL_a950fdb615184147b7bd94a60a4dc872",
            "value": " 142/142 [00:00&lt;00:00, 2.34kB/s]"
          }
        },
        "4969119eb5ce40b9bf09cae27c01b969": {
          "model_module": "@jupyter-widgets/base",
          "model_name": "LayoutModel",
          "model_module_version": "1.2.0",
          "state": {
            "_model_module": "@jupyter-widgets/base",
            "_model_module_version": "1.2.0",
            "_model_name": "LayoutModel",
            "_view_count": null,
            "_view_module": "@jupyter-widgets/base",
            "_view_module_version": "1.2.0",
            "_view_name": "LayoutView",
            "align_content": null,
            "align_items": null,
            "align_self": null,
            "border": null,
            "bottom": null,
            "display": null,
            "flex": null,
            "flex_flow": null,
            "grid_area": null,
            "grid_auto_columns": null,
            "grid_auto_flow": null,
            "grid_auto_rows": null,
            "grid_column": null,
            "grid_gap": null,
            "grid_row": null,
            "grid_template_areas": null,
            "grid_template_columns": null,
            "grid_template_rows": null,
            "height": null,
            "justify_content": null,
            "justify_items": null,
            "left": null,
            "margin": null,
            "max_height": null,
            "max_width": null,
            "min_height": null,
            "min_width": null,
            "object_fit": null,
            "object_position": null,
            "order": null,
            "overflow": null,
            "overflow_x": null,
            "overflow_y": null,
            "padding": null,
            "right": null,
            "top": null,
            "visibility": null,
            "width": null
          }
        },
        "224947088ca8407d9466fd33436f6f6a": {
          "model_module": "@jupyter-widgets/base",
          "model_name": "LayoutModel",
          "model_module_version": "1.2.0",
          "state": {
            "_model_module": "@jupyter-widgets/base",
            "_model_module_version": "1.2.0",
            "_model_name": "LayoutModel",
            "_view_count": null,
            "_view_module": "@jupyter-widgets/base",
            "_view_module_version": "1.2.0",
            "_view_name": "LayoutView",
            "align_content": null,
            "align_items": null,
            "align_self": null,
            "border": null,
            "bottom": null,
            "display": null,
            "flex": null,
            "flex_flow": null,
            "grid_area": null,
            "grid_auto_columns": null,
            "grid_auto_flow": null,
            "grid_auto_rows": null,
            "grid_column": null,
            "grid_gap": null,
            "grid_row": null,
            "grid_template_areas": null,
            "grid_template_columns": null,
            "grid_template_rows": null,
            "height": null,
            "justify_content": null,
            "justify_items": null,
            "left": null,
            "margin": null,
            "max_height": null,
            "max_width": null,
            "min_height": null,
            "min_width": null,
            "object_fit": null,
            "object_position": null,
            "order": null,
            "overflow": null,
            "overflow_x": null,
            "overflow_y": null,
            "padding": null,
            "right": null,
            "top": null,
            "visibility": null,
            "width": null
          }
        },
        "8d319da4668c4aaeaf4c96447d56fdcf": {
          "model_module": "@jupyter-widgets/controls",
          "model_name": "DescriptionStyleModel",
          "model_module_version": "1.5.0",
          "state": {
            "_model_module": "@jupyter-widgets/controls",
            "_model_module_version": "1.5.0",
            "_model_name": "DescriptionStyleModel",
            "_view_count": null,
            "_view_module": "@jupyter-widgets/base",
            "_view_module_version": "1.2.0",
            "_view_name": "StyleView",
            "description_width": ""
          }
        },
        "3e4f8828c9164d8389da0b347f746168": {
          "model_module": "@jupyter-widgets/base",
          "model_name": "LayoutModel",
          "model_module_version": "1.2.0",
          "state": {
            "_model_module": "@jupyter-widgets/base",
            "_model_module_version": "1.2.0",
            "_model_name": "LayoutModel",
            "_view_count": null,
            "_view_module": "@jupyter-widgets/base",
            "_view_module_version": "1.2.0",
            "_view_name": "LayoutView",
            "align_content": null,
            "align_items": null,
            "align_self": null,
            "border": null,
            "bottom": null,
            "display": null,
            "flex": null,
            "flex_flow": null,
            "grid_area": null,
            "grid_auto_columns": null,
            "grid_auto_flow": null,
            "grid_auto_rows": null,
            "grid_column": null,
            "grid_gap": null,
            "grid_row": null,
            "grid_template_areas": null,
            "grid_template_columns": null,
            "grid_template_rows": null,
            "height": null,
            "justify_content": null,
            "justify_items": null,
            "left": null,
            "margin": null,
            "max_height": null,
            "max_width": null,
            "min_height": null,
            "min_width": null,
            "object_fit": null,
            "object_position": null,
            "order": null,
            "overflow": null,
            "overflow_x": null,
            "overflow_y": null,
            "padding": null,
            "right": null,
            "top": null,
            "visibility": null,
            "width": null
          }
        },
        "30b8f3d832b3493581af48d615cc24dd": {
          "model_module": "@jupyter-widgets/controls",
          "model_name": "ProgressStyleModel",
          "model_module_version": "1.5.0",
          "state": {
            "_model_module": "@jupyter-widgets/controls",
            "_model_module_version": "1.5.0",
            "_model_name": "ProgressStyleModel",
            "_view_count": null,
            "_view_module": "@jupyter-widgets/base",
            "_view_module_version": "1.2.0",
            "_view_name": "StyleView",
            "bar_color": null,
            "description_width": ""
          }
        },
        "c1c1e4f41ca443aaa50fef96e6cceef3": {
          "model_module": "@jupyter-widgets/base",
          "model_name": "LayoutModel",
          "model_module_version": "1.2.0",
          "state": {
            "_model_module": "@jupyter-widgets/base",
            "_model_module_version": "1.2.0",
            "_model_name": "LayoutModel",
            "_view_count": null,
            "_view_module": "@jupyter-widgets/base",
            "_view_module_version": "1.2.0",
            "_view_name": "LayoutView",
            "align_content": null,
            "align_items": null,
            "align_self": null,
            "border": null,
            "bottom": null,
            "display": null,
            "flex": null,
            "flex_flow": null,
            "grid_area": null,
            "grid_auto_columns": null,
            "grid_auto_flow": null,
            "grid_auto_rows": null,
            "grid_column": null,
            "grid_gap": null,
            "grid_row": null,
            "grid_template_areas": null,
            "grid_template_columns": null,
            "grid_template_rows": null,
            "height": null,
            "justify_content": null,
            "justify_items": null,
            "left": null,
            "margin": null,
            "max_height": null,
            "max_width": null,
            "min_height": null,
            "min_width": null,
            "object_fit": null,
            "object_position": null,
            "order": null,
            "overflow": null,
            "overflow_x": null,
            "overflow_y": null,
            "padding": null,
            "right": null,
            "top": null,
            "visibility": null,
            "width": null
          }
        },
        "a950fdb615184147b7bd94a60a4dc872": {
          "model_module": "@jupyter-widgets/controls",
          "model_name": "DescriptionStyleModel",
          "model_module_version": "1.5.0",
          "state": {
            "_model_module": "@jupyter-widgets/controls",
            "_model_module_version": "1.5.0",
            "_model_name": "DescriptionStyleModel",
            "_view_count": null,
            "_view_module": "@jupyter-widgets/base",
            "_view_module_version": "1.2.0",
            "_view_name": "StyleView",
            "description_width": ""
          }
        }
      }
    }
  },
  "nbformat": 4,
  "nbformat_minor": 0
}