{
  "nbformat": 4,
  "nbformat_minor": 0,
  "metadata": {
    "kernelspec": {
      "display_name": "Python 3",
      "language": "python",
      "name": "python3"
    },
    "language_info": {
      "codemirror_mode": {
        "name": "ipython",
        "version": 3
      },
      "file_extension": ".py",
      "mimetype": "text/x-python",
      "name": "python",
      "nbconvert_exporter": "python",
      "pygments_lexer": "ipython3",
      "version": "3.6.5"
    },
    "colab": {
      "provenance": [],
      "include_colab_link": true
    }
  },
  "cells": [
    {
      "cell_type": "markdown",
      "metadata": {
        "id": "view-in-github",
        "colab_type": "text"
      },
      "source": [
        "<a href=\"https://colab.research.google.com/github/davidogm/DataScience/blob/main/01NumPy_Tutorial.ipynb\" target=\"_parent\"><img src=\"https://colab.research.google.com/assets/colab-badge.svg\" alt=\"Open In Colab\"/></a>"
      ]
    },
    {
      "cell_type": "markdown",
      "metadata": {
        "id": "yF5Bqs6zQdN2"
      },
      "source": [
        "### Load in NumPy (remember to pip install numpy first)"
      ]
    },
    {
      "cell_type": "code",
      "metadata": {
        "id": "uli1q76ZQdN3"
      },
      "source": [
        "import numpy as np"
      ],
      "execution_count": null,
      "outputs": []
    },
    {
      "cell_type": "markdown",
      "metadata": {
        "id": "ikYRz-MhQdOE"
      },
      "source": [
        "### The Basics"
      ]
    },
    {
      "cell_type": "code",
      "metadata": {
        "id": "9dOOE5CPQdOE",
        "colab": {
          "base_uri": "https://localhost:8080/"
        },
        "outputId": "f221f8bb-97f2-4381-b502-3cb752c4f588"
      },
      "source": [
        "a = np.array([1,2,3], dtype='int32')\n",
        "print(a)"
      ],
      "execution_count": null,
      "outputs": [
        {
          "output_type": "stream",
          "name": "stdout",
          "text": [
            "[1 2 3]\n"
          ]
        }
      ]
    },
    {
      "cell_type": "code",
      "metadata": {
        "id": "0sYaIrA0QdOk",
        "colab": {
          "base_uri": "https://localhost:8080/"
        },
        "outputId": "ed84d9b8-75d7-4762-b82c-5302eddf82d3"
      },
      "source": [
        "b = np.array([[9.0,8.0,7.0],[6.0,5.0,4.0]])\n",
        "print(b)"
      ],
      "execution_count": null,
      "outputs": [
        {
          "output_type": "stream",
          "name": "stdout",
          "text": [
            "[[9. 8. 7.]\n",
            " [6. 5. 4.]]\n"
          ]
        }
      ]
    },
    {
      "cell_type": "code",
      "metadata": {
        "id": "Ltr6pATuXPcT",
        "colab": {
          "base_uri": "https://localhost:8080/"
        },
        "outputId": "a1fac3e6-1e40-45d3-ee89-e82ba039c627"
      },
      "source": [
        "print(a.dtype)\n",
        "\n",
        "print(b.dtype)"
      ],
      "execution_count": null,
      "outputs": [
        {
          "output_type": "stream",
          "name": "stdout",
          "text": [
            "int32\n",
            "float64\n"
          ]
        }
      ]
    },
    {
      "cell_type": "code",
      "metadata": {
        "id": "4ekrKNukQdPY",
        "colab": {
          "base_uri": "https://localhost:8080/"
        },
        "outputId": "93b64041-acc6-43b3-cbf8-8c881302edbe"
      },
      "source": [
        "# Get Dimension\n",
        "a.ndim"
      ],
      "execution_count": null,
      "outputs": [
        {
          "output_type": "execute_result",
          "data": {
            "text/plain": [
              "1"
            ]
          },
          "metadata": {},
          "execution_count": 5
        }
      ]
    },
    {
      "cell_type": "code",
      "metadata": {
        "id": "YXeLS1mJQdPe",
        "colab": {
          "base_uri": "https://localhost:8080/"
        },
        "outputId": "981e827e-ec18-4529-eedb-f5926182cc21"
      },
      "source": [
        "# Get Shape, muy usado\n",
        "b.shape"
      ],
      "execution_count": null,
      "outputs": [
        {
          "output_type": "execute_result",
          "data": {
            "text/plain": [
              "(2, 3)"
            ]
          },
          "metadata": {},
          "execution_count": 6
        }
      ]
    },
    {
      "cell_type": "code",
      "metadata": {
        "id": "pY2fInQPQdPl",
        "colab": {
          "base_uri": "https://localhost:8080/"
        },
        "outputId": "eef1ff86-d055-453e-edf6-89783689d036"
      },
      "source": [
        "# Get Type\n",
        "a.dtype"
      ],
      "execution_count": null,
      "outputs": [
        {
          "output_type": "execute_result",
          "data": {
            "text/plain": [
              "dtype('int32')"
            ]
          },
          "metadata": {},
          "execution_count": 7
        }
      ]
    },
    {
      "cell_type": "code",
      "metadata": {
        "id": "OlmUe3ipQdPu",
        "colab": {
          "base_uri": "https://localhost:8080/"
        },
        "outputId": "2f82ee13-573b-4000-bc3f-14fffe002170"
      },
      "source": [
        "# Get Size\n",
        "a.itemsize"
      ],
      "execution_count": null,
      "outputs": [
        {
          "output_type": "execute_result",
          "data": {
            "text/plain": [
              "4"
            ]
          },
          "metadata": {},
          "execution_count": 8
        }
      ]
    },
    {
      "cell_type": "code",
      "metadata": {
        "id": "pS7TXG5cQdP5",
        "colab": {
          "base_uri": "https://localhost:8080/"
        },
        "outputId": "89bbc222-fe99-4b74-a0e4-e8de1e37eb9d"
      },
      "source": [
        "# Get total size\n",
        "a.nbytes"
      ],
      "execution_count": null,
      "outputs": [
        {
          "output_type": "execute_result",
          "data": {
            "text/plain": [
              "12"
            ]
          },
          "metadata": {},
          "execution_count": 9
        }
      ]
    },
    {
      "cell_type": "code",
      "metadata": {
        "id": "rHsjyAuHQdP9",
        "colab": {
          "base_uri": "https://localhost:8080/"
        },
        "outputId": "c55de398-b1a7-4878-ca4e-40a34166f5da"
      },
      "source": [
        "# Get number of elements\n",
        "a.size"
      ],
      "execution_count": null,
      "outputs": [
        {
          "output_type": "execute_result",
          "data": {
            "text/plain": [
              "3"
            ]
          },
          "metadata": {},
          "execution_count": 10
        }
      ]
    },
    {
      "cell_type": "markdown",
      "metadata": {
        "id": "qc_eAOxqQdQO"
      },
      "source": [
        "### Accessing/Changing specific elements, rows, columns, etc"
      ]
    },
    {
      "cell_type": "code",
      "metadata": {
        "id": "jH4ykw-ZQdQP",
        "colab": {
          "base_uri": "https://localhost:8080/"
        },
        "outputId": "fde93ecc-4a2a-474a-dd73-5a187a34c11c"
      },
      "source": [
        "a = np.array([[1,2,3,4,5,6,7],[8,9,10,11,12,13,14]])\n",
        "print(a)"
      ],
      "execution_count": null,
      "outputs": [
        {
          "output_type": "stream",
          "name": "stdout",
          "text": [
            "[[ 1  2  3  4  5  6  7]\n",
            " [ 8  9 10 11 12 13 14]]\n"
          ]
        }
      ]
    },
    {
      "cell_type": "code",
      "metadata": {
        "id": "RdM8V73HQdQX",
        "colab": {
          "base_uri": "https://localhost:8080/"
        },
        "outputId": "f73b922f-123b-4d06-ce03-8c0df482f4cf"
      },
      "source": [
        "# Get a specific element [r, c] or negative -2\n",
        "a[1, -2]"
      ],
      "execution_count": null,
      "outputs": [
        {
          "output_type": "execute_result",
          "data": {
            "text/plain": [
              "13"
            ]
          },
          "metadata": {},
          "execution_count": 13
        }
      ]
    },
    {
      "cell_type": "code",
      "metadata": {
        "id": "-5UJLiugQdQd",
        "colab": {
          "base_uri": "https://localhost:8080/"
        },
        "outputId": "6df61074-deea-446a-ed56-f992ba69c5a2"
      },
      "source": [
        "# Get a specific row \n",
        "# se coge toda la columna con los :\n",
        "a[0, :]"
      ],
      "execution_count": null,
      "outputs": [
        {
          "output_type": "execute_result",
          "data": {
            "text/plain": [
              "array([1, 2, 3, 4, 5, 6, 7])"
            ]
          },
          "metadata": {},
          "execution_count": 14
        }
      ]
    },
    {
      "cell_type": "code",
      "metadata": {
        "id": "KWK4p3JxQdQm",
        "colab": {
          "base_uri": "https://localhost:8080/"
        },
        "outputId": "6f994a5a-e463-45fa-c081-0eca34cf0b38"
      },
      "source": [
        "# Get a specific column\n",
        "# y también la columna, interesante porque estamos menos acostumbrados a verlo\n",
        "a[:, 4]"
      ],
      "execution_count": null,
      "outputs": [
        {
          "output_type": "execute_result",
          "data": {
            "text/plain": [
              "array([ 5, 12])"
            ]
          },
          "metadata": {},
          "execution_count": 15
        }
      ]
    },
    {
      "cell_type": "code",
      "metadata": {
        "id": "IreBxrDRQdQr",
        "colab": {
          "base_uri": "https://localhost:8080/"
        },
        "outputId": "f01de69f-a2df-4dde-8d79-c3280afbdcf9"
      },
      "source": [
        "# Getting a little more fancy [startindex:endindex:stepsize]\n",
        "# lista del 2 al sexto elemento (es el 7) de la primera fila de 2 en 2\n",
        "# como comenta en el vídeo son EXCLUSIVOS los índices por eso coge el elemento 6 y no 5 (empieza en 0)\n",
        "# y recordad que las comas siempre separan filas y columnas\n",
        "#a[0, 1:6:2]\n",
        "a[0, 1:-1:2]\n",
        "# es divertido ver que se hace lo mismo si empezamos por el final"
      ],
      "execution_count": null,
      "outputs": [
        {
          "output_type": "execute_result",
          "data": {
            "text/plain": [
              "array([2, 4, 6])"
            ]
          },
          "metadata": {},
          "execution_count": 15
        }
      ]
    },
    {
      "cell_type": "code",
      "metadata": {
        "colab": {
          "base_uri": "https://localhost:8080/"
        },
        "id": "7I5td2xQeNPD",
        "outputId": "2324a916-4bdc-462d-fa8b-75201e6da92c"
      },
      "source": [
        "a.shape"
      ],
      "execution_count": null,
      "outputs": [
        {
          "output_type": "execute_result",
          "data": {
            "text/plain": [
              "(2, 7)"
            ]
          },
          "metadata": {},
          "execution_count": 16
        }
      ]
    },
    {
      "cell_type": "markdown",
      "metadata": {
        "id": "_OugqZzXUOQK"
      },
      "source": [
        "Changing elements"
      ]
    },
    {
      "cell_type": "code",
      "metadata": {
        "id": "3Q_W1TAgurfJ",
        "colab": {
          "base_uri": "https://localhost:8080/"
        },
        "outputId": "7c8ec4c0-3497-45f0-dccd-c1ff07ce6f50"
      },
      "source": [
        "a"
      ],
      "execution_count": null,
      "outputs": [
        {
          "output_type": "execute_result",
          "data": {
            "text/plain": [
              "array([[ 1,  2,  3,  4,  5,  6,  7],\n",
              "       [ 8,  9, 10, 11, 12, 13, 14]])"
            ]
          },
          "metadata": {},
          "execution_count": 17
        }
      ]
    },
    {
      "cell_type": "code",
      "metadata": {
        "id": "bxEv-1kvQdQu",
        "colab": {
          "base_uri": "https://localhost:8080/"
        },
        "outputId": "1ca12642-99be-482c-8f62-30c8244080ab"
      },
      "source": [
        "# cambiamos un elemento\n",
        "a[1,5] = 20\n",
        "\n",
        "# o cambiamos la columna entera\n",
        "a[:,2] = [1,2]\n",
        "print(a)"
      ],
      "execution_count": null,
      "outputs": [
        {
          "output_type": "stream",
          "name": "stdout",
          "text": [
            "[[ 1  2  1  4  5  6  7]\n",
            " [ 8  9  2 11 12 20 14]]\n"
          ]
        }
      ]
    },
    {
      "cell_type": "code",
      "metadata": {
        "id": "QNH9WlfZvA1_",
        "colab": {
          "base_uri": "https://localhost:8080/"
        },
        "outputId": "33157647-a041-498a-cc5c-c5ad9a0d188b"
      },
      "source": [
        "a.shape"
      ],
      "execution_count": null,
      "outputs": [
        {
          "output_type": "execute_result",
          "data": {
            "text/plain": [
              "(2, 7)"
            ]
          },
          "metadata": {},
          "execution_count": 19
        }
      ]
    },
    {
      "cell_type": "markdown",
      "metadata": {
        "id": "3pCI7R3UlqLr"
      },
      "source": [
        "podemos comprobar que hemos cambiado el elemento 13 por el 20\n",
        "\n",
        "y la tercera columna 3,10 por 1, 2"
      ]
    },
    {
      "cell_type": "markdown",
      "metadata": {
        "id": "zP1UYHj7QdQx"
      },
      "source": [
        "*3-d example"
      ]
    },
    {
      "cell_type": "markdown",
      "metadata": {
        "id": "Jp-WfBSBmKf1"
      },
      "source": [
        "esto es un poco más difícil de ver..."
      ]
    },
    {
      "cell_type": "code",
      "metadata": {
        "id": "UNz9dL70QdQy",
        "colab": {
          "base_uri": "https://localhost:8080/"
        },
        "outputId": "6b601d29-c8dd-44d4-a444-347cf9fb02c4"
      },
      "source": [
        "b = np.array([[[1,2],[3,4]],[[5,6],[7,8]]])\n",
        "print(b)"
      ],
      "execution_count": null,
      "outputs": [
        {
          "output_type": "stream",
          "name": "stdout",
          "text": [
            "[[[1 2]\n",
            "  [3 4]]\n",
            "\n",
            " [[5 6]\n",
            "  [7 8]]]\n"
          ]
        }
      ]
    },
    {
      "cell_type": "code",
      "metadata": {
        "id": "XBLutcXuVaNA",
        "colab": {
          "base_uri": "https://localhost:8080/"
        },
        "outputId": "e7833dd8-f9fd-4b41-e0d2-5b3051a4c638"
      },
      "source": [
        "b.shape\n",
        "# aquí comprobamos que es de dimensión 3  , por esto la utilidad del shape"
      ],
      "execution_count": null,
      "outputs": [
        {
          "output_type": "execute_result",
          "data": {
            "text/plain": [
              "(2, 2, 2)"
            ]
          },
          "metadata": {},
          "execution_count": 21
        }
      ]
    },
    {
      "cell_type": "code",
      "metadata": {
        "id": "2KXDQx_bQdQ5",
        "colab": {
          "base_uri": "https://localhost:8080/"
        },
        "outputId": "958017c2-6df2-46ea-baf2-1002fd628fe8"
      },
      "source": [
        "# Get specific element (work outside in)\n",
        "# imaginos que vamos a coger el elemento 4\n",
        "# first set 0, cuando estamos en la primera parte, \n",
        "# cogemos la segunda fila, index 1\n",
        "\n",
        "# interesante jugar con las otras dimensiones, poniendo :\n",
        "# sirve como ejercicio para tener un mejor conocimiento de las dimensiones\n",
        "\n",
        "#b[0,1,1]\n",
        "#b[0,1,0]\n",
        "b[:,0,:]  # interesante, vemos que hace como una intersección en el cubo (3d)\n"
      ],
      "execution_count": null,
      "outputs": [
        {
          "output_type": "execute_result",
          "data": {
            "text/plain": [
              "array([[1, 2],\n",
              "       [5, 6]])"
            ]
          },
          "metadata": {},
          "execution_count": 22
        }
      ]
    },
    {
      "cell_type": "code",
      "metadata": {
        "id": "PScofCgsQdRi"
      },
      "source": [
        "# replace \n",
        "# b[:,1,:] = [[9,9,9],[8,8]]  --> dif. dimension, doesn't work\n",
        "b[:,1,:]=[[9,9],[8,8]]"
      ],
      "execution_count": null,
      "outputs": []
    },
    {
      "cell_type": "code",
      "metadata": {
        "id": "t1Ui6OwFQdRu",
        "colab": {
          "base_uri": "https://localhost:8080/"
        },
        "outputId": "77238cdc-0a76-48c1-c936-87ded7c3f013"
      },
      "source": [
        "b"
      ],
      "execution_count": null,
      "outputs": [
        {
          "output_type": "execute_result",
          "data": {
            "text/plain": [
              "array([[[1, 2],\n",
              "        [9, 9]],\n",
              "\n",
              "       [[5, 6],\n",
              "        [8, 8]]])"
            ]
          },
          "metadata": {},
          "execution_count": 24
        }
      ]
    },
    {
      "cell_type": "markdown",
      "metadata": {
        "id": "95Xe3kwwQdRx"
      },
      "source": [
        "### Initializing Different Types of Arrays\n",
        "\n",
        "algunos son muy interesantes, otros se usan menos"
      ]
    },
    {
      "cell_type": "code",
      "metadata": {
        "id": "O0mc53rjQdRy",
        "colab": {
          "base_uri": "https://localhost:8080/"
        },
        "outputId": "412283df-8295-4d53-ecd0-c2d745e24449"
      },
      "source": [
        "# All 0s matrix\n",
        "np.zeros((2,3))\n",
        "\n",
        "np.zeros((2,3,3,2))   # 4 dimensiones, complicado :-)"
      ],
      "execution_count": null,
      "outputs": [
        {
          "output_type": "execute_result",
          "data": {
            "text/plain": [
              "array([[[[0., 0.],\n",
              "         [0., 0.],\n",
              "         [0., 0.]],\n",
              "\n",
              "        [[0., 0.],\n",
              "         [0., 0.],\n",
              "         [0., 0.]],\n",
              "\n",
              "        [[0., 0.],\n",
              "         [0., 0.],\n",
              "         [0., 0.]]],\n",
              "\n",
              "\n",
              "       [[[0., 0.],\n",
              "         [0., 0.],\n",
              "         [0., 0.]],\n",
              "\n",
              "        [[0., 0.],\n",
              "         [0., 0.],\n",
              "         [0., 0.]],\n",
              "\n",
              "        [[0., 0.],\n",
              "         [0., 0.],\n",
              "         [0., 0.]]]])"
            ]
          },
          "metadata": {},
          "execution_count": 25
        }
      ]
    },
    {
      "cell_type": "code",
      "metadata": {
        "id": "-fatDI6zQdR5",
        "colab": {
          "base_uri": "https://localhost:8080/"
        },
        "outputId": "d3dffaa6-8706-4707-b1e0-dcc509cb28da"
      },
      "source": [
        "# All 1s matrix\n",
        "np.ones((4,2,2), dtype='int32')   # el dtype se pone cuando se quiere mucha \n",
        "                                  # eficiencia pero no suele ser lo común"
      ],
      "execution_count": null,
      "outputs": [
        {
          "output_type": "execute_result",
          "data": {
            "text/plain": [
              "array([[[1, 1],\n",
              "        [1, 1]],\n",
              "\n",
              "       [[1, 1],\n",
              "        [1, 1]],\n",
              "\n",
              "       [[1, 1],\n",
              "        [1, 1]],\n",
              "\n",
              "       [[1, 1],\n",
              "        [1, 1]]], dtype=int32)"
            ]
          },
          "metadata": {},
          "execution_count": 26
        }
      ]
    },
    {
      "cell_type": "code",
      "metadata": {
        "id": "pZQjWRvZQdSA",
        "colab": {
          "base_uri": "https://localhost:8080/"
        },
        "outputId": "c0ea9808-1f29-4ba2-be05-6cbbb29a5009"
      },
      "source": [
        "# Any other number\n",
        "np.full((2,2), 99)"
      ],
      "execution_count": null,
      "outputs": [
        {
          "output_type": "execute_result",
          "data": {
            "text/plain": [
              "array([[99, 99],\n",
              "       [99, 99]])"
            ]
          },
          "metadata": {},
          "execution_count": 27
        }
      ]
    },
    {
      "cell_type": "code",
      "metadata": {
        "colab": {
          "base_uri": "https://localhost:8080/"
        },
        "id": "c31ihFACdpFX",
        "outputId": "daac17fc-25dc-4f06-98ac-5839ec52da14"
      },
      "source": [
        "a"
      ],
      "execution_count": null,
      "outputs": [
        {
          "output_type": "execute_result",
          "data": {
            "text/plain": [
              "array([[ 1,  2,  1,  4,  5,  6,  7],\n",
              "       [ 8,  9,  2, 11, 12, 20, 14]])"
            ]
          },
          "metadata": {},
          "execution_count": 28
        }
      ]
    },
    {
      "cell_type": "code",
      "metadata": {
        "id": "rFRnBw1PQdSE",
        "colab": {
          "base_uri": "https://localhost:8080/"
        },
        "outputId": "b243fce6-308d-46d4-8cbd-8187208e0427"
      },
      "source": [
        "# Any other number (full_like), antes de esto veamos el contenido de a\n",
        "np.full_like(a, 4)"
      ],
      "execution_count": null,
      "outputs": [
        {
          "output_type": "execute_result",
          "data": {
            "text/plain": [
              "array([[4, 4, 4, 4, 4, 4, 4],\n",
              "       [4, 4, 4, 4, 4, 4, 4]])"
            ]
          },
          "metadata": {},
          "execution_count": 29
        }
      ]
    },
    {
      "cell_type": "code",
      "metadata": {
        "id": "QoOvGl5pQdSL",
        "colab": {
          "base_uri": "https://localhost:8080/"
        },
        "outputId": "d729ed1c-b00c-4e6d-bc1b-55064c5b4342"
      },
      "source": [
        "# Random decimal numbers\n",
        "np.random.rand(4,2,3)"
      ],
      "execution_count": null,
      "outputs": [
        {
          "output_type": "execute_result",
          "data": {
            "text/plain": [
              "array([[[0.80161717, 0.1863943 , 0.66485227],\n",
              "        [0.94003757, 0.14948616, 0.67449945]],\n",
              "\n",
              "       [[0.33937491, 0.04893503, 0.78064332],\n",
              "        [0.23414882, 0.78908288, 0.42444887]],\n",
              "\n",
              "       [[0.13385751, 0.82277564, 0.03995732],\n",
              "        [0.52930378, 0.28338034, 0.2181557 ]],\n",
              "\n",
              "       [[0.30376661, 0.94046676, 0.52856798],\n",
              "        [0.6679394 , 0.42662784, 0.08392888]]])"
            ]
          },
          "metadata": {},
          "execution_count": 30
        }
      ]
    },
    {
      "cell_type": "code",
      "metadata": {
        "id": "eqDTud9gQdSO",
        "colab": {
          "base_uri": "https://localhost:8080/"
        },
        "outputId": "20274f95-afcd-475a-9422-f54d313da643"
      },
      "source": [
        "# Random Integer values\n",
        "np.random.randint(-4,8, size=(3,3))\n",
        "#recordad que los índices son exclusivos"
      ],
      "execution_count": null,
      "outputs": [
        {
          "output_type": "execute_result",
          "data": {
            "text/plain": [
              "array([[ 2,  0],\n",
              "       [-3,  3]])"
            ]
          },
          "metadata": {},
          "execution_count": 34
        }
      ]
    },
    {
      "cell_type": "code",
      "metadata": {
        "id": "pGb45tvTQdSr",
        "colab": {
          "base_uri": "https://localhost:8080/"
        },
        "outputId": "6f6a9f9f-e887-405c-8c2b-c0fe1e963bc3"
      },
      "source": [
        "# The identity matrix\n",
        "np.identity(4)"
      ],
      "execution_count": null,
      "outputs": [
        {
          "output_type": "execute_result",
          "data": {
            "text/plain": [
              "array([[1., 0., 0., 0.],\n",
              "       [0., 1., 0., 0.],\n",
              "       [0., 0., 1., 0.],\n",
              "       [0., 0., 0., 1.]])"
            ]
          },
          "metadata": {},
          "execution_count": 31
        }
      ]
    },
    {
      "cell_type": "code",
      "metadata": {
        "id": "4vvpQTx1QdS1",
        "colab": {
          "base_uri": "https://localhost:8080/"
        },
        "outputId": "15a6ce24-deda-47dc-e618-275935645096"
      },
      "source": [
        "# Repeat an array\n",
        "arr = np.array([[1,2,3]])   #repito la fila y lo hago bidimensional\n",
        "r1 = np.repeat(arr,3, axis=0)\n",
        "print(r1)"
      ],
      "execution_count": null,
      "outputs": [
        {
          "output_type": "stream",
          "name": "stdout",
          "text": [
            "[[1 2 3]\n",
            " [1 2 3]\n",
            " [1 2 3]]\n"
          ]
        }
      ]
    },
    {
      "cell_type": "code",
      "metadata": {
        "id": "YiDm5BqHafWr",
        "colab": {
          "base_uri": "https://localhost:8080/"
        },
        "outputId": "33fe56f4-fe77-434a-bad4-c19901284f96"
      },
      "source": [
        "r1.shape"
      ],
      "execution_count": null,
      "outputs": [
        {
          "output_type": "execute_result",
          "data": {
            "text/plain": [
              "(3, 3)"
            ]
          },
          "metadata": {},
          "execution_count": 38
        }
      ]
    },
    {
      "cell_type": "code",
      "metadata": {
        "id": "6vLEMefsQdS7",
        "colab": {
          "base_uri": "https://localhost:8080/"
        },
        "outputId": "9ec42713-a421-49f1-c9bb-e257286353c8"
      },
      "source": [
        "output = np.ones((5,5))\n",
        "print(output)"
      ],
      "execution_count": null,
      "outputs": [
        {
          "output_type": "stream",
          "name": "stdout",
          "text": [
            "[[1. 1. 1. 1. 1.]\n",
            " [1. 1. 1. 1. 1.]\n",
            " [1. 1. 1. 1. 1.]\n",
            " [1. 1. 1. 1. 1.]\n",
            " [1. 1. 1. 1. 1.]]\n"
          ]
        }
      ]
    },
    {
      "cell_type": "code",
      "metadata": {
        "colab": {
          "base_uri": "https://localhost:8080/"
        },
        "id": "kzm3ueLyfbS2",
        "outputId": "12e7bef4-741f-4bc2-c610-89c593b5d9eb"
      },
      "source": [
        "z = np.zeros((3,3))\n",
        "z[1,1] = 9\n",
        "print(z)\n"
      ],
      "execution_count": null,
      "outputs": [
        {
          "output_type": "stream",
          "name": "stdout",
          "text": [
            "[[0. 0. 0.]\n",
            " [0. 9. 0.]\n",
            " [0. 0. 0.]]\n"
          ]
        }
      ]
    },
    {
      "cell_type": "code",
      "metadata": {
        "colab": {
          "base_uri": "https://localhost:8080/"
        },
        "id": "4vChP4rffVDV",
        "outputId": "f2c4e49d-0149-4116-98d9-e1b8c153fb97"
      },
      "source": [
        "# este reemplazamiento es complicado de ver, cuidado porque es exclusivo (sólo el end), por eso va hasta el anterior\n",
        "# por eso ese último elemento es el 4 y no el 3 o también -1 (del primero al endindex)\n",
        "output[1:-1,1:-1] = z\n",
        "print(output)"
      ],
      "execution_count": null,
      "outputs": [
        {
          "output_type": "stream",
          "name": "stdout",
          "text": [
            "[[1. 1. 1. 1. 1.]\n",
            " [1. 0. 0. 0. 1.]\n",
            " [1. 0. 9. 0. 1.]\n",
            " [1. 0. 0. 0. 1.]\n",
            " [1. 1. 1. 1. 1.]]\n"
          ]
        }
      ]
    },
    {
      "cell_type": "code",
      "metadata": {
        "colab": {
          "base_uri": "https://localhost:8080/"
        },
        "id": "0AMGuF-me7dp",
        "outputId": "58c18292-3766-4b32-d236-32885864fa3a"
      },
      "source": [
        "output"
      ],
      "execution_count": null,
      "outputs": [
        {
          "output_type": "execute_result",
          "data": {
            "text/plain": [
              "array([[1., 1., 1., 1., 1.],\n",
              "       [1., 0., 0., 0., 1.],\n",
              "       [1., 0., 9., 0., 1.],\n",
              "       [1., 0., 0., 0., 1.],\n",
              "       [1., 1., 1., 1., 1.]])"
            ]
          },
          "metadata": {},
          "execution_count": 42
        }
      ]
    },
    {
      "cell_type": "markdown",
      "metadata": {
        "id": "bhbrV3gwQdS-"
      },
      "source": [
        "##### Be careful when copying arrays!!!"
      ]
    },
    {
      "cell_type": "code",
      "metadata": {
        "id": "hLv5ficaQdS-",
        "colab": {
          "base_uri": "https://localhost:8080/"
        },
        "outputId": "69c5f5de-7f20-4cbd-f363-e1f289eab9eb"
      },
      "source": [
        "a = np.array([1,2,3])\n",
        "b = a.copy()\n",
        "b[0] = 100\n",
        "\n",
        "print(a)"
      ],
      "execution_count": null,
      "outputs": [
        {
          "output_type": "stream",
          "name": "stdout",
          "text": [
            "[1 2 3]\n"
          ]
        }
      ]
    },
    {
      "cell_type": "code",
      "metadata": {
        "id": "T-l3BUupc3Sz",
        "colab": {
          "base_uri": "https://localhost:8080/"
        },
        "outputId": "4e82b514-2fd3-4b8a-c77a-8f1568e0e49b"
      },
      "source": [
        "print(b)"
      ],
      "execution_count": null,
      "outputs": [
        {
          "output_type": "stream",
          "name": "stdout",
          "text": [
            "[100   2   3]\n"
          ]
        }
      ]
    },
    {
      "cell_type": "markdown",
      "metadata": {
        "id": "m3PdkemvQdTD"
      },
      "source": [
        "*texto en cursiva*### Mathematics"
      ]
    },
    {
      "cell_type": "code",
      "metadata": {
        "id": "oa3f3ZZGQdTH",
        "colab": {
          "base_uri": "https://localhost:8080/"
        },
        "outputId": "1cf21b44-b9cc-4592-adb5-2fb43cb652c1"
      },
      "source": [
        "a = np.array([1,2,3,4])\n",
        "print(a)"
      ],
      "execution_count": null,
      "outputs": [
        {
          "output_type": "stream",
          "name": "stdout",
          "text": [
            "[1 2 3 4]\n"
          ]
        }
      ]
    },
    {
      "cell_type": "code",
      "metadata": {
        "id": "1ZeyOrNPQdTP",
        "colab": {
          "base_uri": "https://localhost:8080/"
        },
        "outputId": "a55c3ee9-7473-4bc9-8b3e-2229374073cd"
      },
      "source": [
        "a + 2"
      ],
      "execution_count": null,
      "outputs": [
        {
          "output_type": "execute_result",
          "data": {
            "text/plain": [
              "array([3, 4, 5, 6])"
            ]
          },
          "metadata": {},
          "execution_count": 51
        }
      ]
    },
    {
      "cell_type": "code",
      "metadata": {
        "id": "YiITcJwzQdTS",
        "colab": {
          "base_uri": "https://localhost:8080/"
        },
        "outputId": "09fa1fdb-fd26-4ec5-ff0c-dc7ea51c3604"
      },
      "source": [
        "a - 2"
      ],
      "execution_count": null,
      "outputs": [
        {
          "output_type": "execute_result",
          "data": {
            "text/plain": [
              "array([-1,  0,  1,  2])"
            ]
          },
          "metadata": {},
          "execution_count": 52
        }
      ]
    },
    {
      "cell_type": "code",
      "metadata": {
        "id": "ov74RozzQdTV",
        "colab": {
          "base_uri": "https://localhost:8080/"
        },
        "outputId": "42ee4887-9a1c-416a-e5ff-3a155f2ae0e6"
      },
      "source": [
        "a * 2"
      ],
      "execution_count": null,
      "outputs": [
        {
          "output_type": "execute_result",
          "data": {
            "text/plain": [
              "array([2, 4, 6, 8])"
            ]
          },
          "metadata": {},
          "execution_count": 53
        }
      ]
    },
    {
      "cell_type": "code",
      "metadata": {
        "id": "05c3WElMQdTe",
        "colab": {
          "base_uri": "https://localhost:8080/"
        },
        "outputId": "2ed50041-8081-4e30-a5f0-5bc7524974e2"
      },
      "source": [
        "a / 2"
      ],
      "execution_count": null,
      "outputs": [
        {
          "output_type": "execute_result",
          "data": {
            "text/plain": [
              "array([0.5, 1. , 1.5, 2. ])"
            ]
          },
          "metadata": {},
          "execution_count": 54
        }
      ]
    },
    {
      "cell_type": "code",
      "metadata": {
        "id": "Bfcu96QZQdTi",
        "colab": {
          "base_uri": "https://localhost:8080/"
        },
        "outputId": "2ce922f9-500f-405d-a38f-912853f9336b"
      },
      "source": [
        "b = np.array([1,0,1,0])\n",
        "a + b"
      ],
      "execution_count": null,
      "outputs": [
        {
          "output_type": "execute_result",
          "data": {
            "text/plain": [
              "array([2, 2, 4, 4])"
            ]
          },
          "metadata": {},
          "execution_count": 55
        }
      ]
    },
    {
      "cell_type": "code",
      "metadata": {
        "id": "Yy41KdKBQdTo",
        "colab": {
          "base_uri": "https://localhost:8080/"
        },
        "outputId": "553f57a3-431c-4a96-c1da-04fc8a5b5cb2"
      },
      "source": [
        "a ** 3"
      ],
      "execution_count": null,
      "outputs": [
        {
          "output_type": "execute_result",
          "data": {
            "text/plain": [
              "array([ 1,  8, 27, 64])"
            ]
          },
          "metadata": {},
          "execution_count": 57
        }
      ]
    },
    {
      "cell_type": "code",
      "metadata": {
        "id": "GTpi7L1jQdTx",
        "colab": {
          "base_uri": "https://localhost:8080/"
        },
        "outputId": "a70db558-ebcb-4878-a431-30b417f14a5b"
      },
      "source": [
        "# Take the sin\n",
        "np.cos(a)\n",
        "\n"
      ],
      "execution_count": null,
      "outputs": [
        {
          "output_type": "execute_result",
          "data": {
            "text/plain": [
              "array([ 0.54030231, -0.41614684, -0.9899925 , -0.65364362])"
            ]
          },
          "metadata": {},
          "execution_count": 58
        }
      ]
    },
    {
      "cell_type": "code",
      "metadata": {
        "id": "ZnhFP9T-QdT1"
      },
      "source": [
        "# For a lot more (https://docs.scipy.org/doc/numpy/reference/routines.math.html)"
      ],
      "execution_count": null,
      "outputs": []
    },
    {
      "cell_type": "markdown",
      "metadata": {
        "id": "WGWBZxVwQdT5"
      },
      "source": [
        "##### Linear Algebra"
      ]
    },
    {
      "cell_type": "code",
      "metadata": {
        "id": "Tr2mV0o2QdT8",
        "colab": {
          "base_uri": "https://localhost:8080/"
        },
        "outputId": "07e4bbbf-65ea-4eca-a1d5-54dae2a6c004"
      },
      "source": [
        "a = np.ones((2,3))\n",
        "print(a)\n",
        "\n",
        "b = np.full((3,2), 2)\n",
        "print(b)\n",
        "\n",
        "np.matmul(a,b)"
      ],
      "execution_count": null,
      "outputs": [
        {
          "output_type": "stream",
          "name": "stdout",
          "text": [
            "[[1. 1. 1.]\n",
            " [1. 1. 1.]]\n",
            "[[2 2]\n",
            " [2 2]\n",
            " [2 2]]\n"
          ]
        },
        {
          "output_type": "execute_result",
          "data": {
            "text/plain": [
              "array([[6., 6.],\n",
              "       [6., 6.]])"
            ]
          },
          "metadata": {},
          "execution_count": 59
        }
      ]
    },
    {
      "cell_type": "code",
      "metadata": {
        "id": "eM1_20qvQdUB",
        "colab": {
          "base_uri": "https://localhost:8080/"
        },
        "outputId": "dae1dbf7-56c8-4299-9e59-84273f3fa7a8"
      },
      "source": [
        "# Find the determinant\n",
        "c = np.identity(3)\n",
        "np.linalg.det(c)"
      ],
      "execution_count": null,
      "outputs": [
        {
          "output_type": "execute_result",
          "data": {
            "text/plain": [
              "1.0"
            ]
          },
          "metadata": {},
          "execution_count": 60
        }
      ]
    },
    {
      "cell_type": "code",
      "metadata": {
        "id": "C-keFvX4QdUG"
      },
      "source": [
        "## Reference docs (https://docs.scipy.org/doc/numpy/reference/routines.linalg.html)\n",
        "\n",
        "# Determinant\n",
        "# Trace\n",
        "# Singular Vector Decomposition\n",
        "# Eigenvalues\n",
        "# Matrix Norm\n",
        "# Inverse\n",
        "# Etc..."
      ],
      "execution_count": null,
      "outputs": []
    },
    {
      "cell_type": "markdown",
      "metadata": {
        "id": "uDesaOBsQdUK"
      },
      "source": [
        "**Statistics**"
      ]
    },
    {
      "cell_type": "code",
      "metadata": {
        "id": "oCJGSZrHQdUL",
        "colab": {
          "base_uri": "https://localhost:8080/"
        },
        "outputId": "af5b9fac-2e96-4060-a08c-a9cb0e739d95"
      },
      "source": [
        "stats = np.array([[1,2,3],[4,5,6]])\n",
        "stats"
      ],
      "execution_count": null,
      "outputs": [
        {
          "output_type": "execute_result",
          "data": {
            "text/plain": [
              "array([[1, 2, 3],\n",
              "       [4, 5, 6]])"
            ]
          },
          "metadata": {},
          "execution_count": 32
        }
      ]
    },
    {
      "cell_type": "code",
      "metadata": {
        "id": "lAeJIVmhQdUU",
        "colab": {
          "base_uri": "https://localhost:8080/"
        },
        "outputId": "2b23ffbe-7d95-4598-f41d-da7ab9a6107d"
      },
      "source": [
        "# puedo usasr los ejes x=0 filas, x=1 columnas o sin parámetro\n",
        "np.min(stats, axis=0)"
      ],
      "execution_count": null,
      "outputs": [
        {
          "output_type": "execute_result",
          "data": {
            "text/plain": [
              "array([1, 2, 3])"
            ]
          },
          "metadata": {},
          "execution_count": 33
        }
      ]
    },
    {
      "cell_type": "code",
      "metadata": {
        "id": "VRlHFPWKQdUZ",
        "colab": {
          "base_uri": "https://localhost:8080/"
        },
        "outputId": "20095428-ea73-4881-ec6d-3478ae10c205"
      },
      "source": [
        "np.max(stats, axis=0)"
      ],
      "execution_count": null,
      "outputs": [
        {
          "output_type": "execute_result",
          "data": {
            "text/plain": [
              "array([4, 5, 6])"
            ]
          },
          "metadata": {},
          "execution_count": 34
        }
      ]
    },
    {
      "cell_type": "code",
      "metadata": {
        "id": "FXAOLgkwQdUg",
        "colab": {
          "base_uri": "https://localhost:8080/"
        },
        "outputId": "4f2ab389-eebc-4310-a4e4-0c8f3b43db1f"
      },
      "source": [
        "np.sum(stats, axis=0)"
      ],
      "execution_count": null,
      "outputs": [
        {
          "output_type": "execute_result",
          "data": {
            "text/plain": [
              "array([5, 7, 9])"
            ]
          },
          "metadata": {},
          "execution_count": 35
        }
      ]
    },
    {
      "cell_type": "markdown",
      "metadata": {
        "id": "MWS3BRQRQdUj"
      },
      "source": [
        "### Reorganizing Arrays\n",
        "\n",
        "igual que antes con las 3d, ejercicios para \"jugar\" y entender mejor las matrices"
      ]
    },
    {
      "cell_type": "code",
      "metadata": {
        "id": "ueq1GFo7QdUl",
        "colab": {
          "base_uri": "https://localhost:8080/"
        },
        "outputId": "5b6ce17b-1465-460a-e08f-833846ec53cf"
      },
      "source": [
        "before = np.array([[1,2,3,4],[5,6,7,8]])\n",
        "print(before)\n",
        "\n",
        "after = before.reshape((4,2))\n",
        "print(after)\n",
        "\n",
        "after = before.reshape((2,2,2))\n",
        "print(after)\n",
        "\n",
        "# es correcto, lo importante es que manejemos los mismos valores"
      ],
      "execution_count": null,
      "outputs": [
        {
          "output_type": "stream",
          "name": "stdout",
          "text": [
            "[[1 2 3 4]\n",
            " [5 6 7 8]]\n",
            "[[1 2]\n",
            " [3 4]\n",
            " [5 6]\n",
            " [7 8]]\n",
            "[[[1 2]\n",
            "  [3 4]]\n",
            "\n",
            " [[5 6]\n",
            "  [7 8]]]\n"
          ]
        }
      ]
    },
    {
      "cell_type": "code",
      "metadata": {
        "id": "D3eALtcWrFW8",
        "colab": {
          "base_uri": "https://localhost:8080/"
        },
        "outputId": "b06016da-b500-4984-d339-5fdb59e50256"
      },
      "source": [
        "before.shape"
      ],
      "execution_count": null,
      "outputs": [
        {
          "output_type": "execute_result",
          "data": {
            "text/plain": [
              "(2, 4)"
            ]
          },
          "metadata": {},
          "execution_count": 66
        }
      ]
    },
    {
      "cell_type": "code",
      "metadata": {
        "id": "vq6idqwvQdUo",
        "colab": {
          "base_uri": "https://localhost:8080/"
        },
        "outputId": "08be56f6-716f-45d9-a5b9-e7d6f2f66d6d"
      },
      "source": [
        "# Vertically stacking vectors\n",
        "v1 = np.array([1,2,3,4])\n",
        "v2 = np.array([5,6,7,8])\n",
        "\n",
        "np.vstack([v1,v2,v1,v2])"
      ],
      "execution_count": null,
      "outputs": [
        {
          "output_type": "execute_result",
          "data": {
            "text/plain": [
              "array([[1, 2, 3, 4],\n",
              "       [5, 6, 7, 8],\n",
              "       [1, 2, 3, 4],\n",
              "       [5, 6, 7, 8]])"
            ]
          },
          "metadata": {},
          "execution_count": 67
        }
      ]
    },
    {
      "cell_type": "code",
      "metadata": {
        "id": "SGqIB8xVQdUr",
        "colab": {
          "base_uri": "https://localhost:8080/"
        },
        "outputId": "3a82684b-ecb8-4642-c8ac-d5ab42c94880"
      },
      "source": [
        "# Horizontal  stack\n",
        "h1 = np.ones((2,4))\n",
        "h2 = np.zeros((2,2))\n",
        "\n",
        "print(h1)\n",
        "print(h2)\n",
        "np.hstack((h1,h2))"
      ],
      "execution_count": null,
      "outputs": [
        {
          "output_type": "stream",
          "name": "stdout",
          "text": [
            "[[1. 1. 1. 1.]\n",
            " [1. 1. 1. 1.]]\n",
            "[[0. 0.]\n",
            " [0. 0.]]\n"
          ]
        },
        {
          "output_type": "execute_result",
          "data": {
            "text/plain": [
              "array([[1., 1., 1., 1., 0., 0.],\n",
              "       [1., 1., 1., 1., 0., 0.]])"
            ]
          },
          "metadata": {},
          "execution_count": 69
        }
      ]
    },
    {
      "cell_type": "markdown",
      "metadata": {
        "id": "I5QdpveJQdUx"
      },
      "source": [
        "### Miscellaneous\n",
        "##### Load Data from File\n",
        "\n",
        "en este punto usaremos pandas para recoger datos\n",
        "pero en este punto vamos a imaginar que lo queremos cargar en numpy"
      ]
    },
    {
      "cell_type": "code",
      "metadata": {
        "id": "xDVGINsqCQP0",
        "colab": {
          "base_uri": "https://localhost:8080/"
        },
        "outputId": "d71706c4-48f1-4233-deb1-00d96ed08ee3"
      },
      "source": [
        "!ls"
      ],
      "execution_count": null,
      "outputs": [
        {
          "output_type": "stream",
          "name": "stdout",
          "text": [
            "sample_data\n"
          ]
        }
      ]
    },
    {
      "cell_type": "code",
      "metadata": {
        "id": "cgMIPUHWjlFM"
      },
      "source": [
        "montar drive"
      ],
      "execution_count": null,
      "outputs": []
    },
    {
      "cell_type": "code",
      "metadata": {
        "colab": {
          "base_uri": "https://localhost:8080/"
        },
        "id": "Kv5h8M8ejiPY",
        "outputId": "53beef28-0f80-4a4c-b9b7-3ee70470b4b4"
      },
      "source": [
        "from google.colab import drive\n",
        "drive.mount('/content/drive')"
      ],
      "execution_count": null,
      "outputs": [
        {
          "output_type": "stream",
          "name": "stdout",
          "text": [
            "Mounted at /content/drive\n"
          ]
        }
      ]
    },
    {
      "cell_type": "code",
      "metadata": {
        "id": "SpLVtiYUkA39"
      },
      "source": [
        "# ruta\n",
        "\n",
        "/content/drive/MyDrive/uni/Docencia/Colab Notebooks/DataScience/ITBD/data/data.txt"
      ],
      "execution_count": null,
      "outputs": []
    },
    {
      "cell_type": "markdown",
      "metadata": {
        "id": "HYpNNjBYDm4l"
      },
      "source": [
        "Hay que revisar si están los ficheros de los ejemplos, siempre estaremos por defecto en el directorio /content\n",
        "\n",
        "importamos los ficheros que queramos usando:\n",
        "\n",
        "\n",
        "*   from google.colab import files\n",
        "\n",
        "*   file=files.upload()"
      ]
    },
    {
      "cell_type": "code",
      "metadata": {
        "id": "TDyNRNkMDomP",
        "colab": {
          "resources": {
            "http://localhost:8080/nbextensions/google.colab/files.js": {
              "data": "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",
              "ok": true,
              "headers": [
                [
                  "content-type",
                  "application/javascript"
                ]
              ],
              "status": 200,
              "status_text": ""
            }
          },
          "base_uri": "https://localhost:8080/",
          "height": 73
        },
        "outputId": "121425bc-2ab0-4c5a-9904-09fd59fdd97c"
      },
      "source": [
        "from google.colab import files\n",
        "file=files.upload()"
      ],
      "execution_count": null,
      "outputs": [
        {
          "output_type": "display_data",
          "data": {
            "text/html": [
              "\n",
              "     <input type=\"file\" id=\"files-1743de68-54bf-4965-b38f-e5709c8eec12\" name=\"files[]\" multiple disabled\n",
              "        style=\"border:none\" />\n",
              "     <output id=\"result-1743de68-54bf-4965-b38f-e5709c8eec12\">\n",
              "      Upload widget is only available when the cell has been executed in the\n",
              "      current browser session. Please rerun this cell to enable.\n",
              "      </output>\n",
              "      <script src=\"/nbextensions/google.colab/files.js\"></script> "
            ],
            "text/plain": [
              "<IPython.core.display.HTML object>"
            ]
          },
          "metadata": {
            "tags": []
          }
        },
        {
          "output_type": "stream",
          "text": [
            "Saving data.txt to data.txt\n"
          ],
          "name": "stdout"
        }
      ]
    },
    {
      "cell_type": "code",
      "metadata": {
        "id": "F9y2AjfqQdUz",
        "colab": {
          "base_uri": "https://localhost:8080/"
        },
        "outputId": "2fed7860-0252-41db-d57d-5dd0fe162b7c"
      },
      "source": [
        "filedata = np.genfromtxt('/content/drive/MyDrive/uni/Docencia/Colab Notebooks/DataScience/ITBD/data/data.txt')\n",
        "filedata = filedata.astype('int32')   # como directamente lo incorpora como float lo podemos convertir\n",
        "print(filedata)"
      ],
      "execution_count": null,
      "outputs": [
        {
          "output_type": "stream",
          "name": "stdout",
          "text": [
            "[[  1  13  21  11 196  75   4   3  34   6   7   8   0   1   2   3   4   5]\n",
            " [  3  42  12  33 766  75   4  55   6   4   3   4   5   6   7   0  11  12]\n",
            " [  1  22  33  11 999  11   2   1  78   0   1   2   9   8   7   1  76  88]]\n"
          ]
        }
      ]
    },
    {
      "cell_type": "markdown",
      "metadata": {
        "id": "b6-xbIQ5solx"
      },
      "source": [
        "**lo importante es ver que ya importamos datos**"
      ]
    },
    {
      "cell_type": "markdown",
      "metadata": {
        "id": "MJHqDGrHQdU4"
      },
      "source": [
        "##### Boolean Masking and Advanced Indexing\n",
        "\n",
        "operaciones sobre los arrays"
      ]
    },
    {
      "cell_type": "code",
      "metadata": {
        "id": "RbX9sILvtNzB",
        "colab": {
          "base_uri": "https://localhost:8080/"
        },
        "outputId": "05f69297-6ba6-4154-9093-41abe9414b95"
      },
      "source": [
        "(filedata > 50)"
      ],
      "execution_count": null,
      "outputs": [
        {
          "output_type": "execute_result",
          "data": {
            "text/plain": [
              "array([[False, False, False, False,  True,  True, False, False, False,\n",
              "        False, False, False, False, False, False, False, False, False],\n",
              "       [False, False, False, False,  True,  True, False,  True, False,\n",
              "        False, False, False, False, False, False, False, False, False],\n",
              "       [False, False, False, False,  True, False, False, False,  True,\n",
              "        False, False, False, False, False, False, False,  True,  True]])"
            ]
          },
          "metadata": {},
          "execution_count": 73
        }
      ]
    },
    {
      "cell_type": "code",
      "metadata": {
        "id": "Bo9EhUq3tT0y",
        "colab": {
          "base_uri": "https://localhost:8080/"
        },
        "outputId": "d818f92d-24a4-4c64-f45e-fb06d6044380"
      },
      "source": [
        "filedata[filedata>50]"
      ],
      "execution_count": null,
      "outputs": [
        {
          "output_type": "execute_result",
          "data": {
            "text/plain": [
              "array([196,  75, 766,  75,  55, 999,  78,  76,  88], dtype=int32)"
            ]
          },
          "metadata": {},
          "execution_count": 74
        }
      ]
    },
    {
      "cell_type": "code",
      "metadata": {
        "id": "OWMJTN0wQdU4",
        "colab": {
          "base_uri": "https://localhost:8080/"
        },
        "outputId": "d3d54772-936f-4511-ec17-9ed199b9795f"
      },
      "source": [
        "(~((filedata > 50) & (filedata < 100)))"
      ],
      "execution_count": null,
      "outputs": [
        {
          "output_type": "execute_result",
          "data": {
            "text/plain": [
              "array([[ True,  True,  True,  True,  True, False,  True,  True,  True,\n",
              "         True,  True,  True,  True,  True,  True,  True,  True,  True],\n",
              "       [ True,  True,  True,  True,  True, False,  True, False,  True,\n",
              "         True,  True,  True,  True,  True,  True,  True,  True,  True],\n",
              "       [ True,  True,  True,  True,  True,  True,  True,  True, False,\n",
              "         True,  True,  True,  True,  True,  True,  True, False, False]])"
            ]
          },
          "metadata": {},
          "execution_count": 75
        }
      ]
    },
    {
      "cell_type": "markdown",
      "metadata": {
        "id": "z5O7LX0Utf3w"
      },
      "source": [
        "indexando con listas en Numpy, los puede tomar como true y false"
      ]
    },
    {
      "cell_type": "code",
      "metadata": {
        "id": "CsBxUS1HQdVC",
        "colab": {
          "base_uri": "https://localhost:8080/"
        },
        "outputId": "cbc05142-57e4-4173-9db8-85b9fe67dd46"
      },
      "source": [
        "a = np.array([1,2,3,4,5,6,7,8,9])\n",
        "a[[1,2, 6]]"
      ],
      "execution_count": null,
      "outputs": [
        {
          "output_type": "execute_result",
          "data": {
            "text/plain": [
              "array([2, 3, 7])"
            ]
          },
          "metadata": {},
          "execution_count": 76
        }
      ]
    },
    {
      "cell_type": "code",
      "metadata": {
        "id": "dXubWzzQQdVE",
        "colab": {
          "base_uri": "https://localhost:8080/"
        },
        "outputId": "b33a8437-f2a6-4477-a0c1-9bdb2fe86810"
      },
      "source": [
        "np.all(filedata>50, axis=0)"
      ],
      "execution_count": null,
      "outputs": [
        {
          "output_type": "execute_result",
          "data": {
            "text/plain": [
              "array([False, False, False, False,  True, False, False, False, False,\n",
              "       False, False, False, False, False, False, False, False, False])"
            ]
          },
          "metadata": {},
          "execution_count": 77
        }
      ]
    },
    {
      "cell_type": "markdown",
      "metadata": {
        "id": "n7-s6i9qt_uj"
      },
      "source": [
        "# **Ejercicios**"
      ]
    },
    {
      "cell_type": "code",
      "metadata": {
        "id": "GOc-yQz6QdVK",
        "colab": {
          "base_uri": "https://localhost:8080/"
        },
        "outputId": "efa47a4f-a899-4be0-b820-ba506cffa8c0"
      },
      "source": [
        "c=np.array([[1,2,3,4,5], [6,7,8,9,10],[11,12,13,14,15],[16,17,18,19,20],[21,22,23,24,25],[26,27,28,29,30]])\n",
        "c"
      ],
      "execution_count": null,
      "outputs": [
        {
          "output_type": "execute_result",
          "data": {
            "text/plain": [
              "array([[ 1,  2,  3,  4,  5],\n",
              "       [ 6,  7,  8,  9, 10],\n",
              "       [11, 12, 13, 14, 15],\n",
              "       [16, 17, 18, 19, 20],\n",
              "       [21, 22, 23, 24, 25],\n",
              "       [26, 27, 28, 29, 30]])"
            ]
          },
          "metadata": {},
          "execution_count": 36
        }
      ]
    },
    {
      "cell_type": "markdown",
      "metadata": {
        "id": "bBN7elmYuXdR"
      },
      "source": [
        "![numpy01.PNG](data:image/png;base64,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)"
      ]
    },
    {
      "cell_type": "code",
      "metadata": {
        "id": "kn7lkzSgILBY",
        "colab": {
          "base_uri": "https://localhost:8080/"
        },
        "outputId": "00a714d0-0f75-4caf-d8ab-6d5ad77e8f8d"
      },
      "source": [
        "#print(c.shape)\n",
        "print(c[2:4, 0:2])  # excluyentes los endindex\n"
      ],
      "execution_count": null,
      "outputs": [
        {
          "output_type": "stream",
          "name": "stdout",
          "text": [
            "[[11 12]\n",
            " [16 17]]\n"
          ]
        }
      ]
    },
    {
      "cell_type": "markdown",
      "metadata": {
        "id": "hyNI8KC2xGSG"
      },
      "source": [
        "![numpy02.PNG](data:image/png;base64,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)"
      ]
    },
    {
      "cell_type": "code",
      "metadata": {
        "id": "6WDsQverQdVN",
        "colab": {
          "base_uri": "https://localhost:8080/"
        },
        "outputId": "f7bd6e13-c4f8-44d6-de90-289c46b5abee"
      },
      "source": [
        "print(c[[0,1,2,3],[1,2,3,4]]) # uso dos diferentes listas\n",
        "                              # no son rangos, no es excluyente"
      ],
      "execution_count": null,
      "outputs": [
        {
          "output_type": "stream",
          "name": "stdout",
          "text": [
            "[ 2  8 14 20]\n"
          ]
        }
      ]
    },
    {
      "cell_type": "code",
      "metadata": {
        "id": "avgCGdjAxea7",
        "colab": {
          "base_uri": "https://localhost:8080/"
        },
        "outputId": "93bff3dc-147a-4a12-8bc7-430c61e9bb1b"
      },
      "source": [
        "c.diagonal()"
      ],
      "execution_count": null,
      "outputs": [
        {
          "output_type": "execute_result",
          "data": {
            "text/plain": [
              "array([ 1,  7, 13, 19, 25])"
            ]
          },
          "metadata": {},
          "execution_count": 82
        }
      ]
    },
    {
      "cell_type": "code",
      "metadata": {
        "id": "ZVTyoSo0QdVQ",
        "colab": {
          "base_uri": "https://localhost:8080/"
        },
        "outputId": "840bd184-b565-4197-9913-aff86d2c6742"
      },
      "source": [
        "print(c[[0,1,2,3,4],[0,1,2,3,4]])  # toda la diagonal, lo mismo"
      ],
      "execution_count": null,
      "outputs": [
        {
          "output_type": "stream",
          "name": "stdout",
          "text": [
            "[ 1  7 13 19 25]\n"
          ]
        }
      ]
    },
    {
      "cell_type": "markdown",
      "metadata": {
        "id": "raftaAIFxLw5"
      },
      "source": [
        "![numpy03.PNG](data:image/png;base64,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)"
      ]
    },
    {
      "cell_type": "code",
      "metadata": {
        "id": "KR_NYNsUu2_C",
        "colab": {
          "base_uri": "https://localhost:8080/"
        },
        "outputId": "57c4aef9-3748-402f-f17d-aa1b312a0b4b"
      },
      "source": [
        "print(c[[0,4,5],3:])    # son las mismas columnas 4 y 5 --> índice 3:"
      ],
      "execution_count": null,
      "outputs": [
        {
          "output_type": "stream",
          "name": "stdout",
          "text": [
            "[[ 4  5]\n",
            " [24 25]\n",
            " [29 30]]\n"
          ]
        }
      ]
    },
    {
      "cell_type": "markdown",
      "metadata": {
        "id": "fjIoMSRrwlYV"
      },
      "source": [
        "hay que tener en cuenta de siempre separar filas y columnas por ,"
      ]
    },
    {
      "cell_type": "code",
      "metadata": {
        "id": "NSUxdv0Mu3gb"
      },
      "source": [],
      "execution_count": null,
      "outputs": []
    }
  ]
}